{
  "nbformat": 4,
  "nbformat_minor": 0,
  "metadata": {
    "colab": {
      "name": "Lesson8.ipynb",
      "provenance": [],
      "collapsed_sections": []
    },
    "kernelspec": {
      "name": "python3",
      "display_name": "Python 3"
    },
    "language_info": {
      "name": "python"
    },
    "accelerator": "GPU"
  },
  "cells": [
    {
      "cell_type": "markdown",
      "metadata": {
        "id": "D1Gio0uCYJf1"
      },
      "source": [
        "# Рекуррентные нейронные сети RNN LSTM GRU"
      ]
    },
    {
      "cell_type": "code",
      "metadata": {
        "colab": {
          "base_uri": "https://localhost:8080/"
        },
        "id": "zaQsDV0yWuoM",
        "outputId": "6e682c02-eb17-45af-cd6c-d09a01c3178d"
      },
      "source": [
        "!pip install pymorphy2"
      ],
      "execution_count": 1,
      "outputs": [
        {
          "output_type": "stream",
          "text": [
            "Collecting pymorphy2\n",
            "  Downloading pymorphy2-0.9.1-py3-none-any.whl (55 kB)\n",
            "\u001b[?25l\r\u001b[K     |██████                          | 10 kB 27.2 MB/s eta 0:00:01\r\u001b[K     |███████████▉                    | 20 kB 30.3 MB/s eta 0:00:01\r\u001b[K     |█████████████████▊              | 30 kB 22.6 MB/s eta 0:00:01\r\u001b[K     |███████████████████████▋        | 40 kB 17.5 MB/s eta 0:00:01\r\u001b[K     |█████████████████████████████▌  | 51 kB 8.8 MB/s eta 0:00:01\r\u001b[K     |████████████████████████████████| 55 kB 3.1 MB/s \n",
            "\u001b[?25hRequirement already satisfied: docopt>=0.6 in /usr/local/lib/python3.7/dist-packages (from pymorphy2) (0.6.2)\n",
            "Collecting pymorphy2-dicts-ru<3.0,>=2.4\n",
            "  Downloading pymorphy2_dicts_ru-2.4.417127.4579844-py2.py3-none-any.whl (8.2 MB)\n",
            "\u001b[K     |████████████████████████████████| 8.2 MB 11.3 MB/s \n",
            "\u001b[?25hCollecting dawg-python>=0.7.1\n",
            "  Downloading DAWG_Python-0.7.2-py2.py3-none-any.whl (11 kB)\n",
            "Installing collected packages: pymorphy2-dicts-ru, dawg-python, pymorphy2\n",
            "Successfully installed dawg-python-0.7.2 pymorphy2-0.9.1 pymorphy2-dicts-ru-2.4.417127.4579844\n"
          ],
          "name": "stdout"
        }
      ]
    },
    {
      "cell_type": "code",
      "metadata": {
        "colab": {
          "base_uri": "https://localhost:8080/"
        },
        "id": "ZTUhaCdYYtuG",
        "outputId": "8b6b688c-41f0-4709-8f3e-26918c5aa655"
      },
      "source": [
        "!pip install stop-words"
      ],
      "execution_count": 2,
      "outputs": [
        {
          "output_type": "stream",
          "text": [
            "Collecting stop-words\n",
            "  Downloading stop-words-2018.7.23.tar.gz (31 kB)\n",
            "Building wheels for collected packages: stop-words\n",
            "  Building wheel for stop-words (setup.py) ... \u001b[?25l\u001b[?25hdone\n",
            "  Created wheel for stop-words: filename=stop_words-2018.7.23-py3-none-any.whl size=32911 sha256=f00fa637183fedb1fc7565de886c67af115e31e56c3484603a966dec1c5a3b3c\n",
            "  Stored in directory: /root/.cache/pip/wheels/fb/86/b2/277b10b1ce9f73ce15059bf6975d4547cc4ec3feeb651978e9\n",
            "Successfully built stop-words\n",
            "Installing collected packages: stop-words\n",
            "Successfully installed stop-words-2018.7.23\n"
          ],
          "name": "stdout"
        }
      ]
    },
    {
      "cell_type": "code",
      "metadata": {
        "id": "XE_7zwZ5Ytw1"
      },
      "source": [
        "# попробуем запрограммировать простую рекурентную сеть. Возьмем датасет с прошлого занятия\n",
        "\n",
        "import pandas as pd\n",
        "from string import punctuation\n",
        "from stop_words import get_stop_words\n",
        "from pymorphy2 import MorphAnalyzer\n",
        "import re"
      ],
      "execution_count": 3,
      "outputs": []
    },
    {
      "cell_type": "code",
      "metadata": {
        "id": "eskn82eqYt0D"
      },
      "source": [
        "df_train = pd.read_csv(\"../content/drive/MyDrive/data/train.csv\")\n",
        "df_test = pd.read_csv(\"../content/drive/MyDrive/data/test.csv\")\n",
        "df_val = pd.read_csv(\"../content/drive/MyDrive/data/val.csv\")"
      ],
      "execution_count": 4,
      "outputs": []
    },
    {
      "cell_type": "code",
      "metadata": {
        "colab": {
          "base_uri": "https://localhost:8080/",
          "height": 204
        },
        "id": "8JKKWLdlZJBm",
        "outputId": "58bc80fc-3e7f-427f-991b-26ba3e2d71a8"
      },
      "source": [
        "df_train.head()"
      ],
      "execution_count": 5,
      "outputs": [
        {
          "output_type": "execute_result",
          "data": {
            "text/html": [
              "<div>\n",
              "<style scoped>\n",
              "    .dataframe tbody tr th:only-of-type {\n",
              "        vertical-align: middle;\n",
              "    }\n",
              "\n",
              "    .dataframe tbody tr th {\n",
              "        vertical-align: top;\n",
              "    }\n",
              "\n",
              "    .dataframe thead th {\n",
              "        text-align: right;\n",
              "    }\n",
              "</style>\n",
              "<table border=\"1\" class=\"dataframe\">\n",
              "  <thead>\n",
              "    <tr style=\"text-align: right;\">\n",
              "      <th></th>\n",
              "      <th>id</th>\n",
              "      <th>text</th>\n",
              "      <th>class</th>\n",
              "    </tr>\n",
              "  </thead>\n",
              "  <tbody>\n",
              "    <tr>\n",
              "      <th>0</th>\n",
              "      <td>0</td>\n",
              "      <td>@alisachachka не уезжаааааааай. :(❤ я тоже не ...</td>\n",
              "      <td>0</td>\n",
              "    </tr>\n",
              "    <tr>\n",
              "      <th>1</th>\n",
              "      <td>1</td>\n",
              "      <td>RT @GalyginVadim: Ребята и девчата!\\nВсе в кин...</td>\n",
              "      <td>1</td>\n",
              "    </tr>\n",
              "    <tr>\n",
              "      <th>2</th>\n",
              "      <td>2</td>\n",
              "      <td>RT @ARTEM_KLYUSHIN: Кто ненавидит пробки ретви...</td>\n",
              "      <td>0</td>\n",
              "    </tr>\n",
              "    <tr>\n",
              "      <th>3</th>\n",
              "      <td>3</td>\n",
              "      <td>RT @epupybobv: Хочется котлету по-киевски. Зап...</td>\n",
              "      <td>1</td>\n",
              "    </tr>\n",
              "    <tr>\n",
              "      <th>4</th>\n",
              "      <td>4</td>\n",
              "      <td>@KarineKurganova @Yess__Boss босапопа есбоса н...</td>\n",
              "      <td>1</td>\n",
              "    </tr>\n",
              "  </tbody>\n",
              "</table>\n",
              "</div>"
            ],
            "text/plain": [
              "   id                                               text  class\n",
              "0   0  @alisachachka не уезжаааааааай. :(❤ я тоже не ...      0\n",
              "1   1  RT @GalyginVadim: Ребята и девчата!\\nВсе в кин...      1\n",
              "2   2  RT @ARTEM_KLYUSHIN: Кто ненавидит пробки ретви...      0\n",
              "3   3  RT @epupybobv: Хочется котлету по-киевски. Зап...      1\n",
              "4   4  @KarineKurganova @Yess__Boss босапопа есбоса н...      1"
            ]
          },
          "metadata": {
            "tags": []
          },
          "execution_count": 5
        }
      ]
    },
    {
      "cell_type": "code",
      "metadata": {
        "id": "oKGM85zhZdsY"
      },
      "source": [
        "sw = set(get_stop_words(\"ru\"))\n",
        "exclude = set(punctuation)\n",
        "morpher = MorphAnalyzer()\n",
        "\n",
        "def preprocess_text(txt):\n",
        "    txt = str(txt)\n",
        "    txt = \"\".join(c for c in txt if c not in exclude)\n",
        "    txt = txt.lower()\n",
        "    txt = re.sub(\"\\sне\", \"не\", txt)\n",
        "    txt = [morpher.parse(word)[0].normal_form for word in txt.split() if word not in sw]\n",
        "    return \" \".join(txt)\n",
        "\n",
        "df_train['text'] = df_train['text'].apply(preprocess_text)\n",
        "df_val['text'] = df_val['text'].apply(preprocess_text)\n",
        "df_test['text'] = df_test['text'].apply(preprocess_text)"
      ],
      "execution_count": 6,
      "outputs": []
    },
    {
      "cell_type": "code",
      "metadata": {
        "id": "558jS8hiZeRE"
      },
      "source": [
        "import matplotlib.pyplot as plt\n",
        "import tensorflow as tf\n",
        "\n",
        "import numpy as np\n",
        "#import keras\n",
        "from tensorflow.keras.models import Sequential, Model\n",
        "from tensorflow.keras.layers import Dense, Dropout, Activation, Input, Embedding, Conv1D, GlobalMaxPool1D, concatenate, Flatten, add, MaxPool1D\n",
        "from tensorflow.keras.layers import SimpleRNN, LSTM, GRU, Masking, Bidirectional, GlobalAveragePooling1D, GlobalMaxPooling1D, TimeDistributed, AveragePooling1D\n",
        "from tensorflow.keras.preprocessing.text import Tokenizer\n",
        "from tensorflow.keras.preprocessing.sequence import pad_sequences\n",
        "from tensorflow.keras.callbacks import TensorBoard \n",
        "from tensorflow.keras.losses import categorical_crossentropy\n",
        "from tensorflow.keras.callbacks import EarlyStopping"
      ],
      "execution_count": 8,
      "outputs": []
    },
    {
      "cell_type": "code",
      "metadata": {
        "id": "ppR5x4kFZeTx"
      },
      "source": [
        "text_corpus_train = df_train['text'].values\n",
        "text_corpus_valid = df_val['text'].values\n",
        "text_corpus_test = df_test['text'].values"
      ],
      "execution_count": 9,
      "outputs": []
    },
    {
      "cell_type": "code",
      "metadata": {
        "id": "VgJQH_S8ZeWX"
      },
      "source": [
        "tokenizer = Tokenizer(num_words=None, \n",
        "                     filters='#$%&()*+-<=>@[\\\\]^_`{|}~\\t\\n',\n",
        "                     lower = False, split = ' ')\n",
        "tokenizer.fit_on_texts(text_corpus_train)\n",
        "\n",
        "sequences_train = tokenizer.texts_to_sequences(text_corpus_train)\n",
        "sequences_val = tokenizer.texts_to_sequences(text_corpus_valid)\n",
        "sequences_test = tokenizer.texts_to_sequences(text_corpus_test)\n",
        "\n",
        "word_count = len(tokenizer.index_word) + 1\n",
        "training_length = max([len(i.split()) for i in text_corpus_train])\n",
        "\n",
        "X_train = pad_sequences(sequences_train, maxlen=training_length)\n",
        "X_valid = pad_sequences(sequences_val, maxlen=training_length)"
      ],
      "execution_count": 10,
      "outputs": []
    },
    {
      "cell_type": "code",
      "metadata": {
        "id": "PMxu2uPyZeY-"
      },
      "source": [
        "y_train = df_train['class'].values\n",
        "y_val = df_val['class'].values"
      ],
      "execution_count": 11,
      "outputs": []
    },
    {
      "cell_type": "code",
      "metadata": {
        "id": "VQlGp8CdZebx"
      },
      "source": [
        "def plot_history(history):\n",
        "    \n",
        "    fig, (ax1, ax2) = plt.subplots(1, 2, figsize=(14, 4))\n",
        "       \n",
        "    ax1.plot(history.history['accuracy'])\n",
        "    ax1.plot(history.history['val_accuracy'])\n",
        "    ax1.set_title('model accuracy')\n",
        "    ax1.set(xlabel='epoch', ylabel='accuracy')\n",
        "    ax1.legend(['train', 'test'], loc='upper left')\n",
        "    \n",
        "    ax2.plot(history.history['loss'])\n",
        "    ax2.plot(history.history['val_loss'])\n",
        "    ax2.set_title('model loss')\n",
        "    ax2.set(xlabel='epoch', ylabel='loss')\n",
        "    ax2.legend(['train', 'test'], loc='upper left')"
      ],
      "execution_count": 12,
      "outputs": []
    },
    {
      "cell_type": "markdown",
      "metadata": {
        "id": "MDn5BHbWcslo"
      },
      "source": [
        "## CNN"
      ]
    },
    {
      "cell_type": "code",
      "metadata": {
        "colab": {
          "base_uri": "https://localhost:8080/"
        },
        "id": "nTMatSpyZeeb",
        "outputId": "fac91f72-8c8c-44af-c58f-70dd746698aa"
      },
      "source": [
        "inputs = Input(shape=(X_train.shape[1],))\n",
        "\n",
        "x =     Embedding(input_dim=word_count,\n",
        "              input_length=training_length,\n",
        "              output_dim=30,\n",
        "              trainable=True,\n",
        "              mask_zero=True)(inputs)\n",
        "\n",
        "x = Conv1D(128, 3, activation='relu')(x)\n",
        "\n",
        "x = GlobalMaxPool1D()(x)\n",
        "#x = Flatten()(x)\n",
        "x = Dense(64, activation='relu')(x)\n",
        "x = Dropout(0.5)(x)\n",
        "x = Dense(1, activation='sigmoid')(x)\n",
        "\n",
        "\n",
        "\n",
        "model = Model(inputs=inputs, outputs=x)\n",
        "model.summary()\n",
        "model.compile(optimizer='adam', loss='binary_crossentropy', metrics=['accuracy'])"
      ],
      "execution_count": 13,
      "outputs": [
        {
          "output_type": "stream",
          "text": [
            "Model: \"model\"\n",
            "_________________________________________________________________\n",
            "Layer (type)                 Output Shape              Param #   \n",
            "=================================================================\n",
            "input_1 (InputLayer)         [(None, 27)]              0         \n",
            "_________________________________________________________________\n",
            "embedding (Embedding)        (None, 27, 30)            7743240   \n",
            "_________________________________________________________________\n",
            "conv1d (Conv1D)              (None, 25, 128)           11648     \n",
            "_________________________________________________________________\n",
            "global_max_pooling1d (Global (None, 128)               0         \n",
            "_________________________________________________________________\n",
            "dense (Dense)                (None, 64)                8256      \n",
            "_________________________________________________________________\n",
            "dropout (Dropout)            (None, 64)                0         \n",
            "_________________________________________________________________\n",
            "dense_1 (Dense)              (None, 1)                 65        \n",
            "=================================================================\n",
            "Total params: 7,763,209\n",
            "Trainable params: 7,763,209\n",
            "Non-trainable params: 0\n",
            "_________________________________________________________________\n"
          ],
          "name": "stdout"
        }
      ]
    },
    {
      "cell_type": "code",
      "metadata": {
        "colab": {
          "base_uri": "https://localhost:8080/",
          "height": 431
        },
        "id": "11RIH8dOZeg1",
        "outputId": "0bee454e-9960-4e01-af9d-486b119f5741"
      },
      "source": [
        "callback = tf.keras.callbacks.EarlyStopping(monitor='val_accuracy', patience=3, restore_best_weights=True)\n",
        "\n",
        "history = model.fit(X_train, y_train, batch_size=128*2, epochs=25, \n",
        "          validation_data=(X_valid, y_val), callbacks=[callback], verbose=1)\n",
        "plot_history(history)"
      ],
      "execution_count": 14,
      "outputs": [
        {
          "output_type": "stream",
          "text": [
            "Epoch 1/25\n",
            "709/709 [==============================] - 85s 75ms/step - loss: 0.5403 - accuracy: 0.7166 - val_loss: 0.5105 - val_accuracy: 0.7463\n",
            "Epoch 2/25\n",
            "709/709 [==============================] - 54s 76ms/step - loss: 0.2906 - accuracy: 0.8817 - val_loss: 0.5842 - val_accuracy: 0.7405\n",
            "Epoch 3/25\n",
            "709/709 [==============================] - 53s 75ms/step - loss: 0.1053 - accuracy: 0.9631 - val_loss: 0.7976 - val_accuracy: 0.7276\n",
            "Epoch 4/25\n",
            "709/709 [==============================] - 52s 74ms/step - loss: 0.0441 - accuracy: 0.9858 - val_loss: 0.9761 - val_accuracy: 0.7209\n"
          ],
          "name": "stdout"
        },
        {
          "output_type": "display_data",
          "data": {
            "image/png": "[encoded data removed]",
            "text/plain": [
              "<Figure size 1008x288 with 2 Axes>"
            ]
          },
          "metadata": {
            "tags": [],
            "needs_background": "light"
          }
        }
      ]
    },
    {
      "cell_type": "code",
      "metadata": {
        "colab": {
          "base_uri": "https://localhost:8080/"
        },
        "id": "btdHE2VsZejR",
        "outputId": "d42d7335-2429-467c-cc5f-7bbb33a8b846"
      },
      "source": [
        "model.evaluate(X_valid, y_val)"
      ],
      "execution_count": 15,
      "outputs": [
        {
          "output_type": "stream",
          "text": [
            "709/709 [==============================] - 1s 2ms/step - loss: 0.5046 - accuracy: 0.7473\n"
          ],
          "name": "stdout"
        },
        {
          "output_type": "execute_result",
          "data": {
            "text/plain": [
              "[0.5045841336250305, 0.7472556829452515]"
            ]
          },
          "metadata": {
            "tags": []
          },
          "execution_count": 15
        }
      ]
    },
    {
      "cell_type": "markdown",
      "metadata": {
        "id": "pGHDSmV4egfK"
      },
      "source": [
        "## SimpleRNN"
      ]
    },
    {
      "cell_type": "code",
      "metadata": {
        "colab": {
          "base_uri": "https://localhost:8080/"
        },
        "id": "JI19lQsaef9t",
        "outputId": "2b839580-8502-4795-f29a-4c76f6700bce"
      },
      "source": [
        "inputs = Input(shape=(X_train.shape[1],))\n",
        "\n",
        "x =     Embedding(input_dim=word_count,\n",
        "              input_length=training_length,\n",
        "              output_dim=30,\n",
        "              trainable=True,\n",
        "              mask_zero=True)(inputs)\n",
        "\n",
        "x = SimpleRNN(64)(x)\n",
        "x = Dense(64, activation='relu')(x)\n",
        "x = Dropout(0.5)(x)\n",
        "x = Dense(1, activation='sigmoid')(x)\n",
        "\n",
        "model = Model(inputs=inputs, outputs=x)\n",
        "model.summary()\n",
        "model.compile(optimizer='adam', loss='binary_crossentropy', metrics=['accuracy'])"
      ],
      "execution_count": 15,
      "outputs": [
        {
          "output_type": "stream",
          "text": [
            "Model: \"model_1\"\n",
            "_________________________________________________________________\n",
            "Layer (type)                 Output Shape              Param #   \n",
            "=================================================================\n",
            "input_2 (InputLayer)         [(None, 27)]              0         \n",
            "_________________________________________________________________\n",
            "embedding_1 (Embedding)      (None, 27, 30)            7743240   \n",
            "_________________________________________________________________\n",
            "simple_rnn (SimpleRNN)       (None, 64)                6080      \n",
            "_________________________________________________________________\n",
            "dense_2 (Dense)              (None, 64)                4160      \n",
            "_________________________________________________________________\n",
            "dropout_1 (Dropout)          (None, 64)                0         \n",
            "_________________________________________________________________\n",
            "dense_3 (Dense)              (None, 1)                 65        \n",
            "=================================================================\n",
            "Total params: 7,753,545\n",
            "Trainable params: 7,753,545\n",
            "Non-trainable params: 0\n",
            "_________________________________________________________________\n"
          ],
          "name": "stdout"
        }
      ]
    },
    {
      "cell_type": "code",
      "metadata": {
        "colab": {
          "base_uri": "https://localhost:8080/",
          "height": 431
        },
        "id": "Q52Twvu0egAa",
        "outputId": "641ef35e-80c6-43aa-aa55-7dc0132eddce"
      },
      "source": [
        "callback = tf.keras.callbacks.EarlyStopping(monitor='val_accuracy', patience=3, restore_best_weights=True)\n",
        "\n",
        "history = model.fit(X_train, y_train, batch_size=128*2, epochs=25, \n",
        "          validation_data=(X_valid, y_val), callbacks=[callback], verbose=1)\n",
        "plot_history(history)"
      ],
      "execution_count": 16,
      "outputs": [
        {
          "output_type": "stream",
          "text": [
            "Epoch 1/25\n",
            "709/709 [==============================] - 77s 107ms/step - loss: 0.5357 - accuracy: 0.7208 - val_loss: 0.5012 - val_accuracy: 0.7467\n",
            "Epoch 2/25\n",
            "709/709 [==============================] - 77s 109ms/step - loss: 0.2553 - accuracy: 0.8965 - val_loss: 0.5990 - val_accuracy: 0.7285\n",
            "Epoch 3/25\n",
            "709/709 [==============================] - 77s 108ms/step - loss: 0.0760 - accuracy: 0.9726 - val_loss: 0.8203 - val_accuracy: 0.7252\n",
            "Epoch 4/25\n",
            "709/709 [==============================] - 76s 108ms/step - loss: 0.0332 - accuracy: 0.9884 - val_loss: 1.1346 - val_accuracy: 0.7154\n"
          ],
          "name": "stdout"
        },
        {
          "output_type": "display_data",
          "data": {
            "image/png": "[encoded data removed]",
            "text/plain": [
              "<Figure size 1008x288 with 2 Axes>"
            ]
          },
          "metadata": {
            "tags": [],
            "needs_background": "light"
          }
        }
      ]
    },
    {
      "cell_type": "code",
      "metadata": {
        "colab": {
          "base_uri": "https://localhost:8080/"
        },
        "id": "eGMsorH2egD8",
        "outputId": "fad33231-949f-4586-9b31-dda1ec5c97c9"
      },
      "source": [
        "model.evaluate(X_valid, y_val)"
      ],
      "execution_count": 17,
      "outputs": [
        {
          "output_type": "stream",
          "text": [
            "709/709 [==============================] - 3s 5ms/step - loss: 0.5012 - accuracy: 0.7467\n"
          ],
          "name": "stdout"
        },
        {
          "output_type": "execute_result",
          "data": {
            "text/plain": [
              "[0.5011664032936096, 0.7466825246810913]"
            ]
          },
          "metadata": {
            "tags": []
          },
          "execution_count": 17
        }
      ]
    },
    {
      "cell_type": "markdown",
      "metadata": {
        "id": "LJ7jyq69gtK1"
      },
      "source": [
        "## LSTM"
      ]
    },
    {
      "cell_type": "code",
      "metadata": {
        "colab": {
          "base_uri": "https://localhost:8080/"
        },
        "id": "TtBjQ2IyegGe",
        "outputId": "1395fe34-2330-454a-ac88-b6800d1c89be"
      },
      "source": [
        "inputs = Input(shape=(X_train.shape[1],))\n",
        "\n",
        "x =     Embedding(input_dim=word_count,\n",
        "              input_length=training_length,\n",
        "              output_dim=30,\n",
        "              trainable=True,\n",
        "              mask_zero=True)(inputs)\n",
        "\n",
        "x = LSTM(64, return_sequences=True)(x)\n",
        "\n",
        "x = Flatten()(x)\n",
        "x = Dense(64, activation='relu')(x)\n",
        "x = Dropout(0.5)(x)\n",
        "x = Dense(1, activation='sigmoid')(x)\n",
        "\n",
        "\n",
        "\n",
        "model = Model(inputs=inputs, outputs=x)\n",
        "model.summary()\n",
        "model.compile(optimizer='adam', loss='binary_crossentropy', metrics=['accuracy'])"
      ],
      "execution_count": 18,
      "outputs": [
        {
          "output_type": "stream",
          "text": [
            "Model: \"model_2\"\n",
            "_________________________________________________________________\n",
            "Layer (type)                 Output Shape              Param #   \n",
            "=================================================================\n",
            "input_3 (InputLayer)         [(None, 27)]              0         \n",
            "_________________________________________________________________\n",
            "embedding_2 (Embedding)      (None, 27, 30)            7743240   \n",
            "_________________________________________________________________\n",
            "lstm (LSTM)                  (None, 27, 64)            24320     \n",
            "_________________________________________________________________\n",
            "flatten (Flatten)            (None, 1728)              0         \n",
            "_________________________________________________________________\n",
            "dense_4 (Dense)              (None, 64)                110656    \n",
            "_________________________________________________________________\n",
            "dropout_2 (Dropout)          (None, 64)                0         \n",
            "_________________________________________________________________\n",
            "dense_5 (Dense)              (None, 1)                 65        \n",
            "=================================================================\n",
            "Total params: 7,878,281\n",
            "Trainable params: 7,878,281\n",
            "Non-trainable params: 0\n",
            "_________________________________________________________________\n"
          ],
          "name": "stdout"
        }
      ]
    },
    {
      "cell_type": "code",
      "metadata": {
        "colab": {
          "base_uri": "https://localhost:8080/",
          "height": 431
        },
        "id": "npCUyAetegIw",
        "outputId": "8778bd51-16bf-4c95-c872-4c0fe95e2d74"
      },
      "source": [
        "callback = tf.keras.callbacks.EarlyStopping(monitor='val_accuracy', patience=3, restore_best_weights=True)\n",
        "\n",
        "history = model.fit(X_train, y_train, batch_size=128*2, epochs=25, \n",
        "          validation_data=(X_valid, y_val), callbacks=[callback], verbose=1)\n",
        "plot_history(history)"
      ],
      "execution_count": 19,
      "outputs": [
        {
          "output_type": "stream",
          "text": [
            "Epoch 1/25\n",
            "709/709 [==============================] - 106s 145ms/step - loss: 0.5299 - accuracy: 0.7273 - val_loss: 0.5021 - val_accuracy: 0.7473\n",
            "Epoch 2/25\n",
            "709/709 [==============================] - 104s 146ms/step - loss: 0.2867 - accuracy: 0.8820 - val_loss: 0.5652 - val_accuracy: 0.7391\n",
            "Epoch 3/25\n",
            "709/709 [==============================] - 102s 144ms/step - loss: 0.1303 - accuracy: 0.9509 - val_loss: 0.7989 - val_accuracy: 0.7302\n",
            "Epoch 4/25\n",
            "709/709 [==============================] - 102s 144ms/step - loss: 0.0729 - accuracy: 0.9732 - val_loss: 1.0467 - val_accuracy: 0.7211\n"
          ],
          "name": "stdout"
        },
        {
          "output_type": "display_data",
          "data": {
            "image/png": "[encoded data removed]",
            "text/plain": [
              "<Figure size 1008x288 with 2 Axes>"
            ]
          },
          "metadata": {
            "tags": [],
            "needs_background": "light"
          }
        }
      ]
    },
    {
      "cell_type": "code",
      "metadata": {
        "colab": {
          "base_uri": "https://localhost:8080/"
        },
        "id": "birmAULnegLE",
        "outputId": "c65e8d80-f747-4aa6-972f-25c964694e12"
      },
      "source": [
        "model.evaluate(X_valid, y_val)"
      ],
      "execution_count": 20,
      "outputs": [
        {
          "output_type": "stream",
          "text": [
            "709/709 [==============================] - 5s 7ms/step - loss: 0.5021 - accuracy: 0.7473\n"
          ],
          "name": "stdout"
        },
        {
          "output_type": "execute_result",
          "data": {
            "text/plain": [
              "[0.5020561814308167, 0.7472556829452515]"
            ]
          },
          "metadata": {
            "tags": []
          },
          "execution_count": 20
        }
      ]
    },
    {
      "cell_type": "markdown",
      "metadata": {
        "id": "BOKIYV7sg_Vw"
      },
      "source": [
        "## ConvLSTM2D"
      ]
    },
    {
      "cell_type": "code",
      "metadata": {
        "colab": {
          "base_uri": "https://localhost:8080/"
        },
        "id": "m_JPR7w9g_eh",
        "outputId": "ff4b4d79-811f-4f1a-cafe-7c4a692ce39a"
      },
      "source": [
        "inputs = Input(shape=(X_train.shape[1],))\n",
        "\n",
        "x =     Embedding(input_dim=word_count,\n",
        "              input_length=training_length,\n",
        "              output_dim=30,\n",
        "              trainable=True,\n",
        "              mask_zero=True)(inputs)\n",
        "\n",
        "\n",
        "x = tf.keras.layers.Reshape((27, 30, 1, 1))(x)\n",
        "x = tf.keras.layers.ConvLSTM2D(filters=64, kernel_size=(1,2), activation='relu', padding=\"same\")(x)\n",
        "\n",
        "\n",
        "x = Flatten()(x)\n",
        "x = Dense(64, activation='relu')(x)\n",
        "x = Dropout(0.5)(x)\n",
        "x = Dense(1, activation='sigmoid')(x)\n",
        "\n",
        "\n",
        "\n",
        "model = Model(inputs=inputs, outputs=x)\n",
        "model.summary()\n",
        "model.compile(optimizer='adam', loss='binary_crossentropy', metrics=['accuracy'])"
      ],
      "execution_count": 21,
      "outputs": [
        {
          "output_type": "stream",
          "text": [
            "Model: \"model_3\"\n",
            "_________________________________________________________________\n",
            "Layer (type)                 Output Shape              Param #   \n",
            "=================================================================\n",
            "input_4 (InputLayer)         [(None, 27)]              0         \n",
            "_________________________________________________________________\n",
            "embedding_3 (Embedding)      (None, 27, 30)            7743240   \n",
            "_________________________________________________________________\n",
            "reshape (Reshape)            (None, 27, 30, 1, 1)      0         \n",
            "_________________________________________________________________\n",
            "conv_lst_m2d (ConvLSTM2D)    (None, 30, 1, 64)         33536     \n",
            "_________________________________________________________________\n",
            "flatten_1 (Flatten)          (None, 1920)              0         \n",
            "_________________________________________________________________\n",
            "dense_6 (Dense)              (None, 64)                122944    \n",
            "_________________________________________________________________\n",
            "dropout_3 (Dropout)          (None, 64)                0         \n",
            "_________________________________________________________________\n",
            "dense_7 (Dense)              (None, 1)                 65        \n",
            "=================================================================\n",
            "Total params: 7,899,785\n",
            "Trainable params: 7,899,785\n",
            "Non-trainable params: 0\n",
            "_________________________________________________________________\n"
          ],
          "name": "stdout"
        }
      ]
    },
    {
      "cell_type": "code",
      "metadata": {
        "colab": {
          "base_uri": "https://localhost:8080/",
          "height": 431
        },
        "id": "tBQXjr2qg_hI",
        "outputId": "290a53bb-f6ba-470f-9122-5bf85276aee8"
      },
      "source": [
        "history = model.fit(X_train, y_train, batch_size=128*2, epochs=25, \n",
        "          validation_data=(X_valid, y_val), callbacks=[callback], verbose=1)\n",
        "plot_history(history)"
      ],
      "execution_count": 22,
      "outputs": [
        {
          "output_type": "stream",
          "text": [
            "Epoch 1/25\n",
            "709/709 [==============================] - 184s 255ms/step - loss: 0.5548 - accuracy: 0.7072 - val_loss: 0.5093 - val_accuracy: 0.7441\n",
            "Epoch 2/25\n",
            "709/709 [==============================] - 180s 253ms/step - loss: 0.3415 - accuracy: 0.8599 - val_loss: 0.5592 - val_accuracy: 0.7349\n",
            "Epoch 3/25\n",
            "709/709 [==============================] - 179s 252ms/step - loss: 0.1730 - accuracy: 0.9365 - val_loss: 0.7610 - val_accuracy: 0.7298\n",
            "Epoch 4/25\n",
            "709/709 [==============================] - 178s 251ms/step - loss: 0.0973 - accuracy: 0.9653 - val_loss: 1.0386 - val_accuracy: 0.7194\n"
          ],
          "name": "stdout"
        },
        {
          "output_type": "display_data",
          "data": {
            "image/png": "[encoded data removed]",
            "text/plain": [
              "<Figure size 1008x288 with 2 Axes>"
            ]
          },
          "metadata": {
            "tags": [],
            "needs_background": "light"
          }
        }
      ]
    },
    {
      "cell_type": "code",
      "metadata": {
        "colab": {
          "base_uri": "https://localhost:8080/"
        },
        "id": "vocE1eZvg_jv",
        "outputId": "48fb0091-c4ec-49cd-9927-2c027b2ce29a"
      },
      "source": [
        "model.evaluate(X_valid, y_val)"
      ],
      "execution_count": 23,
      "outputs": [
        {
          "output_type": "stream",
          "text": [
            "709/709 [==============================] - 16s 23ms/step - loss: 0.5093 - accuracy: 0.7441\n"
          ],
          "name": "stdout"
        },
        {
          "output_type": "execute_result",
          "data": {
            "text/plain": [
              "[0.5092853903770447, 0.7441255450248718]"
            ]
          },
          "metadata": {
            "tags": []
          },
          "execution_count": 23
        }
      ]
    },
    {
      "cell_type": "markdown",
      "metadata": {
        "id": "ZOB6m7kjhYjz"
      },
      "source": [
        "## CNN+LSTM"
      ]
    },
    {
      "cell_type": "code",
      "metadata": {
        "colab": {
          "base_uri": "https://localhost:8080/"
        },
        "id": "H_H7JOcBg_mK",
        "outputId": "3dbffad0-bbde-45e9-f0d6-0b55adb2d397"
      },
      "source": [
        "inputs = Input(shape=(X_train.shape[1],))\n",
        "\n",
        "x =     Embedding(input_dim=word_count,\n",
        "              input_length=training_length,\n",
        "              output_dim=30,\n",
        "              trainable=True,\n",
        "              mask_zero=True)(inputs)\n",
        "\n",
        "x = (Conv1D(filters=64, kernel_size=3, activation='relu', padding=\"same\"))(x)\n",
        "\n",
        "x = LSTM(64, return_sequences=True)(x)\n",
        "\n",
        "x = Flatten()(x)\n",
        "x = Dense(64, activation='relu')(x)\n",
        "x = Dropout(0.5)(x)\n",
        "x = Dense(1, activation='sigmoid')(x)\n",
        "\n",
        "\n",
        "\n",
        "model = Model(inputs=inputs, outputs=x)\n",
        "model.summary()\n",
        "model.compile(optimizer='adam', loss='binary_crossentropy', metrics=['accuracy'])"
      ],
      "execution_count": 24,
      "outputs": [
        {
          "output_type": "stream",
          "text": [
            "Model: \"model_4\"\n",
            "_________________________________________________________________\n",
            "Layer (type)                 Output Shape              Param #   \n",
            "=================================================================\n",
            "input_5 (InputLayer)         [(None, 27)]              0         \n",
            "_________________________________________________________________\n",
            "embedding_4 (Embedding)      (None, 27, 30)            7743240   \n",
            "_________________________________________________________________\n",
            "conv1d_1 (Conv1D)            (None, 27, 64)            5824      \n",
            "_________________________________________________________________\n",
            "lstm_1 (LSTM)                (None, 27, 64)            33024     \n",
            "_________________________________________________________________\n",
            "flatten_2 (Flatten)          (None, 1728)              0         \n",
            "_________________________________________________________________\n",
            "dense_8 (Dense)              (None, 64)                110656    \n",
            "_________________________________________________________________\n",
            "dropout_4 (Dropout)          (None, 64)                0         \n",
            "_________________________________________________________________\n",
            "dense_9 (Dense)              (None, 1)                 65        \n",
            "=================================================================\n",
            "Total params: 7,892,809\n",
            "Trainable params: 7,892,809\n",
            "Non-trainable params: 0\n",
            "_________________________________________________________________\n"
          ],
          "name": "stdout"
        }
      ]
    },
    {
      "cell_type": "code",
      "metadata": {
        "colab": {
          "base_uri": "https://localhost:8080/",
          "height": 431
        },
        "id": "px8ADWsvg_oq",
        "outputId": "f4780262-3411-4d9e-e161-b0756e9f3b90"
      },
      "source": [
        "history = model.fit(X_train, y_train, batch_size=128*2, epochs=25, \n",
        "          validation_data=(X_valid, y_val), callbacks=[callback], verbose=1)\n",
        "plot_history(history)"
      ],
      "execution_count": 25,
      "outputs": [
        {
          "output_type": "stream",
          "text": [
            "Epoch 1/25\n",
            "709/709 [==============================] - 56s 76ms/step - loss: 0.5330 - accuracy: 0.7237 - val_loss: 0.5275 - val_accuracy: 0.7434\n",
            "Epoch 2/25\n",
            "709/709 [==============================] - 53s 74ms/step - loss: 0.2696 - accuracy: 0.8902 - val_loss: 0.5938 - val_accuracy: 0.7406\n",
            "Epoch 3/25\n",
            "709/709 [==============================] - 52s 74ms/step - loss: 0.1040 - accuracy: 0.9620 - val_loss: 0.8397 - val_accuracy: 0.7337\n",
            "Epoch 4/25\n",
            "709/709 [==============================] - 53s 74ms/step - loss: 0.0500 - accuracy: 0.9822 - val_loss: 1.0182 - val_accuracy: 0.7275\n"
          ],
          "name": "stdout"
        },
        {
          "output_type": "display_data",
          "data": {
            "image/png": "[encoded data removed]",
            "text/plain": [
              "<Figure size 1008x288 with 2 Axes>"
            ]
          },
          "metadata": {
            "tags": [],
            "needs_background": "light"
          }
        }
      ]
    },
    {
      "cell_type": "code",
      "metadata": {
        "colab": {
          "base_uri": "https://localhost:8080/"
        },
        "id": "zxxygJvXg_rK",
        "outputId": "f51d1546-c977-4ba7-8081-7fb17565a98f"
      },
      "source": [
        "model.evaluate(X_valid, y_val)"
      ],
      "execution_count": 26,
      "outputs": [
        {
          "output_type": "stream",
          "text": [
            "709/709 [==============================] - 2s 3ms/step - loss: 0.5275 - accuracy: 0.7434\n"
          ],
          "name": "stdout"
        },
        {
          "output_type": "execute_result",
          "data": {
            "text/plain": [
              "[0.5274951457977295, 0.7433760762214661]"
            ]
          },
          "metadata": {
            "tags": []
          },
          "execution_count": 26
        }
      ]
    },
    {
      "cell_type": "markdown",
      "metadata": {
        "id": "NbjOAl9qhegx"
      },
      "source": [
        "## LSTM + CNN"
      ]
    },
    {
      "cell_type": "code",
      "metadata": {
        "colab": {
          "base_uri": "https://localhost:8080/"
        },
        "id": "4LEs_43vhgrG",
        "outputId": "05056101-2ec5-4bb8-b37b-1bbb1afc0a05"
      },
      "source": [
        "inputs = Input(shape=(X_train.shape[1],))\n",
        "\n",
        "x =     Embedding(input_dim=word_count,\n",
        "              input_length=training_length,\n",
        "              output_dim=30,\n",
        "              trainable=True,\n",
        "              mask_zero=True)(inputs)\n",
        "\n",
        "\n",
        "x = LSTM(64, return_sequences=True)(x)\n",
        "x = (Conv1D(filters=64, kernel_size=3, activation='relu', padding=\"same\"))(x)\n",
        "\n",
        "x = Flatten()(x)\n",
        "x = Dense(64, activation='relu')(x)\n",
        "x = Dropout(0.5)(x)\n",
        "x = Dense(1, activation='sigmoid')(x)\n",
        "\n",
        "\n",
        "\n",
        "model = Model(inputs=inputs, outputs=x)\n",
        "model.summary()\n",
        "model.compile(optimizer='adam', loss='binary_crossentropy', metrics=['accuracy'])"
      ],
      "execution_count": 27,
      "outputs": [
        {
          "output_type": "stream",
          "text": [
            "Model: \"model_5\"\n",
            "_________________________________________________________________\n",
            "Layer (type)                 Output Shape              Param #   \n",
            "=================================================================\n",
            "input_6 (InputLayer)         [(None, 27)]              0         \n",
            "_________________________________________________________________\n",
            "embedding_5 (Embedding)      (None, 27, 30)            7743240   \n",
            "_________________________________________________________________\n",
            "lstm_2 (LSTM)                (None, 27, 64)            24320     \n",
            "_________________________________________________________________\n",
            "conv1d_2 (Conv1D)            (None, 27, 64)            12352     \n",
            "_________________________________________________________________\n",
            "flatten_3 (Flatten)          (None, 1728)              0         \n",
            "_________________________________________________________________\n",
            "dense_10 (Dense)             (None, 64)                110656    \n",
            "_________________________________________________________________\n",
            "dropout_5 (Dropout)          (None, 64)                0         \n",
            "_________________________________________________________________\n",
            "dense_11 (Dense)             (None, 1)                 65        \n",
            "=================================================================\n",
            "Total params: 7,890,633\n",
            "Trainable params: 7,890,633\n",
            "Non-trainable params: 0\n",
            "_________________________________________________________________\n"
          ],
          "name": "stdout"
        }
      ]
    },
    {
      "cell_type": "code",
      "metadata": {
        "colab": {
          "base_uri": "https://localhost:8080/",
          "height": 431
        },
        "id": "v8infB_MhhEA",
        "outputId": "ce294afb-8996-4ece-fd8c-abeaa534fe16"
      },
      "source": [
        "history = model.fit(X_train, y_train, batch_size=128*2, epochs=25, \n",
        "          validation_data=(X_valid, y_val), callbacks=[callback], verbose=1)\n",
        "plot_history(history)"
      ],
      "execution_count": 28,
      "outputs": [
        {
          "output_type": "stream",
          "text": [
            "Epoch 1/25\n",
            "709/709 [==============================] - 106s 144ms/step - loss: 0.5330 - accuracy: 0.7247 - val_loss: 0.5075 - val_accuracy: 0.7449\n",
            "Epoch 2/25\n",
            "709/709 [==============================] - 101s 143ms/step - loss: 0.2852 - accuracy: 0.8823 - val_loss: 0.6171 - val_accuracy: 0.7373\n",
            "Epoch 3/25\n",
            "709/709 [==============================] - 101s 142ms/step - loss: 0.1314 - accuracy: 0.9516 - val_loss: 0.8237 - val_accuracy: 0.7295\n",
            "Epoch 4/25\n",
            "709/709 [==============================] - 102s 143ms/step - loss: 0.0732 - accuracy: 0.9735 - val_loss: 1.0900 - val_accuracy: 0.7224\n"
          ],
          "name": "stdout"
        },
        {
          "output_type": "display_data",
          "data": {
            "image/png": "[encoded data removed]",
            "text/plain": [
              "<Figure size 1008x288 with 2 Axes>"
            ]
          },
          "metadata": {
            "tags": [],
            "needs_background": "light"
          }
        }
      ]
    },
    {
      "cell_type": "code",
      "metadata": {
        "colab": {
          "base_uri": "https://localhost:8080/"
        },
        "id": "D8QUa1ezhhGd",
        "outputId": "57fe206d-5164-4c8a-eeed-9459248bf854"
      },
      "source": [
        "model.evaluate(X_valid, y_val)"
      ],
      "execution_count": 29,
      "outputs": [
        {
          "output_type": "stream",
          "text": [
            "709/709 [==============================] - 5s 7ms/step - loss: 0.5075 - accuracy: 0.7449\n"
          ],
          "name": "stdout"
        },
        {
          "output_type": "execute_result",
          "data": {
            "text/plain": [
              "[0.5074930787086487, 0.7448750138282776]"
            ]
          },
          "metadata": {
            "tags": []
          },
          "execution_count": 29
        }
      ]
    },
    {
      "cell_type": "markdown",
      "metadata": {
        "id": "0HIq9livhs_7"
      },
      "source": [
        "### Выводы.\n",
        "Лучше всего сработали (в порядке убывания результата) следующие архитектуры:\n",
        "\n",
        "1. LSTM \n",
        "2. CNN \n",
        "3. SimpleRNN\n",
        "\n",
        "При этом их результаты не сильно отличаются и однозначно сказать что какая то архитектура лучше других нельзя."
      ]
    }
  ]
}