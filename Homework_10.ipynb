{
  "nbformat": 4,
  "nbformat_minor": 0,
  "metadata": {
    "colab": {
      "name": "Lesson10.ipynb",
      "provenance": [],
      "collapsed_sections": []
    },
    "kernelspec": {
      "name": "python3",
      "display_name": "Python 3"
    },
    "language_info": {
      "name": "python"
    },
    "accelerator": "GPU"
  },
  "cells": [
    {
      "cell_type": "markdown",
      "metadata": {
        "id": "bikhmknMsRZP"
      },
      "source": [
        "# Машинный перевод. Модель seq2seq и механизм внимания"
      ]
    },
    {
      "cell_type": "code",
      "metadata": {
        "id": "ed9ETzkXsF-G"
      },
      "source": [
        "import tensorflow as tf\n",
        "\n",
        "import matplotlib.pyplot as plt\n",
        "import matplotlib.ticker as ticker\n",
        "from sklearn.model_selection import train_test_split\n",
        "\n",
        "import unicodedata\n",
        "import re\n",
        "import numpy as np\n",
        "import os\n",
        "import io\n",
        "import time"
      ],
      "execution_count": 1,
      "outputs": []
    },
    {
      "cell_type": "markdown",
      "metadata": {
        "id": "LmUUFQVDufjB"
      },
      "source": [
        "## Download and prepare the dataset\n",
        "\n",
        "We'll use a language dataset provided by http://www.manythings.org/anki/"
      ]
    },
    {
      "cell_type": "code",
      "metadata": {
        "colab": {
          "base_uri": "https://localhost:8080/"
        },
        "id": "MtaglMIyuWch",
        "outputId": "e7d80ee2-943d-46a2-9443-dd5e7dc510a7"
      },
      "source": [
        "!wget http://www.manythings.org/anki/rus-eng.zip"
      ],
      "execution_count": 2,
      "outputs": [
        {
          "output_type": "stream",
          "text": [
            "--2021-08-13 04:31:33--  http://www.manythings.org/anki/rus-eng.zip\n",
            "Resolving www.manythings.org (www.manythings.org)... 172.67.186.54, 104.21.92.44, 2606:4700:3030::6815:5c2c, ...\n",
            "Connecting to www.manythings.org (www.manythings.org)|172.67.186.54|:80... connected.\n",
            "HTTP request sent, awaiting response... 200 OK\n",
            "Length: 14385451 (14M) [application/zip]\n",
            "Saving to: ‘rus-eng.zip’\n",
            "\n",
            "rus-eng.zip         100%[===================>]  13.72M   275KB/s    in 28s     \n",
            "\n",
            "2021-08-13 04:32:01 (501 KB/s) - ‘rus-eng.zip’ saved [14385451/14385451]\n",
            "\n"
          ],
          "name": "stdout"
        }
      ]
    },
    {
      "cell_type": "code",
      "metadata": {
        "colab": {
          "base_uri": "https://localhost:8080/"
        },
        "id": "RR2qHCIQuXRy",
        "outputId": "ea8ae76c-7ed3-4c34-c787-50b23a750cb3"
      },
      "source": [
        "!mkdir rus-eng\n",
        "!unzip rus-eng.zip -d rus-eng/"
      ],
      "execution_count": 3,
      "outputs": [
        {
          "output_type": "stream",
          "text": [
            "Archive:  rus-eng.zip\n",
            "  inflating: rus-eng/rus.txt         \n",
            "  inflating: rus-eng/_about.txt      \n"
          ],
          "name": "stdout"
        }
      ]
    },
    {
      "cell_type": "code",
      "metadata": {
        "colab": {
          "base_uri": "https://localhost:8080/"
        },
        "id": "6i3GZbyAuXUr",
        "outputId": "50bc29f9-be60-4f4f-8a20-e69c40ca890c"
      },
      "source": [
        "!ls /content/rus-eng/ -lah"
      ],
      "execution_count": 4,
      "outputs": [
        {
          "output_type": "stream",
          "text": [
            "total 69M\n",
            "drwxr-xr-x 2 root root 4.0K Aug 13 04:32 .\n",
            "drwxr-xr-x 1 root root 4.0K Aug 13 04:32 ..\n",
            "-rw-r--r-- 1 root root 1.5K Jul 14 10:16 _about.txt\n",
            "-rw-r--r-- 1 root root  69M Jul 14 10:16 rus.txt\n"
          ],
          "name": "stdout"
        }
      ]
    },
    {
      "cell_type": "code",
      "metadata": {
        "id": "msAxzKbruXXG"
      },
      "source": [
        "# Download the file\n",
        "path_to_file = \"/content/rus-eng/rus.txt\""
      ],
      "execution_count": 6,
      "outputs": []
    },
    {
      "cell_type": "code",
      "metadata": {
        "id": "btyIXlSPuXZt"
      },
      "source": [
        "def preprocess_sentence(w):\n",
        "    w = w.lower().strip()\n",
        "\n",
        "    # creating a space between a word and the punctuation following it\n",
        "    # eg: \"he is a boy.\" => \"he is a boy .\"\n",
        "    # Reference:- https://stackoverflow.com/questions/3645931/python-padding-punctuation-with-white-spaces-keeping-punctuation\n",
        "    w = re.sub(r\"([?.!,])\", r\" \\1 \", w)\n",
        "    w = re.sub(r'[\" \"]+', \" \", w)\n",
        "\n",
        "    # replacing everything with space except (a-z, A-Z, \".\", \"?\", \"!\", \",\")\n",
        "    w = re.sub(r\"[^a-zA-Zа-яА-Я?.!,']+\", \" \", w)\n",
        "\n",
        "    w = w.strip()\n",
        "\n",
        "    # adding a start and an end token to the sentence\n",
        "    # so that the model know when to start and stop predicting.\n",
        "    w = '<start> ' + w + ' <end>'\n",
        "    return w"
      ],
      "execution_count": 7,
      "outputs": []
    },
    {
      "cell_type": "code",
      "metadata": {
        "colab": {
          "base_uri": "https://localhost:8080/",
          "height": 35
        },
        "id": "aaIIjCBquXcZ",
        "outputId": "ecf20470-d4c2-49fc-d145-d39e097c5f68"
      },
      "source": [
        "preprocess_sentence(\"I can't go.\")"
      ],
      "execution_count": 8,
      "outputs": [
        {
          "output_type": "execute_result",
          "data": {
            "application/vnd.google.colaboratory.intrinsic+json": {
              "type": "string"
            },
            "text/plain": [
              "\"<start> i can't go . <end>\""
            ]
          },
          "metadata": {
            "tags": []
          },
          "execution_count": 8
        }
      ]
    },
    {
      "cell_type": "code",
      "metadata": {
        "id": "yZ2JbhAAuXfD"
      },
      "source": [
        "# 1. Remove the accents\n",
        "# 2. Clean the sentences\n",
        "# 3. Return word pairs in the format: [ENGLISH, SPANISH]\n",
        "def create_dataset(path, num_examples):\n",
        "    lines = io.open(path, encoding='UTF-8').read().strip().split('\\n')\n",
        "\n",
        "    word_pairs = [[preprocess_sentence(w) for w in l.split('\\t')[:2]]  for l in lines[:num_examples]]\n",
        "\n",
        "    return zip(*word_pairs)"
      ],
      "execution_count": 9,
      "outputs": []
    },
    {
      "cell_type": "code",
      "metadata": {
        "colab": {
          "base_uri": "https://localhost:8080/"
        },
        "id": "mabkNdMguXhl",
        "outputId": "df17de27-694a-421d-dfd7-5e7044ed7c17"
      },
      "source": [
        "en, ru = create_dataset(path_to_file, None)\n",
        "print(en[-1])\n",
        "print(ru[-1])"
      ],
      "execution_count": 10,
      "outputs": [
        {
          "output_type": "stream",
          "text": [
            "<start> doubtless there exists in this world precisely the right woman for any given man to marry and vice versa but when you consider that a human being has the opportunity of being acquainted with only a few hundred people , and out of the few hundred that there are but a dozen or less whom he knows intimately , and out of the dozen , one or two friends at most , it will easily be seen , when we remember the number of millions who inhabit this world , that probably , since the earth was created , the right man has never yet met the right woman . <end>\n",
            "<start> несомненно , для каждого мужчины в этом мире где то есть подходящая женщина , которая может стать ему женой , обратное верно и для женщин . но если учесть , что у человека может быть максимум несколько сотен знакомых , из которых лишь дюжина , а то и меньше , тех , кого он знает близко , а из этой дюжины у него один или от силы два друга , то можно легко увидеть , что с уч том миллионов живущих на земле людей , ни один подходящий мужчина , возможно , ещ не встретил подходящую женщину . <end>\n"
          ],
          "name": "stdout"
        }
      ]
    },
    {
      "cell_type": "code",
      "metadata": {
        "id": "RQJLszeHuXkc"
      },
      "source": [
        "def tokenize(lang):\n",
        "    lang_tokenizer = tf.keras.preprocessing.text.Tokenizer(\n",
        "      filters='')\n",
        "    lang_tokenizer.fit_on_texts(lang)\n",
        "\n",
        "    tensor = lang_tokenizer.texts_to_sequences(lang)\n",
        "\n",
        "    tensor = tf.keras.preprocessing.sequence.pad_sequences(tensor,\n",
        "                                                         padding='post')\n",
        "\n",
        "    return tensor, lang_tokenizer"
      ],
      "execution_count": 11,
      "outputs": []
    },
    {
      "cell_type": "code",
      "metadata": {
        "id": "16vaIdogv-4B"
      },
      "source": [
        "def load_dataset(path, num_examples=None):\n",
        "    # creating cleaned input, output pairs\n",
        "    targ_lang, inp_lang = create_dataset(path, num_examples)\n",
        "\n",
        "    input_tensor, inp_lang_tokenizer = tokenize(inp_lang)\n",
        "    target_tensor, targ_lang_tokenizer = tokenize(targ_lang)\n",
        "\n",
        "    return input_tensor, target_tensor, inp_lang_tokenizer, targ_lang_tokenizer"
      ],
      "execution_count": 12,
      "outputs": []
    },
    {
      "cell_type": "markdown",
      "metadata": {
        "id": "Ko_EanR6wEbm"
      },
      "source": [
        "### Limit the size of the dataset to experiment faster (optional)"
      ]
    },
    {
      "cell_type": "code",
      "metadata": {
        "colab": {
          "base_uri": "https://localhost:8080/"
        },
        "id": "0GlHKIBYv_GW",
        "outputId": "2a440833-eeab-407a-983a-2ddfacfc88ce"
      },
      "source": [
        "len(en), len(ru)"
      ],
      "execution_count": 13,
      "outputs": [
        {
          "output_type": "execute_result",
          "data": {
            "text/plain": [
              "(431097, 431097)"
            ]
          },
          "metadata": {
            "tags": []
          },
          "execution_count": 13
        }
      ]
    },
    {
      "cell_type": "code",
      "metadata": {
        "id": "damaexwYv_JD"
      },
      "source": [
        "# Try experimenting with the size of that dataset\n",
        "num_examples = 100000\n",
        "input_tensor, target_tensor, inp_lang, targ_lang = load_dataset(path_to_file, num_examples)\n",
        "\n",
        "# Calculate max_length of the target tensors\n",
        "max_length_targ, max_length_inp = target_tensor.shape[1], input_tensor.shape[1]"
      ],
      "execution_count": 14,
      "outputs": []
    },
    {
      "cell_type": "code",
      "metadata": {
        "colab": {
          "base_uri": "https://localhost:8080/"
        },
        "id": "ZvwTiKt9v_Li",
        "outputId": "64a7772b-6c90-485d-892e-4c9eacee14fd"
      },
      "source": [
        "# Creating training and validation sets using an 80-20 split\n",
        "input_tensor_train, input_tensor_val, target_tensor_train, target_tensor_val = train_test_split(input_tensor, target_tensor, test_size=0.2)\n",
        "\n",
        "# Show length\n",
        "print(len(input_tensor_train), len(target_tensor_train), len(input_tensor_val), len(target_tensor_val))"
      ],
      "execution_count": 15,
      "outputs": [
        {
          "output_type": "stream",
          "text": [
            "80000 80000 20000 20000\n"
          ],
          "name": "stdout"
        }
      ]
    },
    {
      "cell_type": "code",
      "metadata": {
        "id": "2EXnKP8Ov_OQ"
      },
      "source": [
        "def convert(lang, tensor):\n",
        "    for t in tensor:\n",
        "        if t!=0:\n",
        "            print (\"%d ----> %s\" % (t, lang.index_word[t]))"
      ],
      "execution_count": 16,
      "outputs": []
    },
    {
      "cell_type": "code",
      "metadata": {
        "colab": {
          "base_uri": "https://localhost:8080/"
        },
        "id": "3lP2kol6v_Ql",
        "outputId": "f17473a7-9bad-4166-90a0-13882661bacc"
      },
      "source": [
        "print (\"Input Language; index to word mapping\")\n",
        "convert(inp_lang, input_tensor_train[0])\n",
        "print ()\n",
        "print (\"Target Language; index to word mapping\")\n",
        "convert(targ_lang, target_tensor_train[0])"
      ],
      "execution_count": 17,
      "outputs": [
        {
          "output_type": "stream",
          "text": [
            "Input Language; index to word mapping\n",
            "1 ----> <start>\n",
            "4 ----> я\n",
            "5512 ----> вызываю\n",
            "395 ----> такси\n",
            "3 ----> .\n",
            "2 ----> <end>\n",
            "\n",
            "Target Language; index to word mapping\n",
            "1 ----> <start>\n",
            "13 ----> i'm\n",
            "910 ----> calling\n",
            "9 ----> a\n",
            "985 ----> cab\n",
            "3 ----> .\n",
            "2 ----> <end>\n"
          ],
          "name": "stdout"
        }
      ]
    },
    {
      "cell_type": "markdown",
      "metadata": {
        "id": "JEP0DC3dwcq2"
      },
      "source": [
        "### Create a tf.data dataset"
      ]
    },
    {
      "cell_type": "code",
      "metadata": {
        "id": "42JOGzvhwR1r"
      },
      "source": [
        "BUFFER_SIZE = len(input_tensor_train)\n",
        "BATCH_SIZE = 64\n",
        "steps_per_epoch = len(input_tensor_train)//BATCH_SIZE\n",
        "embedding_dim = 256\n",
        "units = 1024\n",
        "vocab_inp_size = len(inp_lang.word_index)+1\n",
        "vocab_tar_size = len(targ_lang.word_index)+1\n",
        "\n",
        "dataset = tf.data.Dataset.from_tensor_slices((input_tensor_train, target_tensor_train)).shuffle(BUFFER_SIZE)\n",
        "dataset = dataset.batch(BATCH_SIZE, drop_remainder=True)"
      ],
      "execution_count": 18,
      "outputs": []
    },
    {
      "cell_type": "code",
      "metadata": {
        "colab": {
          "base_uri": "https://localhost:8080/"
        },
        "id": "h8SME51gwR4b",
        "outputId": "dc971dc8-56fb-4a4a-d4a2-ce9331a4ccba"
      },
      "source": [
        "example_input_batch, example_target_batch = next(iter(dataset))\n",
        "example_input_batch.shape, example_target_batch.shape"
      ],
      "execution_count": 19,
      "outputs": [
        {
          "output_type": "execute_result",
          "data": {
            "text/plain": [
              "(TensorShape([64, 15]), TensorShape([64, 11]))"
            ]
          },
          "metadata": {
            "tags": []
          },
          "execution_count": 19
        }
      ]
    },
    {
      "cell_type": "code",
      "metadata": {
        "id": "WOKiIOw7wR63"
      },
      "source": [
        "class Encoder(tf.keras.Model):\n",
        "    def __init__(self, vocab_size, embedding_dim, enc_units, batch_sz):\n",
        "        super(Encoder, self).__init__()\n",
        "        self.batch_sz = batch_sz\n",
        "        self.enc_units = enc_units\n",
        "        self.embedding = tf.keras.layers.Embedding(vocab_size, embedding_dim)\n",
        "        self.gru = tf.keras.layers.GRU(self.enc_units,\n",
        "                                       return_sequences=False,\n",
        "                                       return_state=False,\n",
        "                                       recurrent_initializer='glorot_uniform')\n",
        "\n",
        "    def call(self, x, hidden):\n",
        "        x = self.embedding(x)\n",
        "        state = self.gru(x, initial_state = hidden)\n",
        "        return state\n",
        "\n",
        "    def initialize_hidden_state(self):\n",
        "        return tf.zeros((self.batch_sz, self.enc_units))"
      ],
      "execution_count": 20,
      "outputs": []
    },
    {
      "cell_type": "code",
      "metadata": {
        "colab": {
          "base_uri": "https://localhost:8080/"
        },
        "id": "_8YVKeMZwR9l",
        "outputId": "b1c635f6-eb6d-483a-e0c0-24c4ada1c27e"
      },
      "source": [
        "encoder = Encoder(vocab_inp_size, embedding_dim, units, BATCH_SIZE)\n",
        "\n",
        "# sample input\n",
        "sample_hidden = encoder.initialize_hidden_state()\n",
        "sample_hidden = encoder(example_input_batch, sample_hidden)\n",
        "# print ('Encoder output shape: (batch size, sequence length, units) {}'.format(sample_output.shape))\n",
        "print ('Encoder Hidden state shape: (batch size, units) {}'.format(sample_hidden.shape))"
      ],
      "execution_count": 21,
      "outputs": [
        {
          "output_type": "stream",
          "text": [
            "Encoder Hidden state shape: (batch size, units) (64, 1024)\n"
          ],
          "name": "stdout"
        }
      ]
    },
    {
      "cell_type": "code",
      "metadata": {
        "id": "oUdWnV6Iv_TG"
      },
      "source": [
        "class Decoder(tf.keras.Model):\n",
        "    def __init__(self, vocab_size, embedding_dim, dec_units, batch_sz):\n",
        "        super(Decoder, self).__init__()\n",
        "        self.batch_sz = batch_sz\n",
        "        self.dec_units = dec_units\n",
        "        self.embedding = tf.keras.layers.Embedding(vocab_size, embedding_dim)\n",
        "        self.gru = tf.keras.layers.GRU(self.dec_units,\n",
        "                                       return_sequences=True,\n",
        "                                       return_state=True,\n",
        "                                       recurrent_initializer='glorot_uniform')\n",
        "        self.fc = tf.keras.layers.Dense(vocab_size)\n",
        "\n",
        "        # used for attention\n",
        "        # self.attention = BahdanauAttention(self.dec_units)\n",
        "\n",
        "    def call(self, x, hidden):\n",
        "        # enc_output shape == (batch_size, max_length, hidden_size)\n",
        "\n",
        "        # x shape after passing through embedding == (batch_size, 1, embedding_dim)\n",
        "        x = self.embedding(x)\n",
        "\n",
        "        # x shape after concatenation == (batch_size, 1, embedding_dim + hidden_size)\n",
        "\n",
        "        # passing the concatenated vector to the GRU\n",
        "        output, state = self.gru(x, initial_state=hidden)\n",
        "\n",
        "        # output shape == (batch_size * 1, hidden_size)\n",
        "        output = tf.reshape(output, (-1, output.shape[2]))\n",
        "\n",
        "        # output shape == (batch_size, vocab)\n",
        "        x = self.fc(output)\n",
        "\n",
        "        return x, state"
      ],
      "execution_count": 22,
      "outputs": []
    },
    {
      "cell_type": "code",
      "metadata": {
        "id": "IOI1BNH0v_Vb"
      },
      "source": [
        "decoder = Decoder(vocab_tar_size, embedding_dim, units, BATCH_SIZE)\n",
        "\n",
        "decoder_sample_x, decoder_sample_h = decoder(tf.random.uniform((BATCH_SIZE, 1)),\n",
        "                                      sample_hidden)"
      ],
      "execution_count": 23,
      "outputs": []
    },
    {
      "cell_type": "code",
      "metadata": {
        "colab": {
          "base_uri": "https://localhost:8080/"
        },
        "id": "lgYIhz_Pv_X-",
        "outputId": "ff99f8be-d5fd-4636-c03e-5de0bad9d542"
      },
      "source": [
        "decoder_sample_x.shape"
      ],
      "execution_count": 24,
      "outputs": [
        {
          "output_type": "execute_result",
          "data": {
            "text/plain": [
              "TensorShape([64, 7260])"
            ]
          },
          "metadata": {
            "tags": []
          },
          "execution_count": 24
        }
      ]
    },
    {
      "cell_type": "code",
      "metadata": {
        "colab": {
          "base_uri": "https://localhost:8080/"
        },
        "id": "JkPIwEt-v_ag",
        "outputId": "81263e01-13d4-4a31-885a-3a56089ca94f"
      },
      "source": [
        "decoder_sample_h.shape"
      ],
      "execution_count": 25,
      "outputs": [
        {
          "output_type": "execute_result",
          "data": {
            "text/plain": [
              "TensorShape([64, 1024])"
            ]
          },
          "metadata": {
            "tags": []
          },
          "execution_count": 25
        }
      ]
    },
    {
      "cell_type": "markdown",
      "metadata": {
        "id": "n3I5vPMfxC8z"
      },
      "source": [
        "## Define the optimizer and the loss function"
      ]
    },
    {
      "cell_type": "code",
      "metadata": {
        "id": "-RTll21Ev_c_"
      },
      "source": [
        "optimizer = tf.keras.optimizers.Adam()\n",
        "\n",
        "loss_object = tf.keras.losses.SparseCategoricalCrossentropy(\n",
        "    from_logits=True, reduction='none')\n",
        "\n",
        "def loss_function(real, pred):\n",
        "  mask = tf.math.logical_not(tf.math.equal(real, 0))\n",
        "  loss_ = loss_object(real, pred)\n",
        "\n",
        "  mask = tf.cast(mask, dtype=loss_.dtype)\n",
        "  loss_ *= mask\n",
        "\n",
        "  return tf.reduce_mean(loss_)"
      ],
      "execution_count": 26,
      "outputs": []
    },
    {
      "cell_type": "markdown",
      "metadata": {
        "id": "JjQfXviBxJfn"
      },
      "source": [
        "## Checkpoints (Object-based saving)"
      ]
    },
    {
      "cell_type": "code",
      "metadata": {
        "id": "QRda5630v_fj"
      },
      "source": [
        "checkpoint_dir = './training_checkpoints'\n",
        "checkpoint_prefix = os.path.join(checkpoint_dir, \"ckpt\")\n",
        "checkpoint = tf.train.Checkpoint(optimizer=optimizer,\n",
        "                                 encoder=encoder,\n",
        "                                 decoder=decoder)"
      ],
      "execution_count": 27,
      "outputs": []
    },
    {
      "cell_type": "code",
      "metadata": {
        "id": "K2Z5lhRqxHVC"
      },
      "source": [
        "@tf.function\n",
        "def train_step(inp, targ, enc_hidden):\n",
        "    loss = 0\n",
        "\n",
        "    with tf.GradientTape() as tape:\n",
        "        enc_hidden = encoder(inp, enc_hidden)\n",
        "\n",
        "        dec_hidden = enc_hidden\n",
        "\n",
        "        dec_input = tf.expand_dims([targ_lang.word_index['<start>']] * BATCH_SIZE, 1)\n",
        "\n",
        "        # Teacher forcing - feeding the target as the next input\n",
        "        for t in range(1, targ.shape[1]):\n",
        "            # passing enc_output to the decoder\n",
        "            predictions, dec_hidden = decoder(dec_input, dec_hidden)\n",
        "\n",
        "            loss += loss_function(targ[:, t], predictions)\n",
        "\n",
        "            # using teacher forcing\n",
        "            dec_input = tf.expand_dims(targ[:, t], 1)\n",
        "\n",
        "        batch_loss = (loss / int(targ.shape[1]))\n",
        "\n",
        "        variables = encoder.trainable_variables + decoder.trainable_variables\n",
        "\n",
        "        gradients = tape.gradient(loss, variables)\n",
        "\n",
        "        optimizer.apply_gradients(zip(gradients, variables))\n",
        "\n",
        "    return batch_loss"
      ],
      "execution_count": 28,
      "outputs": []
    },
    {
      "cell_type": "code",
      "metadata": {
        "colab": {
          "base_uri": "https://localhost:8080/"
        },
        "id": "bs5JjrnjxHYQ",
        "outputId": "fd4dafa1-afef-45ef-d3df-d98a16d8d4bb"
      },
      "source": [
        "EPOCHS = 50\n",
        "\n",
        "for epoch in range(EPOCHS):\n",
        "    start = time.time()\n",
        "\n",
        "    enc_hidden = encoder.initialize_hidden_state()\n",
        "    total_loss = 0\n",
        "\n",
        "    for (batch, (inp, targ)) in enumerate(dataset.take(steps_per_epoch)):\n",
        "        batch_loss = train_step(inp, targ, enc_hidden)\n",
        "        total_loss += batch_loss\n",
        "\n",
        "        if batch % 100 == 0:\n",
        "            print('Epoch {} Batch {} Loss {:.4f}'.format(epoch + 1,\n",
        "                                                       batch,\n",
        "                                                       batch_loss.numpy()))\n",
        "    # saving (checkpoint) the model every 2 epochs\n",
        "    if (epoch + 1) % 2 == 0:\n",
        "        checkpoint.save(file_prefix = checkpoint_prefix)\n",
        "\n",
        "    print('Epoch {} Loss {:.4f}'.format(epoch + 1,\n",
        "                                      total_loss / steps_per_epoch))\n",
        "    print('Time taken for 1 epoch {} sec\\n'.format(time.time() - start))"
      ],
      "execution_count": 29,
      "outputs": [
        {
          "output_type": "stream",
          "text": [
            "Epoch 1 Batch 0 Loss 4.6342\n",
            "Epoch 1 Batch 100 Loss 2.0706\n",
            "Epoch 1 Batch 200 Loss 1.8661\n",
            "Epoch 1 Batch 300 Loss 1.5614\n",
            "Epoch 1 Batch 400 Loss 1.5799\n",
            "Epoch 1 Batch 500 Loss 1.4041\n",
            "Epoch 1 Batch 600 Loss 1.2790\n",
            "Epoch 1 Batch 700 Loss 1.2624\n",
            "Epoch 1 Batch 800 Loss 1.1834\n",
            "Epoch 1 Batch 900 Loss 1.1328\n",
            "Epoch 1 Batch 1000 Loss 1.1042\n",
            "Epoch 1 Batch 1100 Loss 0.9661\n",
            "Epoch 1 Batch 1200 Loss 0.9924\n",
            "Epoch 1 Loss 1.4106\n",
            "Time taken for 1 epoch 121.14091634750366 sec\n",
            "\n",
            "Epoch 2 Batch 0 Loss 0.8823\n",
            "Epoch 2 Batch 100 Loss 0.9474\n",
            "Epoch 2 Batch 200 Loss 0.6774\n",
            "Epoch 2 Batch 300 Loss 0.7965\n",
            "Epoch 2 Batch 400 Loss 0.7348\n",
            "Epoch 2 Batch 500 Loss 0.6951\n",
            "Epoch 2 Batch 600 Loss 0.6103\n",
            "Epoch 2 Batch 700 Loss 0.6556\n",
            "Epoch 2 Batch 800 Loss 0.7616\n",
            "Epoch 2 Batch 900 Loss 0.6892\n",
            "Epoch 2 Batch 1000 Loss 0.6408\n",
            "Epoch 2 Batch 1100 Loss 0.6128\n",
            "Epoch 2 Batch 1200 Loss 0.5477\n",
            "Epoch 2 Loss 0.6853\n",
            "Time taken for 1 epoch 112.68403673171997 sec\n",
            "\n",
            "Epoch 3 Batch 0 Loss 0.3855\n",
            "Epoch 3 Batch 100 Loss 0.3675\n",
            "Epoch 3 Batch 200 Loss 0.3792\n",
            "Epoch 3 Batch 300 Loss 0.4586\n",
            "Epoch 3 Batch 400 Loss 0.3739\n",
            "Epoch 3 Batch 500 Loss 0.3704\n",
            "Epoch 3 Batch 600 Loss 0.3134\n",
            "Epoch 3 Batch 700 Loss 0.4309\n",
            "Epoch 3 Batch 800 Loss 0.3263\n",
            "Epoch 3 Batch 900 Loss 0.4029\n",
            "Epoch 3 Batch 1000 Loss 0.3647\n",
            "Epoch 3 Batch 1100 Loss 0.3811\n",
            "Epoch 3 Batch 1200 Loss 0.2764\n",
            "Epoch 3 Loss 0.3752\n",
            "Time taken for 1 epoch 112.13736867904663 sec\n",
            "\n",
            "Epoch 4 Batch 0 Loss 0.2523\n",
            "Epoch 4 Batch 100 Loss 0.1757\n",
            "Epoch 4 Batch 200 Loss 0.1896\n",
            "Epoch 4 Batch 300 Loss 0.2616\n",
            "Epoch 4 Batch 400 Loss 0.2467\n",
            "Epoch 4 Batch 500 Loss 0.2776\n",
            "Epoch 4 Batch 600 Loss 0.2235\n",
            "Epoch 4 Batch 700 Loss 0.2635\n",
            "Epoch 4 Batch 800 Loss 0.2629\n",
            "Epoch 4 Batch 900 Loss 0.2243\n",
            "Epoch 4 Batch 1000 Loss 0.2023\n",
            "Epoch 4 Batch 1100 Loss 0.2134\n",
            "Epoch 4 Batch 1200 Loss 0.2523\n",
            "Epoch 4 Loss 0.2266\n",
            "Time taken for 1 epoch 113.6026930809021 sec\n",
            "\n",
            "Epoch 5 Batch 0 Loss 0.1185\n",
            "Epoch 5 Batch 100 Loss 0.1603\n",
            "Epoch 5 Batch 200 Loss 0.1224\n",
            "Epoch 5 Batch 300 Loss 0.1671\n",
            "Epoch 5 Batch 400 Loss 0.1447\n",
            "Epoch 5 Batch 500 Loss 0.1504\n",
            "Epoch 5 Batch 600 Loss 0.1642\n",
            "Epoch 5 Batch 700 Loss 0.1642\n",
            "Epoch 5 Batch 800 Loss 0.1608\n",
            "Epoch 5 Batch 900 Loss 0.1930\n",
            "Epoch 5 Batch 1000 Loss 0.1893\n",
            "Epoch 5 Batch 1100 Loss 0.1680\n",
            "Epoch 5 Batch 1200 Loss 0.1744\n",
            "Epoch 5 Loss 0.1545\n",
            "Time taken for 1 epoch 112.43295550346375 sec\n",
            "\n",
            "Epoch 6 Batch 0 Loss 0.0990\n",
            "Epoch 6 Batch 100 Loss 0.0941\n",
            "Epoch 6 Batch 200 Loss 0.1028\n",
            "Epoch 6 Batch 300 Loss 0.1174\n",
            "Epoch 6 Batch 400 Loss 0.0764\n",
            "Epoch 6 Batch 500 Loss 0.0980\n",
            "Epoch 6 Batch 600 Loss 0.0960\n",
            "Epoch 6 Batch 700 Loss 0.1070\n",
            "Epoch 6 Batch 800 Loss 0.1564\n",
            "Epoch 6 Batch 900 Loss 0.1358\n",
            "Epoch 6 Batch 1000 Loss 0.1170\n",
            "Epoch 6 Batch 1100 Loss 0.1504\n",
            "Epoch 6 Batch 1200 Loss 0.1279\n",
            "Epoch 6 Loss 0.1202\n",
            "Time taken for 1 epoch 114.34362244606018 sec\n",
            "\n",
            "Epoch 7 Batch 0 Loss 0.0618\n",
            "Epoch 7 Batch 100 Loss 0.1165\n",
            "Epoch 7 Batch 200 Loss 0.0603\n",
            "Epoch 7 Batch 300 Loss 0.0727\n",
            "Epoch 7 Batch 400 Loss 0.1333\n",
            "Epoch 7 Batch 500 Loss 0.1115\n",
            "Epoch 7 Batch 600 Loss 0.1023\n",
            "Epoch 7 Batch 700 Loss 0.1426\n",
            "Epoch 7 Batch 800 Loss 0.0828\n",
            "Epoch 7 Batch 900 Loss 0.0616\n",
            "Epoch 7 Batch 1000 Loss 0.0816\n",
            "Epoch 7 Batch 1100 Loss 0.1319\n",
            "Epoch 7 Batch 1200 Loss 0.0970\n",
            "Epoch 7 Loss 0.1012\n",
            "Time taken for 1 epoch 113.33258748054504 sec\n",
            "\n",
            "Epoch 8 Batch 0 Loss 0.0743\n",
            "Epoch 8 Batch 100 Loss 0.0663\n",
            "Epoch 8 Batch 200 Loss 0.0799\n",
            "Epoch 8 Batch 300 Loss 0.0611\n",
            "Epoch 8 Batch 400 Loss 0.1137\n",
            "Epoch 8 Batch 500 Loss 0.1123\n",
            "Epoch 8 Batch 600 Loss 0.0820\n",
            "Epoch 8 Batch 700 Loss 0.0948\n",
            "Epoch 8 Batch 800 Loss 0.0909\n",
            "Epoch 8 Batch 900 Loss 0.1100\n",
            "Epoch 8 Batch 1000 Loss 0.1051\n",
            "Epoch 8 Batch 1100 Loss 0.0721\n",
            "Epoch 8 Batch 1200 Loss 0.0708\n",
            "Epoch 8 Loss 0.0907\n",
            "Time taken for 1 epoch 113.53167152404785 sec\n",
            "\n",
            "Epoch 9 Batch 0 Loss 0.0585\n",
            "Epoch 9 Batch 100 Loss 0.0975\n",
            "Epoch 9 Batch 200 Loss 0.0640\n",
            "Epoch 9 Batch 300 Loss 0.1218\n",
            "Epoch 9 Batch 400 Loss 0.0722\n",
            "Epoch 9 Batch 500 Loss 0.1073\n",
            "Epoch 9 Batch 600 Loss 0.0478\n",
            "Epoch 9 Batch 700 Loss 0.0538\n",
            "Epoch 9 Batch 800 Loss 0.1123\n",
            "Epoch 9 Batch 900 Loss 0.0613\n",
            "Epoch 9 Batch 1000 Loss 0.1098\n",
            "Epoch 9 Batch 1100 Loss 0.1130\n",
            "Epoch 9 Batch 1200 Loss 0.1161\n",
            "Epoch 9 Loss 0.0838\n",
            "Time taken for 1 epoch 113.55572438240051 sec\n",
            "\n",
            "Epoch 10 Batch 0 Loss 0.0530\n",
            "Epoch 10 Batch 100 Loss 0.0512\n",
            "Epoch 10 Batch 200 Loss 0.0617\n",
            "Epoch 10 Batch 300 Loss 0.1021\n",
            "Epoch 10 Batch 400 Loss 0.0887\n",
            "Epoch 10 Batch 500 Loss 0.0590\n",
            "Epoch 10 Batch 600 Loss 0.0823\n",
            "Epoch 10 Batch 700 Loss 0.0894\n",
            "Epoch 10 Batch 800 Loss 0.0778\n",
            "Epoch 10 Batch 900 Loss 0.0679\n",
            "Epoch 10 Batch 1000 Loss 0.0581\n",
            "Epoch 10 Batch 1100 Loss 0.1179\n",
            "Epoch 10 Batch 1200 Loss 0.0847\n",
            "Epoch 10 Loss 0.0800\n",
            "Time taken for 1 epoch 113.84392499923706 sec\n",
            "\n",
            "Epoch 11 Batch 0 Loss 0.0631\n",
            "Epoch 11 Batch 100 Loss 0.0527\n",
            "Epoch 11 Batch 200 Loss 0.0528\n",
            "Epoch 11 Batch 300 Loss 0.0720\n",
            "Epoch 11 Batch 400 Loss 0.0516\n",
            "Epoch 11 Batch 500 Loss 0.0368\n",
            "Epoch 11 Batch 600 Loss 0.0585\n",
            "Epoch 11 Batch 700 Loss 0.0837\n",
            "Epoch 11 Batch 800 Loss 0.0540\n",
            "Epoch 11 Batch 900 Loss 0.0793\n",
            "Epoch 11 Batch 1000 Loss 0.0640\n",
            "Epoch 11 Batch 1100 Loss 0.0918\n",
            "Epoch 11 Batch 1200 Loss 0.0842\n",
            "Epoch 11 Loss 0.0758\n",
            "Time taken for 1 epoch 112.73443555831909 sec\n",
            "\n",
            "Epoch 12 Batch 0 Loss 0.0398\n",
            "Epoch 12 Batch 100 Loss 0.0629\n",
            "Epoch 12 Batch 200 Loss 0.0587\n",
            "Epoch 12 Batch 300 Loss 0.0636\n",
            "Epoch 12 Batch 400 Loss 0.0600\n",
            "Epoch 12 Batch 500 Loss 0.0522\n",
            "Epoch 12 Batch 600 Loss 0.0734\n",
            "Epoch 12 Batch 700 Loss 0.0445\n",
            "Epoch 12 Batch 800 Loss 0.1006\n",
            "Epoch 12 Batch 900 Loss 0.0575\n",
            "Epoch 12 Batch 1000 Loss 0.0583\n",
            "Epoch 12 Batch 1100 Loss 0.1309\n",
            "Epoch 12 Batch 1200 Loss 0.0726\n",
            "Epoch 12 Loss 0.0734\n",
            "Time taken for 1 epoch 113.4564139842987 sec\n",
            "\n",
            "Epoch 13 Batch 0 Loss 0.0385\n",
            "Epoch 13 Batch 100 Loss 0.0764\n",
            "Epoch 13 Batch 200 Loss 0.0364\n",
            "Epoch 13 Batch 300 Loss 0.0637\n",
            "Epoch 13 Batch 400 Loss 0.0996\n",
            "Epoch 13 Batch 500 Loss 0.0612\n",
            "Epoch 13 Batch 600 Loss 0.0801\n",
            "Epoch 13 Batch 700 Loss 0.0724\n",
            "Epoch 13 Batch 800 Loss 0.0381\n",
            "Epoch 13 Batch 900 Loss 0.0955\n",
            "Epoch 13 Batch 1000 Loss 0.0601\n",
            "Epoch 13 Batch 1100 Loss 0.1147\n",
            "Epoch 13 Batch 1200 Loss 0.0573\n",
            "Epoch 13 Loss 0.0706\n",
            "Time taken for 1 epoch 112.93777894973755 sec\n",
            "\n",
            "Epoch 14 Batch 0 Loss 0.0641\n",
            "Epoch 14 Batch 100 Loss 0.0715\n",
            "Epoch 14 Batch 200 Loss 0.0642\n",
            "Epoch 14 Batch 300 Loss 0.0456\n",
            "Epoch 14 Batch 400 Loss 0.0508\n",
            "Epoch 14 Batch 500 Loss 0.0676\n",
            "Epoch 14 Batch 600 Loss 0.1080\n",
            "Epoch 14 Batch 700 Loss 0.0448\n",
            "Epoch 14 Batch 800 Loss 0.0692\n",
            "Epoch 14 Batch 900 Loss 0.0839\n",
            "Epoch 14 Batch 1000 Loss 0.1298\n",
            "Epoch 14 Batch 1100 Loss 0.0926\n",
            "Epoch 14 Batch 1200 Loss 0.0915\n",
            "Epoch 14 Loss 0.0687\n",
            "Time taken for 1 epoch 113.75083589553833 sec\n",
            "\n",
            "Epoch 15 Batch 0 Loss 0.0409\n",
            "Epoch 15 Batch 100 Loss 0.0750\n",
            "Epoch 15 Batch 200 Loss 0.0520\n",
            "Epoch 15 Batch 300 Loss 0.0713\n",
            "Epoch 15 Batch 400 Loss 0.0745\n",
            "Epoch 15 Batch 500 Loss 0.0331\n",
            "Epoch 15 Batch 600 Loss 0.0654\n",
            "Epoch 15 Batch 700 Loss 0.0625\n",
            "Epoch 15 Batch 800 Loss 0.0620\n",
            "Epoch 15 Batch 900 Loss 0.0984\n",
            "Epoch 15 Batch 1000 Loss 0.0906\n",
            "Epoch 15 Batch 1100 Loss 0.0667\n",
            "Epoch 15 Batch 1200 Loss 0.0581\n",
            "Epoch 15 Loss 0.0672\n",
            "Time taken for 1 epoch 112.19478392601013 sec\n",
            "\n",
            "Epoch 16 Batch 0 Loss 0.0568\n",
            "Epoch 16 Batch 100 Loss 0.0310\n",
            "Epoch 16 Batch 200 Loss 0.0822\n",
            "Epoch 16 Batch 300 Loss 0.0455\n",
            "Epoch 16 Batch 400 Loss 0.0487\n",
            "Epoch 16 Batch 500 Loss 0.0673\n",
            "Epoch 16 Batch 600 Loss 0.0572\n",
            "Epoch 16 Batch 700 Loss 0.0552\n",
            "Epoch 16 Batch 800 Loss 0.0468\n",
            "Epoch 16 Batch 900 Loss 0.1130\n",
            "Epoch 16 Batch 1000 Loss 0.0707\n",
            "Epoch 16 Batch 1100 Loss 0.0391\n",
            "Epoch 16 Batch 1200 Loss 0.1092\n",
            "Epoch 16 Loss 0.0657\n",
            "Time taken for 1 epoch 113.69952416419983 sec\n",
            "\n",
            "Epoch 17 Batch 0 Loss 0.0464\n",
            "Epoch 17 Batch 100 Loss 0.0583\n",
            "Epoch 17 Batch 200 Loss 0.0597\n",
            "Epoch 17 Batch 300 Loss 0.0535\n",
            "Epoch 17 Batch 400 Loss 0.0500\n",
            "Epoch 17 Batch 500 Loss 0.0568\n",
            "Epoch 17 Batch 600 Loss 0.0761\n",
            "Epoch 17 Batch 700 Loss 0.0307\n",
            "Epoch 17 Batch 800 Loss 0.0628\n",
            "Epoch 17 Batch 900 Loss 0.0565\n",
            "Epoch 17 Batch 1000 Loss 0.0600\n",
            "Epoch 17 Batch 1100 Loss 0.0701\n",
            "Epoch 17 Batch 1200 Loss 0.0972\n",
            "Epoch 17 Loss 0.0641\n",
            "Time taken for 1 epoch 112.9162209033966 sec\n",
            "\n",
            "Epoch 18 Batch 0 Loss 0.0195\n",
            "Epoch 18 Batch 100 Loss 0.1048\n",
            "Epoch 18 Batch 200 Loss 0.0601\n",
            "Epoch 18 Batch 300 Loss 0.0434\n",
            "Epoch 18 Batch 400 Loss 0.0686\n",
            "Epoch 18 Batch 500 Loss 0.0446\n",
            "Epoch 18 Batch 600 Loss 0.0953\n",
            "Epoch 18 Batch 700 Loss 0.0962\n",
            "Epoch 18 Batch 800 Loss 0.0552\n",
            "Epoch 18 Batch 900 Loss 0.0289\n",
            "Epoch 18 Batch 1000 Loss 0.1042\n",
            "Epoch 18 Batch 1100 Loss 0.0582\n",
            "Epoch 18 Batch 1200 Loss 0.0795\n",
            "Epoch 18 Loss 0.0630\n",
            "Time taken for 1 epoch 113.11006259918213 sec\n",
            "\n",
            "Epoch 19 Batch 0 Loss 0.0602\n",
            "Epoch 19 Batch 100 Loss 0.0575\n",
            "Epoch 19 Batch 200 Loss 0.0494\n",
            "Epoch 19 Batch 300 Loss 0.0496\n",
            "Epoch 19 Batch 400 Loss 0.0563\n",
            "Epoch 19 Batch 500 Loss 0.0336\n",
            "Epoch 19 Batch 600 Loss 0.0332\n",
            "Epoch 19 Batch 700 Loss 0.0784\n",
            "Epoch 19 Batch 800 Loss 0.0746\n",
            "Epoch 19 Batch 900 Loss 0.0652\n",
            "Epoch 19 Batch 1000 Loss 0.0973\n",
            "Epoch 19 Batch 1100 Loss 0.0820\n",
            "Epoch 19 Batch 1200 Loss 0.0837\n",
            "Epoch 19 Loss 0.0616\n",
            "Time taken for 1 epoch 112.01457500457764 sec\n",
            "\n",
            "Epoch 20 Batch 0 Loss 0.0479\n",
            "Epoch 20 Batch 100 Loss 0.0663\n",
            "Epoch 20 Batch 200 Loss 0.0478\n",
            "Epoch 20 Batch 300 Loss 0.0738\n",
            "Epoch 20 Batch 400 Loss 0.0620\n",
            "Epoch 20 Batch 500 Loss 0.0862\n",
            "Epoch 20 Batch 600 Loss 0.0516\n",
            "Epoch 20 Batch 700 Loss 0.0505\n",
            "Epoch 20 Batch 800 Loss 0.0757\n",
            "Epoch 20 Batch 900 Loss 0.0651\n",
            "Epoch 20 Batch 1000 Loss 0.0625\n",
            "Epoch 20 Batch 1100 Loss 0.0719\n",
            "Epoch 20 Batch 1200 Loss 0.0680\n",
            "Epoch 20 Loss 0.0610\n",
            "Time taken for 1 epoch 112.96878671646118 sec\n",
            "\n",
            "Epoch 21 Batch 0 Loss 0.0584\n",
            "Epoch 21 Batch 100 Loss 0.0755\n",
            "Epoch 21 Batch 200 Loss 0.0502\n",
            "Epoch 21 Batch 300 Loss 0.0280\n",
            "Epoch 21 Batch 400 Loss 0.0665\n",
            "Epoch 21 Batch 500 Loss 0.0653\n",
            "Epoch 21 Batch 600 Loss 0.0586\n",
            "Epoch 21 Batch 700 Loss 0.0695\n",
            "Epoch 21 Batch 800 Loss 0.0560\n",
            "Epoch 21 Batch 900 Loss 0.0930\n",
            "Epoch 21 Batch 1000 Loss 0.0922\n",
            "Epoch 21 Batch 1100 Loss 0.0716\n",
            "Epoch 21 Batch 1200 Loss 0.0631\n",
            "Epoch 21 Loss 0.0595\n",
            "Time taken for 1 epoch 112.53103971481323 sec\n",
            "\n",
            "Epoch 22 Batch 0 Loss 0.0602\n",
            "Epoch 22 Batch 100 Loss 0.0272\n",
            "Epoch 22 Batch 200 Loss 0.0601\n",
            "Epoch 22 Batch 300 Loss 0.0641\n",
            "Epoch 22 Batch 400 Loss 0.0586\n",
            "Epoch 22 Batch 500 Loss 0.0591\n",
            "Epoch 22 Batch 600 Loss 0.0451\n",
            "Epoch 22 Batch 700 Loss 0.0397\n",
            "Epoch 22 Batch 800 Loss 0.0486\n",
            "Epoch 22 Batch 900 Loss 0.0672\n",
            "Epoch 22 Batch 1000 Loss 0.0598\n",
            "Epoch 22 Batch 1100 Loss 0.0743\n",
            "Epoch 22 Batch 1200 Loss 0.0864\n",
            "Epoch 22 Loss 0.0590\n",
            "Time taken for 1 epoch 112.8218822479248 sec\n",
            "\n",
            "Epoch 23 Batch 0 Loss 0.0502\n",
            "Epoch 23 Batch 100 Loss 0.0670\n",
            "Epoch 23 Batch 200 Loss 0.0255\n",
            "Epoch 23 Batch 300 Loss 0.0737\n",
            "Epoch 23 Batch 400 Loss 0.0517\n",
            "Epoch 23 Batch 500 Loss 0.0338\n",
            "Epoch 23 Batch 600 Loss 0.0543\n",
            "Epoch 23 Batch 700 Loss 0.0602\n",
            "Epoch 23 Batch 800 Loss 0.0273\n",
            "Epoch 23 Batch 900 Loss 0.0679\n",
            "Epoch 23 Batch 1000 Loss 0.0459\n",
            "Epoch 23 Batch 1100 Loss 0.0597\n",
            "Epoch 23 Batch 1200 Loss 0.0612\n",
            "Epoch 23 Loss 0.0578\n",
            "Time taken for 1 epoch 112.34572696685791 sec\n",
            "\n",
            "Epoch 24 Batch 0 Loss 0.0340\n",
            "Epoch 24 Batch 100 Loss 0.0725\n",
            "Epoch 24 Batch 200 Loss 0.0542\n",
            "Epoch 24 Batch 300 Loss 0.0615\n",
            "Epoch 24 Batch 400 Loss 0.0667\n",
            "Epoch 24 Batch 500 Loss 0.0490\n",
            "Epoch 24 Batch 600 Loss 0.0514\n",
            "Epoch 24 Batch 700 Loss 0.0793\n",
            "Epoch 24 Batch 800 Loss 0.0429\n",
            "Epoch 24 Batch 900 Loss 0.0490\n",
            "Epoch 24 Batch 1000 Loss 0.0506\n",
            "Epoch 24 Batch 1100 Loss 0.0685\n",
            "Epoch 24 Batch 1200 Loss 0.0520\n",
            "Epoch 24 Loss 0.0572\n",
            "Time taken for 1 epoch 114.14694714546204 sec\n",
            "\n",
            "Epoch 25 Batch 0 Loss 0.0592\n",
            "Epoch 25 Batch 100 Loss 0.0583\n",
            "Epoch 25 Batch 200 Loss 0.0753\n",
            "Epoch 25 Batch 300 Loss 0.1032\n",
            "Epoch 25 Batch 400 Loss 0.0711\n",
            "Epoch 25 Batch 500 Loss 0.0509\n",
            "Epoch 25 Batch 600 Loss 0.0282\n",
            "Epoch 25 Batch 700 Loss 0.0322\n",
            "Epoch 25 Batch 800 Loss 0.0725\n",
            "Epoch 25 Batch 900 Loss 0.0524\n",
            "Epoch 25 Batch 1000 Loss 0.0819\n",
            "Epoch 25 Batch 1100 Loss 0.0423\n",
            "Epoch 25 Batch 1200 Loss 0.0342\n",
            "Epoch 25 Loss 0.0558\n",
            "Time taken for 1 epoch 112.74599766731262 sec\n",
            "\n",
            "Epoch 26 Batch 0 Loss 0.0589\n",
            "Epoch 26 Batch 100 Loss 0.0393\n",
            "Epoch 26 Batch 200 Loss 0.0425\n",
            "Epoch 26 Batch 300 Loss 0.0686\n",
            "Epoch 26 Batch 400 Loss 0.0471\n",
            "Epoch 26 Batch 500 Loss 0.0614\n",
            "Epoch 26 Batch 600 Loss 0.0458\n",
            "Epoch 26 Batch 700 Loss 0.0355\n",
            "Epoch 26 Batch 800 Loss 0.0487\n",
            "Epoch 26 Batch 900 Loss 0.0336\n",
            "Epoch 26 Batch 1000 Loss 0.0537\n",
            "Epoch 26 Batch 1100 Loss 0.0809\n",
            "Epoch 26 Batch 1200 Loss 0.0689\n",
            "Epoch 26 Loss 0.0550\n",
            "Time taken for 1 epoch 113.39081025123596 sec\n",
            "\n",
            "Epoch 27 Batch 0 Loss 0.0319\n",
            "Epoch 27 Batch 100 Loss 0.0392\n",
            "Epoch 27 Batch 200 Loss 0.0614\n",
            "Epoch 27 Batch 300 Loss 0.0382\n",
            "Epoch 27 Batch 400 Loss 0.0142\n",
            "Epoch 27 Batch 500 Loss 0.0686\n",
            "Epoch 27 Batch 600 Loss 0.0445\n",
            "Epoch 27 Batch 700 Loss 0.0282\n",
            "Epoch 27 Batch 800 Loss 0.1093\n",
            "Epoch 27 Batch 900 Loss 0.0780\n",
            "Epoch 27 Batch 1000 Loss 0.0861\n",
            "Epoch 27 Batch 1100 Loss 0.0772\n",
            "Epoch 27 Batch 1200 Loss 0.0640\n",
            "Epoch 27 Loss 0.0553\n",
            "Time taken for 1 epoch 113.46846628189087 sec\n",
            "\n",
            "Epoch 28 Batch 0 Loss 0.0408\n",
            "Epoch 28 Batch 100 Loss 0.0510\n",
            "Epoch 28 Batch 200 Loss 0.0620\n",
            "Epoch 28 Batch 300 Loss 0.0461\n",
            "Epoch 28 Batch 400 Loss 0.0837\n",
            "Epoch 28 Batch 500 Loss 0.0409\n",
            "Epoch 28 Batch 600 Loss 0.0837\n",
            "Epoch 28 Batch 700 Loss 0.0608\n",
            "Epoch 28 Batch 800 Loss 0.0506\n",
            "Epoch 28 Batch 900 Loss 0.0523\n",
            "Epoch 28 Batch 1000 Loss 0.0254\n",
            "Epoch 28 Batch 1100 Loss 0.0677\n",
            "Epoch 28 Batch 1200 Loss 0.0739\n",
            "Epoch 28 Loss 0.0534\n",
            "Time taken for 1 epoch 114.11272978782654 sec\n",
            "\n",
            "Epoch 29 Batch 0 Loss 0.0779\n",
            "Epoch 29 Batch 100 Loss 0.0316\n",
            "Epoch 29 Batch 200 Loss 0.0380\n",
            "Epoch 29 Batch 300 Loss 0.0358\n",
            "Epoch 29 Batch 400 Loss 0.0317\n",
            "Epoch 29 Batch 500 Loss 0.0459\n",
            "Epoch 29 Batch 600 Loss 0.0458\n",
            "Epoch 29 Batch 700 Loss 0.0299\n",
            "Epoch 29 Batch 800 Loss 0.0599\n",
            "Epoch 29 Batch 900 Loss 0.0276\n",
            "Epoch 29 Batch 1000 Loss 0.0835\n",
            "Epoch 29 Batch 1100 Loss 0.0477\n",
            "Epoch 29 Batch 1200 Loss 0.0891\n",
            "Epoch 29 Loss 0.0530\n",
            "Time taken for 1 epoch 113.37397503852844 sec\n",
            "\n",
            "Epoch 30 Batch 0 Loss 0.0267\n",
            "Epoch 30 Batch 100 Loss 0.0745\n",
            "Epoch 30 Batch 200 Loss 0.0508\n",
            "Epoch 30 Batch 300 Loss 0.0405\n",
            "Epoch 30 Batch 400 Loss 0.0707\n",
            "Epoch 30 Batch 500 Loss 0.0399\n",
            "Epoch 30 Batch 600 Loss 0.0319\n",
            "Epoch 30 Batch 700 Loss 0.0718\n",
            "Epoch 30 Batch 800 Loss 0.0459\n",
            "Epoch 30 Batch 900 Loss 0.0536\n",
            "Epoch 30 Batch 1000 Loss 0.0864\n",
            "Epoch 30 Batch 1100 Loss 0.0727\n",
            "Epoch 30 Batch 1200 Loss 0.0406\n",
            "Epoch 30 Loss 0.0532\n",
            "Time taken for 1 epoch 113.90926933288574 sec\n",
            "\n",
            "Epoch 31 Batch 0 Loss 0.0109\n",
            "Epoch 31 Batch 100 Loss 0.0337\n",
            "Epoch 31 Batch 200 Loss 0.0277\n",
            "Epoch 31 Batch 300 Loss 0.0668\n",
            "Epoch 31 Batch 400 Loss 0.0701\n",
            "Epoch 31 Batch 500 Loss 0.0858\n",
            "Epoch 31 Batch 600 Loss 0.0449\n",
            "Epoch 31 Batch 700 Loss 0.0537\n",
            "Epoch 31 Batch 800 Loss 0.0299\n",
            "Epoch 31 Batch 900 Loss 0.0664\n",
            "Epoch 31 Batch 1000 Loss 0.0435\n",
            "Epoch 31 Batch 1100 Loss 0.0761\n",
            "Epoch 31 Batch 1200 Loss 0.0858\n",
            "Epoch 31 Loss 0.0513\n",
            "Time taken for 1 epoch 112.09363961219788 sec\n",
            "\n",
            "Epoch 32 Batch 0 Loss 0.0578\n",
            "Epoch 32 Batch 100 Loss 0.0331\n",
            "Epoch 32 Batch 200 Loss 0.0571\n",
            "Epoch 32 Batch 300 Loss 0.0362\n",
            "Epoch 32 Batch 400 Loss 0.0330\n",
            "Epoch 32 Batch 500 Loss 0.0584\n",
            "Epoch 32 Batch 600 Loss 0.0432\n",
            "Epoch 32 Batch 700 Loss 0.0457\n",
            "Epoch 32 Batch 800 Loss 0.0344\n",
            "Epoch 32 Batch 900 Loss 0.0583\n",
            "Epoch 32 Batch 1000 Loss 0.0186\n",
            "Epoch 32 Batch 1100 Loss 0.0446\n",
            "Epoch 32 Batch 1200 Loss 0.0635\n",
            "Epoch 32 Loss 0.0515\n",
            "Time taken for 1 epoch 114.2238540649414 sec\n",
            "\n",
            "Epoch 33 Batch 0 Loss 0.0590\n",
            "Epoch 33 Batch 100 Loss 0.0526\n",
            "Epoch 33 Batch 200 Loss 0.0481\n",
            "Epoch 33 Batch 300 Loss 0.0408\n",
            "Epoch 33 Batch 400 Loss 0.0334\n",
            "Epoch 33 Batch 500 Loss 0.0599\n",
            "Epoch 33 Batch 600 Loss 0.0540\n",
            "Epoch 33 Batch 700 Loss 0.0667\n",
            "Epoch 33 Batch 800 Loss 0.1012\n",
            "Epoch 33 Batch 900 Loss 0.0570\n",
            "Epoch 33 Batch 1000 Loss 0.1021\n",
            "Epoch 33 Batch 1100 Loss 0.0651\n",
            "Epoch 33 Batch 1200 Loss 0.0416\n",
            "Epoch 33 Loss 0.0511\n",
            "Time taken for 1 epoch 114.17802691459656 sec\n",
            "\n",
            "Epoch 34 Batch 0 Loss 0.0413\n",
            "Epoch 34 Batch 100 Loss 0.0484\n",
            "Epoch 34 Batch 200 Loss 0.0231\n",
            "Epoch 34 Batch 300 Loss 0.0395\n",
            "Epoch 34 Batch 400 Loss 0.0154\n",
            "Epoch 34 Batch 500 Loss 0.0371\n",
            "Epoch 34 Batch 600 Loss 0.0521\n",
            "Epoch 34 Batch 700 Loss 0.0321\n",
            "Epoch 34 Batch 800 Loss 0.0582\n",
            "Epoch 34 Batch 900 Loss 0.0472\n",
            "Epoch 34 Batch 1000 Loss 0.0676\n",
            "Epoch 34 Batch 1100 Loss 0.0421\n",
            "Epoch 34 Batch 1200 Loss 0.0861\n",
            "Epoch 34 Loss 0.0498\n",
            "Time taken for 1 epoch 113.53295874595642 sec\n",
            "\n",
            "Epoch 35 Batch 0 Loss 0.0364\n",
            "Epoch 35 Batch 100 Loss 0.0597\n",
            "Epoch 35 Batch 200 Loss 0.0178\n",
            "Epoch 35 Batch 300 Loss 0.0296\n",
            "Epoch 35 Batch 400 Loss 0.0856\n",
            "Epoch 35 Batch 500 Loss 0.0351\n",
            "Epoch 35 Batch 600 Loss 0.0565\n",
            "Epoch 35 Batch 700 Loss 0.0264\n",
            "Epoch 35 Batch 800 Loss 0.0663\n",
            "Epoch 35 Batch 900 Loss 0.0556\n",
            "Epoch 35 Batch 1000 Loss 0.0589\n",
            "Epoch 35 Batch 1100 Loss 0.0788\n",
            "Epoch 35 Batch 1200 Loss 0.0761\n",
            "Epoch 35 Loss 0.0490\n",
            "Time taken for 1 epoch 113.14806032180786 sec\n",
            "\n",
            "Epoch 36 Batch 0 Loss 0.0311\n",
            "Epoch 36 Batch 100 Loss 0.0260\n",
            "Epoch 36 Batch 200 Loss 0.0381\n",
            "Epoch 36 Batch 300 Loss 0.0505\n",
            "Epoch 36 Batch 400 Loss 0.0603\n",
            "Epoch 36 Batch 500 Loss 0.0635\n",
            "Epoch 36 Batch 600 Loss 0.0619\n",
            "Epoch 36 Batch 700 Loss 0.0441\n",
            "Epoch 36 Batch 800 Loss 0.0536\n",
            "Epoch 36 Batch 900 Loss 0.0515\n",
            "Epoch 36 Batch 1000 Loss 0.0436\n",
            "Epoch 36 Batch 1100 Loss 0.0395\n",
            "Epoch 36 Batch 1200 Loss 0.0465\n",
            "Epoch 36 Loss 0.0493\n",
            "Time taken for 1 epoch 114.27487468719482 sec\n",
            "\n",
            "Epoch 37 Batch 0 Loss 0.0365\n",
            "Epoch 37 Batch 100 Loss 0.0202\n",
            "Epoch 37 Batch 200 Loss 0.0521\n",
            "Epoch 37 Batch 300 Loss 0.0140\n",
            "Epoch 37 Batch 400 Loss 0.0863\n",
            "Epoch 37 Batch 500 Loss 0.0509\n",
            "Epoch 37 Batch 600 Loss 0.0516\n",
            "Epoch 37 Batch 700 Loss 0.0429\n",
            "Epoch 37 Batch 800 Loss 0.0682\n",
            "Epoch 37 Batch 900 Loss 0.0642\n",
            "Epoch 37 Batch 1000 Loss 0.0646\n",
            "Epoch 37 Batch 1100 Loss 0.0518\n",
            "Epoch 37 Batch 1200 Loss 0.0459\n",
            "Epoch 37 Loss 0.0485\n",
            "Time taken for 1 epoch 113.57759046554565 sec\n",
            "\n",
            "Epoch 38 Batch 0 Loss 0.0714\n",
            "Epoch 38 Batch 100 Loss 0.0345\n",
            "Epoch 38 Batch 200 Loss 0.0455\n",
            "Epoch 38 Batch 300 Loss 0.0194\n",
            "Epoch 38 Batch 400 Loss 0.0251\n",
            "Epoch 38 Batch 500 Loss 0.0437\n",
            "Epoch 38 Batch 600 Loss 0.0343\n",
            "Epoch 38 Batch 700 Loss 0.0413\n",
            "Epoch 38 Batch 800 Loss 0.0264\n",
            "Epoch 38 Batch 900 Loss 0.0779\n",
            "Epoch 38 Batch 1000 Loss 0.0505\n",
            "Epoch 38 Batch 1100 Loss 0.0378\n",
            "Epoch 38 Batch 1200 Loss 0.0545\n",
            "Epoch 38 Loss 0.0480\n",
            "Time taken for 1 epoch 114.94630908966064 sec\n",
            "\n",
            "Epoch 39 Batch 0 Loss 0.0164\n",
            "Epoch 39 Batch 100 Loss 0.0328\n",
            "Epoch 39 Batch 200 Loss 0.0536\n",
            "Epoch 39 Batch 300 Loss 0.0145\n",
            "Epoch 39 Batch 400 Loss 0.0618\n",
            "Epoch 39 Batch 500 Loss 0.0543\n",
            "Epoch 39 Batch 600 Loss 0.0739\n",
            "Epoch 39 Batch 700 Loss 0.0352\n",
            "Epoch 39 Batch 800 Loss 0.0596\n",
            "Epoch 39 Batch 900 Loss 0.0710\n",
            "Epoch 39 Batch 1000 Loss 0.0336\n",
            "Epoch 39 Batch 1100 Loss 0.0846\n",
            "Epoch 39 Batch 1200 Loss 0.0485\n",
            "Epoch 39 Loss 0.0477\n",
            "Time taken for 1 epoch 114.68314027786255 sec\n",
            "\n",
            "Epoch 40 Batch 0 Loss 0.0210\n",
            "Epoch 40 Batch 100 Loss 0.0345\n",
            "Epoch 40 Batch 200 Loss 0.0614\n",
            "Epoch 40 Batch 300 Loss 0.0364\n",
            "Epoch 40 Batch 400 Loss 0.0446\n",
            "Epoch 40 Batch 500 Loss 0.0648\n",
            "Epoch 40 Batch 600 Loss 0.0475\n",
            "Epoch 40 Batch 700 Loss 0.0473\n",
            "Epoch 40 Batch 800 Loss 0.0625\n",
            "Epoch 40 Batch 900 Loss 0.0659\n",
            "Epoch 40 Batch 1000 Loss 0.0794\n",
            "Epoch 40 Batch 1100 Loss 0.0440\n",
            "Epoch 40 Batch 1200 Loss 0.0742\n",
            "Epoch 40 Loss 0.0473\n",
            "Time taken for 1 epoch 114.64897561073303 sec\n",
            "\n",
            "Epoch 41 Batch 0 Loss 0.0468\n",
            "Epoch 41 Batch 100 Loss 0.0410\n",
            "Epoch 41 Batch 200 Loss 0.0197\n",
            "Epoch 41 Batch 300 Loss 0.0257\n",
            "Epoch 41 Batch 400 Loss 0.0519\n",
            "Epoch 41 Batch 500 Loss 0.0189\n",
            "Epoch 41 Batch 600 Loss 0.0274\n",
            "Epoch 41 Batch 700 Loss 0.0661\n",
            "Epoch 41 Batch 800 Loss 0.0534\n",
            "Epoch 41 Batch 900 Loss 0.0572\n",
            "Epoch 41 Batch 1000 Loss 0.0475\n",
            "Epoch 41 Batch 1100 Loss 0.0335\n",
            "Epoch 41 Batch 1200 Loss 0.0338\n",
            "Epoch 41 Loss 0.0465\n",
            "Time taken for 1 epoch 113.55422592163086 sec\n",
            "\n",
            "Epoch 42 Batch 0 Loss 0.0348\n",
            "Epoch 42 Batch 100 Loss 0.0303\n",
            "Epoch 42 Batch 200 Loss 0.0404\n",
            "Epoch 42 Batch 300 Loss 0.0357\n",
            "Epoch 42 Batch 400 Loss 0.0627\n",
            "Epoch 42 Batch 500 Loss 0.0520\n",
            "Epoch 42 Batch 600 Loss 0.0456\n",
            "Epoch 42 Batch 700 Loss 0.0590\n",
            "Epoch 42 Batch 800 Loss 0.0652\n",
            "Epoch 42 Batch 900 Loss 0.0547\n",
            "Epoch 42 Batch 1000 Loss 0.0746\n",
            "Epoch 42 Batch 1100 Loss 0.0611\n",
            "Epoch 42 Batch 1200 Loss 0.0489\n",
            "Epoch 42 Loss 0.0462\n",
            "Time taken for 1 epoch 114.49156737327576 sec\n",
            "\n",
            "Epoch 43 Batch 0 Loss 0.0431\n",
            "Epoch 43 Batch 100 Loss 0.0302\n",
            "Epoch 43 Batch 200 Loss 0.0107\n",
            "Epoch 43 Batch 300 Loss 0.0600\n",
            "Epoch 43 Batch 400 Loss 0.0185\n",
            "Epoch 43 Batch 500 Loss 0.0265\n",
            "Epoch 43 Batch 600 Loss 0.0372\n",
            "Epoch 43 Batch 700 Loss 0.0470\n",
            "Epoch 43 Batch 800 Loss 0.0335\n",
            "Epoch 43 Batch 900 Loss 0.0411\n",
            "Epoch 43 Batch 1000 Loss 0.0818\n",
            "Epoch 43 Batch 1100 Loss 0.0423\n",
            "Epoch 43 Batch 1200 Loss 0.0813\n",
            "Epoch 43 Loss 0.0460\n",
            "Time taken for 1 epoch 113.35731077194214 sec\n",
            "\n",
            "Epoch 44 Batch 0 Loss 0.0340\n",
            "Epoch 44 Batch 100 Loss 0.0152\n",
            "Epoch 44 Batch 200 Loss 0.0349\n",
            "Epoch 44 Batch 300 Loss 0.0399\n",
            "Epoch 44 Batch 400 Loss 0.0268\n",
            "Epoch 44 Batch 500 Loss 0.0536\n",
            "Epoch 44 Batch 600 Loss 0.0317\n",
            "Epoch 44 Batch 700 Loss 0.0265\n",
            "Epoch 44 Batch 800 Loss 0.0425\n",
            "Epoch 44 Batch 900 Loss 0.0516\n",
            "Epoch 44 Batch 1000 Loss 0.0448\n",
            "Epoch 44 Batch 1100 Loss 0.0388\n",
            "Epoch 44 Batch 1200 Loss 0.0397\n",
            "Epoch 44 Loss 0.0459\n",
            "Time taken for 1 epoch 115.03949117660522 sec\n",
            "\n",
            "Epoch 45 Batch 0 Loss 0.0496\n",
            "Epoch 45 Batch 100 Loss 0.0496\n",
            "Epoch 45 Batch 200 Loss 0.0547\n",
            "Epoch 45 Batch 300 Loss 0.0294\n",
            "Epoch 45 Batch 400 Loss 0.0409\n",
            "Epoch 45 Batch 500 Loss 0.0382\n",
            "Epoch 45 Batch 600 Loss 0.0416\n",
            "Epoch 45 Batch 700 Loss 0.0402\n",
            "Epoch 45 Batch 800 Loss 0.0444\n",
            "Epoch 45 Batch 900 Loss 0.0270\n",
            "Epoch 45 Batch 1000 Loss 0.0422\n",
            "Epoch 45 Batch 1100 Loss 0.0362\n",
            "Epoch 45 Batch 1200 Loss 0.0608\n",
            "Epoch 45 Loss 0.0447\n",
            "Time taken for 1 epoch 114.09840488433838 sec\n",
            "\n",
            "Epoch 46 Batch 0 Loss 0.0520\n",
            "Epoch 46 Batch 100 Loss 0.0369\n",
            "Epoch 46 Batch 200 Loss 0.0479\n",
            "Epoch 46 Batch 300 Loss 0.0211\n",
            "Epoch 46 Batch 400 Loss 0.0294\n",
            "Epoch 46 Batch 500 Loss 0.0648\n",
            "Epoch 46 Batch 600 Loss 0.0400\n",
            "Epoch 46 Batch 700 Loss 0.0281\n",
            "Epoch 46 Batch 800 Loss 0.0469\n",
            "Epoch 46 Batch 900 Loss 0.0622\n",
            "Epoch 46 Batch 1000 Loss 0.0630\n",
            "Epoch 46 Batch 1100 Loss 0.0585\n",
            "Epoch 46 Batch 1200 Loss 0.0459\n",
            "Epoch 46 Loss 0.0447\n",
            "Time taken for 1 epoch 114.21976327896118 sec\n",
            "\n",
            "Epoch 47 Batch 0 Loss 0.0448\n",
            "Epoch 47 Batch 100 Loss 0.0210\n",
            "Epoch 47 Batch 200 Loss 0.0197\n",
            "Epoch 47 Batch 300 Loss 0.0501\n",
            "Epoch 47 Batch 400 Loss 0.0421\n",
            "Epoch 47 Batch 500 Loss 0.0279\n",
            "Epoch 47 Batch 600 Loss 0.0689\n",
            "Epoch 47 Batch 700 Loss 0.0369\n",
            "Epoch 47 Batch 800 Loss 0.0450\n",
            "Epoch 47 Batch 900 Loss 0.0387\n",
            "Epoch 47 Batch 1000 Loss 0.0619\n",
            "Epoch 47 Batch 1100 Loss 0.0569\n",
            "Epoch 47 Batch 1200 Loss 0.0436\n",
            "Epoch 47 Loss 0.0446\n",
            "Time taken for 1 epoch 112.41758370399475 sec\n",
            "\n",
            "Epoch 48 Batch 0 Loss 0.0197\n",
            "Epoch 48 Batch 100 Loss 0.0349\n",
            "Epoch 48 Batch 200 Loss 0.0271\n",
            "Epoch 48 Batch 300 Loss 0.0154\n",
            "Epoch 48 Batch 400 Loss 0.0456\n",
            "Epoch 48 Batch 500 Loss 0.0309\n",
            "Epoch 48 Batch 600 Loss 0.0231\n",
            "Epoch 48 Batch 700 Loss 0.0251\n",
            "Epoch 48 Batch 800 Loss 0.0443\n",
            "Epoch 48 Batch 900 Loss 0.0349\n",
            "Epoch 48 Batch 1000 Loss 0.0440\n",
            "Epoch 48 Batch 1100 Loss 0.0373\n",
            "Epoch 48 Batch 1200 Loss 0.0634\n",
            "Epoch 48 Loss 0.0445\n",
            "Time taken for 1 epoch 113.16730451583862 sec\n",
            "\n",
            "Epoch 49 Batch 0 Loss 0.0204\n",
            "Epoch 49 Batch 100 Loss 0.0369\n",
            "Epoch 49 Batch 200 Loss 0.0464\n",
            "Epoch 49 Batch 300 Loss 0.0426\n",
            "Epoch 49 Batch 400 Loss 0.0380\n",
            "Epoch 49 Batch 500 Loss 0.0392\n",
            "Epoch 49 Batch 600 Loss 0.0566\n",
            "Epoch 49 Batch 700 Loss 0.0353\n",
            "Epoch 49 Batch 800 Loss 0.0424\n",
            "Epoch 49 Batch 900 Loss 0.0490\n",
            "Epoch 49 Batch 1000 Loss 0.0309\n",
            "Epoch 49 Batch 1100 Loss 0.0358\n",
            "Epoch 49 Batch 1200 Loss 0.0320\n",
            "Epoch 49 Loss 0.0439\n",
            "Time taken for 1 epoch 112.78618550300598 sec\n",
            "\n",
            "Epoch 50 Batch 0 Loss 0.0141\n",
            "Epoch 50 Batch 100 Loss 0.0544\n",
            "Epoch 50 Batch 200 Loss 0.0148\n",
            "Epoch 50 Batch 300 Loss 0.0598\n",
            "Epoch 50 Batch 400 Loss 0.0434\n",
            "Epoch 50 Batch 500 Loss 0.0478\n",
            "Epoch 50 Batch 600 Loss 0.0453\n",
            "Epoch 50 Batch 700 Loss 0.0346\n",
            "Epoch 50 Batch 800 Loss 0.0372\n",
            "Epoch 50 Batch 900 Loss 0.0379\n",
            "Epoch 50 Batch 1000 Loss 0.0286\n",
            "Epoch 50 Batch 1100 Loss 0.0433\n",
            "Epoch 50 Batch 1200 Loss 0.0614\n",
            "Epoch 50 Loss 0.0437\n",
            "Time taken for 1 epoch 113.27002811431885 sec\n",
            "\n"
          ],
          "name": "stdout"
        }
      ]
    },
    {
      "cell_type": "markdown",
      "metadata": {
        "id": "-q5MsxFIxc9X"
      },
      "source": [
        "## Translate\n",
        "\n",
        "* The evaluate function is similar to the training loop, except we don't use *teacher forcing* here. The input to the decoder at each time step is its previous predictions along with the hidden state and the encoder output.\n",
        "* Stop predicting when the model predicts the *end token*.\n",
        "* And store the *attention weights for every time step*.\n",
        "\n",
        "Note: The encoder output is calculated only once for one input."
      ]
    },
    {
      "cell_type": "code",
      "metadata": {
        "id": "KpM4gas8xHax"
      },
      "source": [
        "def evaluate(sentence):\n",
        "    attention_plot = np.zeros((max_length_targ, max_length_inp))\n",
        "\n",
        "    sentence = preprocess_sentence(sentence)\n",
        "\n",
        "    inputs = [inp_lang.word_index[i] for i in sentence.split(' ')]\n",
        "    inputs = tf.keras.preprocessing.sequence.pad_sequences([inputs],\n",
        "                                                         maxlen=max_length_inp,\n",
        "                                                         padding='post')\n",
        "    inputs = tf.convert_to_tensor(inputs)\n",
        "\n",
        "    result = ''\n",
        "\n",
        "    hidden = [tf.zeros((1, units))]\n",
        "    enc_hidden = encoder(inputs, hidden)\n",
        "\n",
        "    dec_hidden = enc_hidden\n",
        "    dec_input = tf.expand_dims([targ_lang.word_index['<start>']], 0)\n",
        "\n",
        "    for t in range(max_length_targ):\n",
        "        predictions, dec_hidden = decoder(dec_input, dec_hidden)\n",
        "\n",
        "        # storing the attention weights to plot later on\n",
        "        predicted_id = tf.argmax(predictions[0]).numpy()\n",
        "        result += targ_lang.index_word[predicted_id] + ' '\n",
        "\n",
        "        if targ_lang.index_word[predicted_id] == '<end>':\n",
        "            return result, sentence\n",
        "\n",
        "        # the predicted ID is fed back into the model\n",
        "        dec_input = tf.expand_dims([predicted_id], 0)\n",
        "\n",
        "    return result, sentence"
      ],
      "execution_count": 30,
      "outputs": []
    },
    {
      "cell_type": "code",
      "metadata": {
        "id": "dOV1-EcFxHdY"
      },
      "source": [
        "def translate(sentence):\n",
        "  result, sentence = evaluate(sentence)\n",
        "\n",
        "  print('Input: %s' % (sentence))\n",
        "  print('Predicted translation: {}'.format(result))"
      ],
      "execution_count": 31,
      "outputs": []
    },
    {
      "cell_type": "markdown",
      "metadata": {
        "id": "Y7cEPwi3xirP"
      },
      "source": [
        "## Restore the latest checkpoint and test"
      ]
    },
    {
      "cell_type": "code",
      "metadata": {
        "colab": {
          "base_uri": "https://localhost:8080/"
        },
        "id": "ETjxtV5JxHgS",
        "outputId": "b7fb1e59-ec96-4918-83cd-2ce61d0ba094"
      },
      "source": [
        "# restoring the latest checkpoint in checkpoint_dir\n",
        "checkpoint.restore(tf.train.latest_checkpoint(checkpoint_dir))"
      ],
      "execution_count": 32,
      "outputs": [
        {
          "output_type": "execute_result",
          "data": {
            "text/plain": [
              "<tensorflow.python.training.tracking.util.CheckpointLoadStatus at 0x7fe1793e8d50>"
            ]
          },
          "metadata": {
            "tags": []
          },
          "execution_count": 32
        }
      ]
    },
    {
      "cell_type": "code",
      "metadata": {
        "colab": {
          "base_uri": "https://localhost:8080/"
        },
        "id": "xk9dmp2dxuAE",
        "outputId": "86a5e3bb-8abf-4d7d-bb6a-2e3d140280bf"
      },
      "source": [
        "translate('Здесь хорошо.')"
      ],
      "execution_count": 34,
      "outputs": [
        {
          "output_type": "stream",
          "text": [
            "Input: <start> здесь хорошо . <end>\n",
            "Predicted translation: it's ok here . <end> \n"
          ],
          "name": "stdout"
        }
      ]
    },
    {
      "cell_type": "code",
      "metadata": {
        "colab": {
          "base_uri": "https://localhost:8080/"
        },
        "id": "UXM17_LPxuDC",
        "outputId": "bb65b847-28a9-4527-a993-7aa8878423cd"
      },
      "source": [
        "translate('Отлично, поехали.')"
      ],
      "execution_count": 35,
      "outputs": [
        {
          "output_type": "stream",
          "text": [
            "Input: <start> отлично , поехали . <end>\n",
            "Predicted translation: well , let's go . <end> \n"
          ],
          "name": "stdout"
        }
      ]
    },
    {
      "cell_type": "code",
      "metadata": {
        "colab": {
          "base_uri": "https://localhost:8080/"
        },
        "id": "l_0QbUTRxuFp",
        "outputId": "54fca3c3-2c7e-42e3-ca05-2622b62e3d28"
      },
      "source": [
        "translate('Это слишком дорого для меня.')"
      ],
      "execution_count": 36,
      "outputs": [
        {
          "output_type": "stream",
          "text": [
            "Input: <start> это слишком дорого для меня . <end>\n",
            "Predicted translation: it's too hard for me . <end> \n"
          ],
          "name": "stdout"
        }
      ]
    },
    {
      "cell_type": "code",
      "metadata": {
        "colab": {
          "base_uri": "https://localhost:8080/"
        },
        "id": "XVf5vyVnxuH2",
        "outputId": "6d28da8c-2c92-4240-9d16-6e58f5fd03d8"
      },
      "source": [
        "translate('А счастье было так возможно, так близко!.')"
      ],
      "execution_count": 40,
      "outputs": [
        {
          "output_type": "stream",
          "text": [
            "Input: <start> а счастье было так возможно , так близко ! . <end>\n",
            "Predicted translation: so what can be true ? <end> \n"
          ],
          "name": "stdout"
        }
      ]
    },
    {
      "cell_type": "code",
      "metadata": {
        "colab": {
          "base_uri": "https://localhost:8080/"
        },
        "id": "TmGMCO6YxuKk",
        "outputId": "0034ef74-8c08-4d62-9c53-4af698c5031c"
      },
      "source": [
        "translate('Интересно, а если написать длинное предложение и попробовать его перевести, какой результат мы увидим?')"
      ],
      "execution_count": 45,
      "outputs": [
        {
          "output_type": "stream",
          "text": [
            "Input: <start> интересно , а если написать длинное предложение и попробовать его перевести , какой результат мы увидим ? <end>\n",
            "Predicted translation: if if we stay beat ? <end> \n"
          ],
          "name": "stdout"
        }
      ]
    },
    {
      "cell_type": "code",
      "metadata": {
        "id": "bDIzHg2Zv_hy"
      },
      "source": [
        "Э"
      ],
      "execution_count": null,
      "outputs": []
    }
  ]
}