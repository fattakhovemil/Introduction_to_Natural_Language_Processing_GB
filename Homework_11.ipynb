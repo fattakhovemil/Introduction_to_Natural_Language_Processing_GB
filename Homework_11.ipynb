{
 "cells": [
  {
   "cell_type": "markdown",
   "metadata": {
    "id": "arUB_mxTEqvx"
   },
   "source": [
    "# Модель Transformer-1"
   ]
  },
  {
   "cell_type": "code",
   "execution_count": 3,
   "metadata": {
    "id": "eLikLCSlER8b"
   },
   "outputs": [],
   "source": [
    "import tensorflow as tf\n",
    "\n",
    "import matplotlib.pyplot as plt\n",
    "import matplotlib.ticker as ticker\n",
    "from sklearn.model_selection import train_test_split\n",
    "\n",
    "import unicodedata\n",
    "import re\n",
    "import numpy as np\n",
    "import os\n",
    "import io\n",
    "import time"
   ]
  },
  {
   "cell_type": "markdown",
   "metadata": {
    "id": "8nwNle0BTG3I"
   },
   "source": [
    "## Download and prepare the dataset\n",
    "\n",
    "We'll use a language dataset provided by http://www.manythings.org/anki/"
   ]
  },
  {
   "cell_type": "code",
   "execution_count": 4,
   "metadata": {
    "colab": {
     "base_uri": "https://localhost:8080/"
    },
    "id": "wYi9ZAdBOH07",
    "outputId": "0af5408c-d4aa-4a46-d4f2-2c4f52a0b8e3"
   },
   "outputs": [
    {
     "name": "stdout",
     "output_type": "stream",
     "text": [
      "--2021-08-14 03:03:32--  http://www.manythings.org/anki/rus-eng.zip\n",
      "Resolving www.manythings.org (www.manythings.org)... 104.21.92.44, 172.67.186.54, 2606:4700:3033::ac43:ba36, ...\n",
      "Connecting to www.manythings.org (www.manythings.org)|104.21.92.44|:80... connected.\n",
      "HTTP request sent, awaiting response... 200 OK\n",
      "Length: 14385451 (14M) [application/zip]\n",
      "Saving to: ‘rus-eng.zip’\n",
      "\n",
      "rus-eng.zip         100%[===================>]  13.72M  16.2MB/s    in 0.8s    \n",
      "\n",
      "2021-08-14 03:03:33 (16.2 MB/s) - ‘rus-eng.zip’ saved [14385451/14385451]\n",
      "\n"
     ]
    }
   ],
   "source": [
    "!wget http://www.manythings.org/anki/rus-eng.zip"
   ]
  },
  {
   "cell_type": "code",
   "execution_count": 5,
   "metadata": {
    "colab": {
     "base_uri": "https://localhost:8080/"
    },
    "id": "sfWCk8t3OH3m",
    "outputId": "c6ef291b-877a-483a-86c1-636575c08cc1"
   },
   "outputs": [
    {
     "name": "stdout",
     "output_type": "stream",
     "text": [
      "Archive:  rus-eng.zip\n",
      "  inflating: rus-eng/rus.txt         \n",
      "  inflating: rus-eng/_about.txt      \n"
     ]
    }
   ],
   "source": [
    "!mkdir rus-eng\n",
    "!unzip rus-eng.zip -d rus-eng/"
   ]
  },
  {
   "cell_type": "code",
   "execution_count": 6,
   "metadata": {
    "colab": {
     "base_uri": "https://localhost:8080/"
    },
    "id": "QaUXKz7rOH51",
    "outputId": "c3bfbfa6-e47c-4c0e-a9e2-0cbbfe47b154"
   },
   "outputs": [
    {
     "name": "stdout",
     "output_type": "stream",
     "text": [
      "total 69M\n",
      "drwxr-xr-x 2 root root 4.0K Aug 14 03:03 .\n",
      "drwxr-xr-x 1 root root 4.0K Aug 14 03:03 ..\n",
      "-rw-r--r-- 1 root root 1.5K Jul 14 10:16 _about.txt\n",
      "-rw-r--r-- 1 root root  69M Jul 14 10:16 rus.txt\n"
     ]
    }
   ],
   "source": [
    "!ls /content/rus-eng/ -lah"
   ]
  },
  {
   "cell_type": "code",
   "execution_count": 7,
   "metadata": {
    "id": "gF85lrP1TTVM"
   },
   "outputs": [],
   "source": [
    "path_to_file = \"/content/rus-eng/rus.txt\""
   ]
  },
  {
   "cell_type": "code",
   "execution_count": 8,
   "metadata": {
    "id": "sobeM3neTTZF"
   },
   "outputs": [],
   "source": [
    "def preprocess_sentence(w):\n",
    "    w = w.lower().strip()\n",
    "\n",
    "    # creating a space between a word and the punctuation following it\n",
    "    # eg: \"he is a boy.\" => \"he is a boy .\"\n",
    "    # Reference:- https://stackoverflow.com/questions/3645931/python-padding-punctuation-with-white-spaces-keeping-punctuation\n",
    "    w = re.sub(r\"([?.!,])\", r\" \\1 \", w)\n",
    "    w = re.sub(r'[\" \"]+', \" \", w)\n",
    "\n",
    "    # replacing everything with space except (a-z, A-Z, \".\", \"?\", \"!\", \",\")\n",
    "    w = re.sub(r\"[^a-zA-Zа-яА-Я?.!,']+\", \" \", w)\n",
    "\n",
    "    w = w.strip()\n",
    "\n",
    "    # adding a start and an end token to the sentence\n",
    "    # so that the model know when to start and stop predicting.\n",
    "    w = '<start> ' + w + ' <end>'\n",
    "    return w"
   ]
  },
  {
   "cell_type": "code",
   "execution_count": 9,
   "metadata": {
    "colab": {
     "base_uri": "https://localhost:8080/",
     "height": 35
    },
    "id": "1rcjHBRKTTbW",
    "outputId": "a83da136-3bb4-4ef0-e23c-02f0481e90df"
   },
   "outputs": [
    {
     "data": {
      "application/vnd.google.colaboratory.intrinsic+json": {
       "type": "string"
      },
      "text/plain": [
       "\"<start> i can't go . <end>\""
      ]
     },
     "execution_count": 9,
     "metadata": {
      "tags": []
     },
     "output_type": "execute_result"
    }
   ],
   "source": [
    "preprocess_sentence(\"I can't go.\")"
   ]
  },
  {
   "cell_type": "code",
   "execution_count": 10,
   "metadata": {
    "id": "0eUbz9PDTTdw"
   },
   "outputs": [],
   "source": [
    "# 1. Remove the accents\n",
    "# 2. Clean the sentences\n",
    "# 3. Return word pairs in the format: [ENGLISH, SPANISH]\n",
    "def create_dataset(path, num_examples):\n",
    "    lines = io.open(path, encoding='UTF-8').read().strip().split('\\n')\n",
    "\n",
    "    word_pairs = [[preprocess_sentence(w) for w in l.split('\\t')[:2]]  for l in lines[:num_examples]]\n",
    "\n",
    "    return zip(*word_pairs)"
   ]
  },
  {
   "cell_type": "code",
   "execution_count": 11,
   "metadata": {
    "colab": {
     "base_uri": "https://localhost:8080/"
    },
    "id": "sV4QC5BrTTgQ",
    "outputId": "c87b39a9-c476-4b58-a660-3ac720d971c0"
   },
   "outputs": [
    {
     "name": "stdout",
     "output_type": "stream",
     "text": [
      "<start> doubtless there exists in this world precisely the right woman for any given man to marry and vice versa but when you consider that a human being has the opportunity of being acquainted with only a few hundred people , and out of the few hundred that there are but a dozen or less whom he knows intimately , and out of the dozen , one or two friends at most , it will easily be seen , when we remember the number of millions who inhabit this world , that probably , since the earth was created , the right man has never yet met the right woman . <end>\n",
      "<start> несомненно , для каждого мужчины в этом мире где то есть подходящая женщина , которая может стать ему женой , обратное верно и для женщин . но если учесть , что у человека может быть максимум несколько сотен знакомых , из которых лишь дюжина , а то и меньше , тех , кого он знает близко , а из этой дюжины у него один или от силы два друга , то можно легко увидеть , что с уч том миллионов живущих на земле людей , ни один подходящий мужчина , возможно , ещ не встретил подходящую женщину . <end>\n"
     ]
    }
   ],
   "source": [
    "en, ru = create_dataset(path_to_file, None)\n",
    "print(en[-1])\n",
    "print(ru[-1])"
   ]
  },
  {
   "cell_type": "code",
   "execution_count": 12,
   "metadata": {
    "id": "6RZZxUqaTTie"
   },
   "outputs": [],
   "source": [
    "def tokenize(lang):\n",
    "    lang_tokenizer = tf.keras.preprocessing.text.Tokenizer(\n",
    "      filters='')\n",
    "    lang_tokenizer.fit_on_texts(lang)\n",
    "\n",
    "    tensor = lang_tokenizer.texts_to_sequences(lang)\n",
    "\n",
    "    tensor = tf.keras.preprocessing.sequence.pad_sequences(tensor,\n",
    "                                                         padding='post')\n",
    "\n",
    "    return tensor, lang_tokenizer"
   ]
  },
  {
   "cell_type": "code",
   "execution_count": 13,
   "metadata": {
    "id": "bCYQK-ddTTlE"
   },
   "outputs": [],
   "source": [
    "def load_dataset(path, num_examples=None):\n",
    "    # creating cleaned input, output pairs\n",
    "    targ_lang, inp_lang = create_dataset(path, num_examples)\n",
    "\n",
    "    input_tensor, inp_lang_tokenizer = tokenize(inp_lang)\n",
    "    target_tensor, targ_lang_tokenizer = tokenize(targ_lang)\n",
    "\n",
    "    return input_tensor, target_tensor, inp_lang_tokenizer, targ_lang_tokenizer"
   ]
  },
  {
   "cell_type": "markdown",
   "metadata": {
    "id": "GYFbyQqATsqI"
   },
   "source": [
    "### Limit the size of the dataset to experiment faster (optional)"
   ]
  },
  {
   "cell_type": "code",
   "execution_count": 14,
   "metadata": {
    "colab": {
     "base_uri": "https://localhost:8080/"
    },
    "id": "ALcv6PJCTTnO",
    "outputId": "686dffb1-745a-4c24-f4da-5ec816be4320"
   },
   "outputs": [
    {
     "data": {
      "text/plain": [
       "(431097, 431097)"
      ]
     },
     "execution_count": 14,
     "metadata": {
      "tags": []
     },
     "output_type": "execute_result"
    }
   ],
   "source": [
    "len(en), len(ru)"
   ]
  },
  {
   "cell_type": "code",
   "execution_count": 15,
   "metadata": {
    "id": "koKoymKkTTp5"
   },
   "outputs": [],
   "source": [
    "# Try experimenting with the size of that dataset\n",
    "num_examples = 100000\n",
    "input_tensor, target_tensor, inp_lang, targ_lang = load_dataset(path_to_file, num_examples)\n",
    "\n",
    "# Calculate max_length of the target tensors\n",
    "max_length_targ, max_length_inp = target_tensor.shape[1], input_tensor.shape[1]"
   ]
  },
  {
   "cell_type": "code",
   "execution_count": 16,
   "metadata": {
    "colab": {
     "base_uri": "https://localhost:8080/"
    },
    "id": "iOn0kxDdTTsO",
    "outputId": "ad1344fe-9bb5-4837-829d-34d57534444d"
   },
   "outputs": [
    {
     "name": "stdout",
     "output_type": "stream",
     "text": [
      "80000 80000 20000 20000\n"
     ]
    }
   ],
   "source": [
    "# Creating training and validation sets using an 80-20 split\n",
    "input_tensor_train, input_tensor_val, target_tensor_train, target_tensor_val = train_test_split(input_tensor, target_tensor, test_size=0.2)\n",
    "\n",
    "# Show length\n",
    "print(len(input_tensor_train), len(target_tensor_train), len(input_tensor_val), len(target_tensor_val))"
   ]
  },
  {
   "cell_type": "code",
   "execution_count": 17,
   "metadata": {
    "id": "Fv1SikBHTTuy"
   },
   "outputs": [],
   "source": [
    "def convert(lang, tensor):\n",
    "    for t in tensor:\n",
    "        if t!=0:\n",
    "            print (\"%d ----> %s\" % (t, lang.index_word[t]))"
   ]
  },
  {
   "cell_type": "code",
   "execution_count": 18,
   "metadata": {
    "colab": {
     "base_uri": "https://localhost:8080/"
    },
    "id": "ivMLCW0YTyp2",
    "outputId": "9dbe4981-321f-4e65-a18d-821a832511b7"
   },
   "outputs": [
    {
     "name": "stdout",
     "output_type": "stream",
     "text": [
      "Input Language; index to word mapping\n",
      "1 ----> <start>\n",
      "19 ----> он\n",
      "20077 ----> промотал\n",
      "53 ----> все\n",
      "254 ----> свои\n",
      "172 ----> деньги\n",
      "3 ----> .\n",
      "2 ----> <end>\n",
      "\n",
      "Target Language; index to word mapping\n",
      "1 ----> <start>\n",
      "27 ----> he\n",
      "1523 ----> blew\n",
      "62 ----> all\n",
      "96 ----> his\n",
      "175 ----> money\n",
      "3 ----> .\n",
      "2 ----> <end>\n"
     ]
    }
   ],
   "source": [
    "print (\"Input Language; index to word mapping\")\n",
    "convert(inp_lang, input_tensor_train[0])\n",
    "print ()\n",
    "print (\"Target Language; index to word mapping\")\n",
    "convert(targ_lang, target_tensor_train[0])"
   ]
  },
  {
   "cell_type": "markdown",
   "metadata": {
    "id": "3Vj6STeQT-XG"
   },
   "source": [
    "### Create a tf.data dataset"
   ]
  },
  {
   "cell_type": "code",
   "execution_count": 19,
   "metadata": {
    "id": "L-242-GxTysY"
   },
   "outputs": [],
   "source": [
    "BUFFER_SIZE = len(input_tensor_train)\n",
    "BATCH_SIZE = 64\n",
    "steps_per_epoch = len(input_tensor_train)//BATCH_SIZE\n",
    "embedding_dim = 256\n",
    "units = 1024\n",
    "vocab_inp_size = len(inp_lang.word_index)+1\n",
    "vocab_tar_size = len(targ_lang.word_index)+1\n",
    "\n",
    "dataset = tf.data.Dataset.from_tensor_slices((input_tensor_train, target_tensor_train)).shuffle(BUFFER_SIZE)\n",
    "dataset = dataset.batch(BATCH_SIZE, drop_remainder=True)"
   ]
  },
  {
   "cell_type": "code",
   "execution_count": 20,
   "metadata": {
    "colab": {
     "base_uri": "https://localhost:8080/"
    },
    "id": "9xq_q8fnTyum",
    "outputId": "e4114161-9eb0-4eab-f1b6-d9ff5b5d5302"
   },
   "outputs": [
    {
     "data": {
      "text/plain": [
       "(TensorShape([64, 15]), TensorShape([64, 11]))"
      ]
     },
     "execution_count": 20,
     "metadata": {
      "tags": []
     },
     "output_type": "execute_result"
    }
   ],
   "source": [
    "example_input_batch, example_target_batch = next(iter(dataset))\n",
    "example_input_batch.shape, example_target_batch.shape"
   ]
  },
  {
   "cell_type": "code",
   "execution_count": 21,
   "metadata": {
    "id": "AnK0N9NpUA8W"
   },
   "outputs": [],
   "source": [
    "class Encoder(tf.keras.Model):\n",
    "    def __init__(self, vocab_size, embedding_dim, enc_units, batch_sz):\n",
    "        super(Encoder, self).__init__()\n",
    "        self.batch_sz = batch_sz\n",
    "        self.enc_units = enc_units\n",
    "        self.embedding = tf.keras.layers.Embedding(vocab_size, embedding_dim)\n",
    "        self.gru = tf.keras.layers.GRU(self.enc_units,\n",
    "                                       return_sequences=True, #additional output dim sequence length\n",
    "                                       return_state=True,\n",
    "                                       recurrent_initializer='glorot_uniform')\n",
    "\n",
    "\n",
    "    def call(self, x, hidden):\n",
    "        x = self.embedding(x)\n",
    "        output, state = self.gru(x, initial_state = hidden)\n",
    "        return output, state # нужен выходной слой\n",
    "\n",
    "    def initialize_hidden_state(self):\n",
    "        return tf.zeros((self.batch_sz, self.enc_units))"
   ]
  },
  {
   "cell_type": "code",
   "execution_count": 22,
   "metadata": {
    "colab": {
     "base_uri": "https://localhost:8080/"
    },
    "id": "w4GXjIo9UA_M",
    "outputId": "09c0676b-d140-4462-ca61-c2df1c1d796c"
   },
   "outputs": [
    {
     "name": "stdout",
     "output_type": "stream",
     "text": [
      "Encoder output shape: (batch size, sequence length, units) (64, 15, 1024)\n",
      "Encoder Hidden state shape: (batch size, units) (64, 1024)\n"
     ]
    }
   ],
   "source": [
    "encoder = Encoder(vocab_inp_size, embedding_dim, units, BATCH_SIZE)\n",
    "\n",
    "# sample input\n",
    "sample_hidden = encoder.initialize_hidden_state()\n",
    "sample_output, sample_hidden = encoder(example_input_batch, sample_hidden)\n",
    "print ('Encoder output shape: (batch size, sequence length, units) {}'.format(sample_output.shape))\n",
    "print ('Encoder Hidden state shape: (batch size, units) {}'.format(sample_hidden.shape))"
   ]
  },
  {
   "cell_type": "code",
   "execution_count": 23,
   "metadata": {
    "id": "IssL98AHUBBm"
   },
   "outputs": [],
   "source": [
    "class BahdanauAttention(tf.keras.layers.Layer):\n",
    "    def __init__(self, units):\n",
    "        super(BahdanauAttention, self).__init__()\n",
    "        self.W1 = tf.keras.layers.Dense(units)\n",
    "        self.W2 = tf.keras.layers.Dense(units)\n",
    "        self.V = tf.keras.layers.Dense(1)\n",
    "\n",
    "    def call(self, query, values):\n",
    "        # query - sample_hidden\n",
    "        # values - sample_output\n",
    "        \n",
    "        # query hidden state shape == (batch_size, hidden size)\n",
    "        # query_with_time_axis shape == (batch_size, 1, hidden size)\n",
    "        # values shape == (batch_size, max_len, hidden size)\n",
    "        # we are doing this to broadcast addition along the time axis to calculate the score\n",
    "        query_with_time_axis = tf.expand_dims(query, 1)\n",
    "\n",
    "        # score shape == (batch_size, max_length, 1)\n",
    "        # we get 1 at the last axis because we are applying score to self.V\n",
    "        # the shape of the tensor before applying self.V is (batch_size, max_length, units)\n",
    "        # W1 - sample_hidden через Dense\n",
    "        # W2 - sample_output через Dense\n",
    "        # tanh активация -> скоры\n",
    "        score = self.V(tf.nn.tanh(\n",
    "            self.W1(query_with_time_axis) + self.W2(values)))\n",
    "\n",
    "        # attention_weights shape == (batch_size, max_length, 1)\n",
    "        attention_weights = tf.nn.softmax(score, axis=1)\n",
    "\n",
    "        # context_vector shape after sum == (batch_size, hidden_size)\n",
    "        context_vector = attention_weights * values\n",
    "        context_vector = tf.reduce_sum(context_vector, axis=1)\n",
    "\n",
    "        return context_vector, attention_weights"
   ]
  },
  {
   "cell_type": "code",
   "execution_count": 24,
   "metadata": {
    "colab": {
     "base_uri": "https://localhost:8080/"
    },
    "id": "UAVTejRNUBD6",
    "outputId": "0643c72f-d851-418e-eea7-307d862b9008"
   },
   "outputs": [
    {
     "name": "stdout",
     "output_type": "stream",
     "text": [
      "Attention result shape: (batch size, units) (64, 1024)\n",
      "Attention weights shape: (batch_size, sequence_length, 1) (64, 15, 1)\n"
     ]
    }
   ],
   "source": [
    "attention_layer = BahdanauAttention(10) \n",
    "attention_result, attention_weights = attention_layer(sample_hidden, sample_output)\n",
    "\n",
    "print(\"Attention result shape: (batch size, units) {}\".format(attention_result.shape))\n",
    "print(\"Attention weights shape: (batch_size, sequence_length, 1) {}\".format(attention_weights.shape))"
   ]
  },
  {
   "cell_type": "code",
   "execution_count": 25,
   "metadata": {
    "id": "MJr1T2ZUUBGY"
   },
   "outputs": [],
   "source": [
    "class Decoder(tf.keras.Model):\n",
    "    def __init__(self, vocab_size, embedding_dim, dec_units, batch_sz):\n",
    "        super(Decoder, self).__init__()\n",
    "        self.batch_sz = batch_sz\n",
    "        self.dec_units = dec_units\n",
    "        self.embedding = tf.keras.layers.Embedding(vocab_size, embedding_dim)\n",
    "        self.gru = tf.keras.layers.GRU(self.dec_units,\n",
    "                                       return_sequences=True,\n",
    "                                       return_state=True,\n",
    "                                       recurrent_initializer='glorot_uniform')\n",
    "        self.fc = tf.keras.layers.Dense(vocab_size)\n",
    "        \n",
    "        # used for attention\n",
    "        self.attention = BahdanauAttention(self.dec_units)        \n",
    "\n",
    "    def call(self, x, hidden, enc_output): \n",
    "        # enc_output shape == (batch_size, max_length, hidden_size) = (batch size, sequence length, units)\n",
    "        context_vector, attention_weights = self.attention(hidden, enc_output)\n",
    "\n",
    "        # x shape after passing through embedding == (batch_size, 1, embedding_dim)\n",
    "        x = self.embedding(x)\n",
    "\n",
    "        # x shape after concatenation == (batch_size, 1, embedding_dim + hidden_size)\n",
    "        x = tf.concat([tf.expand_dims(context_vector, 1), x], axis=-1) \n",
    "\n",
    "        # passing the concatenated vector to the GRU\n",
    "        output, state = self.gru(x, initial_state=hidden) \n",
    "        #initial_state = sample_hidden - List of initial state tensors to be passed to the first call of the cell\n",
    "\n",
    "        # output shape == (batch_size * 1, hidden_size)\n",
    "        output = tf.reshape(output, (-1, output.shape[2]))\n",
    "\n",
    "        # output shape == (batch_size, vocab)\n",
    "        x = self.fc(output)\n",
    "        \n",
    "        return x, state, attention_weights"
   ]
  },
  {
   "cell_type": "code",
   "execution_count": 26,
   "metadata": {
    "colab": {
     "base_uri": "https://localhost:8080/"
    },
    "id": "hs4bFfpPTywu",
    "outputId": "9990d626-1435-437e-923f-f55d1f1f0601"
   },
   "outputs": [
    {
     "name": "stdout",
     "output_type": "stream",
     "text": [
      "Decoder output shape: (batch_size, vocab size) (64, 7260)\n"
     ]
    }
   ],
   "source": [
    "decoder = Decoder(vocab_tar_size, embedding_dim, units, BATCH_SIZE)\n",
    "\n",
    "sample_decoder_output, _, _ = decoder(tf.random.uniform((BATCH_SIZE, 1)),\n",
    "                                      sample_hidden, sample_output)\n",
    "\n",
    "print ('Decoder output shape: (batch_size, vocab size) {}'.format(sample_decoder_output.shape))"
   ]
  },
  {
   "cell_type": "markdown",
   "metadata": {
    "id": "uQrES93Fle9f"
   },
   "source": [
    "## Define the optimizer and the loss function"
   ]
  },
  {
   "cell_type": "code",
   "execution_count": 27,
   "metadata": {
    "id": "pqMrg_RfTyzA"
   },
   "outputs": [],
   "source": [
    "optimizer = tf.keras.optimizers.Adam()\n",
    "loss_object = tf.keras.losses.SparseCategoricalCrossentropy(\n",
    "    from_logits=True, reduction='none')\n",
    "\n",
    "def loss_function(real, pred):\n",
    "    mask = tf.math.logical_not(tf.math.equal(real, 0))\n",
    "    loss_ = loss_object(real, pred)\n",
    "\n",
    "    mask = tf.cast(mask, dtype=loss_.dtype)\n",
    "    loss_ *= mask\n",
    "\n",
    "    return tf.reduce_mean(loss_)"
   ]
  },
  {
   "cell_type": "markdown",
   "metadata": {
    "id": "y6rufgVvlilS"
   },
   "source": [
    "## Checkpoints (Object-based saving)"
   ]
  },
  {
   "cell_type": "code",
   "execution_count": 28,
   "metadata": {
    "id": "YTb1RCwWTTwp"
   },
   "outputs": [],
   "source": [
    "checkpoint_dir = './training_attention_checkpoints'\n",
    "checkpoint_prefix = os.path.join(checkpoint_dir, \"ckpt\")\n",
    "checkpoint = tf.train.Checkpoint(optimizer=optimizer,\n",
    "                                 encoder=encoder,\n",
    "                                 decoder=decoder)"
   ]
  },
  {
   "cell_type": "code",
   "execution_count": 29,
   "metadata": {
    "id": "IYYNVXQqOH8T"
   },
   "outputs": [],
   "source": [
    "@tf.function\n",
    "def train_step(inp, targ, enc_hidden):\n",
    "    loss = 0\n",
    "\n",
    "    with tf.GradientTape() as tape:\n",
    "        enc_output, enc_hidden = encoder(inp, enc_hidden)\n",
    "\n",
    "        dec_hidden = enc_hidden\n",
    "\n",
    "        dec_input = tf.expand_dims([targ_lang.word_index['<start>']] * BATCH_SIZE, 1)\n",
    "\n",
    "        # Teacher forcing - feeding the target as the next input\n",
    "        for t in range(1, targ.shape[1]):\n",
    "            # passing enc_output to the decoder\n",
    "            predictions, dec_hidden, att_weights = decoder(dec_input, dec_hidden, enc_output)\n",
    "\n",
    "            loss += loss_function(targ[:, t], predictions)\n",
    "\n",
    "            # using teacher forcing\n",
    "            dec_input = tf.expand_dims(targ[:, t], 1)\n",
    "\n",
    "    batch_loss = (loss / int(targ.shape[1]))\n",
    "\n",
    "    variables = encoder.trainable_variables + decoder.trainable_variables\n",
    "\n",
    "    gradients = tape.gradient(loss, variables)\n",
    "\n",
    "    optimizer.apply_gradients(zip(gradients, variables))\n",
    "\n",
    "    return batch_loss"
   ]
  },
  {
   "cell_type": "code",
   "execution_count": 30,
   "metadata": {
    "colab": {
     "base_uri": "https://localhost:8080/"
    },
    "id": "2ZzQDtgNOH-e",
    "outputId": "128932e7-3275-49a8-fdb6-158111f2e4d2"
   },
   "outputs": [
    {
     "name": "stdout",
     "output_type": "stream",
     "text": [
      "Epoch 1 Batch 0 Loss 4.7226\n",
      "Epoch 1 Batch 100 Loss 1.9699\n",
      "Epoch 1 Batch 200 Loss 1.7443\n",
      "Epoch 1 Batch 300 Loss 1.5377\n",
      "Epoch 1 Batch 400 Loss 1.4832\n",
      "Epoch 1 Batch 500 Loss 1.4063\n",
      "Epoch 1 Batch 600 Loss 1.2216\n",
      "Epoch 1 Batch 700 Loss 1.2743\n",
      "Epoch 1 Batch 800 Loss 1.0983\n",
      "Epoch 1 Batch 900 Loss 0.9674\n",
      "Epoch 1 Batch 1000 Loss 0.9789\n",
      "Epoch 1 Batch 1100 Loss 1.0531\n",
      "Epoch 1 Batch 1200 Loss 0.8793\n",
      "Epoch 1 Loss 1.3465\n",
      "Time taken for 1 epoch 151.26339101791382 sec\n",
      "\n",
      "Epoch 2 Batch 0 Loss 0.6720\n",
      "Epoch 2 Batch 100 Loss 0.7817\n",
      "Epoch 2 Batch 200 Loss 0.6667\n",
      "Epoch 2 Batch 300 Loss 0.5088\n",
      "Epoch 2 Batch 400 Loss 0.5093\n",
      "Epoch 2 Batch 500 Loss 0.6396\n",
      "Epoch 2 Batch 600 Loss 0.5009\n",
      "Epoch 2 Batch 700 Loss 0.5629\n",
      "Epoch 2 Batch 800 Loss 0.6026\n",
      "Epoch 2 Batch 900 Loss 0.4361\n",
      "Epoch 2 Batch 1000 Loss 0.4732\n",
      "Epoch 2 Batch 1100 Loss 0.4425\n",
      "Epoch 2 Batch 1200 Loss 0.4185\n",
      "Epoch 2 Loss 0.5752\n",
      "Time taken for 1 epoch 141.20991206169128 sec\n",
      "\n",
      "Epoch 3 Batch 0 Loss 0.3978\n",
      "Epoch 3 Batch 100 Loss 0.3032\n",
      "Epoch 3 Batch 200 Loss 0.2626\n",
      "Epoch 3 Batch 300 Loss 0.2746\n",
      "Epoch 3 Batch 400 Loss 0.3098\n",
      "Epoch 3 Batch 500 Loss 0.3039\n",
      "Epoch 3 Batch 600 Loss 0.2815\n",
      "Epoch 3 Batch 700 Loss 0.2940\n",
      "Epoch 3 Batch 800 Loss 0.2804\n",
      "Epoch 3 Batch 900 Loss 0.2768\n",
      "Epoch 3 Batch 1000 Loss 0.2936\n",
      "Epoch 3 Batch 1100 Loss 0.2724\n",
      "Epoch 3 Batch 1200 Loss 0.2952\n",
      "Epoch 3 Loss 0.2957\n",
      "Time taken for 1 epoch 140.74512100219727 sec\n",
      "\n",
      "Epoch 4 Batch 0 Loss 0.1165\n",
      "Epoch 4 Batch 100 Loss 0.1619\n",
      "Epoch 4 Batch 200 Loss 0.1901\n",
      "Epoch 4 Batch 300 Loss 0.1777\n",
      "Epoch 4 Batch 400 Loss 0.2329\n",
      "Epoch 4 Batch 500 Loss 0.1815\n",
      "Epoch 4 Batch 600 Loss 0.1584\n",
      "Epoch 4 Batch 700 Loss 0.1883\n",
      "Epoch 4 Batch 800 Loss 0.1739\n",
      "Epoch 4 Batch 900 Loss 0.1798\n",
      "Epoch 4 Batch 1000 Loss 0.2009\n",
      "Epoch 4 Batch 1100 Loss 0.2205\n",
      "Epoch 4 Batch 1200 Loss 0.2182\n",
      "Epoch 4 Loss 0.1849\n",
      "Time taken for 1 epoch 141.98794531822205 sec\n",
      "\n",
      "Epoch 5 Batch 0 Loss 0.1111\n",
      "Epoch 5 Batch 100 Loss 0.1185\n",
      "Epoch 5 Batch 200 Loss 0.1099\n",
      "Epoch 5 Batch 300 Loss 0.0920\n",
      "Epoch 5 Batch 400 Loss 0.1236\n",
      "Epoch 5 Batch 500 Loss 0.1645\n",
      "Epoch 5 Batch 600 Loss 0.1211\n",
      "Epoch 5 Batch 700 Loss 0.1428\n",
      "Epoch 5 Batch 800 Loss 0.1218\n",
      "Epoch 5 Batch 900 Loss 0.1628\n",
      "Epoch 5 Batch 1000 Loss 0.1651\n",
      "Epoch 5 Batch 1100 Loss 0.2018\n",
      "Epoch 5 Batch 1200 Loss 0.1515\n",
      "Epoch 5 Loss 0.1376\n",
      "Time taken for 1 epoch 140.59545493125916 sec\n",
      "\n",
      "Epoch 6 Batch 0 Loss 0.1063\n",
      "Epoch 6 Batch 100 Loss 0.1351\n",
      "Epoch 6 Batch 200 Loss 0.0557\n",
      "Epoch 6 Batch 300 Loss 0.1322\n",
      "Epoch 6 Batch 400 Loss 0.1163\n",
      "Epoch 6 Batch 500 Loss 0.1134\n",
      "Epoch 6 Batch 600 Loss 0.1245\n",
      "Epoch 6 Batch 700 Loss 0.1139\n",
      "Epoch 6 Batch 800 Loss 0.1211\n",
      "Epoch 6 Batch 900 Loss 0.1432\n",
      "Epoch 6 Batch 1000 Loss 0.1327\n",
      "Epoch 6 Batch 1100 Loss 0.1175\n",
      "Epoch 6 Batch 1200 Loss 0.1339\n",
      "Epoch 6 Loss 0.1150\n",
      "Time taken for 1 epoch 140.67774438858032 sec\n",
      "\n",
      "Epoch 7 Batch 0 Loss 0.0961\n",
      "Epoch 7 Batch 100 Loss 0.0988\n",
      "Epoch 7 Batch 200 Loss 0.0758\n",
      "Epoch 7 Batch 300 Loss 0.0839\n",
      "Epoch 7 Batch 400 Loss 0.0731\n",
      "Epoch 7 Batch 500 Loss 0.1089\n",
      "Epoch 7 Batch 600 Loss 0.1290\n",
      "Epoch 7 Batch 700 Loss 0.1213\n",
      "Epoch 7 Batch 800 Loss 0.1465\n",
      "Epoch 7 Batch 900 Loss 0.1269\n",
      "Epoch 7 Batch 1000 Loss 0.0973\n",
      "Epoch 7 Batch 1100 Loss 0.1125\n",
      "Epoch 7 Batch 1200 Loss 0.1163\n",
      "Epoch 7 Loss 0.1020\n",
      "Time taken for 1 epoch 140.32478094100952 sec\n",
      "\n",
      "Epoch 8 Batch 0 Loss 0.0827\n",
      "Epoch 8 Batch 100 Loss 0.0619\n",
      "Epoch 8 Batch 200 Loss 0.0707\n",
      "Epoch 8 Batch 300 Loss 0.1141\n",
      "Epoch 8 Batch 400 Loss 0.0557\n",
      "Epoch 8 Batch 500 Loss 0.0702\n",
      "Epoch 8 Batch 600 Loss 0.0726\n",
      "Epoch 8 Batch 700 Loss 0.0980\n",
      "Epoch 8 Batch 800 Loss 0.1147\n",
      "Epoch 8 Batch 900 Loss 0.0692\n",
      "Epoch 8 Batch 1000 Loss 0.1230\n",
      "Epoch 8 Batch 1100 Loss 0.1071\n",
      "Epoch 8 Batch 1200 Loss 0.0837\n",
      "Epoch 8 Loss 0.0945\n",
      "Time taken for 1 epoch 140.99710249900818 sec\n",
      "\n",
      "Epoch 9 Batch 0 Loss 0.0484\n",
      "Epoch 9 Batch 100 Loss 0.0854\n",
      "Epoch 9 Batch 200 Loss 0.1026\n",
      "Epoch 9 Batch 300 Loss 0.0931\n",
      "Epoch 9 Batch 400 Loss 0.0916\n",
      "Epoch 9 Batch 500 Loss 0.1109\n",
      "Epoch 9 Batch 600 Loss 0.0759\n",
      "Epoch 9 Batch 700 Loss 0.0973\n",
      "Epoch 9 Batch 800 Loss 0.1195\n",
      "Epoch 9 Batch 900 Loss 0.0539\n",
      "Epoch 9 Batch 1000 Loss 0.0930\n",
      "Epoch 9 Batch 1100 Loss 0.0968\n",
      "Epoch 9 Batch 1200 Loss 0.1139\n",
      "Epoch 9 Loss 0.0906\n",
      "Time taken for 1 epoch 139.39501309394836 sec\n",
      "\n",
      "Epoch 10 Batch 0 Loss 0.0671\n",
      "Epoch 10 Batch 100 Loss 0.1015\n",
      "Epoch 10 Batch 200 Loss 0.0620\n",
      "Epoch 10 Batch 300 Loss 0.0609\n",
      "Epoch 10 Batch 400 Loss 0.1010\n",
      "Epoch 10 Batch 500 Loss 0.0791\n",
      "Epoch 10 Batch 600 Loss 0.0649\n",
      "Epoch 10 Batch 700 Loss 0.0879\n",
      "Epoch 10 Batch 800 Loss 0.1000\n",
      "Epoch 10 Batch 900 Loss 0.0874\n",
      "Epoch 10 Batch 1000 Loss 0.0905\n",
      "Epoch 10 Batch 1100 Loss 0.1423\n",
      "Epoch 10 Batch 1200 Loss 0.0770\n",
      "Epoch 10 Loss 0.0860\n",
      "Time taken for 1 epoch 139.53085708618164 sec\n",
      "\n",
      "Epoch 11 Batch 0 Loss 0.0628\n",
      "Epoch 11 Batch 100 Loss 0.0705\n",
      "Epoch 11 Batch 200 Loss 0.0849\n",
      "Epoch 11 Batch 300 Loss 0.0640\n",
      "Epoch 11 Batch 400 Loss 0.1224\n",
      "Epoch 11 Batch 500 Loss 0.1469\n",
      "Epoch 11 Batch 600 Loss 0.0715\n",
      "Epoch 11 Batch 700 Loss 0.0827\n",
      "Epoch 11 Batch 800 Loss 0.1317\n",
      "Epoch 11 Batch 900 Loss 0.0851\n",
      "Epoch 11 Batch 1000 Loss 0.0595\n",
      "Epoch 11 Batch 1100 Loss 0.0647\n",
      "Epoch 11 Batch 1200 Loss 0.0922\n",
      "Epoch 11 Loss 0.0826\n",
      "Time taken for 1 epoch 138.81285881996155 sec\n",
      "\n",
      "Epoch 12 Batch 0 Loss 0.0609\n",
      "Epoch 12 Batch 100 Loss 0.0570\n",
      "Epoch 12 Batch 200 Loss 0.0699\n",
      "Epoch 12 Batch 300 Loss 0.1500\n",
      "Epoch 12 Batch 400 Loss 0.1140\n",
      "Epoch 12 Batch 500 Loss 0.0945\n",
      "Epoch 12 Batch 600 Loss 0.0376\n",
      "Epoch 12 Batch 700 Loss 0.1094\n",
      "Epoch 12 Batch 800 Loss 0.0725\n",
      "Epoch 12 Batch 900 Loss 0.0964\n",
      "Epoch 12 Batch 1000 Loss 0.0793\n",
      "Epoch 12 Batch 1100 Loss 0.0734\n",
      "Epoch 12 Batch 1200 Loss 0.0617\n",
      "Epoch 12 Loss 0.0803\n",
      "Time taken for 1 epoch 139.71143913269043 sec\n",
      "\n",
      "Epoch 13 Batch 0 Loss 0.0285\n",
      "Epoch 13 Batch 100 Loss 0.0893\n",
      "Epoch 13 Batch 200 Loss 0.0974\n",
      "Epoch 13 Batch 300 Loss 0.0639\n",
      "Epoch 13 Batch 400 Loss 0.0561\n",
      "Epoch 13 Batch 500 Loss 0.0700\n",
      "Epoch 13 Batch 600 Loss 0.0564\n",
      "Epoch 13 Batch 700 Loss 0.0737\n",
      "Epoch 13 Batch 800 Loss 0.0803\n",
      "Epoch 13 Batch 900 Loss 0.0683\n",
      "Epoch 13 Batch 1000 Loss 0.0817\n",
      "Epoch 13 Batch 1100 Loss 0.1026\n",
      "Epoch 13 Batch 1200 Loss 0.1019\n",
      "Epoch 13 Loss 0.0777\n",
      "Time taken for 1 epoch 140.47197222709656 sec\n",
      "\n",
      "Epoch 14 Batch 0 Loss 0.0568\n",
      "Epoch 14 Batch 100 Loss 0.0472\n",
      "Epoch 14 Batch 200 Loss 0.0447\n",
      "Epoch 14 Batch 300 Loss 0.0610\n",
      "Epoch 14 Batch 400 Loss 0.0908\n",
      "Epoch 14 Batch 500 Loss 0.0901\n",
      "Epoch 14 Batch 600 Loss 0.0474\n",
      "Epoch 14 Batch 700 Loss 0.0857\n",
      "Epoch 14 Batch 800 Loss 0.0403\n",
      "Epoch 14 Batch 900 Loss 0.0515\n",
      "Epoch 14 Batch 1000 Loss 0.0770\n",
      "Epoch 14 Batch 1100 Loss 0.0774\n",
      "Epoch 14 Batch 1200 Loss 0.0693\n",
      "Epoch 14 Loss 0.0760\n",
      "Time taken for 1 epoch 140.34856343269348 sec\n",
      "\n",
      "Epoch 15 Batch 0 Loss 0.0391\n",
      "Epoch 15 Batch 100 Loss 0.0699\n",
      "Epoch 15 Batch 200 Loss 0.0386\n",
      "Epoch 15 Batch 300 Loss 0.0834\n",
      "Epoch 15 Batch 400 Loss 0.0659\n",
      "Epoch 15 Batch 500 Loss 0.0775\n",
      "Epoch 15 Batch 600 Loss 0.0947\n",
      "Epoch 15 Batch 700 Loss 0.1179\n",
      "Epoch 15 Batch 800 Loss 0.0562\n",
      "Epoch 15 Batch 900 Loss 0.0759\n",
      "Epoch 15 Batch 1000 Loss 0.1150\n",
      "Epoch 15 Batch 1100 Loss 0.0583\n",
      "Epoch 15 Batch 1200 Loss 0.1172\n",
      "Epoch 15 Loss 0.0741\n",
      "Time taken for 1 epoch 139.8491611480713 sec\n",
      "\n",
      "Epoch 16 Batch 0 Loss 0.0586\n",
      "Epoch 16 Batch 100 Loss 0.0696\n",
      "Epoch 16 Batch 200 Loss 0.0829\n",
      "Epoch 16 Batch 300 Loss 0.0662\n",
      "Epoch 16 Batch 400 Loss 0.0520\n",
      "Epoch 16 Batch 500 Loss 0.1031\n",
      "Epoch 16 Batch 600 Loss 0.0787\n",
      "Epoch 16 Batch 700 Loss 0.0851\n",
      "Epoch 16 Batch 800 Loss 0.1185\n",
      "Epoch 16 Batch 900 Loss 0.0744\n",
      "Epoch 16 Batch 1000 Loss 0.0692\n",
      "Epoch 16 Batch 1100 Loss 0.0872\n",
      "Epoch 16 Batch 1200 Loss 0.1169\n",
      "Epoch 16 Loss 0.0726\n",
      "Time taken for 1 epoch 140.4686679840088 sec\n",
      "\n",
      "Epoch 17 Batch 0 Loss 0.0584\n",
      "Epoch 17 Batch 100 Loss 0.0469\n",
      "Epoch 17 Batch 200 Loss 0.0639\n",
      "Epoch 17 Batch 300 Loss 0.0401\n",
      "Epoch 17 Batch 400 Loss 0.0449\n",
      "Epoch 17 Batch 500 Loss 0.0628\n",
      "Epoch 17 Batch 600 Loss 0.0840\n",
      "Epoch 17 Batch 700 Loss 0.0781\n",
      "Epoch 17 Batch 800 Loss 0.0754\n",
      "Epoch 17 Batch 900 Loss 0.0403\n",
      "Epoch 17 Batch 1000 Loss 0.0694\n",
      "Epoch 17 Batch 1100 Loss 0.0881\n",
      "Epoch 17 Batch 1200 Loss 0.0788\n",
      "Epoch 17 Loss 0.0702\n",
      "Time taken for 1 epoch 139.3629870414734 sec\n",
      "\n",
      "Epoch 18 Batch 0 Loss 0.0464\n",
      "Epoch 18 Batch 100 Loss 0.0392\n",
      "Epoch 18 Batch 200 Loss 0.0296\n",
      "Epoch 18 Batch 300 Loss 0.0608\n",
      "Epoch 18 Batch 400 Loss 0.0574\n",
      "Epoch 18 Batch 500 Loss 0.0743\n",
      "Epoch 18 Batch 600 Loss 0.0477\n",
      "Epoch 18 Batch 700 Loss 0.1089\n",
      "Epoch 18 Batch 800 Loss 0.1024\n",
      "Epoch 18 Batch 900 Loss 0.0914\n",
      "Epoch 18 Batch 1000 Loss 0.0640\n",
      "Epoch 18 Batch 1100 Loss 0.0870\n",
      "Epoch 18 Batch 1200 Loss 0.0991\n",
      "Epoch 18 Loss 0.0694\n",
      "Time taken for 1 epoch 140.87474036216736 sec\n",
      "\n",
      "Epoch 19 Batch 0 Loss 0.0781\n",
      "Epoch 19 Batch 100 Loss 0.0710\n",
      "Epoch 19 Batch 200 Loss 0.0413\n",
      "Epoch 19 Batch 300 Loss 0.0628\n",
      "Epoch 19 Batch 400 Loss 0.0678\n",
      "Epoch 19 Batch 500 Loss 0.0674\n",
      "Epoch 19 Batch 600 Loss 0.0480\n",
      "Epoch 19 Batch 700 Loss 0.0701\n",
      "Epoch 19 Batch 800 Loss 0.0563\n",
      "Epoch 19 Batch 900 Loss 0.0715\n",
      "Epoch 19 Batch 1000 Loss 0.0594\n",
      "Epoch 19 Batch 1100 Loss 0.0893\n",
      "Epoch 19 Batch 1200 Loss 0.0723\n",
      "Epoch 19 Loss 0.0682\n",
      "Time taken for 1 epoch 139.16919016838074 sec\n",
      "\n",
      "Epoch 20 Batch 0 Loss 0.0479\n",
      "Epoch 20 Batch 100 Loss 0.0564\n",
      "Epoch 20 Batch 200 Loss 0.0554\n",
      "Epoch 20 Batch 300 Loss 0.0583\n",
      "Epoch 20 Batch 400 Loss 0.0646\n",
      "Epoch 20 Batch 500 Loss 0.0882\n",
      "Epoch 20 Batch 600 Loss 0.0469\n",
      "Epoch 20 Batch 700 Loss 0.0542\n",
      "Epoch 20 Batch 800 Loss 0.0886\n",
      "Epoch 20 Batch 900 Loss 0.0437\n",
      "Epoch 20 Batch 1000 Loss 0.0833\n",
      "Epoch 20 Batch 1100 Loss 0.1411\n",
      "Epoch 20 Batch 1200 Loss 0.0846\n",
      "Epoch 20 Loss 0.0676\n",
      "Time taken for 1 epoch 141.33161616325378 sec\n",
      "\n",
      "Epoch 21 Batch 0 Loss 0.0686\n",
      "Epoch 21 Batch 100 Loss 0.0614\n",
      "Epoch 21 Batch 200 Loss 0.0717\n",
      "Epoch 21 Batch 300 Loss 0.0147\n",
      "Epoch 21 Batch 400 Loss 0.0354\n",
      "Epoch 21 Batch 500 Loss 0.0885\n",
      "Epoch 21 Batch 600 Loss 0.0956\n",
      "Epoch 21 Batch 700 Loss 0.0648\n",
      "Epoch 21 Batch 800 Loss 0.0863\n",
      "Epoch 21 Batch 900 Loss 0.0455\n",
      "Epoch 21 Batch 1000 Loss 0.0850\n",
      "Epoch 21 Batch 1100 Loss 0.0904\n",
      "Epoch 21 Batch 1200 Loss 0.0716\n",
      "Epoch 21 Loss 0.0668\n",
      "Time taken for 1 epoch 139.73447036743164 sec\n",
      "\n",
      "Epoch 22 Batch 0 Loss 0.0466\n",
      "Epoch 22 Batch 100 Loss 0.0366\n",
      "Epoch 22 Batch 200 Loss 0.0866\n",
      "Epoch 22 Batch 300 Loss 0.0591\n",
      "Epoch 22 Batch 400 Loss 0.0887\n",
      "Epoch 22 Batch 500 Loss 0.0776\n",
      "Epoch 22 Batch 600 Loss 0.0379\n",
      "Epoch 22 Batch 700 Loss 0.0681\n",
      "Epoch 22 Batch 800 Loss 0.1069\n",
      "Epoch 22 Batch 900 Loss 0.0610\n",
      "Epoch 22 Batch 1000 Loss 0.0829\n",
      "Epoch 22 Batch 1100 Loss 0.0539\n",
      "Epoch 22 Batch 1200 Loss 0.0878\n",
      "Epoch 22 Loss 0.0646\n",
      "Time taken for 1 epoch 139.66455245018005 sec\n",
      "\n",
      "Epoch 23 Batch 0 Loss 0.0476\n",
      "Epoch 23 Batch 100 Loss 0.0716\n",
      "Epoch 23 Batch 200 Loss 0.0762\n",
      "Epoch 23 Batch 300 Loss 0.0358\n",
      "Epoch 23 Batch 400 Loss 0.0536\n",
      "Epoch 23 Batch 500 Loss 0.0935\n",
      "Epoch 23 Batch 600 Loss 0.0294\n",
      "Epoch 23 Batch 700 Loss 0.1167\n",
      "Epoch 23 Batch 800 Loss 0.0471\n",
      "Epoch 23 Batch 900 Loss 0.0562\n",
      "Epoch 23 Batch 1000 Loss 0.0729\n",
      "Epoch 23 Batch 1100 Loss 0.0658\n",
      "Epoch 23 Batch 1200 Loss 0.0864\n",
      "Epoch 23 Loss 0.0645\n",
      "Time taken for 1 epoch 137.25179290771484 sec\n",
      "\n",
      "Epoch 24 Batch 0 Loss 0.0549\n",
      "Epoch 24 Batch 100 Loss 0.0460\n",
      "Epoch 24 Batch 200 Loss 0.0512\n",
      "Epoch 24 Batch 300 Loss 0.0228\n",
      "Epoch 24 Batch 400 Loss 0.0876\n",
      "Epoch 24 Batch 500 Loss 0.0252\n",
      "Epoch 24 Batch 600 Loss 0.0651\n",
      "Epoch 24 Batch 700 Loss 0.0830\n",
      "Epoch 24 Batch 800 Loss 0.0774\n",
      "Epoch 24 Batch 900 Loss 0.0617\n",
      "Epoch 24 Batch 1000 Loss 0.1102\n",
      "Epoch 24 Batch 1100 Loss 0.0936\n",
      "Epoch 24 Batch 1200 Loss 0.0618\n",
      "Epoch 24 Loss 0.0630\n",
      "Time taken for 1 epoch 140.40517044067383 sec\n",
      "\n",
      "Epoch 25 Batch 0 Loss 0.0500\n",
      "Epoch 25 Batch 100 Loss 0.0496\n",
      "Epoch 25 Batch 200 Loss 0.0569\n",
      "Epoch 25 Batch 300 Loss 0.0493\n",
      "Epoch 25 Batch 400 Loss 0.0453\n",
      "Epoch 25 Batch 500 Loss 0.0596\n",
      "Epoch 25 Batch 600 Loss 0.0710\n",
      "Epoch 25 Batch 700 Loss 0.0317\n",
      "Epoch 25 Batch 800 Loss 0.0590\n",
      "Epoch 25 Batch 900 Loss 0.1037\n",
      "Epoch 25 Batch 1000 Loss 0.0903\n",
      "Epoch 25 Batch 1100 Loss 0.0865\n",
      "Epoch 25 Batch 1200 Loss 0.0672\n",
      "Epoch 25 Loss 0.0624\n",
      "Time taken for 1 epoch 138.60488390922546 sec\n",
      "\n",
      "Epoch 26 Batch 0 Loss 0.0774\n",
      "Epoch 26 Batch 100 Loss 0.0494\n",
      "Epoch 26 Batch 200 Loss 0.0358\n",
      "Epoch 26 Batch 300 Loss 0.0567\n",
      "Epoch 26 Batch 400 Loss 0.0300\n",
      "Epoch 26 Batch 500 Loss 0.0608\n",
      "Epoch 26 Batch 600 Loss 0.0528\n",
      "Epoch 26 Batch 700 Loss 0.0496\n",
      "Epoch 26 Batch 800 Loss 0.0797\n",
      "Epoch 26 Batch 900 Loss 0.0491\n",
      "Epoch 26 Batch 1000 Loss 0.0713\n",
      "Epoch 26 Batch 1100 Loss 0.0846\n",
      "Epoch 26 Batch 1200 Loss 0.0736\n",
      "Epoch 26 Loss 0.0621\n",
      "Time taken for 1 epoch 140.52764201164246 sec\n",
      "\n",
      "Epoch 27 Batch 0 Loss 0.0253\n",
      "Epoch 27 Batch 100 Loss 0.0511\n",
      "Epoch 27 Batch 200 Loss 0.0490\n",
      "Epoch 27 Batch 300 Loss 0.0656\n",
      "Epoch 27 Batch 400 Loss 0.0844\n",
      "Epoch 27 Batch 500 Loss 0.0574\n",
      "Epoch 27 Batch 600 Loss 0.0471\n",
      "Epoch 27 Batch 700 Loss 0.0922\n",
      "Epoch 27 Batch 800 Loss 0.0784\n",
      "Epoch 27 Batch 900 Loss 0.0805\n",
      "Epoch 27 Batch 1000 Loss 0.0748\n",
      "Epoch 27 Batch 1100 Loss 0.0496\n",
      "Epoch 27 Batch 1200 Loss 0.0823\n",
      "Epoch 27 Loss 0.0603\n",
      "Time taken for 1 epoch 138.3162019252777 sec\n",
      "\n",
      "Epoch 28 Batch 0 Loss 0.0326\n",
      "Epoch 28 Batch 100 Loss 0.0789\n",
      "Epoch 28 Batch 200 Loss 0.0338\n",
      "Epoch 28 Batch 300 Loss 0.0628\n",
      "Epoch 28 Batch 400 Loss 0.0533\n",
      "Epoch 28 Batch 500 Loss 0.0412\n",
      "Epoch 28 Batch 600 Loss 0.0588\n",
      "Epoch 28 Batch 700 Loss 0.0946\n",
      "Epoch 28 Batch 800 Loss 0.0418\n",
      "Epoch 28 Batch 900 Loss 0.0456\n",
      "Epoch 28 Batch 1000 Loss 0.0664\n",
      "Epoch 28 Batch 1100 Loss 0.0550\n",
      "Epoch 28 Batch 1200 Loss 0.0729\n",
      "Epoch 28 Loss 0.0601\n",
      "Time taken for 1 epoch 139.4200677871704 sec\n",
      "\n",
      "Epoch 29 Batch 0 Loss 0.0230\n",
      "Epoch 29 Batch 100 Loss 0.0253\n",
      "Epoch 29 Batch 200 Loss 0.0710\n",
      "Epoch 29 Batch 300 Loss 0.0470\n",
      "Epoch 29 Batch 400 Loss 0.0356\n",
      "Epoch 29 Batch 500 Loss 0.0457\n",
      "Epoch 29 Batch 600 Loss 0.0653\n",
      "Epoch 29 Batch 700 Loss 0.0603\n",
      "Epoch 29 Batch 800 Loss 0.0315\n",
      "Epoch 29 Batch 900 Loss 0.0921\n",
      "Epoch 29 Batch 1000 Loss 0.0520\n",
      "Epoch 29 Batch 1100 Loss 0.0753\n",
      "Epoch 29 Batch 1200 Loss 0.0346\n",
      "Epoch 29 Loss 0.0589\n",
      "Time taken for 1 epoch 138.42169976234436 sec\n",
      "\n",
      "Epoch 30 Batch 0 Loss 0.0440\n",
      "Epoch 30 Batch 100 Loss 0.0378\n",
      "Epoch 30 Batch 200 Loss 0.0488\n",
      "Epoch 30 Batch 300 Loss 0.0667\n",
      "Epoch 30 Batch 400 Loss 0.0500\n",
      "Epoch 30 Batch 500 Loss 0.0454\n",
      "Epoch 30 Batch 600 Loss 0.0729\n",
      "Epoch 30 Batch 700 Loss 0.0350\n",
      "Epoch 30 Batch 800 Loss 0.0610\n",
      "Epoch 30 Batch 900 Loss 0.0701\n",
      "Epoch 30 Batch 1000 Loss 0.0739\n",
      "Epoch 30 Batch 1100 Loss 0.1104\n",
      "Epoch 30 Batch 1200 Loss 0.0631\n",
      "Epoch 30 Loss 0.0589\n",
      "Time taken for 1 epoch 139.67116737365723 sec\n",
      "\n",
      "Epoch 31 Batch 0 Loss 0.0314\n",
      "Epoch 31 Batch 100 Loss 0.0371\n",
      "Epoch 31 Batch 200 Loss 0.0327\n",
      "Epoch 31 Batch 300 Loss 0.0412\n",
      "Epoch 31 Batch 400 Loss 0.0747\n",
      "Epoch 31 Batch 500 Loss 0.0631\n",
      "Epoch 31 Batch 600 Loss 0.0330\n",
      "Epoch 31 Batch 700 Loss 0.0571\n",
      "Epoch 31 Batch 800 Loss 0.0896\n",
      "Epoch 31 Batch 900 Loss 0.0630\n",
      "Epoch 31 Batch 1000 Loss 0.0534\n",
      "Epoch 31 Batch 1100 Loss 0.1183\n",
      "Epoch 31 Batch 1200 Loss 0.1092\n",
      "Epoch 31 Loss 0.0592\n",
      "Time taken for 1 epoch 138.76627373695374 sec\n",
      "\n",
      "Epoch 32 Batch 0 Loss 0.0329\n",
      "Epoch 32 Batch 100 Loss 0.0512\n",
      "Epoch 32 Batch 200 Loss 0.0563\n",
      "Epoch 32 Batch 300 Loss 0.0441\n",
      "Epoch 32 Batch 400 Loss 0.0644\n",
      "Epoch 32 Batch 500 Loss 0.0347\n",
      "Epoch 32 Batch 600 Loss 0.0539\n",
      "Epoch 32 Batch 700 Loss 0.0814\n",
      "Epoch 32 Batch 800 Loss 0.0692\n",
      "Epoch 32 Batch 900 Loss 0.0684\n",
      "Epoch 32 Batch 1000 Loss 0.0811\n",
      "Epoch 32 Batch 1100 Loss 0.0550\n",
      "Epoch 32 Batch 1200 Loss 0.0787\n",
      "Epoch 32 Loss 0.0583\n",
      "Time taken for 1 epoch 138.72540521621704 sec\n",
      "\n",
      "Epoch 33 Batch 0 Loss 0.0582\n",
      "Epoch 33 Batch 100 Loss 0.0750\n",
      "Epoch 33 Batch 200 Loss 0.0384\n",
      "Epoch 33 Batch 300 Loss 0.0561\n",
      "Epoch 33 Batch 400 Loss 0.0710\n",
      "Epoch 33 Batch 500 Loss 0.0626\n",
      "Epoch 33 Batch 600 Loss 0.0384\n",
      "Epoch 33 Batch 700 Loss 0.0512\n",
      "Epoch 33 Batch 800 Loss 0.0741\n",
      "Epoch 33 Batch 900 Loss 0.0494\n",
      "Epoch 33 Batch 1000 Loss 0.0335\n",
      "Epoch 33 Batch 1100 Loss 0.0804\n",
      "Epoch 33 Batch 1200 Loss 0.0573\n",
      "Epoch 33 Loss 0.0568\n",
      "Time taken for 1 epoch 138.4337296485901 sec\n",
      "\n",
      "Epoch 34 Batch 0 Loss 0.0824\n",
      "Epoch 34 Batch 100 Loss 0.0390\n",
      "Epoch 34 Batch 200 Loss 0.0479\n",
      "Epoch 34 Batch 300 Loss 0.0340\n",
      "Epoch 34 Batch 400 Loss 0.0362\n",
      "Epoch 34 Batch 500 Loss 0.0487\n",
      "Epoch 34 Batch 600 Loss 0.0272\n",
      "Epoch 34 Batch 700 Loss 0.0628\n",
      "Epoch 34 Batch 800 Loss 0.0622\n",
      "Epoch 34 Batch 900 Loss 0.0399\n",
      "Epoch 34 Batch 1000 Loss 0.0628\n",
      "Epoch 34 Batch 1100 Loss 0.0471\n",
      "Epoch 34 Batch 1200 Loss 0.0561\n",
      "Epoch 34 Loss 0.0573\n",
      "Time taken for 1 epoch 138.97644901275635 sec\n",
      "\n",
      "Epoch 35 Batch 0 Loss 0.0500\n",
      "Epoch 35 Batch 100 Loss 0.0276\n",
      "Epoch 35 Batch 200 Loss 0.0830\n",
      "Epoch 35 Batch 300 Loss 0.0369\n",
      "Epoch 35 Batch 400 Loss 0.0295\n",
      "Epoch 35 Batch 500 Loss 0.0395\n",
      "Epoch 35 Batch 600 Loss 0.0371\n",
      "Epoch 35 Batch 700 Loss 0.0520\n",
      "Epoch 35 Batch 800 Loss 0.0664\n",
      "Epoch 35 Batch 900 Loss 0.0900\n",
      "Epoch 35 Batch 1000 Loss 0.0470\n",
      "Epoch 35 Batch 1100 Loss 0.0720\n",
      "Epoch 35 Batch 1200 Loss 0.0723\n",
      "Epoch 35 Loss 0.0567\n",
      "Time taken for 1 epoch 138.06740283966064 sec\n",
      "\n",
      "Epoch 36 Batch 0 Loss 0.0451\n",
      "Epoch 36 Batch 100 Loss 0.0499\n",
      "Epoch 36 Batch 200 Loss 0.0343\n",
      "Epoch 36 Batch 300 Loss 0.0488\n",
      "Epoch 36 Batch 400 Loss 0.0728\n",
      "Epoch 36 Batch 500 Loss 0.1006\n",
      "Epoch 36 Batch 600 Loss 0.0583\n",
      "Epoch 36 Batch 700 Loss 0.0221\n",
      "Epoch 36 Batch 800 Loss 0.0592\n",
      "Epoch 36 Batch 900 Loss 0.0770\n",
      "Epoch 36 Batch 1000 Loss 0.0278\n",
      "Epoch 36 Batch 1100 Loss 0.1141\n",
      "Epoch 36 Batch 1200 Loss 0.0651\n",
      "Epoch 36 Loss 0.0567\n",
      "Time taken for 1 epoch 138.5784089565277 sec\n",
      "\n",
      "Epoch 37 Batch 0 Loss 0.0442\n",
      "Epoch 37 Batch 100 Loss 0.0398\n",
      "Epoch 37 Batch 200 Loss 0.0665\n",
      "Epoch 37 Batch 300 Loss 0.0732\n",
      "Epoch 37 Batch 400 Loss 0.0574\n",
      "Epoch 37 Batch 500 Loss 0.0386\n",
      "Epoch 37 Batch 600 Loss 0.0345\n",
      "Epoch 37 Batch 700 Loss 0.0384\n",
      "Epoch 37 Batch 800 Loss 0.1027\n",
      "Epoch 37 Batch 900 Loss 0.0646\n",
      "Epoch 37 Batch 1000 Loss 0.0518\n",
      "Epoch 37 Batch 1100 Loss 0.0676\n",
      "Epoch 37 Batch 1200 Loss 0.0425\n",
      "Epoch 37 Loss 0.0568\n",
      "Time taken for 1 epoch 137.852210521698 sec\n",
      "\n",
      "Epoch 38 Batch 0 Loss 0.0333\n",
      "Epoch 38 Batch 100 Loss 0.0533\n",
      "Epoch 38 Batch 200 Loss 0.0239\n",
      "Epoch 38 Batch 300 Loss 0.0607\n",
      "Epoch 38 Batch 400 Loss 0.0456\n",
      "Epoch 38 Batch 500 Loss 0.0476\n",
      "Epoch 38 Batch 600 Loss 0.0434\n",
      "Epoch 38 Batch 700 Loss 0.0875\n",
      "Epoch 38 Batch 800 Loss 0.0803\n",
      "Epoch 38 Batch 900 Loss 0.0718\n",
      "Epoch 38 Batch 1000 Loss 0.0570\n",
      "Epoch 38 Batch 1100 Loss 0.0433\n",
      "Epoch 38 Batch 1200 Loss 0.0556\n",
      "Epoch 38 Loss 0.0546\n",
      "Time taken for 1 epoch 138.83778262138367 sec\n",
      "\n",
      "Epoch 39 Batch 0 Loss 0.0316\n",
      "Epoch 39 Batch 100 Loss 0.0585\n",
      "Epoch 39 Batch 200 Loss 0.0366\n",
      "Epoch 39 Batch 300 Loss 0.0244\n",
      "Epoch 39 Batch 400 Loss 0.0288\n",
      "Epoch 39 Batch 500 Loss 0.0502\n",
      "Epoch 39 Batch 600 Loss 0.0694\n",
      "Epoch 39 Batch 700 Loss 0.0466\n",
      "Epoch 39 Batch 800 Loss 0.0534\n",
      "Epoch 39 Batch 900 Loss 0.0524\n",
      "Epoch 39 Batch 1000 Loss 0.0361\n",
      "Epoch 39 Batch 1100 Loss 0.0954\n",
      "Epoch 39 Batch 1200 Loss 0.0719\n",
      "Epoch 39 Loss 0.0547\n",
      "Time taken for 1 epoch 137.78700828552246 sec\n",
      "\n",
      "Epoch 40 Batch 0 Loss 0.0525\n",
      "Epoch 40 Batch 100 Loss 0.0277\n",
      "Epoch 40 Batch 200 Loss 0.0381\n",
      "Epoch 40 Batch 300 Loss 0.0696\n",
      "Epoch 40 Batch 400 Loss 0.0604\n",
      "Epoch 40 Batch 500 Loss 0.0643\n",
      "Epoch 40 Batch 600 Loss 0.0600\n",
      "Epoch 40 Batch 700 Loss 0.0579\n",
      "Epoch 40 Batch 800 Loss 0.0555\n",
      "Epoch 40 Batch 900 Loss 0.0560\n",
      "Epoch 40 Batch 1000 Loss 0.0451\n",
      "Epoch 40 Batch 1100 Loss 0.0424\n",
      "Epoch 40 Batch 1200 Loss 0.0608\n",
      "Epoch 40 Loss 0.0552\n",
      "Time taken for 1 epoch 139.28921008110046 sec\n",
      "\n",
      "Epoch 41 Batch 0 Loss 0.0294\n",
      "Epoch 41 Batch 100 Loss 0.0625\n",
      "Epoch 41 Batch 200 Loss 0.0271\n",
      "Epoch 41 Batch 300 Loss 0.0418\n",
      "Epoch 41 Batch 400 Loss 0.0372\n",
      "Epoch 41 Batch 500 Loss 0.0430\n",
      "Epoch 41 Batch 600 Loss 0.0701\n",
      "Epoch 41 Batch 700 Loss 0.0714\n",
      "Epoch 41 Batch 800 Loss 0.0431\n",
      "Epoch 41 Batch 900 Loss 0.0579\n",
      "Epoch 41 Batch 1000 Loss 0.0577\n",
      "Epoch 41 Batch 1100 Loss 0.0404\n",
      "Epoch 41 Batch 1200 Loss 0.0859\n",
      "Epoch 41 Loss 0.0547\n",
      "Time taken for 1 epoch 138.45011377334595 sec\n",
      "\n",
      "Epoch 42 Batch 0 Loss 0.0588\n",
      "Epoch 42 Batch 100 Loss 0.0512\n",
      "Epoch 42 Batch 200 Loss 0.0389\n",
      "Epoch 42 Batch 300 Loss 0.0704\n",
      "Epoch 42 Batch 400 Loss 0.0414\n",
      "Epoch 42 Batch 500 Loss 0.0361\n",
      "Epoch 42 Batch 600 Loss 0.0521\n",
      "Epoch 42 Batch 700 Loss 0.0360\n",
      "Epoch 42 Batch 800 Loss 0.0643\n",
      "Epoch 42 Batch 900 Loss 0.0321\n",
      "Epoch 42 Batch 1000 Loss 0.1036\n",
      "Epoch 42 Batch 1100 Loss 0.0417\n",
      "Epoch 42 Batch 1200 Loss 0.0980\n",
      "Epoch 42 Loss 0.0547\n",
      "Time taken for 1 epoch 138.59230256080627 sec\n",
      "\n",
      "Epoch 43 Batch 0 Loss 0.0394\n",
      "Epoch 43 Batch 100 Loss 0.0263\n",
      "Epoch 43 Batch 200 Loss 0.0436\n",
      "Epoch 43 Batch 300 Loss 0.0640\n",
      "Epoch 43 Batch 400 Loss 0.0679\n",
      "Epoch 43 Batch 500 Loss 0.0462\n",
      "Epoch 43 Batch 600 Loss 0.0524\n",
      "Epoch 43 Batch 700 Loss 0.0868\n",
      "Epoch 43 Batch 800 Loss 0.0571\n",
      "Epoch 43 Batch 900 Loss 0.0572\n",
      "Epoch 43 Batch 1000 Loss 0.0682\n",
      "Epoch 43 Batch 1100 Loss 0.0954\n",
      "Epoch 43 Batch 1200 Loss 0.0815\n",
      "Epoch 43 Loss 0.0542\n",
      "Time taken for 1 epoch 138.07435488700867 sec\n",
      "\n",
      "Epoch 44 Batch 0 Loss 0.0389\n",
      "Epoch 44 Batch 100 Loss 0.0372\n",
      "Epoch 44 Batch 200 Loss 0.0560\n",
      "Epoch 44 Batch 300 Loss 0.0454\n",
      "Epoch 44 Batch 400 Loss 0.0320\n",
      "Epoch 44 Batch 500 Loss 0.0627\n",
      "Epoch 44 Batch 600 Loss 0.0392\n",
      "Epoch 44 Batch 700 Loss 0.0340\n",
      "Epoch 44 Batch 800 Loss 0.0561\n",
      "Epoch 44 Batch 900 Loss 0.0645\n",
      "Epoch 44 Batch 1000 Loss 0.0677\n",
      "Epoch 44 Batch 1100 Loss 0.0491\n",
      "Epoch 44 Batch 1200 Loss 0.0667\n",
      "Epoch 44 Loss 0.0537\n",
      "Time taken for 1 epoch 138.64476895332336 sec\n",
      "\n",
      "Epoch 45 Batch 0 Loss 0.0538\n",
      "Epoch 45 Batch 100 Loss 0.0468\n",
      "Epoch 45 Batch 200 Loss 0.0496\n",
      "Epoch 45 Batch 300 Loss 0.0940\n",
      "Epoch 45 Batch 400 Loss 0.0256\n",
      "Epoch 45 Batch 500 Loss 0.0553\n",
      "Epoch 45 Batch 600 Loss 0.0478\n",
      "Epoch 45 Batch 700 Loss 0.0881\n",
      "Epoch 45 Batch 800 Loss 0.0526\n",
      "Epoch 45 Batch 900 Loss 0.0525\n",
      "Epoch 45 Batch 1000 Loss 0.0990\n",
      "Epoch 45 Batch 1100 Loss 0.0385\n",
      "Epoch 45 Batch 1200 Loss 0.0674\n",
      "Epoch 45 Loss 0.0547\n",
      "Time taken for 1 epoch 139.3922040462494 sec\n",
      "\n",
      "Epoch 46 Batch 0 Loss 0.0208\n",
      "Epoch 46 Batch 100 Loss 0.0500\n",
      "Epoch 46 Batch 200 Loss 0.0416\n",
      "Epoch 46 Batch 300 Loss 0.0771\n",
      "Epoch 46 Batch 400 Loss 0.0431\n",
      "Epoch 46 Batch 500 Loss 0.0510\n",
      "Epoch 46 Batch 600 Loss 0.0231\n",
      "Epoch 46 Batch 700 Loss 0.0527\n",
      "Epoch 46 Batch 800 Loss 0.0841\n",
      "Epoch 46 Batch 900 Loss 0.0632\n",
      "Epoch 46 Batch 1000 Loss 0.0642\n",
      "Epoch 46 Batch 1100 Loss 0.0539\n",
      "Epoch 46 Batch 1200 Loss 0.0550\n",
      "Epoch 46 Loss 0.0543\n",
      "Time taken for 1 epoch 139.43590927124023 sec\n",
      "\n",
      "Epoch 47 Batch 0 Loss 0.0429\n",
      "Epoch 47 Batch 100 Loss 0.0298\n",
      "Epoch 47 Batch 200 Loss 0.0555\n",
      "Epoch 47 Batch 300 Loss 0.0481\n",
      "Epoch 47 Batch 400 Loss 0.0458\n",
      "Epoch 47 Batch 500 Loss 0.0510\n",
      "Epoch 47 Batch 600 Loss 0.0767\n",
      "Epoch 47 Batch 700 Loss 0.0440\n",
      "Epoch 47 Batch 800 Loss 0.0376\n",
      "Epoch 47 Batch 900 Loss 0.0743\n",
      "Epoch 47 Batch 1000 Loss 0.0535\n",
      "Epoch 47 Batch 1100 Loss 0.0630\n",
      "Epoch 47 Batch 1200 Loss 0.0380\n",
      "Epoch 47 Loss 0.0531\n",
      "Time taken for 1 epoch 138.49959754943848 sec\n",
      "\n",
      "Epoch 48 Batch 0 Loss 0.0233\n",
      "Epoch 48 Batch 100 Loss 0.0465\n",
      "Epoch 48 Batch 200 Loss 0.0369\n",
      "Epoch 48 Batch 300 Loss 0.0359\n",
      "Epoch 48 Batch 400 Loss 0.0372\n",
      "Epoch 48 Batch 500 Loss 0.0191\n",
      "Epoch 48 Batch 600 Loss 0.0765\n",
      "Epoch 48 Batch 700 Loss 0.0592\n",
      "Epoch 48 Batch 800 Loss 0.0590\n",
      "Epoch 48 Batch 900 Loss 0.0407\n",
      "Epoch 48 Batch 1000 Loss 0.0576\n",
      "Epoch 48 Batch 1100 Loss 0.0587\n",
      "Epoch 48 Batch 1200 Loss 0.0778\n",
      "Epoch 48 Loss 0.0526\n",
      "Time taken for 1 epoch 138.24771070480347 sec\n",
      "\n",
      "Epoch 49 Batch 0 Loss 0.0313\n",
      "Epoch 49 Batch 100 Loss 0.0456\n",
      "Epoch 49 Batch 200 Loss 0.0971\n",
      "Epoch 49 Batch 300 Loss 0.0358\n",
      "Epoch 49 Batch 400 Loss 0.0344\n",
      "Epoch 49 Batch 500 Loss 0.0357\n",
      "Epoch 49 Batch 600 Loss 0.0517\n",
      "Epoch 49 Batch 700 Loss 0.0850\n",
      "Epoch 49 Batch 800 Loss 0.0533\n",
      "Epoch 49 Batch 900 Loss 0.0676\n",
      "Epoch 49 Batch 1000 Loss 0.0654\n",
      "Epoch 49 Batch 1100 Loss 0.0747\n",
      "Epoch 49 Batch 1200 Loss 0.0702\n",
      "Epoch 49 Loss 0.0529\n",
      "Time taken for 1 epoch 137.1381299495697 sec\n",
      "\n",
      "Epoch 50 Batch 0 Loss 0.0434\n",
      "Epoch 50 Batch 100 Loss 0.0701\n",
      "Epoch 50 Batch 200 Loss 0.0294\n",
      "Epoch 50 Batch 300 Loss 0.0518\n",
      "Epoch 50 Batch 400 Loss 0.0376\n",
      "Epoch 50 Batch 500 Loss 0.0482\n",
      "Epoch 50 Batch 600 Loss 0.0562\n",
      "Epoch 50 Batch 700 Loss 0.0715\n",
      "Epoch 50 Batch 800 Loss 0.0760\n",
      "Epoch 50 Batch 900 Loss 0.0493\n",
      "Epoch 50 Batch 1000 Loss 0.0622\n",
      "Epoch 50 Batch 1100 Loss 0.0472\n",
      "Epoch 50 Batch 1200 Loss 0.0819\n",
      "Epoch 50 Loss 0.0542\n",
      "Time taken for 1 epoch 138.43235850334167 sec\n",
      "\n"
     ]
    }
   ],
   "source": [
    "EPOCHS = 50\n",
    "\n",
    "for epoch in range(EPOCHS):\n",
    "  start = time.time()\n",
    "\n",
    "  enc_hidden = encoder.initialize_hidden_state()\n",
    "  total_loss = 0\n",
    "\n",
    "  for (batch, (inp, targ)) in enumerate(dataset.take(steps_per_epoch)):\n",
    "    batch_loss = train_step(inp, targ, enc_hidden)\n",
    "    total_loss += batch_loss\n",
    "\n",
    "    if batch % 100 == 0:\n",
    "      print('Epoch {} Batch {} Loss {:.4f}'.format(epoch + 1,\n",
    "                                                   batch,\n",
    "                                                   batch_loss.numpy()))\n",
    "  # saving (checkpoint) the model every 2 epochs\n",
    "  if (epoch + 1) % 2 == 0:\n",
    "    checkpoint.save(file_prefix = checkpoint_prefix)\n",
    "\n",
    "  print('Epoch {} Loss {:.4f}'.format(epoch + 1,\n",
    "                                      total_loss / steps_per_epoch))\n",
    "  print('Time taken for 1 epoch {} sec\\n'.format(time.time() - start))"
   ]
  },
  {
   "cell_type": "markdown",
   "metadata": {
    "id": "Ftp-7oCRl09J"
   },
   "source": [
    "## Translate\n",
    "\n",
    "* The evaluate function is similar to the training loop, except we don't use *teacher forcing* here. The input to the decoder at each time step is its previous predictions along with the hidden state and the encoder output.\n",
    "* Stop predicting when the model predicts the *end token*.\n",
    "* And store the *attention weights for every time step*.\n",
    "\n",
    "Note: The encoder output is calculated only once for one input."
   ]
  },
  {
   "cell_type": "code",
   "execution_count": 31,
   "metadata": {
    "id": "mbnJ5Kq4l1Xa"
   },
   "outputs": [],
   "source": [
    "def evaluate(sentence):\n",
    "  attention_plot = np.zeros((max_length_targ, max_length_inp))\n",
    "\n",
    "  sentence = preprocess_sentence(sentence)\n",
    "\n",
    "  inputs = [inp_lang.word_index[i] for i in sentence.split(' ')]\n",
    "  inputs = tf.keras.preprocessing.sequence.pad_sequences([inputs],\n",
    "                                                         maxlen=max_length_inp,\n",
    "                                                         padding='post')\n",
    "  inputs = tf.convert_to_tensor(inputs)\n",
    "\n",
    "  result = ''\n",
    "\n",
    "  hidden = [tf.zeros((1, units))]\n",
    "  enc_out, enc_hidden = encoder(inputs, hidden)\n",
    "\n",
    "  dec_hidden = enc_hidden\n",
    "  dec_input = tf.expand_dims([targ_lang.word_index['<start>']], 0)\n",
    "\n",
    "  for t in range(max_length_targ):\n",
    "    predictions, dec_hidden, attention_weights = decoder(dec_input,\n",
    "                                                         dec_hidden,\n",
    "                                                         enc_out)\n",
    "\n",
    "    # storing the attention weights to plot later on\n",
    "    attention_weights = tf.reshape(attention_weights, (-1, ))\n",
    "    attention_plot[t] = attention_weights.numpy()\n",
    "\n",
    "    predicted_id = tf.argmax(predictions[0]).numpy()\n",
    "\n",
    "    result += targ_lang.index_word[predicted_id] + ' '\n",
    "\n",
    "    if targ_lang.index_word[predicted_id] == '<end>':\n",
    "      return result, sentence, attention_plot\n",
    "\n",
    "    # the predicted ID is fed back into the model\n",
    "    dec_input = tf.expand_dims([predicted_id], 0)\n",
    "\n",
    "  return result, sentence, attention_plot"
   ]
  },
  {
   "cell_type": "code",
   "execution_count": 32,
   "metadata": {
    "id": "XMCsbtvWl1ts"
   },
   "outputs": [],
   "source": [
    "# function for plotting the attention weights\n",
    "def plot_attention(attention, sentence, predicted_sentence):\n",
    "    fig = plt.figure(figsize=(10,10))\n",
    "    ax = fig.add_subplot(1, 1, 1)\n",
    "    ax.matshow(attention, cmap='viridis')\n",
    "\n",
    "    fontdict = {'fontsize': 14}\n",
    "\n",
    "    ax.set_xticklabels([''] + sentence, fontdict=fontdict, rotation=90)\n",
    "    ax.set_yticklabels([''] + predicted_sentence, fontdict=fontdict)\n",
    "\n",
    "    ax.xaxis.set_major_locator(ticker.MultipleLocator(1))\n",
    "    ax.yaxis.set_major_locator(ticker.MultipleLocator(1))\n",
    "\n",
    "    plt.show()"
   ]
  },
  {
   "cell_type": "code",
   "execution_count": 33,
   "metadata": {
    "id": "vu72pDoFl1wN"
   },
   "outputs": [],
   "source": [
    "def translate(sentence):\n",
    "    result, sentence, attention_plot = evaluate(sentence)\n",
    "\n",
    "    print('Input: %s' % (sentence))\n",
    "    print('Predicted translation: {}'.format(result))\n",
    "    \n",
    "    attention_plot = attention_plot[:len(result.split(' ')), :len(sentence.split(' '))]\n",
    "    plot_attention(attention_plot, sentence.split(' '), result.split(' '))"
   ]
  },
  {
   "cell_type": "markdown",
   "metadata": {
    "id": "ufAGzAzNm4-q"
   },
   "source": [
    "## Restore the latest checkpoint and test"
   ]
  },
  {
   "cell_type": "code",
   "execution_count": 34,
   "metadata": {
    "colab": {
     "base_uri": "https://localhost:8080/"
    },
    "id": "jdZT4wPBl1yr",
    "outputId": "c6d1e871-f3b9-4ef6-f9cb-69f8029a27b6"
   },
   "outputs": [
    {
     "data": {
      "text/plain": [
       "<tensorflow.python.training.tracking.util.CheckpointLoadStatus at 0x7f29d7b708d0>"
      ]
     },
     "execution_count": 34,
     "metadata": {
      "tags": []
     },
     "output_type": "execute_result"
    }
   ],
   "source": [
    "# restoring the latest checkpoint in checkpoint_dir\n",
    "checkpoint.restore(tf.train.latest_checkpoint(checkpoint_dir))"
   ]
  },
  {
   "cell_type": "code",
   "execution_count": 35,
   "metadata": {
    "colab": {
     "base_uri": "https://localhost:8080/",
     "height": 676
    },
    "id": "AGESDeNpl10x",
    "outputId": "1e23bb4c-8ac9-455a-e479-c9b96a490f55"
   },
   "outputs": [
    {
     "name": "stdout",
     "output_type": "stream",
     "text": [
      "Input: <start> здесь хорошо . <end>\n",
      "Predicted translation: it's fine here . <end> \n"
     ]
    },
    {
     "data": {
      "image/png": "[encoded data removed]",
      "text/plain": [
       "<Figure size 720x720 with 1 Axes>"
      ]
     },
     "metadata": {
      "needs_background": "light",
      "tags": []
     },
     "output_type": "display_data"
    }
   ],
   "source": [
    "translate('Здесь хорошо.')"
   ]
  },
  {
   "cell_type": "code",
   "execution_count": 36,
   "metadata": {
    "colab": {
     "base_uri": "https://localhost:8080/",
     "height": 681
    },
    "id": "xVozL82pl13Z",
    "outputId": "549f3ad8-f519-4681-fcf1-8264e418d6f0"
   },
   "outputs": [
    {
     "name": "stdout",
     "output_type": "stream",
     "text": [
      "Input: <start> отлично , поехали . <end>\n",
      "Predicted translation: the voting rain . <end> \n"
     ]
    },
    {
     "data": {
      "image/png": "[encoded data removed]",
      "text/plain": [
       "<Figure size 720x720 with 1 Axes>"
      ]
     },
     "metadata": {
      "needs_background": "light",
      "tags": []
     },
     "output_type": "display_data"
    }
   ],
   "source": [
    "translate('Отлично, поехали.')"
   ]
  },
  {
   "cell_type": "code",
   "execution_count": 37,
   "metadata": {
    "colab": {
     "base_uri": "https://localhost:8080/",
     "height": 686
    },
    "id": "Ka2aBzial158",
    "outputId": "32bfd7d7-339a-4104-8152-37bc3fd9268d"
   },
   "outputs": [
    {
     "name": "stdout",
     "output_type": "stream",
     "text": [
      "Input: <start> это слишком дорого для меня . <end>\n",
      "Predicted translation: it's too much for me . <end> \n"
     ]
    },
    {
     "data": {
      "image/png": "[encoded data removed]",
      "text/plain": [
       "<Figure size 720x720 with 1 Axes>"
      ]
     },
     "metadata": {
      "needs_background": "light",
      "tags": []
     },
     "output_type": "display_data"
    }
   ],
   "source": [
    "translate('Это слишком дорого для меня.')"
   ]
  },
  {
   "cell_type": "code",
   "execution_count": 38,
   "metadata": {
    "colab": {
     "base_uri": "https://localhost:8080/",
     "height": 522
    },
    "id": "UUr58PqNl1_Y",
    "outputId": "a8be4859-2e96-4bee-99fc-f5b4c9440102"
   },
   "outputs": [
    {
     "name": "stdout",
     "output_type": "stream",
     "text": [
      "Input: <start> а счастье было так возможно , так близко ! . <end>\n",
      "Predicted translation: it was even be fine . <end> \n"
     ]
    },
    {
     "data": {
      "image/png": "[encoded data removed]",
      "text/plain": [
       "<Figure size 720x720 with 1 Axes>"
      ]
     },
     "metadata": {
      "needs_background": "light",
      "tags": []
     },
     "output_type": "display_data"
    }
   ],
   "source": [
    "translate('А счастье было так возможно, так близко!.')"
   ]
  },
  {
   "cell_type": "code",
   "execution_count": 39,
   "metadata": {
    "colab": {
     "base_uri": "https://localhost:8080/",
     "height": 440
    },
    "id": "UhBiCMhwnNed",
    "outputId": "ce3302a0-c213-41f1-c6cd-f3ca44839821"
   },
   "outputs": [
    {
     "name": "stdout",
     "output_type": "stream",
     "text": [
      "Input: <start> интересно , а если написать длинное предложение и попробовать его перевести , какой результат мы увидим ? <end>\n",
      "Predicted translation: tell us three pork ? <end> \n"
     ]
    },
    {
     "data": {
      "image/png": "[encoded data removed]",
      "text/plain": [
       "<Figure size 720x720 with 1 Axes>"
      ]
     },
     "metadata": {
      "needs_background": "light",
      "tags": []
     },
     "output_type": "display_data"
    }
   ],
   "source": [
    "translate('Интересно, а если написать длинное предложение и попробовать его перевести, какой результат мы увидим?')"
   ]
  },
  {
   "cell_type": "code",
   "execution_count": null,
   "metadata": {
    "id": "1CgtAPLXnbva"
   },
   "outputs": [],
   "source": []
  }
 ],
 "metadata": {
  "accelerator": "GPU",
  "colab": {
   "collapsed_sections": [],
   "name": "Lesson11.ipynb",
   "provenance": []
  },
  "kernelspec": {
   "display_name": "Python 3",
   "language": "python",
   "name": "python3"
  },
  "language_info": {
   "codemirror_mode": {
    "name": "ipython",
    "version": 3
   },
   "file_extension": ".py",
   "mimetype": "text/x-python",
   "name": "python",
   "nbconvert_exporter": "python",
   "pygments_lexer": "ipython3",
   "version": "3.8.7"
  }
 },
 "nbformat": 4,
 "nbformat_minor": 1
}
