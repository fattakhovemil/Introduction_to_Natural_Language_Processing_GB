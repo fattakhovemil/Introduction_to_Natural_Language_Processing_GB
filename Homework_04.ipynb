{
  "nbformat": 4,
  "nbformat_minor": 0,
  "metadata": {
    "colab": {
      "name": "Lesson4.ipynb",
      "provenance": [],
      "collapsed_sections": []
    },
    "kernelspec": {
      "display_name": "Python 3",
      "language": "python",
      "name": "python3"
    },
    "language_info": {
      "codemirror_mode": {
        "name": "ipython",
        "version": 3
      },
      "file_extension": ".py",
      "mimetype": "text/x-python",
      "name": "python",
      "nbconvert_exporter": "python",
      "pygments_lexer": "ipython3",
      "version": "3.8.8"
    },
    "widgets": {
      "application/vnd.jupyter.widget-state+json": {
        "5b19567c6443495797703523a1cecf96": {
          "model_module": "@jupyter-widgets/controls",
          "model_name": "HBoxModel",
          "state": {
            "_view_name": "HBoxView",
            "_dom_classes": [],
            "_model_name": "HBoxModel",
            "_view_module": "@jupyter-widgets/controls",
            "_model_module_version": "1.5.0",
            "_view_count": null,
            "_view_module_version": "1.5.0",
            "box_style": "",
            "layout": "IPY_MODEL_bd425a6fc88645bb903c67a95e25ed18",
            "_model_module": "@jupyter-widgets/controls",
            "children": [
              "IPY_MODEL_7bde2f734ff6459e8d68d2f9e56fd482",
              "IPY_MODEL_44bbccb19b894e09abd19712749ac1d1"
            ]
          }
        },
        "bd425a6fc88645bb903c67a95e25ed18": {
          "model_module": "@jupyter-widgets/base",
          "model_name": "LayoutModel",
          "state": {
            "_view_name": "LayoutView",
            "grid_template_rows": null,
            "right": null,
            "justify_content": null,
            "_view_module": "@jupyter-widgets/base",
            "overflow": null,
            "_model_module_version": "1.2.0",
            "_view_count": null,
            "flex_flow": null,
            "width": null,
            "min_width": null,
            "border": null,
            "align_items": null,
            "bottom": null,
            "_model_module": "@jupyter-widgets/base",
            "top": null,
            "grid_column": null,
            "overflow_y": null,
            "overflow_x": null,
            "grid_auto_flow": null,
            "grid_area": null,
            "grid_template_columns": null,
            "flex": null,
            "_model_name": "LayoutModel",
            "justify_items": null,
            "grid_row": null,
            "max_height": null,
            "align_content": null,
            "visibility": null,
            "align_self": null,
            "height": null,
            "min_height": null,
            "padding": null,
            "grid_auto_rows": null,
            "grid_gap": null,
            "max_width": null,
            "order": null,
            "_view_module_version": "1.2.0",
            "grid_template_areas": null,
            "object_position": null,
            "object_fit": null,
            "grid_auto_columns": null,
            "margin": null,
            "display": null,
            "left": null
          }
        },
        "7bde2f734ff6459e8d68d2f9e56fd482": {
          "model_module": "@jupyter-widgets/controls",
          "model_name": "FloatProgressModel",
          "state": {
            "_view_name": "ProgressView",
            "style": "IPY_MODEL_d977254bf0474c3e930b6bc0c271e08b",
            "_dom_classes": [],
            "description": "100%",
            "_model_name": "FloatProgressModel",
            "bar_style": "success",
            "max": 10000,
            "_view_module": "@jupyter-widgets/controls",
            "_model_module_version": "1.5.0",
            "value": 10000,
            "_view_count": null,
            "_view_module_version": "1.5.0",
            "orientation": "horizontal",
            "min": 0,
            "description_tooltip": null,
            "_model_module": "@jupyter-widgets/controls",
            "layout": "IPY_MODEL_426b42580c484a43a5aafe6b652faf88"
          }
        },
        "44bbccb19b894e09abd19712749ac1d1": {
          "model_module": "@jupyter-widgets/controls",
          "model_name": "HTMLModel",
          "state": {
            "_view_name": "HTMLView",
            "style": "IPY_MODEL_d35c15b096e340f79d1fc236889443a0",
            "_dom_classes": [],
            "description": "",
            "_model_name": "HTMLModel",
            "placeholder": "​",
            "_view_module": "@jupyter-widgets/controls",
            "_model_module_version": "1.5.0",
            "value": " 10000/10000 [07:21&lt;00:00, 22.66it/s]",
            "_view_count": null,
            "_view_module_version": "1.5.0",
            "description_tooltip": null,
            "_model_module": "@jupyter-widgets/controls",
            "layout": "IPY_MODEL_46a3ea6d90ef4bd6b48f3e7aec517465"
          }
        },
        "d977254bf0474c3e930b6bc0c271e08b": {
          "model_module": "@jupyter-widgets/controls",
          "model_name": "ProgressStyleModel",
          "state": {
            "_view_name": "StyleView",
            "_model_name": "ProgressStyleModel",
            "description_width": "initial",
            "_view_module": "@jupyter-widgets/base",
            "_model_module_version": "1.5.0",
            "_view_count": null,
            "_view_module_version": "1.2.0",
            "bar_color": null,
            "_model_module": "@jupyter-widgets/controls"
          }
        },
        "426b42580c484a43a5aafe6b652faf88": {
          "model_module": "@jupyter-widgets/base",
          "model_name": "LayoutModel",
          "state": {
            "_view_name": "LayoutView",
            "grid_template_rows": null,
            "right": null,
            "justify_content": null,
            "_view_module": "@jupyter-widgets/base",
            "overflow": null,
            "_model_module_version": "1.2.0",
            "_view_count": null,
            "flex_flow": null,
            "width": null,
            "min_width": null,
            "border": null,
            "align_items": null,
            "bottom": null,
            "_model_module": "@jupyter-widgets/base",
            "top": null,
            "grid_column": null,
            "overflow_y": null,
            "overflow_x": null,
            "grid_auto_flow": null,
            "grid_area": null,
            "grid_template_columns": null,
            "flex": null,
            "_model_name": "LayoutModel",
            "justify_items": null,
            "grid_row": null,
            "max_height": null,
            "align_content": null,
            "visibility": null,
            "align_self": null,
            "height": null,
            "min_height": null,
            "padding": null,
            "grid_auto_rows": null,
            "grid_gap": null,
            "max_width": null,
            "order": null,
            "_view_module_version": "1.2.0",
            "grid_template_areas": null,
            "object_position": null,
            "object_fit": null,
            "grid_auto_columns": null,
            "margin": null,
            "display": null,
            "left": null
          }
        },
        "d35c15b096e340f79d1fc236889443a0": {
          "model_module": "@jupyter-widgets/controls",
          "model_name": "DescriptionStyleModel",
          "state": {
            "_view_name": "StyleView",
            "_model_name": "DescriptionStyleModel",
            "description_width": "",
            "_view_module": "@jupyter-widgets/base",
            "_model_module_version": "1.5.0",
            "_view_count": null,
            "_view_module_version": "1.2.0",
            "_model_module": "@jupyter-widgets/controls"
          }
        },
        "46a3ea6d90ef4bd6b48f3e7aec517465": {
          "model_module": "@jupyter-widgets/base",
          "model_name": "LayoutModel",
          "state": {
            "_view_name": "LayoutView",
            "grid_template_rows": null,
            "right": null,
            "justify_content": null,
            "_view_module": "@jupyter-widgets/base",
            "overflow": null,
            "_model_module_version": "1.2.0",
            "_view_count": null,
            "flex_flow": null,
            "width": null,
            "min_width": null,
            "border": null,
            "align_items": null,
            "bottom": null,
            "_model_module": "@jupyter-widgets/base",
            "top": null,
            "grid_column": null,
            "overflow_y": null,
            "overflow_x": null,
            "grid_auto_flow": null,
            "grid_area": null,
            "grid_template_columns": null,
            "flex": null,
            "_model_name": "LayoutModel",
            "justify_items": null,
            "grid_row": null,
            "max_height": null,
            "align_content": null,
            "visibility": null,
            "align_self": null,
            "height": null,
            "min_height": null,
            "padding": null,
            "grid_auto_rows": null,
            "grid_gap": null,
            "max_width": null,
            "order": null,
            "_view_module_version": "1.2.0",
            "grid_template_areas": null,
            "object_position": null,
            "object_fit": null,
            "grid_auto_columns": null,
            "margin": null,
            "display": null,
            "left": null
          }
        },
        "6cfe0a029f25411c86107d45ccaefe43": {
          "model_module": "@jupyter-widgets/controls",
          "model_name": "HBoxModel",
          "state": {
            "_view_name": "HBoxView",
            "_dom_classes": [],
            "_model_name": "HBoxModel",
            "_view_module": "@jupyter-widgets/controls",
            "_model_module_version": "1.5.0",
            "_view_count": null,
            "_view_module_version": "1.5.0",
            "box_style": "",
            "layout": "IPY_MODEL_3cf4cdc1151f44b4b062622bb3e0983d",
            "_model_module": "@jupyter-widgets/controls",
            "children": [
              "IPY_MODEL_7c39d1522f1b47cbb7c57323b40478e5",
              "IPY_MODEL_b5001df370d6413a9ace77d026001fd6"
            ]
          }
        },
        "3cf4cdc1151f44b4b062622bb3e0983d": {
          "model_module": "@jupyter-widgets/base",
          "model_name": "LayoutModel",
          "state": {
            "_view_name": "LayoutView",
            "grid_template_rows": null,
            "right": null,
            "justify_content": null,
            "_view_module": "@jupyter-widgets/base",
            "overflow": null,
            "_model_module_version": "1.2.0",
            "_view_count": null,
            "flex_flow": null,
            "width": null,
            "min_width": null,
            "border": null,
            "align_items": null,
            "bottom": null,
            "_model_module": "@jupyter-widgets/base",
            "top": null,
            "grid_column": null,
            "overflow_y": null,
            "overflow_x": null,
            "grid_auto_flow": null,
            "grid_area": null,
            "grid_template_columns": null,
            "flex": null,
            "_model_name": "LayoutModel",
            "justify_items": null,
            "grid_row": null,
            "max_height": null,
            "align_content": null,
            "visibility": null,
            "align_self": null,
            "height": null,
            "min_height": null,
            "padding": null,
            "grid_auto_rows": null,
            "grid_gap": null,
            "max_width": null,
            "order": null,
            "_view_module_version": "1.2.0",
            "grid_template_areas": null,
            "object_position": null,
            "object_fit": null,
            "grid_auto_columns": null,
            "margin": null,
            "display": null,
            "left": null
          }
        },
        "7c39d1522f1b47cbb7c57323b40478e5": {
          "model_module": "@jupyter-widgets/controls",
          "model_name": "FloatProgressModel",
          "state": {
            "_view_name": "ProgressView",
            "style": "IPY_MODEL_00086eb9c17c4b0882417095abe7cc54",
            "_dom_classes": [],
            "description": "100%",
            "_model_name": "FloatProgressModel",
            "bar_style": "success",
            "max": 5,
            "_view_module": "@jupyter-widgets/controls",
            "_model_module_version": "1.5.0",
            "value": 5,
            "_view_count": null,
            "_view_module_version": "1.5.0",
            "orientation": "horizontal",
            "min": 0,
            "description_tooltip": null,
            "_model_module": "@jupyter-widgets/controls",
            "layout": "IPY_MODEL_cab805e8edad495fa7147c9a947184da"
          }
        },
        "b5001df370d6413a9ace77d026001fd6": {
          "model_module": "@jupyter-widgets/controls",
          "model_name": "HTMLModel",
          "state": {
            "_view_name": "HTMLView",
            "style": "IPY_MODEL_937a13e2637c4846ab41e00f85fec408",
            "_dom_classes": [],
            "description": "",
            "_model_name": "HTMLModel",
            "placeholder": "​",
            "_view_module": "@jupyter-widgets/controls",
            "_model_module_version": "1.5.0",
            "value": " 5/5 [19:32&lt;00:00, 234.46s/it]",
            "_view_count": null,
            "_view_module_version": "1.5.0",
            "description_tooltip": null,
            "_model_module": "@jupyter-widgets/controls",
            "layout": "IPY_MODEL_55342bec6671466ca34ab7863216dde5"
          }
        },
        "00086eb9c17c4b0882417095abe7cc54": {
          "model_module": "@jupyter-widgets/controls",
          "model_name": "ProgressStyleModel",
          "state": {
            "_view_name": "StyleView",
            "_model_name": "ProgressStyleModel",
            "description_width": "initial",
            "_view_module": "@jupyter-widgets/base",
            "_model_module_version": "1.5.0",
            "_view_count": null,
            "_view_module_version": "1.2.0",
            "bar_color": null,
            "_model_module": "@jupyter-widgets/controls"
          }
        },
        "cab805e8edad495fa7147c9a947184da": {
          "model_module": "@jupyter-widgets/base",
          "model_name": "LayoutModel",
          "state": {
            "_view_name": "LayoutView",
            "grid_template_rows": null,
            "right": null,
            "justify_content": null,
            "_view_module": "@jupyter-widgets/base",
            "overflow": null,
            "_model_module_version": "1.2.0",
            "_view_count": null,
            "flex_flow": null,
            "width": null,
            "min_width": null,
            "border": null,
            "align_items": null,
            "bottom": null,
            "_model_module": "@jupyter-widgets/base",
            "top": null,
            "grid_column": null,
            "overflow_y": null,
            "overflow_x": null,
            "grid_auto_flow": null,
            "grid_area": null,
            "grid_template_columns": null,
            "flex": null,
            "_model_name": "LayoutModel",
            "justify_items": null,
            "grid_row": null,
            "max_height": null,
            "align_content": null,
            "visibility": null,
            "align_self": null,
            "height": null,
            "min_height": null,
            "padding": null,
            "grid_auto_rows": null,
            "grid_gap": null,
            "max_width": null,
            "order": null,
            "_view_module_version": "1.2.0",
            "grid_template_areas": null,
            "object_position": null,
            "object_fit": null,
            "grid_auto_columns": null,
            "margin": null,
            "display": null,
            "left": null
          }
        },
        "937a13e2637c4846ab41e00f85fec408": {
          "model_module": "@jupyter-widgets/controls",
          "model_name": "DescriptionStyleModel",
          "state": {
            "_view_name": "StyleView",
            "_model_name": "DescriptionStyleModel",
            "description_width": "",
            "_view_module": "@jupyter-widgets/base",
            "_model_module_version": "1.5.0",
            "_view_count": null,
            "_view_module_version": "1.2.0",
            "_model_module": "@jupyter-widgets/controls"
          }
        },
        "55342bec6671466ca34ab7863216dde5": {
          "model_module": "@jupyter-widgets/base",
          "model_name": "LayoutModel",
          "state": {
            "_view_name": "LayoutView",
            "grid_template_rows": null,
            "right": null,
            "justify_content": null,
            "_view_module": "@jupyter-widgets/base",
            "overflow": null,
            "_model_module_version": "1.2.0",
            "_view_count": null,
            "flex_flow": null,
            "width": null,
            "min_width": null,
            "border": null,
            "align_items": null,
            "bottom": null,
            "_model_module": "@jupyter-widgets/base",
            "top": null,
            "grid_column": null,
            "overflow_y": null,
            "overflow_x": null,
            "grid_auto_flow": null,
            "grid_area": null,
            "grid_template_columns": null,
            "flex": null,
            "_model_name": "LayoutModel",
            "justify_items": null,
            "grid_row": null,
            "max_height": null,
            "align_content": null,
            "visibility": null,
            "align_self": null,
            "height": null,
            "min_height": null,
            "padding": null,
            "grid_auto_rows": null,
            "grid_gap": null,
            "max_width": null,
            "order": null,
            "_view_module_version": "1.2.0",
            "grid_template_areas": null,
            "object_position": null,
            "object_fit": null,
            "grid_auto_columns": null,
            "margin": null,
            "display": null,
            "left": null
          }
        }
      }
    }
  },
  "cells": [
    {
      "cell_type": "markdown",
      "metadata": {
        "id": "BFe4TBFLf6Mm"
      },
      "source": [
        "## Тематическое моделирование. EM-алгоритм\n",
        "\n"
      ]
    },
    {
      "cell_type": "markdown",
      "metadata": {
        "id": "iF-hpkh8f6Mn"
      },
      "source": [
        "Построим тематические модели для корпуса новостей Lenta.ru, с которым мы уже работали ранее."
      ]
    },
    {
      "cell_type": "code",
      "metadata": {
        "id": "jF7YG46kHqV8"
      },
      "source": [
        "!wget https://github.com/yutkin/Lenta.Ru-News-Dataset/releases/download/v1.0/lenta-ru-news.csv.gz"
      ],
      "execution_count": null,
      "outputs": []
    },
    {
      "cell_type": "code",
      "metadata": {
        "id": "Rr7CaUybH2zL"
      },
      "source": [
        "!pip install corus"
      ],
      "execution_count": null,
      "outputs": []
    },
    {
      "cell_type": "code",
      "metadata": {
        "colab": {
          "base_uri": "https://localhost:8080/"
        },
        "id": "YAtVRJjKHs9s",
        "outputId": "fa066887-cb26-4364-a9a5-e20f810d8b4f"
      },
      "source": [
        "from corus import load_lenta\n",
        "path = 'lenta-ru-news.csv.gz'\n",
        "records = load_lenta(path)\n",
        "next(records)"
      ],
      "execution_count": 3,
      "outputs": [
        {
          "output_type": "execute_result",
          "data": {
            "text/plain": [
              "LentaRecord(\n",
              "    url='https://lenta.ru/news/2018/12/14/cancer/',\n",
              "    title='Названы регионы России с\\xa0самой высокой смертностью от\\xa0рака',\n",
              "    text='Вице-премьер по социальным вопросам Татьяна Голикова рассказала, в каких регионах России зафиксирована наиболее высокая смертность от рака, сообщает РИА Новости. По словам Голиковой, чаще всего онкологические заболевания становились причиной смерти в Псковской, Тверской, Тульской и Орловской областях, а также в Севастополе. Вице-премьер напомнила, что главные факторы смертности в России — рак и болезни системы кровообращения. В начале года стало известно, что смертность от онкологических заболеваний среди россиян снизилась впервые за три года. По данным Росстата, в 2017 году от рака умерли 289 тысяч человек. Это на 3,5 процента меньше, чем годом ранее.',\n",
              "    topic='Россия',\n",
              "    tags='Общество',\n",
              "    date=None\n",
              ")"
            ]
          },
          "metadata": {
            "tags": []
          },
          "execution_count": 3
        }
      ]
    },
    {
      "cell_type": "code",
      "metadata": {
        "id": "ITPj_bowH-IW"
      },
      "source": [
        "data = [(record.title, record.topic, record.text, record.tags) for record in records]"
      ],
      "execution_count": 4,
      "outputs": []
    },
    {
      "cell_type": "code",
      "metadata": {
        "colab": {
          "base_uri": "https://localhost:8080/"
        },
        "id": "GCcPptuCIHnf",
        "outputId": "579ace93-435f-461c-dd99-593a0fc079e3"
      },
      "source": [
        "import pandas as pd\n",
        "pd.set_option('display.max_columns', None)  \n",
        "pd.set_option('display.expand_frame_repr', False)\n",
        "pd.set_option('max_colwidth', -1)"
      ],
      "execution_count": 5,
      "outputs": [
        {
          "output_type": "stream",
          "text": [
            "/usr/local/lib/python3.7/dist-packages/ipykernel_launcher.py:4: FutureWarning: Passing a negative integer is deprecated in version 1.0 and will not be supported in future version. Instead, use None to not limit the column width.\n",
            "  after removing the cwd from sys.path.\n"
          ],
          "name": "stderr"
        }
      ]
    },
    {
      "cell_type": "code",
      "metadata": {
        "id": "Ei4q1iWsIEfv"
      },
      "source": [
        "data = pd.DataFrame(data, columns=['title','topic','text','tags'])"
      ],
      "execution_count": 6,
      "outputs": []
    },
    {
      "cell_type": "code",
      "metadata": {
        "colab": {
          "base_uri": "https://localhost:8080/",
          "height": 618
        },
        "id": "dFGkSw3mIMHi",
        "outputId": "e725f6cd-2b75-4b7f-c70b-566d9e7fe1ac"
      },
      "source": [
        "data.sample(3)"
      ],
      "execution_count": 7,
      "outputs": [
        {
          "output_type": "execute_result",
          "data": {
            "text/html": [
              "<div>\n",
              "<style scoped>\n",
              "    .dataframe tbody tr th:only-of-type {\n",
              "        vertical-align: middle;\n",
              "    }\n",
              "\n",
              "    .dataframe tbody tr th {\n",
              "        vertical-align: top;\n",
              "    }\n",
              "\n",
              "    .dataframe thead th {\n",
              "        text-align: right;\n",
              "    }\n",
              "</style>\n",
              "<table border=\"1\" class=\"dataframe\">\n",
              "  <thead>\n",
              "    <tr style=\"text-align: right;\">\n",
              "      <th></th>\n",
              "      <th>title</th>\n",
              "      <th>topic</th>\n",
              "      <th>text</th>\n",
              "      <th>tags</th>\n",
              "    </tr>\n",
              "  </thead>\n",
              "  <tbody>\n",
              "    <tr>\n",
              "      <th>349249</th>\n",
              "      <td>Вексельберг станет крупнейшим отельером Сочи</td>\n",
              "      <td>Дом</td>\n",
              "      <td>Компания \"Ренова-Стройгруп\" (входит в холдинг \"Ренова\" Виктора Вексельберга) приступила к строительству многофункционального гостиничного комплекса на 3600 номеровв Адлерском районе Сочи Как пишет газета \"РБК daily\", комплекс в Имеретинской низменности станет крупнейшим гостиничным олимпийским объектом.По данным издания, квартал будет построен на участке площадью 34,5 гектара, который ранее был зарезервирован за структурами бывшего владельца Черкизовского рынка, основателя группы АСТ Тельмана Исмаилова. Газета отмечает, что Исмаилов выбыл из числа застройщиков олимпийских объектов из-за финансовых трудностей.Многофункциональный комплекс (МФК) \"Реновы-Стройгруп\" будет включать в себя гостиницу и апарт-отель класса три или четыре звезды под брендом Park Inn (оператор — сеть Rezidor Hotel Group), торгово-развлекательные центры, рестораны, кинотеатр, аквапарк, спортивный комплекс, конференц-зал. Общая площадь МФК составит 183 тысячи квадратных метров. По информации РИА Новости, курорт будет функционировать с пиковыми нагрузками летом и зимой, а в межсезонье будет заполняться, прежде всего, за счет корпоративных мероприятий.Девелопером проекта, инвестиции в который составят 600  миллионов долларов, является компания Top Project (входит в \"Ренова-Стройгруп\"). Более половины этой суммы компания получит в виде кредита от Внешэкономбанка. Строительство МФК должно завершиться в начале лета 2013 года.Для \"Ренова-Стройгруп\" этот проект станет дебютным на гостиничном рынке. В настоящее время компания специализируется на реализации крупных проектов на рынке жилой недвижимости (в Екатеринбурге, Челябинске, Перми, Ярославле, Краснодаре и Московской области) и строительстве коммерческой недвижимости. Общий портфель проектов девелопера составляет около 20 миллионов квадратных метров недвижимости.В Сочи к зимней Олимпиаде 2014 года планируется построить гостиницы на 12,5 тысячи номеров различного уровня. Крупный отельный кластер будет расположен на территории спортивно-туристического комплекса \"Горная Карусель\". Здесь, в частности, планируется открыть люксовые отели 4 ведущих мировых сетей на 1315 номеров.</td>\n",
              "      <td>Все</td>\n",
              "    </tr>\n",
              "    <tr>\n",
              "      <th>563278</th>\n",
              "      <td>Столица Сомали взбунтовалась против эфиопских войск</td>\n",
              "      <td>Мир</td>\n",
              "      <td>Тысячи жителей столицы Сомали Могадишо вышли на демонстрацию против присутствия в стране армии Эфиопии, которая поддержала переходное правительство в войне с боевиками радикального Союза исламских судов, сообщает AFP. По словам очевидцев, акции протеста проходят в северной части города. Демонстранты выкрикивают лозунги против оккупации страны эфиопами и бросают камни. Подожжены автомобильные покрышки. Напомним, что сомалийские правительственные войска при поддержке армии Эфиопии вошли в Могадишо 28 декабря после десяти дней активных боевых действий, в ходе которых от исламистов были очищены 95 процентов территории Сомали. По официальным данным, за время боевых действий, фронт которых растянулся на 400 километров, погибли около тысячи и были ранены более трех тысяч человек. Премьер-министр Сомали Али Мохамад Геди (Ali Mohamad Gedi) заявил, что парламент 30 декабря намерен ввести в стране военное положение сроком на три месяца. \"Здесь анархия, и чтобы восстановить безопасность, нам нужна сильная рука, особенно в отношении различных ополченцев\", - заявил он. Официальный представитель переходного правительства страны Абдирахман Динари (Abdirahman Dinari) заявил, что формирования Союза исламских судов отступили в порт Кисмайу (Kismayu), на юге страны. В июне исламисты захватили большую часть Сомали, изгнав переходное правительство, учрежденное в 2004 году ООН, из столицы страны Могадишо. В октябре боевики объявили джихад соседней Эфиопии и неоднократно вторгались на ее территорию. Эфиопские власти в ответ приняли решение поддержать официальное сомалийское правительство, которое и прежде не контролировало ситуацию в стране, и ввело войска в Сомали под лозунгами борьбы с угрозой радикализации региона и защиты собственного христианского населения.</td>\n",
              "      <td>Все</td>\n",
              "    </tr>\n",
              "    <tr>\n",
              "      <th>29659</th>\n",
              "      <td>Неймар испугался фанатов «Реала» и решил перейти в МЮ</td>\n",
              "      <td>Спорт</td>\n",
              "      <td>Нападающий «Пари Сен-Жермен» Неймар рассматривает вариант с переходом в английский «Манчестер Юнайтед». Об этом сообщает Don Balon. По информации издания, футболист хотел бы поработать с тренером манкунианцев Жозе Моуринью. Предварительное соглашение МЮ с Неймаром уже достигнуто. Газета также пишет, что форвард не захотел переходить в мадридский «Реал». Нападающий опасается, что болельщики «сливочных» не примут его, так как ранее он выступал за «Барселону». В середине марта сообщалось, что Неймар попросил отца начать переговоры по переходу в «Реал». СМИ также называли каталонскую «Барселону» одним из вариантов продолжения карьеры Неймара. Неймар решил покинуть ПСЖ из-за недовольства уровнем чемпионата и жизнью в Париже. Парижский клуб купил футболиста летом 2017 года за 222 миллиона евро. В настоящий момент форвард восстанавливается от травмы. В текущем сезоне на его счету 29 голов в 30 матчах чемпионата.</td>\n",
              "      <td>Футбол</td>\n",
              "    </tr>\n",
              "  </tbody>\n",
              "</table>\n",
              "</div>"
            ],
            "text/plain": [
              "                                                        title  topic                                                                                                                                                                                                                                                                                                                                                                                                                                                                                                                                                                                                                                                                                                                                                                                                                                                                                                                                                                                                                                                                                                                                                                                                                                                                                                                                                                                                                                                                                                                                                                                                                                                                                                                                                                                                                                                                                                                                                                                                                                                                                                                                                                                                          text    tags\n",
              "349249  Вексельберг станет крупнейшим отельером Сочи           Дом    Компания \"Ренова-Стройгруп\" (входит в холдинг \"Ренова\" Виктора Вексельберга) приступила к строительству многофункционального гостиничного комплекса на 3600 номеровв Адлерском районе Сочи Как пишет газета \"РБК daily\", комплекс в Имеретинской низменности станет крупнейшим гостиничным олимпийским объектом.По данным издания, квартал будет построен на участке площадью 34,5 гектара, который ранее был зарезервирован за структурами бывшего владельца Черкизовского рынка, основателя группы АСТ Тельмана Исмаилова. Газета отмечает, что Исмаилов выбыл из числа застройщиков олимпийских объектов из-за финансовых трудностей.Многофункциональный комплекс (МФК) \"Реновы-Стройгруп\" будет включать в себя гостиницу и апарт-отель класса три или четыре звезды под брендом Park Inn (оператор — сеть Rezidor Hotel Group), торгово-развлекательные центры, рестораны, кинотеатр, аквапарк, спортивный комплекс, конференц-зал. Общая площадь МФК составит 183 тысячи квадратных метров. По информации РИА Новости, курорт будет функционировать с пиковыми нагрузками летом и зимой, а в межсезонье будет заполняться, прежде всего, за счет корпоративных мероприятий.Девелопером проекта, инвестиции в который составят 600  миллионов долларов, является компания Top Project (входит в \"Ренова-Стройгруп\"). Более половины этой суммы компания получит в виде кредита от Внешэкономбанка. Строительство МФК должно завершиться в начале лета 2013 года.Для \"Ренова-Стройгруп\" этот проект станет дебютным на гостиничном рынке. В настоящее время компания специализируется на реализации крупных проектов на рынке жилой недвижимости (в Екатеринбурге, Челябинске, Перми, Ярославле, Краснодаре и Московской области) и строительстве коммерческой недвижимости. Общий портфель проектов девелопера составляет около 20 миллионов квадратных метров недвижимости.В Сочи к зимней Олимпиаде 2014 года планируется построить гостиницы на 12,5 тысячи номеров различного уровня. Крупный отельный кластер будет расположен на территории спортивно-туристического комплекса \"Горная Карусель\". Здесь, в частности, планируется открыть люксовые отели 4 ведущих мировых сетей на 1315 номеров.  Все   \n",
              "563278  Столица Сомали взбунтовалась против эфиопских войск    Мир    Тысячи жителей столицы Сомали Могадишо вышли на демонстрацию против присутствия в стране армии Эфиопии, которая поддержала переходное правительство в войне с боевиками радикального Союза исламских судов, сообщает AFP. По словам очевидцев, акции протеста проходят в северной части города. Демонстранты выкрикивают лозунги против оккупации страны эфиопами и бросают камни. Подожжены автомобильные покрышки. Напомним, что сомалийские правительственные войска при поддержке армии Эфиопии вошли в Могадишо 28 декабря после десяти дней активных боевых действий, в ходе которых от исламистов были очищены 95 процентов территории Сомали. По официальным данным, за время боевых действий, фронт которых растянулся на 400 километров, погибли около тысячи и были ранены более трех тысяч человек. Премьер-министр Сомали Али Мохамад Геди (Ali Mohamad Gedi) заявил, что парламент 30 декабря намерен ввести в стране военное положение сроком на три месяца. \"Здесь анархия, и чтобы восстановить безопасность, нам нужна сильная рука, особенно в отношении различных ополченцев\", - заявил он. Официальный представитель переходного правительства страны Абдирахман Динари (Abdirahman Dinari) заявил, что формирования Союза исламских судов отступили в порт Кисмайу (Kismayu), на юге страны. В июне исламисты захватили большую часть Сомали, изгнав переходное правительство, учрежденное в 2004 году ООН, из столицы страны Могадишо. В октябре боевики объявили джихад соседней Эфиопии и неоднократно вторгались на ее территорию. Эфиопские власти в ответ приняли решение поддержать официальное сомалийское правительство, которое и прежде не контролировало ситуацию в стране, и ввело войска в Сомали под лозунгами борьбы с угрозой радикализации региона и защиты собственного христианского населения.                                                                                                                                                                                                                                                                                                                                                                     Все   \n",
              "29659   Неймар испугался фанатов «Реала» и решил перейти в МЮ  Спорт  Нападающий «Пари Сен-Жермен» Неймар рассматривает вариант с переходом в английский «Манчестер Юнайтед». Об этом сообщает Don Balon. По информации издания, футболист хотел бы поработать с тренером манкунианцев Жозе Моуринью. Предварительное соглашение МЮ с Неймаром уже достигнуто. Газета также пишет, что форвард не захотел переходить в мадридский «Реал». Нападающий опасается, что болельщики «сливочных» не примут его, так как ранее он выступал за «Барселону». В середине марта сообщалось, что Неймар попросил отца начать переговоры по переходу в «Реал». СМИ также называли каталонскую «Барселону» одним из вариантов продолжения карьеры Неймара. Неймар решил покинуть ПСЖ из-за недовольства уровнем чемпионата и жизнью в Париже. Парижский клуб купил футболиста летом 2017 года за 222 миллиона евро. В настоящий момент форвард восстанавливается от травмы. В текущем сезоне на его счету 29 голов в 30 матчах чемпионата.                                                                                                                                                                                                                                                                                                                                                                                                                                                                                                                                                                                                                                                                                                                                                                                                                                                                                                                                                                                                                                                                                                                                                                                                                                                        Футбол"
            ]
          },
          "metadata": {
            "tags": []
          },
          "execution_count": 7
        }
      ]
    },
    {
      "cell_type": "code",
      "metadata": {
        "colab": {
          "base_uri": "https://localhost:8080/"
        },
        "id": "yQn0BZNTf6Mo",
        "outputId": "78daa9a8-d844-4617-a753-e830aae81ec3"
      },
      "source": [
        "len(data)"
      ],
      "execution_count": 8,
      "outputs": [
        {
          "output_type": "execute_result",
          "data": {
            "text/plain": [
              "739350"
            ]
          },
          "metadata": {
            "tags": []
          },
          "execution_count": 8
        }
      ]
    },
    {
      "cell_type": "code",
      "metadata": {
        "colab": {
          "base_uri": "https://localhost:8080/"
        },
        "id": "0NVPadeXf6Mo",
        "outputId": "6b071c4d-b28b-4c0a-cbf7-96abe6254795"
      },
      "source": [
        "data.topic.value_counts().head(15)"
      ],
      "execution_count": 9,
      "outputs": [
        {
          "output_type": "execute_result",
          "data": {
            "text/plain": [
              "Россия               160518\n",
              "Мир                  136680\n",
              "Экономика            79538 \n",
              "Спорт                64421 \n",
              "Культура             53803 \n",
              "Бывший СССР          53402 \n",
              "Наука и техника      53136 \n",
              "Интернет и СМИ       44675 \n",
              "Из жизни             27611 \n",
              "Дом                  21734 \n",
              "Силовые структуры    19596 \n",
              "Ценности             7766  \n",
              "Бизнес               7399  \n",
              "Путешествия          6408  \n",
              "69-я параллель       1268  \n",
              "Name: topic, dtype: int64"
            ]
          },
          "metadata": {
            "tags": []
          },
          "execution_count": 9
        }
      ]
    },
    {
      "cell_type": "markdown",
      "metadata": {
        "id": "zIR00Sgaf6Mp"
      },
      "source": [
        "Для ускорения вычислений оставим тексты из 5 тем:"
      ]
    },
    {
      "cell_type": "code",
      "metadata": {
        "colab": {
          "base_uri": "https://localhost:8080/"
        },
        "id": "gBwWYrLLf6Mp",
        "outputId": "e5a774c7-f7a0-4290-9106-85c9ac0b4f68"
      },
      "source": [
        "topics = ['Россия', 'Спорт', 'Наука и техника', \n",
        "          'Интернет и СМИ', 'Из жизни', 'Бизнес']\n",
        "\n",
        "data = data[data.topic.isin(topics)]\n",
        "data.dropna(inplace=True)\n",
        "len(data)"
      ],
      "execution_count": 10,
      "outputs": [
        {
          "output_type": "execute_result",
          "data": {
            "text/plain": [
              "357760"
            ]
          },
          "metadata": {
            "tags": []
          },
          "execution_count": 10
        }
      ]
    },
    {
      "cell_type": "code",
      "metadata": {
        "colab": {
          "base_uri": "https://localhost:8080/"
        },
        "id": "Kj2BnpxrReZb",
        "outputId": "60992cb2-af76-486c-ea85-12affb81122f"
      },
      "source": [
        "data.isnull().sum()"
      ],
      "execution_count": 11,
      "outputs": [
        {
          "output_type": "execute_result",
          "data": {
            "text/plain": [
              "title    0\n",
              "topic    0\n",
              "text     0\n",
              "tags     0\n",
              "dtype: int64"
            ]
          },
          "metadata": {
            "tags": []
          },
          "execution_count": 11
        }
      ]
    },
    {
      "cell_type": "markdown",
      "metadata": {
        "id": "bsWr6XDzf6Mp"
      },
      "source": [
        "### Предобработка\n",
        "\n",
        "\n",
        "Все модели, с которыми мы будем работать далее, работают с предобработанными текстами, поэтому сперва проведем стандартную предобработку текста:"
      ]
    },
    {
      "cell_type": "code",
      "metadata": {
        "id": "JVrWuN09f6Mp"
      },
      "source": [
        "import re\n",
        "import numpy as np\n",
        "from nltk.corpus import stopwords\n",
        "from tqdm.notebook import tqdm\n",
        "from multiprocessing import Pool"
      ],
      "execution_count": 12,
      "outputs": []
    },
    {
      "cell_type": "code",
      "metadata": {
        "colab": {
          "base_uri": "https://localhost:8080/"
        },
        "id": "KabTrpuCJIPw",
        "outputId": "4c985323-6af1-4d4e-a407-b22cbdd71024"
      },
      "source": [
        "import nltk\n",
        "nltk.download('stopwords')"
      ],
      "execution_count": 13,
      "outputs": [
        {
          "output_type": "stream",
          "text": [
            "[nltk_data] Downloading package stopwords to /root/nltk_data...\n",
            "[nltk_data]   Package stopwords is already up-to-date!\n"
          ],
          "name": "stdout"
        },
        {
          "output_type": "execute_result",
          "data": {
            "text/plain": [
              "True"
            ]
          },
          "metadata": {
            "tags": []
          },
          "execution_count": 13
        }
      ]
    },
    {
      "cell_type": "code",
      "metadata": {
        "id": "nTW_QQmfKd0A",
        "colab": {
          "base_uri": "https://localhost:8080/"
        },
        "outputId": "56710dc5-13e1-4ae6-9ae7-403f270d4c4a"
      },
      "source": [
        "! pip install pymorphy2"
      ],
      "execution_count": 14,
      "outputs": [
        {
          "output_type": "stream",
          "text": [
            "Requirement already satisfied: pymorphy2 in /usr/local/lib/python3.7/dist-packages (0.9.1)\n",
            "Requirement already satisfied: docopt>=0.6 in /usr/local/lib/python3.7/dist-packages (from pymorphy2) (0.6.2)\n",
            "Requirement already satisfied: dawg-python>=0.7.1 in /usr/local/lib/python3.7/dist-packages (from pymorphy2) (0.7.2)\n",
            "Requirement already satisfied: pymorphy2-dicts-ru<3.0,>=2.4 in /usr/local/lib/python3.7/dist-packages (from pymorphy2) (2.4.417127.4579844)\n"
          ],
          "name": "stdout"
        }
      ]
    },
    {
      "cell_type": "code",
      "metadata": {
        "id": "XDBV03ENKhgu"
      },
      "source": [
        "import pymorphy2\n",
        "morph = pymorphy2.MorphAnalyzer()"
      ],
      "execution_count": 15,
      "outputs": []
    },
    {
      "cell_type": "code",
      "metadata": {
        "id": "V3a8Btmff6Mp"
      },
      "source": [
        "words_regex = re.compile('\\w+')\n",
        "\n",
        "def find_words(text, regex = words_regex):\n",
        "    tokens =  regex.findall(text.lower())\n",
        "    return [w for w in tokens if w.isalpha() and len(w) >= 3]\n",
        "\n",
        "stopwords_list = stopwords.words('russian')\n",
        "\n",
        "def lemmatize(words, lemmer = morph, stopwords = stopwords_list):\n",
        "    lemmas = [lemmer.parse(w)[0].normal_form for w in words]\n",
        "    return [w for w in lemmas if not w in stopwords \n",
        "            and w.isalpha()]\n",
        "\n",
        "def preprocess(text):\n",
        "    return (lemmatize(find_words(text)))"
      ],
      "execution_count": 16,
      "outputs": []
    },
    {
      "cell_type": "code",
      "metadata": {
        "colab": {
          "base_uri": "https://localhost:8080/",
          "height": 120
        },
        "id": "zkxfy_uXf6Mp",
        "outputId": "ae267ba0-05aa-4f87-9e1a-e66deba6b1fd"
      },
      "source": [
        "data.text.iloc[1]"
      ],
      "execution_count": 17,
      "outputs": [
        {
          "output_type": "execute_result",
          "data": {
            "application/vnd.google.colaboratory.intrinsic+json": {
              "type": "string"
            },
            "text/plain": [
              "'Российская молодежь лучше усвоит духовные ценности, если распространять их через интернет и социальные сети. С такой инициативой выступил глава Федерального агентства по делам молодежи Александр Бугаев в ходе религиозного форума «Россия в будущее», передает радио «Говорит Москва». Бугаев отметил, что раньше с этой функцией справлялись плакаты, которые можно было повесить в учебных заведениях, однако в настоящее время этого недостаточно. «Намного эффективнее будет, если мы об этом хорошем, добром и ценном расскажем в социальных группах в интернете. При помощи мессенджеров, неформальных объединений молодежи, которые зачастую охватывают огромное количество людей», — сказал он. По словам чиновника, современные способы распространения информации помогут молодым людям лучше уяснить моральные ценности. В мае стало известно, что в российских школах могут начать преподавать новый курс для учеников и их родителей — о семейном укладе. В рамках курса дети будут изучать основы семейной психологии, мужской и женской культуры, семейного уклада, здорового образа жизни, духовно-нравственное развитие, подготовку к будущему родительству и другие темы.'"
            ]
          },
          "metadata": {
            "tags": []
          },
          "execution_count": 17
        }
      ]
    },
    {
      "cell_type": "code",
      "metadata": {
        "colab": {
          "base_uri": "https://localhost:8080/"
        },
        "id": "TLz9uO5Yf6Mp",
        "scrolled": true,
        "outputId": "794fa6d2-93ef-423a-8ed3-22d90fb1f9e8"
      },
      "source": [
        "print(preprocess(data.text.iloc[1]))"
      ],
      "execution_count": 18,
      "outputs": [
        {
          "output_type": "stream",
          "text": [
            "['российский', 'молодёжь', 'хороший', 'усвоить', 'духовный', 'ценность', 'распространять', 'интернет', 'социальный', 'сеть', 'инициатива', 'выступить', 'глава', 'федеральный', 'агентство', 'дело', 'молодёжь', 'александр', 'бугаев', 'ход', 'религиозный', 'форум', 'россия', 'будущее', 'передавать', 'радио', 'говорить', 'москва', 'бугаев', 'отметить', 'ранний', 'функция', 'справляться', 'плакат', 'который', 'повесить', 'учебный', 'заведение', 'однако', 'настоящий', 'время', 'это', 'недостаточно', 'намного', 'эффективный', 'это', 'хороший', 'добрый', 'ценный', 'рассказать', 'социальный', 'группа', 'интернет', 'помощь', 'мессенджер', 'неформальный', 'объединение', 'молодёжь', 'который', 'зачастую', 'охватывать', 'огромный', 'количество', 'человек', 'сказать', 'слово', 'чиновник', 'современный', 'способ', 'распространение', 'информация', 'помочь', 'молодой', 'человек', 'хороший', 'уяснить', 'моральный', 'ценность', 'май', 'стать', 'известно', 'российский', 'школа', 'мочь', 'начать', 'преподавать', 'новый', 'курс', 'ученик', 'родитель', 'семейный', 'уклад', 'рамка', 'курс', 'ребёнок', 'изучать', 'основа', 'семейный', 'психология', 'мужской', 'женский', 'культура', 'семейный', 'уклад', 'здоровый', 'образ', 'жизнь', 'духовно', 'нравственный', 'развитие', 'подготовка', 'будущий', 'родительство', 'тема']\n"
          ],
          "name": "stdout"
        }
      ]
    },
    {
      "cell_type": "markdown",
      "metadata": {
        "id": "5ldobYBOf6Mp"
      },
      "source": [
        "Ниже мы оставим только случайные 10,000 текстов из нашей коллекции, чтобы ускорить вычисления:"
      ]
    },
    {
      "cell_type": "code",
      "metadata": {
        "colab": {
          "base_uri": "https://localhost:8080/"
        },
        "id": "Cp9UP1pCf6Mp",
        "outputId": "4ee21557-476d-4bfc-ae04-2da958ca4dd9"
      },
      "source": [
        "data = data.sample(10000)\n",
        "data.topic.value_counts()"
      ],
      "execution_count": 19,
      "outputs": [
        {
          "output_type": "execute_result",
          "data": {
            "text/plain": [
              "Россия             4426\n",
              "Спорт              1803\n",
              "Наука и техника    1510\n",
              "Интернет и СМИ     1245\n",
              "Из жизни           801 \n",
              "Бизнес             215 \n",
              "Name: topic, dtype: int64"
            ]
          },
          "metadata": {
            "tags": []
          },
          "execution_count": 19
        }
      ]
    },
    {
      "cell_type": "code",
      "metadata": {
        "colab": {
          "base_uri": "https://localhost:8080/",
          "height": 66,
          "referenced_widgets": [
            "5b19567c6443495797703523a1cecf96",
            "bd425a6fc88645bb903c67a95e25ed18",
            "7bde2f734ff6459e8d68d2f9e56fd482",
            "44bbccb19b894e09abd19712749ac1d1",
            "d977254bf0474c3e930b6bc0c271e08b",
            "426b42580c484a43a5aafe6b652faf88",
            "d35c15b096e340f79d1fc236889443a0",
            "46a3ea6d90ef4bd6b48f3e7aec517465"
          ]
        },
        "id": "S8PnTSmRf6Mp",
        "outputId": "b90e78ec-8718-45ce-c6c7-4f34b9aa2a7c"
      },
      "source": [
        "preprocessed_text = list(tqdm(map(preprocess, data['text']), total=len(data)))"
      ],
      "execution_count": 20,
      "outputs": [
        {
          "output_type": "display_data",
          "data": {
            "application/vnd.jupyter.widget-view+json": {
              "model_id": "5b19567c6443495797703523a1cecf96",
              "version_minor": 0,
              "version_major": 2
            },
            "text/plain": [
              "HBox(children=(FloatProgress(value=0.0, max=10000.0), HTML(value='')))"
            ]
          },
          "metadata": {
            "tags": []
          }
        },
        {
          "output_type": "stream",
          "text": [
            "\n"
          ],
          "name": "stdout"
        }
      ]
    },
    {
      "cell_type": "code",
      "metadata": {
        "colab": {
          "base_uri": "https://localhost:8080/",
          "height": 380
        },
        "id": "DriM5_5_f6Mq",
        "outputId": "476b0e8d-270f-4a00-f44c-ce40b3094339"
      },
      "source": [
        "data['text'] = preprocessed_text\n",
        "data.sample(3)"
      ],
      "execution_count": 21,
      "outputs": [
        {
          "output_type": "execute_result",
          "data": {
            "text/html": [
              "<div>\n",
              "<style scoped>\n",
              "    .dataframe tbody tr th:only-of-type {\n",
              "        vertical-align: middle;\n",
              "    }\n",
              "\n",
              "    .dataframe tbody tr th {\n",
              "        vertical-align: top;\n",
              "    }\n",
              "\n",
              "    .dataframe thead th {\n",
              "        text-align: right;\n",
              "    }\n",
              "</style>\n",
              "<table border=\"1\" class=\"dataframe\">\n",
              "  <thead>\n",
              "    <tr style=\"text-align: right;\">\n",
              "      <th></th>\n",
              "      <th>title</th>\n",
              "      <th>topic</th>\n",
              "      <th>text</th>\n",
              "      <th>tags</th>\n",
              "    </tr>\n",
              "  </thead>\n",
              "  <tbody>\n",
              "    <tr>\n",
              "      <th>534592</th>\n",
              "      <td>УЕФА отказался разбирать пенальти в ворота сборной Англии</td>\n",
              "      <td>Спорт</td>\n",
              "      <td>[европейский, союз, футбольный, ассоциация, уефа, разбирать, эпизод, назначение, пенальти, ворота, сборная, англия, матч, отборочный, турнир, евро, против, россия, распространить, заявление, говориться, арбитр, луис, медина, канталехий, назначить, метровый, факт, нарушение, сообщать, associated, press, испанский, судья, дать, пенальти, нарушение, уэйн, руни, против, константин, зырянов, однако, неясно, именно, англичанин, сфолила, штрафной, площадь, предел, уефа, подчеркнуть, российский, полузащитник, пытаться, ввести, канталехий, заблуждение, поэтому, решение, назначение, пенальти, приниматься, усмотрение, арбитр, метровый, штрафной, удар, назначить, минута, матч, счёт, польза, англичанин, роман, павлюченко, реализовать, пенальти, сравнять, счёт, четыре, минута, забить, победный, гол, игра, главный, тренер, сборная, англия, стив, макларен, назвать, решение, арбитр, позор, подчеркнуть, эпизод, стать, главный, ...]</td>\n",
              "      <td>Все</td>\n",
              "    </tr>\n",
              "    <tr>\n",
              "      <th>153383</th>\n",
              "      <td>Обнаружен затерянный корабль индийской армады Васко да Гамы</td>\n",
              "      <td>Наука и техника</td>\n",
              "      <td>[побережье, оман, подводный, археолог, наслать, след, первый, корабль, эпоха, великий, географический, открытие, мнение, учёный, обломок, принадлежать, эсмеральда, который, плыть, состав, флот, васко, гам, время, второй, путешествие, индия, год, открытие, сообщать, national, geographic, след, кораблекрушение, берег, оман, наткнуться, ещё, год, раскопка, пройти, эгида, министерство, культура, султанат, год, осуществить, фирма, bluewater, recoveries, ltd, анализ, многий, тысяча, предмет, обнаружить, место, кораблекрушение, продолжаться, однако, промежуточный, отчёт, учёный, заключить, судно, принадлежать, флот, васко, гам, весь, видимость, речь, идти, именно, эсмеральда, факт, указывать, редкий, португальский, серебряный, монета, indio, который, король, мануэл, первый, приказать, отлить, год, специально, торговля, индия, ранний, учёный, известный, монета, кроме, среди, обломок, корабль, ...]</td>\n",
              "      <td>История</td>\n",
              "    </tr>\n",
              "    <tr>\n",
              "      <th>130741</th>\n",
              "      <td>Американец перепутал лежащую на пороге его дома пуму с домашней кошкой</td>\n",
              "      <td>Интернет и СМИ</td>\n",
              "      <td>[житель, денвер, штат, колорадо, опубликовать, craigslist, объявление, найти, порог, свой, дом, пума, который, назвать, откормить, кошка, скриншот, запись, американец, выложить, imgur, сутки, набрать, миллион, просмотр, объявление, автор, также, отметить, кошка, кремовый, окрас, пятно, вряд, чипировать, оставить, животное, смочь, поскольку, собака, казаться, бояться, кошка, комментарий, пользователь, imgur, посмеяться, текст, объявление, отметить, видеть, немой, странный, денвер, являться, столица, легальный, марихуана, выпуск, местный, телеканал, fox, сообщить, житель, район, вызвать, полиция, который, выстрелить, пума, дротик, снотворный, животное, попытаться, убежать, поздний, найти, парковка, неподалёку, ночь, местный, ветеринарный, клиника, хищник, отпустить, свобода]</td>\n",
              "      <td>Мемы</td>\n",
              "    </tr>\n",
              "  </tbody>\n",
              "</table>\n",
              "</div>"
            ],
            "text/plain": [
              "                                                                         title            topic                                                                                                                                                                                                                                                                                                                                                                                                                                                                                                                                                                                                                                                                                                                                                                                                                                                                                                                                                             text     tags\n",
              "534592  УЕФА отказался разбирать пенальти в ворота сборной Англии               Спорт            [европейский, союз, футбольный, ассоциация, уефа, разбирать, эпизод, назначение, пенальти, ворота, сборная, англия, матч, отборочный, турнир, евро, против, россия, распространить, заявление, говориться, арбитр, луис, медина, канталехий, назначить, метровый, факт, нарушение, сообщать, associated, press, испанский, судья, дать, пенальти, нарушение, уэйн, руни, против, константин, зырянов, однако, неясно, именно, англичанин, сфолила, штрафной, площадь, предел, уефа, подчеркнуть, российский, полузащитник, пытаться, ввести, канталехий, заблуждение, поэтому, решение, назначение, пенальти, приниматься, усмотрение, арбитр, метровый, штрафной, удар, назначить, минута, матч, счёт, польза, англичанин, роман, павлюченко, реализовать, пенальти, сравнять, счёт, четыре, минута, забить, победный, гол, игра, главный, тренер, сборная, англия, стив, макларен, назвать, решение, арбитр, позор, подчеркнуть, эпизод, стать, главный, ...]  Все    \n",
              "153383  Обнаружен затерянный корабль индийской армады Васко да Гамы             Наука и техника  [побережье, оман, подводный, археолог, наслать, след, первый, корабль, эпоха, великий, географический, открытие, мнение, учёный, обломок, принадлежать, эсмеральда, который, плыть, состав, флот, васко, гам, время, второй, путешествие, индия, год, открытие, сообщать, national, geographic, след, кораблекрушение, берег, оман, наткнуться, ещё, год, раскопка, пройти, эгида, министерство, культура, султанат, год, осуществить, фирма, bluewater, recoveries, ltd, анализ, многий, тысяча, предмет, обнаружить, место, кораблекрушение, продолжаться, однако, промежуточный, отчёт, учёный, заключить, судно, принадлежать, флот, васко, гам, весь, видимость, речь, идти, именно, эсмеральда, факт, указывать, редкий, португальский, серебряный, монета, indio, который, король, мануэл, первый, приказать, отлить, год, специально, торговля, индия, ранний, учёный, известный, монета, кроме, среди, обломок, корабль, ...]                           История\n",
              "130741  Американец перепутал лежащую на пороге его дома пуму с домашней кошкой  Интернет и СМИ   [житель, денвер, штат, колорадо, опубликовать, craigslist, объявление, найти, порог, свой, дом, пума, который, назвать, откормить, кошка, скриншот, запись, американец, выложить, imgur, сутки, набрать, миллион, просмотр, объявление, автор, также, отметить, кошка, кремовый, окрас, пятно, вряд, чипировать, оставить, животное, смочь, поскольку, собака, казаться, бояться, кошка, комментарий, пользователь, imgur, посмеяться, текст, объявление, отметить, видеть, немой, странный, денвер, являться, столица, легальный, марихуана, выпуск, местный, телеканал, fox, сообщить, житель, район, вызвать, полиция, который, выстрелить, пума, дротик, снотворный, животное, попытаться, убежать, поздний, найти, парковка, неподалёку, ночь, местный, ветеринарный, клиника, хищник, отпустить, свобода]                                                                                                                                                  Мемы   "
            ]
          },
          "metadata": {
            "tags": []
          },
          "execution_count": 21
        }
      ]
    },
    {
      "cell_type": "markdown",
      "metadata": {
        "id": "FFmXozKkf6Mq"
      },
      "source": [
        "## Модель LDA\n",
        "\n",
        "\n",
        "Первая модель, которую мы рассмотрим, LDA - латентное размещение Дирихле. Воспользуемся реализацией из библиотеки gensim."
      ]
    },
    {
      "cell_type": "code",
      "metadata": {
        "id": "8Q0q12sDPl3m"
      },
      "source": [
        "!pip install -U gensim"
      ],
      "execution_count": null,
      "outputs": []
    },
    {
      "cell_type": "code",
      "metadata": {
        "id": "jITId1Axf6Mq",
        "colab": {
          "base_uri": "https://localhost:8080/"
        },
        "outputId": "3b560067-7730-44e3-e91a-b7df0e735ea2"
      },
      "source": [
        "from gensim.models import *\n",
        "from gensim import corpora"
      ],
      "execution_count": 23,
      "outputs": [
        {
          "output_type": "stream",
          "text": [
            "/usr/local/lib/python3.7/dist-packages/gensim/similarities/__init__.py:15: UserWarning: The gensim.similarities.levenshtein submodule is disabled, because the optional Levenshtein package <https://pypi.org/project/python-Levenshtein/> is unavailable. Install Levenhstein (e.g. `pip install python-Levenshtein`) to suppress this warning.\n",
            "  warnings.warn(msg)\n"
          ],
          "name": "stderr"
        }
      ]
    },
    {
      "cell_type": "markdown",
      "metadata": {
        "id": "b1usmvtHf6Mq"
      },
      "source": [
        "Модель использует векторное представление документов, например, мешок слов (bow), поэтому сперва создадим словарь:"
      ]
    },
    {
      "cell_type": "code",
      "metadata": {
        "id": "l9-iZNVuf6Mq"
      },
      "source": [
        "dictionary = corpora.Dictionary(data['text'])\n",
        "\n",
        "dictionary.filter_extremes(no_below = 10, no_above = 0.9) # игнорируем слова, которые встречаются реже 10 раз или составляют более 0.9 словаря \n",
        "dictionary.save('lenta.dict')"
      ],
      "execution_count": 24,
      "outputs": []
    },
    {
      "cell_type": "markdown",
      "metadata": {
        "id": "gUZtBF3gf6Mq"
      },
      "source": [
        "Векторизуем документы:"
      ]
    },
    {
      "cell_type": "code",
      "metadata": {
        "id": "Sn17WY1vf6Mq"
      },
      "source": [
        "corpus = [dictionary.doc2bow(text) for text in data['text']]\n",
        "corpora.MmCorpus.serialize('lenta.model', corpus) "
      ],
      "execution_count": 25,
      "outputs": []
    },
    {
      "cell_type": "markdown",
      "metadata": {
        "id": "cx4kZUtff6Mq"
      },
      "source": [
        "Теперь можем обучать модель:"
      ]
    },
    {
      "cell_type": "code",
      "metadata": {
        "colab": {
          "base_uri": "https://localhost:8080/"
        },
        "id": "oOzLXIDQf6Mq",
        "outputId": "557dd759-25e5-4a11-af80-b367e5fa4742"
      },
      "source": [
        "%time lda = ldamodel.LdaModel(corpus, id2word=dictionary, num_topics=7, chunksize=50, update_every=1, passes=2)"
      ],
      "execution_count": 26,
      "outputs": [
        {
          "output_type": "stream",
          "text": [
            "CPU times: user 13.3 s, sys: 88.5 ms, total: 13.4 s\n",
            "Wall time: 13.4 s\n"
          ],
          "name": "stdout"
        }
      ]
    },
    {
      "cell_type": "markdown",
      "metadata": {
        "id": "BbQWg_jPf6Mq"
      },
      "source": [
        "Посмотрим на получившиеся темы:"
      ]
    },
    {
      "cell_type": "code",
      "metadata": {
        "colab": {
          "base_uri": "https://localhost:8080/"
        },
        "id": "EqQzwFm2c1_B",
        "outputId": "96897431-a9b2-41b7-99c3-0f08ff07a9c9"
      },
      "source": [
        "lda.show_topics(num_topics=10, num_words=10, formatted=True)"
      ],
      "execution_count": 27,
      "outputs": [
        {
          "output_type": "execute_result",
          "data": {
            "text/plain": [
              "[(0,\n",
              "  '0.017*\"матч\" + 0.013*\"команда\" + 0.011*\"год\" + 0.011*\"клуб\" + 0.010*\"сборная\" + 0.010*\"счёт\" + 0.009*\"мир\" + 0.009*\"первый\" + 0.009*\"чемпионат\" + 0.009*\"это\"'),\n",
              " (1,\n",
              "  '0.030*\"год\" + 0.019*\"суд\" + 0.013*\"дело\" + 0.010*\"рубль\" + 0.009*\"область\" + 0.007*\"самолёт\" + 0.006*\"сообщать\" + 0.006*\"тысяча\" + 0.006*\"это\" + 0.005*\"миллион\"'),\n",
              " (2,\n",
              "  '0.030*\"россия\" + 0.014*\"президент\" + 0.014*\"год\" + 0.011*\"глава\" + 0.010*\"это\" + 0.010*\"российский\" + 0.010*\"партия\" + 0.008*\"процент\" + 0.007*\"владимир\" + 0.007*\"заявить\"'),\n",
              " (3,\n",
              "  '0.014*\"человек\" + 0.011*\"сообщать\" + 0.009*\"задержать\" + 0.009*\"который\" + 0.008*\"москва\" + 0.008*\"сотрудник\" + 0.008*\"произойти\" + 0.007*\"данные\" + 0.007*\"город\" + 0.007*\"сообщить\"'),\n",
              " (4,\n",
              "  '0.016*\"который\" + 0.013*\"это\" + 0.010*\"год\" + 0.009*\"свой\" + 0.008*\"мочь\" + 0.007*\"учёный\" + 0.006*\"человек\" + 0.006*\"время\" + 0.006*\"летний\" + 0.005*\"ребёнок\"'),\n",
              " (5,\n",
              "  '0.027*\"год\" + 0.021*\"компания\" + 0.013*\"миллион\" + 0.012*\"новый\" + 0.012*\"доллар\" + 0.010*\"который\" + 0.009*\"пользователь\" + 0.008*\"игра\" + 0.007*\"также\" + 0.007*\"процент\"'),\n",
              " (6,\n",
              "  '0.015*\"это\" + 0.014*\"свой\" + 0.014*\"который\" + 0.012*\"заявить\" + 0.007*\"газета\" + 0.007*\"слово\" + 0.007*\"решение\" + 0.006*\"информация\" + 0.006*\"право\" + 0.006*\"мочь\"')]"
            ]
          },
          "metadata": {
            "tags": []
          },
          "execution_count": 27
        }
      ]
    },
    {
      "cell_type": "markdown",
      "metadata": {
        "id": "j5PIsI6ef6Mq"
      },
      "source": [
        "На полученные темы можно посмотреть, изобразив их на плоскости с помощью библиотеки __pyLDAvis__. Чтобы спроецировать темы на плоскость, внутри применяется PCA-разложение."
      ]
    },
    {
      "cell_type": "code",
      "metadata": {
        "id": "y9I-oR4kf6Mq"
      },
      "source": [
        "!pip install pyLDAvis"
      ],
      "execution_count": null,
      "outputs": []
    },
    {
      "cell_type": "code",
      "metadata": {
        "colab": {
          "base_uri": "https://localhost:8080/",
          "height": 1000
        },
        "id": "BlW0h05wf6Mq",
        "outputId": "d0008834-78d4-410d-d0ee-515151279e8b"
      },
      "source": [
        "import pyLDAvis\n",
        "import pyLDAvis.gensim_models as gensimvis\n",
        "\n",
        "%time vis_data = gensimvis.prepare(lda, corpus, dictionary)\n",
        "pyLDAvis.display(vis_data)"
      ],
      "execution_count": 29,
      "outputs": [
        {
          "output_type": "stream",
          "text": [
            "/usr/local/lib/python3.7/dist-packages/past/types/oldstr.py:5: DeprecationWarning: Using or importing the ABCs from 'collections' instead of from 'collections.abc' is deprecated since Python 3.3,and in 3.9 it will stop working\n",
            "  from collections import Iterable\n",
            "/usr/local/lib/python3.7/dist-packages/past/builtins/misc.py:4: DeprecationWarning: Using or importing the ABCs from 'collections' instead of from 'collections.abc' is deprecated since Python 3.3,and in 3.9 it will stop working\n",
            "  from collections import Mapping\n",
            "/usr/local/lib/python3.7/dist-packages/sklearn/decomposition/_lda.py:29: DeprecationWarning: `np.float` is a deprecated alias for the builtin `float`. To silence this warning, use `float` by itself. Doing this will not modify any behavior and is safe. If you specifically wanted the numpy scalar type, use `np.float64` here.\n",
            "Deprecated in NumPy 1.20; for more details and guidance: https://numpy.org/devdocs/release/1.20.0-notes.html#deprecations\n",
            "  EPS = np.finfo(np.float).eps\n",
            "/usr/local/lib/python3.7/dist-packages/pyLDAvis/_prepare.py:247: FutureWarning: In a future version of pandas all arguments of DataFrame.drop except for the argument 'labels' will be keyword-only\n",
            "  by='saliency', ascending=False).head(R).drop('saliency', 1)\n"
          ],
          "name": "stderr"
        },
        {
          "output_type": "stream",
          "text": [
            "CPU times: user 3.19 s, sys: 249 ms, total: 3.44 s\n",
            "Wall time: 5.52 s\n"
          ],
          "name": "stdout"
        },
        {
          "output_type": "execute_result",
          "data": {
            "text/html": [
              "\n",
              "<link rel=\"stylesheet\" type=\"text/css\" href=\"https://cdn.jsdelivr.net/gh/bmabey/pyLDAvis@3.3.1/pyLDAvis/js/ldavis.v1.0.0.css\">\n",
              "\n",
              "\n",
              "<div id=\"ldavis_el5731396614271403045417928324\"></div>\n",
              "<script type=\"text/javascript\">\n",
              "\n",
              "var ldavis_el5731396614271403045417928324_data = {\"mdsDat\": {\"x\": [0.21480225361953453, 0.002057755441438014, -0.021207378276135214, 0.008947838018420192, -0.26296638873834044, -0.11799325043305632, 0.17635917036813925], \"y\": [0.009076115736506282, 0.01393963293420395, -0.2871509672151891, 0.13238823344679038, 0.1524283507709813, -0.11713278667662781, 0.09645142100333508], \"topics\": [1, 2, 3, 4, 5, 6, 7], \"cluster\": [1, 1, 1, 1, 1, 1, 1], \"Freq\": [15.77246762426694, 15.555829658313897, 15.495819076783846, 14.747451939720346, 13.599687088585657, 12.638485258445497, 12.190259353883823]}, \"tinfo\": {\"Term\": [\"\\u0440\\u043e\\u0441\\u0441\\u0438\\u044f\", \"\\u043a\\u043e\\u043c\\u043f\\u0430\\u043d\\u0438\\u044f\", \"\\u0441\\u0443\\u0434\", \"\\u043c\\u0430\\u0442\\u0447\", \"\\u0433\\u043e\\u0434\", \"\\u043f\\u0440\\u0435\\u0437\\u0438\\u0434\\u0435\\u043d\\u0442\", \"\\u043a\\u043e\\u043c\\u0430\\u043d\\u0434\\u0430\", \"\\u043c\\u0438\\u043b\\u043b\\u0438\\u043e\\u043d\", \"\\u0434\\u0435\\u043b\\u043e\", \"\\u0434\\u043e\\u043b\\u043b\\u0430\\u0440\", \"\\u0447\\u0435\\u043b\\u043e\\u0432\\u0435\\u043a\", \"\\u043a\\u043b\\u0443\\u0431\", \"\\u0441\\u0431\\u043e\\u0440\\u043d\\u0430\\u044f\", \"\\u0438\\u0433\\u0440\\u0430\", \"\\u0437\\u0430\\u0434\\u0435\\u0440\\u0436\\u0430\\u0442\\u044c\", \"\\u043f\\u0440\\u043e\\u0446\\u0435\\u043d\\u0442\", \"\\u0440\\u0443\\u0431\\u043b\\u044c\", \"\\u0437\\u0430\\u044f\\u0432\\u0438\\u0442\\u044c\", \"\\u043f\\u0430\\u0440\\u0442\\u0438\\u044f\", \"\\u0433\\u043b\\u0430\\u0432\\u0430\", \"\\u043d\\u043e\\u0432\\u044b\\u0439\", \"\\u0447\\u0435\\u043c\\u043f\\u0438\\u043e\\u043d\\u0430\\u0442\", \"\\u0441\\u0447\\u0451\\u0442\", \"\\u0441\\u0432\\u043e\\u0439\", \"\\u043f\\u043e\\u043b\\u044c\\u0437\\u043e\\u0432\\u0430\\u0442\\u0435\\u043b\\u044c\", \"\\u0440\\u043e\\u0441\\u0441\\u0438\\u0439\\u0441\\u043a\\u0438\\u0439\", \"\\u043c\\u0438\\u0440\", \"\\u043e\\u0431\\u043b\\u0430\\u0441\\u0442\\u044c\", \"\\u0443\\u0447\\u0451\\u043d\\u044b\\u0439\", \"\\u0441\\u043e\\u0442\\u0440\\u0443\\u0434\\u043d\\u0438\\u043a\", \"\\u0437\\u0430\\u0434\\u0435\\u0440\\u0436\\u0430\\u0442\\u044c\", \"\\u0443\\u0431\\u0438\\u0439\\u0441\\u0442\\u0432\\u043e\", \"\\u043f\\u043e\\u0433\\u0438\\u0431\\u043d\\u0443\\u0442\\u044c\", \"\\u0432\\u0437\\u0440\\u044b\\u0432\", \"\\u043f\\u043e\\u0441\\u0442\\u0440\\u0430\\u0434\\u0430\\u0442\\u044c\", \"\\u043f\\u0440\\u0430\\u0432\\u043e\\u043e\\u0445\\u0440\\u0430\\u043d\\u0438\\u0442\\u0435\\u043b\\u044c\\u043d\\u044b\\u0439\", \"\\u043c\\u0432\\u0434\", \"\\u0442\\u0435\\u0440\\u0430\\u043a\\u0442\", \"\\u0437\\u0434\\u0430\\u043d\\u0438\\u0435\", \"\\u043e\\u0431\\u0432\\u0438\\u043d\\u0435\\u043d\\u0438\\u0435\", \"\\u0438\\u043d\\u0446\\u0438\\u0434\\u0435\\u043d\\u0442\", \"\\u043f\\u0435\\u0442\\u0435\\u0440\\u0431\\u0443\\u0440\\u0433\", \"\\u0447\\u0435\\u0447\\u043d\\u044f\", \"\\u043d\\u0430\\u043f\\u0430\\u0434\\u0435\\u043d\\u0438\\u0435\", \"\\u0431\\u043e\\u0435\\u0432\\u0438\\u043a\", \"\\u0431\\u043e\\u043b\\u044c\\u043d\\u0438\\u0446\\u0430\", \"\\u043f\\u043e\\u043b\\u0438\\u0446\\u0435\\u0439\\u0441\\u043a\\u0438\\u0439\", \"\\u043c\\u0438\\u0442\\u0438\\u043d\\u0433\", \"\\u0430\\u0440\\u0435\\u0441\\u0442\\u043e\\u0432\\u0430\\u0442\\u044c\", \"\\u0430\\u044d\\u0440\\u043e\\u043f\\u043e\\u0440\\u0442\", \"\\u043c\\u0438\\u043b\\u0438\\u0446\\u0438\\u044f\", \"\\u0433\\u0440\\u0443\\u043f\\u043f\\u0438\\u0440\\u043e\\u0432\\u043a\\u0430\", \"\\u0443\\u0431\\u0438\\u0442\\u044c\", \"\\u043f\\u0440\\u0435\\u0434\\u044a\\u044f\\u0432\\u0438\\u0442\\u044c\", \"\\u043f\\u043e\\u0435\\u0437\\u0434\", \"\\u0434\\u0432\\u043e\\u0435\", \"\\u0437\\u0430\\u0434\\u0435\\u0440\\u0436\\u0430\\u043d\\u0438\\u0435\", \"\\u043f\\u043e\\u043a\\u0430\\u0437\\u0430\\u043d\\u0438\\u0435\", \"\\u0443\\u0442\\u0440\\u043e\\u043c\", \"\\u043f\\u0440\\u043e\\u0438\\u0441\\u0448\\u0435\\u0441\\u0442\\u0432\\u0438\\u0435\", \"\\u043f\\u043e\\u0434\\u043e\\u0437\\u0440\\u0435\\u0432\\u0430\\u0442\\u044c\", \"\\u0442\\u0435\\u0440\\u0440\\u043e\\u0440\\u0438\\u0441\\u0442\", \"\\u043f\\u0440\\u043e\\u0438\\u0437\\u043e\\u0439\\u0442\\u0438\", \"\\u0432\\u043e\\u0434\\u0438\\u0442\\u0435\\u043b\\u044c\", \"\\u0441\\u043e\\u0442\\u0440\\u0443\\u0434\\u043d\\u0438\\u043a\", \"\\u043e\\u0440\\u0433\\u0430\\u043d\", \"\\u043f\\u043b\\u043e\\u0449\\u0430\\u0434\\u044c\", \"\\u0434\\u043e\\u043c\", \"\\u0440\\u0430\\u0439\\u043e\\u043d\", \"\\u0447\\u0435\\u043b\\u043e\\u0432\\u0435\\u043a\", \"\\u0433\\u043e\\u0440\\u043e\\u0434\", \"\\u043c\\u043e\\u0441\\u043a\\u0432\\u0430\", \"\\u0434\\u0430\\u043d\\u043d\\u044b\\u0435\", \"\\u0438\\u043d\\u0442\\u0435\\u0440\\u0444\\u0430\\u043a\\u0441\", \"\\u0441\\u043e\\u043e\\u0431\\u0449\\u0430\\u0442\\u044c\", \"\\u0441\\u043e\\u043e\\u0431\\u0449\\u0438\\u0442\\u044c\", \"\\u043d\\u0430\\u0445\\u043e\\u0434\\u0438\\u0442\\u044c\\u0441\\u044f\", \"\\u043d\\u043e\\u0432\\u043e\\u0441\\u0442\\u044c\", \"\\u0440\\u0438\\u0430\", \"\\u043e\\u043a\\u043e\\u043b\\u043e\", \"\\u0430\\u0433\\u0435\\u043d\\u0442\\u0441\\u0442\\u0432\\u043e\", \"\\u043a\\u043e\\u0442\\u043e\\u0440\\u044b\\u0439\", \"\\u0440\\u0435\\u0437\\u0443\\u043b\\u044c\\u0442\\u0430\\u0442\", \"\\u043c\\u0435\\u0441\\u0442\\u043e\", \"\\u0434\\u0435\\u043b\\u043e\", \"\\u044d\\u0442\\u043e\", \"\\u0432\\u0440\\u0435\\u043c\\u044f\", \"\\u0442\\u0430\\u043a\\u0436\\u0435\", \"\\u0437\\u0430\\u043a\\u043e\\u043d\", \"\\u0437\\u0430\\u043f\\u0440\\u0435\\u0442\\u0438\\u0442\\u044c\", \"\\u043f\\u0438\\u0441\\u044c\\u043c\\u043e\", \"\\u0438\\u0441\\u043a\", \"\\u043f\\u043e\\u0432\\u043e\\u0434\", \"\\u043a\\u043d\\u0438\\u0433\\u0430\", \"\\u044d\\u0444\\u0438\\u0440\", \"\\u043c\\u0438\\u0434\", \"\\u0438\\u043d\\u0438\\u0446\\u0438\\u0430\\u0442\\u0438\\u0432\\u0430\", \"\\u0430\\u043a\\u043a\\u0430\\u0443\\u043d\\u0442\", \"\\u043f\\u043e\\u043b\\u043e\\u0436\\u0435\\u043d\\u0438\\u0435\", \"\\u0442\\u0435\\u043a\\u0441\\u0442\", \"\\u0432\\u043d\\u0435\\u0441\\u0442\\u0438\", \"\\u043a\\u043e\\u043d\\u0442\\u0440\\u043e\\u043b\\u044c\", \"\\u0437\\u0430\\u043a\\u043e\\u043d\\u043e\\u0434\\u0430\\u0442\\u0435\\u043b\\u044c\\u0441\\u0442\\u0432\\u043e\", \"\\u0437\\u0430\\u043a\\u043e\\u043d\\u043e\\u043f\\u0440\\u043e\\u0435\\u043a\\u0442\", \"\\u043a\\u0430\\u043c\\u043f\\u0430\\u043d\\u0438\\u044f\", \"\\u043a\\u0440\\u0435\\u043c\\u043b\\u044c\", \"\\u043f\\u0440\\u043e\\u0441\\u0438\\u0442\\u044c\", \"\\u043e\\u0431\\u0430\\u043c\\u0430\", \"\\u0440\\u0435\\u0434\\u0430\\u043a\\u0446\\u0438\\u044f\", \"\\u0434\\u0436\\u043e\\u0440\\u0434\\u0436\", \"\\u0431\\u043b\\u043e\\u0433\", \"\\u0440\\u0435\\u0434\\u0430\\u043a\\u0442\\u043e\\u0440\", \"\\u043b\\u0430\\u0432\\u0440\\u043e\\u0432\", \"\\u043a\\u043e\\u0434\\u0435\\u043a\\u0441\", \"\\u0442\\u0435\\u0440\\u0440\\u043e\\u0440\\u0438\\u0441\\u0442\\u0438\\u0447\\u0435\\u0441\\u043a\\u0438\\u0439\", \"\\u0445\\u0430\\u043a\\u0435\\u0440\", \"\\u043f\\u043e\\u0434\\u0434\\u0435\\u0440\\u0436\\u0430\\u0442\\u044c\", \"\\u043a\\u043e\\u043c\\u043c\\u0435\\u043d\\u0442\\u0438\\u0440\\u043e\\u0432\\u0430\\u0442\\u044c\", \"\\u043f\\u0440\\u0430\\u0432\\u043e\", \"\\u0433\\u0430\\u0437\\u0435\\u0442\\u0430\", \"\\u0437\\u0430\\u044f\\u0432\\u043b\\u0435\\u043d\\u0438\\u0435\", \"\\u0441\\u043c\\u0438\", \"\\u0432\\u0430\\u0448\\u0438\\u043d\\u0433\\u0442\\u043e\\u043d\", \"\\u0436\\u0443\\u0440\\u043d\\u0430\\u043b\\u0438\\u0441\\u0442\", \"\\u0438\\u043d\\u0442\\u0435\\u0440\\u0432\\u044c\\u044e\", \"\\u043f\\u043e\\u0442\\u0440\\u0435\\u0431\\u043e\\u0432\\u0430\\u0442\\u044c\", \"\\u0441\\u043e\\u043e\\u0442\\u0432\\u0435\\u0442\\u0441\\u0442\\u0432\\u043e\\u0432\\u0430\\u0442\\u044c\", \"\\u043f\\u0440\\u0435\\u0434\\u043b\\u0430\\u0433\\u0430\\u0442\\u044c\", \"\\u0432\\u043d\\u0438\\u043c\\u0430\\u043d\\u0438\\u0435\", \"\\u043f\\u0440\\u043e\\u0442\\u0438\\u0432\", \"\\u0437\\u0430\\u044f\\u0432\\u0438\\u0442\\u044c\", \"\\u0441\\u0447\\u0438\\u0442\\u0430\\u0442\\u044c\", \"\\u0440\\u0435\\u0448\\u0435\\u043d\\u0438\\u0435\", \"\\u043e\\u0440\\u0433\\u0430\\u043d\\u0438\\u0437\\u0430\\u0446\\u0438\\u044f\", \"\\u043e\\u0442\\u043d\\u043e\\u0448\\u0435\\u043d\\u0438\\u0435\", \"\\u0441\\u0432\\u043e\\u0439\", \"\\u0438\\u043d\\u0444\\u043e\\u0440\\u043c\\u0430\\u0446\\u0438\\u044f\", \"\\u043c\\u043d\\u0435\\u043d\\u0438\\u0435\", \"\\u043e\\u0442\\u043a\\u0430\\u0437\\u0430\\u0442\\u044c\\u0441\\u044f\", \"\\u0441\\u0448\\u0430\", \"\\u044d\\u0442\\u043e\", \"\\u0438\\u0437\\u0434\\u0430\\u043d\\u0438\\u0435\", \"\\u0432\\u043e\\u043f\\u0440\\u043e\\u0441\", \"\\u043a\\u043e\\u0442\\u043e\\u0440\\u044b\\u0439\", \"\\u0441\\u043b\\u043e\\u0432\\u043e\", \"\\u0432\\u043b\\u0430\\u0441\\u0442\\u044c\", \"\\u043c\\u043e\\u0447\\u044c\", \"\\u0441\\u043a\\u0430\\u0437\\u0430\\u0442\\u044c\", \"\\u0433\\u043e\\u0432\\u043e\\u0440\\u0438\\u0442\\u044c\\u0441\\u044f\", \"\\u043e\\u0442\\u043c\\u0435\\u0442\\u0438\\u0442\\u044c\", \"\\u043f\\u0440\\u0435\\u0434\\u0441\\u0442\\u0430\\u0432\\u0438\\u0442\\u0435\\u043b\\u044c\", \"\\u0440\\u043e\\u0441\\u0441\\u0438\\u0439\\u0441\\u043a\\u0438\\u0439\", \"\\u043e\\u0434\\u043d\\u0430\\u043a\\u043e\", \"\\u0442\\u0430\\u043a\\u0436\\u0435\", \"\\u0432\\u0441\\u0451\", \"\\u043f\\u0440\\u0435\\u0437\\u0438\\u0434\\u0435\\u043d\\u0442\", \"\\u0443\\u0447\\u0451\\u043d\\u044b\\u0439\", \"\\u0438\\u0441\\u0441\\u043b\\u0435\\u0434\\u043e\\u0432\\u0430\\u043d\\u0438\\u0435\", \"\\u0443\\u043d\\u0438\\u0432\\u0435\\u0440\\u0441\\u0438\\u0442\\u0435\\u0442\", \"\\u0436\\u0438\\u0432\\u043e\\u0442\\u043d\\u043e\\u0435\", \"\\u043e\\u0442\\u0435\\u0446\", \"\\u0440\\u0443\\u043a\\u0430\", \"\\u0438\\u0441\\u0441\\u043b\\u0435\\u0434\\u043e\\u0432\\u0430\\u0442\\u0435\\u043b\\u044c\", \"\\u043f\\u043e\\u043f\\u044b\\u0442\\u0430\\u0442\\u044c\\u0441\\u044f\", \"\\u043c\\u0430\\u0442\\u044c\", \"\\u0436\\u0438\\u0442\\u044c\", \"\\u0442\\u0435\\u043b\\u0435\\u0444\\u043e\\u043d\", \"\\u0437\\u0432\\u0435\\u0437\\u0434\\u0430\", \"\\u044d\\u043a\\u0441\\u043f\\u0435\\u0440\\u0438\\u043c\\u0435\\u043d\\u0442\", \"\\u0432\\u044b\\u044f\\u0441\\u043d\\u0438\\u0442\\u044c\", \"\\u0432\\u043e\\u0437\\u0440\\u0430\\u0441\\u0442\", \"\\u043f\\u0430\\u043c\\u044f\\u0442\\u044c\", \"\\u0440\\u043e\\u0434\\u0438\\u0442\\u0435\\u043b\\u044c\", \"\\u043f\\u043b\\u0430\\u043d\\u0435\\u0442\\u0430\", \"\\u0430\\u043d\\u0430\\u043b\\u0438\\u0437\", \"\\u043e\\u0442\\u043b\\u0438\\u0447\\u0430\\u0442\\u044c\\u0441\\u044f\", \"\\u043c\\u0435\\u0442\\u043e\\u0434\", \"\\u0443\\u0432\\u0438\\u0434\\u0435\\u0442\\u044c\", \"\\u0430\\u0443\\u043a\\u0446\\u0438\\u043e\\u043d\", \"\\u0444\\u0438\\u0437\\u0438\\u0447\\u0435\\u0441\\u043a\\u0438\\u0439\", \"\\u0432\\u0435\\u0449\\u0435\\u0441\\u0442\\u0432\\u043e\", \"\\u0430\\u0432\\u0441\\u0442\\u0440\\u0430\\u043b\\u0438\\u0439\\u0441\\u043a\\u0438\\u0439\", \"\\u0443\\u043a\\u0440\\u0430\\u0441\\u0442\\u044c\", \"\\u0436\\u0438\\u0432\\u043e\\u0439\", \"\\u043a\\u043b\\u0435\\u0442\\u043a\\u0430\", \"\\u0443\\u0433\\u0440\\u043e\\u0436\\u0430\\u0442\\u044c\", \"\\u0441\\u043e\\u0431\\u0430\\u043a\\u0430\", \"\\u0440\\u0435\\u0430\\u043a\\u0446\\u0438\\u044f\", \"\\u0444\\u043e\\u0440\\u043c\\u0430\", \"\\u043f\\u0440\\u0438\\u0432\\u0435\\u0441\\u0442\\u0438\", \"\\u0444\\u043e\\u0442\\u043e\\u0433\\u0440\\u0430\\u0444\\u0438\\u044f\", \"\\u0448\\u043a\\u043e\\u043b\\u0430\", \"mail\", \"\\u0436\\u0443\\u0440\\u043d\\u0430\\u043b\", \"\\u0436\\u0435\\u043d\\u0449\\u0438\\u043d\\u0430\", \"\\u0440\\u0435\\u0431\\u0451\\u043d\\u043e\\u043a\", \"\\u0434\\u0440\\u0443\\u0433\", \"\\u043f\\u043e\\u043a\\u0430\\u0437\\u0430\\u0442\\u044c\", \"\\u0437\\u0430\\u043c\\u0435\\u0442\\u0438\\u0442\\u044c\", \"\\u043b\\u0435\\u0442\\u043d\\u0438\\u0439\", \"\\u0436\\u0438\\u0437\\u043d\\u044c\", \"\\u043f\\u043e\\u043b\\u0438\\u0446\\u0438\\u044f\", \"\\u043e\\u043f\\u0443\\u0431\\u043b\\u0438\\u043a\\u043e\\u0432\\u0430\\u0442\\u044c\", \"\\u0431\\u043e\\u043b\\u044c\\u0448\\u043e\\u0439\", \"\\u043c\\u043e\\u0447\\u044c\", \"\\u0437\\u0435\\u043c\\u043b\\u044f\", \"\\u043a\\u043e\\u0442\\u043e\\u0440\\u044b\\u0439\", \"\\u0441\\u0432\\u043e\\u0439\", \"\\u043f\\u043e\\u043c\\u043e\\u0449\\u044c\", \"\\u044d\\u0442\\u043e\", \"\\u0432\\u0438\\u0434\", \"\\u043e\\u043a\\u0430\\u0437\\u0430\\u0442\\u044c\\u0441\\u044f\", \"\\u0430\\u0432\\u0442\\u043e\\u0440\", \"\\u0440\\u0435\\u0437\\u0443\\u043b\\u044c\\u0442\\u0430\\u0442\", \"\\u0447\\u0435\\u043b\\u043e\\u0432\\u0435\\u043a\", \"\\u0432\\u0440\\u0435\\u043c\\u044f\", \"\\u0433\\u043e\\u0434\", \"\\u043d\\u0435\\u0441\\u043a\\u043e\\u043b\\u044c\\u043a\\u043e\", \"\\u0443\\u0434\\u0430\\u0442\\u044c\\u0441\\u044f\", \"\\u043e\\u0434\\u043d\\u0430\\u043a\\u043e\", \"\\u0440\\u0430\\u0431\\u043e\\u0442\\u0430\", \"\\u0432\\u0435\\u0441\\u044c\", \"\\u044f\\u0432\\u043b\\u044f\\u0442\\u044c\\u0441\\u044f\", \"\\u0442\\u044b\\u0441\\u044f\\u0447\\u0430\", \"\\u0432\\u044b\\u0431\\u043e\\u0440\\u044b\", \"\\u0435\\u0434\\u0438\\u043d\\u044b\\u0439\", \"\\u043c\\u0438\\u043d\\u0438\\u0441\\u0442\\u0440\", \"\\u0441\\u0442\\u0440\\u043e\\u0438\\u0442\\u0435\\u043b\\u044c\\u0441\\u0442\\u0432\\u043e\", \"\\u043c\\u0435\\u0434\\u0432\\u0435\\u0434\\u0435\\u0432\", \"\\u0438\\u0437\\u0431\\u0438\\u0440\\u0430\\u0442\\u0435\\u043b\\u044c\\u043d\\u044b\\u0439\", \"\\u043a\\u0440\\u044b\\u043c\", \"\\u044d\\u043a\\u043e\\u043d\\u043e\\u043c\\u0438\\u0447\\u0435\\u0441\\u043a\\u0438\\u0439\", \"\\u0432\\u0438\\u0446\\u0430\", \"\\u043a\\u043e\\u043c\\u043f\\u043b\\u0435\\u043a\\u0441\", \"\\u0433\\u043e\\u043b\\u043e\\u0441\", \"\\u043e\\u0431\\u043e\\u0440\\u043e\\u043d\\u0430\", \"\\u043d\\u0430\\u0440\\u043e\\u0434\\u043d\\u044b\\u0439\", \"\\u043a\\u043f\\u0440\\u0444\", \"\\u0434\\u0443\\u043c\\u0430\", \"\\u043f\\u0430\\u043b\\u0430\\u0442\\u0430\", \"\\u0433\\u043e\\u043b\\u043e\\u0441\\u043e\\u0432\\u0430\\u043d\\u0438\\u0435\", \"\\u0430\\u0440\\u043c\\u0438\\u044f\", \"\\u043e\\u043f\\u0440\\u043e\\u0441\", \"\\u043a\\u0430\\u043d\\u0434\\u0438\\u0434\\u0430\\u0442\\u0443\\u0440\\u0430\", \"\\u0437\\u0434\\u0440\\u0430\\u0432\\u043e\\u043e\\u0445\\u0440\\u0430\\u043d\\u0435\\u043d\\u0438\\u0435\", \"\\u043f\\u0440\\u0438\\u043c\\u0435\\u0440\", \"\\u043b\\u0434\\u043f\\u0440\", \"\\u0444\\u0438\\u043d\\u0430\\u043d\\u0441\\u0438\\u0440\\u043e\\u0432\\u0430\\u043d\\u0438\\u0435\", \"\\u0440\\u0435\\u0444\\u0435\\u0440\\u0435\\u043d\\u0434\\u0443\\u043c\", \"\\u0438\\u0437\\u0431\\u0438\\u0440\\u0430\\u0442\\u0435\\u043b\\u044c\", \"\\u043f\\u0440\\u043e\\u0433\\u043e\\u043b\\u043e\\u0441\\u043e\\u0432\\u0430\\u0442\\u044c\", \"\\u043f\\u043e\\u0434\\u043f\\u0438\\u0441\\u044c\", \"\\u043d\\u0430\\u0442\\u043e\", \"\\u0441\\u043e\\u043e\\u0442\\u0432\\u0435\\u0442\\u0441\\u0442\\u0432\\u0443\\u044e\\u0449\\u0438\\u0439\", \"\\u043f\\u0443\\u0442\\u0438\\u043d\", \"\\u0433\\u043e\\u0441\\u0434\\u0443\\u043c\\u0430\", \"\\u043f\\u0430\\u0440\\u0442\\u0438\\u044f\", \"\\u0434\\u0435\\u043f\\u0443\\u0442\\u0430\\u0442\", \"\\u0443\\u043a\\u0440\\u0430\\u0438\\u043d\\u0430\", \"\\u043f\\u0440\\u0430\\u0432\\u0438\\u0442\\u0435\\u043b\\u044c\\u0441\\u0442\\u0432\\u043e\", \"\\u0434\\u0435\\u043f\\u0430\\u0440\\u0442\\u0430\\u043c\\u0435\\u043d\\u0442\", \"\\u043f\\u0440\\u0435\\u0434\\u0441\\u0435\\u0434\\u0430\\u0442\\u0435\\u043b\\u044c\", \"\\u0440\\u043e\\u0441\\u0441\\u0438\\u044f\", \"\\u043f\\u0440\\u0435\\u0437\\u0438\\u0434\\u0435\\u043d\\u0442\", \"\\u0433\\u043b\\u0430\\u0432\\u0430\", \"\\u0432\\u043b\\u0430\\u0434\\u0438\\u043c\\u0438\\u0440\", \"\\u0440\\u0430\\u0437\\u0432\\u0438\\u0442\\u0438\\u0435\", \"\\u0440\\u0435\\u0433\\u0438\\u043e\\u043d\", \"\\u0433\\u0443\\u0431\\u0435\\u0440\\u043d\\u0430\\u0442\\u043e\\u0440\", \"\\u043f\\u0440\\u043e\\u0446\\u0435\\u043d\\u0442\", \"\\u0440\\u043e\\u0441\\u0441\\u0438\\u0439\\u0441\\u043a\\u0438\\u0439\", \"\\u0443\\u043a\\u0440\\u0430\\u0438\\u043d\\u0441\\u043a\\u0438\\u0439\", \"\\u0434\\u043c\\u0438\\u0442\\u0440\\u0438\\u0439\", \"\\u0441\\u0442\\u0440\\u0430\\u043d\\u0430\", \"\\u0433\\u043e\\u0441\\u0443\\u0434\\u0430\\u0440\\u0441\\u0442\\u0432\\u0435\\u043d\\u043d\\u044b\\u0439\", \"\\u0433\\u043e\\u0441\\u0443\\u0434\\u0430\\u0440\\u0441\\u0442\\u0432\\u043e\", \"\\u0444\\u0435\\u0434\\u0435\\u0440\\u0430\\u043b\\u044c\\u043d\\u044b\\u0439\", \"\\u0433\\u043e\\u0434\", \"\\u0437\\u0430\\u044f\\u0432\\u0438\\u0442\\u044c\", \"\\u0441\\u0435\\u0440\\u0433\\u0435\\u0439\", \"\\u044d\\u0442\\u043e\", \"\\u043d\\u043e\\u0432\\u044b\\u0439\", \"\\u043d\\u043e\\u0432\\u043e\\u0441\\u0442\\u044c\", \"\\u0432\\u0435\\u0441\\u044c\", \"\\u0442\\u0430\\u043a\\u0436\\u0435\", \"\\u043f\\u0440\\u0438\\u043d\\u044f\\u0442\\u044c\", \"\\u0432\\u043e\\u0435\\u043d\\u043d\\u044b\\u0439\", \"\\u0441\\u043b\\u043e\\u0432\\u043e\", \"\\u043e\\u0442\\u043c\\u0435\\u0442\\u0438\\u0442\\u044c\", \"\\u043a\\u043e\\u0442\\u043e\\u0440\\u044b\\u0439\", \"\\u0440\\u0438\\u0430\", \"\\u0440\\u0430\\u0431\\u043e\\u0442\\u0430\", \"\\u043c\\u0430\\u0442\\u0447\", \"\\u043a\\u043e\\u043c\\u0430\\u043d\\u0434\\u0430\", \"\\u043a\\u043b\\u0443\\u0431\", \"\\u0441\\u0431\\u043e\\u0440\\u043d\\u0430\\u044f\", \"\\u0447\\u0435\\u043c\\u043f\\u0438\\u043e\\u043d\\u0430\\u0442\", \"\\u043f\\u043e\\u0431\\u0435\\u0434\\u0430\", \"\\u0447\\u0435\\u043c\\u043f\\u0438\\u043e\\u043d\", \"\\u0442\\u0443\\u0440\\u043d\\u0438\\u0440\", \"\\u043b\\u0438\\u0433\\u0430\", \"\\u043e\\u0447\\u043a\\u043e\", \"\\u0442\\u0440\\u0435\\u043d\\u0435\\u0440\", \"\\u0441\\u0435\\u0437\\u043e\\u043d\", \"\\u0444\\u0443\\u0442\\u0431\\u043e\\u043b\\u0438\\u0441\\u0442\", \"\\u0441\\u043f\\u043e\\u0440\\u0442\", \"\\u0444\\u0443\\u0442\\u0431\\u043e\\u043b\\u044c\\u043d\\u044b\\u0439\", \"\\u043a\\u0430\\u043d\\u0434\\u0438\\u0434\\u0430\\u0442\", \"\\u0442\\u0443\\u0440\", \"\\u043a\\u0443\\u0431\\u043e\\u043a\", \"\\u0444\\u0443\\u0442\\u0431\\u043e\\u043b\", \"\\u0432\\u044b\\u0438\\u0433\\u0440\\u0430\\u0442\\u044c\", \"\\u043e\\u043b\\u0438\\u043c\\u043f\\u0438\\u0439\\u0441\\u043a\\u0438\\u0439\", \"\\u0444\\u0438\\u043d\\u0430\\u043b\", \"\\u0441\\u044b\\u0433\\u0440\\u0430\\u0442\\u044c\", \"\\u0441\\u043f\\u043e\\u0440\\u0442\\u0441\\u043c\\u0435\\u043d\", \"\\u0433\\u043e\\u043b\", \"\\u043e\\u0431\\u044b\\u0433\\u0440\\u0430\\u0442\\u044c\", \"\\u043c\\u044f\\u0447\", \"\\u0434\\u0438\\u043d\\u0430\\u043c\\u043e\", \"\\u0432\\u044b\\u0441\\u0442\\u0443\\u043f\\u043b\\u0435\\u043d\\u0438\\u0435\", \"\\u0444\\u043e\\u0440\\u0432\\u0430\\u0440\\u0434\", \"\\u0441\\u0447\\u0451\\u0442\", \"\\u0438\\u0433\\u0440\\u043e\\u043a\", \"\\u043c\\u0438\\u0440\", \"\\u043c\\u0438\\u043d\\u0443\\u0442\\u0430\", \"\\u0432\\u0441\\u0442\\u0440\\u0435\\u0447\\u0430\", \"\\u0441\\u043e\\u0441\\u0442\\u043e\\u044f\\u0442\\u044c\\u0441\\u044f\", \"\\u043f\\u0435\\u0440\\u0432\\u044b\\u0439\", \"\\u0438\\u0433\\u0440\\u0430\", \"\\u0432\\u0442\\u043e\\u0440\\u043e\\u0439\", \"\\u0441\\u0442\\u0430\\u0442\\u044c\", \"\\u043c\\u0435\\u0441\\u0442\\u043e\", \"\\u0433\\u043e\\u0434\", \"\\u0440\\u043e\\u0441\\u0441\\u0438\\u0439\\u0441\\u043a\\u0438\\u0439\", \"\\u044d\\u0442\\u043e\", \"\\u043a\\u043e\\u0442\\u043e\\u0440\\u044b\\u0439\", \"\\u0441\\u043e\\u043e\\u0431\\u0449\\u0430\\u0442\\u044c\", \"\\u0440\\u043e\\u0441\\u0441\\u0438\\u044f\", \"\\u0441\\u0432\\u043e\\u0439\", \"\\u0432\\u0440\\u0435\\u043c\\u044f\", \"\\u0434\\u043e\\u043b\\u043b\\u0430\\u0440\", \"\\u043f\\u0440\\u043e\\u0434\\u0430\\u0436\\u0430\", \"\\u0441\\u0435\\u0440\\u0432\\u0438\\u0441\", \"\\u0440\\u044b\\u043d\\u043e\\u043a\", \"\\u0448\\u0442\\u0430\\u0442\", \"\\u043a\\u043e\\u043c\\u043f\\u044c\\u044e\\u0442\\u0435\\u0440\", \"google\", \"\\u0440\\u0435\\u043a\\u043b\\u0430\\u043c\\u0430\", \"\\u0441\\u043c\\u0430\\u0440\\u0442\\u0444\\u043e\\u043d\", \"\\u043f\\u0440\\u043e\\u0434\\u0430\\u0442\\u044c\", \"\\u0432\\u044b\\u043f\\u0443\\u0441\\u0442\\u0438\\u0442\\u044c\", \"apple\", \"\\u043c\\u043e\\u0431\\u0438\\u043b\\u044c\\u043d\\u044b\\u0439\", \"\\u043f\\u0440\\u0438\\u043b\\u043e\\u0436\\u0435\\u043d\\u0438\\u0435\", \"\\u0440\\u0435\\u043a\\u043b\\u0430\\u043c\\u043d\\u044b\\u0439\", \"\\u043a\\u043e\\u043d\\u0441\\u043e\\u043b\\u044c\", \"\\u0441\\u0434\\u0435\\u043b\\u043a\\u0430\", \"\\u043a\\u0432\\u0430\\u0440\\u0442\\u0430\\u043b\", \"\\u0440\\u0430\\u0437\\u0440\\u0430\\u0431\\u043e\\u0442\\u0447\\u0438\\u043a\", \"\\u044f\\u043f\\u043e\\u043d\\u0438\\u044f\", \"microsoft\", \"\\u043a\\u0438\\u0442\\u0430\\u0439\\u0441\\u043a\\u0438\\u0439\", \"xbox\", \"\\u0441\\u0442\\u0443\\u0434\\u0438\\u044f\", \"iphone\", \"\\u043f\\u0440\\u0438\\u043e\\u0431\\u0440\\u0435\\u0441\\u0442\\u0438\", \"\\u044f\\u043f\\u043e\\u043d\\u0441\\u043a\\u0438\\u0439\", \"\\u043a\\u0443\\u043f\\u0438\\u0442\\u044c\", \"youtube\", \"playstation\", \"\\u043f\\u043e\\u043b\\u044c\\u0437\\u043e\\u0432\\u0430\\u0442\\u0435\\u043b\\u044c\", \"\\u043a\\u043e\\u043c\\u043f\\u0430\\u043d\\u0438\\u044f\", \"\\u0437\\u0430\\u043f\\u0443\\u0441\\u0442\\u0438\\u0442\\u044c\", \"\\u0446\\u0435\\u043d\\u0430\", \"\\u043f\\u043b\\u0430\\u0442\\u0444\\u043e\\u0440\\u043c\\u0430\", \"\\u043c\\u0438\\u043b\\u043b\\u0438\\u043e\\u043d\", \"\\u0440\\u0435\\u043b\\u0438\\u0437\", \"\\u043c\\u0438\\u043b\\u043b\\u0438\\u0430\\u0440\\u0434\", \"\\u043d\\u043e\\u0432\\u044b\\u0439\", \"\\u0441\\u0438\\u0441\\u0442\\u0435\\u043c\\u0430\", \"\\u043f\\u0440\\u043e\\u0435\\u043a\\u0442\", \"\\u0443\\u0441\\u0442\\u0440\\u043e\\u0439\\u0441\\u0442\\u0432\\u043e\", \"\\u0438\\u0433\\u0440\\u0430\", \"\\u0433\\u043e\\u0434\", \"\\u0441\\u0435\\u0442\\u044c\", \"\\u0432\\u0435\\u0440\\u0441\\u0438\\u044f\", \"\\u0441\\u043e\\u0441\\u0442\\u0430\\u0432\\u0438\\u0442\\u044c\", \"\\u043f\\u0440\\u043e\\u0446\\u0435\\u043d\\u0442\", \"\\u0441\\u0448\\u0430\", \"\\u043f\\u0435\\u0440\\u0432\\u044b\\u0439\", \"\\u0442\\u044b\\u0441\\u044f\\u0447\\u0430\", \"\\u043a\\u043e\\u0442\\u043e\\u0440\\u044b\\u0439\", \"\\u0442\\u0430\\u043a\\u0436\\u0435\", \"\\u0441\\u0430\\u0439\\u0442\", \"\\u0438\\u043d\\u0442\\u0435\\u0440\\u043d\\u0435\\u0442\", \"\\u043f\\u0440\\u043e\\u0433\\u0440\\u0430\\u043c\\u043c\\u0430\", \"\\u044d\\u0442\\u043e\", \"\\u0432\\u0435\\u0441\\u044c\", \"\\u043f\\u043e\\u043b\\u0443\\u0447\\u0438\\u0442\\u044c\", \"\\u0441\\u043e\\u043e\\u0431\\u0449\\u0430\\u0442\\u044c\", \"\\u0441\\u0442\\u0430\\u0442\\u044c\", \"\\u0441\\u0430\\u043c\\u043e\\u043b\\u0451\\u0442\", \"\\u0432\\u043e\\u0437\\u0431\\u0443\\u0434\\u0438\\u0442\\u044c\", \"\\u0441\\u043b\\u0435\\u0434\\u0441\\u0442\\u0432\\u0435\\u043d\\u043d\\u044b\\u0439\", \"\\u043f\\u0440\\u043e\\u0446\\u0435\\u0441\\u0441\", \"\\u0433\\u0430\\u0437\", \"\\u0440\\u0430\\u043a\\u0435\\u0442\\u0430\", \"\\u043a\\u043e\\u0440\\u0430\\u0431\\u043b\\u044c\", \"\\u043f\\u043e\\u0436\\u0430\\u0440\", \"\\u043f\\u043e\\u043b\\u0451\\u0442\", \"\\u0432\\u0435\\u0440\\u0442\\u043e\\u043b\\u0451\\u0442\", \"\\u0442\\u0440\\u0430\\u043d\\u0441\\u043f\\u043e\\u0440\\u0442\\u043d\\u044b\\u0439\", \"\\u0431\\u043e\\u0440\\u0442\", \"\\u0432\\u0435\\u0440\\u0445\\u043e\\u0432\\u043d\\u044b\\u0439\", \"\\u0440\\u0430\\u0441\\u0441\\u043c\\u043e\\u0442\\u0440\\u0435\\u043d\\u0438\\u0435\", \"\\u043e\\u0431\\u043b\\u0430\\u0441\\u0442\\u043d\\u043e\\u0439\", \"\\u043d\\u0430\\u043a\\u0430\\u0437\\u0430\\u043d\\u0438\\u0435\", \"\\u043f\\u0440\\u0438\\u0447\\u0430\\u0441\\u0442\\u043d\\u043e\\u0441\\u0442\\u044c\", \"\\u043f\\u043e\\u0434\\u043e\\u0437\\u0440\\u0435\\u043d\\u0438\\u0435\", \"\\u0432\\u043e\\u0437\\u0434\\u0443\\u0448\\u043d\\u044b\\u0439\", \"\\u0442\\u0440\\u0430\\u043d\\u0441\\u043f\\u043e\\u0440\\u0442\", \"\\u044d\\u043a\\u0438\\u043f\\u0430\\u0436\", \"\\u043a\\u043e\\u043c\\u043f\\u0435\\u043d\\u0441\\u0430\\u0446\\u0438\\u044f\", \"\\u0440\\u0435\\u043c\\u043e\\u043d\\u0442\", \"\\u0433\\u043e\\u0441\\u043f\\u0438\\u0442\\u0430\\u043b\\u0438\\u0437\\u0438\\u0440\\u043e\\u0432\\u0430\\u0442\\u044c\", \"\\u043f\\u043e\\u0442\\u0435\\u0440\\u043f\\u0435\\u0432\\u0448\\u0438\\u0439\", \"\\u0433\\u0435\\u043d\\u043f\\u0440\\u043e\\u043a\\u0443\\u0440\\u0430\\u0442\\u0443\\u0440\\u0430\", \"\\u0436\\u0435\\u043b\\u0435\\u0437\\u043d\\u043e\\u0434\\u043e\\u0440\\u043e\\u0436\\u043d\\u044b\\u0439\", \"\\u0432\\u0437\\u044f\\u0442\\u043a\\u0430\", \"\\u043f\\u043e\\u0434\\u043c\\u043e\\u0441\\u043a\\u043e\\u0432\\u044c\\u0435\", \"\\u0441\\u043e\\u0431\\u0440\\u0430\\u043d\\u0438\\u0435\", \"\\u0430\\u0434\\u0432\\u043e\\u043a\\u0430\\u0442\", \"\\u0441\\u0443\\u0434\", \"\\u043a\\u0440\\u0430\\u0439\", \"\\u0432\\u0432\\u0441\", \"\\u043f\\u0440\\u0438\\u0433\\u043e\\u0432\\u043e\\u0440\", \"\\u0440\\u0443\\u0431\\u043b\\u044c\", \"\\u043f\\u0430\\u0440\\u043b\\u0430\\u043c\\u0435\\u043d\\u0442\", \"\\u043f\\u0440\\u043e\\u0432\\u0435\\u0440\\u043a\\u0430\", \"\\u043e\\u0431\\u043b\\u0430\\u0441\\u0442\\u044c\", \"\\u0434\\u0435\\u043b\\u043e\", \"\\u043f\\u0440\\u043e\\u043a\\u0443\\u0440\\u0430\\u0442\\u0443\\u0440\\u0430\", \"\\u0443\\u043b\\u0438\\u0446\\u0430\", \"\\u043c\\u044d\\u0440\", \"\\u0433\\u043e\\u0434\", \"\\u043a\\u0438\\u043b\\u043e\\u043c\\u0435\\u0442\\u0440\", \"\\u0443\\u0433\\u043e\\u043b\\u043e\\u0432\\u043d\\u044b\\u0439\", \"\\u0443\\u043f\\u0440\\u0430\\u0432\\u043b\\u0435\\u043d\\u0438\\u0435\", \"\\u0441\\u043b\\u0435\\u0434\\u0441\\u0442\\u0432\\u0438\\u0435\", \"\\u0442\\u044b\\u0441\\u044f\\u0447\\u0430\", \"\\u0431\\u044b\\u0432\\u0448\\u0438\\u0439\", \"\\u043f\\u0440\\u0438\\u0437\\u043d\\u0430\\u0442\\u044c\", \"\\u043c\\u0430\\u0439\", \"\\u043d\\u0430\\u0440\\u0443\\u0448\\u0435\\u043d\\u0438\\u0435\", \"\\u043c\\u0438\\u043b\\u043b\\u0438\\u043e\\u043d\", \"\\u0441\\u0440\\u043e\\u043a\", \"\\u0441\\u043e\\u043e\\u0431\\u0449\\u0430\\u0442\\u044c\", \"\\u044d\\u0442\\u043e\", \"\\u0432\\u0440\\u0435\\u043c\\u044f\", \"\\u0440\\u0430\\u0431\\u043e\\u0442\\u0430\", \"\\u043a\\u043e\\u0442\\u043e\\u0440\\u044b\\u0439\"], \"Freq\": [6878.0, 3273.0, 2634.0, 2613.0, 14578.0, 3051.0, 1944.0, 2595.0, 3173.0, 1662.0, 4114.0, 1675.0, 1568.0, 2269.0, 1650.0, 2342.0, 1741.0, 3755.0, 1673.0, 2228.0, 3197.0, 1378.0, 1747.0, 5724.0, 1341.0, 3479.0, 1846.0, 1799.0, 1167.0, 1654.0, 1649.784446473879, 1077.9622682050501, 1059.6557660860637, 872.1417940032884, 855.2951298208756, 807.4314100379639, 694.478471832868, 692.1395537863382, 691.7980925743738, 669.7923028865565, 641.3880975293578, 641.068827977792, 578.4949409323713, 571.2080707320054, 539.9746568125554, 518.9716812963185, 494.794012471177, 474.023738291082, 442.62029892121393, 418.15807908610213, 414.7138089530289, 390.7752708235839, 386.4802512423342, 374.0010302655746, 371.2220951470674, 367.3845970876795, 350.3455083957547, 352.5402843490415, 350.7259190826989, 340.9897947298963, 591.6195451692078, 414.46148770031033, 1382.6701084944332, 407.47020212050535, 1405.1752727608266, 995.0203774889645, 551.9757408371389, 987.4230314417141, 904.5947122511824, 2484.2121150860357, 1220.0358498204362, 1453.666415076801, 1232.5604911114694, 876.8518183738607, 1949.3612430412031, 1173.2232266253739, 1005.9129569668358, 995.4582376145107, 915.6399371688046, 921.924615393676, 886.0703585426386, 1612.5552192323903, 945.6862839157575, 927.701747531376, 968.4906000602713, 1078.0269765979879, 922.2825855417874, 771.9123094785533, 918.2419538054066, 535.872976727411, 416.00097080114773, 374.32844255428887, 371.0288459692863, 370.22210063847916, 329.38074099638743, 320.52276317513895, 320.45757307956893, 312.20688385178727, 312.34155959362386, 291.2140775879758, 287.5022513211336, 286.1622440538624, 280.703908238838, 269.9031755675877, 269.44526986334205, 262.79516419008195, 261.5711163366126, 241.61460145082728, 237.1848863875853, 232.8895197861268, 224.92338010948254, 224.04328313678204, 220.36588264052168, 219.89087655350335, 217.76451759373165, 215.199807912885, 212.44901906686715, 212.59204045005688, 1074.8039764506555, 1292.4472572397294, 827.9444053243992, 663.6037540179096, 272.7877605902995, 997.2073486289981, 404.20281125817286, 320.09304446546355, 442.08445465037084, 335.4049440231626, 386.1343340885174, 786.2721634475868, 2082.810584990665, 730.9471886970956, 1185.6875220895135, 880.3652605240112, 700.7383397789783, 2464.328470290663, 1104.8064752953146, 642.7851425623423, 529.8887018671098, 991.142767425676, 2682.5956286808937, 829.5693507878708, 703.1863945759103, 2428.5021047217115, 1238.409802217999, 679.7357969335882, 1070.0586611412414, 689.11155225379, 522.2580446998613, 671.6169197471787, 685.5883824825369, 769.9629802031864, 702.6506371290417, 795.4023769079761, 656.9874195551253, 647.3761453267359, 1166.928164616681, 704.3515701617214, 512.3500509290404, 498.46749280324275, 425.45815876463456, 381.3079741588334, 346.38184305825945, 346.0050483479309, 328.2049825967935, 322.6083830341497, 322.6596696600364, 316.6175875778212, 290.85167168334726, 277.518860544607, 270.04939240096303, 268.97494064505025, 244.2374672886694, 236.01404295469558, 232.78347455006272, 231.10336380811233, 229.66171448163763, 216.6134554805644, 211.50447619765634, 194.26469187361755, 187.45351416403082, 186.579970684337, 185.33647886153662, 185.05681698617104, 183.24159237204952, 183.27926776786381, 207.31148379600035, 258.04241287652417, 374.2389369933085, 493.2769683964576, 430.53718519094605, 478.4072700729214, 248.6813708985769, 639.8882140080551, 756.6644990967723, 957.3079676120616, 704.7695245797541, 478.6711812284576, 292.0577733756343, 966.2231603007648, 484.8692626780899, 782.3607898817289, 766.3745224182085, 751.5478176507394, 1461.082250808307, 385.6883451110076, 2882.5553330795906, 1655.9133980651786, 653.122160343934, 2317.77551669868, 516.4556706442435, 554.1906461542269, 456.3981555589049, 840.6998260421435, 1080.8260498139632, 1074.3612860601572, 1719.3929149481598, 744.8863023436708, 534.5198920640321, 702.2329455239793, 645.5988178106021, 680.5841618372098, 527.0564959960792, 504.1399525598382, 1026.5554857165116, 662.8944217870836, 1094.214137364657, 424.77781289235617, 413.2632109168756, 375.5288724130116, 373.00802433931324, 372.53551803776287, 436.36909097045225, 353.46496513276264, 350.1725468084657, 349.5943151372999, 320.0476618560527, 307.97140839851505, 305.0526163941709, 288.43379835353124, 262.0838443165329, 256.4041890331104, 249.15647448474246, 242.4648265126265, 241.23261788531337, 239.6073327278999, 235.92784940405667, 239.50847213833643, 225.99187535207636, 224.8133244829669, 212.84822616457754, 212.76637238887187, 207.00703523755683, 208.27288904393873, 1105.1727309399878, 719.9315134116075, 1592.5391481793183, 1040.192662170466, 887.0085470905094, 749.6498831543267, 342.48864723831446, 414.8181805588404, 5059.520684546185, 2403.835454314489, 1749.4881878851222, 1195.189001616034, 514.1845919383552, 660.4652204662839, 496.2565013271059, 1379.1245388763766, 1645.5929608746437, 395.56344211447697, 625.0621535112904, 999.4941349105576, 570.3607548193993, 526.3650000107506, 600.3610847371386, 2367.436916683809, 1151.715086443547, 630.1172301621784, 1705.4761825519436, 965.7573478729496, 791.1873098070395, 906.5650255846193, 1043.9324547201904, 718.1808005779884, 612.3342307496569, 840.9388918088409, 658.1102518518098, 815.852503318207, 639.0071591136815, 637.5017942948048, 2612.154674734125, 1943.3823692185108, 1674.48228035288, 1568.065226944849, 1377.8175138527358, 1066.976129333102, 874.4293331493568, 831.3283027588918, 826.0234802219906, 791.1388052727766, 775.9272028641009, 771.5017844381025, 723.8087395443417, 591.2275897923103, 578.3172521757209, 530.458290750706, 523.2904033227588, 516.6690497413509, 488.37432619323846, 470.46939669120275, 456.28412340105916, 427.25355878503905, 410.8320067638759, 402.7324617108715, 390.10917864911, 386.90436797880096, 378.0881879750011, 374.1329438796489, 377.85149135852333, 352.3700526631645, 1544.8157393451827, 785.2483571090687, 1427.205775764903, 720.8659475220104, 732.4801762409664, 730.4776613487651, 1411.6331555794477, 1064.6499359309094, 818.3402465343233, 1250.5037758396552, 941.8814310408957, 1716.8112749072482, 945.9563467709917, 1343.1666742735024, 1282.9172637204326, 1046.8493346292764, 1035.5517743663938, 930.9561189472938, 747.0685991625602, 1661.8652544794118, 891.8208971488492, 679.121275151102, 617.993627087513, 498.3509165023934, 444.3513662236066, 439.5504415659467, 437.3189266349296, 428.28620702504946, 418.77260389135336, 411.35846217470413, 391.7255646953615, 388.96932567044877, 386.6826693400668, 385.02028411448936, 362.92796056763495, 344.23426171508714, 336.91358450417266, 327.54862051330934, 311.3666306825838, 298.90975979930585, 298.5284565241319, 293.13151283488037, 293.0898991929245, 292.0463673216413, 285.83121035441235, 284.53673359753265, 280.7020630814855, 274.2070610196499, 254.61115713734958, 1309.78273301446, 3057.4712713188137, 487.9314189505604, 545.5683737989023, 330.0969575171087, 1862.1696615889514, 415.29630261457794, 629.5772430066482, 1685.7096054182614, 936.3447685475114, 807.4090869016215, 575.6875101983264, 1204.5491448093596, 3827.5358371911566, 635.2626902200027, 751.7878011449507, 546.6568763231936, 962.235167866169, 885.1656393564303, 959.0618285274351, 836.9908023930709, 1458.7067896961767, 1069.187213352741, 805.0034727241468, 579.7986189413281, 559.3352766981935, 926.2559199654685, 615.4294689227144, 597.5013680165017, 639.4340922110139, 611.343554381472, 910.5149419779322, 720.4536394225704, 574.0132853238231, 510.37264361960916, 504.73004371500247, 496.7739416228916, 454.50328415119327, 363.2611033089337, 353.01400441338313, 349.5004715473876, 341.26234685753445, 335.95219828162925, 333.34792140257997, 331.5208817475462, 329.0947244039131, 321.3725564820563, 315.5579282428486, 293.1811005745374, 287.05492344310966, 286.2571684900326, 257.20481752414463, 258.02477330124543, 233.29547578968882, 233.17685766855135, 232.52312755580135, 226.22145972299344, 219.23105340222415, 217.42494824262351, 218.41848721348074, 243.2673325557729, 580.439438065922, 2568.699906271252, 501.1867280829159, 312.13409632359435, 347.5596867318684, 1444.4119634404785, 283.7370463590876, 619.4886517801879, 1284.255058638716, 1825.4313215470013, 559.0057847554122, 610.2020070173827, 420.45190070577274, 4076.929444770149, 568.5421687516391, 648.0437523763724, 631.0210261066906, 541.9362524163084, 802.4662083770259, 580.9986744186577, 490.09051579373096, 570.768598826438, 492.32768561733553, 724.0621950212826, 498.9047077859407, 840.0137807955945, 757.3312438693739, 613.4060427640644, 534.9040893110036, 595.9621259874896], \"Total\": [6878.0, 3273.0, 2634.0, 2613.0, 14578.0, 3051.0, 1944.0, 2595.0, 3173.0, 1662.0, 4114.0, 1675.0, 1568.0, 2269.0, 1650.0, 2342.0, 1741.0, 3755.0, 1673.0, 2228.0, 3197.0, 1378.0, 1747.0, 5724.0, 1341.0, 3479.0, 1846.0, 1799.0, 1167.0, 1654.0, 1650.648257915328, 1078.8261357293848, 1060.5194636657454, 873.0051528625055, 856.1585600911552, 808.2955869886439, 695.3417549624816, 693.0027929901502, 692.6625088796101, 670.6582830428168, 642.2524092141791, 641.9359255803761, 579.3589508307642, 572.07181859459, 540.8377602152256, 519.8356749825855, 495.6575474347857, 474.8881833404989, 443.48508385491994, 419.0224410098897, 415.5770244912611, 391.6407558219099, 387.34373509133223, 374.86531718233346, 372.0864332904554, 368.24945580687665, 351.20935220633726, 353.409616907845, 351.59649129468875, 341.8532582220423, 597.9579201618161, 417.14002104950004, 1611.3992938886581, 414.833622154742, 1654.6216459266157, 1180.81039201281, 595.3950866116508, 1208.3228737991026, 1119.6653756687037, 4114.883962883611, 1842.5000679824816, 2780.668077678513, 2400.3500622272277, 1385.872060396249, 5793.27312782978, 2505.867415299395, 1912.7357329446513, 2094.9334958411982, 1806.0038443034432, 1892.183468950131, 1915.8621785941655, 11077.051339755997, 2355.8296794388907, 2326.6492110319377, 3173.9141271914445, 10810.62814263785, 4363.077744411715, 4906.764332523726, 919.1140539623229, 536.7746276690102, 416.8724021337707, 375.1995670347187, 371.9041424013393, 371.09553406355894, 330.2659693579187, 321.39467100229496, 321.3307833682437, 313.0794994172152, 313.2173414673134, 292.08551384087264, 288.3748799761696, 287.0391169848838, 281.5757715029167, 270.7743712728226, 270.317928489803, 263.66770696929416, 262.445204704335, 242.48777111061892, 238.05826291909804, 233.76257327356103, 225.79674539741455, 224.91536596029337, 221.24069796655948, 220.76510305427425, 218.6378054831687, 216.0722651749277, 213.32118941768135, 213.46557299974384, 1110.8260819281365, 1409.0427044868356, 894.2230670897659, 718.9859638321943, 277.937257832157, 1151.39818209864, 429.4291118819394, 334.88146896998734, 489.83390276814504, 357.0188765417186, 422.48718868943956, 1047.503585846197, 3755.2533912281037, 984.1841499382025, 1912.489001413166, 1336.3871254142541, 988.4781733419522, 5724.7526476840385, 1937.5094908412739, 1006.3988302461287, 751.1879215747527, 2083.8387839191673, 10810.62814263785, 1576.8832936786455, 1249.803236384781, 11077.051339755997, 3518.904023987641, 1297.167971725954, 3426.28331700062, 1373.060494543815, 824.6212676228007, 1929.7037515468649, 2057.163760086516, 3479.280406554946, 2756.4532900442505, 4906.764332523726, 2248.640789018315, 3051.939858057059, 1167.7859556107346, 705.2108433992515, 513.2094657660606, 499.32515433886414, 426.3215721603702, 382.1698989278866, 347.2393293684106, 346.8663493054691, 329.0664948405669, 323.4685117665023, 323.5210007086784, 317.47994336738, 291.70986411896666, 278.38128409603513, 270.9094505721972, 269.8395264922471, 245.0967374032788, 236.874468299188, 233.64315100200122, 231.9646445931553, 230.52292605151817, 217.47364604313333, 212.37043575093398, 195.12823169934242, 188.31506953234944, 187.4443924499459, 186.19870575879577, 185.91866792215762, 184.09920191572343, 184.14385151308986, 208.44758722283646, 260.4349377917094, 383.6654475391174, 513.7656505761574, 453.3233818438407, 509.2712789252419, 254.2922818288524, 754.7930216035345, 956.8930587284775, 1316.9052622437496, 933.1849792364977, 605.7934205401914, 315.77556917193573, 1592.4702566520427, 630.7019359239152, 1226.3045473963882, 1244.188662583281, 1249.69609461648, 3426.28331700062, 470.50276621006645, 11077.051339755997, 5724.7526476840385, 1159.9508039341595, 10810.62814263785, 776.7661881058701, 912.8031408182336, 642.2902067233988, 2355.8296794388907, 4114.883962883611, 4363.077744411715, 14578.108858873795, 1982.0293586841876, 967.6600973008151, 2756.4532900442505, 2161.3326210959303, 2998.426079008509, 2077.4423539181357, 2428.9485926481666, 1027.420691306642, 663.7592954915814, 1096.018005993988, 425.64446971835923, 414.12944613907433, 376.3936813412966, 373.87302198108574, 373.40128099910373, 437.38422936332086, 354.3337777960166, 351.03793643560255, 350.4602741817918, 320.914077482315, 308.83655128955206, 305.91871680317314, 289.3006264835759, 262.9490489184933, 257.27244232177225, 250.02658014131134, 243.329891258228, 242.101877213297, 240.48047780859176, 236.79278605647562, 240.41046678354934, 226.85705870004915, 225.6780019282556, 213.71299462141903, 213.63333114782623, 207.8728316843819, 209.14515285321883, 1131.9981218150767, 738.5588978490487, 1673.2987812313145, 1080.9658514698424, 927.2815629171907, 797.5837255310803, 350.53735542159717, 432.2134970954947, 6878.675165388372, 3051.939858057059, 2228.3727894437893, 1470.981021989789, 607.3554593835163, 835.2267209023452, 587.9541936176633, 2342.084036489225, 3479.280406554946, 444.11346190578155, 898.7454638080364, 1918.4697097012076, 811.1959452062644, 732.7178037152102, 972.5481870332237, 14578.108858873795, 3755.2533912281037, 1168.4421516565385, 10810.62814263785, 3197.707370536522, 2094.9334958411982, 2998.426079008509, 4906.764332523726, 1788.175067366269, 1119.6952524195465, 3518.904023987641, 1929.7037515468649, 11077.051339755997, 1806.0038443034432, 2161.3326210959303, 2613.0187584497703, 1944.2471647771047, 1675.3478390387631, 1568.9292956089807, 1378.6816378253584, 1067.8426050611176, 875.2935788761989, 832.1923015199942, 826.8876850369204, 792.0029691231499, 776.791256266045, 772.3670844706681, 724.673476173169, 592.0927015111318, 579.1821809534296, 531.3334763608448, 524.1557821199353, 517.5331037024619, 489.2385914963174, 471.33450958228576, 457.14872627188737, 428.11758627505606, 411.6975392952305, 403.59759479606015, 390.9732466525826, 387.76826403249817, 378.95268121602936, 374.9978465037094, 378.7261538231385, 353.2340263735253, 1747.5005080133246, 846.4481870293605, 1846.3868135346966, 932.5179945556391, 1004.7212701901349, 1047.6682619341557, 3368.1902440369763, 2269.922679909126, 1557.8469118495375, 3662.420846852538, 2326.6492110319377, 14578.108858873795, 3479.280406554946, 10810.62814263785, 11077.051339755997, 5793.27312782978, 6878.675165388372, 5724.7526476840385, 4363.077744411715, 1662.7343298850105, 892.68970052643, 679.9891844709875, 618.8632252169381, 499.2243323279073, 445.21897076658036, 440.4171686802111, 438.1869486616848, 429.1526461803835, 419.6423041661211, 412.22661869378044, 392.5919596703426, 389.8383547407798, 387.54962188272276, 385.8880337179104, 363.7943165608162, 345.1036017392524, 337.7810666280607, 328.41626236026514, 312.23832344909715, 299.7767942292728, 299.39720445801305, 293.99788762060894, 293.95667897841514, 292.9127527716302, 286.7013351535662, 285.4082113274855, 281.5734590031553, 275.07739715134596, 255.4776927868614, 1341.8555015625059, 3273.259596779202, 507.2416827687188, 576.5792056377087, 336.9697323635069, 2595.2441106605456, 452.1642110871766, 787.9959541988201, 3197.707370536522, 1437.1111869030258, 1200.7436106580021, 756.1970620996807, 2269.922679909126, 14578.108858873795, 901.1204835876764, 1292.2663212026584, 749.3770051713811, 2342.084036489225, 2083.8387839191673, 3368.1902440369763, 2428.9485926481666, 11077.051339755997, 4906.764332523726, 2544.0695246102287, 1043.3842191960944, 1074.190059215978, 10810.62814263785, 2998.426079008509, 2644.635914154158, 5793.27312782978, 3662.420846852538, 911.3797734483929, 721.3174312015459, 574.8765106394875, 511.2448841095184, 505.5976836293994, 497.6363657043436, 455.36608901055257, 364.12435488207836, 353.8763582406879, 350.36317574825796, 342.1252972713486, 336.81655393665784, 334.2128661571926, 332.3860801740854, 329.9583528137276, 322.236933486347, 316.42712680139545, 294.05130348189937, 287.9197865159168, 287.12092803406085, 258.066848673038, 258.89126770862555, 234.1598050108576, 234.04297281279486, 233.38961466305497, 227.08649505183735, 220.0967020276329, 218.28707234890314, 219.28547270339268, 244.2463528969498, 584.3024437448838, 2634.561778709121, 516.2695649740812, 317.0725156708472, 354.7324329960642, 1741.4024188403337, 293.41505254894764, 740.6631870463079, 1799.374615227458, 3173.9141271914445, 705.7184675976943, 816.0935155375306, 502.18603771544724, 14578.108858873795, 817.8736894198961, 1186.8620160241212, 1131.4278504905642, 957.1785664603931, 2428.9485926481666, 1265.3677584734346, 856.3463220223472, 1263.5326823011073, 890.8191795672337, 2595.2441106605456, 936.4625313613021, 5793.27312782978, 10810.62814263785, 4363.077744411715, 2161.3326210959303, 11077.051339755997], \"Category\": [\"Default\", \"Default\", \"Default\", \"Default\", \"Default\", \"Default\", \"Default\", \"Default\", \"Default\", \"Default\", \"Default\", \"Default\", \"Default\", \"Default\", \"Default\", \"Default\", \"Default\", \"Default\", \"Default\", \"Default\", \"Default\", \"Default\", \"Default\", \"Default\", \"Default\", \"Default\", \"Default\", \"Default\", \"Default\", \"Default\", \"Topic1\", \"Topic1\", \"Topic1\", \"Topic1\", \"Topic1\", \"Topic1\", \"Topic1\", \"Topic1\", \"Topic1\", \"Topic1\", \"Topic1\", \"Topic1\", \"Topic1\", \"Topic1\", \"Topic1\", \"Topic1\", \"Topic1\", \"Topic1\", \"Topic1\", \"Topic1\", \"Topic1\", \"Topic1\", \"Topic1\", \"Topic1\", \"Topic1\", \"Topic1\", \"Topic1\", \"Topic1\", \"Topic1\", \"Topic1\", \"Topic1\", \"Topic1\", \"Topic1\", \"Topic1\", \"Topic1\", \"Topic1\", \"Topic1\", \"Topic1\", \"Topic1\", \"Topic1\", \"Topic1\", \"Topic1\", \"Topic1\", \"Topic1\", \"Topic1\", \"Topic1\", \"Topic1\", \"Topic1\", \"Topic1\", \"Topic1\", \"Topic1\", \"Topic1\", \"Topic1\", \"Topic1\", \"Topic1\", \"Topic1\", \"Topic1\", \"Topic1\", \"Topic2\", \"Topic2\", \"Topic2\", \"Topic2\", \"Topic2\", \"Topic2\", \"Topic2\", \"Topic2\", \"Topic2\", \"Topic2\", \"Topic2\", \"Topic2\", \"Topic2\", \"Topic2\", \"Topic2\", \"Topic2\", \"Topic2\", \"Topic2\", \"Topic2\", \"Topic2\", \"Topic2\", \"Topic2\", \"Topic2\", \"Topic2\", \"Topic2\", \"Topic2\", \"Topic2\", \"Topic2\", \"Topic2\", \"Topic2\", \"Topic2\", \"Topic2\", \"Topic2\", \"Topic2\", \"Topic2\", \"Topic2\", \"Topic2\", \"Topic2\", \"Topic2\", \"Topic2\", \"Topic2\", \"Topic2\", \"Topic2\", \"Topic2\", \"Topic2\", \"Topic2\", \"Topic2\", \"Topic2\", \"Topic2\", \"Topic2\", \"Topic2\", \"Topic2\", \"Topic2\", \"Topic2\", \"Topic2\", \"Topic2\", \"Topic2\", \"Topic2\", \"Topic2\", \"Topic2\", \"Topic2\", \"Topic2\", \"Topic2\", \"Topic2\", \"Topic2\", \"Topic2\", \"Topic2\", \"Topic2\", \"Topic3\", \"Topic3\", \"Topic3\", \"Topic3\", \"Topic3\", \"Topic3\", \"Topic3\", \"Topic3\", \"Topic3\", \"Topic3\", \"Topic3\", \"Topic3\", \"Topic3\", \"Topic3\", \"Topic3\", \"Topic3\", \"Topic3\", \"Topic3\", \"Topic3\", \"Topic3\", \"Topic3\", \"Topic3\", \"Topic3\", \"Topic3\", \"Topic3\", \"Topic3\", \"Topic3\", \"Topic3\", \"Topic3\", \"Topic3\", \"Topic3\", \"Topic3\", \"Topic3\", \"Topic3\", \"Topic3\", \"Topic3\", \"Topic3\", \"Topic3\", \"Topic3\", \"Topic3\", \"Topic3\", \"Topic3\", \"Topic3\", \"Topic3\", \"Topic3\", \"Topic3\", \"Topic3\", \"Topic3\", \"Topic3\", \"Topic3\", \"Topic3\", \"Topic3\", \"Topic3\", \"Topic3\", \"Topic3\", \"Topic3\", \"Topic3\", \"Topic3\", \"Topic3\", \"Topic3\", \"Topic3\", \"Topic3\", \"Topic3\", \"Topic3\", \"Topic3\", \"Topic3\", \"Topic3\", \"Topic3\", \"Topic4\", \"Topic4\", \"Topic4\", \"Topic4\", \"Topic4\", \"Topic4\", \"Topic4\", \"Topic4\", \"Topic4\", \"Topic4\", \"Topic4\", \"Topic4\", \"Topic4\", \"Topic4\", \"Topic4\", \"Topic4\", \"Topic4\", \"Topic4\", \"Topic4\", \"Topic4\", \"Topic4\", \"Topic4\", \"Topic4\", \"Topic4\", \"Topic4\", \"Topic4\", \"Topic4\", \"Topic4\", \"Topic4\", \"Topic4\", \"Topic4\", \"Topic4\", \"Topic4\", \"Topic4\", \"Topic4\", \"Topic4\", \"Topic4\", \"Topic4\", \"Topic4\", \"Topic4\", \"Topic4\", \"Topic4\", \"Topic4\", \"Topic4\", \"Topic4\", \"Topic4\", \"Topic4\", \"Topic4\", \"Topic4\", \"Topic4\", \"Topic4\", \"Topic4\", \"Topic4\", \"Topic4\", \"Topic4\", \"Topic4\", \"Topic4\", \"Topic4\", \"Topic4\", \"Topic4\", \"Topic4\", \"Topic4\", \"Topic4\", \"Topic4\", \"Topic4\", \"Topic4\", \"Topic4\", \"Topic4\", \"Topic5\", \"Topic5\", \"Topic5\", \"Topic5\", \"Topic5\", \"Topic5\", \"Topic5\", \"Topic5\", \"Topic5\", \"Topic5\", \"Topic5\", \"Topic5\", \"Topic5\", \"Topic5\", \"Topic5\", \"Topic5\", \"Topic5\", \"Topic5\", \"Topic5\", \"Topic5\", \"Topic5\", \"Topic5\", \"Topic5\", \"Topic5\", \"Topic5\", \"Topic5\", \"Topic5\", \"Topic5\", \"Topic5\", \"Topic5\", \"Topic5\", \"Topic5\", \"Topic5\", \"Topic5\", \"Topic5\", \"Topic5\", \"Topic5\", \"Topic5\", \"Topic5\", \"Topic5\", \"Topic5\", \"Topic5\", \"Topic5\", \"Topic5\", \"Topic5\", \"Topic5\", \"Topic5\", \"Topic5\", \"Topic5\", \"Topic6\", \"Topic6\", \"Topic6\", \"Topic6\", \"Topic6\", \"Topic6\", \"Topic6\", \"Topic6\", \"Topic6\", \"Topic6\", \"Topic6\", \"Topic6\", \"Topic6\", \"Topic6\", \"Topic6\", \"Topic6\", \"Topic6\", \"Topic6\", \"Topic6\", \"Topic6\", \"Topic6\", \"Topic6\", \"Topic6\", \"Topic6\", \"Topic6\", \"Topic6\", \"Topic6\", \"Topic6\", \"Topic6\", \"Topic6\", \"Topic6\", \"Topic6\", \"Topic6\", \"Topic6\", \"Topic6\", \"Topic6\", \"Topic6\", \"Topic6\", \"Topic6\", \"Topic6\", \"Topic6\", \"Topic6\", \"Topic6\", \"Topic6\", \"Topic6\", \"Topic6\", \"Topic6\", \"Topic6\", \"Topic6\", \"Topic6\", \"Topic6\", \"Topic6\", \"Topic6\", \"Topic6\", \"Topic6\", \"Topic6\", \"Topic6\", \"Topic6\", \"Topic6\", \"Topic6\", \"Topic6\", \"Topic7\", \"Topic7\", \"Topic7\", \"Topic7\", \"Topic7\", \"Topic7\", \"Topic7\", \"Topic7\", \"Topic7\", \"Topic7\", \"Topic7\", \"Topic7\", \"Topic7\", \"Topic7\", \"Topic7\", \"Topic7\", \"Topic7\", \"Topic7\", \"Topic7\", \"Topic7\", \"Topic7\", \"Topic7\", \"Topic7\", \"Topic7\", \"Topic7\", \"Topic7\", \"Topic7\", \"Topic7\", \"Topic7\", \"Topic7\", \"Topic7\", \"Topic7\", \"Topic7\", \"Topic7\", \"Topic7\", \"Topic7\", \"Topic7\", \"Topic7\", \"Topic7\", \"Topic7\", \"Topic7\", \"Topic7\", \"Topic7\", \"Topic7\", \"Topic7\", \"Topic7\", \"Topic7\", \"Topic7\", \"Topic7\", \"Topic7\", \"Topic7\", \"Topic7\", \"Topic7\", \"Topic7\", \"Topic7\", \"Topic7\", \"Topic7\", \"Topic7\", \"Topic7\", \"Topic7\"], \"logprob\": [30.0, 29.0, 28.0, 27.0, 26.0, 25.0, 24.0, 23.0, 22.0, 21.0, 20.0, 19.0, 18.0, 17.0, 16.0, 15.0, 14.0, 13.0, 12.0, 11.0, 10.0, 9.0, 8.0, 7.0, 6.0, 5.0, 4.0, 3.0, 2.0, 1.0, -4.682, -5.1076, -5.1247, -5.3195, -5.339, -5.3965, -5.5472, -5.5506, -5.5511, -5.5834, -5.6268, -5.6273, -5.73, -5.7427, -5.7989, -5.8386, -5.8863, -5.9291, -5.9977, -6.0545, -6.0628, -6.1223, -6.1333, -6.1661, -6.1736, -6.184, -6.2315, -6.2252, -6.2304, -6.2586, -5.7075, -6.0634, -4.8586, -6.0804, -4.8425, -5.1876, -5.7769, -5.1953, -5.2829, -4.2727, -4.9838, -4.8086, -4.9736, -5.3141, -4.5151, -5.0229, -5.1768, -5.1872, -5.2708, -5.2639, -5.3036, -4.7048, -5.2385, -5.2577, -5.2147, -5.1075, -5.2636, -5.4415, -5.2541, -5.7927, -6.0459, -6.1514, -6.1603, -6.1625, -6.2794, -6.3066, -6.3068, -6.3329, -6.3325, -6.4025, -6.4153, -6.42, -6.4393, -6.4785, -6.4802, -6.5052, -6.5099, -6.5892, -6.6077, -6.626, -6.6608, -6.6647, -6.6813, -6.6834, -6.6932, -6.705, -6.7179, -6.7172, -5.0967, -4.9123, -5.3576, -5.5789, -6.4679, -5.1716, -6.0747, -6.308, -5.9851, -6.2612, -6.1204, -5.4093, -4.4351, -5.4822, -4.9985, -5.2962, -5.5244, -4.2669, -5.0691, -5.6108, -5.8039, -5.1777, -4.182, -5.3557, -5.521, -4.2815, -4.955, -5.5549, -5.1011, -5.5412, -5.8184, -5.5669, -5.5463, -5.4302, -5.5217, -5.3977, -5.5889, -5.6036, -5.0106, -5.5154, -5.8337, -5.8612, -6.0195, -6.1291, -6.2252, -6.2263, -6.2791, -6.2963, -6.2961, -6.315, -6.3999, -6.4468, -6.4741, -6.4781, -6.5746, -6.6088, -6.6226, -6.6298, -6.6361, -6.6946, -6.7185, -6.8035, -6.8392, -6.8438, -6.8505, -6.852, -6.8619, -6.8617, -6.7385, -6.5196, -6.1478, -5.8716, -6.0077, -5.9022, -6.5565, -5.6114, -5.4438, -5.2086, -5.5148, -5.9017, -6.3958, -5.1993, -5.8888, -5.4104, -5.431, -5.4506, -4.7858, -6.1177, -4.1063, -4.6606, -5.5909, -4.3243, -5.8257, -5.7552, -5.9493, -5.3385, -5.0872, -5.0932, -4.623, -5.4595, -5.7913, -5.5184, -5.6025, -5.5498, -5.8054, -5.8499, -5.0892, -5.5266, -5.0254, -5.9716, -5.9991, -6.0949, -6.1016, -6.1029, -5.9447, -6.1554, -6.1648, -6.1664, -6.2547, -6.2932, -6.3027, -6.3587, -6.4545, -6.4765, -6.5051, -6.5324, -6.5374, -6.5442, -6.5597, -6.5446, -6.6027, -6.6079, -6.6626, -6.663, -6.6905, -6.6844, -5.0155, -5.4441, -4.6501, -5.076, -5.2354, -5.4036, -6.187, -5.9954, -3.4942, -4.2384, -4.5561, -4.9371, -5.7806, -5.5303, -5.8161, -4.794, -4.6174, -6.0429, -5.5854, -5.116, -5.6769, -5.7572, -5.6257, -4.2536, -4.9742, -5.5773, -4.5816, -5.1503, -5.3497, -5.2135, -5.0725, -5.4465, -5.6059, -5.2887, -5.5338, -5.319, -5.5633, -5.5657, -4.0743, -4.37, -4.5189, -4.5846, -4.7139, -4.9696, -5.1686, -5.2192, -5.2256, -5.2687, -5.2881, -5.2938, -5.3577, -5.56, -5.5821, -5.6684, -5.682, -5.6948, -5.7511, -5.7885, -5.8191, -5.8848, -5.924, -5.9439, -5.9758, -5.984, -6.0071, -6.0176, -6.0077, -6.0775, -4.5995, -5.2762, -4.6787, -5.3617, -5.3457, -5.3485, -4.6897, -4.9718, -5.2349, -4.8109, -5.0943, -4.494, -5.09, -4.7394, -4.7853, -4.9886, -4.9995, -5.106, -5.326, -4.4532, -5.0756, -5.3481, -5.4424, -5.6576, -5.7723, -5.7831, -5.7882, -5.8091, -5.8316, -5.8494, -5.8983, -5.9054, -5.9113, -5.9156, -5.9747, -6.0276, -6.0491, -6.0772, -6.1279, -6.1687, -6.17, -6.1883, -6.1884, -6.192, -6.2135, -6.218, -6.2316, -6.255, -6.3291, -4.6913, -3.8435, -5.6787, -5.5671, -6.0695, -4.3394, -5.8399, -5.4238, -4.4389, -5.0269, -5.1751, -5.5133, -4.775, -3.6189, -5.4148, -5.2464, -5.5651, -4.9996, -5.0831, -5.0029, -5.1391, -4.5836, -4.8942, -5.178, -5.5062, -5.5421, -5.0377, -5.4466, -5.4761, -5.4083, -5.4532, -5.0188, -5.2529, -5.4801, -5.5976, -5.6088, -5.6246, -5.7136, -5.9377, -5.9663, -5.9763, -6.0001, -6.0158, -6.0236, -6.0291, -6.0364, -6.0602, -6.0784, -6.152, -6.1731, -6.1759, -6.2829, -6.2797, -6.3805, -6.381, -6.3838, -6.4113, -6.4426, -6.4509, -6.4464, -6.3386, -5.469, -3.9816, -5.6158, -6.0893, -5.9818, -4.5573, -6.1847, -5.4039, -4.6748, -4.3232, -5.5066, -5.419, -5.7914, -3.5197, -5.4897, -5.3588, -5.3854, -5.5376, -5.1451, -5.468, -5.6382, -5.4858, -5.6336, -5.2479, -5.6204, -5.0994, -5.203, -5.4137, -5.5507, -5.4426], \"loglift\": [30.0, 29.0, 28.0, 27.0, 26.0, 25.0, 24.0, 23.0, 22.0, 21.0, 20.0, 19.0, 18.0, 17.0, 16.0, 15.0, 14.0, 13.0, 12.0, 11.0, 10.0, 9.0, 8.0, 7.0, 6.0, 5.0, 4.0, 3.0, 2.0, 1.0, 1.8464, 1.8461, 1.8461, 1.8459, 1.8459, 1.8458, 1.8457, 1.8457, 1.8457, 1.8456, 1.8456, 1.8456, 1.8454, 1.8454, 1.8453, 1.8452, 1.8452, 1.8451, 1.845, 1.8448, 1.8448, 1.8447, 1.8447, 1.8446, 1.8446, 1.8446, 1.8444, 1.8444, 1.8444, 1.8444, 1.8362, 1.8405, 1.6938, 1.829, 1.6835, 1.6757, 1.7712, 1.645, 1.6336, 1.3422, 1.4347, 1.1983, 1.1804, 1.3892, 0.7577, 1.088, 1.2043, 1.1028, 1.1677, 1.1279, 1.0758, -0.0802, 0.9342, 0.9274, 0.6599, -0.4585, 0.2928, -0.0026, 1.8598, 1.8591, 1.8586, 1.8584, 1.8584, 1.8584, 1.8581, 1.858, 1.858, 1.8579, 1.8579, 1.8577, 1.8577, 1.8577, 1.8576, 1.8575, 1.8575, 1.8574, 1.8574, 1.8571, 1.8571, 1.857, 1.8569, 1.8568, 1.8568, 1.8568, 1.8567, 1.8567, 1.8566, 1.8566, 1.8278, 1.7744, 1.7837, 1.7806, 1.842, 1.717, 1.8002, 1.8156, 1.7582, 1.7983, 1.7708, 1.5739, 1.2713, 1.5633, 1.3827, 1.4433, 1.5167, 1.0179, 1.299, 1.4124, 1.5117, 1.1176, 0.467, 1.2184, 1.2856, 0.3431, 0.8164, 1.2145, 0.697, 1.1713, 1.404, 0.8053, 0.7619, 0.3525, 0.4939, 0.0412, 0.6303, 0.3101, 1.8639, 1.8634, 1.8629, 1.8629, 1.8626, 1.8623, 1.8621, 1.8621, 1.862, 1.8619, 1.8619, 1.8619, 1.8617, 1.8615, 1.8614, 1.8614, 1.8611, 1.861, 1.8609, 1.8609, 1.8609, 1.8606, 1.8605, 1.8602, 1.86, 1.86, 1.86, 1.86, 1.8599, 1.8599, 1.8591, 1.8554, 1.8397, 1.8239, 1.813, 1.8021, 1.8423, 1.6994, 1.6298, 1.5457, 1.5839, 1.6291, 1.7865, 1.365, 1.6016, 1.4152, 1.38, 1.3561, 1.0123, 1.6658, 0.5184, 0.6242, 1.2902, 0.3247, 1.4565, 1.3656, 1.5229, 0.8342, 0.5277, 0.4631, -0.2729, 0.886, 1.2711, 0.4972, 0.6563, 0.3817, 0.493, 0.2922, 1.9133, 1.9128, 1.9125, 1.9121, 1.912, 1.9118, 1.9118, 1.9118, 1.9118, 1.9116, 1.9116, 1.9116, 1.9114, 1.9113, 1.9113, 1.9111, 1.9108, 1.9107, 1.9106, 1.9105, 1.9105, 1.9105, 1.9104, 1.9103, 1.9103, 1.9103, 1.91, 1.91, 1.9099, 1.9099, 1.8901, 1.8886, 1.8646, 1.8757, 1.8697, 1.8521, 1.8909, 1.873, 1.6069, 1.6754, 1.6722, 1.7065, 1.7476, 1.6793, 1.7445, 1.3845, 1.1654, 1.7983, 1.551, 1.2621, 1.5619, 1.5833, 1.4317, 0.0964, 0.7322, 1.2966, 0.0674, 0.7168, 0.9404, 0.7179, 0.3665, 1.0019, 1.3106, 0.4827, 0.8384, -0.6943, 0.8751, 0.6932, 1.9948, 1.9947, 1.9946, 1.9946, 1.9945, 1.9943, 1.9941, 1.9941, 1.9941, 1.994, 1.994, 1.994, 1.9939, 1.9937, 1.9936, 1.9935, 1.9935, 1.9935, 1.9934, 1.9933, 1.9932, 1.9931, 1.993, 1.993, 1.9929, 1.9929, 1.9928, 1.9928, 1.9928, 1.9927, 1.8718, 1.9201, 1.7376, 1.7377, 1.6791, 1.6345, 1.1255, 1.238, 1.3513, 0.9205, 1.0908, -0.1439, 0.6927, -0.0904, -0.1606, 0.2842, 0.1016, 0.1788, 0.2303, 2.0679, 2.0674, 2.0671, 2.067, 2.0667, 2.0665, 2.0665, 2.0664, 2.0664, 2.0663, 2.0663, 2.0662, 2.0662, 2.0662, 2.0662, 2.066, 2.0659, 2.0659, 2.0658, 2.0656, 2.0655, 2.0655, 2.0655, 2.0655, 2.0655, 2.0654, 2.0654, 2.0653, 2.0653, 2.065, 2.0442, 2.0002, 2.0296, 2.0131, 2.0478, 1.7365, 1.9834, 1.844, 1.4282, 1.64, 1.6716, 1.7957, 1.4348, 0.7311, 1.7188, 1.5267, 1.753, 1.1789, 1.2122, 0.8122, 1.003, 0.0411, 0.5447, 0.9178, 1.4809, 1.4159, -0.3887, 0.4849, 0.5809, -0.1354, 0.2782, 2.1036, 2.1033, 2.103, 2.1028, 2.1028, 2.1028, 2.1026, 2.1022, 2.1021, 2.1021, 2.102, 2.102, 2.1019, 2.1019, 2.1019, 2.1018, 2.1018, 2.1016, 2.1015, 2.1015, 2.1012, 2.1012, 2.1008, 2.1008, 2.1008, 2.1007, 2.1006, 2.1006, 2.1006, 2.1005, 2.0979, 2.0792, 2.0749, 2.0888, 2.0841, 1.9175, 2.071, 1.9259, 1.7673, 1.5514, 1.8715, 1.8138, 1.9269, 0.8304, 1.7409, 1.4994, 1.5206, 1.5357, 0.997, 1.3262, 1.5464, 1.3099, 1.5115, 0.828, 1.4748, 0.1735, -0.554, 0.1426, 0.7081, -0.8179]}, \"token.table\": {\"Topic\": [6, 6, 6, 2, 3, 6, 6, 6, 6, 3, 2, 3, 1, 2, 4, 5, 6, 7, 1, 7, 2, 3, 1, 4, 3, 1, 2, 1, 1, 1, 2, 3, 4, 5, 7, 1, 2, 4, 5, 7, 2, 6, 6, 7, 1, 6, 7, 7, 7, 1, 2, 3, 4, 5, 6, 7, 3, 1, 7, 2, 3, 5, 6, 7, 4, 1, 2, 4, 5, 7, 1, 2, 4, 7, 2, 1, 2, 1, 7, 1, 4, 7, 7, 7, 3, 1, 2, 4, 7, 1, 2, 3, 4, 5, 6, 7, 2, 5, 1, 2, 3, 4, 5, 6, 7, 1, 3, 4, 5, 6, 7, 4, 5, 6, 5, 3, 7, 1, 2, 4, 7, 7, 1, 2, 4, 7, 1, 2, 4, 6, 7, 1, 2, 3, 4, 5, 6, 7, 5, 4, 4, 1, 3, 5, 7, 2, 4, 7, 2, 4, 7, 2, 4, 1, 4, 7, 1, 2, 3, 4, 6, 7, 1, 1, 2, 7, 2, 4, 2, 4, 2, 5, 1, 2, 4, 5, 7, 6, 1, 3, 2, 3, 5, 6, 4, 4, 7, 1, 3, 3, 3, 1, 2, 3, 4, 3, 3, 6, 1, 2, 1, 1, 2, 2, 2, 1, 3, 2, 3, 6, 1, 2, 4, 5, 7, 1, 2, 7, 3, 1, 4, 3, 7, 5, 6, 5, 6, 4, 4, 1, 2, 3, 5, 6, 2, 2, 4, 5, 2, 5, 6, 1, 4, 7, 1, 2, 3, 6, 7, 1, 2, 3, 3, 2, 5, 4, 6, 3, 7, 6, 3, 5, 2, 2, 5, 2, 2, 6, 7, 7, 4, 6, 6, 2, 7, 1, 2, 3, 4, 5, 6, 7, 4, 1, 7, 2, 4, 5, 6, 2, 4, 3, 5, 7, 5, 2, 3, 4, 6, 7, 5, 3, 1, 4, 1, 3, 4, 5, 6, 3, 2, 1, 4, 6, 7, 3, 4, 5, 6, 7, 2, 4, 1, 3, 5, 7, 4, 5, 6, 1, 2, 3, 4, 6, 1, 2, 4, 5, 7, 2, 3, 4, 5, 6, 7, 1, 2, 7, 5, 7, 1, 4, 1, 2, 7, 4, 1, 3, 4, 5, 6, 7, 1, 2, 3, 5, 6, 7, 1, 2, 4, 7, 2, 3, 4, 5, 6, 7, 2, 1, 7, 1, 4, 7, 4, 5, 1, 2, 3, 4, 5, 6, 7, 1, 3, 5, 6, 7, 1, 3, 4, 6, 7, 5, 4, 2, 3, 6, 1, 2, 4, 1, 2, 4, 5, 3, 1, 2, 4, 5, 3, 1, 2, 3, 4, 5, 6, 7, 1, 2, 4, 7, 5, 4, 3, 5, 7, 4, 5, 1, 2, 3, 4, 5, 6, 7, 1, 2, 3, 4, 6, 1, 7, 5, 2, 1, 2, 7, 1, 7, 7, 4, 1, 7, 1, 3, 5, 6, 1, 3, 7, 2, 1, 2, 3, 4, 5, 6, 7, 2, 6, 7, 1, 2, 3, 6, 7, 3, 1, 7, 2, 3, 2, 4, 2, 5, 1, 2, 3, 2, 4, 1, 2, 3, 4, 5, 6, 7, 1, 2, 4, 3, 5, 1, 7, 1, 2, 5, 7, 6, 4, 1, 2, 4, 5, 7, 6, 7, 1, 7, 4, 2, 4, 6, 6, 6, 2, 4, 6, 1, 3, 5, 6, 7, 1, 1, 7, 2, 1, 2, 5, 7, 4, 6, 7, 2, 4, 2, 3, 4, 6, 7, 3, 4, 6, 6, 1, 7, 7, 7, 1, 3, 1, 3, 4, 7, 2, 2, 1, 3, 4, 5, 6, 7, 6, 6, 3, 6, 7, 4, 2, 4, 5, 7, 1, 4, 7, 3, 2, 4, 5, 6, 7, 1, 2, 4, 5, 7, 6, 7, 3, 6, 1, 2, 3, 5, 6, 7, 7, 5, 1, 2, 3, 4, 5, 6, 7, 6, 5, 6, 1, 2, 4, 5, 7, 2, 3, 6, 3, 4, 6, 7, 1, 2, 4, 5, 7, 1, 7, 1, 2, 3, 4, 5, 7, 6, 1, 2, 5, 3, 7, 1, 2, 3, 4, 5, 6, 7, 1, 2, 3, 4, 5, 6, 7, 2, 7, 4, 1, 4, 6, 7, 1, 2, 5, 6, 7, 1, 2, 3, 6, 7, 5, 5, 2, 4, 5, 6, 7, 1, 2, 3, 4, 5, 6, 7, 2, 4, 5, 6, 4, 6, 1, 2, 7, 2, 3, 4, 5, 6, 7, 2, 3, 5, 6, 5, 1, 2, 3, 4, 5, 6, 7, 2, 3, 1, 1, 2, 2, 7, 7, 5, 5, 5, 1, 2, 3, 4, 6, 7, 1, 1, 3, 1, 7, 3, 1, 3, 4, 6, 2, 4, 5, 4, 5, 3, 3, 7, 3, 1, 4, 6, 7, 1, 6, 1, 3, 1, 2, 4, 7, 3, 5, 4, 5, 3, 7, 3, 6, 5, 5, 5, 2, 4, 6, 1, 2, 3, 4, 6, 5, 5, 1, 3, 4, 6, 7, 4, 3, 1, 2, 3, 4, 5, 6, 7, 2, 1, 2, 3, 4, 5, 6, 7, 6, 6], \"Freq\": [0.9984921757673294, 0.9990527874254739, 0.9968838749320627, 0.019662413518964666, 0.9791881932444403, 0.997408757968508, 0.9981301976636373, 0.9966058000324932, 0.9960832945109147, 0.9976292038180626, 0.28803179320414257, 0.7099594470329137, 0.4624549771373091, 0.1106551412563313, 0.17642187615396215, 0.0020878328538930435, 0.05480561241469239, 0.1931245389851065, 0.005134327319893685, 0.9926366151794458, 0.9965519958374004, 0.9972472935789344, 0.9989062002926831, 0.9950541056387967, 0.998255709418196, 0.9975599373450608, 0.9964714044216526, 0.9984509953319602, 0.9983924247164963, 0.015203696388145409, 0.08802140014189447, 0.6017462991518604, 0.1672406602695995, 0.12803112747911924, 0.9975756716019029, 0.05452960179990914, 0.3082107927820952, 0.0553198858839658, 0.12249403302878141, 0.45915505283691616, 0.9822360705769841, 0.01439173729783127, 0.012615410678333272, 0.9840020329099952, 0.3931078227955562, 0.5819233912249179, 0.02398886320209103, 0.9989634305960313, 0.9963709770627976, 0.06036500324858812, 0.11172528225567416, 0.2271191558689973, 0.30249203285342224, 0.08471110953116787, 0.2051076077231033, 0.008671215936261278, 0.9930166527000988, 0.998848628946565, 0.994103762833715, 0.2265804082296279, 0.6642925604914091, 0.001287388683122886, 0.07595593230425027, 0.03218471707807215, 0.9968352097071816, 0.004078910543579841, 0.09041585038268647, 0.8123830165963183, 0.034670739620428645, 0.05846438445797772, 0.2675058339116231, 0.5242189252446792, 0.18347662383563773, 0.024669125893867255, 0.9987000255493801, 0.0852096843733237, 0.913637171336193, 0.9811162313361864, 0.016874234936986008, 0.03304470561971822, 0.546577292953177, 0.41975707138560986, 0.9981735763693504, 0.9968054070647695, 0.9966429721433625, 0.0016002518970788242, 0.5624885418232067, 0.42726725652004605, 0.008001259485394121, 0.2113187190351832, 0.032087441068249074, 0.24615651219499649, 0.10359659544891844, 0.17120941769987186, 0.09465795115133477, 0.14049715267740487, 0.270721849004477, 0.7285602701149895, 0.13252450167022778, 0.29217650200449546, 0.21479642384805375, 0.11562540414180947, 0.1298562231131091, 0.056478562792345394, 0.05870212825661096, 0.13030805431259634, 0.06547498295509767, 0.041082342246335786, 0.5250836868359793, 0.16818083857093713, 0.06996836413829063, 0.9995905364665111, 0.9971686571741406, 0.9970244068719598, 0.9980826414658504, 0.9986303529805416, 0.9988178671525768, 0.03690448829862688, 0.9169345938812679, 0.03903359339277843, 0.006387315282454653, 0.9952155012494718, 0.0291692666092123, 0.17411808375960575, 0.784877650761728, 0.011218948695850885, 0.052145150371829985, 0.6330178719557036, 0.03395498163747069, 0.1988791781623283, 0.08124942034680487, 0.02147054896009195, 0.03820797370853424, 0.11791652927283726, 0.16236673926050366, 0.11777933726670249, 0.2625854997419552, 0.2796659045057344, 0.9975107078018374, 0.9970432357079647, 0.9963907497578077, 0.6621438018918975, 0.18616010167944333, 0.02388059613380614, 0.1275440929873737, 0.024371786803222502, 0.9748714721289001, 0.9955436696079352, 0.13683500349816938, 0.7026662341797887, 0.15902446352489955, 0.2811450724350998, 0.7178752820430219, 0.9983639194532622, 0.8436031333463715, 0.15477396196475768, 0.5136750757328823, 0.005415876710890081, 0.015414418330994847, 0.14206261218565522, 0.2312162749649227, 0.09206990408513138, 0.9966070396380112, 0.30498619723419257, 0.11941091813198242, 0.5749998036698362, 0.019969341046636762, 0.975644948278539, 0.03700394415384171, 0.9621025479998845, 0.9967378299148486, 0.9973390607092472, 0.016689931247546034, 0.04673180749312889, 0.6954138019810847, 0.1379700983130472, 0.10236491165161567, 0.9995583600628122, 0.8168346568634932, 0.18207054155012006, 0.1318066650629489, 0.755477226580317, 0.11144628590688364, 0.0010715989029508042, 0.9969968597777421, 0.9988560680102883, 0.9950171810048513, 0.2090097719652817, 0.7911019868885912, 0.9950587644994194, 0.997346109389144, 0.09671763558271167, 0.04280944525792156, 0.7689844796330354, 0.09037549554450107, 0.9985516000801943, 0.8479145695336978, 0.15103478269818993, 0.13288191902572635, 0.8659037468539161, 0.9965566059139941, 0.9996072707118434, 0.9987879045505612, 0.9979551809452797, 0.9971401603882136, 0.07283654039580496, 0.9247073824163065, 0.9985568847164514, 0.037457489487635845, 0.9620660457876995, 0.07562738660016807, 0.5546895996061623, 0.3067702442373015, 0.04260697836629187, 0.02023831472398864, 0.041376700469622066, 0.9259434591580289, 0.032430386854568644, 0.998488271850217, 0.9990435329310927, 0.9954487043802381, 0.820399002346485, 0.17853242538110037, 0.46917897663485003, 0.5308550862394312, 0.9274046681522055, 0.07088443323456348, 0.9969957110464353, 0.9989540702705377, 0.14712566296442703, 0.526354742502045, 0.119222519988415, 0.1128808965847759, 0.09385602637385862, 0.9958585251176554, 0.9407839124588031, 0.011643365253203008, 0.04657346101281203, 0.41978783265235675, 0.023960492731298903, 0.5558834313661345, 0.6328145469281254, 0.21647019849308738, 0.15008600428854058, 0.26322451704665256, 0.5703197869344139, 0.03045146373676961, 0.1249026139711567, 0.010838656584273928, 0.9980499735054144, 0.9968028560261966, 0.9982830051316072, 0.9964309072631121, 0.9951245243067453, 0.9974903212009567, 0.9945346161486724, 0.9976876542079228, 0.30444798900012476, 0.6957064487593213, 0.9986733194161512, 0.9940292955956072, 0.999195487046119, 0.9970478381899058, 0.9965343116113503, 0.9993585358900355, 0.9978189785209796, 0.0003055058636302396, 0.9339314251176425, 0.06568376068050151, 0.9965573666639516, 0.996235815269115, 0.9972620870928264, 0.9978165778720092, 0.9963798767366662, 0.9991960556146198, 0.14561636942232778, 0.21928218309165168, 0.2602678196184569, 0.0736658136693239, 0.11582504771782177, 0.13171375262689164, 0.05380493253298658, 0.9972912814689225, 0.02711761635746019, 0.9704232710776826, 0.9974676194632667, 0.9976649238384204, 0.9989699138110238, 0.9979633769276924, 0.9943920898010048, 0.9966519839152256, 0.606604736235945, 0.3014185024774882, 0.091681461170236, 0.9989264744741231, 0.1828207558345937, 0.05856595641454517, 0.22555807538034287, 0.08072604803085956, 0.45190758260412556, 0.9996101220297497, 0.9967590293837614, 0.9980703661862591, 0.9972727219723104, 0.3988568605872497, 0.0726366481026349, 0.057163752648819184, 0.404874097708178, 0.06618960833021169, 0.9977315659640669, 0.9987720051453742, 0.9986115101238633, 0.00888329434015574, 0.7994964906140166, 0.19162534933764525, 0.001926601038977945, 0.001155960623386767, 0.000385320207795589, 0.7174662269153868, 0.2789718304440064, 0.0009123937695650279, 0.9981587839041405, 0.08042740240711257, 0.09115105606139424, 0.7731754284737089, 0.05469063363683655, 0.012998359728346814, 0.772860805514621, 0.213931337195708, 0.9981297000606517, 0.6389117124100249, 0.18879195234510843, 0.17190004081949348, 0.9978494811231767, 0.5228959226280241, 0.10644923871932263, 0.17298001291889928, 0.028770064518735847, 0.16866450324108892, 0.3122917461877267, 0.4264095711965128, 0.09106077085100069, 0.05049202999109974, 0.10127592142723474, 0.018095409592186033, 0.025886820866505584, 0.13540798607095228, 0.8363434433794111, 0.9974860153701188, 0.9961614161574702, 0.9981264265084353, 0.997151644173773, 0.00224512453915913, 0.4445346587535078, 0.552300636633146, 0.9958011266921732, 0.525948244011349, 0.17566462225428756, 0.0015684341272704245, 0.029800248418138067, 0.04653021244235593, 0.22062640056937305, 0.32542403934329056, 0.09939307868314455, 0.37587737877635885, 0.049444272644406935, 0.12058348124503324, 0.0297674702655103, 0.4749554112220008, 0.05441700188875185, 0.37757761836844483, 0.09260437163524438, 0.014698030355452502, 0.11351883019211187, 0.3020914324120663, 0.016261650606032556, 0.527252748495594, 0.026268820209744897, 0.9979884713015222, 0.9990184523781169, 0.9970955340104132, 0.0844737936801369, 0.2011810086329576, 0.7135812571401038, 0.9986866580445775, 0.9980187547466912, 0.17631352642735987, 0.25503787876220985, 0.2546750937284087, 0.011246336047835712, 0.06820358635461657, 0.11282614551215826, 0.12189577135718707, 0.17747528766693743, 0.6069216627622428, 0.14241844072038187, 0.06354053509063191, 0.009859738203718747, 0.48726775977573, 0.2129814611601076, 0.021139599122591324, 0.18021508252009105, 0.09777064594198488, 0.9974871935414643, 0.995894115974665, 0.35042916971670757, 0.6156622568876101, 0.03375693836720577, 0.842641635549906, 0.12110327023481061, 0.03641566867200599, 0.09652891557153583, 0.658491827154663, 0.2439412905141138, 0.0007482861672212079, 0.996900057968746, 0.13711615568055988, 0.7055491505892887, 0.02129959699892192, 0.13578493086812726, 0.9958414154241169, 0.06218571109881872, 0.34823998215338486, 0.053376068693152735, 0.34098498252518933, 0.1279989220117352, 0.06425856813544602, 0.003109285554940936, 0.05260611857942484, 0.709170944695708, 0.006069936759164405, 0.23166925297477478, 0.9987336295919946, 0.995504238966279, 0.9968887934871498, 0.030673272968838625, 0.9679121692389077, 0.9520116896444365, 0.04780975214786875, 0.014844767182768163, 0.024048522836084427, 0.03740881330057577, 0.12796189311546158, 0.419216225241373, 0.2847226345654934, 0.09174066118950726, 0.9985420264810232, 0.9979072681969223, 0.9963083049622575, 0.017805753525445677, 0.9793164438995123, 0.9271154774578189, 0.07222095204834458, 0.9992109276618819, 0.9975688832194732, 0.9995101799792058, 0.9938065720461812, 0.9941379030377838, 0.9900362216789372, 0.010034150895394634, 0.9964247617016121, 0.997035429141963, 0.9970801588199608, 0.9969121678706647, 0.9988409570983694, 0.790698584301017, 0.12215385227197341, 0.0858378421370624, 0.9986733835927875, 0.6376882493506957, 0.361247946882811, 0.9961134289001669, 0.2510742580656397, 0.0018906194131448773, 0.16902137553515204, 0.07184353769950534, 0.15994640235205662, 0.2261180818121273, 0.12062151855864317, 0.02310233848868411, 0.976260110328264, 0.9975235467974046, 0.296564301549056, 0.003448422111035535, 0.562954909626551, 0.12414319599727926, 0.01379368844414214, 0.9975023541280271, 0.9986467926092664, 0.9983306255352559, 0.9555619813310092, 0.04180583668323166, 0.05892798272520482, 0.9403401498702897, 0.96774825284445, 0.03150808265074954, 0.9983971371247111, 0.9383257357285822, 0.05882041925462755, 0.03933241352766909, 0.9601736243519219, 0.2590945895224132, 0.33346883379432546, 0.00923601726252505, 0.23673370562366836, 0.00048610617171184465, 0.1307625601904862, 0.03013858264613437, 0.9976916584632647, 0.21199631385000367, 0.787695731832162, 0.9595814734736158, 0.038928254501972244, 0.0169141568176445, 0.981021095423381, 0.03970356282923667, 0.27909269165257544, 0.10860092185644148, 0.5721984054801755, 0.9985818025571727, 0.9980020090904252, 0.003914605525906374, 0.29751001996888443, 0.40152668108582523, 0.16888726697481785, 0.12862275299406659, 0.9975537778601883, 0.9986501574447392, 0.16201696276893174, 0.8357374996164062, 0.9966637750657976, 0.13405448948680615, 0.34444556326471026, 0.5203920807161434, 0.9992273905187623, 0.9984694008212602, 0.0024984517705291085, 0.32479873016878413, 0.6720835262723303, 0.858260274312594, 0.08688101113793431, 0.021099674133498333, 0.008688101113793431, 0.02420256738842456, 0.9975040219698942, 0.2068813651667531, 0.7921005693713354, 0.9983036279712689, 0.09355576565481004, 0.7503554265783744, 0.15465340853142068, 0.0009546506699470412, 0.5887918531169, 0.41074529564790263, 0.9975649944904843, 0.022968235988157726, 0.9761500294967034, 0.08281927467010415, 0.29888967283177253, 0.29518825273478466, 0.07587911198825185, 0.24753246898606548, 0.04939446832411926, 0.8462918906199101, 0.10372838348065046, 0.9987325159927418, 0.8082772046599208, 0.19112853237262217, 0.998721223471193, 0.9988384586566225, 0.0076794612003999235, 0.9906504948515902, 0.272608827903333, 0.7267037557200271, 0.7902046037116278, 0.20832666825124732, 0.9959301759735928, 0.9955546053889435, 0.4015570430479157, 0.35698675814302017, 0.11333586732959142, 0.10909107829102994, 0.006791662461698362, 0.012734367115684429, 0.997291227716138, 0.9976987269873221, 0.07961709289959538, 0.9178081542592246, 0.9950469509025948, 0.9962220320365593, 0.6201342852814564, 0.1118960683391498, 0.047059094161324685, 0.221177742558226, 0.5071971484940507, 0.353819844855566, 0.13898087802620823, 0.9955252876276592, 0.22131013026409832, 0.47308633040870884, 0.2718953028958922, 0.0028741575358973807, 0.030753485634101973, 0.04666596288994499, 0.0636750521675885, 0.7356067670502232, 0.15061039736443305, 0.003634420785821261, 0.1699779423742375, 0.8292167188797261, 0.996938798866241, 0.9986051437833692, 0.09748161266858285, 0.2346633982384837, 0.10927374323333076, 0.19810779348776514, 0.3164221701540693, 0.04363088308956732, 0.9995832983576584, 0.9994076880254696, 0.03423728710432445, 0.4304116093115074, 0.2892701400242923, 0.028123485835695086, 0.16262711374554115, 0.052753370946459106, 0.0024455205074517465, 0.9968021146876171, 0.9995247279719076, 0.9985452938170523, 0.1489162298307319, 0.018828488829173002, 0.5391794528354087, 0.1223851773896245, 0.17031223986388305, 0.25301833012634684, 0.041059992169626455, 0.7046782439922379, 0.14890984215436381, 0.19135610557219648, 0.651306599329367, 0.007654244222887859, 0.049524402071295694, 0.501798720987099, 0.3619651151387347, 0.08593940359430724, 0.9984753062209614, 0.43356591397011, 0.5662475310163846, 0.19665213807559942, 0.3518140851699308, 0.13015416074945743, 0.23899486722771549, 0.05712005744681429, 0.025007786344873915, 0.9973141347475252, 0.019471868303770516, 0.9235228966931159, 0.05702475717532794, 0.9930553898842257, 0.9948971483824954, 0.3364246699568463, 0.047468847736343106, 0.07612277036991749, 0.10391362304464928, 0.18072684938164085, 0.11030034074008453, 0.14499575308555712, 0.4681013819160312, 0.13967219409259243, 0.001995317058465606, 0.2426305543094177, 0.004389697528624333, 0.06345108245920628, 0.07941361892693112, 0.9023466883410346, 0.09595089219915978, 0.9945246024705984, 0.04003325401363104, 0.05337767201817471, 0.7299396648485392, 0.17614631765997657, 0.018135511678976604, 0.13458458667030007, 0.6967854487185747, 0.09067755839488302, 0.05917903811034471, 0.8491367216540774, 0.10636872812179189, 0.01933976874941671, 0.024174710936770885, 0.0006043677734192722, 0.998154509406478, 0.998519330135349, 0.25414791519104124, 0.15056662202494459, 0.03523899664413597, 0.026696209578890885, 0.532856343194662, 0.11030955122134452, 0.16682954405010272, 0.1234156365149696, 0.06334607891918793, 0.3415773479651039, 0.16682954405010272, 0.02730434436171894, 0.3111855230140589, 0.5207275334858372, 0.05525237092041917, 0.11258973696991074, 0.9984858966480038, 0.9967455103189359, 0.0037956976681335543, 0.021255906941547904, 0.9751147309435101, 0.7427471780010885, 0.19203723206868087, 0.0650284807005057, 0.8841199146525338, 0.04635191785556973, 0.06924175383362886, 0.4755646202803571, 0.04414928866376676, 0.055186610829708445, 0.4246969616025389, 0.9983056996249611, 0.15733382483501762, 0.1620212315334702, 0.06256668940978032, 0.2127675040515005, 0.09089492989173298, 0.21786251133242723, 0.09639753775513385, 0.9962835752222069, 0.9983895923061034, 0.9985529741001139, 0.9924725011002302, 0.004794553145411741, 0.9970828216018761, 0.9960959723774372, 0.99671086213056, 0.9989813785110706, 0.9977949644755214, 0.9985672764362078, 0.04775728903901204, 0.0020585038378884498, 0.20749718685915575, 0.06710722511516347, 0.3445935424625265, 0.33018401559730737, 0.9992342271826533, 0.9965308975734036, 0.9978220531464332, 0.4532961647911276, 0.5459775367744437, 0.9937882720292263, 0.36893119908097227, 0.5528800882585999, 0.02376867669149121, 0.05373787773728447, 0.006470526580000404, 0.9565595127433931, 0.03558789619000222, 0.8916640317559462, 0.10808048869769045, 0.9935622229278619, 0.2511967024575291, 0.7474633585321598, 0.9976433291925837, 0.3782830693220322, 0.003535355788056376, 0.06010104839695839, 0.5577023755658933, 0.23803319137501844, 0.761706212400059, 0.9983034776812127, 0.9993269694613482, 0.13264124258307128, 0.06272182788811898, 0.616936012014285, 0.18713725697766645, 0.9942179986488022, 0.9973895342987895, 0.998292641792843, 0.9965064906509873, 0.9748076153296762, 0.023457937267291673, 0.9507561649411445, 0.04853047709676375, 0.9974683283006576, 0.9990706487882992, 0.9979588789291074, 0.9950374696444283, 0.05203101275013789, 0.9469644320525097, 0.6036622228975985, 0.04325759890329007, 0.26270485626099194, 0.08530009671379109, 0.005103424589713997, 0.9985221199978872, 0.9995055872170506, 0.9976543888226538, 0.9385960288370545, 0.05890770055462685, 0.9975475307419449, 0.9958659987575945, 0.9989253357727375, 0.9975665405723916, 0.0997166848934795, 0.24818169347792718, 0.2144186229898752, 0.1577151648825441, 0.12422959908343503, 0.08565644732037292, 0.07002368317658997, 0.9961668186389898, 0.041878418352217894, 0.2247956479366179, 0.2536773157657337, 0.13093022749199157, 0.07557369748618632, 0.21131753628303054, 0.06161422470211369, 0.9960340440102989, 0.9985697281602837], \"Term\": [\"apple\", \"google\", \"iphone\", \"mail\", \"mail\", \"microsoft\", \"playstation\", \"xbox\", \"youtube\", \"\\u0430\\u0432\\u0441\\u0442\\u0440\\u0430\\u043b\\u0438\\u0439\\u0441\\u043a\\u0438\\u0439\", \"\\u0430\\u0432\\u0442\\u043e\\u0440\", \"\\u0430\\u0432\\u0442\\u043e\\u0440\", \"\\u0430\\u0433\\u0435\\u043d\\u0442\\u0441\\u0442\\u0432\\u043e\", \"\\u0430\\u0433\\u0435\\u043d\\u0442\\u0441\\u0442\\u0432\\u043e\", \"\\u0430\\u0433\\u0435\\u043d\\u0442\\u0441\\u0442\\u0432\\u043e\", \"\\u0430\\u0433\\u0435\\u043d\\u0442\\u0441\\u0442\\u0432\\u043e\", \"\\u0430\\u0433\\u0435\\u043d\\u0442\\u0441\\u0442\\u0432\\u043e\", \"\\u0430\\u0433\\u0435\\u043d\\u0442\\u0441\\u0442\\u0432\\u043e\", \"\\u0430\\u0434\\u0432\\u043e\\u043a\\u0430\\u0442\", \"\\u0430\\u0434\\u0432\\u043e\\u043a\\u0430\\u0442\", \"\\u0430\\u043a\\u043a\\u0430\\u0443\\u043d\\u0442\", \"\\u0430\\u043d\\u0430\\u043b\\u0438\\u0437\", \"\\u0430\\u0440\\u0435\\u0441\\u0442\\u043e\\u0432\\u0430\\u0442\\u044c\", \"\\u0430\\u0440\\u043c\\u0438\\u044f\", \"\\u0430\\u0443\\u043a\\u0446\\u0438\\u043e\\u043d\", \"\\u0430\\u044d\\u0440\\u043e\\u043f\\u043e\\u0440\\u0442\", \"\\u0431\\u043b\\u043e\\u0433\", \"\\u0431\\u043e\\u0435\\u0432\\u0438\\u043a\", \"\\u0431\\u043e\\u043b\\u044c\\u043d\\u0438\\u0446\\u0430\", \"\\u0431\\u043e\\u043b\\u044c\\u0448\\u043e\\u0439\", \"\\u0431\\u043e\\u043b\\u044c\\u0448\\u043e\\u0439\", \"\\u0431\\u043e\\u043b\\u044c\\u0448\\u043e\\u0439\", \"\\u0431\\u043e\\u043b\\u044c\\u0448\\u043e\\u0439\", \"\\u0431\\u043e\\u043b\\u044c\\u0448\\u043e\\u0439\", \"\\u0431\\u043e\\u0440\\u0442\", \"\\u0431\\u044b\\u0432\\u0448\\u0438\\u0439\", \"\\u0431\\u044b\\u0432\\u0448\\u0438\\u0439\", \"\\u0431\\u044b\\u0432\\u0448\\u0438\\u0439\", \"\\u0431\\u044b\\u0432\\u0448\\u0438\\u0439\", \"\\u0431\\u044b\\u0432\\u0448\\u0438\\u0439\", \"\\u0432\\u0430\\u0448\\u0438\\u043d\\u0433\\u0442\\u043e\\u043d\", \"\\u0432\\u0430\\u0448\\u0438\\u043d\\u0433\\u0442\\u043e\\u043d\", \"\\u0432\\u0432\\u0441\", \"\\u0432\\u0432\\u0441\", \"\\u0432\\u0435\\u0440\\u0441\\u0438\\u044f\", \"\\u0432\\u0435\\u0440\\u0441\\u0438\\u044f\", \"\\u0432\\u0435\\u0440\\u0441\\u0438\\u044f\", \"\\u0432\\u0435\\u0440\\u0442\\u043e\\u043b\\u0451\\u0442\", \"\\u0432\\u0435\\u0440\\u0445\\u043e\\u0432\\u043d\\u044b\\u0439\", \"\\u0432\\u0435\\u0441\\u044c\", \"\\u0432\\u0435\\u0441\\u044c\", \"\\u0432\\u0435\\u0441\\u044c\", \"\\u0432\\u0435\\u0441\\u044c\", \"\\u0432\\u0435\\u0441\\u044c\", \"\\u0432\\u0435\\u0441\\u044c\", \"\\u0432\\u0435\\u0441\\u044c\", \"\\u0432\\u0435\\u0449\\u0435\\u0441\\u0442\\u0432\\u043e\", \"\\u0432\\u0437\\u0440\\u044b\\u0432\", \"\\u0432\\u0437\\u044f\\u0442\\u043a\\u0430\", \"\\u0432\\u0438\\u0434\", \"\\u0432\\u0438\\u0434\", \"\\u0432\\u0438\\u0434\", \"\\u0432\\u0438\\u0434\", \"\\u0432\\u0438\\u0434\", \"\\u0432\\u0438\\u0446\\u0430\", \"\\u0432\\u043b\\u0430\\u0434\\u0438\\u043c\\u0438\\u0440\", \"\\u0432\\u043b\\u0430\\u0434\\u0438\\u043c\\u0438\\u0440\", \"\\u0432\\u043b\\u0430\\u0434\\u0438\\u043c\\u0438\\u0440\", \"\\u0432\\u043b\\u0430\\u0434\\u0438\\u043c\\u0438\\u0440\", \"\\u0432\\u043b\\u0430\\u0434\\u0438\\u043c\\u0438\\u0440\", \"\\u0432\\u043b\\u0430\\u0441\\u0442\\u044c\", \"\\u0432\\u043b\\u0430\\u0441\\u0442\\u044c\", \"\\u0432\\u043b\\u0430\\u0441\\u0442\\u044c\", \"\\u0432\\u043b\\u0430\\u0441\\u0442\\u044c\", \"\\u0432\\u043d\\u0435\\u0441\\u0442\\u0438\", \"\\u0432\\u043d\\u0438\\u043c\\u0430\\u043d\\u0438\\u0435\", \"\\u0432\\u043d\\u0438\\u043c\\u0430\\u043d\\u0438\\u0435\", \"\\u0432\\u043e\\u0434\\u0438\\u0442\\u0435\\u043b\\u044c\", \"\\u0432\\u043e\\u0434\\u0438\\u0442\\u0435\\u043b\\u044c\", \"\\u0432\\u043e\\u0435\\u043d\\u043d\\u044b\\u0439\", \"\\u0432\\u043e\\u0435\\u043d\\u043d\\u044b\\u0439\", \"\\u0432\\u043e\\u0435\\u043d\\u043d\\u044b\\u0439\", \"\\u0432\\u043e\\u0437\\u0431\\u0443\\u0434\\u0438\\u0442\\u044c\", \"\\u0432\\u043e\\u0437\\u0434\\u0443\\u0448\\u043d\\u044b\\u0439\", \"\\u0432\\u043e\\u0437\\u0440\\u0430\\u0441\\u0442\", \"\\u0432\\u043e\\u043f\\u0440\\u043e\\u0441\", \"\\u0432\\u043e\\u043f\\u0440\\u043e\\u0441\", \"\\u0432\\u043e\\u043f\\u0440\\u043e\\u0441\", \"\\u0432\\u043e\\u043f\\u0440\\u043e\\u0441\", \"\\u0432\\u0440\\u0435\\u043c\\u044f\", \"\\u0432\\u0440\\u0435\\u043c\\u044f\", \"\\u0432\\u0440\\u0435\\u043c\\u044f\", \"\\u0432\\u0440\\u0435\\u043c\\u044f\", \"\\u0432\\u0440\\u0435\\u043c\\u044f\", \"\\u0432\\u0440\\u0435\\u043c\\u044f\", \"\\u0432\\u0440\\u0435\\u043c\\u044f\", \"\\u0432\\u0441\\u0442\\u0440\\u0435\\u0447\\u0430\", \"\\u0432\\u0441\\u0442\\u0440\\u0435\\u0447\\u0430\", \"\\u0432\\u0441\\u0451\", \"\\u0432\\u0441\\u0451\", \"\\u0432\\u0441\\u0451\", \"\\u0432\\u0441\\u0451\", \"\\u0432\\u0441\\u0451\", \"\\u0432\\u0441\\u0451\", \"\\u0432\\u0441\\u0451\", \"\\u0432\\u0442\\u043e\\u0440\\u043e\\u0439\", \"\\u0432\\u0442\\u043e\\u0440\\u043e\\u0439\", \"\\u0432\\u0442\\u043e\\u0440\\u043e\\u0439\", \"\\u0432\\u0442\\u043e\\u0440\\u043e\\u0439\", \"\\u0432\\u0442\\u043e\\u0440\\u043e\\u0439\", \"\\u0432\\u0442\\u043e\\u0440\\u043e\\u0439\", \"\\u0432\\u044b\\u0431\\u043e\\u0440\\u044b\", \"\\u0432\\u044b\\u0438\\u0433\\u0440\\u0430\\u0442\\u044c\", \"\\u0432\\u044b\\u043f\\u0443\\u0441\\u0442\\u0438\\u0442\\u044c\", \"\\u0432\\u044b\\u0441\\u0442\\u0443\\u043f\\u043b\\u0435\\u043d\\u0438\\u0435\", \"\\u0432\\u044b\\u044f\\u0441\\u043d\\u0438\\u0442\\u044c\", \"\\u0433\\u0430\\u0437\", \"\\u0433\\u0430\\u0437\\u0435\\u0442\\u0430\", \"\\u0433\\u0430\\u0437\\u0435\\u0442\\u0430\", \"\\u0433\\u0430\\u0437\\u0435\\u0442\\u0430\", \"\\u0433\\u0430\\u0437\\u0435\\u0442\\u0430\", \"\\u0433\\u0435\\u043d\\u043f\\u0440\\u043e\\u043a\\u0443\\u0440\\u0430\\u0442\\u0443\\u0440\\u0430\", \"\\u0433\\u043b\\u0430\\u0432\\u0430\", \"\\u0433\\u043b\\u0430\\u0432\\u0430\", \"\\u0433\\u043b\\u0430\\u0432\\u0430\", \"\\u0433\\u043b\\u0430\\u0432\\u0430\", \"\\u0433\\u043e\\u0432\\u043e\\u0440\\u0438\\u0442\\u044c\\u0441\\u044f\", \"\\u0433\\u043e\\u0432\\u043e\\u0440\\u0438\\u0442\\u044c\\u0441\\u044f\", \"\\u0433\\u043e\\u0432\\u043e\\u0440\\u0438\\u0442\\u044c\\u0441\\u044f\", \"\\u0433\\u043e\\u0432\\u043e\\u0440\\u0438\\u0442\\u044c\\u0441\\u044f\", \"\\u0433\\u043e\\u0432\\u043e\\u0440\\u0438\\u0442\\u044c\\u0441\\u044f\", \"\\u0433\\u043e\\u0434\", \"\\u0433\\u043e\\u0434\", \"\\u0433\\u043e\\u0434\", \"\\u0433\\u043e\\u0434\", \"\\u0433\\u043e\\u0434\", \"\\u0433\\u043e\\u0434\", \"\\u0433\\u043e\\u0434\", \"\\u0433\\u043e\\u043b\", \"\\u0433\\u043e\\u043b\\u043e\\u0441\", \"\\u0433\\u043e\\u043b\\u043e\\u0441\\u043e\\u0432\\u0430\\u043d\\u0438\\u0435\", \"\\u0433\\u043e\\u0440\\u043e\\u0434\", \"\\u0433\\u043e\\u0440\\u043e\\u0434\", \"\\u0433\\u043e\\u0440\\u043e\\u0434\", \"\\u0433\\u043e\\u0440\\u043e\\u0434\", \"\\u0433\\u043e\\u0441\\u0434\\u0443\\u043c\\u0430\", \"\\u0433\\u043e\\u0441\\u0434\\u0443\\u043c\\u0430\", \"\\u0433\\u043e\\u0441\\u043f\\u0438\\u0442\\u0430\\u043b\\u0438\\u0437\\u0438\\u0440\\u043e\\u0432\\u0430\\u0442\\u044c\", \"\\u0433\\u043e\\u0441\\u0443\\u0434\\u0430\\u0440\\u0441\\u0442\\u0432\\u0435\\u043d\\u043d\\u044b\\u0439\", \"\\u0433\\u043e\\u0441\\u0443\\u0434\\u0430\\u0440\\u0441\\u0442\\u0432\\u0435\\u043d\\u043d\\u044b\\u0439\", \"\\u0433\\u043e\\u0441\\u0443\\u0434\\u0430\\u0440\\u0441\\u0442\\u0432\\u0435\\u043d\\u043d\\u044b\\u0439\", \"\\u0433\\u043e\\u0441\\u0443\\u0434\\u0430\\u0440\\u0441\\u0442\\u0432\\u043e\", \"\\u0433\\u043e\\u0441\\u0443\\u0434\\u0430\\u0440\\u0441\\u0442\\u0432\\u043e\", \"\\u0433\\u0440\\u0443\\u043f\\u043f\\u0438\\u0440\\u043e\\u0432\\u043a\\u0430\", \"\\u0433\\u0443\\u0431\\u0435\\u0440\\u043d\\u0430\\u0442\\u043e\\u0440\", \"\\u0433\\u0443\\u0431\\u0435\\u0440\\u043d\\u0430\\u0442\\u043e\\u0440\", \"\\u0434\\u0430\\u043d\\u043d\\u044b\\u0435\", \"\\u0434\\u0430\\u043d\\u043d\\u044b\\u0435\", \"\\u0434\\u0430\\u043d\\u043d\\u044b\\u0435\", \"\\u0434\\u0430\\u043d\\u043d\\u044b\\u0435\", \"\\u0434\\u0430\\u043d\\u043d\\u044b\\u0435\", \"\\u0434\\u0430\\u043d\\u043d\\u044b\\u0435\", \"\\u0434\\u0432\\u043e\\u0435\", \"\\u0434\\u0435\\u043b\\u043e\", \"\\u0434\\u0435\\u043b\\u043e\", \"\\u0434\\u0435\\u043b\\u043e\", \"\\u0434\\u0435\\u043f\\u0430\\u0440\\u0442\\u0430\\u043c\\u0435\\u043d\\u0442\", \"\\u0434\\u0435\\u043f\\u0430\\u0440\\u0442\\u0430\\u043c\\u0435\\u043d\\u0442\", \"\\u0434\\u0435\\u043f\\u0443\\u0442\\u0430\\u0442\", \"\\u0434\\u0435\\u043f\\u0443\\u0442\\u0430\\u0442\", \"\\u0434\\u0436\\u043e\\u0440\\u0434\\u0436\", \"\\u0434\\u0438\\u043d\\u0430\\u043c\\u043e\", \"\\u0434\\u043c\\u0438\\u0442\\u0440\\u0438\\u0439\", \"\\u0434\\u043c\\u0438\\u0442\\u0440\\u0438\\u0439\", \"\\u0434\\u043c\\u0438\\u0442\\u0440\\u0438\\u0439\", \"\\u0434\\u043c\\u0438\\u0442\\u0440\\u0438\\u0439\", \"\\u0434\\u043c\\u0438\\u0442\\u0440\\u0438\\u0439\", \"\\u0434\\u043e\\u043b\\u043b\\u0430\\u0440\", \"\\u0434\\u043e\\u043c\", \"\\u0434\\u043e\\u043c\", \"\\u0434\\u0440\\u0443\\u0433\", \"\\u0434\\u0440\\u0443\\u0433\", \"\\u0434\\u0440\\u0443\\u0433\", \"\\u0434\\u0440\\u0443\\u0433\", \"\\u0434\\u0443\\u043c\\u0430\", \"\\u0435\\u0434\\u0438\\u043d\\u044b\\u0439\", \"\\u0436\\u0435\\u043b\\u0435\\u0437\\u043d\\u043e\\u0434\\u043e\\u0440\\u043e\\u0436\\u043d\\u044b\\u0439\", \"\\u0436\\u0435\\u043d\\u0449\\u0438\\u043d\\u0430\", \"\\u0436\\u0435\\u043d\\u0449\\u0438\\u043d\\u0430\", \"\\u0436\\u0438\\u0432\\u043e\\u0439\", \"\\u0436\\u0438\\u0432\\u043e\\u0442\\u043d\\u043e\\u0435\", \"\\u0436\\u0438\\u0437\\u043d\\u044c\", \"\\u0436\\u0438\\u0437\\u043d\\u044c\", \"\\u0436\\u0438\\u0437\\u043d\\u044c\", \"\\u0436\\u0438\\u0437\\u043d\\u044c\", \"\\u0436\\u0438\\u0442\\u044c\", \"\\u0436\\u0443\\u0440\\u043d\\u0430\\u043b\", \"\\u0436\\u0443\\u0440\\u043d\\u0430\\u043b\", \"\\u0436\\u0443\\u0440\\u043d\\u0430\\u043b\\u0438\\u0441\\u0442\", \"\\u0436\\u0443\\u0440\\u043d\\u0430\\u043b\\u0438\\u0441\\u0442\", \"\\u0437\\u0430\\u0434\\u0435\\u0440\\u0436\\u0430\\u043d\\u0438\\u0435\", \"\\u0437\\u0430\\u0434\\u0435\\u0440\\u0436\\u0430\\u0442\\u044c\", \"\\u0437\\u0430\\u043a\\u043e\\u043d\", \"\\u0437\\u0430\\u043a\\u043e\\u043d\\u043e\\u0434\\u0430\\u0442\\u0435\\u043b\\u044c\\u0441\\u0442\\u0432\\u043e\", \"\\u0437\\u0430\\u043a\\u043e\\u043d\\u043e\\u043f\\u0440\\u043e\\u0435\\u043a\\u0442\", \"\\u0437\\u0430\\u043c\\u0435\\u0442\\u0438\\u0442\\u044c\", \"\\u0437\\u0430\\u043c\\u0435\\u0442\\u0438\\u0442\\u044c\", \"\\u0437\\u0430\\u043f\\u0440\\u0435\\u0442\\u0438\\u0442\\u044c\", \"\\u0437\\u0430\\u043f\\u0443\\u0441\\u0442\\u0438\\u0442\\u044c\", \"\\u0437\\u0430\\u043f\\u0443\\u0441\\u0442\\u0438\\u0442\\u044c\", \"\\u0437\\u0430\\u044f\\u0432\\u0438\\u0442\\u044c\", \"\\u0437\\u0430\\u044f\\u0432\\u0438\\u0442\\u044c\", \"\\u0437\\u0430\\u044f\\u0432\\u0438\\u0442\\u044c\", \"\\u0437\\u0430\\u044f\\u0432\\u0438\\u0442\\u044c\", \"\\u0437\\u0430\\u044f\\u0432\\u0438\\u0442\\u044c\", \"\\u0437\\u0430\\u044f\\u0432\\u043b\\u0435\\u043d\\u0438\\u0435\", \"\\u0437\\u0430\\u044f\\u0432\\u043b\\u0435\\u043d\\u0438\\u0435\", \"\\u0437\\u0430\\u044f\\u0432\\u043b\\u0435\\u043d\\u0438\\u0435\", \"\\u0437\\u0432\\u0435\\u0437\\u0434\\u0430\", \"\\u0437\\u0434\\u0430\\u043d\\u0438\\u0435\", \"\\u0437\\u0434\\u0440\\u0430\\u0432\\u043e\\u043e\\u0445\\u0440\\u0430\\u043d\\u0435\\u043d\\u0438\\u0435\", \"\\u0437\\u0435\\u043c\\u043b\\u044f\", \"\\u0437\\u0435\\u043c\\u043b\\u044f\", \"\\u0438\\u0433\\u0440\\u0430\", \"\\u0438\\u0433\\u0440\\u0430\", \"\\u0438\\u0433\\u0440\\u043e\\u043a\", \"\\u0438\\u0433\\u0440\\u043e\\u043a\", \"\\u0438\\u0437\\u0431\\u0438\\u0440\\u0430\\u0442\\u0435\\u043b\\u044c\", \"\\u0438\\u0437\\u0431\\u0438\\u0440\\u0430\\u0442\\u0435\\u043b\\u044c\\u043d\\u044b\\u0439\", \"\\u0438\\u0437\\u0434\\u0430\\u043d\\u0438\\u0435\", \"\\u0438\\u0437\\u0434\\u0430\\u043d\\u0438\\u0435\", \"\\u0438\\u0437\\u0434\\u0430\\u043d\\u0438\\u0435\", \"\\u0438\\u0437\\u0434\\u0430\\u043d\\u0438\\u0435\", \"\\u0438\\u0437\\u0434\\u0430\\u043d\\u0438\\u0435\", \"\\u0438\\u043d\\u0438\\u0446\\u0438\\u0430\\u0442\\u0438\\u0432\\u0430\", \"\\u0438\\u043d\\u0442\\u0435\\u0440\\u0432\\u044c\\u044e\", \"\\u0438\\u043d\\u0442\\u0435\\u0440\\u0432\\u044c\\u044e\", \"\\u0438\\u043d\\u0442\\u0435\\u0440\\u0432\\u044c\\u044e\", \"\\u0438\\u043d\\u0442\\u0435\\u0440\\u043d\\u0435\\u0442\", \"\\u0438\\u043d\\u0442\\u0435\\u0440\\u043d\\u0435\\u0442\", \"\\u0438\\u043d\\u0442\\u0435\\u0440\\u043d\\u0435\\u0442\", \"\\u0438\\u043d\\u0442\\u0435\\u0440\\u0444\\u0430\\u043a\\u0441\", \"\\u0438\\u043d\\u0442\\u0435\\u0440\\u0444\\u0430\\u043a\\u0441\", \"\\u0438\\u043d\\u0442\\u0435\\u0440\\u0444\\u0430\\u043a\\u0441\", \"\\u0438\\u043d\\u0444\\u043e\\u0440\\u043c\\u0430\\u0446\\u0438\\u044f\", \"\\u0438\\u043d\\u0444\\u043e\\u0440\\u043c\\u0430\\u0446\\u0438\\u044f\", \"\\u0438\\u043d\\u0444\\u043e\\u0440\\u043c\\u0430\\u0446\\u0438\\u044f\", \"\\u0438\\u043d\\u0444\\u043e\\u0440\\u043c\\u0430\\u0446\\u0438\\u044f\", \"\\u0438\\u043d\\u0444\\u043e\\u0440\\u043c\\u0430\\u0446\\u0438\\u044f\", \"\\u0438\\u043d\\u0446\\u0438\\u0434\\u0435\\u043d\\u0442\", \"\\u0438\\u0441\\u043a\", \"\\u0438\\u0441\\u0441\\u043b\\u0435\\u0434\\u043e\\u0432\\u0430\\u043d\\u0438\\u0435\", \"\\u0438\\u0441\\u0441\\u043b\\u0435\\u0434\\u043e\\u0432\\u0430\\u0442\\u0435\\u043b\\u044c\", \"\\u043a\\u0430\\u043c\\u043f\\u0430\\u043d\\u0438\\u044f\", \"\\u043a\\u0430\\u043d\\u0434\\u0438\\u0434\\u0430\\u0442\", \"\\u043a\\u0430\\u043d\\u0434\\u0438\\u0434\\u0430\\u0442\\u0443\\u0440\\u0430\", \"\\u043a\\u0432\\u0430\\u0440\\u0442\\u0430\\u043b\", \"\\u043a\\u0438\\u043b\\u043e\\u043c\\u0435\\u0442\\u0440\", \"\\u043a\\u0438\\u043b\\u043e\\u043c\\u0435\\u0442\\u0440\", \"\\u043a\\u0438\\u0442\\u0430\\u0439\\u0441\\u043a\\u0438\\u0439\", \"\\u043a\\u043b\\u0435\\u0442\\u043a\\u0430\", \"\\u043a\\u043b\\u0443\\u0431\", \"\\u043a\\u043d\\u0438\\u0433\\u0430\", \"\\u043a\\u043e\\u0434\\u0435\\u043a\\u0441\", \"\\u043a\\u043e\\u043c\\u0430\\u043d\\u0434\\u0430\", \"\\u043a\\u043e\\u043c\\u043c\\u0435\\u043d\\u0442\\u0438\\u0440\\u043e\\u0432\\u0430\\u0442\\u044c\", \"\\u043a\\u043e\\u043c\\u043f\\u0430\\u043d\\u0438\\u044f\", \"\\u043a\\u043e\\u043c\\u043f\\u0430\\u043d\\u0438\\u044f\", \"\\u043a\\u043e\\u043c\\u043f\\u0430\\u043d\\u0438\\u044f\", \"\\u043a\\u043e\\u043c\\u043f\\u0435\\u043d\\u0441\\u0430\\u0446\\u0438\\u044f\", \"\\u043a\\u043e\\u043c\\u043f\\u043b\\u0435\\u043a\\u0441\", \"\\u043a\\u043e\\u043c\\u043f\\u044c\\u044e\\u0442\\u0435\\u0440\", \"\\u043a\\u043e\\u043d\\u0441\\u043e\\u043b\\u044c\", \"\\u043a\\u043e\\u043d\\u0442\\u0440\\u043e\\u043b\\u044c\", \"\\u043a\\u043e\\u0440\\u0430\\u0431\\u043b\\u044c\", \"\\u043a\\u043e\\u0442\\u043e\\u0440\\u044b\\u0439\", \"\\u043a\\u043e\\u0442\\u043e\\u0440\\u044b\\u0439\", \"\\u043a\\u043e\\u0442\\u043e\\u0440\\u044b\\u0439\", \"\\u043a\\u043e\\u0442\\u043e\\u0440\\u044b\\u0439\", \"\\u043a\\u043e\\u0442\\u043e\\u0440\\u044b\\u0439\", \"\\u043a\\u043e\\u0442\\u043e\\u0440\\u044b\\u0439\", \"\\u043a\\u043e\\u0442\\u043e\\u0440\\u044b\\u0439\", \"\\u043a\\u043f\\u0440\\u0444\", \"\\u043a\\u0440\\u0430\\u0439\", \"\\u043a\\u0440\\u0430\\u0439\", \"\\u043a\\u0440\\u0435\\u043c\\u043b\\u044c\", \"\\u043a\\u0440\\u044b\\u043c\", \"\\u043a\\u0443\\u0431\\u043e\\u043a\", \"\\u043a\\u0443\\u043f\\u0438\\u0442\\u044c\", \"\\u043b\\u0430\\u0432\\u0440\\u043e\\u0432\", \"\\u043b\\u0434\\u043f\\u0440\", \"\\u043b\\u0435\\u0442\\u043d\\u0438\\u0439\", \"\\u043b\\u0435\\u0442\\u043d\\u0438\\u0439\", \"\\u043b\\u0435\\u0442\\u043d\\u0438\\u0439\", \"\\u043b\\u0438\\u0433\\u0430\", \"\\u043c\\u0430\\u0439\", \"\\u043c\\u0430\\u0439\", \"\\u043c\\u0430\\u0439\", \"\\u043c\\u0430\\u0439\", \"\\u043c\\u0430\\u0439\", \"\\u043c\\u0430\\u0442\\u0447\", \"\\u043c\\u0430\\u0442\\u044c\", \"\\u043c\\u0432\\u0434\", \"\\u043c\\u0435\\u0434\\u0432\\u0435\\u0434\\u0435\\u0432\", \"\\u043c\\u0435\\u0441\\u0442\\u043e\", \"\\u043c\\u0435\\u0441\\u0442\\u043e\", \"\\u043c\\u0435\\u0441\\u0442\\u043e\", \"\\u043c\\u0435\\u0441\\u0442\\u043e\", \"\\u043c\\u0435\\u0441\\u0442\\u043e\", \"\\u043c\\u0435\\u0442\\u043e\\u0434\", \"\\u043c\\u0438\\u0434\", \"\\u043c\\u0438\\u043b\\u0438\\u0446\\u0438\\u044f\", \"\\u043c\\u0438\\u043b\\u043b\\u0438\\u0430\\u0440\\u0434\", \"\\u043c\\u0438\\u043b\\u043b\\u0438\\u0430\\u0440\\u0434\", \"\\u043c\\u0438\\u043b\\u043b\\u0438\\u0430\\u0440\\u0434\", \"\\u043c\\u0438\\u043b\\u043b\\u0438\\u043e\\u043d\", \"\\u043c\\u0438\\u043b\\u043b\\u0438\\u043e\\u043d\", \"\\u043c\\u0438\\u043b\\u043b\\u0438\\u043e\\u043d\", \"\\u043c\\u0438\\u043b\\u043b\\u0438\\u043e\\u043d\", \"\\u043c\\u0438\\u043b\\u043b\\u0438\\u043e\\u043d\", \"\\u043c\\u0438\\u043d\\u0438\\u0441\\u0442\\u0440\", \"\\u043c\\u0438\\u043d\\u0438\\u0441\\u0442\\u0440\", \"\\u043c\\u0438\\u043d\\u0443\\u0442\\u0430\", \"\\u043c\\u0438\\u043d\\u0443\\u0442\\u0430\", \"\\u043c\\u0438\\u043d\\u0443\\u0442\\u0430\", \"\\u043c\\u0438\\u043d\\u0443\\u0442\\u0430\", \"\\u043c\\u0438\\u0440\", \"\\u043c\\u0438\\u0440\", \"\\u043c\\u0438\\u0440\", \"\\u043c\\u0438\\u0442\\u0438\\u043d\\u0433\", \"\\u043c\\u043d\\u0435\\u043d\\u0438\\u0435\", \"\\u043c\\u043d\\u0435\\u043d\\u0438\\u0435\", \"\\u043c\\u043d\\u0435\\u043d\\u0438\\u0435\", \"\\u043c\\u043e\\u0431\\u0438\\u043b\\u044c\\u043d\\u044b\\u0439\", \"\\u043c\\u043e\\u0441\\u043a\\u0432\\u0430\", \"\\u043c\\u043e\\u0441\\u043a\\u0432\\u0430\", \"\\u043c\\u043e\\u0441\\u043a\\u0432\\u0430\", \"\\u043c\\u043e\\u0441\\u043a\\u0432\\u0430\", \"\\u043c\\u043e\\u0441\\u043a\\u0432\\u0430\", \"\\u043c\\u043e\\u0447\\u044c\", \"\\u043c\\u043e\\u0447\\u044c\", \"\\u043c\\u043e\\u0447\\u044c\", \"\\u043c\\u043e\\u0447\\u044c\", \"\\u043c\\u043e\\u0447\\u044c\", \"\\u043c\\u043e\\u0447\\u044c\", \"\\u043c\\u044d\\u0440\", \"\\u043c\\u044d\\u0440\", \"\\u043c\\u044d\\u0440\", \"\\u043c\\u044f\\u0447\", \"\\u043d\\u0430\\u043a\\u0430\\u0437\\u0430\\u043d\\u0438\\u0435\", \"\\u043d\\u0430\\u043f\\u0430\\u0434\\u0435\\u043d\\u0438\\u0435\", \"\\u043d\\u0430\\u0440\\u043e\\u0434\\u043d\\u044b\\u0439\", \"\\u043d\\u0430\\u0440\\u0443\\u0448\\u0435\\u043d\\u0438\\u0435\", \"\\u043d\\u0430\\u0440\\u0443\\u0448\\u0435\\u043d\\u0438\\u0435\", \"\\u043d\\u0430\\u0440\\u0443\\u0448\\u0435\\u043d\\u0438\\u0435\", \"\\u043d\\u0430\\u0442\\u043e\", \"\\u043d\\u0430\\u0445\\u043e\\u0434\\u0438\\u0442\\u044c\\u0441\\u044f\", \"\\u043d\\u0430\\u0445\\u043e\\u0434\\u0438\\u0442\\u044c\\u0441\\u044f\", \"\\u043d\\u0430\\u0445\\u043e\\u0434\\u0438\\u0442\\u044c\\u0441\\u044f\", \"\\u043d\\u0430\\u0445\\u043e\\u0434\\u0438\\u0442\\u044c\\u0441\\u044f\", \"\\u043d\\u0430\\u0445\\u043e\\u0434\\u0438\\u0442\\u044c\\u0441\\u044f\", \"\\u043d\\u0430\\u0445\\u043e\\u0434\\u0438\\u0442\\u044c\\u0441\\u044f\", \"\\u043d\\u0435\\u0441\\u043a\\u043e\\u043b\\u044c\\u043a\\u043e\", \"\\u043d\\u0435\\u0441\\u043a\\u043e\\u043b\\u044c\\u043a\\u043e\", \"\\u043d\\u0435\\u0441\\u043a\\u043e\\u043b\\u044c\\u043a\\u043e\", \"\\u043d\\u0435\\u0441\\u043a\\u043e\\u043b\\u044c\\u043a\\u043e\", \"\\u043d\\u0435\\u0441\\u043a\\u043e\\u043b\\u044c\\u043a\\u043e\", \"\\u043d\\u0435\\u0441\\u043a\\u043e\\u043b\\u044c\\u043a\\u043e\", \"\\u043d\\u043e\\u0432\\u043e\\u0441\\u0442\\u044c\", \"\\u043d\\u043e\\u0432\\u043e\\u0441\\u0442\\u044c\", \"\\u043d\\u043e\\u0432\\u043e\\u0441\\u0442\\u044c\", \"\\u043d\\u043e\\u0432\\u043e\\u0441\\u0442\\u044c\", \"\\u043d\\u043e\\u0432\\u044b\\u0439\", \"\\u043d\\u043e\\u0432\\u044b\\u0439\", \"\\u043d\\u043e\\u0432\\u044b\\u0439\", \"\\u043d\\u043e\\u0432\\u044b\\u0439\", \"\\u043d\\u043e\\u0432\\u044b\\u0439\", \"\\u043d\\u043e\\u0432\\u044b\\u0439\", \"\\u043e\\u0431\\u0430\\u043c\\u0430\", \"\\u043e\\u0431\\u0432\\u0438\\u043d\\u0435\\u043d\\u0438\\u0435\", \"\\u043e\\u0431\\u043b\\u0430\\u0441\\u0442\\u043d\\u043e\\u0439\", \"\\u043e\\u0431\\u043b\\u0430\\u0441\\u0442\\u044c\", \"\\u043e\\u0431\\u043b\\u0430\\u0441\\u0442\\u044c\", \"\\u043e\\u0431\\u043b\\u0430\\u0441\\u0442\\u044c\", \"\\u043e\\u0431\\u043e\\u0440\\u043e\\u043d\\u0430\", \"\\u043e\\u0431\\u044b\\u0433\\u0440\\u0430\\u0442\\u044c\", \"\\u043e\\u0434\\u043d\\u0430\\u043a\\u043e\", \"\\u043e\\u0434\\u043d\\u0430\\u043a\\u043e\", \"\\u043e\\u0434\\u043d\\u0430\\u043a\\u043e\", \"\\u043e\\u0434\\u043d\\u0430\\u043a\\u043e\", \"\\u043e\\u0434\\u043d\\u0430\\u043a\\u043e\", \"\\u043e\\u0434\\u043d\\u0430\\u043a\\u043e\", \"\\u043e\\u0434\\u043d\\u0430\\u043a\\u043e\", \"\\u043e\\u043a\\u0430\\u0437\\u0430\\u0442\\u044c\\u0441\\u044f\", \"\\u043e\\u043a\\u0430\\u0437\\u0430\\u0442\\u044c\\u0441\\u044f\", \"\\u043e\\u043a\\u0430\\u0437\\u0430\\u0442\\u044c\\u0441\\u044f\", \"\\u043e\\u043a\\u0430\\u0437\\u0430\\u0442\\u044c\\u0441\\u044f\", \"\\u043e\\u043a\\u0430\\u0437\\u0430\\u0442\\u044c\\u0441\\u044f\", \"\\u043e\\u043a\\u043e\\u043b\\u043e\", \"\\u043e\\u043a\\u043e\\u043b\\u043e\", \"\\u043e\\u043a\\u043e\\u043b\\u043e\", \"\\u043e\\u043a\\u043e\\u043b\\u043e\", \"\\u043e\\u043a\\u043e\\u043b\\u043e\", \"\\u043e\\u043b\\u0438\\u043c\\u043f\\u0438\\u0439\\u0441\\u043a\\u0438\\u0439\", \"\\u043e\\u043f\\u0440\\u043e\\u0441\", \"\\u043e\\u043f\\u0443\\u0431\\u043b\\u0438\\u043a\\u043e\\u0432\\u0430\\u0442\\u044c\", \"\\u043e\\u043f\\u0443\\u0431\\u043b\\u0438\\u043a\\u043e\\u0432\\u0430\\u0442\\u044c\", \"\\u043e\\u043f\\u0443\\u0431\\u043b\\u0438\\u043a\\u043e\\u0432\\u0430\\u0442\\u044c\", \"\\u043e\\u0440\\u0433\\u0430\\u043d\", \"\\u043e\\u0440\\u0433\\u0430\\u043d\", \"\\u043e\\u0440\\u0433\\u0430\\u043d\", \"\\u043e\\u0440\\u0433\\u0430\\u043d\\u0438\\u0437\\u0430\\u0446\\u0438\\u044f\", \"\\u043e\\u0440\\u0433\\u0430\\u043d\\u0438\\u0437\\u0430\\u0446\\u0438\\u044f\", \"\\u043e\\u0440\\u0433\\u0430\\u043d\\u0438\\u0437\\u0430\\u0446\\u0438\\u044f\", \"\\u043e\\u0440\\u0433\\u0430\\u043d\\u0438\\u0437\\u0430\\u0446\\u0438\\u044f\", \"\\u043e\\u0442\\u0435\\u0446\", \"\\u043e\\u0442\\u043a\\u0430\\u0437\\u0430\\u0442\\u044c\\u0441\\u044f\", \"\\u043e\\u0442\\u043a\\u0430\\u0437\\u0430\\u0442\\u044c\\u0441\\u044f\", \"\\u043e\\u0442\\u043a\\u0430\\u0437\\u0430\\u0442\\u044c\\u0441\\u044f\", \"\\u043e\\u0442\\u043a\\u0430\\u0437\\u0430\\u0442\\u044c\\u0441\\u044f\", \"\\u043e\\u0442\\u043b\\u0438\\u0447\\u0430\\u0442\\u044c\\u0441\\u044f\", \"\\u043e\\u0442\\u043c\\u0435\\u0442\\u0438\\u0442\\u044c\", \"\\u043e\\u0442\\u043c\\u0435\\u0442\\u0438\\u0442\\u044c\", \"\\u043e\\u0442\\u043c\\u0435\\u0442\\u0438\\u0442\\u044c\", \"\\u043e\\u0442\\u043c\\u0435\\u0442\\u0438\\u0442\\u044c\", \"\\u043e\\u0442\\u043c\\u0435\\u0442\\u0438\\u0442\\u044c\", \"\\u043e\\u0442\\u043c\\u0435\\u0442\\u0438\\u0442\\u044c\", \"\\u043e\\u0442\\u043c\\u0435\\u0442\\u0438\\u0442\\u044c\", \"\\u043e\\u0442\\u043d\\u043e\\u0448\\u0435\\u043d\\u0438\\u0435\", \"\\u043e\\u0442\\u043d\\u043e\\u0448\\u0435\\u043d\\u0438\\u0435\", \"\\u043e\\u0442\\u043d\\u043e\\u0448\\u0435\\u043d\\u0438\\u0435\", \"\\u043e\\u0442\\u043d\\u043e\\u0448\\u0435\\u043d\\u0438\\u0435\", \"\\u043e\\u0447\\u043a\\u043e\", \"\\u043f\\u0430\\u043b\\u0430\\u0442\\u0430\", \"\\u043f\\u0430\\u043c\\u044f\\u0442\\u044c\", \"\\u043f\\u0430\\u0440\\u043b\\u0430\\u043c\\u0435\\u043d\\u0442\", \"\\u043f\\u0430\\u0440\\u043b\\u0430\\u043c\\u0435\\u043d\\u0442\", \"\\u043f\\u0430\\u0440\\u0442\\u0438\\u044f\", \"\\u043f\\u0430\\u0440\\u0442\\u0438\\u044f\", \"\\u043f\\u0435\\u0440\\u0432\\u044b\\u0439\", \"\\u043f\\u0435\\u0440\\u0432\\u044b\\u0439\", \"\\u043f\\u0435\\u0440\\u0432\\u044b\\u0439\", \"\\u043f\\u0435\\u0440\\u0432\\u044b\\u0439\", \"\\u043f\\u0435\\u0440\\u0432\\u044b\\u0439\", \"\\u043f\\u0435\\u0440\\u0432\\u044b\\u0439\", \"\\u043f\\u0435\\u0440\\u0432\\u044b\\u0439\", \"\\u043f\\u0435\\u0442\\u0435\\u0440\\u0431\\u0443\\u0440\\u0433\", \"\\u043f\\u0438\\u0441\\u044c\\u043c\\u043e\", \"\\u043f\\u043b\\u0430\\u043d\\u0435\\u0442\\u0430\", \"\\u043f\\u043b\\u0430\\u0442\\u0444\\u043e\\u0440\\u043c\\u0430\", \"\\u043f\\u043b\\u0430\\u0442\\u0444\\u043e\\u0440\\u043c\\u0430\", \"\\u043f\\u043b\\u043e\\u0449\\u0430\\u0434\\u044c\", \"\\u043f\\u043b\\u043e\\u0449\\u0430\\u0434\\u044c\", \"\\u043f\\u043e\\u0431\\u0435\\u0434\\u0430\", \"\\u043f\\u043e\\u0432\\u043e\\u0434\", \"\\u043f\\u043e\\u0433\\u0438\\u0431\\u043d\\u0443\\u0442\\u044c\", \"\\u043f\\u043e\\u0434\\u0434\\u0435\\u0440\\u0436\\u0430\\u0442\\u044c\", \"\\u043f\\u043e\\u0434\\u043c\\u043e\\u0441\\u043a\\u043e\\u0432\\u044c\\u0435\", \"\\u043f\\u043e\\u0434\\u043e\\u0437\\u0440\\u0435\\u0432\\u0430\\u0442\\u044c\", \"\\u043f\\u043e\\u0434\\u043e\\u0437\\u0440\\u0435\\u0432\\u0430\\u0442\\u044c\", \"\\u043f\\u043e\\u0434\\u043e\\u0437\\u0440\\u0435\\u043d\\u0438\\u0435\", \"\\u043f\\u043e\\u0434\\u043f\\u0438\\u0441\\u044c\", \"\\u043f\\u043e\\u0435\\u0437\\u0434\", \"\\u043f\\u043e\\u0436\\u0430\\u0440\", \"\\u043f\\u043e\\u043a\\u0430\\u0437\\u0430\\u043d\\u0438\\u0435\", \"\\u043f\\u043e\\u043a\\u0430\\u0437\\u0430\\u0442\\u044c\", \"\\u043f\\u043e\\u043a\\u0430\\u0437\\u0430\\u0442\\u044c\", \"\\u043f\\u043e\\u043a\\u0430\\u0437\\u0430\\u0442\\u044c\", \"\\u043f\\u043e\\u043b\\u0438\\u0446\\u0435\\u0439\\u0441\\u043a\\u0438\\u0439\", \"\\u043f\\u043e\\u043b\\u0438\\u0446\\u0438\\u044f\", \"\\u043f\\u043e\\u043b\\u0438\\u0446\\u0438\\u044f\", \"\\u043f\\u043e\\u043b\\u043e\\u0436\\u0435\\u043d\\u0438\\u0435\", \"\\u043f\\u043e\\u043b\\u0443\\u0447\\u0438\\u0442\\u044c\", \"\\u043f\\u043e\\u043b\\u0443\\u0447\\u0438\\u0442\\u044c\", \"\\u043f\\u043e\\u043b\\u0443\\u0447\\u0438\\u0442\\u044c\", \"\\u043f\\u043e\\u043b\\u0443\\u0447\\u0438\\u0442\\u044c\", \"\\u043f\\u043e\\u043b\\u0443\\u0447\\u0438\\u0442\\u044c\", \"\\u043f\\u043e\\u043b\\u0443\\u0447\\u0438\\u0442\\u044c\", \"\\u043f\\u043e\\u043b\\u0443\\u0447\\u0438\\u0442\\u044c\", \"\\u043f\\u043e\\u043b\\u044c\\u0437\\u043e\\u0432\\u0430\\u0442\\u0435\\u043b\\u044c\", \"\\u043f\\u043e\\u043b\\u044c\\u0437\\u043e\\u0432\\u0430\\u0442\\u0435\\u043b\\u044c\", \"\\u043f\\u043e\\u043b\\u0451\\u0442\", \"\\u043f\\u043e\\u043c\\u043e\\u0449\\u044c\", \"\\u043f\\u043e\\u043c\\u043e\\u0449\\u044c\", \"\\u043f\\u043e\\u043c\\u043e\\u0449\\u044c\", \"\\u043f\\u043e\\u043c\\u043e\\u0449\\u044c\", \"\\u043f\\u043e\\u043c\\u043e\\u0449\\u044c\", \"\\u043f\\u043e\\u043f\\u044b\\u0442\\u0430\\u0442\\u044c\\u0441\\u044f\", \"\\u043f\\u043e\\u0441\\u0442\\u0440\\u0430\\u0434\\u0430\\u0442\\u044c\", \"\\u043f\\u043e\\u0442\\u0435\\u0440\\u043f\\u0435\\u0432\\u0448\\u0438\\u0439\", \"\\u043f\\u043e\\u0442\\u0440\\u0435\\u0431\\u043e\\u0432\\u0430\\u0442\\u044c\", \"\\u043f\\u043e\\u0442\\u0440\\u0435\\u0431\\u043e\\u0432\\u0430\\u0442\\u044c\", \"\\u043f\\u0440\\u0430\\u0432\\u0438\\u0442\\u0435\\u043b\\u044c\\u0441\\u0442\\u0432\\u043e\", \"\\u043f\\u0440\\u0430\\u0432\\u0438\\u0442\\u0435\\u043b\\u044c\\u0441\\u0442\\u0432\\u043e\", \"\\u043f\\u0440\\u0430\\u0432\\u043e\", \"\\u043f\\u0440\\u0430\\u0432\\u043e\", \"\\u043f\\u0440\\u0430\\u0432\\u043e\\u043e\\u0445\\u0440\\u0430\\u043d\\u0438\\u0442\\u0435\\u043b\\u044c\\u043d\\u044b\\u0439\", \"\\u043f\\u0440\\u0435\\u0434\\u043b\\u0430\\u0433\\u0430\\u0442\\u044c\", \"\\u043f\\u0440\\u0435\\u0434\\u043b\\u0430\\u0433\\u0430\\u0442\\u044c\", \"\\u043f\\u0440\\u0435\\u0434\\u0441\\u0435\\u0434\\u0430\\u0442\\u0435\\u043b\\u044c\", \"\\u043f\\u0440\\u0435\\u0434\\u0441\\u0435\\u0434\\u0430\\u0442\\u0435\\u043b\\u044c\", \"\\u043f\\u0440\\u0435\\u0434\\u0441\\u0442\\u0430\\u0432\\u0438\\u0442\\u0435\\u043b\\u044c\", \"\\u043f\\u0440\\u0435\\u0434\\u0441\\u0442\\u0430\\u0432\\u0438\\u0442\\u0435\\u043b\\u044c\", \"\\u043f\\u0440\\u0435\\u0434\\u0441\\u0442\\u0430\\u0432\\u0438\\u0442\\u0435\\u043b\\u044c\", \"\\u043f\\u0440\\u0435\\u0434\\u0441\\u0442\\u0430\\u0432\\u0438\\u0442\\u0435\\u043b\\u044c\", \"\\u043f\\u0440\\u0435\\u0434\\u0441\\u0442\\u0430\\u0432\\u0438\\u0442\\u0435\\u043b\\u044c\", \"\\u043f\\u0440\\u0435\\u0434\\u0441\\u0442\\u0430\\u0432\\u0438\\u0442\\u0435\\u043b\\u044c\", \"\\u043f\\u0440\\u0435\\u0434\\u0441\\u0442\\u0430\\u0432\\u0438\\u0442\\u0435\\u043b\\u044c\", \"\\u043f\\u0440\\u0435\\u0434\\u044a\\u044f\\u0432\\u0438\\u0442\\u044c\", \"\\u043f\\u0440\\u0435\\u0437\\u0438\\u0434\\u0435\\u043d\\u0442\", \"\\u043f\\u0440\\u0435\\u0437\\u0438\\u0434\\u0435\\u043d\\u0442\", \"\\u043f\\u0440\\u0438\\u0432\\u0435\\u0441\\u0442\\u0438\", \"\\u043f\\u0440\\u0438\\u0432\\u0435\\u0441\\u0442\\u0438\", \"\\u043f\\u0440\\u0438\\u0433\\u043e\\u0432\\u043e\\u0440\", \"\\u043f\\u0440\\u0438\\u0433\\u043e\\u0432\\u043e\\u0440\", \"\\u043f\\u0440\\u0438\\u0437\\u043d\\u0430\\u0442\\u044c\", \"\\u043f\\u0440\\u0438\\u0437\\u043d\\u0430\\u0442\\u044c\", \"\\u043f\\u0440\\u0438\\u0437\\u043d\\u0430\\u0442\\u044c\", \"\\u043f\\u0440\\u0438\\u0437\\u043d\\u0430\\u0442\\u044c\", \"\\u043f\\u0440\\u0438\\u043b\\u043e\\u0436\\u0435\\u043d\\u0438\\u0435\", \"\\u043f\\u0440\\u0438\\u043c\\u0435\\u0440\", \"\\u043f\\u0440\\u0438\\u043d\\u044f\\u0442\\u044c\", \"\\u043f\\u0440\\u0438\\u043d\\u044f\\u0442\\u044c\", \"\\u043f\\u0440\\u0438\\u043d\\u044f\\u0442\\u044c\", \"\\u043f\\u0440\\u0438\\u043d\\u044f\\u0442\\u044c\", \"\\u043f\\u0440\\u0438\\u043d\\u044f\\u0442\\u044c\", \"\\u043f\\u0440\\u0438\\u043e\\u0431\\u0440\\u0435\\u0441\\u0442\\u0438\", \"\\u043f\\u0440\\u0438\\u0447\\u0430\\u0441\\u0442\\u043d\\u043e\\u0441\\u0442\\u044c\", \"\\u043f\\u0440\\u043e\\u0432\\u0435\\u0440\\u043a\\u0430\", \"\\u043f\\u0440\\u043e\\u0432\\u0435\\u0440\\u043a\\u0430\", \"\\u043f\\u0440\\u043e\\u0433\\u043e\\u043b\\u043e\\u0441\\u043e\\u0432\\u0430\\u0442\\u044c\", \"\\u043f\\u0440\\u043e\\u0433\\u0440\\u0430\\u043c\\u043c\\u0430\", \"\\u043f\\u0440\\u043e\\u0433\\u0440\\u0430\\u043c\\u043c\\u0430\", \"\\u043f\\u0440\\u043e\\u0433\\u0440\\u0430\\u043c\\u043c\\u0430\", \"\\u043f\\u0440\\u043e\\u0434\\u0430\\u0436\\u0430\", \"\\u043f\\u0440\\u043e\\u0434\\u0430\\u0442\\u044c\", \"\\u043f\\u0440\\u043e\\u0435\\u043a\\u0442\", \"\\u043f\\u0440\\u043e\\u0435\\u043a\\u0442\", \"\\u043f\\u0440\\u043e\\u0435\\u043a\\u0442\", \"\\u043f\\u0440\\u043e\\u0438\\u0437\\u043e\\u0439\\u0442\\u0438\", \"\\u043f\\u0440\\u043e\\u0438\\u0437\\u043e\\u0439\\u0442\\u0438\", \"\\u043f\\u0440\\u043e\\u0438\\u0437\\u043e\\u0439\\u0442\\u0438\", \"\\u043f\\u0440\\u043e\\u0438\\u0437\\u043e\\u0439\\u0442\\u0438\", \"\\u043f\\u0440\\u043e\\u0438\\u0437\\u043e\\u0439\\u0442\\u0438\", \"\\u043f\\u0440\\u043e\\u0438\\u0441\\u0448\\u0435\\u0441\\u0442\\u0432\\u0438\\u0435\", \"\\u043f\\u0440\\u043e\\u043a\\u0443\\u0440\\u0430\\u0442\\u0443\\u0440\\u0430\", \"\\u043f\\u0440\\u043e\\u043a\\u0443\\u0440\\u0430\\u0442\\u0443\\u0440\\u0430\", \"\\u043f\\u0440\\u043e\\u0441\\u0438\\u0442\\u044c\", \"\\u043f\\u0440\\u043e\\u0442\\u0438\\u0432\", \"\\u043f\\u0440\\u043e\\u0442\\u0438\\u0432\", \"\\u043f\\u0440\\u043e\\u0442\\u0438\\u0432\", \"\\u043f\\u0440\\u043e\\u0442\\u0438\\u0432\", \"\\u043f\\u0440\\u043e\\u0446\\u0435\\u043d\\u0442\", \"\\u043f\\u0440\\u043e\\u0446\\u0435\\u043d\\u0442\", \"\\u043f\\u0440\\u043e\\u0446\\u0435\\u0441\\u0441\", \"\\u043f\\u0443\\u0442\\u0438\\u043d\", \"\\u043f\\u0443\\u0442\\u0438\\u043d\", \"\\u0440\\u0430\\u0431\\u043e\\u0442\\u0430\", \"\\u0440\\u0430\\u0431\\u043e\\u0442\\u0430\", \"\\u0440\\u0430\\u0431\\u043e\\u0442\\u0430\", \"\\u0440\\u0430\\u0431\\u043e\\u0442\\u0430\", \"\\u0440\\u0430\\u0431\\u043e\\u0442\\u0430\", \"\\u0440\\u0430\\u0437\\u0432\\u0438\\u0442\\u0438\\u0435\", \"\\u0440\\u0430\\u0437\\u0432\\u0438\\u0442\\u0438\\u0435\", \"\\u0440\\u0430\\u0437\\u0432\\u0438\\u0442\\u0438\\u0435\", \"\\u0440\\u0430\\u0437\\u0440\\u0430\\u0431\\u043e\\u0442\\u0447\\u0438\\u043a\", \"\\u0440\\u0430\\u0439\\u043e\\u043d\", \"\\u0440\\u0430\\u0439\\u043e\\u043d\", \"\\u0440\\u0430\\u043a\\u0435\\u0442\\u0430\", \"\\u0440\\u0430\\u0441\\u0441\\u043c\\u043e\\u0442\\u0440\\u0435\\u043d\\u0438\\u0435\", \"\\u0440\\u0435\\u0430\\u043a\\u0446\\u0438\\u044f\", \"\\u0440\\u0435\\u0430\\u043a\\u0446\\u0438\\u044f\", \"\\u0440\\u0435\\u0431\\u0451\\u043d\\u043e\\u043a\", \"\\u0440\\u0435\\u0431\\u0451\\u043d\\u043e\\u043a\", \"\\u0440\\u0435\\u0433\\u0438\\u043e\\u043d\", \"\\u0440\\u0435\\u0433\\u0438\\u043e\\u043d\", \"\\u0440\\u0435\\u0434\\u0430\\u043a\\u0442\\u043e\\u0440\", \"\\u0440\\u0435\\u0434\\u0430\\u043a\\u0446\\u0438\\u044f\", \"\\u0440\\u0435\\u0437\\u0443\\u043b\\u044c\\u0442\\u0430\\u0442\", \"\\u0440\\u0435\\u0437\\u0443\\u043b\\u044c\\u0442\\u0430\\u0442\", \"\\u0440\\u0435\\u0437\\u0443\\u043b\\u044c\\u0442\\u0430\\u0442\", \"\\u0440\\u0435\\u0437\\u0443\\u043b\\u044c\\u0442\\u0430\\u0442\", \"\\u0440\\u0435\\u0437\\u0443\\u043b\\u044c\\u0442\\u0430\\u0442\", \"\\u0440\\u0435\\u0437\\u0443\\u043b\\u044c\\u0442\\u0430\\u0442\", \"\\u0440\\u0435\\u043a\\u043b\\u0430\\u043c\\u0430\", \"\\u0440\\u0435\\u043a\\u043b\\u0430\\u043c\\u043d\\u044b\\u0439\", \"\\u0440\\u0435\\u043b\\u0438\\u0437\", \"\\u0440\\u0435\\u043b\\u0438\\u0437\", \"\\u0440\\u0435\\u043c\\u043e\\u043d\\u0442\", \"\\u0440\\u0435\\u0444\\u0435\\u0440\\u0435\\u043d\\u0434\\u0443\\u043c\", \"\\u0440\\u0435\\u0448\\u0435\\u043d\\u0438\\u0435\", \"\\u0440\\u0435\\u0448\\u0435\\u043d\\u0438\\u0435\", \"\\u0440\\u0435\\u0448\\u0435\\u043d\\u0438\\u0435\", \"\\u0440\\u0435\\u0448\\u0435\\u043d\\u0438\\u0435\", \"\\u0440\\u0438\\u0430\", \"\\u0440\\u0438\\u0430\", \"\\u0440\\u0438\\u0430\", \"\\u0440\\u043e\\u0434\\u0438\\u0442\\u0435\\u043b\\u044c\", \"\\u0440\\u043e\\u0441\\u0441\\u0438\\u0439\\u0441\\u043a\\u0438\\u0439\", \"\\u0440\\u043e\\u0441\\u0441\\u0438\\u0439\\u0441\\u043a\\u0438\\u0439\", \"\\u0440\\u043e\\u0441\\u0441\\u0438\\u0439\\u0441\\u043a\\u0438\\u0439\", \"\\u0440\\u043e\\u0441\\u0441\\u0438\\u0439\\u0441\\u043a\\u0438\\u0439\", \"\\u0440\\u043e\\u0441\\u0441\\u0438\\u0439\\u0441\\u043a\\u0438\\u0439\", \"\\u0440\\u043e\\u0441\\u0441\\u0438\\u044f\", \"\\u0440\\u043e\\u0441\\u0441\\u0438\\u044f\", \"\\u0440\\u043e\\u0441\\u0441\\u0438\\u044f\", \"\\u0440\\u043e\\u0441\\u0441\\u0438\\u044f\", \"\\u0440\\u043e\\u0441\\u0441\\u0438\\u044f\", \"\\u0440\\u0443\\u0431\\u043b\\u044c\", \"\\u0440\\u0443\\u0431\\u043b\\u044c\", \"\\u0440\\u0443\\u043a\\u0430\", \"\\u0440\\u044b\\u043d\\u043e\\u043a\", \"\\u0441\\u0430\\u0439\\u0442\", \"\\u0441\\u0430\\u0439\\u0442\", \"\\u0441\\u0430\\u0439\\u0442\", \"\\u0441\\u0430\\u0439\\u0442\", \"\\u0441\\u0430\\u0439\\u0442\", \"\\u0441\\u0430\\u0439\\u0442\", \"\\u0441\\u0430\\u043c\\u043e\\u043b\\u0451\\u0442\", \"\\u0441\\u0431\\u043e\\u0440\\u043d\\u0430\\u044f\", \"\\u0441\\u0432\\u043e\\u0439\", \"\\u0441\\u0432\\u043e\\u0439\", \"\\u0441\\u0432\\u043e\\u0439\", \"\\u0441\\u0432\\u043e\\u0439\", \"\\u0441\\u0432\\u043e\\u0439\", \"\\u0441\\u0432\\u043e\\u0439\", \"\\u0441\\u0432\\u043e\\u0439\", \"\\u0441\\u0434\\u0435\\u043b\\u043a\\u0430\", \"\\u0441\\u0435\\u0437\\u043e\\u043d\", \"\\u0441\\u0435\\u0440\\u0432\\u0438\\u0441\", \"\\u0441\\u0435\\u0440\\u0433\\u0435\\u0439\", \"\\u0441\\u0435\\u0440\\u0433\\u0435\\u0439\", \"\\u0441\\u0435\\u0440\\u0433\\u0435\\u0439\", \"\\u0441\\u0435\\u0440\\u0433\\u0435\\u0439\", \"\\u0441\\u0435\\u0440\\u0433\\u0435\\u0439\", \"\\u0441\\u0435\\u0442\\u044c\", \"\\u0441\\u0435\\u0442\\u044c\", \"\\u0441\\u0435\\u0442\\u044c\", \"\\u0441\\u0438\\u0441\\u0442\\u0435\\u043c\\u0430\", \"\\u0441\\u0438\\u0441\\u0442\\u0435\\u043c\\u0430\", \"\\u0441\\u0438\\u0441\\u0442\\u0435\\u043c\\u0430\", \"\\u0441\\u0438\\u0441\\u0442\\u0435\\u043c\\u0430\", \"\\u0441\\u043a\\u0430\\u0437\\u0430\\u0442\\u044c\", \"\\u0441\\u043a\\u0430\\u0437\\u0430\\u0442\\u044c\", \"\\u0441\\u043a\\u0430\\u0437\\u0430\\u0442\\u044c\", \"\\u0441\\u043a\\u0430\\u0437\\u0430\\u0442\\u044c\", \"\\u0441\\u043b\\u0435\\u0434\\u0441\\u0442\\u0432\\u0435\\u043d\\u043d\\u044b\\u0439\", \"\\u0441\\u043b\\u0435\\u0434\\u0441\\u0442\\u0432\\u0438\\u0435\", \"\\u0441\\u043b\\u0435\\u0434\\u0441\\u0442\\u0432\\u0438\\u0435\", \"\\u0441\\u043b\\u043e\\u0432\\u043e\", \"\\u0441\\u043b\\u043e\\u0432\\u043e\", \"\\u0441\\u043b\\u043e\\u0432\\u043e\", \"\\u0441\\u043b\\u043e\\u0432\\u043e\", \"\\u0441\\u043b\\u043e\\u0432\\u043e\", \"\\u0441\\u043b\\u043e\\u0432\\u043e\", \"\\u0441\\u043c\\u0430\\u0440\\u0442\\u0444\\u043e\\u043d\", \"\\u0441\\u043c\\u0438\", \"\\u0441\\u043c\\u0438\", \"\\u0441\\u043c\\u0438\", \"\\u0441\\u043e\\u0431\\u0430\\u043a\\u0430\", \"\\u0441\\u043e\\u0431\\u0440\\u0430\\u043d\\u0438\\u0435\", \"\\u0441\\u043e\\u043e\\u0431\\u0449\\u0430\\u0442\\u044c\", \"\\u0441\\u043e\\u043e\\u0431\\u0449\\u0430\\u0442\\u044c\", \"\\u0441\\u043e\\u043e\\u0431\\u0449\\u0430\\u0442\\u044c\", \"\\u0441\\u043e\\u043e\\u0431\\u0449\\u0430\\u0442\\u044c\", \"\\u0441\\u043e\\u043e\\u0431\\u0449\\u0430\\u0442\\u044c\", \"\\u0441\\u043e\\u043e\\u0431\\u0449\\u0430\\u0442\\u044c\", \"\\u0441\\u043e\\u043e\\u0431\\u0449\\u0430\\u0442\\u044c\", \"\\u0441\\u043e\\u043e\\u0431\\u0449\\u0438\\u0442\\u044c\", \"\\u0441\\u043e\\u043e\\u0431\\u0449\\u0438\\u0442\\u044c\", \"\\u0441\\u043e\\u043e\\u0431\\u0449\\u0438\\u0442\\u044c\", \"\\u0441\\u043e\\u043e\\u0431\\u0449\\u0438\\u0442\\u044c\", \"\\u0441\\u043e\\u043e\\u0431\\u0449\\u0438\\u0442\\u044c\", \"\\u0441\\u043e\\u043e\\u0431\\u0449\\u0438\\u0442\\u044c\", \"\\u0441\\u043e\\u043e\\u0431\\u0449\\u0438\\u0442\\u044c\", \"\\u0441\\u043e\\u043e\\u0442\\u0432\\u0435\\u0442\\u0441\\u0442\\u0432\\u043e\\u0432\\u0430\\u0442\\u044c\", \"\\u0441\\u043e\\u043e\\u0442\\u0432\\u0435\\u0442\\u0441\\u0442\\u0432\\u043e\\u0432\\u0430\\u0442\\u044c\", \"\\u0441\\u043e\\u043e\\u0442\\u0432\\u0435\\u0442\\u0441\\u0442\\u0432\\u0443\\u044e\\u0449\\u0438\\u0439\", \"\\u0441\\u043e\\u0441\\u0442\\u0430\\u0432\\u0438\\u0442\\u044c\", \"\\u0441\\u043e\\u0441\\u0442\\u0430\\u0432\\u0438\\u0442\\u044c\", \"\\u0441\\u043e\\u0441\\u0442\\u0430\\u0432\\u0438\\u0442\\u044c\", \"\\u0441\\u043e\\u0441\\u0442\\u0430\\u0432\\u0438\\u0442\\u044c\", \"\\u0441\\u043e\\u0441\\u0442\\u043e\\u044f\\u0442\\u044c\\u0441\\u044f\", \"\\u0441\\u043e\\u0441\\u0442\\u043e\\u044f\\u0442\\u044c\\u0441\\u044f\", \"\\u0441\\u043e\\u0441\\u0442\\u043e\\u044f\\u0442\\u044c\\u0441\\u044f\", \"\\u0441\\u043e\\u0441\\u0442\\u043e\\u044f\\u0442\\u044c\\u0441\\u044f\", \"\\u0441\\u043e\\u0441\\u0442\\u043e\\u044f\\u0442\\u044c\\u0441\\u044f\", \"\\u0441\\u043e\\u0442\\u0440\\u0443\\u0434\\u043d\\u0438\\u043a\", \"\\u0441\\u043e\\u0442\\u0440\\u0443\\u0434\\u043d\\u0438\\u043a\", \"\\u0441\\u043e\\u0442\\u0440\\u0443\\u0434\\u043d\\u0438\\u043a\", \"\\u0441\\u043e\\u0442\\u0440\\u0443\\u0434\\u043d\\u0438\\u043a\", \"\\u0441\\u043e\\u0442\\u0440\\u0443\\u0434\\u043d\\u0438\\u043a\", \"\\u0441\\u043f\\u043e\\u0440\\u0442\", \"\\u0441\\u043f\\u043e\\u0440\\u0442\\u0441\\u043c\\u0435\\u043d\", \"\\u0441\\u0440\\u043e\\u043a\", \"\\u0441\\u0440\\u043e\\u043a\", \"\\u0441\\u0440\\u043e\\u043a\", \"\\u0441\\u0440\\u043e\\u043a\", \"\\u0441\\u0440\\u043e\\u043a\", \"\\u0441\\u0442\\u0430\\u0442\\u044c\", \"\\u0441\\u0442\\u0430\\u0442\\u044c\", \"\\u0441\\u0442\\u0430\\u0442\\u044c\", \"\\u0441\\u0442\\u0430\\u0442\\u044c\", \"\\u0441\\u0442\\u0430\\u0442\\u044c\", \"\\u0441\\u0442\\u0430\\u0442\\u044c\", \"\\u0441\\u0442\\u0430\\u0442\\u044c\", \"\\u0441\\u0442\\u0440\\u0430\\u043d\\u0430\", \"\\u0441\\u0442\\u0440\\u0430\\u043d\\u0430\", \"\\u0441\\u0442\\u0440\\u0430\\u043d\\u0430\", \"\\u0441\\u0442\\u0440\\u0430\\u043d\\u0430\", \"\\u0441\\u0442\\u0440\\u043e\\u0438\\u0442\\u0435\\u043b\\u044c\\u0441\\u0442\\u0432\\u043e\", \"\\u0441\\u0442\\u0443\\u0434\\u0438\\u044f\", \"\\u0441\\u0443\\u0434\", \"\\u0441\\u0443\\u0434\", \"\\u0441\\u0443\\u0434\", \"\\u0441\\u0447\\u0438\\u0442\\u0430\\u0442\\u044c\", \"\\u0441\\u0447\\u0438\\u0442\\u0430\\u0442\\u044c\", \"\\u0441\\u0447\\u0438\\u0442\\u0430\\u0442\\u044c\", \"\\u0441\\u0447\\u0451\\u0442\", \"\\u0441\\u0447\\u0451\\u0442\", \"\\u0441\\u0447\\u0451\\u0442\", \"\\u0441\\u0448\\u0430\", \"\\u0441\\u0448\\u0430\", \"\\u0441\\u0448\\u0430\", \"\\u0441\\u0448\\u0430\", \"\\u0441\\u044b\\u0433\\u0440\\u0430\\u0442\\u044c\", \"\\u0442\\u0430\\u043a\\u0436\\u0435\", \"\\u0442\\u0430\\u043a\\u0436\\u0435\", \"\\u0442\\u0430\\u043a\\u0436\\u0435\", \"\\u0442\\u0430\\u043a\\u0436\\u0435\", \"\\u0442\\u0430\\u043a\\u0436\\u0435\", \"\\u0442\\u0430\\u043a\\u0436\\u0435\", \"\\u0442\\u0430\\u043a\\u0436\\u0435\", \"\\u0442\\u0435\\u043a\\u0441\\u0442\", \"\\u0442\\u0435\\u043b\\u0435\\u0444\\u043e\\u043d\", \"\\u0442\\u0435\\u0440\\u0430\\u043a\\u0442\", \"\\u0442\\u0435\\u0440\\u0440\\u043e\\u0440\\u0438\\u0441\\u0442\", \"\\u0442\\u0435\\u0440\\u0440\\u043e\\u0440\\u0438\\u0441\\u0442\", \"\\u0442\\u0435\\u0440\\u0440\\u043e\\u0440\\u0438\\u0441\\u0442\\u0438\\u0447\\u0435\\u0441\\u043a\\u0438\\u0439\", \"\\u0442\\u0440\\u0430\\u043d\\u0441\\u043f\\u043e\\u0440\\u0442\", \"\\u0442\\u0440\\u0430\\u043d\\u0441\\u043f\\u043e\\u0440\\u0442\\u043d\\u044b\\u0439\", \"\\u0442\\u0440\\u0435\\u043d\\u0435\\u0440\", \"\\u0442\\u0443\\u0440\", \"\\u0442\\u0443\\u0440\\u043d\\u0438\\u0440\", \"\\u0442\\u044b\\u0441\\u044f\\u0447\\u0430\", \"\\u0442\\u044b\\u0441\\u044f\\u0447\\u0430\", \"\\u0442\\u044b\\u0441\\u044f\\u0447\\u0430\", \"\\u0442\\u044b\\u0441\\u044f\\u0447\\u0430\", \"\\u0442\\u044b\\u0441\\u044f\\u0447\\u0430\", \"\\u0442\\u044b\\u0441\\u044f\\u0447\\u0430\", \"\\u0443\\u0431\\u0438\\u0439\\u0441\\u0442\\u0432\\u043e\", \"\\u0443\\u0431\\u0438\\u0442\\u044c\", \"\\u0443\\u0432\\u0438\\u0434\\u0435\\u0442\\u044c\", \"\\u0443\\u0433\\u043e\\u043b\\u043e\\u0432\\u043d\\u044b\\u0439\", \"\\u0443\\u0433\\u043e\\u043b\\u043e\\u0432\\u043d\\u044b\\u0439\", \"\\u0443\\u0433\\u0440\\u043e\\u0436\\u0430\\u0442\\u044c\", \"\\u0443\\u0434\\u0430\\u0442\\u044c\\u0441\\u044f\", \"\\u0443\\u0434\\u0430\\u0442\\u044c\\u0441\\u044f\", \"\\u0443\\u0434\\u0430\\u0442\\u044c\\u0441\\u044f\", \"\\u0443\\u0434\\u0430\\u0442\\u044c\\u0441\\u044f\", \"\\u0443\\u043a\\u0440\\u0430\\u0438\\u043d\\u0430\", \"\\u0443\\u043a\\u0440\\u0430\\u0438\\u043d\\u0430\", \"\\u0443\\u043a\\u0440\\u0430\\u0438\\u043d\\u0430\", \"\\u0443\\u043a\\u0440\\u0430\\u0438\\u043d\\u0441\\u043a\\u0438\\u0439\", \"\\u0443\\u043a\\u0440\\u0430\\u0438\\u043d\\u0441\\u043a\\u0438\\u0439\", \"\\u0443\\u043a\\u0440\\u0430\\u0441\\u0442\\u044c\", \"\\u0443\\u043b\\u0438\\u0446\\u0430\", \"\\u0443\\u043b\\u0438\\u0446\\u0430\", \"\\u0443\\u043d\\u0438\\u0432\\u0435\\u0440\\u0441\\u0438\\u0442\\u0435\\u0442\", \"\\u0443\\u043f\\u0440\\u0430\\u0432\\u043b\\u0435\\u043d\\u0438\\u0435\", \"\\u0443\\u043f\\u0440\\u0430\\u0432\\u043b\\u0435\\u043d\\u0438\\u0435\", \"\\u0443\\u043f\\u0440\\u0430\\u0432\\u043b\\u0435\\u043d\\u0438\\u0435\", \"\\u0443\\u043f\\u0440\\u0430\\u0432\\u043b\\u0435\\u043d\\u0438\\u0435\", \"\\u0443\\u0441\\u0442\\u0440\\u043e\\u0439\\u0441\\u0442\\u0432\\u043e\", \"\\u0443\\u0441\\u0442\\u0440\\u043e\\u0439\\u0441\\u0442\\u0432\\u043e\", \"\\u0443\\u0442\\u0440\\u043e\\u043c\", \"\\u0443\\u0447\\u0451\\u043d\\u044b\\u0439\", \"\\u0444\\u0435\\u0434\\u0435\\u0440\\u0430\\u043b\\u044c\\u043d\\u044b\\u0439\", \"\\u0444\\u0435\\u0434\\u0435\\u0440\\u0430\\u043b\\u044c\\u043d\\u044b\\u0439\", \"\\u0444\\u0435\\u0434\\u0435\\u0440\\u0430\\u043b\\u044c\\u043d\\u044b\\u0439\", \"\\u0444\\u0435\\u0434\\u0435\\u0440\\u0430\\u043b\\u044c\\u043d\\u044b\\u0439\", \"\\u0444\\u0438\\u0437\\u0438\\u0447\\u0435\\u0441\\u043a\\u0438\\u0439\", \"\\u0444\\u0438\\u043d\\u0430\\u043b\", \"\\u0444\\u0438\\u043d\\u0430\\u043d\\u0441\\u0438\\u0440\\u043e\\u0432\\u0430\\u043d\\u0438\\u0435\", \"\\u0444\\u043e\\u0440\\u0432\\u0430\\u0440\\u0434\", \"\\u0444\\u043e\\u0440\\u043c\\u0430\", \"\\u0444\\u043e\\u0440\\u043c\\u0430\", \"\\u0444\\u043e\\u0442\\u043e\\u0433\\u0440\\u0430\\u0444\\u0438\\u044f\", \"\\u0444\\u043e\\u0442\\u043e\\u0433\\u0440\\u0430\\u0444\\u0438\\u044f\", \"\\u0444\\u0443\\u0442\\u0431\\u043e\\u043b\", \"\\u0444\\u0443\\u0442\\u0431\\u043e\\u043b\\u0438\\u0441\\u0442\", \"\\u0444\\u0443\\u0442\\u0431\\u043e\\u043b\\u044c\\u043d\\u044b\\u0439\", \"\\u0445\\u0430\\u043a\\u0435\\u0440\", \"\\u0446\\u0435\\u043d\\u0430\", \"\\u0446\\u0435\\u043d\\u0430\", \"\\u0447\\u0435\\u043b\\u043e\\u0432\\u0435\\u043a\", \"\\u0447\\u0435\\u043b\\u043e\\u0432\\u0435\\u043a\", \"\\u0447\\u0435\\u043b\\u043e\\u0432\\u0435\\u043a\", \"\\u0447\\u0435\\u043b\\u043e\\u0432\\u0435\\u043a\", \"\\u0447\\u0435\\u043b\\u043e\\u0432\\u0435\\u043a\", \"\\u0447\\u0435\\u043c\\u043f\\u0438\\u043e\\u043d\", \"\\u0447\\u0435\\u043c\\u043f\\u0438\\u043e\\u043d\\u0430\\u0442\", \"\\u0447\\u0435\\u0447\\u043d\\u044f\", \"\\u0448\\u043a\\u043e\\u043b\\u0430\", \"\\u0448\\u043a\\u043e\\u043b\\u0430\", \"\\u0448\\u0442\\u0430\\u0442\", \"\\u044d\\u043a\\u0438\\u043f\\u0430\\u0436\", \"\\u044d\\u043a\\u043e\\u043d\\u043e\\u043c\\u0438\\u0447\\u0435\\u0441\\u043a\\u0438\\u0439\", \"\\u044d\\u043a\\u0441\\u043f\\u0435\\u0440\\u0438\\u043c\\u0435\\u043d\\u0442\", \"\\u044d\\u0442\\u043e\", \"\\u044d\\u0442\\u043e\", \"\\u044d\\u0442\\u043e\", \"\\u044d\\u0442\\u043e\", \"\\u044d\\u0442\\u043e\", \"\\u044d\\u0442\\u043e\", \"\\u044d\\u0442\\u043e\", \"\\u044d\\u0444\\u0438\\u0440\", \"\\u044f\\u0432\\u043b\\u044f\\u0442\\u044c\\u0441\\u044f\", \"\\u044f\\u0432\\u043b\\u044f\\u0442\\u044c\\u0441\\u044f\", \"\\u044f\\u0432\\u043b\\u044f\\u0442\\u044c\\u0441\\u044f\", \"\\u044f\\u0432\\u043b\\u044f\\u0442\\u044c\\u0441\\u044f\", \"\\u044f\\u0432\\u043b\\u044f\\u0442\\u044c\\u0441\\u044f\", \"\\u044f\\u0432\\u043b\\u044f\\u0442\\u044c\\u0441\\u044f\", \"\\u044f\\u0432\\u043b\\u044f\\u0442\\u044c\\u0441\\u044f\", \"\\u044f\\u043f\\u043e\\u043d\\u0438\\u044f\", \"\\u044f\\u043f\\u043e\\u043d\\u0441\\u043a\\u0438\\u0439\"]}, \"R\": 30, \"lambda.step\": 0.01, \"plot.opts\": {\"xlab\": \"PC1\", \"ylab\": \"PC2\"}, \"topic.order\": [4, 7, 5, 3, 1, 6, 2]};\n",
              "\n",
              "function LDAvis_load_lib(url, callback){\n",
              "  var s = document.createElement('script');\n",
              "  s.src = url;\n",
              "  s.async = true;\n",
              "  s.onreadystatechange = s.onload = callback;\n",
              "  s.onerror = function(){console.warn(\"failed to load library \" + url);};\n",
              "  document.getElementsByTagName(\"head\")[0].appendChild(s);\n",
              "}\n",
              "\n",
              "if(typeof(LDAvis) !== \"undefined\"){\n",
              "   // already loaded: just create the visualization\n",
              "   !function(LDAvis){\n",
              "       new LDAvis(\"#\" + \"ldavis_el5731396614271403045417928324\", ldavis_el5731396614271403045417928324_data);\n",
              "   }(LDAvis);\n",
              "}else if(typeof define === \"function\" && define.amd){\n",
              "   // require.js is available: use it to load d3/LDAvis\n",
              "   require.config({paths: {d3: \"https://d3js.org/d3.v5\"}});\n",
              "   require([\"d3\"], function(d3){\n",
              "      window.d3 = d3;\n",
              "      LDAvis_load_lib(\"https://cdn.jsdelivr.net/gh/bmabey/pyLDAvis@3.3.1/pyLDAvis/js/ldavis.v3.0.0.js\", function(){\n",
              "        new LDAvis(\"#\" + \"ldavis_el5731396614271403045417928324\", ldavis_el5731396614271403045417928324_data);\n",
              "      });\n",
              "    });\n",
              "}else{\n",
              "    // require.js not available: dynamically load d3 & LDAvis\n",
              "    LDAvis_load_lib(\"https://d3js.org/d3.v5.js\", function(){\n",
              "         LDAvis_load_lib(\"https://cdn.jsdelivr.net/gh/bmabey/pyLDAvis@3.3.1/pyLDAvis/js/ldavis.v3.0.0.js\", function(){\n",
              "                 new LDAvis(\"#\" + \"ldavis_el5731396614271403045417928324\", ldavis_el5731396614271403045417928324_data);\n",
              "            })\n",
              "         });\n",
              "}\n",
              "</script>"
            ],
            "text/plain": [
              "<IPython.core.display.HTML object>"
            ]
          },
          "metadata": {
            "tags": []
          },
          "execution_count": 29
        }
      ]
    },
    {
      "cell_type": "markdown",
      "metadata": {
        "id": "N1_QuVBaf6Mr"
      },
      "source": [
        "Посмотрим на метрики качества получившейся модели: перплексию и среднюю когерентность:"
      ]
    },
    {
      "cell_type": "code",
      "metadata": {
        "colab": {
          "base_uri": "https://localhost:8080/"
        },
        "id": "ZotOH4d6f6Mr",
        "outputId": "baff7d8d-a73f-4c2b-9d83-43e476fc6738"
      },
      "source": [
        "print(lda.log_perplexity(corpus))\n"
      ],
      "execution_count": 30,
      "outputs": [
        {
          "output_type": "stream",
          "text": [
            "-7.852384713613965\n"
          ],
          "name": "stdout"
        }
      ]
    },
    {
      "cell_type": "code",
      "metadata": {
        "colab": {
          "base_uri": "https://localhost:8080/"
        },
        "id": "VqyxqodWf6Mr",
        "outputId": "4eb4ea48-28d5-4629-ecf1-3ab1a873a2cc"
      },
      "source": [
        "print('Персплексия: ', np.exp(lda.log_perplexity(corpus)))"
      ],
      "execution_count": 31,
      "outputs": [
        {
          "output_type": "stream",
          "text": [
            "Персплексия:  0.0003888245867693088\n"
          ],
          "name": "stdout"
        }
      ]
    },
    {
      "cell_type": "code",
      "metadata": {
        "colab": {
          "base_uri": "https://localhost:8080/"
        },
        "id": "agpzf-CVf6Mr",
        "outputId": "c8ebc623-424f-4b9f-a084-28eac10cbabe"
      },
      "source": [
        "coherence_model_lda = CoherenceModel(model=lda, texts=data['text'], dictionary=dictionary, coherence='c_v')\n",
        "coherence_lda = coherence_model_lda.get_coherence()\n",
        "print('Средняя когерентность: ', coherence_lda)"
      ],
      "execution_count": 32,
      "outputs": [
        {
          "output_type": "stream",
          "text": [
            "Средняя когерентность:  0.4265325821449934\n"
          ],
          "name": "stdout"
        }
      ]
    },
    {
      "cell_type": "markdown",
      "metadata": {
        "id": "QscCr17Zf6Mr"
      },
      "source": [
        "Теперь можно подобрать оптимальное количество тем, опираясь на значение метрик:"
      ]
    },
    {
      "cell_type": "code",
      "metadata": {
        "id": "UZBPpBxYf6Mr"
      },
      "source": [
        "import matplotlib.pyplot as plt\n",
        "%matplotlib inline"
      ],
      "execution_count": 33,
      "outputs": []
    },
    {
      "cell_type": "code",
      "metadata": {
        "colab": {
          "base_uri": "https://localhost:8080/",
          "height": 332,
          "referenced_widgets": [
            "6cfe0a029f25411c86107d45ccaefe43",
            "3cf4cdc1151f44b4b062622bb3e0983d",
            "7c39d1522f1b47cbb7c57323b40478e5",
            "b5001df370d6413a9ace77d026001fd6",
            "00086eb9c17c4b0882417095abe7cc54",
            "cab805e8edad495fa7147c9a947184da",
            "937a13e2637c4846ab41e00f85fec408",
            "55342bec6671466ca34ab7863216dde5"
          ]
        },
        "id": "q7dUj8ClSOvg",
        "outputId": "c9902316-21df-4ec9-aa4b-6004d6d44265"
      },
      "source": [
        "topics_list = [5, 10, 15, 20, 25]\n",
        "coherences = []\n",
        "\n",
        "for num in tqdm(topics_list):\n",
        "    lda = ldamodel.LdaModel(corpus, id2word=dictionary, num_topics=num, chunksize=50, update_every=1, passes=2)\n",
        "    coherences.append(CoherenceModel(model=lda, texts=data['text'], dictionary=dictionary, coherence='c_v').get_coherence())\n",
        "\n",
        "plt.plot(topics_list, coherences)\n",
        "plt.xlabel(\"Число тем\")\n",
        "plt.ylabel(\"Средняя когерентность\")\n",
        "plt.show()"
      ],
      "execution_count": 34,
      "outputs": [
        {
          "output_type": "display_data",
          "data": {
            "application/vnd.jupyter.widget-view+json": {
              "model_id": "6cfe0a029f25411c86107d45ccaefe43",
              "version_minor": 0,
              "version_major": 2
            },
            "text/plain": [
              "HBox(children=(FloatProgress(value=0.0, max=5.0), HTML(value='')))"
            ]
          },
          "metadata": {
            "tags": []
          }
        },
        {
          "output_type": "stream",
          "text": [
            "\n"
          ],
          "name": "stdout"
        },
        {
          "output_type": "display_data",
          "data": {
            "image/png": "[encoded data removed]",
            "text/plain": [
              "<Figure size 432x288 with 1 Axes>"
            ]
          },
          "metadata": {
            "tags": [],
            "needs_background": "light"
          }
        }
      ]
    },
    {
      "cell_type": "markdown",
      "metadata": {
        "id": "JjDJ2WtJcuOw"
      },
      "source": [
        "Оптимальное число тем - 15"
      ]
    },
    {
      "cell_type": "code",
      "metadata": {
        "colab": {
          "base_uri": "https://localhost:8080/",
          "height": 915
        },
        "id": "-l9FrKjff6Ms",
        "outputId": "10fd85e3-e460-467f-a30c-acda8f489a06"
      },
      "source": [
        "lda_15 = ldamodel.LdaModel(corpus, id2word=dictionary, num_topics=15, chunksize=50, update_every=1, passes=2)\n",
        "vis_data = gensimvis.prepare(lda_15, corpus, dictionary)\n",
        "pyLDAvis.display(vis_data)"
      ],
      "execution_count": 35,
      "outputs": [
        {
          "output_type": "stream",
          "text": [
            "/usr/local/lib/python3.7/dist-packages/pyLDAvis/_prepare.py:247: FutureWarning: In a future version of pandas all arguments of DataFrame.drop except for the argument 'labels' will be keyword-only\n",
            "  by='saliency', ascending=False).head(R).drop('saliency', 1)\n"
          ],
          "name": "stderr"
        },
        {
          "output_type": "execute_result",
          "data": {
            "text/html": [
              "\n",
              "<link rel=\"stylesheet\" type=\"text/css\" href=\"https://cdn.jsdelivr.net/gh/bmabey/pyLDAvis@3.3.1/pyLDAvis/js/ldavis.v1.0.0.css\">\n",
              "\n",
              "\n",
              "<div id=\"ldavis_el5731396614520628003643559496\"></div>\n",
              "<script type=\"text/javascript\">\n",
              "\n",
              "var ldavis_el5731396614520628003643559496_data = {\"mdsDat\": {\"x\": [0.10300166474588714, 0.13754139072398294, 0.0843853980415974, 0.1305934807784877, 0.03430280706458153, 0.1423286758699377, 0.062019023603815344, 0.1728170151739606, -0.22504844727613207, -0.030693289154479015, -0.1383229884355642, -0.0451160018159932, 0.07879161610016053, -0.19471849608509195, -0.31188184933515073], \"y\": [-0.11173125406731613, -0.12277865016123861, -0.03928935620765707, 0.05655087925239432, -0.1116976512018526, 0.020552098586543232, -0.0019898744086513003, 0.06935345602903283, -0.14250352104196162, -0.07442500314080977, -0.20267751300517292, 0.20094380673437756, 0.18094290235448118, 0.2793256153189108, -0.0005759350410791146], \"topics\": [1, 2, 3, 4, 5, 6, 7, 8, 9, 10, 11, 12, 13, 14, 15], \"cluster\": [1, 1, 1, 1, 1, 1, 1, 1, 1, 1, 1, 1, 1, 1, 1], \"Freq\": [17.175885815001532, 11.539504108384916, 10.862917889880972, 8.703283632808432, 8.67525983846372, 6.821723904653069, 6.780947912580558, 5.300235205828204, 4.986875644209354, 4.981600470026723, 3.612384903592841, 3.476298636129191, 3.2774620739823637, 2.2005521720079866, 1.6050677924501144]}, \"tinfo\": {\"Term\": [\"\\u0433\\u043e\\u0434\", \"\\u0441\\u0448\\u0430\", \"\\u043c\\u0430\\u0442\\u0447\", \"\\u0434\\u0435\\u043b\\u043e\", \"\\u043a\\u043e\\u043c\\u043f\\u0430\\u043d\\u0438\\u044f\", \"\\u0440\\u043e\\u0441\\u0441\\u0438\\u044f\", \"\\u0441\\u0443\\u0434\", \"\\u043c\\u0438\\u043b\\u043b\\u0438\\u043e\\u043d\", \"\\u0440\\u043e\\u0441\\u0441\\u0438\\u0439\\u0441\\u043a\\u0438\\u0439\", \"\\u043f\\u0440\\u043e\\u0446\\u0435\\u043d\\u0442\", \"\\u043a\\u043b\\u0443\\u0431\", \"\\u043a\\u043e\\u043c\\u0430\\u043d\\u0434\\u0430\", \"\\u043f\\u0440\\u0435\\u0437\\u0438\\u0434\\u0435\\u043d\\u0442\", \"\\u0447\\u0435\\u043b\\u043e\\u0432\\u0435\\u043a\", \"\\u0437\\u0430\\u0434\\u0435\\u0440\\u0436\\u0430\\u0442\\u044c\", \"\\u0438\\u0433\\u0440\\u0430\", \"\\u0430\\u043c\\u0435\\u0440\\u0438\\u043a\\u0430\\u043d\\u0441\\u043a\\u0438\\u0439\", \"\\u043f\\u043e\\u043b\\u0438\\u0446\\u0438\\u044f\", \"\\u0443\\u0447\\u0451\\u043d\\u044b\\u0439\", \"\\u0440\\u0435\\u0431\\u0451\\u043d\\u043e\\u043a\", \"\\u0441\\u0447\\u0451\\u0442\", \"\\u0434\\u043e\\u043b\\u043b\\u0430\\u0440\", \"the\", \"\\u043f\\u043e\\u043b\\u044c\\u0437\\u043e\\u0432\\u0430\\u0442\\u0435\\u043b\\u044c\", \"\\u043f\\u0435\\u0440\\u0432\\u044b\\u0439\", \"\\u0441\\u043e\\u0442\\u0440\\u0443\\u0434\\u043d\\u0438\\u043a\", \"\\u0441\\u0431\\u043e\\u0440\\u043d\\u0430\\u044f\", \"\\u043c\\u0443\\u0436\\u0447\\u0438\\u043d\\u0430\", \"\\u043c\\u0435\\u0441\\u0442\\u043e\", \"\\u0433\\u043b\\u0430\\u0432\\u0430\", \"\\u043f\\u0430\\u0440\\u0442\\u0438\\u044f\", \"\\u0443\\u043a\\u0440\\u0430\\u0438\\u043d\\u0430\", \"\\u043e\\u0431\\u0432\\u0438\\u043d\\u0435\\u043d\\u0438\\u0435\", \"\\u043f\\u0435\\u0442\\u0435\\u0440\\u0431\\u0443\\u0440\\u0433\", \"\\u0433\\u043e\\u0432\\u043e\\u0440\\u0438\\u0442\\u044c\", \"\\u0443\\u043a\\u0440\\u0430\\u0438\\u043d\\u0441\\u043a\\u0438\\u0439\", \"\\u0430\\u0440\\u0435\\u0441\\u0442\\u043e\\u0432\\u0430\\u0442\\u044c\", \"\\u043a\\u043e\\u043c\\u043c\\u0435\\u0440\\u0441\\u0430\\u043d\\u0442\", \"\\u0430\\u044d\\u0440\\u043e\\u043f\\u043e\\u0440\\u0442\", \"\\u0438\\u043d\\u043e\\u0441\\u0442\\u0440\\u0430\\u043d\\u043d\\u044b\\u0439\", \"\\u043f\\u043e\\u0432\\u043e\\u0434\", \"\\u043f\\u0440\\u0435\\u0434\\u044a\\u044f\\u0432\\u0438\\u0442\\u044c\", \"\\u0437\\u0430\\u0434\\u0435\\u0440\\u0436\\u0430\\u043d\\u0438\\u0435\", \"\\u043f\\u043e\\u0441\\u0442\\u0430\\u0432\\u043a\\u0430\", \"\\u043c\\u0438\\u0434\", \"\\u0442\\u0435\\u043a\\u0441\\u0442\", \"\\u0431\\u0440\\u0430\\u0442\", \"\\u0441\\u0430\\u043d\\u043a\\u0446\\u0438\\u044f\", \"\\u0432\\u044b\\u044f\\u0432\\u0438\\u0442\\u044c\", \"\\u043f\\u043e\\u043b\\u044c\\u0448\\u0430\", \"\\u043e\\u0431\\u0430\\u043c\\u0430\", \"\\u0440\\u0435\\u0434\\u0430\\u043a\\u0442\\u043e\\u0440\", \"\\u0440\\u0435\\u043c\\u043e\\u043d\\u0442\", \"\\u0430\\u043b\\u044c\", \"\\u0432\\u044b\\u043f\\u0443\\u0441\\u043a\", \"\\u0432\\u0437\\u044f\\u0442\\u043a\\u0430\", \"\\u043a\\u043e\\u043d\\u0433\\u0440\\u0435\\u0441\\u0441\", \"\\u0441\\u043e\\u0442\\u0440\\u0443\\u0434\\u043d\\u0438\\u0447\\u0435\\u0441\\u0442\\u0432\\u043e\", \"\\u043f\\u0438\\u043b\\u043e\\u0442\", \"\\u0432\\u0435\\u0434\\u043e\\u043c\\u043e\\u0441\\u0442\\u044c\", \"\\u043f\\u0440\\u043e\\u0434\\u0443\\u043a\\u0442\", \"\\u0433\\u0430\\u0437\\u0435\\u0442\\u0430\", \"\\u0436\\u0443\\u0440\\u043d\\u0430\\u043b\\u0438\\u0441\\u0442\", \"\\u044d\\u0444\\u0438\\u0440\", \"\\u0438\\u043d\\u0442\\u0435\\u0440\\u0432\\u044c\\u044e\", \"\\u043f\\u0440\\u043e\\u0442\\u0438\\u0432\", \"\\u0441\\u0442\\u0440\\u0430\\u043d\\u0430\", \"\\u0437\\u0430\\u044f\\u0432\\u0438\\u0442\\u044c\", \"\\u0430\\u0432\\u0433\\u0443\\u0441\\u0442\", \"\\u0441\\u0442\\u043e\\u0440\\u043e\\u043d\\u0430\", \"\\u0441\\u043c\\u0438\", \"\\u0437\\u0430\\u044f\\u0432\\u043b\\u0435\\u043d\\u0438\\u0435\", \"\\u043f\\u043e\\u0434\\u0447\\u0435\\u0440\\u043a\\u043d\\u0443\\u0442\\u044c\", \"\\u0441\\u043a\\u0430\\u0437\\u0430\\u0442\\u044c\", \"\\u0441\\u043b\\u043e\\u0432\\u043e\", \"\\u0440\\u043e\\u0441\\u0441\\u0438\\u0439\\u0441\\u043a\\u0438\\u0439\", \"\\u0440\\u0443\\u0441\\u0441\\u043a\\u0438\\u0439\", \"\\u043e\\u0440\\u0433\\u0430\\u043d\\u0438\\u0437\\u0430\\u0446\\u0438\\u044f\", \"\\u0441\\u0447\\u0438\\u0442\\u0430\\u0442\\u044c\", \"\\u0440\\u043e\\u0441\\u0441\\u0438\\u044f\", \"\\u044d\\u0442\\u043e\", \"\\u043e\\u0442\\u043c\\u0435\\u0442\\u0438\\u0442\\u044c\", \"\\u043f\\u0440\\u0435\\u0434\\u0441\\u0442\\u0430\\u0432\\u0438\\u0442\\u0435\\u043b\\u044c\", \"\\u0441\\u0432\\u043e\\u0439\", \"\\u043a\\u043e\\u0442\\u043e\\u0440\\u044b\\u0439\", \"\\u0438\\u0437\\u0434\\u0430\\u043d\\u0438\\u0435\", \"\\u043c\\u043e\\u0447\\u044c\", \"\\u0432\\u043b\\u0430\\u0441\\u0442\\u044c\", \"\\u0432\\u0441\\u0451\", \"\\u0442\\u0430\\u043a\\u0436\\u0435\", \"\\u0438\\u043d\\u0444\\u043e\\u0440\\u043c\\u0430\\u0446\\u0438\\u044f\", \"\\u043e\\u0434\\u043d\\u0430\\u043a\\u043e\", \"\\u0440\\u0435\\u0448\\u0435\\u043d\\u0438\\u0435\", \"\\u0432\\u0435\\u0441\\u044c\", \"\\u0432\\u0440\\u0435\\u043c\\u044f\", \"\\u043f\\u0443\\u0442\\u0438\\u043d\", \"\\u0434\\u0435\\u043f\\u0443\\u0442\\u0430\\u0442\", \"\\u0432\\u044b\\u0431\\u043e\\u0440\\u044b\", \"\\u043f\\u043e\\u0441\\u0442\", \"\\u0433\\u043e\\u0441\\u0434\\u0443\\u043c\\u0430\", \"\\u0435\\u0434\\u0438\\u043d\\u044b\\u0439\", \"\\u0433\\u0443\\u0431\\u0435\\u0440\\u043d\\u0430\\u0442\\u043e\\u0440\", \"\\u0437\\u0430\\u0441\\u0435\\u0434\\u0430\\u043d\\u0438\\u0435\", \"\\u0447\\u0438\\u043d\\u043e\\u0432\\u043d\\u0438\\u043a\", \"\\u043a\\u0430\\u043d\\u0434\\u0438\\u0434\\u0430\\u0442\", \"\\u043c\\u044d\\u0440\", \"\\u043e\\u043a\\u0440\\u0443\\u0433\", \"\\u043c\\u0438\\u0442\\u0438\\u043d\\u0433\", \"\\u0434\\u043e\\u043b\\u0436\\u043d\\u043e\\u0441\\u0442\\u044c\", \"\\u043f\\u0440\\u0435\\u0434\\u0441\\u0435\\u0434\\u0430\\u0442\\u0435\\u043b\\u044c\", \"\\u043d\\u0430\\u0437\\u043d\\u0430\\u0447\\u0438\\u0442\\u044c\", \"\\u043c\\u0435\\u0434\\u0432\\u0435\\u0434\\u0435\\u0432\", \"\\u0438\\u0437\\u0431\\u0438\\u0440\\u0430\\u0442\\u0435\\u043b\\u044c\\u043d\\u044b\\u0439\", \"\\u0433\\u043e\\u043b\\u043e\\u0441\", \"\\u043e\\u0442\\u0441\\u0442\\u0430\\u0432\\u043a\\u0430\", \"\\u0432\\u043e\\u0437\\u0433\\u043b\\u0430\\u0432\\u043b\\u044f\\u0442\\u044c\", \"\\u043f\\u0430\\u043b\\u0430\\u0442\\u0430\", \"\\u043f\\u0430\\u0440\\u043b\\u0430\\u043c\\u0435\\u043d\\u0442\", \"\\u0437\\u0430\\u043a\\u043e\\u043d\\u043e\\u043f\\u0440\\u043e\\u0435\\u043a\\u0442\", \"\\u0433\\u043e\\u043b\\u043e\\u0441\\u043e\\u0432\\u0430\\u043d\\u0438\\u0435\", \"\\u0436\\u0430\\u043b\\u043e\\u0431\\u0430\", \"\\u043e\\u0431\\u044f\\u0437\\u0430\\u043d\\u043d\\u043e\\u0441\\u0442\\u044c\", \"\\u0431\\u043e\\u0440\\u0438\\u0441\", \"\\u043a\\u0430\\u043d\\u0434\\u0438\\u0434\\u0430\\u0442\\u0443\\u0440\\u0430\", \"\\u0430\\u043d\\u0430\\u0442\\u043e\\u043b\\u0438\\u0439\", \"\\u0432\\u0438\\u0446\\u0430\", \"\\u043f\\u0440\\u0435\\u0437\\u0438\\u0434\\u0435\\u043d\\u0442\", \"\\u0441\\u043e\\u0432\\u0435\\u0442\", \"\\u0432\\u043b\\u0430\\u0434\\u0438\\u043c\\u0438\\u0440\", \"\\u0433\\u043b\\u0430\\u0432\\u0430\", \"\\u0437\\u0430\\u043a\\u043e\\u043d\", \"\\u0433\\u043e\\u0441\\u0443\\u0434\\u0430\\u0440\\u0441\\u0442\\u0432\\u043e\", \"\\u0430\\u043a\\u0446\\u0438\\u044f\", \"\\u043f\\u0440\\u0430\\u0432\\u0438\\u0442\\u0435\\u043b\\u044c\\u0441\\u0442\\u0432\\u043e\", \"\\u0434\\u043c\\u0438\\u0442\\u0440\\u0438\\u0439\", \"\\u0440\\u043e\\u0441\\u0441\\u0438\\u044f\", \"\\u0444\\u0435\\u0434\\u0435\\u0440\\u0430\\u043b\\u044c\\u043d\\u044b\\u0439\", \"\\u0430\\u043b\\u0435\\u043a\\u0441\\u0430\\u043d\\u0434\\u0440\", \"\\u0441\\u0435\\u0440\\u0433\\u0435\\u0439\", \"\\u0433\\u043e\\u0441\\u0443\\u0434\\u0430\\u0440\\u0441\\u0442\\u0432\\u0435\\u043d\\u043d\\u044b\\u0439\", \"\\u043f\\u0440\\u0438\\u043d\\u044f\\u0442\\u044c\", \"\\u043c\\u043e\\u0441\\u043a\\u0432\\u0430\", \"\\u043c\\u0438\\u043d\\u0438\\u0441\\u0442\\u0440\", \"\\u0440\\u0435\\u0448\\u0435\\u043d\\u0438\\u0435\", \"\\u0440\\u0435\\u0433\\u0438\\u043e\\u043d\", \"\\u0433\\u043e\\u0434\", \"\\u0432\\u043e\\u043f\\u0440\\u043e\\u0441\", \"\\u044d\\u0442\\u043e\", \"\\u043d\\u043e\\u0432\\u043e\\u0441\\u0442\\u044c\", \"\\u0441\\u043e\\u043e\\u0431\\u0449\\u0430\\u0442\\u044c\", \"\\u043a\\u043e\\u0442\\u043e\\u0440\\u044b\\u0439\", \"\\u043c\\u043e\\u0441\\u043a\\u043e\\u0432\\u0441\\u043a\\u0438\\u0439\", \"\\u0442\\u0430\\u043a\\u0436\\u0435\", \"\\u043f\\u043e\\u0437\\u0432\\u043e\\u043b\\u044f\\u0442\\u044c\", \"\\u0443\\u043d\\u0438\\u0432\\u0435\\u0440\\u0441\\u0438\\u0442\\u0435\\u0442\", \"\\u0448\\u043a\\u043e\\u043b\\u0430\", \"\\u043a\\u043e\\u043c\\u043f\\u044c\\u044e\\u0442\\u0435\\u0440\", \"\\u043f\\u0440\\u0435\\u0434\\u043b\\u0430\\u0433\\u0430\\u0442\\u044c\", \"\\u0438\\u0441\\u0441\\u043b\\u0435\\u0434\\u043e\\u0432\\u0430\\u0442\\u0435\\u043b\\u044c\", \"\\u043f\\u043e\\u044f\\u0432\\u043b\\u0435\\u043d\\u0438\\u0435\", \"\\u043f\\u0440\\u043e\\u0434\\u0443\\u043a\\u0446\\u0438\\u044f\", \"\\u043f\\u0430\\u043c\\u044f\\u0442\\u044c\", \"\\u043e\\u043f\\u044b\\u0442\", \"\\u0441\\u0443\\u0449\\u0435\\u0441\\u0442\\u0432\\u043e\\u0432\\u0430\\u0442\\u044c\", \"\\u0437\\u0430\\u0444\\u0438\\u043a\\u0441\\u0438\\u0440\\u043e\\u0432\\u0430\\u0442\\u044c\", \"\\u0441\\u043e\\u0447\\u0438\", \"\\u0443\\u0432\\u0435\\u043b\\u0438\\u0447\\u0438\\u0442\\u044c\", \"\\u0441\\u043e\\u0431\\u0440\\u0430\\u0442\\u044c\", \"\\u043e\\u043f\\u0440\\u0435\\u0434\\u0435\\u043b\\u0438\\u0442\\u044c\", \"\\u044d\\u043b\\u0435\\u043a\\u0442\\u0440\\u043e\\u043d\\u043d\\u044b\\u0439\", \"\\u043d\\u0430\\u0438\\u0431\\u043e\\u043b\\u0435\\u0435\", \"\\u0441\\u0432\\u044b\\u0448\\u0435\", \"\\u0441\\u043e\\u0432\\u0440\\u0435\\u043c\\u0435\\u043d\\u043d\\u044b\\u0439\", \"\\u043d\\u0435\\u0431\\u043e\\u043b\\u044c\\u0448\\u043e\\u0439\", \"\\u0444\\u0443\\u043d\\u043a\\u0446\\u0438\\u044f\", \"\\u0441\\u043f\\u043e\\u0441\\u043e\\u0431\", \"\\u0438\\u0437\\u0443\\u0447\\u0435\\u043d\\u0438\\u0435\", \"\\u043f\\u0440\\u0438\\u0445\\u043e\\u0434\\u0438\\u0442\\u044c\\u0441\\u044f\", \"\\u043e\\u0431\\u043b\\u0430\\u0434\\u0430\\u0442\\u044c\", \"\\u0437\\u043d\\u0430\\u0447\\u0438\\u0442\\u0435\\u043b\\u044c\\u043d\\u044b\\u0439\", \"\\u043e\\u0431\\u0440\\u0430\\u0442\\u0438\\u0442\\u044c\", \"\\u0430\\u043a\\u0442\\u0438\\u0432\\u043d\\u043e\", \"\\u0443\\u043a\\u0430\\u0437\\u044b\\u0432\\u0430\\u0442\\u044c\", \"\\u0441\\u043e\\u0437\\u0434\\u0430\\u043d\\u0438\\u0435\", \"\\u0438\\u0441\\u043f\\u043e\\u043b\\u044c\\u0437\\u043e\\u0432\\u0430\\u0442\\u044c\", \"\\u043f\\u0440\\u043e\\u0433\\u0440\\u0430\\u043c\\u043c\\u0430\", \"\\u043e\\u0431\\u044b\\u0447\\u043d\\u044b\\u0439\", \"\\u0440\\u0430\\u0437\\u0440\\u0430\\u0431\\u043e\\u0442\\u0430\\u0442\\u044c\", \"\\u0442\\u0435\\u0445\\u043d\\u043e\\u043b\\u043e\\u0433\\u0438\\u044f\", \"\\u0432\\u0438\\u0434\", \"\\u0434\\u043e\\u0441\\u0442\\u0443\\u043f\", \"\\u0441\\u0442\\u043e\\u0438\\u043c\\u043e\\u0441\\u0442\\u044c\", \"\\u0441\\u0438\\u0441\\u0442\\u0435\\u043c\\u0430\", \"\\u043a\\u0430\\u043c\\u0435\\u0440\\u0430\", \"\\u043f\\u043e\\u043b\\u0443\\u0447\\u0430\\u0442\\u044c\", \"\\u043f\\u043e\\u0434\\u043e\\u0431\\u043d\\u044b\\u0439\", \"\\u0440\\u0430\\u0431\\u043e\\u0442\\u0430\", \"\\u0441\\u043e\\u0437\\u0434\\u0430\\u0442\\u044c\", \"\\u043d\\u043e\\u0432\\u044b\\u0439\", \"\\u043c\\u043e\\u0447\\u044c\", \"\\u044f\\u0437\\u044b\\u043a\", \"\\u043a\\u043e\\u043b\\u0438\\u0447\\u0435\\u0441\\u0442\\u0432\\u043e\", \"\\u0432\\u044b\\u0441\\u043e\\u043a\\u0438\\u0439\", \"\\u0446\\u0435\\u043d\\u0430\", \"\\u043a\\u043e\\u0442\\u043e\\u0440\\u044b\\u0439\", \"\\u043f\\u0440\\u043e\\u0435\\u043a\\u0442\", \"\\u0432\\u043e\\u0437\\u043c\\u043e\\u0436\\u043d\\u043e\\u0441\\u0442\\u044c\", \"\\u044d\\u0442\\u043e\", \"\\u043f\\u043e\\u043c\\u043e\\u0449\\u044c\", \"\\u043f\\u043e\\u0437\\u0432\\u043e\\u043b\\u0438\\u0442\\u044c\", \"\\u0438\\u043d\\u0442\\u0435\\u0440\\u043d\\u0435\\u0442\", \"\\u044f\\u0432\\u043b\\u044f\\u0442\\u044c\\u0441\\u044f\", \"\\u0441\\u0430\\u0439\\u0442\", \"\\u0442\\u0430\\u043a\\u0436\\u0435\", \"\\u0432\\u0435\\u0441\\u044c\", \"\\u043a\\u0440\\u043e\\u043c\\u0435\", \"\\u0447\\u0435\\u043b\\u043e\\u0432\\u0435\\u043a\", \"\\u0432\\u0440\\u0435\\u043c\\u044f\", \"\\u0431\\u043e\\u043b\\u044c\\u0448\\u043e\\u0439\", \"\\u0441\\u0432\\u043e\\u0439\", \"\\u0434\\u0430\\u0442\\u044c\", \"\\u0447\\u0438\\u0441\\u043b\\u043e\", \"\\u0432\\u0441\\u0451\", \"\\u0436\\u0435\\u043d\\u0449\\u0438\\u043d\\u0430\", \"\\u0434\\u0432\\u0438\\u0436\\u0435\\u043d\\u0438\\u0435\", \"\\u0437\\u0434\\u0430\\u043d\\u0438\\u0435\", \"\\u0438\\u043d\\u0446\\u0438\\u0434\\u0435\\u043d\\u0442\", \"\\u0431\\u043e\\u043b\\u044c\\u043d\\u0438\\u0446\\u0430\", \"\\u0432\\u0435\\u0447\\u0435\\u0440\\u043e\\u043c\", \"\\u0436\\u0438\\u0432\\u043e\\u0442\\u043d\\u043e\\u0435\", \"\\u0440\\u0430\\u0441\\u043f\\u043e\\u043b\\u043e\\u0436\\u0438\\u0442\\u044c\", \"\\u0441\\u043c\\u0435\\u0440\\u0442\\u044c\", \"\\u0430\\u0432\\u0430\\u0440\\u0438\\u044f\", \"\\u043f\\u0440\\u043e\\u0438\\u0441\\u0448\\u0435\\u0441\\u0442\\u0432\\u0438\\u0435\", \"\\u0440\\u0430\\u043d\\u0435\\u043d\\u0438\\u0435\", \"\\u043c\\u0438\\u043b\\u0438\\u0446\\u0438\\u043e\\u043d\\u0435\\u0440\", \"\\u043c\\u0447\\u0441\", \"\\u0440\\u043e\\u0436\\u0434\\u0435\\u043d\\u0438\\u0435\", \"\\u0434\\u043e\\u043c\", \"\\u044d\\u043a\\u0441\\u043f\\u0435\\u0440\\u0438\\u043c\\u0435\\u043d\\u0442\", \"\\u043f\\u043e\\u0433\\u0438\\u0431\\u0448\\u0438\\u0439\", \"\\u044d\\u043a\\u0438\\u043f\\u0430\\u0436\", \"\\u043f\\u0430\\u0441\\u0441\\u0430\\u0436\\u0438\\u0440\", \"\\u0434\\u043e\\u0441\\u0442\\u0430\\u0432\\u0438\\u0442\\u044c\", \"\\u043f\\u043e\\u0436\\u0430\\u0440\\u043d\\u044b\\u0439\", \"\\u043f\\u0430\\u043c\\u044f\\u0442\\u043d\\u0438\\u043a\", \"\\u043e\\u0433\\u043e\\u043d\\u044c\", \"\\u043e\\u0442\\u0434\\u0435\\u043b\", \"\\u0440\\u0430\\u043d\\u0438\\u0442\\u044c\", \"\\u043d\\u0430\\u0441\\u0435\\u043b\\u0438\\u0442\\u044c\", \"\\u0443\\u0431\\u0438\\u0442\\u044b\\u0439\", \"\\u0444\\u0438\\u043b\\u0438\\u043f\\u043f\", \"\\u0443\\u0442\\u0440\\u043e\", \"\\u043f\\u043e\\u0433\\u0438\\u0431\\u043d\\u0443\\u0442\\u044c\", \"\\u0443\\u0441\\u0442\\u0440\\u043e\\u0438\\u0442\\u044c\", \"\\u043f\\u0440\\u043e\\u0438\\u0437\\u043e\\u0439\\u0442\\u0438\", \"\\u043d\\u0430\\u043f\\u0430\\u0434\\u0435\\u043d\\u0438\\u0435\", \"\\u0440\\u0430\\u0439\\u043e\\u043d\", \"\\u0443\\u043b\\u0438\\u0446\\u0430\", \"\\u0431\\u043e\\u0435\\u0432\\u0438\\u043a\", \"\\u043c\\u0435\\u0441\\u0442\\u043d\\u044b\\u0439\", \"\\u0447\\u0435\\u043b\\u043e\\u0432\\u0435\\u043a\", \"\\u0434\\u0432\\u043e\\u0435\", \"\\u0433\\u043e\\u0440\\u043e\\u0434\", \"\\u0441\\u043e\\u0432\\u0435\\u0440\\u0448\\u0438\\u0442\\u044c\", \"\\u0436\\u0438\\u0442\\u0435\\u043b\\u044c\", \"\\u0442\\u0435\\u043b\\u043e\", \"\\u043e\\u043a\\u043e\\u043b\\u043e\", \"\\u043d\\u0430\\u0445\\u043e\\u0434\\u0438\\u0442\\u044c\\u0441\\u044f\", \"\\u043c\\u0435\\u0441\\u0442\\u043e\", \"\\u0440\\u0435\\u0437\\u0443\\u043b\\u044c\\u0442\\u0430\\u0442\", \"\\u0446\\u0435\\u043d\\u0442\\u0440\", \"\\u0441\\u043e\\u043e\\u0431\\u0449\\u0430\\u0442\\u044c\", \"\\u0434\\u0430\\u043d\\u043d\\u044b\\u0435\", \"\\u0432\\u0440\\u0435\\u043c\\u044f\", \"\\u043c\\u043e\\u0441\\u043a\\u0432\\u0430\", \"\\u0438\\u043d\\u0442\\u0435\\u0440\\u0444\\u0430\\u043a\\u0441\", \"\\u043c\\u043e\\u0441\\u043a\\u043e\\u0432\\u0441\\u043a\\u0438\\u0439\", \"\\u043a\\u043e\\u0442\\u043e\\u0440\\u044b\\u0439\", \"\\u043d\\u0435\\u0441\\u043a\\u043e\\u043b\\u044c\\u043a\\u043e\", \"\\u043f\\u043e\\u043b\\u0443\\u0447\\u0438\\u0442\\u044c\", \"\\u0435\\u0449\\u0451\", \"\\u0440\\u0435\\u043a\\u043b\\u0430\\u043c\\u0430\", \"com\", \"\\u043a\\u043e\\u0441\\u043c\\u0438\\u0447\\u0435\\u0441\\u043a\\u0438\\u0439\", \"\\u0431\\u043e\\u0439\", \"\\u043f\\u0440\\u043e\\u0434\\u043e\\u043b\\u0436\\u0438\\u0442\\u044c\", \"\\u043f\\u0430\\u0440\\u0430\", \"\\u043e\\u0440\\u0431\\u0438\\u0442\\u0430\", \"\\u043f\\u0440\\u043e\\u0441\\u0442\\u0440\\u0430\\u043d\\u0441\\u0442\\u0432\\u043e\", \"\\u043a\\u043e\\u043d\\u043a\\u0443\\u0440\\u0441\", \"\\u0432\\u0435\\u0441\", \"\\u0432\\u044b\\u0441\\u043e\\u0442\\u0430\", \"\\u0438\\u0442\\u0430\\u043b\\u044c\\u044f\\u043d\\u0441\\u043a\\u0438\\u0439\", \"\\u0448\\u043e\\u0443\", \"\\u043f\\u043e\\u043b\", \"\\u043a\\u0430\\u0442\\u0435\\u0433\\u043e\\u0440\\u0438\\u044f\", \"\\u0440\\u0435\\u0433\\u0443\\u043b\\u044f\\u0440\\u043d\\u044b\\u0439\", \"\\u043a\\u043e\\u0441\\u043c\\u043e\\u0441\", \"\\u043d\\u0430\\u0434\\u0435\\u044f\\u0442\\u044c\\u0441\\u044f\", \"\\u043f\\u043e\\u0434\\u043d\\u044f\\u0442\\u044c\\u0441\\u044f\", \"\\u043e\\u0436\\u0438\\u0434\\u0430\\u0442\\u044c\", \"\\u0438\\u0441\\u043a\\u0430\\u0442\\u044c\", \"\\u0441\\u0442\\u043e\", \"\\u043a\\u043e\\u043d\\u0442\\u0440\\u043e\\u043b\\u0438\\u0440\\u043e\\u0432\\u0430\\u0442\\u044c\", \"\\u0438\\u0437\\u0432\\u0438\\u043d\\u0435\\u043d\\u0438\\u0435\", \"\\u0431\\u0438\\u043b\\u0435\\u0442\", \"\\u043e\\u0442\\u043e\\u0431\\u0440\\u0430\\u0442\\u044c\", \"\\u0441\\u043e\\u043c\\u043d\\u0435\\u043d\\u0438\\u0435\", \"\\u043f\\u043e\\u0435\\u0437\\u0434\\u043a\\u0430\", \"\\u0440\\u0435\\u0437\\u043a\\u0438\\u0439\", \"\\u0430\\u043d\\u0430\\u043b\\u0438\\u0442\\u0438\\u043a\", \"\\u0437\\u0430\\u044f\\u0432\\u043a\\u0430\", \"\\u043b\\u0435\\u0442\\u043d\\u0438\\u0439\", \"\\u043f\\u0440\\u0435\\u0434\\u0441\\u0442\\u0430\\u0432\\u0438\\u0442\\u044c\", \"\\u0432\\u0435\\u0440\\u043d\\u0443\\u0442\\u044c\\u0441\\u044f\", \"\\u0433\\u043e\\u0434\", \"\\u043f\\u043e\\u0442\\u0435\\u0440\\u044f\\u0442\\u044c\", \"\\u0445\\u043e\\u0440\\u043e\\u0448\\u0438\\u0439\", \"\\u0441\\u043b\\u0435\\u0434\\u0443\\u044e\\u0449\\u0438\\u0439\", \"\\u043f\\u0440\\u0438\\u0439\\u0442\\u0438\\u0441\\u044c\", \"\\u0437\\u043e\\u043d\\u0430\", \"\\u043d\\u0430\\u0437\\u0430\\u0434\", \"\\u043e\\u0441\\u0442\\u0430\\u0432\\u0438\\u0442\\u044c\", \"\\u0447\\u0435\\u0442\\u044b\\u0440\\u0435\", \"\\u0441\\u0442\\u0430\\u0442\\u044c\", \"\\u0441\\u0432\\u043e\\u0439\", \"\\u043f\\u043e\\u0441\\u043b\\u0435\\u0434\\u043d\\u0438\\u0439\", \"\\u043a\\u043e\\u043d\\u0435\\u0446\", \"\\u043f\\u0435\\u0440\\u0432\\u044b\\u0439\", \"\\u0434\\u0435\\u043d\\u044c\", \"\\u043a\\u043e\\u0442\\u043e\\u0440\\u044b\\u0439\", \"\\u0432\\u0440\\u0435\\u043c\\u044f\", \"\\u044d\\u0442\\u043e\", \"\\u043c\\u0435\\u0441\\u044f\\u0446\", \"\\u0431\\u043e\\u043b\\u044c\\u0448\\u043e\\u0439\", \"\\u0441\\u0430\\u043c\\u044b\\u0439\", \"\\u043f\\u0440\\u043e\\u0432\\u0435\\u0441\\u0442\\u0438\", \"\\u0432\\u0442\\u043e\\u0440\\u043e\\u0439\", \"\\u043f\\u043e\\u043b\\u0443\\u0447\\u0438\\u0442\\u044c\", \"\\u0438\\u044e\\u043d\\u044c\", \"\\u0441\\u043e\\u043e\\u0431\\u0449\\u0430\\u0442\\u044c\", \"\\u043e\\u0434\\u043d\\u0430\\u043a\\u043e\", \"\\u043d\\u0430\\u0447\\u0430\\u043b\\u043e\", \"\\u043d\\u0435\\u0441\\u043a\\u043e\\u043b\\u044c\\u043a\\u043e\", \"\\u0433\\u0440\\u0443\\u043f\\u043f\\u0430\", \"\\u0438\\u0437\\u0434\\u0430\\u043d\\u0438\\u0435\", \"\\u043c\\u043e\\u0447\\u044c\", \"\\u0441\\u0443\\u0434\", \"\\u0443\\u0433\\u043e\\u043b\\u043e\\u0432\\u043d\\u044b\\u0439\", \"\\u0443\\u0431\\u0438\\u0439\\u0441\\u0442\\u0432\\u043e\", \"\\u0441\\u043b\\u0435\\u0434\\u0441\\u0442\\u0432\\u0438\\u0435\", \"\\u043f\\u0440\\u043e\\u043a\\u0443\\u0440\\u0430\\u0442\\u0443\\u0440\\u0430\", \"\\u043f\\u0440\\u0435\\u0441\\u0442\\u0443\\u043f\\u043b\\u0435\\u043d\\u0438\\u0435\", \"\\u0432\\u043e\\u0437\\u0431\\u0443\\u0434\\u0438\\u0442\\u044c\", \"\\u043e\\u0431\\u0432\\u0438\\u043d\\u044f\\u0442\\u044c\", \"\\u0430\\u0434\\u0432\\u043e\\u043a\\u0430\\u0442\", \"\\u0441\\u043b\\u0435\\u0434\\u0441\\u0442\\u0432\\u0435\\u043d\\u043d\\u044b\\u0439\", \"\\u043f\\u0440\\u043e\\u0446\\u0435\\u0441\\u0441\", \"\\u043b\\u0438\\u0448\\u0435\\u043d\\u0438\\u0435\", \"\\u0430\\u0440\\u0435\\u0441\\u0442\", \"\\u0438\\u0441\\u043a\", \"\\u043f\\u0440\\u043e\\u043a\\u0443\\u0440\\u043e\\u0440\", \"\\u0441\\u0443\\u0434\\u0435\\u0431\\u043d\\u044b\\u0439\", \"\\u043f\\u0440\\u0438\\u0433\\u043e\\u0432\\u043e\\u0440\", \"\\u043f\\u043e\\u043f\\u0440\\u043e\\u0441\\u0438\\u0442\\u044c\", \"\\u043f\\u0443\\u0431\\u043b\\u0438\\u043a\\u0430\\u0446\\u0438\\u044f\", \"\\u043f\\u0440\\u0438\\u0433\\u043e\\u0432\\u043e\\u0440\\u0438\\u0442\\u044c\", \"\\u043d\\u0430\\u043a\\u0430\\u0437\\u0430\\u043d\\u0438\\u0435\", \"\\u0441\\u043b\\u0435\\u0434\\u043e\\u0432\\u0430\\u0442\\u0435\\u043b\\u044c\", \"\\u043f\\u0440\\u0438\\u0447\\u0430\\u0441\\u0442\\u043d\\u043e\\u0441\\u0442\\u044c\", \"\\u0432\\u0438\\u043d\\u043e\\u0432\\u043d\\u044b\\u0439\", \"\\u043f\\u0440\\u0435\\u0441\\u0442\\u0443\\u043f\\u043d\\u0438\\u043a\", \"\\u043a\\u043e\\u043b\\u043e\\u043d\\u0438\\u044f\", \"\\u043f\\u043e\\u0434\\u043e\\u0437\\u0440\\u0435\\u043d\\u0438\\u0435\", \"\\u0437\\u0430\\u043a\\u043b\\u044e\\u0447\\u0435\\u043d\\u0438\\u0435\", \"\\u0444\\u0438\\u0440\\u043c\\u0430\", \"\\u0443\\u0447\\u0440\\u0435\\u0436\\u0434\\u0435\\u043d\\u0438\\u0435\", \"\\u043b\\u0438\\u0446\\u043e\", \"\\u0434\\u0435\\u043b\\u043e\", \"\\u0441\\u0432\\u043e\\u0431\\u043e\\u0434\\u0430\", \"\\u0441\\u0442\\u0430\\u0442\\u044c\\u044f\", \"\\u043f\\u0440\\u0438\\u0437\\u043d\\u0430\\u0442\\u044c\", \"\\u043d\\u0430\\u0440\\u0443\\u0448\\u0435\\u043d\\u0438\\u0435\", \"\\u0433\\u043e\\u0434\", \"\\u0440\\u0443\\u0431\\u043b\\u044c\", \"\\u0437\\u0430\\u0434\\u0435\\u0440\\u0436\\u0430\\u0442\\u044c\", \"\\u0440\\u0430\\u0441\\u0441\\u043b\\u0435\\u0434\\u043e\\u0432\\u0430\\u043d\\u0438\\u0435\", \"\\u043a\\u043e\\u043c\\u0438\\u0442\\u0435\\u0442\", \"\\u043e\\u0442\\u043d\\u043e\\u0448\\u0435\\u043d\\u0438\\u0435\", \"\\u043a\\u043e\\u0442\\u043e\\u0440\\u044b\\u0439\", \"\\u043f\\u0440\\u0430\\u0432\\u043e\", \"\\u0432\\u0435\\u0440\\u0441\\u0438\\u044f\", \"\\u0443\\u043f\\u0440\\u0430\\u0432\\u043b\\u0435\\u043d\\u0438\\u0435\", \"\\u044d\\u0442\\u043e\", \"\\u0441\\u0435\\u0442\\u044c\", \"\\u043c\\u0438\\u043b\\u043b\\u0438\\u0430\\u0440\\u0434\", \"\\u0440\\u044b\\u043d\\u043e\\u043a\", \"\\u0440\\u0430\\u043a\\u0435\\u0442\\u0430\", \"\\u043f\\u0440\\u043e\\u0438\\u0437\\u0432\\u043e\\u0434\\u0441\\u0442\\u0432\\u043e\", \"\\u043a\\u043e\\u0440\\u0430\\u0431\\u043b\\u044c\", \"\\u0442\\u0440\\u0430\\u043d\\u0441\\u043f\\u043e\\u0440\\u0442\\u043d\\u044b\\u0439\", \"\\u0432\\u0432\\u0441\", \"\\u0438\\u0441\\u0442\\u0440\\u0435\\u0431\\u0438\\u0442\\u0435\\u043b\\u044c\", \"\\u0432\\u043e\\u0437\\u0434\\u0443\\u0448\\u043d\\u044b\\u0439\", \"\\u0432\\u043e\\u043e\\u0440\\u0443\\u0436\\u0435\\u043d\\u0438\\u0435\", \"\\u0437\\u0430\\u043f\\u0440\\u043e\\u0441\", \"\\u043e\\u0431\\u043e\\u0440\\u0443\\u0434\\u043e\\u0432\\u0430\\u043d\\u0438\\u0435\", \"\\u0443\\u0441\\u0442\\u0430\\u043d\\u043e\\u0432\\u043a\\u0430\", \"\\u043f\\u043e\\u0434\\u043c\\u043e\\u0441\\u043a\\u043e\\u0432\\u044c\\u0435\", \"\\u043f\\u043e\\u043a\\u0443\\u043f\\u043a\\u0430\", \"\\u043d\\u043e\\u0441\\u0438\\u0442\\u0435\\u043b\\u044c\", \"\\u0442\\u043e\\u0432\\u0430\\u0440\", \"\\u0440\\u0430\\u0441\\u0445\\u043e\\u0434\", \"\\u0442\\u043e\\u043d\\u043d\\u0430\", \"\\u0434\\u043e\\u0441\\u0442\\u0430\\u0442\\u043e\\u0447\\u043d\\u043e\", \"\\u0438\\u0441\\u043f\\u044b\\u0442\\u0430\\u043d\\u0438\\u0435\", \"\\u043e\\u0442\\u0435\\u043b\\u044c\", \"\\u0440\\u0430\\u043a\\u0435\\u0442\\u043d\\u044b\\u0439\", \"\\u043e\\u0431\\u0441\\u043b\\u0443\\u0436\\u0438\\u0432\\u0430\\u043d\\u0438\\u0435\", \"\\u043c\\u043e\\u0434\\u0435\\u0440\\u043d\\u0438\\u0437\\u0430\\u0446\\u0438\\u044f\", \"\\u044d\\u043a\\u0441\\u043f\\u043b\\u0443\\u0430\\u0442\\u0430\\u0446\\u0438\\u044f\", \"\\u0437\\u0430\\u043a\\u0443\\u043f\\u043a\\u0430\", \"\\u043f\\u043e\\u0447\\u0442\\u0430\", \"\\u0434\\u0432\\u0438\\u0433\\u0430\\u0442\\u0435\\u043b\\u044c\", \"\\u0441\\u0430\\u043c\\u043e\\u043b\\u0451\\u0442\", \"\\u0431\\u043e\\u0435\\u0432\\u043e\\u0439\", \"\\u0441\\u0443\\u043c\\u043c\\u0430\", \"\\u0434\\u043e\\u043b\\u043b\\u0430\\u0440\", \"\\u043c\\u0438\\u043b\\u043b\\u0438\\u043e\\u043d\", \"\\u043f\\u0440\\u043e\\u0446\\u0435\\u043d\\u0442\", \"\\u043f\\u043e\\u043b\\u0451\\u0442\", \"\\u0440\\u0443\\u0431\\u043b\\u044c\", \"\\u043a\\u043e\\u043c\\u043f\\u0430\\u043d\\u0438\\u044f\", \"\\u0431\\u0430\\u0437\\u0430\", \"\\u043a\\u043e\\u043c\\u043f\\u043b\\u0435\\u043a\\u0441\", \"\\u0441\\u043e\\u0441\\u0442\\u0430\\u0432\\u043b\\u044f\\u0442\\u044c\", \"\\u0437\\u0430\\u0432\\u0435\\u0440\\u0448\\u0438\\u0442\\u044c\", \"\\u0442\\u044b\\u0441\\u044f\\u0447\\u0430\", \"\\u043e\\u0431\\u0449\\u0438\\u0439\", \"\\u0441\\u043e\\u0441\\u0442\\u0430\\u0432\\u0438\\u0442\\u044c\", \"\\u0433\\u043e\\u0434\", \"\\u0441\\u0440\\u0435\\u0434\\u0441\\u0442\\u0432\\u043e\", \"\\u0432\\u043e\\u0435\\u043d\\u043d\\u044b\\u0439\", \"\\u043e\\u043a\\u043e\\u043b\\u043e\", \"\\u043a\\u0440\\u0443\\u043f\\u043d\\u044b\\u0439\", \"\\u043a\\u043e\\u043d\\u0442\\u0440\\u0430\\u043a\\u0442\", \"\\u0434\\u0430\\u043d\\u043d\\u044b\\u0435\", \"\\u043c\\u0438\\u043d\\u0438\\u0441\\u0442\\u0435\\u0440\\u0441\\u0442\\u0432\\u043e\", \"\\u0441\\u0438\\u0441\\u0442\\u0435\\u043c\\u0430\", \"\\u0441\\u043e\\u043e\\u0431\\u0449\\u0430\\u0442\\u044c\", \"\\u043f\\u0440\\u043e\\u0434\\u0430\\u0436\\u0430\", \"\\u0440\\u043e\\u0441\\u0441\\u0438\\u0439\\u0441\\u043a\\u0438\\u0439\", \"\\u043d\\u043e\\u0432\\u044b\\u0439\", \"\\u0442\\u0430\\u043a\\u0436\\u0435\", \"\\u0432\\u0437\\u0440\\u044b\\u0432\", \"\\u0442\\u0435\\u0440\\u0430\\u043a\\u0442\", \"\\u043a\\u0440\\u044b\\u043c\", \"\\u043f\\u043e\\u0436\\u0430\\u0440\", \"\\u0447\\u0435\\u0447\\u0435\\u043d\\u0441\\u043a\\u0438\\u0439\", \"\\u043e\\u043f\\u0440\\u043e\\u0432\\u0435\\u0440\\u0433\\u043d\\u0443\\u0442\\u044c\", \"\\u0440\\u0435\\u0430\\u043a\\u0446\\u0438\\u044f\", \"\\u0433\\u043e\\u0441\\u043f\\u0438\\u0442\\u0430\\u043b\\u0438\\u0437\\u0438\\u0440\\u043e\\u0432\\u0430\\u0442\\u044c\", \"media\", \"\\u0441\\u0442\\u0435\\u043f\\u0435\\u043d\\u044c\", \"\\u043e\\u0431\\u043c\\u0435\\u043d\", \"\\u043c\\u0435\\u0442\\u0440\\u043e\", \"\\u0432\\u0437\\u0440\\u044b\\u0432\\u043d\\u043e\\u0439\", \"\\u043a\\u0432\\u0430\\u0434\\u0440\\u0430\\u0442\\u043d\\u044b\\u0439\", \"\\u0441\\u0438\\u0440\\u0438\\u044f\", \"\\u0447\\u0435\\u0442\\u0432\\u0435\\u0440\\u043e\", \"\\u0441\\u0430\\u043c\\u043c\\u0438\\u0442\", \"\\u043b\\u0438\\u043a\\u0432\\u0438\\u0434\\u0430\\u0446\\u0438\\u044f\", \"\\u043f\\u0440\\u0435\\u0434\\u0441\\u0442\\u043e\\u044f\\u0449\\u0438\\u0439\", \"\\u0432\\u043e\\u0437\\u0433\\u043e\\u0440\\u0430\\u043d\\u0438\\u0435\", \"\\u043f\\u0440\\u0438\\u0441\\u0442\\u0443\\u043f\\u0438\\u0442\\u044c\", \"\\u0437\\u0430\\u043a\\u0440\\u044b\\u0442\\u0438\\u0435\", \"\\u0441\\u043d\\u044f\\u0442\\u043e\\u0439\", \"\\u044d\\u0442\\u0430\\u0436\", \"\\u0443\\u0431\\u0440\\u0430\\u0442\\u044c\", \"\\u043b\\u0430\\u0431\\u043e\\u0440\\u0430\\u0442\\u043e\\u0440\\u0438\\u044f\", \"\\u0447\\u0438\\u0441\\u043b\\u0435\\u043d\\u043d\\u043e\\u0441\\u0442\\u044c\", \"\\u0438\\u0441\\u043a\\u043b\\u044e\\u0447\\u0430\\u0442\\u044c\", \"\\u043f\\u0440\\u0430\\u0432\\u0438\\u0442\\u0435\\u043b\\u044c\\u0441\\u0442\\u0432\\u0435\\u043d\\u043d\\u044b\\u0439\", \"\\u043f\\u043e\\u0434\\u0432\\u043e\\u0434\\u043d\\u044b\\u0439\", \"\\u043f\\u043b\\u043e\\u0449\\u0430\\u0434\\u044c\", \"\\u0442\\u043e\\u0440\\u0433\\u043e\\u0432\\u044b\\u0439\", \"\\u0438\\u0441\\u043f\\u043e\\u043b\\u043d\\u0438\\u0442\\u0435\\u043b\\u044c\\u043d\\u044b\\u0439\", \"\\u0447\\u0435\\u0447\\u043d\\u044f\", \"\\u043c\\u0430\\u0439\", \"\\u0441\\u0442\\u0440\\u043e\\u0438\\u0442\\u0435\\u043b\\u044c\\u0441\\u0442\\u0432\\u043e\", \"\\u043f\\u043e\\u0441\\u0442\\u0440\\u0430\\u0434\\u0430\\u0442\\u044c\", \"\\u043f\\u0440\\u0435\\u0441\\u0441\", \"\\u0441\\u043b\\u0443\\u0436\\u0431\\u0430\", \"\\u043d\\u043e\\u0432\\u043e\\u0441\\u0442\\u044c\", \"\\u043e\\u043f\\u0435\\u0440\\u0430\\u0446\\u0438\\u044f\", \"\\u0440\\u0438\\u0430\", \"\\u043f\\u043e\\u043d\\u0435\\u0434\\u0435\\u043b\\u044c\\u043d\\u0438\\u043a\", \"\\u0431\\u0435\\u0437\\u043e\\u043f\\u0430\\u0441\\u043d\\u043e\\u0441\\u0442\\u044c\", \"\\u0441\\u043e\\u043e\\u0431\\u0449\\u0438\\u0442\\u044c\", \"\\u0442\\u0435\\u0440\\u0440\\u0438\\u0442\\u043e\\u0440\\u0438\\u044f\", \"\\u043e\\u0431\\u043b\\u0430\\u0441\\u0442\\u044c\", \"\\u0430\\u0433\\u0435\\u043d\\u0442\\u0441\\u0442\\u0432\\u043e\", \"\\u0441\\u0432\\u044f\\u0437\\u044c\", \"\\u0432\\u043e\\u0435\\u043d\\u043d\\u044b\\u0439\", \"\\u0440\\u0430\\u0431\\u043e\\u0442\\u0430\", \"\\u0438\\u043d\\u0444\\u043e\\u0440\\u043c\\u0430\\u0446\\u0438\\u044f\", \"\\u043c\\u043e\\u0441\\u043a\\u0432\\u0430\", \"\\u0441\\u0441\\u044b\\u043b\\u043a\\u0430\", \"\\u043f\\u0440\\u0435\\u0434\\u0441\\u0442\\u0430\\u0432\\u0438\\u0442\\u0435\\u043b\\u044c\", \"\\u0440\\u043e\\u0441\\u0441\\u0438\\u044f\", \"\\u0434\\u0430\\u043d\\u043d\\u044b\\u0435\", \"\\u043c\\u0430\\u0442\\u0447\", \"\\u043a\\u043e\\u043c\\u0430\\u043d\\u0434\\u0430\", \"\\u043e\\u0447\\u043a\\u043e\", \"\\u0442\\u0440\\u0435\\u043d\\u0435\\u0440\", \"\\u0444\\u0443\\u0442\\u0431\\u043e\\u043b\\u0438\\u0441\\u0442\", \"\\u043e\\u0441\\u0442\\u0430\\u0442\\u044c\\u0441\\u044f\", \"\\u0444\\u0443\\u0442\\u0431\\u043e\\u043b\\u044c\\u043d\\u044b\\u0439\", \"\\u043a\\u0443\\u0431\\u043e\\u043a\", \"\\u043f\\u0440\\u0435\\u043c\\u044c\\u0435\\u0440\", \"\\u0444\\u0443\\u0442\\u0431\\u043e\\u043b\", \"\\u043d\\u0430\\u0431\\u0440\\u0430\\u0442\\u044c\", \"\\u0444\\u0438\\u043d\\u0430\\u043b\", \"\\u0441\\u044b\\u0433\\u0440\\u0430\\u0442\\u044c\", \"\\u0433\\u043e\\u043b\", \"\\u043c\\u044f\\u0447\", \"\\u0435\\u0432\\u0440\\u043e\", \"\\u0441\\u043e\\u043f\\u0435\\u0440\\u043d\\u0438\\u043a\", \"\\u0437\\u0430\\u0431\\u0438\\u0442\\u044c\", \"\\u0441\\u0442\\u0430\\u0434\\u0438\\u043e\\u043d\", \"\\u0437\\u0430\\u0449\\u0438\\u0442\\u043d\\u0438\\u043a\", \"\\u0432\\u043e\\u0440\\u043e\\u0442\\u0430\", \"\\u0447\\u0435\\u043b\\u0441\\u0438\", \"\\u043f\\u043e\\u043b\\u0443\\u0437\\u0430\\u0449\\u0438\\u0442\\u043d\\u0438\\u043a\", \"\\u043f\\u043e\\u0440\\u0430\\u0436\\u0435\\u043d\\u0438\\u0435\", \"\\u0437\\u0435\\u043d\\u0438\\u0442\", \"\\u043d\\u044b\\u043d\\u0435\\u0448\\u043d\\u0438\\u0439\", \"\\u0433\\u0440\\u0443\\u043f\\u043f\\u043e\\u0432\\u043e\\u0439\", \"\\u0430\\u043d\\u0433\\u043b\\u0438\\u044f\", \"\\u0438\\u0441\\u043f\\u0430\\u043d\\u0438\\u044f\", \"\\u043b\\u0438\\u0433\\u0430\", \"\\u0438\\u0433\\u0440\\u043e\\u043a\", \"\\u0441\\u0431\\u043e\\u0440\\u043d\\u0430\\u044f\", \"\\u0441\\u0447\\u0451\\u0442\", \"\\u0447\\u0435\\u043c\\u043f\\u0438\\u043e\\u043d\\u0430\\u0442\", \"\\u043c\\u0438\\u043d\\u0443\\u0442\\u0430\", \"\\u0432\\u0441\\u0442\\u0440\\u0435\\u0447\\u0430\", \"\\u043d\\u0430\\u043f\\u0430\\u0434\\u0430\\u0442\\u044c\", \"\\u0437\\u0430\\u0432\\u0435\\u0440\\u0448\\u0438\\u0442\\u044c\\u0441\\u044f\", \"\\u043f\\u0435\\u0440\\u0432\\u044b\\u0439\", \"\\u043a\\u043e\\u043d\\u0442\\u0440\\u0430\\u043a\\u0442\", \"\\u0433\\u043b\\u0430\\u0432\\u043d\\u044b\\u0439\", \"\\u0438\\u0433\\u0440\\u0430\", \"\\u0441\\u043e\\u0441\\u0442\\u043e\\u044f\\u0442\\u044c\\u0441\\u044f\", \"\\u043a\\u043e\\u0442\\u043e\\u0440\\u044b\\u0439\", \"\\u0441\\u043e\\u043e\\u0431\\u0449\\u0430\\u0442\\u044c\", \"\\u043f\\u043e\\u043b\\u044c\\u0437\\u043e\\u0432\\u0430\\u0442\\u0435\\u043b\\u044c\", \"\\u0441\\u0435\\u0440\\u0432\\u0438\\u0441\", \"\\u0442\\u0443\\u0440\", \"twitter\", \"google\", \"\\u0441\\u043c\\u0430\\u0440\\u0442\\u0444\\u043e\\u043d\", \"apple\", \"\\u043c\\u043e\\u0431\\u0438\\u043b\\u044c\\u043d\\u044b\\u0439\", \"\\u043f\\u0440\\u0438\\u043b\\u043e\\u0436\\u0435\\u043d\\u0438\\u0435\", \"\\u0447\\u0435\\u0442\\u0432\\u0451\\u0440\\u0442\\u044b\\u0439\", \"\\u043c\\u043e\\u0434\\u0435\\u043b\\u044c\", \"\\u043a\\u043e\\u043d\\u0441\\u043e\\u043b\\u044c\", \"\\u043f\\u043b\\u0430\\u0442\\u0444\\u043e\\u0440\\u043c\\u0430\", \"\\u0430\\u043a\\u043a\\u0430\\u0443\\u043d\\u0442\", \"microsoft\", \"xbox\", \"\\u0441\\u0442\\u0443\\u0434\\u0438\\u044f\", \"iphone\", \"\\u0438\\u0433\\u0440\\u043e\\u0432\\u043e\\u0439\", \"playstation\", \"\\u044d\\u043a\\u0440\\u0430\\u043d\", \"\\u0433\\u0435\\u0440\\u043e\\u0439\", \"windows\", \"\\u0441\\u043e\\u0437\\u0434\\u0430\\u0442\\u0435\\u043b\\u044c\", \"\\u0441\\u0435\\u043a\\u0443\\u043d\\u0434\\u0430\", \"\\u0441\\u044e\\u0436\\u0435\\u0442\", \"\\u043e\\u043d\\u043b\\u0430\\u0439\\u043d\", \"\\u0438\\u0441\\u043f\\u0430\\u043d\\u0435\\u0446\", \"\\u0443\\u043f\\u0440\\u0430\\u0432\\u043b\\u044f\\u0442\\u044c\", \"\\u0434\\u0435\\u043d\\u0438\\u0441\", \"\\u0440\\u0430\\u0437\\u0440\\u0430\\u0431\\u043e\\u0442\\u0447\\u0438\\u043a\", \"\\u0444\\u0438\\u043b\\u044c\\u043c\", \"\\u0432\\u044b\\u043f\\u0443\\u0441\\u0442\\u0438\\u0442\\u044c\", \"\\u0438\\u0433\\u0440\\u0430\", \"\\u0443\\u0441\\u0442\\u0440\\u043e\\u0439\\u0441\\u0442\\u0432\\u043e\", \"\\u043a\\u043e\\u043c\\u043f\\u0430\\u043d\\u0438\\u044f\", \"\\u043f\\u0440\\u043e\\u0434\\u0430\\u0436\\u0430\", \"\\u0432\\u0435\\u0440\\u0441\\u0438\\u044f\", \"\\u0441\\u0435\\u0440\\u0438\\u044f\", \"\\u0441\\u0430\\u0439\\u0442\", \"\\u043f\\u043e\\u044f\\u0432\\u0438\\u0442\\u044c\\u0441\\u044f\", \"\\u043d\\u043e\\u0432\\u044b\\u0439\", \"\\u043f\\u0435\\u0440\\u0432\\u044b\\u0439\", \"\\u0432\\u044b\\u0439\\u0442\\u0438\", \"\\u0438\\u043d\\u0442\\u0435\\u0440\\u043d\\u0435\\u0442\", \"\\u0442\\u0430\\u043a\\u0436\\u0435\", \"\\u043a\\u043e\\u0442\\u043e\\u0440\\u044b\\u0439\", \"\\u0441\\u0442\\u0430\\u0442\\u044c\", \"\\u0433\\u043e\\u0434\", \"\\u043a\\u043b\\u0443\\u0431\", \"\\u0447\\u0435\\u043c\\u043f\\u0438\\u043e\\u043d\", \"\\u0441\\u0435\\u0437\\u043e\\u043d\", \"\\u0441\\u043f\\u043e\\u0440\\u0442\", \"\\u043e\\u043b\\u0438\\u043c\\u043f\\u0438\\u0439\\u0441\\u043a\\u0438\\u0439\", \"\\u0441\\u043f\\u043e\\u0440\\u0442\\u0441\\u043c\\u0435\\u043d\", \"\\u044d\\u0442\\u0430\\u043f\", \"\\u0434\\u0438\\u043d\\u0430\\u043c\\u043e\", \"\\u0444\\u043e\\u0440\\u0432\\u0430\\u0440\\u0434\", \"\\u0441\\u043f\\u0430\\u0440\\u0442\\u0430\\u043a\", \"\\u0441\\u043f\\u043e\\u0440\\u0442\\u0438\\u0432\\u043d\\u044b\\u0439\", \"\\u043d\\u0445\\u043b\", \"\\u043a\\u0430\\u0440\\u044c\\u0435\\u0440\\u0430\", \"\\u0441\\u043e\\u0440\\u0435\\u0432\\u043d\\u043e\\u0432\\u0430\\u043d\\u0438\\u0435\", \"\\u0444\\u043b\\u0430\\u0433\", \"\\u043c\\u0435\\u0434\\u0430\\u043b\\u044c\", \"\\u043e\\u043b\\u0438\\u043c\\u043f\\u0438\\u0430\\u0434\\u0430\", \"\\u0432\\u043e\\u0437\\u0440\\u0430\\u0441\\u0442\", \"\\u0446\\u0441\\u043a\\u0430\", \"\\u043e\\u0434\\u0435\\u0440\\u0436\\u0430\\u0442\\u044c\", \"\\u043f\\u043e\\u0435\\u0434\\u0438\\u043d\\u043e\\u043a\", \"\\u0448\\u0430\\u0439\\u0431\\u0430\", \"\\u0432\\u044f\\u0447\\u0435\\u0441\\u043b\\u0430\\u0432\", \"\\u0437\\u043e\\u043b\\u043e\\u0442\\u043e\\u0439\", \"\\u0441\\u043f\\u043e\\u0440\\u0442\\u0441\\u043c\\u0435\\u043d\\u043a\\u0430\", \"\\u0431\\u043e\\u043a\\u0441\\u0451\\u0440\", \"\\u0432\\u044b\\u0437\\u043e\\u0432\", \"\\u0437\\u0430\\u0432\\u043e\\u0435\\u0432\\u0430\\u0442\\u044c\", \"\\u0442\\u0438\\u0442\\u0443\\u043b\", \"\\u0443\\u043c\\u0435\\u0440\\u0435\\u0442\\u044c\", \"\\u043f\\u043e\\u0431\\u0435\\u0434\\u0430\", \"\\u0432\\u044b\\u0438\\u0433\\u0440\\u0430\\u0442\\u044c\", \"\\u043c\\u0438\\u0440\", \"\\u0432\\u044b\\u0441\\u0442\\u0443\\u043f\\u0430\\u0442\\u044c\", \"\\u0440\\u043e\\u0441\\u0441\\u0438\\u044f\\u043d\\u0438\\u043d\", \"\\u0447\\u0435\\u043c\\u043f\\u0438\\u043e\\u043d\\u0430\\u0442\", \"\\u0440\\u043e\\u0441\\u0441\\u0438\\u0439\\u0441\\u043a\\u0438\\u0439\", \"\\u0440\\u043e\\u0441\\u0441\\u0438\\u044f\", \"\\u0438\\u0433\\u0440\\u0430\", \"\\u0432\\u0442\\u043e\\u0440\\u043e\\u0439\", \"\\u043c\\u043e\\u0441\\u043a\\u043e\\u0432\\u0441\\u043a\\u0438\\u0439\", \"\\u0441\\u0442\\u0430\\u0442\\u044c\", \"\\u043c\\u0435\\u0441\\u0442\\u043e\", \"\\u0443\\u0447\\u0430\\u0441\\u0442\\u0438\\u0435\", \"\\u0441\\u0431\\u043e\\u0440\\u043d\\u0430\\u044f\", \"\\u044d\\u0442\\u043e\", \"\\u043f\\u0440\\u043e\\u0439\\u0442\\u0438\", \"\\u0433\\u043e\\u0434\", \"\\u0443\\u0447\\u0451\\u043d\\u044b\\u0439\", \"\\u043a\\u0438\\u043b\\u043e\\u043c\\u0435\\u0442\\u0440\", \"\\u043e\\u0447\\u0435\\u043d\\u044c\", \"\\u043a\\u0430\\u043d\\u0430\\u043b\", \"\\u0444\\u043e\\u0442\\u043e\\u0433\\u0440\\u0430\\u0444\\u0438\\u044f\", \"\\u0432\\u043e\\u0434\\u0438\\u0442\\u0435\\u043b\\u044c\", \"\\u0432\\u043e\\u0434\\u0430\", \"\\u0441\\u043f\\u0443\\u0442\\u043d\\u0438\\u043a\", \"\\u043a\\u043d\\u0438\\u0433\\u0430\", \"\\u0441\\u043a\\u043e\\u0440\\u043e\\u0441\\u0442\\u044c\", \"\\u0432\\u044b\\u0432\\u043e\\u0434\", \"\\u0437\\u0432\\u0435\\u0437\\u0434\\u0430\", \"\\u0438\\u0437\\u043e\\u0431\\u0440\\u0430\\u0436\\u0435\\u043d\\u0438\\u0435\", \"\\u0431\\u043b\\u043e\\u0433\", \"\\u043e\\u0441\\u0442\\u0440\\u043e\\u0432\", \"\\u043f\\u043b\\u0430\\u043d\\u0435\\u0442\\u0430\", \"\\u043e\\u0442\\u043b\\u0438\\u0447\\u0430\\u0442\\u044c\\u0441\\u044f\", \"\\u0441\\u043e\\u0431\\u0430\\u043a\\u0430\", \"\\u043c\\u0430\\u0441\\u0441\\u0430\", \"\\u0444\\u0438\\u0437\\u0438\\u0447\\u0435\\u0441\\u043a\\u0438\\u0439\", \"\\u0430\\u043a\\u0442\\u0438\\u0432\\u043d\\u044b\\u0439\", \"\\u043f\\u043e\\u0432\\u0435\\u0440\\u0445\\u043d\\u043e\\u0441\\u0442\\u044c\", \"\\u0447\\u0430\\u0441\\u0442\\u044b\\u0439\", \"\\u0441\\u043e\\u0442\\u043d\\u044f\", \"\\u0441\\u043d\\u0438\\u043c\\u043e\\u043a\", \"\\u043e\\u0441\\u043e\\u0431\\u0435\\u043d\\u043d\\u043e\\u0441\\u0442\\u044c\", \"\\u0430\\u0432\\u0441\\u0442\\u0440\\u0430\\u043b\\u0438\\u0439\\u0441\\u043a\\u0438\\u0439\", \"\\u0441\\u0438\\u0433\\u043d\\u0430\\u043b\", \"\\u0441\\u0442\\u043e\\u043b\\u043a\\u043d\\u0443\\u0442\\u044c\\u0441\\u044f\", \"\\u0440\\u0435\\u0441\\u0442\\u043e\\u0440\\u0430\\u043d\", \"\\u0436\\u0443\\u0440\\u043d\\u0430\\u043b\", \"\\u0437\\u0435\\u043c\\u043b\\u044f\", \"\\u0432\\u044b\\u044f\\u0441\\u043d\\u0438\\u0442\\u044c\", \"\\u043e\\u043f\\u0443\\u0431\\u043b\\u0438\\u043a\\u043e\\u0432\\u0430\\u0442\\u044c\", \"\\u043e\\u0431\\u044a\\u0435\\u043a\\u0442\", \"\\u0438\\u0441\\u0441\\u043b\\u0435\\u0434\\u043e\\u0432\\u0430\\u043d\\u0438\\u0435\", \"\\u043f\\u043e\\u043a\\u0430\\u0437\\u0430\\u0442\\u044c\", \"\\u043c\\u0435\\u0442\\u0440\", \"\\u0430\\u0432\\u0442\\u043e\\u0440\", \"\\u0430\\u043f\\u043f\\u0430\\u0440\\u0430\\u0442\", \"\\u0447\\u0430\\u0441\", \"\\u0440\\u0435\\u0437\\u0443\\u043b\\u044c\\u0442\\u0430\\u0442\", \"\\u043e\\u0431\\u043d\\u0430\\u0440\\u0443\\u0436\\u0438\\u0442\\u044c\", \"\\u043a\\u043e\\u0442\\u043e\\u0440\\u044b\\u0439\", \"\\u043f\\u043e\\u043b\\u0438\\u0446\\u0438\\u044f\", \"\\u043c\\u0443\\u0436\\u0447\\u0438\\u043d\\u0430\", \"\\u043f\\u0440\\u0430\\u0432\\u043e\\u043e\\u0445\\u0440\\u0430\\u043d\\u0438\\u0442\\u0435\\u043b\\u044c\\u043d\\u044b\\u0439\", \"\\u0430\\u0432\\u0442\\u043e\\u043c\\u043e\\u0431\\u0438\\u043b\\u044c\", \"\\u043d\\u0430\\u0439\\u0442\\u0438\", \"\\u043f\\u043e\\u043b\\u0438\\u0446\\u0435\\u0439\\u0441\\u043a\\u0438\\u0439\", \"\\u043c\\u0438\\u043b\\u0438\\u0446\\u0438\\u044f\", \"\\u0434\\u0435\\u0432\\u0443\\u0448\\u043a\\u0430\", \"\\u0440\\u0443\\u043a\\u0430\", \"\\u043f\\u043e\\u0440\\u044f\\u0434\\u043e\\u043a\", \"\\u0437\\u0430\\u0432\\u0435\\u0434\\u0435\\u043d\\u0438\\u0435\", \"\\u043f\\u043e\\u0445\\u0438\\u0442\\u0438\\u0442\\u044c\", \"\\u043f\\u0440\\u0438\\u0431\\u044b\\u043b\\u044c\", \"\\u043f\\u043e\\u0442\\u0435\\u0440\\u043f\\u0435\\u0432\\u0448\\u0438\\u0439\", \"\\u0442\\u0440\\u043e\\u0435\", \"\\u044d\\u043a\\u0441\\u043f\\u0435\\u0440\\u0442\\u0438\\u0437\\u0430\", \"\\u0443\\u0432\\u0438\\u0434\\u0435\\u0442\\u044c\", \"\\u0437\\u0430\\u0432\\u043e\\u0434\", \"\\u043f\\u043e\\u0441\\u0435\\u0442\\u0438\\u0442\\u0435\\u043b\\u044c\", \"\\u043f\\u0435\\u0440\\u0435\\u0441\\u0442\\u0430\\u0442\\u044c\", \"\\u043d\\u043e\\u0433\\u0430\", \"\\u0440\\u043e\\u0431\\u043e\\u0442\", \"\\u0430\\u0432\\u0442\\u043e\\u043c\\u043e\\u0431\\u0438\\u043b\\u044c\\u043d\\u044b\\u0439\", \"\\u043f\\u043e\\u0442\\u0440\\u0435\\u0431\\u043e\\u0432\\u0430\\u0442\\u044c\\u0441\\u044f\", \"\\u0431\\u0430\\u0440\", \"\\u043f\\u043e\\u0434\\u043e\\u0439\\u0442\\u0438\", \"\\u043f\\u043e\\u0437\\u0432\\u043e\\u043d\\u0438\\u0442\\u044c\", \"\\u0431\\u0438\\u0442\\u044c\", \"\\u043f\\u0435\\u0440\\u0435\\u0435\\u0445\\u0430\\u0442\\u044c\", \"\\u0432\\u043e\\u0437\\u0431\\u0443\\u0436\\u0434\\u0435\\u043d\\u0438\\u0435\", \"\\u0440\\u0435\\u0431\\u0451\\u043d\\u043e\\u043a\", \"\\u043c\\u0430\\u0448\\u0438\\u043d\\u0430\", \"\\u0437\\u0430\\u0434\\u0435\\u0440\\u0436\\u0430\\u0442\\u044c\", \"\\u043e\\u0440\\u0433\\u0430\\u043d\", \"\\u043c\\u0432\\u0434\", \"\\u043d\\u0435\\u0438\\u0437\\u0432\\u0435\\u0441\\u0442\\u043d\\u044b\\u0439\", \"\\u0441\\u043e\\u0442\\u0440\\u0443\\u0434\\u043d\\u0438\\u043a\", \"\\u0434\\u043e\\u0440\\u043e\\u0433\\u0430\", \"\\u0441\\u043a\\u0440\\u044b\\u0442\\u044c\\u0441\\u044f\", \"\\u0434\\u0435\\u043d\\u044c\\u0433\\u0430\", \"\\u043f\\u043e\\u0441\\u0442\\u0440\\u0430\\u0434\\u0430\\u0442\\u044c\", \"\\u043f\\u043e\\u0434\\u043e\\u0437\\u0440\\u0435\\u0432\\u0430\\u0442\\u044c\", \"\\u0438\\u043c\\u044f\", \"\\u0441\\u043e\\u043e\\u0431\\u0449\\u0435\\u043d\\u0438\\u0435\", \"\\u043e\\u0431\\u043b\\u0430\\u0441\\u0442\\u044c\", \"\\u043a\\u043e\\u0442\\u043e\\u0440\\u044b\\u0439\", \"\\u0441\\u043e\\u043e\\u0431\\u0449\\u0430\\u0442\\u044c\", \"\\u044d\\u0442\\u043e\", \"\\u0440\\u0430\\u0441\\u0441\\u043a\\u0430\\u0437\\u0430\\u0442\\u044c\", \"the\", \"\\u0431\\u0440\\u0438\\u0442\\u0430\\u043d\\u0441\\u043a\\u0438\\u0439\", \"\\u0448\\u0442\\u0430\\u0442\", \"news\", \"\\u0444\\u0440\\u0430\\u043d\\u0446\\u0443\\u0437\\u0441\\u043a\\u0438\\u0439\", \"\\u0432\\u0435\\u043b\\u0438\\u043a\\u043e\\u0431\\u0440\\u0438\\u0442\\u0430\\u043d\\u0438\\u044f\", \"\\u043a\\u0438\\u0442\\u0430\\u0439\", \"\\u0432\\u0435\\u0440\\u0442\\u043e\\u043b\\u0451\\u0442\", \"\\u0440\\u043e\\u043b\\u0438\\u043a\", \"\\u0444\\u0440\\u0430\\u043d\\u0446\\u0438\\u044f\", \"\\u0432\\u0430\\u0448\\u0438\\u043d\\u0433\\u0442\\u043e\\u043d\", \"\\u043a\\u0438\\u043b\\u043e\\u0433\\u0440\\u0430\\u043c\\u043c\", \"daily\", \"\\u043f\\u0435\\u0441\\u043e\\u043a\", \"\\u0441\\u0443\\u0434\\u043d\\u043e\", \"afp\", \"\\u043c\\u043e\\u0440\\u0441\\u043a\\u043e\\u0439\", \"\\u0435\\u0433\\u0438\\u043f\\u0435\\u0442\", \"\\u0441\\u043d\\u0430\\u0447\\u0430\\u043b\\u0430\", \"\\u043f\\u043e\\u043b\\u0443\\u043e\\u0441\\u0442\\u0440\\u043e\\u0432\", \"\\u0443\\u043a\\u0430\\u0437\\u0430\\u043d\\u043d\\u044b\\u0439\", \"\\u043d\\u0435\\u0434\\u0430\\u043b\\u0435\\u043a\\u043e\", \"\\u0438\\u0440\\u0430\\u043a\", \"\\u043e\\u0442\\u043a\\u0443\\u0434\\u0430\", \"\\u0431\\u0435\\u0440\\u0435\\u0433\", \"\\u0441\\u0442\\u0440\\u0430\\u0434\\u0430\\u0442\\u044c\", \"\\u0433\\u043e\\u0441\\u0441\\u0435\\u043a\\u0440\\u0435\\u0442\\u0430\\u0440\\u044c\", \"\\u0442\\u0430\\u043c\\u043e\\u0436\\u0435\\u043d\\u043d\\u044b\\u0439\", \"post\", \"\\u043f\\u0440\\u043e\\u0432\\u0430\\u0439\\u0434\\u0435\\u0440\", \"\\u0441\\u0448\\u0430\", \"\\u0430\\u043c\\u0435\\u0440\\u0438\\u043a\\u0430\\u043d\\u0441\\u043a\\u0438\\u0439\", \"\\u043f\\u0430\\u0440\\u043a\", \"\\u0443\\u0442\\u043e\\u0447\\u043d\\u044f\\u0442\\u044c\\u0441\\u044f\", \"\\u043e\\u0442\\u043a\\u0430\\u0437\\u0430\\u0442\\u044c\\u0441\\u044f\", \"\\u044e\\u0436\\u043d\\u044b\\u0439\", \"\\u043f\\u0438\\u0441\\u0430\\u0442\\u044c\", \"\\u0432\\u043e\\u0439\\u043d\\u0430\", \"\\u043d\\u0435\\u0434\\u0435\\u043b\\u044f\", \"\\u043c\\u0438\\u0440\\u043e\\u0432\\u043e\\u0439\", \"\\u0441\\u043e\\u043e\\u0431\\u0449\\u0430\\u0442\\u044c\", \"\\u043e\\u043f\\u0435\\u0440\\u0430\\u0446\\u0438\\u044f\", \"\\u0434\\u0440\\u0443\\u0433\", \"\\u0441\\u043e\\u0446\\u0438\\u0430\\u043b\\u044c\\u043d\\u044b\\u0439\", \"facebook\", \"\\u043e\\u0431\\u044b\\u0433\\u0440\\u0430\\u0442\\u044c\", \"\\u0441\\u0442\\u0440\\u0430\\u043d\\u0438\\u0446\\u0430\", \"\\u043f\\u043e\\u043f\\u0443\\u043b\\u044f\\u0440\\u043d\\u044b\\u0439\", \"\\u0440\\u0435\\u0439\\u0442\\u0438\\u043d\\u0433\", \"\\u0430\\u0441\\u0441\\u043e\\u0446\\u0438\\u0430\\u0446\\u0438\\u044f\", \"\\u0441\\u043e\\u0446\\u0441\\u0435\\u0442\\u044c\", \"\\u0440\\u043e\\u0441\\u0441\\u0438\\u044f\\u043d\\u043a\\u0430\", \"\\u043f\\u0440\\u043e\\u0438\\u0433\\u0440\\u0430\\u0442\\u044c\", \"\\u0442\\u0435\\u043d\\u043d\\u0438\\u0441\\u0438\\u0441\\u0442\", \"\\u0430\\u043c\\u0435\\u0440\\u0438\\u043a\\u0430\\u043d\\u0435\\u0446\", \"\\u043d\\u0430\\u0434\\u0435\\u0436\\u0434\\u0430\", \"\\u043f\\u043e\\u0434\\u0430\\u0447\\u0430\", \"\\u0442\\u0443\\u0440\\u0446\\u0438\\u044f\", \"\\u0442\\u0435\\u043d\\u043d\\u0438\\u0441\\u0438\\u0441\\u0442\\u043a\\u0430\", \"\\u043a\\u0440\\u0443\\u0433\", \"\\u0441\\u0435\\u0442\", \"\\u0436\\u0435\\u043d\\u0441\\u043a\\u0438\\u0439\", \"\\u043f\\u043e\\u043b\\u0443\\u0444\\u0438\\u043d\\u0430\\u043b\", \"\\u0443\\u0441\\u0442\\u0443\\u043f\\u0438\\u0442\\u044c\", \"\\u0434\\u0435\\u043c\\u0435\\u043d\\u0442\\u044c\\u0435\\u0432\", \"\\u043a\\u0443\\u0437\\u043d\\u0435\\u0446\\u043e\\u0432\", \"\\u0440\\u0430\\u043a\\u0435\\u0442\\u043a\\u0430\", \"\\u0432\\u043a\\u043e\\u043d\\u0442\\u0430\\u043a\\u0442\\u0435\", \"\\u0443\\u0438\\u043b\\u044c\\u044f\\u043c\\u0441\", \"\\u0448\\u0430\\u0440\\u0430\\u043f\\u043e\\u0432\", \"\\u0444\\u0435\\u0434\\u0435\\u0440\\u0435\\u0440\", \"open\", \"\\u0442\\u0443\\u0440\\u043d\\u0438\\u0440\", \"\\u043c\\u0438\\u0440\\u043e\\u0432\\u043e\\u0439\", \"\\u0435\\u043b\\u0435\\u043d\\u0430\", \"\\u0442\\u0440\\u0435\\u0442\\u0438\\u0439\", \"\\u043c\\u0435\\u0441\\u0442\\u043e\", \"\\u0443\\u0441\\u043b\\u0443\\u0433\\u0430\", \"\\u043f\\u0435\\u0440\\u0432\\u044b\\u0439\", \"\\u0440\\u043e\\u0441\\u0441\\u0438\\u0439\\u0441\\u043a\\u0438\\u0439\", \"\\u0441\\u0432\\u043e\\u0439\"], \"Freq\": [20938.0, 3247.0, 3445.0, 4217.0, 4517.0, 9519.0, 3458.0, 3689.0, 4864.0, 3288.0, 2357.0, 2563.0, 4203.0, 5803.0, 2307.0, 3051.0, 1724.0, 1717.0, 1730.0, 1851.0, 2349.0, 2371.0, 1407.0, 1787.0, 4737.0, 2343.0, 2098.0, 1514.0, 3230.0, 3066.0, 2309.27453624824, 1279.51193001699, 914.803244923865, 875.5349361643594, 775.8353664617988, 611.9760669634444, 604.4574714354759, 589.358441874785, 571.0236188239197, 538.090120571136, 533.6780855442249, 510.724572127333, 478.2982489887766, 462.9154127623669, 460.95184826152405, 418.7527828435485, 385.0853984061502, 381.24138324577007, 380.5421880557874, 350.7730686284475, 347.4371094083303, 322.1806650287866, 316.60036107002486, 312.17023523146, 298.8788865485982, 295.0372202576462, 284.45714445341537, 273.9848456194861, 271.0138419867754, 251.33038393431335, 512.7574734468736, 1888.9130940403365, 1530.0638444181188, 464.4973763222592, 591.4536785753047, 1339.6095611601086, 2320.074637879101, 4050.090509429286, 1350.1881463356638, 1123.6967855811636, 855.7230356076841, 1013.2954053991991, 882.7793915277174, 1397.6835509497016, 2905.8149174231403, 2761.8216328194417, 832.6362690213078, 1248.710753499352, 1008.9814356709154, 3467.5969094818097, 4677.057603130291, 1481.5615878895703, 1434.1138833931514, 2510.300538755785, 3340.578723553444, 1193.174897809192, 1611.9723543424423, 983.4223936702274, 1242.8034372285624, 1612.3460052637897, 1111.023821945841, 1213.2121091487106, 1021.1826379156972, 1050.0394925935773, 1046.307410095564, 1542.8167603193149, 1474.0758126246778, 1398.8397624149477, 1079.6328958378745, 1006.2232821481998, 903.2396237617245, 797.9246671320175, 771.6810831798824, 756.1516385427236, 723.4776530368935, 677.2259947660107, 653.5276592343371, 638.8626340082719, 626.3822676982932, 588.6984491204872, 564.4127672441181, 563.1053950973019, 511.6691019075153, 477.11393291429323, 445.44038450669757, 421.89105541051293, 393.05327245126807, 392.4300856584437, 383.05072232149485, 357.07874887804144, 347.0869114309011, 341.6989479747719, 336.1308111566267, 330.3328523963311, 292.07998704217994, 593.3487245045457, 3628.704985310659, 767.0024631907838, 1788.2221657331834, 2573.5966672066224, 1140.1080225860717, 904.3077965756437, 1256.9595369425172, 897.1875346774401, 900.7939152818749, 3746.5291991111567, 885.2080242149789, 981.2383928841184, 935.282137595527, 782.5765794110465, 1118.8487190748162, 1310.4042305194046, 861.4157326905814, 1050.9210855290805, 768.9067715058424, 1712.660061522864, 856.1072797967702, 1394.5664642084137, 861.3073312674517, 942.7177104641443, 967.4865252229952, 836.0684937646387, 837.7635254240694, 755.5095437057663, 730.7664538951782, 727.2105699863681, 674.7934644092148, 551.4017502036644, 493.9722967228512, 399.5129132404615, 390.0426976354883, 383.80854493539556, 350.6434353621911, 345.13522920348805, 338.2311807712696, 334.01797113852746, 290.47432002734894, 289.2526009355175, 289.24423045278843, 404.7459219243227, 259.3258682914291, 256.5342694489996, 256.4389087959297, 256.2061922351427, 253.42859181092894, 248.86970695285862, 246.2849133134168, 240.83447205600413, 238.53985991253515, 241.29302024127216, 229.51780795196993, 223.52734200163334, 213.52810046090582, 884.0943282509623, 1116.7931196173638, 1501.3684064843778, 324.82569555563845, 468.46337916305873, 561.1448206910434, 923.7919568096586, 605.642421151326, 644.8251364652854, 1512.194154632045, 395.77496419024504, 572.265392667255, 616.9462867015629, 1822.958696203746, 774.2324566375598, 2314.587372035273, 2459.928206048345, 473.18464567243194, 717.495382062619, 704.5234192886701, 610.9598202992879, 3792.510199236662, 957.7321787972106, 716.9884679140055, 2959.2804662781227, 854.8075232967378, 525.1048359711258, 785.7081313452451, 1054.8254932237994, 1136.7205821525242, 1278.3648053014174, 1065.2269464585268, 838.2664781053754, 1047.1311626627996, 1060.8973785453911, 754.2473434739109, 966.5347841260932, 731.1624091532815, 731.6945775910842, 731.421237049271, 1324.3854674541321, 1130.4238602305868, 985.4170648223973, 913.5911243612929, 739.2123299421731, 715.0318351553843, 685.286614379328, 676.7890327481985, 607.4746142939481, 498.460029503338, 485.66694139231026, 468.125930426462, 467.52144208983856, 466.0654057003664, 440.5856615406093, 1704.6937310628564, 399.7734747064641, 381.93585017172893, 364.0860031162911, 350.751324584166, 349.98879035718346, 334.4310321513407, 311.35493595335964, 308.36089904213776, 304.2859472616603, 292.0127282755749, 265.272759832359, 263.16185726344213, 231.8102905596097, 227.4393203142496, 1481.258636707041, 351.0567502700389, 1973.0074494683108, 738.6290822407784, 1357.4104437292965, 997.7876290904084, 695.8345581912497, 1014.8324148711754, 3372.978083601155, 478.3734840479314, 1602.1845943605376, 679.361804690259, 1049.022787895583, 625.7529591210606, 1378.6165629256193, 1315.8047085941012, 1443.8894012008611, 1363.0860879495096, 835.2530065589262, 1970.4226838917032, 1248.6907100841759, 1469.6594187829983, 1180.3817427337194, 859.7618614243671, 915.8883173721551, 1228.665368786745, 824.675261769561, 758.384887201516, 746.1277589121609, 676.3150194769338, 629.2934314465409, 528.120457166721, 477.22745162693167, 469.0045907701435, 423.65004304063575, 360.10167189921435, 332.2490396163695, 325.97762980649526, 321.4825665612815, 313.8063739128678, 306.327553104972, 282.0069436373215, 237.05872956630668, 219.91845335719412, 215.89330894207464, 206.65244652200994, 203.135162142716, 199.5930551345372, 189.09241007618866, 185.12969867939967, 183.24250584411664, 177.18917241126118, 176.71471341283225, 171.4622862076335, 169.69443819927784, 168.05182126624322, 146.76586943943857, 146.3581897008866, 144.12766659834747, 267.0159237990495, 2021.8321432497953, 833.5021722885296, 409.13282056822135, 10423.803051508326, 348.2862830693249, 687.3634620820113, 567.380319427662, 479.01125866920734, 392.8644620136077, 497.56220396525293, 366.04203727423555, 902.155814425308, 1869.2844949182208, 2516.503697325601, 992.8695641272394, 884.1577658097743, 1553.5926735111634, 1043.7985716048784, 2837.740090940496, 1577.5335515126737, 2547.327561782104, 648.3701236727557, 739.0732416237124, 620.071642296465, 770.0671228361443, 762.0427517507704, 908.2658315175978, 682.985690321262, 1146.295586734613, 838.954207196039, 657.0062082927456, 736.95213885953, 673.8713137969124, 653.3604759349387, 594.3459533963637, 3456.76739226085, 1558.7938617438638, 1421.4321869929709, 1256.781828903648, 925.0286690584209, 850.0115927368307, 944.2429821252275, 840.6903692477432, 764.7928530916166, 752.3790030551995, 669.0508158136747, 561.9586109059845, 543.4192132066744, 519.7452201368433, 478.9469987993572, 471.9997120749857, 463.86940384175034, 458.99680910990355, 438.7471593642497, 421.59490829478636, 421.2732739856827, 420.36143856653376, 413.82236620346, 411.1044414733962, 398.70619952761507, 385.1535329654684, 384.53175686747005, 376.30471435296033, 374.8149490122661, 357.91005926888045, 1025.241868153188, 3701.0246099774213, 847.1179603749418, 1470.9661669576922, 768.4442134030427, 731.5464718557986, 3139.7786250211366, 748.8781262659044, 701.2049895116619, 479.06048935264755, 556.8066851727575, 566.6264346648221, 958.6042913049856, 558.7744886549274, 551.715218365327, 517.1769177928752, 561.5327432559676, 1284.7815497744314, 1112.0520886583643, 878.7118507700528, 683.1374778102312, 676.5930875113951, 624.9921625007224, 469.20179050224993, 435.03560773458975, 402.8487918447677, 394.73180763315, 392.40776263744203, 365.7490287922442, 348.41201192619405, 320.2396403901558, 300.38505374905554, 280.6097708946982, 278.3487659003701, 264.89162483070277, 263.7732042574241, 250.13814236915223, 248.24171723004622, 247.08998442973004, 240.12350253466755, 240.0777963045299, 233.8323422272301, 200.54347654808032, 190.1399146796229, 189.23235265692855, 184.33618643943183, 182.65994656115672, 1201.0042234031603, 464.8442016770229, 1032.6547851495864, 2148.835093326884, 3279.111252811309, 2918.0703402183008, 462.19366832339057, 1618.3653407254162, 2629.4286668224754, 473.42976837131596, 424.2861372645014, 787.6001991915658, 396.4903650917277, 1629.3856246215173, 694.4326767448816, 686.990996287791, 3869.681826915018, 655.2383806677276, 650.5374333738816, 803.2317655648401, 541.8894622262551, 532.5760198045728, 755.1328330042309, 494.98238693643003, 590.441533806684, 616.166847637108, 507.8573130230563, 558.1635907861544, 540.8551425430775, 549.5451041929795, 1269.2371322848599, 1007.2253564046076, 548.73449443413, 525.5163626015816, 443.14126616323614, 389.82883943745856, 364.8491250203725, 337.40926123650297, 296.5869286822203, 287.4818084618423, 265.93027888710486, 256.95442892649527, 236.98946388781022, 226.90426489831103, 226.38499543668183, 213.89635092089273, 212.30058664670716, 198.35586054738792, 178.01723281152695, 172.1445799742128, 158.5989134249159, 154.3808892468425, 154.3296076762486, 152.94082357106237, 147.81484099523297, 142.68145681190552, 142.6546381813476, 136.6370755294387, 133.86775920539174, 133.22579869065916, 804.626325728249, 259.1090354752799, 252.5333971936164, 682.2208547989158, 1311.6896305583473, 510.8451777866762, 813.7544731719541, 1160.8211734527579, 1114.8069826220133, 1385.4593755809012, 545.3001485550317, 1187.2423753233354, 511.3828327855746, 574.7841941520934, 1034.183265422276, 589.0048148224278, 802.3314092339361, 828.5982227718424, 580.891314860829, 551.4682663153898, 682.7830981888246, 596.9304728581436, 586.3329320886095, 476.3819551319952, 461.42516026504615, 533.5637917165875, 399.04424500345726, 3443.97962844255, 2562.22997515255, 1043.01652765568, 1022.9472709787749, 954.2577290236457, 866.7677705688469, 762.4352925463995, 681.1204052497674, 677.6035665909137, 643.8282969555605, 575.5638350829607, 563.2299027808817, 541.5876976657978, 514.2692072033199, 498.41995757058567, 475.544584801544, 445.1514375900779, 443.84933803084505, 436.4499386601505, 421.65386781760037, 408.0474231667718, 405.83197586264464, 405.0612132916754, 402.64899005399667, 378.54695462053616, 377.4553491784389, 353.07333689684066, 343.81356297761573, 328.2552280181713, 1086.0981290990949, 1003.004756678692, 1630.281317590911, 1692.9517507580279, 1139.1325743753887, 828.7378705579063, 872.0466220392518, 493.51954960448376, 474.5387245642961, 707.4702293264739, 498.74683329491506, 517.6887333170555, 569.3411830738927, 496.88724564028047, 579.4807830580495, 517.0174079047231, 1785.9120478158407, 903.8986289826864, 685.2969142804949, 675.5027450725061, 584.987395314708, 569.9907566059123, 521.3252692607304, 517.7014732934241, 514.6315886704863, 500.5419601365563, 496.65504317964985, 483.009172570423, 447.244683947159, 425.7587406408381, 397.79206080745587, 390.104903276196, 390.05394028826805, 388.6521829987209, 352.0948727360102, 338.8472994941318, 306.16540348822457, 286.1604000676041, 266.0449026006638, 250.8524821716637, 245.0138006863435, 242.38156891037775, 239.6505554045979, 201.7825792803768, 189.21135956414574, 189.17716588844087, 425.9834494246273, 414.07110646646106, 466.0071337361501, 1781.6763291646942, 749.3490840559613, 1874.6196133118904, 711.7259791932726, 787.0759490380302, 511.5306284158352, 796.7379026999602, 597.1239754197572, 765.3776643156846, 759.1082473246844, 500.6481308445687, 511.0325274387091, 665.6864089299223, 752.8364721491529, 528.9309384154062, 484.73117131933026, 2356.64794369227, 1230.5946263732105, 1085.7730665545098, 832.0428652918544, 642.1082150292355, 566.7501469671217, 552.5845511423937, 526.4998786720796, 495.8290663855687, 493.2718163405679, 489.7730635521993, 439.76416644288736, 436.153007894312, 418.3409129675968, 402.0904144945447, 382.1536302964708, 372.56209009870844, 362.5354430874345, 349.3948753140305, 302.84648339415276, 300.64704695229824, 295.9621435895236, 286.9464074085065, 271.12130659692644, 268.6443708095988, 257.8749831674524, 243.43492804485652, 241.59689626238205, 217.14108129899878, 216.26642160235295, 1008.619698379074, 522.42066679407, 1158.6115431613339, 613.4443661705673, 598.3311495066656, 723.1916047464498, 1097.9003484604655, 1120.9963501299887, 698.9500371380516, 578.8130558650346, 571.6224692647644, 683.319708376485, 535.0484545376465, 479.6273986771771, 466.67079178449006, 515.9514074893524, 433.93730719776903, 439.62398224768697, 1729.4438408263482, 1236.0100018575388, 1026.1515941792215, 888.1152029083202, 672.6588079103494, 635.4052774275773, 601.9593144893723, 599.959354164628, 598.5887103004529, 537.7582476470756, 492.4236194776582, 469.2964498236743, 368.66421687569175, 363.5941035236317, 352.9729574881766, 349.8067010464627, 342.4694174575555, 307.61064656202433, 306.79523030089524, 287.98359032149966, 276.3934929467762, 263.787709010714, 251.95967523348648, 241.1371983959125, 234.12093604874542, 221.1960324605736, 276.2436696253193, 199.97703486263572, 190.2652874988891, 183.67020897034047, 1116.6606050226635, 625.2243859605917, 352.1390007281511, 966.9869240420765, 494.99782330175253, 585.9591930630421, 489.31411817260556, 466.0521916380826, 500.18082525360205, 443.56015292065314, 585.3452355956417, 488.0173437517653, 366.02821138860935, 375.7512585830443, 1716.1316159117566, 1513.4005784871774, 1158.7913743079894, 1122.636479717146, 947.3119126403227, 710.0735159395487, 595.1201233132231, 553.9506685198298, 528.2818228387747, 492.43905182394764, 391.88971574890894, 390.19246407541635, 341.8354442605649, 331.797256308741, 330.1131749882848, 312.09640785344953, 299.9070737314741, 260.26467310433776, 250.09500572501605, 172.19526361349182, 170.91525699875862, 161.17996992808915, 151.79311109769588, 132.88548335525164, 128.30951831909923, 125.69085047417967, 114.59720697915624, 110.7768478517603, 109.67918339572101, 200.3204490905569, 1548.322424633014, 793.4586756133548, 1604.668091021156, 1195.7004957130303, 711.4554376421758, 357.20593580128195, 1217.122661041865, 341.2521562169282, 237.281510644418, 449.40423373034633, 425.0675589157103, 354.6854336309247, 397.19464431081036, 403.9150065731173, 436.58120565861066, 579.4020309889651, 441.1148066337855, 461.75157761139417, 383.4364522187649, 1405.7102146682116, 923.8575910137804, 771.7749883858382, 569.9508496441911, 533.7914879638091, 532.1282020499484, 527.4251576534748, 523.2672669516988, 511.1526323752357, 450.1343085141922, 439.73272972180627, 425.714710118047, 373.53632541465464, 306.92713211880454, 242.20595306242552, 236.96743115997538, 219.35431391709366, 211.63581725369426, 204.3956437662413, 178.66800058569743, 160.6759031426992, 139.99102423321648, 128.73553336057543, 128.58420980634023, 123.02761213565253, 118.08099630921673, 107.6320898425714, 106.9759724860676, 100.77847777965165, 95.85350027237162, 3135.5155277193817, 1369.3254301989139, 348.2087162467677, 280.6583862795108, 423.80965837881797, 273.2303836167382, 447.0179738777763, 231.4608927192148, 267.79134700925744, 221.59854153465432, 383.69704118396925, 235.1889106349807, 1212.086537205933, 574.2368090295881, 548.1394245702312, 517.9197422178295, 505.0987214011162, 494.6358658336154, 464.38957341396116, 451.74644832603775, 324.1828850546149, 301.3974746636937, 287.40817734105553, 273.3607464768244, 270.96200762887605, 253.55400893126458, 241.70531929657673, 232.5882138497797, 231.02750639012154, 222.87758233441588, 215.50997061755024, 212.67334757916578, 210.54265112819337, 209.15961989803932, 205.03240859790668, 195.73210567034184, 185.3918488961917, 177.72365823438335, 172.56353394936866, 154.98105020417609, 153.87828579275612, 149.88849793003996, 538.8211058166775, 347.8852621538806, 210.7478660757742, 338.33815760637265, 349.22751717057344, 219.4805776196072, 323.16285498934815, 241.01519665773597, 242.93502183338035], \"Total\": [20938.0, 3247.0, 3445.0, 4217.0, 4517.0, 9519.0, 3458.0, 3689.0, 4864.0, 3288.0, 2357.0, 2563.0, 4203.0, 5803.0, 2307.0, 3051.0, 1724.0, 1717.0, 1730.0, 1851.0, 2349.0, 2371.0, 1407.0, 1787.0, 4737.0, 2343.0, 2098.0, 1514.0, 3230.0, 3066.0, 2310.6084996546124, 1280.8458923632493, 916.1372071446075, 876.8689012320554, 777.1693327050414, 613.3100298825527, 605.7914343254512, 590.6924042942074, 572.357581910105, 539.4240831807829, 535.012048961933, 512.0585346742897, 479.63221486814575, 464.25146681881677, 462.28581007209743, 420.08674522737704, 386.4193624599184, 382.5753448719772, 381.8761539851807, 352.1070349478754, 348.7710742077759, 323.5146270115303, 317.93432587137204, 313.5041975351873, 300.21285703154575, 296.37118259018524, 285.79110786829534, 275.3188081956817, 272.34780425403153, 252.66434774006984, 519.4926291464261, 2032.1103505685808, 1642.2688564153211, 476.18492033749726, 616.5280132112528, 1483.4796073296243, 2688.8636618695105, 5310.615069762275, 1700.1741232486706, 1407.455783588289, 1035.6721302601982, 1275.3080941390865, 1078.9711957312625, 1949.8791676062326, 4987.645022760012, 4864.4716332412345, 1042.396314402319, 1884.6694080476482, 1408.6093914312703, 9519.759324821134, 15417.405394831418, 2746.541308010244, 2909.672817173673, 8217.46655489807, 15824.18088901857, 2276.6238639201642, 4975.9196574251755, 1826.872156291453, 3205.8943488401333, 6909.270547621038, 2810.3004759791793, 3936.267266938021, 2684.801455898386, 4269.677840675634, 6239.739335287883, 1544.1519368698189, 1475.4109846930437, 1400.1749347668645, 1080.968070587764, 1007.5584543696655, 904.5747966058105, 799.2598401727919, 773.0162570318815, 757.4868210854244, 724.8128266712735, 678.561167698732, 654.8628345923014, 640.1978082972033, 627.7174405650436, 590.0336217422139, 565.7479462073738, 564.440568860158, 513.0042738801474, 478.44910591549444, 446.7755582235456, 423.2262325454713, 394.38844506872294, 393.7652580448585, 384.3858948343629, 358.413921390009, 348.4220858605178, 343.03412247576955, 337.46598405916046, 331.6680252227084, 293.41516156098083, 596.1418139050301, 4203.3062784579415, 807.751406058735, 2014.593364587078, 3066.977168692764, 1301.1081263726132, 1018.5162542544218, 1497.5288263182051, 1094.9763476650505, 1229.692854482593, 9519.759324821134, 1342.6680633730127, 1679.4037738908648, 1595.3617462401892, 1127.3697661510446, 2507.012602500346, 3883.369047974545, 1502.0833258066743, 2684.801455898386, 1154.3567314183665, 20938.053281959423, 1764.8805939025476, 15417.405394831418, 2965.496782982947, 8176.095815949155, 15824.18088901857, 2415.8927905834985, 6909.270547621038, 756.8372539182294, 732.0928428425149, 728.536962616101, 676.1198528954459, 552.7281411749515, 495.29868501635934, 400.83930551790877, 391.3690873570563, 385.1349343492029, 351.96982631660666, 346.46161918332274, 339.55757429505826, 335.3443642070088, 291.8007130161367, 290.57899197490264, 290.57062085253966, 406.767893193433, 260.65225715331246, 257.8606598323662, 257.76529949691775, 257.5325835025975, 254.75498156440835, 250.196096884498, 247.6210441307241, 242.1608624714438, 239.86625400223102, 242.64089872433584, 230.8443466187092, 224.85380918005998, 214.85449141181184, 897.7734879106014, 1141.8065974954086, 1627.9983734171992, 331.6546368408781, 489.40809500188305, 598.6149449771757, 1122.512029190297, 696.6148035336603, 750.4595427324069, 2115.7244528406613, 435.57940911485025, 700.3237125073542, 775.6899353885195, 3131.107124982114, 1050.586134190165, 4569.5514113945055, 4975.9196574251755, 557.8524860711482, 1008.7067590065269, 1027.5630150355862, 843.4277478493457, 15824.18088901857, 1737.3209238434013, 1097.5166088574638, 15417.405394831418, 1665.0918029825407, 673.6008574803857, 1518.9504111413569, 2978.9227116496545, 3586.809104228687, 6909.270547621038, 4269.677840675634, 2442.61383482815, 5803.565384270234, 6239.739335287883, 1814.3513212607083, 8217.46655489807, 1825.6045228288071, 2102.5244304015628, 3205.8943488401333, 1325.7154573998341, 1131.75384955548, 986.7470531592694, 914.9211130730528, 740.5423183591448, 716.3618260549882, 686.6166033181497, 678.1190259027384, 608.8046040166131, 499.7900172332094, 486.99692925187367, 469.45591776426426, 468.85143016495863, 467.39539325019973, 441.91565265062314, 1710.1237918208842, 401.103465526006, 383.26583777138285, 365.4159913554687, 352.08131325955657, 351.3187782490675, 335.7610211995737, 312.6849251099943, 309.69088954336183, 305.61593966111883, 293.3427160567791, 266.602748427005, 264.49184531817133, 233.1402950559636, 228.76931060326666, 1511.3496084543312, 357.42453757519, 2296.0458268713546, 815.4945648288463, 1598.244759814643, 1148.5482953612454, 772.0296129731399, 1304.2609835680885, 5803.565384270234, 524.955093775476, 2592.420086431876, 838.8482802312118, 1517.9857940031588, 767.4136035462751, 2689.574213905423, 2680.3990355156657, 3230.2649970104094, 3355.478656972505, 1445.9105212720142, 8176.095815949155, 3374.686137646764, 6239.739335287883, 3883.369047974545, 1940.7615038841539, 2415.8927905834985, 15824.18088901857, 2866.9604000107565, 3765.58482710074, 2881.39092954304, 677.6395659428655, 630.6179795603359, 529.4450021176486, 478.55199677305035, 470.3291387098627, 424.9745899884578, 361.4262184552205, 333.5735884934273, 327.30217534104264, 322.8071126789961, 315.13092215891197, 307.6520989726225, 283.33148981875826, 238.3832901105574, 221.24300275623102, 217.21785752877906, 207.97699118655316, 204.45970872746557, 200.91760417439872, 190.41695857088507, 186.45424616858594, 184.56705350367372, 178.5137238454003, 178.0392602907656, 172.78683196812727, 171.0189853759097, 169.3763743609447, 148.0904166545749, 147.6844171850668, 145.45221396809723, 274.1960357217467, 2328.115245641743, 975.4351759720585, 465.1230664956839, 20938.053281959423, 401.30621141728165, 902.7396915740817, 741.1077443648203, 603.0703788686393, 488.2544906720764, 686.1101432635675, 469.4981040753608, 1713.1846401960127, 5238.346546055025, 8217.46655489807, 2183.3777118439607, 1896.841656365591, 4737.3598319550965, 2769.3136868651854, 15824.18088901857, 6239.739335287883, 15417.405394831418, 1310.966428341424, 1814.3513212607083, 1268.1445849852812, 2085.9796722452015, 2221.6889544616715, 3765.58482710074, 1853.8300026280383, 8176.095815949155, 3936.267266938021, 1834.628588645999, 2866.9604000107565, 2064.3327076092924, 2276.6238639201642, 4975.9196574251755, 3458.104545385904, 1560.1779476134648, 1422.7693394073315, 1258.1189813414405, 926.3658213212435, 851.3487449640403, 945.7327918028108, 842.0275216530242, 766.1300047771737, 753.7161561822036, 670.3879765553781, 563.2957626763185, 544.7563650520824, 521.0823720084919, 480.28415098119524, 473.33686445509426, 465.2065550421923, 460.3339646106052, 440.08431640026777, 422.9320595466473, 422.61042586130134, 421.6985905063022, 415.1595190953516, 412.4415932288776, 400.04335397512136, 386.49068452136555, 385.8689100136685, 377.6418666353041, 376.152103583493, 359.2472153118614, 1029.0850101962249, 4217.229466080091, 889.6284227454337, 1810.897435875562, 1180.2803376562501, 1215.2085836881108, 20938.053281959423, 2372.160307864108, 2307.113065421026, 660.0440740941094, 1131.5892600009065, 1378.9349197065644, 15824.18088901857, 1582.1919912303224, 1757.4051609572925, 1573.2816048020056, 15417.405394831418, 1286.1143171886065, 1113.3848519360401, 880.0446320182833, 684.4702406698436, 677.9258527132131, 626.3249263769303, 470.5345553719739, 436.3683712251787, 404.181554280884, 396.0645729960357, 393.74052603659646, 367.0817944932978, 349.7447756322928, 321.5724065501002, 301.71782018854867, 281.94253539659775, 279.68153090994764, 266.22438907232146, 265.1059679847767, 251.47090549523753, 249.57449134046212, 248.42274903297792, 241.45627477478556, 241.41055904883814, 235.16510626754925, 201.87623937673916, 191.47267952301863, 190.5651165914281, 185.66895274483207, 183.99271010809093, 1252.8596860285866, 480.8458295264871, 1102.721747117674, 2371.525384113114, 3689.120419135823, 3288.589499857251, 488.77014509740616, 2372.160307864108, 4517.288240361559, 563.2576804935081, 500.4648865466754, 1175.807236781758, 465.0408564762051, 3416.7057053419007, 1070.9084754179528, 1078.231968438794, 20938.053281959423, 1090.8085167895217, 1577.0485651325632, 2689.574213905423, 1082.1489609057387, 1032.5673657962043, 3374.686137646764, 913.6516581607167, 2115.7244528406613, 8176.095815949155, 1220.8284369020357, 4864.4716332412345, 4569.5514113945055, 6909.270547621038, 1270.565029429264, 1008.553254457344, 550.0623919651212, 526.8442594113668, 444.4691635287979, 391.15673891109043, 366.17702807210804, 338.7371592071578, 297.91483205565095, 288.8097097321054, 267.2661733696473, 258.28232582156966, 238.3189603595037, 228.2321631129071, 227.71289502427192, 215.22425253193575, 213.62848571492026, 199.6837592183278, 179.34513170906865, 173.4724768440141, 159.92681707337687, 155.70878834271812, 155.65750945757307, 154.26872080217834, 149.14274259172458, 144.0093580090897, 143.98253755403928, 137.96497514496266, 135.1956579274653, 134.55369604562665, 865.3376336007591, 268.0283527259974, 262.8648012996743, 839.779868386572, 1805.7561563012375, 619.2114706574519, 1240.052762565694, 2186.029264359138, 2103.1347610870466, 2965.496782982947, 850.7657427499862, 2548.9962349791235, 846.5003177658671, 1078.393458906596, 3554.5427045165698, 1354.3303005264593, 2496.5286010212044, 2740.514949264894, 1506.4909758481344, 1577.0485651325632, 3131.107124982114, 2810.3004759791793, 3883.369047974545, 1814.6600892186452, 2909.672817173673, 9519.759324821134, 3374.686137646764, 3445.3178056873367, 2563.5681526980043, 1044.3547047045781, 1024.2854481588054, 955.5959064418618, 868.105958046068, 763.7734697431478, 682.4585828023081, 678.9417506814274, 645.1664739113519, 576.9020150714795, 564.5680803741095, 542.925876556655, 515.6073840977983, 499.7581351607761, 476.8827655323987, 446.4896157780955, 445.1875149656539, 437.7881166403626, 422.9920466838371, 409.3856015928609, 407.17015415831196, 406.39939006683494, 403.9871706922497, 379.88513158615444, 378.79353470570607, 354.4115165969848, 345.15174033590375, 329.5934061654335, 1090.5494479984472, 1116.7113660101602, 2098.196080955549, 2349.55994144464, 1863.5681509489086, 1250.7045373638177, 1357.032808231077, 642.1300262426515, 661.3828276976415, 4737.3598319550965, 1032.5673657962043, 1414.0823229102969, 3051.123845228371, 1467.117409127008, 15824.18088901857, 8176.095815949155, 1787.2524783042718, 905.2373897193006, 686.6356708889864, 676.8414993051481, 586.3261478524371, 571.329509104001, 522.6640215683989, 519.0402274292131, 515.970341497055, 501.8807186837017, 497.993797440819, 484.3479245980135, 448.5834389485942, 427.0974947292363, 399.13081363006916, 391.44365532636994, 391.39269259341614, 389.9909352049257, 353.4336276371422, 340.1860516695915, 307.50415675442827, 287.49915478823056, 267.38365483083015, 252.19123589241394, 246.35255595182346, 243.7204162041682, 240.98931051256338, 203.12133804325276, 190.55011501430982, 190.51592572021303, 438.6374120880298, 479.38596177887223, 560.302488179661, 3051.123845228371, 1031.3980947241464, 4517.288240361559, 1220.8284369020357, 1757.4051609572925, 841.6245117673882, 3586.809104228687, 1716.2398374839097, 4569.5514113945055, 4737.3598319550965, 1348.8755550616934, 1518.9504111413569, 6909.270547621038, 15824.18088901857, 5238.346546055025, 20938.053281959423, 2357.9801681364634, 1231.9268504679633, 1087.1052906519346, 833.3750896225348, 643.4404386611484, 568.0823712969384, 553.9181928819844, 527.8321026231284, 497.1612902407047, 494.60404011688996, 491.10528923712417, 441.09639006161177, 437.4852321462766, 419.67313707079404, 403.4226410623716, 383.4858545993009, 373.89431372197976, 363.8676736668989, 350.7270987623911, 304.17870719270746, 301.979271766477, 297.2943672858035, 288.2786393591693, 272.4535317362744, 269.9765943697026, 259.2072066788204, 244.76716062589892, 242.92912235162902, 218.47330542520785, 217.5986521005615, 1471.804749770454, 656.594553412667, 2615.2038481354543, 1048.057076666284, 1023.1820053850929, 1863.5681509489086, 4864.4716332412345, 9519.759324821134, 3051.123845228371, 2221.6889544616715, 2415.8927905834985, 5238.346546055025, 3230.2649970104094, 1780.2615390547073, 2098.196080955549, 15417.405394831418, 1878.4569669324208, 20938.053281959423, 1730.7862613423597, 1237.3324851816865, 1027.474077687189, 889.4376845760438, 673.9812889500946, 636.7277599747451, 603.2817941176114, 601.2818336198623, 599.9111910312416, 539.0807272730183, 493.7461003815821, 470.6189311409087, 369.986697449803, 364.9165854921506, 354.2954383565394, 351.1291807680524, 343.7918998310408, 308.93312608228894, 308.1177096364161, 289.3060721366159, 277.7159765048166, 265.1101885266521, 253.2821563459893, 242.45968068821193, 235.44341676692437, 222.51851383191652, 278.0151719731276, 201.29951447425913, 191.5877691687351, 184.99268968442678, 1128.7349813346323, 699.5050342503107, 411.4354542447137, 1823.7951788102782, 757.4337339075106, 1027.9844506328375, 892.4070687157329, 813.4622293198065, 959.0220112398987, 757.5337521023366, 1456.5563716066447, 3355.478656972505, 1324.1861402750594, 15824.18088901857, 1717.4608783427257, 1514.7298413291514, 1160.1206368570115, 1123.9657421707059, 948.6411778608192, 711.4027782927177, 596.4493854322593, 555.2799309595299, 529.6110873301684, 493.7683170284479, 393.21898051758075, 391.5217279574648, 343.1647102403184, 333.126519752001, 331.44243794015233, 313.4256716193142, 301.23634302880856, 261.59393791116645, 251.42426924292153, 173.52453232654946, 172.2445209968412, 162.50923251673524, 153.12237887849307, 134.2147496527052, 129.63878265551313, 127.02011477607702, 115.92647208451665, 112.10611156654839, 111.00845085191884, 202.78422030476096, 1851.0615471009405, 1016.4548909059962, 2307.113065421026, 1683.4857427352722, 995.8225844804879, 468.2331743211815, 2343.9813543705436, 488.217481132181, 288.41539841441886, 913.0943796425348, 1240.052762565694, 817.4518145173255, 1256.0189776484806, 1678.5900000972717, 2496.5286010212044, 15824.18088901857, 8176.095815949155, 15417.405394831418, 2235.3367782287673, 1407.0346569618255, 925.1820333750146, 773.0994308343382, 571.2752923964805, 535.115931092374, 533.4526439057724, 528.7496000769952, 524.591708962418, 512.477075009605, 451.458751751074, 441.0571726830762, 427.03915378583815, 374.86076734100664, 308.25157453895673, 243.53039725267774, 238.2918760747324, 220.67875599057373, 212.9602606121504, 205.72008745119254, 179.9924426957565, 162.00034808426236, 141.3154694425755, 130.0599742880263, 129.90865543956835, 124.35205359626306, 119.40543972327606, 108.95671535122209, 108.30041494598356, 102.10292519425981, 97.17794689714141, 3247.8810765295857, 1724.5730438078228, 454.61457778771376, 378.4914034281853, 1108.0420508968666, 521.2118729946027, 1566.1834993350121, 445.99782323842527, 954.3095856316179, 646.152290697033, 8176.095815949155, 850.7657427499862, 1213.4233468363288, 575.5736188769911, 549.4762322881929, 519.2565510887777, 506.4355303624291, 495.9726766342813, 465.72638122702443, 453.0832575341536, 325.5196935877441, 302.7342823201139, 288.7449862698165, 274.69755349794207, 272.29881756928376, 254.89082173919263, 243.04212869617498, 233.92502271370023, 232.3643133515069, 224.21439041872114, 216.84677748772225, 214.01015578998695, 211.87945877253568, 210.49642928065987, 206.36921558172176, 197.06891420877074, 186.7286559143231, 179.0604656301218, 173.90034111481566, 156.3178570830655, 155.2150929777064, 151.22530481385505, 1111.5936698208689, 646.152290697033, 279.28694672216693, 1244.3597293409243, 3230.2649970104094, 451.6499949799221, 4737.3598319550965, 4864.4716332412345, 8217.46655489807], \"Category\": [\"Default\", \"Default\", \"Default\", \"Default\", \"Default\", \"Default\", \"Default\", \"Default\", \"Default\", \"Default\", \"Default\", \"Default\", \"Default\", \"Default\", \"Default\", \"Default\", \"Default\", \"Default\", \"Default\", \"Default\", \"Default\", \"Default\", \"Default\", \"Default\", \"Default\", \"Default\", \"Default\", \"Default\", \"Default\", \"Default\", \"Topic1\", \"Topic1\", \"Topic1\", \"Topic1\", \"Topic1\", \"Topic1\", \"Topic1\", \"Topic1\", \"Topic1\", \"Topic1\", \"Topic1\", \"Topic1\", \"Topic1\", \"Topic1\", \"Topic1\", \"Topic1\", \"Topic1\", \"Topic1\", \"Topic1\", \"Topic1\", \"Topic1\", \"Topic1\", \"Topic1\", \"Topic1\", \"Topic1\", \"Topic1\", \"Topic1\", \"Topic1\", \"Topic1\", \"Topic1\", \"Topic1\", \"Topic1\", \"Topic1\", \"Topic1\", \"Topic1\", \"Topic1\", \"Topic1\", \"Topic1\", \"Topic1\", \"Topic1\", \"Topic1\", \"Topic1\", \"Topic1\", \"Topic1\", \"Topic1\", \"Topic1\", \"Topic1\", \"Topic1\", \"Topic1\", \"Topic1\", \"Topic1\", \"Topic1\", \"Topic1\", \"Topic1\", \"Topic1\", \"Topic1\", \"Topic1\", \"Topic1\", \"Topic1\", \"Topic1\", \"Topic1\", \"Topic1\", \"Topic1\", \"Topic1\", \"Topic1\", \"Topic2\", \"Topic2\", \"Topic2\", \"Topic2\", \"Topic2\", \"Topic2\", \"Topic2\", \"Topic2\", \"Topic2\", \"Topic2\", \"Topic2\", \"Topic2\", \"Topic2\", \"Topic2\", \"Topic2\", \"Topic2\", \"Topic2\", \"Topic2\", \"Topic2\", \"Topic2\", \"Topic2\", \"Topic2\", \"Topic2\", \"Topic2\", \"Topic2\", \"Topic2\", \"Topic2\", \"Topic2\", \"Topic2\", \"Topic2\", \"Topic2\", \"Topic2\", \"Topic2\", \"Topic2\", \"Topic2\", \"Topic2\", \"Topic2\", \"Topic2\", \"Topic2\", \"Topic2\", \"Topic2\", \"Topic2\", \"Topic2\", \"Topic2\", \"Topic2\", \"Topic2\", \"Topic2\", \"Topic2\", \"Topic2\", \"Topic2\", \"Topic2\", \"Topic2\", \"Topic2\", \"Topic2\", \"Topic2\", \"Topic2\", \"Topic2\", \"Topic2\", \"Topic3\", \"Topic3\", \"Topic3\", \"Topic3\", \"Topic3\", \"Topic3\", \"Topic3\", \"Topic3\", \"Topic3\", \"Topic3\", \"Topic3\", \"Topic3\", \"Topic3\", \"Topic3\", \"Topic3\", \"Topic3\", \"Topic3\", \"Topic3\", \"Topic3\", \"Topic3\", \"Topic3\", \"Topic3\", \"Topic3\", \"Topic3\", \"Topic3\", \"Topic3\", \"Topic3\", \"Topic3\", \"Topic3\", \"Topic3\", \"Topic3\", \"Topic3\", \"Topic3\", \"Topic3\", \"Topic3\", \"Topic3\", \"Topic3\", \"Topic3\", \"Topic3\", \"Topic3\", \"Topic3\", \"Topic3\", \"Topic3\", \"Topic3\", \"Topic3\", \"Topic3\", \"Topic3\", \"Topic3\", \"Topic3\", \"Topic3\", \"Topic3\", \"Topic3\", \"Topic3\", \"Topic3\", \"Topic3\", \"Topic3\", \"Topic3\", \"Topic3\", \"Topic3\", \"Topic3\", \"Topic3\", \"Topic3\", \"Topic3\", \"Topic3\", \"Topic3\", \"Topic3\", \"Topic3\", \"Topic3\", \"Topic3\", \"Topic3\", \"Topic4\", \"Topic4\", \"Topic4\", \"Topic4\", \"Topic4\", \"Topic4\", \"Topic4\", \"Topic4\", \"Topic4\", \"Topic4\", \"Topic4\", \"Topic4\", \"Topic4\", \"Topic4\", \"Topic4\", \"Topic4\", \"Topic4\", \"Topic4\", \"Topic4\", \"Topic4\", \"Topic4\", \"Topic4\", \"Topic4\", \"Topic4\", \"Topic4\", \"Topic4\", \"Topic4\", \"Topic4\", \"Topic4\", \"Topic4\", \"Topic4\", \"Topic4\", \"Topic4\", \"Topic4\", \"Topic4\", \"Topic4\", \"Topic4\", \"Topic4\", \"Topic4\", \"Topic4\", \"Topic4\", \"Topic4\", \"Topic4\", \"Topic4\", \"Topic4\", \"Topic4\", \"Topic4\", \"Topic4\", \"Topic4\", \"Topic4\", \"Topic4\", \"Topic4\", \"Topic4\", \"Topic4\", \"Topic4\", \"Topic4\", \"Topic4\", \"Topic4\", \"Topic4\", \"Topic5\", \"Topic5\", \"Topic5\", \"Topic5\", \"Topic5\", \"Topic5\", \"Topic5\", \"Topic5\", \"Topic5\", \"Topic5\", \"Topic5\", \"Topic5\", \"Topic5\", \"Topic5\", \"Topic5\", \"Topic5\", \"Topic5\", \"Topic5\", \"Topic5\", \"Topic5\", \"Topic5\", \"Topic5\", \"Topic5\", \"Topic5\", \"Topic5\", \"Topic5\", \"Topic5\", \"Topic5\", \"Topic5\", \"Topic5\", \"Topic5\", \"Topic5\", \"Topic5\", \"Topic5\", \"Topic5\", \"Topic5\", \"Topic5\", \"Topic5\", \"Topic5\", \"Topic5\", \"Topic5\", \"Topic5\", \"Topic5\", \"Topic5\", \"Topic5\", \"Topic5\", \"Topic5\", \"Topic5\", \"Topic5\", \"Topic5\", \"Topic5\", \"Topic5\", \"Topic5\", \"Topic5\", \"Topic5\", \"Topic5\", \"Topic5\", \"Topic5\", \"Topic5\", \"Topic5\", \"Topic5\", \"Topic5\", \"Topic5\", \"Topic5\", \"Topic5\", \"Topic5\", \"Topic6\", \"Topic6\", \"Topic6\", \"Topic6\", \"Topic6\", \"Topic6\", \"Topic6\", \"Topic6\", \"Topic6\", \"Topic6\", \"Topic6\", \"Topic6\", \"Topic6\", \"Topic6\", \"Topic6\", \"Topic6\", \"Topic6\", \"Topic6\", \"Topic6\", \"Topic6\", \"Topic6\", \"Topic6\", \"Topic6\", \"Topic6\", \"Topic6\", \"Topic6\", \"Topic6\", \"Topic6\", \"Topic6\", \"Topic6\", \"Topic6\", \"Topic6\", \"Topic6\", \"Topic6\", \"Topic6\", \"Topic6\", \"Topic6\", \"Topic6\", \"Topic6\", \"Topic6\", \"Topic6\", \"Topic6\", \"Topic6\", \"Topic6\", \"Topic6\", \"Topic6\", \"Topic6\", \"Topic7\", \"Topic7\", \"Topic7\", \"Topic7\", \"Topic7\", \"Topic7\", \"Topic7\", \"Topic7\", \"Topic7\", \"Topic7\", \"Topic7\", \"Topic7\", \"Topic7\", \"Topic7\", \"Topic7\", \"Topic7\", \"Topic7\", \"Topic7\", \"Topic7\", \"Topic7\", \"Topic7\", \"Topic7\", \"Topic7\", \"Topic7\", \"Topic7\", \"Topic7\", \"Topic7\", \"Topic7\", \"Topic7\", \"Topic7\", \"Topic7\", \"Topic7\", \"Topic7\", \"Topic7\", \"Topic7\", \"Topic7\", \"Topic7\", \"Topic7\", \"Topic7\", \"Topic7\", \"Topic7\", \"Topic7\", \"Topic7\", \"Topic7\", \"Topic7\", \"Topic7\", \"Topic7\", \"Topic7\", \"Topic7\", \"Topic7\", \"Topic7\", \"Topic7\", \"Topic7\", \"Topic7\", \"Topic7\", \"Topic7\", \"Topic7\", \"Topic7\", \"Topic7\", \"Topic7\", \"Topic8\", \"Topic8\", \"Topic8\", \"Topic8\", \"Topic8\", \"Topic8\", \"Topic8\", \"Topic8\", \"Topic8\", \"Topic8\", \"Topic8\", \"Topic8\", \"Topic8\", \"Topic8\", \"Topic8\", \"Topic8\", \"Topic8\", \"Topic8\", \"Topic8\", \"Topic8\", \"Topic8\", \"Topic8\", \"Topic8\", \"Topic8\", \"Topic8\", \"Topic8\", \"Topic8\", \"Topic8\", \"Topic8\", \"Topic8\", \"Topic8\", \"Topic8\", \"Topic8\", \"Topic8\", \"Topic8\", \"Topic8\", \"Topic8\", \"Topic8\", \"Topic8\", \"Topic8\", \"Topic8\", \"Topic8\", \"Topic8\", \"Topic8\", \"Topic8\", \"Topic8\", \"Topic8\", \"Topic8\", \"Topic8\", \"Topic8\", \"Topic8\", \"Topic8\", \"Topic8\", \"Topic8\", \"Topic8\", \"Topic8\", \"Topic8\", \"Topic9\", \"Topic9\", \"Topic9\", \"Topic9\", \"Topic9\", \"Topic9\", \"Topic9\", \"Topic9\", \"Topic9\", \"Topic9\", \"Topic9\", \"Topic9\", \"Topic9\", \"Topic9\", \"Topic9\", \"Topic9\", \"Topic9\", \"Topic9\", \"Topic9\", \"Topic9\", \"Topic9\", \"Topic9\", \"Topic9\", \"Topic9\", \"Topic9\", \"Topic9\", \"Topic9\", \"Topic9\", \"Topic9\", \"Topic9\", \"Topic9\", \"Topic9\", \"Topic9\", \"Topic9\", \"Topic9\", \"Topic9\", \"Topic9\", \"Topic9\", \"Topic9\", \"Topic9\", \"Topic9\", \"Topic9\", \"Topic9\", \"Topic9\", \"Topic9\", \"Topic10\", \"Topic10\", \"Topic10\", \"Topic10\", \"Topic10\", \"Topic10\", \"Topic10\", \"Topic10\", \"Topic10\", \"Topic10\", \"Topic10\", \"Topic10\", \"Topic10\", \"Topic10\", \"Topic10\", \"Topic10\", \"Topic10\", \"Topic10\", \"Topic10\", \"Topic10\", \"Topic10\", \"Topic10\", \"Topic10\", \"Topic10\", \"Topic10\", \"Topic10\", \"Topic10\", \"Topic10\", \"Topic10\", \"Topic10\", \"Topic10\", \"Topic10\", \"Topic10\", \"Topic10\", \"Topic10\", \"Topic10\", \"Topic10\", \"Topic10\", \"Topic10\", \"Topic10\", \"Topic10\", \"Topic10\", \"Topic10\", \"Topic10\", \"Topic10\", \"Topic10\", \"Topic10\", \"Topic10\", \"Topic10\", \"Topic11\", \"Topic11\", \"Topic11\", \"Topic11\", \"Topic11\", \"Topic11\", \"Topic11\", \"Topic11\", \"Topic11\", \"Topic11\", \"Topic11\", \"Topic11\", \"Topic11\", \"Topic11\", \"Topic11\", \"Topic11\", \"Topic11\", \"Topic11\", \"Topic11\", \"Topic11\", \"Topic11\", \"Topic11\", \"Topic11\", \"Topic11\", \"Topic11\", \"Topic11\", \"Topic11\", \"Topic11\", \"Topic11\", \"Topic11\", \"Topic11\", \"Topic11\", \"Topic11\", \"Topic11\", \"Topic11\", \"Topic11\", \"Topic11\", \"Topic11\", \"Topic11\", \"Topic11\", \"Topic11\", \"Topic11\", \"Topic11\", \"Topic11\", \"Topic11\", \"Topic11\", \"Topic11\", \"Topic11\", \"Topic12\", \"Topic12\", \"Topic12\", \"Topic12\", \"Topic12\", \"Topic12\", \"Topic12\", \"Topic12\", \"Topic12\", \"Topic12\", \"Topic12\", \"Topic12\", \"Topic12\", \"Topic12\", \"Topic12\", \"Topic12\", \"Topic12\", \"Topic12\", \"Topic12\", \"Topic12\", \"Topic12\", \"Topic12\", \"Topic12\", \"Topic12\", \"Topic12\", \"Topic12\", \"Topic12\", \"Topic12\", \"Topic12\", \"Topic12\", \"Topic12\", \"Topic12\", \"Topic12\", \"Topic12\", \"Topic12\", \"Topic12\", \"Topic12\", \"Topic12\", \"Topic12\", \"Topic12\", \"Topic12\", \"Topic12\", \"Topic12\", \"Topic12\", \"Topic13\", \"Topic13\", \"Topic13\", \"Topic13\", \"Topic13\", \"Topic13\", \"Topic13\", \"Topic13\", \"Topic13\", \"Topic13\", \"Topic13\", \"Topic13\", \"Topic13\", \"Topic13\", \"Topic13\", \"Topic13\", \"Topic13\", \"Topic13\", \"Topic13\", \"Topic13\", \"Topic13\", \"Topic13\", \"Topic13\", \"Topic13\", \"Topic13\", \"Topic13\", \"Topic13\", \"Topic13\", \"Topic13\", \"Topic13\", \"Topic13\", \"Topic13\", \"Topic13\", \"Topic13\", \"Topic13\", \"Topic13\", \"Topic13\", \"Topic13\", \"Topic13\", \"Topic13\", \"Topic13\", \"Topic13\", \"Topic13\", \"Topic13\", \"Topic13\", \"Topic13\", \"Topic13\", \"Topic13\", \"Topic13\", \"Topic14\", \"Topic14\", \"Topic14\", \"Topic14\", \"Topic14\", \"Topic14\", \"Topic14\", \"Topic14\", \"Topic14\", \"Topic14\", \"Topic14\", \"Topic14\", \"Topic14\", \"Topic14\", \"Topic14\", \"Topic14\", \"Topic14\", \"Topic14\", \"Topic14\", \"Topic14\", \"Topic14\", \"Topic14\", \"Topic14\", \"Topic14\", \"Topic14\", \"Topic14\", \"Topic14\", \"Topic14\", \"Topic14\", \"Topic14\", \"Topic14\", \"Topic14\", \"Topic14\", \"Topic14\", \"Topic14\", \"Topic14\", \"Topic14\", \"Topic14\", \"Topic14\", \"Topic14\", \"Topic14\", \"Topic14\", \"Topic15\", \"Topic15\", \"Topic15\", \"Topic15\", \"Topic15\", \"Topic15\", \"Topic15\", \"Topic15\", \"Topic15\", \"Topic15\", \"Topic15\", \"Topic15\", \"Topic15\", \"Topic15\", \"Topic15\", \"Topic15\", \"Topic15\", \"Topic15\", \"Topic15\", \"Topic15\", \"Topic15\", \"Topic15\", \"Topic15\", \"Topic15\", \"Topic15\", \"Topic15\", \"Topic15\", \"Topic15\", \"Topic15\", \"Topic15\", \"Topic15\", \"Topic15\", \"Topic15\", \"Topic15\", \"Topic15\", \"Topic15\", \"Topic15\", \"Topic15\", \"Topic15\"], \"logprob\": [30.0, 29.0, 28.0, 27.0, 26.0, 25.0, 24.0, 23.0, 22.0, 21.0, 20.0, 19.0, 18.0, 17.0, 16.0, 15.0, 14.0, 13.0, 12.0, 11.0, 10.0, 9.0, 8.0, 7.0, 6.0, 5.0, 4.0, 3.0, 2.0, 1.0, -4.431, -5.0214, -5.3569, -5.4008, -5.5217, -5.759, -5.7713, -5.7966, -5.8282, -5.8876, -5.8959, -5.9398, -6.0054, -6.0381, -6.0424, -6.1384, -6.2222, -6.2322, -6.234, -6.3155, -6.3251, -6.4005, -6.418, -6.4321, -6.4756, -6.4885, -6.5251, -6.5626, -6.5735, -6.6489, -5.9358, -4.6319, -4.8426, -6.0347, -5.7931, -4.9755, -4.4263, -3.8692, -4.9676, -5.1513, -5.4237, -5.2547, -5.3926, -4.9331, -4.2012, -4.252, -5.451, -5.0458, -5.2589, -4.0244, -3.7252, -4.8748, -4.9073, -4.3475, -4.0617, -5.0913, -4.7904, -5.2846, -5.0505, -4.7902, -5.1626, -5.0746, -5.2469, -5.2191, -5.2226, -4.4365, -4.4821, -4.5345, -4.7935, -4.864, -4.9719, -5.0959, -5.1293, -5.1497, -5.1938, -5.2599, -5.2955, -5.3182, -5.338, -5.4, -5.4421, -5.4444, -5.5402, -5.6102, -5.6789, -5.7332, -5.804, -5.8056, -5.8297, -5.9, -5.9283, -5.944, -5.9604, -5.9778, -6.1009, -5.3921, -3.5813, -5.1354, -4.2889, -3.9249, -4.739, -4.9707, -4.6415, -4.9786, -4.9746, -3.5493, -4.9921, -4.8891, -4.9371, -5.1153, -4.7579, -4.5998, -5.0193, -4.8205, -5.1329, -4.3321, -5.0255, -4.5376, -5.0195, -4.9291, -4.9032, -5.0492, -5.0472, -5.0901, -5.1234, -5.1283, -5.2031, -5.405, -5.515, -5.7272, -5.7512, -5.7673, -5.8577, -5.8736, -5.8938, -5.9063, -6.046, -6.0502, -6.0502, -5.7142, -6.1594, -6.1702, -6.1706, -6.1715, -6.1824, -6.2006, -6.211, -6.2334, -6.243, -6.2315, -6.2815, -6.308, -6.3537, -4.9329, -4.6993, -4.4034, -5.9342, -5.568, -5.3875, -4.889, -5.3112, -5.2485, -4.3962, -5.7366, -5.3679, -5.2927, -4.2093, -5.0656, -3.9705, -3.9096, -5.558, -5.1417, -5.16, -5.3025, -3.4767, -4.8529, -5.1424, -3.7248, -4.9666, -5.4539, -5.0509, -4.7564, -4.6816, -4.5642, -4.7466, -4.9862, -4.7637, -4.7506, -5.0918, -4.8438, -5.1229, -5.1221, -5.1225, -4.3071, -4.4655, -4.6028, -4.6785, -4.8903, -4.9235, -4.966, -4.9785, -5.0865, -5.2843, -5.3103, -5.3471, -5.3484, -5.3515, -5.4077, -4.0547, -5.5049, -5.5506, -5.5984, -5.6358, -5.6379, -5.6834, -5.7549, -5.7646, -5.7779, -5.819, -5.9151, -5.9231, -6.0499, -6.069, -4.1952, -5.6349, -3.9085, -4.891, -4.2825, -4.5903, -4.9507, -4.5734, -3.3723, -5.3254, -4.1167, -4.9747, -4.5402, -5.0569, -4.267, -4.3136, -4.2207, -4.2783, -4.7681, -3.9098, -4.366, -4.2031, -4.4222, -4.7392, -4.6759, -4.3822, -4.7808, -4.8646, -4.8809, -4.976, -5.048, -5.2233, -5.3246, -5.342, -5.4437, -5.6062, -5.6867, -5.7058, -5.7197, -5.7438, -5.768, -5.8507, -6.0243, -6.0994, -6.1178, -6.1616, -6.1787, -6.1963, -6.2504, -6.2716, -6.2818, -6.3154, -6.3181, -6.3483, -6.3586, -6.3683, -6.5038, -6.5066, -6.5219, -5.9053, -3.8809, -4.767, -5.4786, -2.2408, -5.6396, -4.9598, -5.1516, -5.3209, -5.5191, -5.2829, -5.5899, -4.6878, -3.9593, -3.662, -4.592, -4.708, -4.1443, -4.542, -3.5419, -4.129, -3.6498, -5.0182, -4.8872, -5.0628, -4.8461, -4.8566, -4.6811, -4.9661, -4.4483, -4.7605, -5.0049, -4.8901, -4.9796, -5.0105, -5.1052, -3.1042, -3.9006, -3.9928, -4.1159, -4.4224, -4.507, -4.4019, -4.518, -4.6126, -4.629, -4.7464, -4.9208, -4.9544, -4.9989, -5.0807, -5.0953, -5.1126, -5.1232, -5.1683, -5.2082, -5.209, -5.2111, -5.2268, -5.2334, -5.264, -5.2986, -5.3002, -5.3219, -5.3258, -5.372, -4.3196, -3.0359, -4.5104, -3.9586, -4.6079, -4.6571, -3.2003, -4.6337, -4.6995, -5.0804, -4.93, -4.9126, -4.3868, -4.9265, -4.9392, -5.0039, -4.9216, -4.0879, -4.2323, -4.4678, -4.7196, -4.7292, -4.8085, -5.0952, -5.1708, -5.2477, -5.268, -5.274, -5.3443, -5.3929, -5.4772, -5.5412, -5.6093, -5.6174, -5.6669, -5.6712, -5.7242, -5.7319, -5.7365, -5.7651, -5.7653, -5.7917, -5.9452, -5.9985, -6.0033, -6.0295, -6.0386, -4.1553, -5.1046, -4.3064, -3.5736, -3.1509, -3.2676, -5.1103, -3.8571, -3.3717, -5.0863, -5.1958, -4.5773, -5.2636, -3.8503, -4.7032, -4.7139, -2.9853, -4.7613, -4.7685, -4.5576, -4.9512, -4.9685, -4.6194, -5.0417, -4.8654, -4.8227, -5.0161, -4.9216, -4.9531, -4.9372, -3.8537, -4.0849, -4.6923, -4.7355, -4.906, -5.0342, -5.1004, -5.1786, -5.3075, -5.3387, -5.4167, -5.451, -5.5319, -5.5754, -5.5777, -5.6344, -5.6419, -5.7098, -5.818, -5.8516, -5.9335, -5.9605, -5.9608, -5.9698, -6.0039, -6.0393, -6.0395, -6.0826, -6.103, -6.1078, -4.3095, -5.4426, -5.4683, -4.4745, -3.8208, -4.7638, -4.2982, -3.943, -3.9835, -3.7661, -4.6986, -3.9205, -4.7628, -4.6459, -4.0585, -4.6215, -4.3124, -4.2802, -4.6353, -4.6873, -4.4737, -4.6081, -4.626, -4.8337, -4.8656, -4.7203, -5.0108, -2.7946, -3.0903, -3.9891, -4.0085, -4.078, -4.1742, -4.3024, -4.4152, -4.4204, -4.4715, -4.5836, -4.6053, -4.6444, -4.6962, -4.7275, -4.7745, -4.8405, -4.8435, -4.8603, -4.8948, -4.9276, -4.933, -4.9349, -4.9409, -5.0026, -5.0055, -5.0723, -5.0988, -5.1452, -3.9486, -4.0282, -3.5424, -3.5047, -3.9009, -4.219, -4.1681, -4.7374, -4.7766, -4.3773, -4.7268, -4.6896, -4.5945, -4.7306, -4.5768, -4.6909, -3.4502, -4.1312, -4.408, -4.4224, -4.5663, -4.5923, -4.6815, -4.6885, -4.6944, -4.7222, -4.73, -4.7579, -4.8348, -4.884, -4.952, -4.9715, -4.9716, -4.9752, -5.074, -5.1123, -5.2138, -5.2813, -5.3542, -5.413, -5.4366, -5.4474, -5.4587, -5.6307, -5.695, -5.6952, -4.8835, -4.9119, -4.7937, -3.4526, -4.3187, -3.4017, -4.3702, -4.2696, -4.7005, -4.2574, -4.5458, -4.2975, -4.3057, -4.722, -4.7015, -4.4371, -4.314, -4.667, -4.7543, -2.8515, -3.5013, -3.6265, -3.8926, -4.1517, -4.2766, -4.3019, -4.3503, -4.4103, -4.4154, -4.4226, -4.5303, -4.5385, -4.5802, -4.6198, -4.6707, -4.6961, -4.7234, -4.7603, -4.9033, -4.9106, -4.9263, -4.9572, -5.0139, -5.0231, -5.064, -5.1217, -5.1292, -5.236, -5.24, -3.7002, -4.358, -3.5615, -4.1974, -4.2224, -4.0328, -3.6154, -3.5945, -4.0669, -4.2555, -4.268, -4.0895, -4.3341, -4.4435, -4.4709, -4.3705, -4.5436, -4.5306, -3.1226, -3.4585, -3.6445, -3.789, -4.0669, -4.1238, -4.1779, -4.1812, -4.1835, -4.2907, -4.3788, -4.4269, -4.6682, -4.6821, -4.7117, -4.7207, -4.7419, -4.8493, -4.8519, -4.9152, -4.9563, -5.003, -5.0488, -5.0927, -5.1223, -5.1791, -4.9568, -5.2799, -5.3297, -5.365, -3.56, -4.14, -4.7141, -3.7039, -4.3736, -4.2049, -4.3851, -4.4338, -4.3631, -4.4833, -4.2059, -4.3878, -4.6754, -4.6492, -3.0714, -3.1971, -3.4641, -3.4958, -3.6656, -3.9538, -4.1304, -4.2021, -4.2496, -4.3198, -4.5482, -4.5526, -4.6849, -4.7147, -4.7198, -4.7759, -4.8157, -4.9575, -4.9974, -5.3706, -5.378, -5.4367, -5.4967, -5.6297, -5.6648, -5.6854, -5.7778, -5.8117, -5.8216, -5.2193, -3.1743, -3.8428, -3.1385, -3.4327, -3.9519, -4.6409, -3.415, -4.6866, -5.05, -4.4113, -4.467, -4.648, -4.5348, -4.518, -4.4402, -4.1572, -4.4299, -4.3842, -4.57, -2.8725, -3.2923, -3.4722, -3.7753, -3.8408, -3.844, -3.8528, -3.8608, -3.8842, -4.0113, -4.0347, -4.0671, -4.1978, -4.3942, -4.6311, -4.6529, -4.7302, -4.766, -4.8008, -4.9353, -5.0415, -5.1793, -5.2631, -5.2643, -5.3084, -5.3495, -5.4421, -5.4482, -5.5079, -5.558, -2.0703, -2.8988, -4.268, -4.4837, -4.0716, -4.5105, -4.0182, -4.6764, -4.5306, -4.72, -4.171, -4.6605, -2.7052, -3.4523, -3.4988, -3.5555, -3.5806, -3.6015, -3.6646, -3.6922, -4.024, -4.0969, -4.1444, -4.1945, -4.2033, -4.2697, -4.3176, -4.356, -4.3628, -4.3987, -4.4323, -4.4455, -4.4556, -4.4622, -4.4821, -4.5286, -4.5828, -4.6251, -4.6545, -4.762, -4.7691, -4.7954, -3.5159, -3.9534, -4.4546, -3.9813, -3.9496, -4.414, -4.0271, -4.3204, -4.3125], \"loglift\": [30.0, 29.0, 28.0, 27.0, 26.0, 25.0, 24.0, 23.0, 22.0, 21.0, 20.0, 19.0, 18.0, 17.0, 16.0, 15.0, 14.0, 13.0, 12.0, 11.0, 10.0, 9.0, 8.0, 7.0, 6.0, 5.0, 4.0, 3.0, 2.0, 1.0, 1.7611, 1.7606, 1.7602, 1.7601, 1.7599, 1.7595, 1.7595, 1.7594, 1.7593, 1.7592, 1.7592, 1.7591, 1.7589, 1.7588, 1.7588, 1.7585, 1.7582, 1.7582, 1.7582, 1.7579, 1.7578, 1.7575, 1.7575, 1.7574, 1.7572, 1.7572, 1.757, 1.7568, 1.7568, 1.7564, 1.7486, 1.6886, 1.6909, 1.7368, 1.7201, 1.6597, 1.6141, 1.4907, 1.5312, 1.5365, 1.5708, 1.5317, 1.561, 1.4287, 1.2214, 1.1956, 1.537, 1.35, 1.428, 0.7518, 0.5688, 1.1444, 1.0542, 0.5758, 0.2063, 1.1156, 0.6345, 1.1423, 0.814, 0.3065, 0.8337, 0.5847, 0.795, 0.359, -0.024, 2.1585, 2.1585, 2.1584, 2.1582, 2.1581, 2.1579, 2.1577, 2.1577, 2.1576, 2.1576, 2.1574, 2.1574, 2.1573, 2.1573, 2.1571, 2.157, 2.157, 2.1568, 2.1566, 2.1564, 2.1562, 2.156, 2.156, 2.1559, 2.1557, 2.1556, 2.1555, 2.1554, 2.1554, 2.1548, 2.1547, 2.0124, 2.1076, 2.0402, 1.984, 2.0273, 2.0405, 1.9843, 1.9602, 1.8482, 1.2269, 1.7428, 1.622, 1.6254, 1.7943, 1.3526, 1.073, 1.6034, 1.2215, 1.7531, -0.3441, 1.436, -0.2435, 0.923, -0.0008, -0.6352, 1.0983, 0.0495, 2.2181, 2.218, 2.218, 2.2179, 2.2174, 2.2171, 2.2165, 2.2164, 2.2164, 2.216, 2.216, 2.2159, 2.2159, 2.2153, 2.2152, 2.2152, 2.2148, 2.2147, 2.2147, 2.2147, 2.2147, 2.2146, 2.2145, 2.2144, 2.2143, 2.2143, 2.2142, 2.2141, 2.2139, 2.2136, 2.2045, 2.1977, 2.1388, 2.199, 2.1761, 2.1552, 2.025, 2.0799, 2.0681, 1.884, 2.124, 2.0179, 1.9908, 1.6789, 1.9146, 1.5396, 1.5153, 2.0552, 1.8792, 1.8424, 1.8974, 0.7913, 1.6243, 1.7941, 0.5693, 1.5531, 1.9708, 1.5606, 1.1816, 1.0707, 0.5325, 0.8315, 1.1503, 0.5074, 0.448, 1.3421, 0.0795, 1.3048, 1.1643, 0.7421, 2.4405, 2.4403, 2.4401, 2.44, 2.4397, 2.4396, 2.4395, 2.4395, 2.4393, 2.4388, 2.4387, 2.4386, 2.4386, 2.4386, 2.4385, 2.4383, 2.4381, 2.438, 2.4378, 2.4377, 2.4377, 2.4375, 2.4372, 2.4372, 2.4371, 2.4369, 2.4365, 2.4364, 2.4357, 2.4356, 2.4214, 2.4235, 2.2898, 2.3425, 2.2781, 2.3008, 2.3376, 2.1906, 1.8988, 2.3485, 1.9602, 2.2306, 2.0719, 2.2374, 1.7732, 1.73, 1.6362, 1.5406, 1.8927, 1.0185, 1.4473, 0.9956, 1.2506, 1.6273, 1.4715, -0.1141, 1.1955, 0.839, 1.0903, 2.4427, 2.4426, 2.4422, 2.4419, 2.4419, 2.4416, 2.441, 2.4407, 2.4406, 2.4406, 2.4405, 2.4404, 2.44, 2.4391, 2.4387, 2.4386, 2.4383, 2.4382, 2.4381, 2.4377, 2.4376, 2.4375, 2.4372, 2.4372, 2.437, 2.4369, 2.4368, 2.4357, 2.4357, 2.4355, 2.4182, 2.3036, 2.2874, 2.3164, 1.7472, 2.303, 2.1721, 2.1776, 2.2144, 2.2273, 2.1234, 2.1958, 1.8034, 1.4142, 1.2613, 1.6567, 1.6814, 1.3298, 1.469, 0.7262, 1.0696, 0.6442, 1.7406, 1.5466, 1.7292, 1.4482, 1.3747, 1.0226, 1.4462, 0.48, 0.8989, 1.4178, 1.0862, 1.3252, 1.1964, 0.3198, 2.6847, 2.6842, 2.6841, 2.684, 2.6836, 2.6835, 2.6835, 2.6835, 2.6833, 2.6833, 2.6831, 2.6827, 2.6826, 2.6825, 2.6823, 2.6822, 2.6822, 2.6821, 2.682, 2.6819, 2.6819, 2.6819, 2.6818, 2.6818, 2.6817, 2.6816, 2.6816, 2.6815, 2.6815, 2.6813, 2.6813, 2.5545, 2.6361, 2.4772, 2.2559, 2.1775, 0.7876, 1.5321, 1.4941, 2.3646, 1.9759, 1.7957, -0.1188, 1.6442, 1.5265, 1.5725, -0.6275, 2.69, 2.6899, 2.6895, 2.6891, 2.6891, 2.6889, 2.6882, 2.688, 2.6878, 2.6877, 2.6877, 2.6874, 2.6872, 2.6869, 2.6866, 2.6863, 2.6863, 2.686, 2.686, 2.6857, 2.6857, 2.6857, 2.6855, 2.6855, 2.6854, 2.6844, 2.6841, 2.684, 2.6838, 2.6838, 2.6488, 2.6572, 2.6254, 2.5924, 2.5732, 2.5715, 2.6351, 2.3087, 2.1499, 2.5173, 2.5259, 2.2903, 2.5316, 1.9506, 2.2579, 2.2403, 1.0027, 2.1814, 1.8055, 1.4826, 1.9994, 2.029, 1.1939, 2.0781, 1.4148, 0.1056, 1.814, 0.526, 0.557, 0.1595, 2.9364, 2.9361, 2.935, 2.9349, 2.9344, 2.934, 2.9338, 2.9335, 2.933, 2.9328, 2.9324, 2.9323, 2.9318, 2.9316, 2.9316, 2.9312, 2.9312, 2.9307, 2.93, 2.9297, 2.9291, 2.9289, 2.9289, 2.9288, 2.9285, 2.9282, 2.9282, 2.9277, 2.9275, 2.9275, 2.8647, 2.9036, 2.8973, 2.7296, 2.6178, 2.745, 2.5162, 2.3045, 2.3027, 2.1764, 2.4926, 2.1734, 2.4334, 2.3082, 1.7028, 2.1048, 1.8023, 1.7413, 1.9844, 1.8867, 1.4145, 1.3882, 1.0468, 1.6, 1.0959, 0.0559, 0.8024, 2.998, 2.9978, 2.9971, 2.9971, 2.997, 2.9968, 2.9966, 2.9964, 2.9964, 2.9963, 2.996, 2.996, 2.9959, 2.9958, 2.9957, 2.9956, 2.9954, 2.9954, 2.9953, 2.9952, 2.9951, 2.9951, 2.9951, 2.995, 2.9948, 2.9948, 2.9946, 2.9945, 2.9943, 2.9943, 2.891, 2.746, 2.6706, 2.5061, 2.5868, 2.5561, 2.7351, 2.6664, 1.0968, 2.2707, 1.9935, 1.3196, 1.9157, -0.3088, 0.2375, 2.9987, 2.9979, 2.9975, 2.9974, 2.9971, 2.9971, 2.9969, 2.9968, 2.9968, 2.9967, 2.9967, 2.9967, 2.9964, 2.9963, 2.9961, 2.996, 2.996, 2.996, 2.9956, 2.9955, 2.9951, 2.9948, 2.9944, 2.9941, 2.994, 2.9939, 2.9938, 2.9928, 2.9924, 2.9924, 2.9701, 2.853, 2.8151, 2.4615, 2.68, 2.1199, 2.4598, 2.1962, 2.5015, 1.4949, 1.9437, 1.2126, 1.1683, 2.0083, 1.9101, 0.6596, -0.046, 0.7065, -0.7663, 3.3202, 3.3197, 3.3196, 3.3192, 3.3187, 3.3185, 3.3184, 3.3183, 3.3181, 3.3181, 3.3181, 3.3178, 3.3178, 3.3176, 3.3175, 3.3173, 3.3172, 3.3171, 3.317, 3.3164, 3.3164, 3.3163, 3.3162, 3.3159, 3.3159, 3.3156, 3.3153, 3.3153, 3.3147, 3.3147, 2.9429, 3.0922, 2.5067, 2.7852, 2.7843, 2.3742, 1.8322, 1.1817, 1.8471, 1.9758, 1.8795, 1.284, 1.5228, 2.0093, 1.8176, -0.0764, 1.8555, -0.5426, 3.3584, 3.3581, 3.3579, 3.3577, 3.3572, 3.3571, 3.357, 3.357, 3.357, 3.3567, 3.3565, 3.3564, 3.3556, 3.3556, 3.3555, 3.3554, 3.3553, 3.3549, 3.3549, 3.3546, 3.3544, 3.3542, 3.354, 3.3537, 3.3536, 3.3532, 3.3528, 3.3526, 3.3523, 3.352, 3.3484, 3.2469, 3.2036, 2.7247, 2.9338, 2.7971, 2.7583, 2.8022, 2.7083, 2.824, 2.4476, 1.4312, 2.0734, -0.3812, 3.4173, 3.4172, 3.417, 3.4169, 3.4167, 3.4162, 3.4159, 3.4157, 3.4156, 3.4154, 3.4147, 3.4147, 3.4142, 3.4141, 3.4141, 3.4139, 3.4137, 3.413, 3.4128, 3.4104, 3.4104, 3.4099, 3.4094, 3.4081, 3.4078, 3.4076, 3.4066, 3.4062, 3.4061, 3.4059, 3.2395, 3.1704, 3.055, 3.076, 3.0818, 3.1474, 2.7627, 3.06, 3.2229, 2.7092, 2.3474, 2.5831, 2.2668, 1.9936, 1.6744, 0.1108, 0.4984, -0.0901, 1.6551, 3.8155, 3.815, 3.8147, 3.8141, 3.814, 3.814, 3.814, 3.8139, 3.8139, 3.8135, 3.8135, 3.8134, 3.8129, 3.8122, 3.811, 3.8109, 3.8104, 3.8102, 3.81, 3.8091, 3.8083, 3.807, 3.8062, 3.8062, 3.8058, 3.8053, 3.8042, 3.8042, 3.8034, 3.8027, 3.7813, 3.5858, 3.5498, 3.5174, 2.8554, 3.1706, 2.5627, 3.1606, 2.5457, 2.7463, 0.7573, 2.5307, 4.1309, 4.1297, 4.1296, 4.1294, 4.1294, 4.1293, 4.1291, 4.129, 4.1279, 4.1276, 4.1274, 4.1271, 4.1271, 4.1267, 4.1265, 4.1263, 4.1262, 4.126, 4.1258, 4.1257, 4.1257, 4.1256, 4.1255, 4.1252, 4.1248, 4.1245, 4.1243, 4.1234, 4.1234, 4.1231, 3.4078, 3.5128, 3.8504, 2.8297, 1.9074, 3.4104, 1.4469, 1.1272, 0.6108]}, \"token.table\": {\"Topic\": [14, 10, 5, 14, 15, 10, 10, 8, 10, 14, 15, 10, 14, 14, 10, 10, 10, 4, 1, 9, 10, 12, 15, 12, 14, 13, 13, 3, 12, 1, 2, 4, 5, 6, 7, 8, 13, 6, 10, 3, 12, 2, 7, 10, 1, 2, 6, 15, 1, 15, 3, 5, 14, 5, 2, 9, 3, 5, 12, 6, 1, 15, 1, 1, 7, 13, 1, 3, 4, 6, 7, 8, 13, 14, 5, 13, 12, 4, 8, 1, 7, 5, 11, 4, 1, 2, 3, 4, 5, 8, 11, 2, 1, 14, 14, 7, 1, 14, 4, 5, 5, 6, 7, 8, 10, 13, 14, 5, 1, 2, 3, 4, 5, 7, 8, 9, 10, 11, 12, 14, 4, 8, 8, 1, 1, 3, 4, 6, 1, 2, 15, 1, 2, 6, 11, 1, 2, 6, 8, 12, 12, 1, 7, 8, 6, 8, 13, 2, 8, 7, 1, 3, 7, 11, 2, 14, 7, 1, 2, 3, 9, 1, 2, 3, 4, 5, 6, 7, 8, 9, 10, 11, 12, 13, 14, 1, 2, 9, 1, 2, 3, 4, 5, 6, 8, 9, 10, 11, 13, 15, 1, 4, 5, 6, 8, 10, 11, 2, 12, 11, 11, 15, 1, 4, 5, 9, 10, 15, 1, 3, 10, 1, 2, 3, 12, 5, 1, 2, 9, 11, 1, 12, 14, 11, 1, 5, 10, 1, 2, 8, 1, 2, 3, 5, 9, 10, 11, 1, 1, 2, 3, 4, 5, 6, 7, 10, 11, 12, 14, 9, 2, 2, 2, 4, 5, 6, 13, 14, 2, 8, 14, 1, 2, 3, 6, 8, 2, 8, 1, 2, 3, 4, 5, 6, 10, 12, 9, 2, 1, 2, 3, 4, 6, 7, 8, 10, 13, 1, 2, 3, 5, 6, 8, 12, 7, 4, 4, 13, 13, 1, 2, 6, 13, 15, 10, 1, 2, 4, 5, 6, 8, 10, 12, 13, 14, 2, 5, 7, 13, 2, 11, 1, 2, 8, 2, 5, 7, 10, 4, 6, 2, 7, 13, 4, 7, 3, 7, 15, 15, 9, 14, 2, 2, 15, 1, 2, 3, 4, 5, 6, 7, 8, 9, 10, 11, 12, 15, 2, 15, 4, 4, 1, 2, 4, 13, 5, 10, 12, 1, 4, 6, 9, 13, 7, 14, 1, 5, 9, 13, 11, 1, 6, 13, 6, 2, 6, 2, 8, 7, 7, 2, 3, 9, 1, 2, 5, 6, 8, 11, 1, 5, 8, 1, 2, 6, 12, 4, 5, 12, 9, 3, 11, 4, 5, 9, 10, 11, 10, 9, 10, 2, 5, 1, 5, 6, 9, 10, 11, 13, 12, 3, 1, 2, 3, 4, 5, 13, 1, 1, 2, 11, 1, 3, 5, 6, 10, 15, 1, 2, 4, 6, 8, 13, 1, 3, 4, 5, 6, 7, 8, 10, 13, 4, 14, 6, 5, 8, 10, 9, 6, 8, 1, 3, 7, 7, 3, 12, 3, 7, 5, 1, 2, 5, 6, 8, 10, 11, 13, 3, 6, 12, 2, 2, 11, 5, 8, 14, 12, 14, 11, 12, 3, 5, 7, 8, 10, 6, 9, 2, 6, 8, 1, 3, 7, 10, 3, 7, 3, 1, 1, 2, 3, 5, 7, 9, 5, 10, 7, 9, 5, 7, 5, 5, 1, 2, 3, 4, 5, 6, 7, 8, 9, 10, 11, 12, 13, 14, 15, 1, 2, 3, 4, 5, 6, 7, 8, 9, 10, 11, 12, 13, 15, 15, 1, 3, 5, 6, 7, 10, 12, 13, 14, 8, 9, 15, 8, 5, 11, 9, 11, 8, 6, 8, 6, 6, 8, 12, 9, 7, 13, 4, 13, 11, 2, 2, 4, 14, 1, 2, 4, 5, 8, 9, 10, 11, 13, 15, 2, 3, 5, 6, 7, 8, 12, 8, 1, 4, 13, 7, 5, 7, 1, 7, 8, 1, 2, 4, 9, 10, 1, 3, 5, 9, 10, 11, 14, 15, 2, 14, 15, 2, 10, 10, 7, 14, 1, 2, 4, 6, 8, 13, 1, 2, 4, 6, 7, 11, 1, 2, 3, 5, 7, 8, 12, 14, 13, 4, 2, 9, 9, 15, 5, 1, 3, 4, 5, 2, 3, 13, 6, 4, 9, 4, 13, 1, 2, 6, 8, 4, 1, 4, 5, 6, 7, 8, 10, 12, 13, 14, 1, 2, 3, 5, 7, 8, 9, 10, 11, 13, 3, 14, 1, 8, 14, 8, 13, 2, 3, 4, 5, 6, 7, 9, 10, 12, 13, 14, 1, 2, 4, 6, 8, 13, 1, 2, 3, 5, 7, 10, 13, 7, 11, 9, 1, 1, 6, 3, 2, 6, 7, 8, 13, 8, 3, 4, 8, 12, 13, 7, 3, 7, 1, 3, 5, 7, 10, 11, 12, 3, 8, 12, 15, 3, 12, 2, 4, 11, 1, 2, 3, 4, 5, 7, 8, 9, 10, 12, 13, 14, 5, 3, 4, 5, 7, 8, 12, 13, 2, 11, 11, 10, 1, 8, 14, 3, 8, 1, 3, 5, 10, 12, 14, 15, 3, 5, 1, 6, 8, 13, 1, 2, 5, 6, 8, 12, 5, 8, 10, 9, 12, 4, 7, 2, 3, 7, 8, 14, 14, 12, 1, 2, 3, 5, 8, 9, 10, 11, 1, 6, 5, 2, 12, 9, 2, 4, 3, 5, 7, 14, 2, 1, 4, 1, 2, 3, 4, 5, 7, 8, 9, 10, 11, 12, 15, 13, 13, 14, 1, 1, 2, 3, 7, 8, 14, 12, 10, 8, 13, 9, 11, 12, 1, 4, 8, 4, 15, 8, 7, 5, 3, 5, 6, 8, 14, 6, 13, 6, 13, 1, 2, 8, 11, 5, 8, 4, 3, 7, 10, 12, 3, 13, 3, 12, 7, 5, 13, 13, 9, 14, 15, 2, 3, 1, 2, 3, 4, 5, 6, 7, 8, 9, 10, 11, 12, 13, 10, 1, 5, 7, 3, 4, 6, 8, 12, 13, 6, 8, 13, 6, 15, 9, 13, 13, 1, 2, 3, 5, 8, 9, 10, 11, 12, 14, 2, 1, 8, 13, 13, 5, 8, 11, 13, 13, 7, 1, 3, 5, 10, 3, 8, 1, 2, 7, 8, 1, 2, 3, 5, 6, 11, 13, 3, 2, 1, 2, 3, 4, 6, 8, 10, 13, 14, 5, 14, 8, 1, 1, 2, 8, 9, 1, 2, 3, 4, 6, 7, 8, 10, 13, 6, 6, 13, 6, 6, 1, 2, 5, 6, 9, 2, 5, 7, 10, 1, 2, 5, 9, 11, 12, 8, 3, 6, 14, 1, 2, 3, 4, 5, 6, 7, 8, 9, 1, 3, 5, 7, 10, 5, 1, 6, 3, 3, 7, 10, 15, 7, 4, 8, 13, 4, 2, 3, 5, 7, 11, 15, 6, 6, 5, 1, 9, 2, 7, 6, 6, 2, 1, 2, 3, 4, 5, 6, 7, 8, 12, 3, 7, 3, 10, 4, 8, 7, 15, 7, 4, 4, 4, 1, 2, 3, 4, 5, 8, 10, 11, 13, 1, 6, 8, 13, 7, 8, 3, 13, 1, 2, 7, 8, 12, 5, 1, 5, 2, 3, 4, 5, 6, 8, 9, 10, 11, 12, 15, 5, 1, 12, 1, 2, 3, 5, 6, 11, 2, 4, 6, 8, 13, 4, 14, 1, 2, 7, 8, 11, 15, 1, 2, 7, 8, 9, 11, 1, 11, 15, 15, 6, 7, 13, 13, 1, 2, 7, 1, 2, 3, 5, 6, 8, 9, 10, 11, 12, 13, 15, 8, 1, 7, 1, 2, 3, 5, 10, 11, 12, 15, 1, 9, 11, 2, 6, 1, 2, 3, 4, 5, 6, 9, 10, 11, 12, 13, 14, 15, 3, 1, 2, 3, 6, 7, 8, 11, 10, 10, 1, 2, 4, 6, 9, 11, 9, 10, 15, 7, 12, 8, 3, 7, 12, 1, 2, 5, 8, 12, 4, 13, 6, 6, 6, 2, 5, 10, 1, 2, 3, 4, 5, 6, 8, 11, 12, 1, 2, 4, 6, 7, 8, 13, 10, 4, 1, 2, 5, 10, 14, 12, 8, 12, 3, 4, 5, 1, 2, 11, 3, 1, 2, 3, 10, 1, 2, 3, 10, 5, 1, 2, 3, 4, 5, 6, 7, 8, 9, 10, 11, 12, 13, 14, 15, 1, 7, 13, 1, 2, 4, 5, 6, 7, 8, 10, 13, 9, 11, 5, 7, 8, 10, 5, 7, 10, 12, 2, 5, 9, 10, 11, 12, 1, 3, 4, 6, 8, 13, 1, 15, 15, 3, 11, 11, 11, 11, 11, 3, 12, 1, 2, 3, 7, 1, 2, 4, 6, 7, 8, 10, 13, 9, 1, 2, 3, 4, 5, 6, 7, 8, 9, 10, 11, 13, 14, 15, 6, 12, 8, 5, 1, 3, 12, 1, 3, 8, 12, 14, 14, 1, 2, 3, 7, 9, 15, 1, 8, 10, 6, 6, 14, 5, 7, 11, 13, 3, 1, 2, 3, 1, 3, 9, 15, 1, 3, 5, 14, 15, 9, 10, 1, 2, 3, 4, 5, 6, 7, 8, 9, 10, 11, 13, 14, 14, 1, 4, 12, 15, 15, 8, 1, 4, 7, 8, 14, 3, 7, 11, 7, 7, 6, 8, 7, 9, 1, 4, 5, 8, 10, 15, 13, 10, 9, 11, 15, 15, 2, 3, 4, 5, 6, 7, 10, 12, 13, 6, 4, 8, 3, 13, 6, 15, 14, 3, 1, 1, 4, 13, 11, 3, 3, 4, 6, 7, 8, 13, 10, 2, 15, 7, 4, 8, 8, 10, 12, 13, 15, 10, 14, 4, 1, 2, 3, 4, 5, 8, 9, 11, 6, 12, 1, 2, 4, 6, 8, 15, 12, 4, 10, 14, 9, 6, 11, 11, 12, 14, 14, 3, 9, 9, 9, 1, 3, 5, 10, 2, 3, 10, 1, 2, 3, 4, 5, 7, 11, 3, 8, 10, 12, 13, 12, 1, 2, 3, 4, 5, 6, 8, 12, 9, 11, 9, 11, 8, 10, 1, 2, 4, 5, 10, 8, 1, 4, 8, 2, 8, 1, 2, 3, 4, 6, 7, 8, 10, 12, 11, 15, 3, 5, 14, 4, 10, 4, 13, 7, 3, 7, 8, 11, 1, 2, 3, 4, 5, 6, 7, 8, 9, 10, 11, 12, 13, 14, 15, 1, 12, 8, 12, 14, 1, 2, 3, 4, 5, 6, 7, 10, 11, 12, 1, 2, 3], \"Freq\": [0.9945785979110457, 0.9968162691523983, 0.9974342952266221, 0.9977037678626326, 0.9973133828154033, 0.9977382078945406, 0.9974590814414571, 0.9969292161476537, 0.9971668094984086, 0.9977676395015603, 0.9918974882188977, 0.9965135205756659, 0.9891979079721624, 0.9992646542452198, 0.9987567261965882, 0.9948252078770276, 0.9963119715782179, 0.9964184614108165, 0.7940363175393104, 0.1035188088051249, 0.025879702201281225, 0.05705297985282452, 0.0188216016009318, 0.9927515755387537, 0.0035969259983288176, 0.9991407725925519, 0.9926700532821287, 0.47756985202859087, 0.521364467280121, 0.03539480783566568, 0.1510664994223257, 0.25323707874177304, 0.12114511547877325, 0.06604598163149988, 0.05619381862569603, 0.3024978937707923, 0.014595797045635333, 0.998525048268404, 0.9974303414494808, 0.9962028253682984, 0.9938211098748695, 0.8393828405229671, 0.15158305871019373, 0.008013201341508038, 0.17982572428089905, 0.5841358792038476, 0.16672583708162828, 0.06847668308709733, 0.9952019859797301, 0.9952301755076359, 0.006958243979915307, 0.1988898070925792, 0.7938196673753379, 0.990015868934001, 0.9951769310302436, 0.9966630898781421, 0.310217200682899, 0.10296570916283455, 0.5861124983115198, 0.9967758705271585, 0.9970428199806985, 0.9976091424343309, 0.9976280878370225, 0.1580093855480516, 0.8397577456654878, 0.9873588549510849, 0.32548417008749825, 0.09829436475576869, 0.002781915983653831, 0.02781915983653831, 0.002781915983653831, 0.533200563533651, 0.010200358606730714, 0.9891272113554891, 0.9896587491779647, 0.99013335177635, 0.9974882328493937, 0.9015198229503858, 0.09714653264551572, 0.03119502983892207, 0.9670459250065843, 0.9967568899857995, 0.9953426963150904, 0.9979173123251589, 0.07109979114208372, 0.02976270326877923, 0.4155755234196211, 0.04960450544796539, 0.4073081058449602, 0.0022046446865762394, 0.023699930380694574, 0.9956559056959546, 0.996326885767621, 0.9987223775080212, 0.9976030937743396, 0.9968641833015148, 0.9934128112851836, 0.9972769018536741, 0.11824827440698508, 0.8793371678628528, 0.10526883846137502, 0.3140994531388055, 0.044952639126749336, 0.05348795035334731, 0.44781932902217375, 0.0341412449063919, 0.9969658137267052, 0.9944018808507695, 0.2459201933216226, 0.11851011221022956, 0.24943333894050293, 0.054805071654533036, 0.12272588695288594, 0.054805071654533036, 0.008665759193238129, 0.0009368388317014194, 0.06862344442212898, 0.037707762975982134, 0.03513145618880323, 0.0028105164951042583, 0.9980989689770492, 0.9987682413784306, 0.9944655668289504, 0.9953734280836566, 0.14788260230916278, 0.8231537622510025, 0.02761663055171112, 0.9965047336336963, 0.0033549064221799667, 0.9947297541763601, 0.9940776115688632, 0.06750741980522472, 0.8875240192039837, 0.0014891342604093686, 0.04268851546506857, 0.5380781553951143, 0.35032555386864006, 0.007663371490876501, 0.10290813144891302, 0.9978752978622764, 0.9972865012594807, 0.23715185966296629, 0.4127964188251098, 0.34938683067993165, 0.9981677786602835, 0.004931350173584103, 0.9862700347168206, 0.9971026546769178, 0.9915117552317066, 0.9973121226471161, 0.2742555306869997, 0.6532930747593979, 0.07106953951357467, 0.9976154142571807, 0.47758080623217003, 0.5179397476039027, 0.9955795100542059, 0.4374233603492316, 0.4850186482628786, 0.07705903757447603, 0.9966154120040623, 0.16763520778576574, 0.019872625014756166, 0.1700391543601314, 0.23558676428783523, 0.252895179623268, 0.00016026310495771104, 0.02003288811971388, 0.038463145189850646, 0.06154103230376104, 0.010417101822251217, 0.0057694717784775975, 0.016667362915601946, 0.0003205262099154221, 0.0006410524198308442, 0.08916512501840411, 0.2667584731955561, 0.6425784216202346, 0.38772331984355857, 0.049596144694389235, 0.22801749541885868, 0.10855005253866323, 0.09420148237550659, 0.000311925438329492, 0.02900906576464276, 0.030256767517960727, 0.018091675423110538, 0.03056869295629022, 0.019339377176428505, 0.0043669561366128885, 0.014853564417164821, 0.14403456404523463, 0.342982305632715, 0.013053132366599388, 0.03825918107451545, 0.1863447172335223, 0.2606125393193464, 0.9991608657334948, 0.9964635662332672, 0.9927802380785883, 0.795011163718754, 0.20256031566014232, 0.12306546691952444, 0.09860064518251055, 0.14975436335990325, 0.1660642445179125, 0.37142047546193824, 0.09118706283796088, 0.9959600096959927, 0.16598177227829755, 0.8316936116310393, 0.0009731763262862943, 0.24426725789785989, 0.6860893100318375, 0.06909551916632689, 0.9964112624963485, 0.2642985827461768, 0.12785563208659814, 0.02099122317839671, 0.5848918094707811, 0.9977056593452162, 0.855541243148767, 0.14096986392792182, 0.9955645712703111, 0.9295755023694757, 0.06987809493725017, 0.9947855332328375, 0.14281162718491594, 0.8392628501688895, 0.01793296688395063, 0.34085710017787696, 0.038894482385442394, 0.08415351643395717, 0.0021215172210241303, 0.3663153068301665, 0.16335682601885804, 0.0028286896280321737, 0.9984953952043226, 0.02020245121663072, 0.08181276343756129, 0.020441250876401768, 0.00019103972781683897, 0.49784953069068233, 0.14996618633621858, 0.1848309366627917, 0.023163566997791724, 0.021014370059852287, 0.0004775993195420974, 0.00014327979586262923, 0.996882542517092, 0.996971243341083, 0.9960550600698613, 0.20444217462050104, 0.617955403286873, 0.06094691243403616, 0.00038573995211415294, 0.07059041123688999, 0.04513157439735589, 0.9984532367696319, 0.9948716603421256, 0.991219308069832, 0.06031738835090366, 0.6945369864523171, 0.11708669503410711, 0.04168995959547753, 0.08515396002480517, 0.8875656095068896, 0.1109457011883612, 0.14484099336209832, 0.05570807437003782, 0.18311001836412433, 0.1898918708961289, 0.32649775761222166, 0.04505087753403059, 0.032456008546022035, 0.021798811710014798, 0.9960172947805477, 0.9984237414299215, 0.000592647706608544, 0.07911846883224062, 0.04089269175598954, 0.3701084927770357, 0.10104643397675675, 0.22372450924472537, 0.11823321746840453, 0.053634617448073234, 0.012741925692083695, 0.22348761459453256, 0.08983325684682192, 0.4004153094818709, 0.05641966740989425, 0.12050802747744403, 0.02793595182431657, 0.08106903666664417, 0.9946046226097341, 0.9984503259642821, 0.9105540753252338, 0.08572161796994879, 0.9976949806968205, 0.1090763506467599, 0.0035568375210899964, 0.8775903777036052, 0.009484900056239991, 0.9933652140031537, 0.9920430498684961, 0.101830284282175, 0.1628562347917054, 0.22099338291025214, 0.3769887120233713, 0.003249902689856649, 0.07583106276332181, 0.044776437060247164, 0.002166601793237766, 0.002888802390983688, 0.008666407172951064, 0.1281357136880024, 0.07118650760444577, 0.30774474825921944, 0.49173449099071004, 0.9990436666747894, 0.9965290049354263, 0.2602275835250287, 0.7327032898626591, 0.0065056895881257185, 0.9972639910028664, 0.06282876034056113, 0.906167825314536, 0.030360206339063094, 0.9970038474142106, 0.0023390119587430157, 0.09422030504382096, 0.20482675009526297, 0.6984592178248468, 0.996246206207251, 0.9936912970071359, 0.8699212203444342, 0.01291962208432328, 0.11627659875890951, 0.9988269989694529, 0.9981488835491609, 0.9954908929516233, 0.998259075300661, 0.23989663959000282, 0.7554953873655312, 0.137086570222057, 0.052405245831723055, 0.08364016056586263, 0.2589027376852013, 0.18393894232326635, 0.05552873730513701, 0.032276078558610886, 0.042687716803324074, 0.07843434144350603, 0.02082327648942638, 0.02325265874652612, 0.01492334815075557, 0.016311566583383997, 0.9959184967938941, 0.9952798698442226, 0.9987060138808378, 0.9976455516654603, 0.02569194003927473, 0.15546917562227786, 0.6910473102871588, 0.1271421648097442, 0.006201632903875364, 0.0035437902307859223, 0.9896034219469687, 0.9316379556387758, 0.010351532840430841, 0.057237887470617595, 0.9973325510582983, 0.996899995732718, 0.8515380842032796, 0.14407336273136298, 0.10281488595147946, 0.17841406679815555, 0.7181922180434227, 0.9939068239734679, 0.996175335659081, 0.9965969448724489, 0.30384293275720936, 0.6956746177964637, 0.9956523182931682, 0.8761762200181087, 0.12297210105517316, 0.9963945221378113, 0.9890257424715357, 0.9917869722464279, 0.9970529878911836, 0.9986853354989148, 0.9954129301980912, 0.997654691875144, 0.762623527933704, 0.1555375392773431, 0.01977172109457751, 0.004895854747228717, 0.03540079586457688, 0.021654742151203943, 0.0036470257396966784, 0.9737558724990131, 0.018235128698483392, 0.7943178629975206, 0.1191868856620169, 0.08546954300763054, 0.9965599957124887, 0.9982294822632853, 0.10435950625893237, 0.8934889234497634, 0.9976700020280902, 0.9932373366033397, 0.9946650288325815, 0.19252255083329625, 0.804908111462611, 0.18648866085519758, 0.5840470890052057, 0.2290959120171935, 0.995943714675011, 0.8981730020207159, 0.10029449274807595, 0.9980423674201553, 0.9941627465252982, 0.5240215649614378, 0.2868282329587753, 0.00966343204455292, 0.025037073933614384, 0.04480318493383626, 0.0017569876444641671, 0.10717624631231419, 0.9973331542549936, 0.9934535284090462, 0.25079238897308953, 0.025477322054409095, 0.11783261450164206, 0.019904157855007105, 0.2691042141996961, 0.31607802673751284, 0.9973599933240177, 0.9585939119322618, 0.009731917887637177, 0.02919575366291153, 0.045426104429671675, 0.5174625808945208, 0.06978502999340866, 0.0289673709406602, 0.33641651251539456, 0.0019750480186813773, 0.021640989846481943, 0.24474928993045056, 0.4431250301898684, 0.09532340765712284, 0.1679753021417408, 0.02679360647659669, 0.39533139231771997, 0.20211361911472991, 0.03843005433871625, 0.0064050090564527085, 0.05195174012456086, 0.0014233353458783795, 0.21243280037234816, 0.05373090930690883, 0.03843005433871625, 0.99899323224714, 0.9918501115056434, 0.997922838947094, 0.9922005199749055, 0.993005651297014, 0.9944794670316026, 0.9951655399178898, 0.0342381328937978, 0.962471958014538, 0.0026274151914874215, 0.9782742562971499, 0.018391906340411948, 0.9942728713915445, 0.42899481575671305, 0.5700475329556323, 0.9973779760462791, 0.9970766744093847, 0.9946299765932377, 0.09763570540093193, 0.15913001708991667, 0.368426446347163, 0.12514631852495142, 0.09871455297442289, 0.0490875645938387, 0.07282221121063984, 0.02805003691076497, 0.9091338840022756, 0.08953591281840592, 0.9983836028077345, 0.9974989037106325, 0.9949707988233464, 0.99660506906944, 0.9943817307632523, 0.9946012731242548, 0.9975666077065165, 0.9989230985223096, 0.9966910611814356, 0.9995843187530971, 0.9984811234648326, 0.7108111387160444, 0.08525768191015316, 0.05353389329242176, 0.08525768191015316, 0.06344757723546282, 0.9961430260001954, 0.9993882929555222, 0.45422841853376045, 0.4922280722243279, 0.05302277259148954, 0.9971348805538991, 0.0026564609919688307, 0.5819863289905047, 0.4150720299951298, 0.14986066358724487, 0.8472122848132244, 0.9983437065327246, 0.993732807568244, 0.11650946153483524, 0.12916207274223818, 0.046920099894119174, 0.46603784613934096, 0.1687014827653723, 0.0727525144425668, 0.9960214888896299, 0.9972170323654588, 0.5161890813671106, 0.48326144765888973, 0.9915204063150279, 0.9978846021910791, 0.9972707229044206, 0.9953024073433353, 0.21113257131170293, 0.061109008218622196, 0.23969645105815304, 0.0776659473636884, 0.17934577593014456, 0.060603452824879715, 0.0014534717570096282, 0.0036020821804151654, 0.03658957162211195, 0.04758540143601087, 0.010743052117027687, 0.02376110350589653, 0.03658957162211195, 0.008720830542057769, 0.0014534717570096282, 0.16253080791541938, 0.1592556279070482, 0.3430751058768802, 0.03316119758475811, 0.0577250476475419, 0.10889973527834144, 0.06836938267474821, 0.01965108005022703, 0.017604092544995047, 0.020879272553366218, 0.002865782507324775, 0.0016375900041855857, 0.0012281925031391893, 0.002865782507324775, 0.9945837980494773, 0.03141896469737644, 0.08594010931929437, 0.0970291556830743, 0.15986708507782718, 0.5008552607640597, 0.03419122628832142, 0.0693065397736245, 0.01570948234868822, 0.0046204359849083, 0.9980685973434291, 0.9978627526430704, 0.9945759369859909, 0.9929910248678006, 0.8685137060054076, 0.13100726030249718, 0.995828297371754, 0.0027509068988170004, 0.9915678709930194, 0.9960304443697553, 0.0029152110566919667, 0.9976996761520766, 0.27301582125563434, 0.7265654310089092, 0.9963724589614306, 0.9996175082353328, 0.21840615061837604, 0.7801625109926676, 0.28418716788557136, 0.7139826020022659, 0.9961253991992652, 0.9974477935505821, 0.20624706511122662, 0.7782184798806506, 0.014567636569194445, 0.00247657700139275, 0.06996330028934518, 0.44702214875139135, 0.017026466884575157, 0.023837053638405218, 0.08791848354944262, 0.07770260341869753, 0.16562108696814015, 0.00030957212517409373, 0.10804067168575872, 0.1014518733086595, 0.07704240003138804, 0.49429183386474707, 0.1594243723421792, 0.16628953670141183, 0.425342428362427, 0.5728600335748295, 0.995035177813694, 0.9972185820025562, 0.9981840086002104, 0.9975699774906988, 0.9987561785723669, 0.11086653552388195, 0.8888297554591905, 0.3940232546884667, 0.5417819751966417, 0.0634815243664752, 0.4254091560844891, 0.5732038863673632, 0.27264632837963904, 0.6628264112220551, 0.06396394800695344, 0.02103086535270014, 0.026384176533387448, 0.21795624092798324, 0.09406532503207699, 0.08947677259148785, 0.44317768988689926, 0.03020797023387838, 0.07762301211996596, 0.11761933075872168, 0.3435722556373186, 0.538572725053094, 0.9981290028149437, 0.9979958635684842, 0.9980043979545005, 0.995659521995038, 0.9923927612196372, 0.10815351176037726, 0.33733595334784333, 0.3038598663743933, 0.0816301505429514, 0.1508998997418597, 0.017510568570727747, 0.008692438705000636, 0.34604184558954915, 0.3791558977990754, 0.013659546536429572, 0.015315249146905885, 0.2367654732981126, 0.3239602145895862, 0.005426132626500513, 0.4943809726367134, 0.11937491778301128, 0.0004019357501111491, 0.016278397879501538, 0.039590671385948184, 0.0006029036251667236, 0.9988579868951195, 0.9970145335825918, 0.997699297022807, 0.9964820279309501, 0.998436450128593, 0.9965050850669541, 0.992860653394497, 0.043724758035643234, 0.12534430636884392, 0.10348192735102231, 0.7258309833916776, 0.9969103799331634, 0.993661067157609, 0.9982699698272427, 0.9961893371229089, 0.22892559760856107, 0.769314593324008, 0.9061985595883147, 0.09319498041774278, 0.1538830473304116, 0.20078857512631246, 0.6023657253789374, 0.04196810381738498, 0.9939882524225221, 0.10483513696159054, 0.49097167345712867, 0.04029250815605615, 0.11640057911749555, 0.0645426288055344, 0.08506196166278521, 0.03320401135082405, 0.05596181688341132, 0.0018653938961137107, 0.0070884968052321, 0.25345729532274514, 0.03760979220918153, 0.03161402823380477, 0.358110630165685, 0.08666604291680961, 0.015807014116902385, 0.06704354263375839, 0.13245187691059584, 0.003815486166148851, 0.013081666855367489, 0.9940489724377651, 0.9906912566064817, 0.6654025167102559, 0.05344177693263472, 0.2808312983911001, 0.23492568667197045, 0.7624406376535768, 0.03034572783065772, 0.1974216316339341, 0.28776121218727146, 0.25706668288729584, 0.05929624978404382, 0.00034880146931790483, 0.004185617631814857, 0.014649661711352003, 0.05476183068291106, 0.052320220397685725, 0.04185617631814858, 0.012139618632055356, 0.29033921228332393, 0.15747783058805143, 0.07148886527765931, 0.46703810570546295, 0.0006744232573364086, 0.026917303018692523, 0.1643487363173828, 0.5066142803924649, 0.01619414978360363, 0.11839236530985899, 0.16741249438455105, 0.9927746845610025, 0.9939876941302603, 0.9975143980174976, 0.9952651390760946, 0.9949219578722266, 0.9987586934186945, 0.99877970538183, 0.9963885957787836, 0.3224477378992233, 0.1794491758743504, 0.0012016685884443106, 0.32124606931077904, 0.17504305771672124, 0.9952625004740272, 0.003020723354776332, 0.4848260984416013, 0.025676148515598823, 0.2763961869620344, 0.209185092318261, 0.9950112889345138, 0.996342355223003, 0.9950455818635623, 0.15033964497961894, 0.0009337866147802418, 0.01494058583648387, 0.6480479106574879, 0.0018675732295604837, 0.09524623470758467, 0.08870972840412297, 0.1254235133018255, 0.21916108640108453, 0.6535225166779328, 0.9975800958386699, 0.9799350405461967, 0.018091108440852863, 0.9969853655714889, 0.994540073342632, 0.9961249516654671, 0.3081599692653948, 0.052079796949221706, 0.14404509692784737, 0.132358898588022, 0.21314609580681468, 0.0005080955799924069, 0.0033026212699506447, 0.013718580659794985, 0.061479565179081236, 0.009907863809851935, 0.05411217926919133, 0.006351194749905086, 0.99255865348591, 0.0078079273259787614, 0.5127205610726053, 0.017846691030808597, 0.29856026870290214, 0.03271893355648243, 0.10038763704829835, 0.029744485051347663, 0.9986824193606306, 0.997608110930928, 0.9977613488761359, 0.9958947950410779, 0.0811034066521846, 0.6405993713831972, 0.27622174729367216, 0.9945947018045684, 0.9970427739163831, 0.2577043768185617, 0.17052353444802698, 0.000548307184720344, 0.017545829911051008, 0.5302130476245727, 0.001096614369440688, 0.0224805945735341, 0.9972445754036476, 0.9960539153431748, 0.11464308553419642, 0.09919893929642902, 0.07543871431524841, 0.7104307269373001, 0.6627156968042762, 0.24460523316795144, 0.0015917911052144346, 0.07693657008536434, 0.014326119946929911, 0.9931757865637034, 0.7795558636404036, 0.18530426266862055, 0.03194901080493458, 0.9987260103034458, 0.9963436211243686, 0.9947125151164868, 0.993968784716223, 0.42507412026354524, 0.015342378013758533, 0.08844429678519625, 0.08663931113651878, 0.3826569575196246, 0.9930054280333073, 0.994787835804388, 0.5395877337354332, 0.11141285190488702, 0.07937255462505023, 0.12160749194847145, 0.07172657459236191, 0.028763448694398938, 0.026942977258044575, 0.02075337437443974, 0.5881350804957349, 0.4111869181764263, 0.9940416827192028, 0.9960258384979574, 0.9985653383192818, 0.9987028308500211, 0.9964794986108657, 0.9946114283910502, 0.9970531513815523, 0.9977067099741557, 0.23096487690949202, 0.7654835920428879, 0.9955169786851602, 0.999303863179395, 0.9969287967897364, 0.05234983383089374, 0.08907915272837565, 0.024064036519039864, 0.009287873744190826, 0.3280308136016487, 0.08105780722202902, 0.012243106299160632, 0.1492392440259753, 0.16021582208729174, 0.023852948479399165, 0.0021108803964070056, 0.06818143680394628, 0.9909155488237191, 0.9912143124311639, 0.9959397627057422, 0.9990090864998924, 0.9950511653371937, 0.22794263900212144, 0.44247688747470637, 0.04150216116285124, 0.0025539791484831538, 0.2854071698429924, 0.996784144326648, 0.9964701350716256, 0.930272726785627, 0.06818147935447452, 0.3139003322771275, 0.6855528901896573, 0.995812350582141, 0.9981083622996965, 0.9799188696747869, 0.019188148021991102, 0.9966972329734801, 0.9957121479236312, 0.9884529664268769, 0.9943065338750122, 0.9954329329270608, 0.7954209173681794, 0.012891749065934837, 0.02836184794505664, 0.15083346407143758, 0.011602574159341352, 0.5651709272586221, 0.4342763618545689, 0.9977481730424, 0.9919688721910276, 0.8183721710954064, 0.17794728975120955, 0.002780426402362649, 0.9967571556791015, 0.9926368182411267, 0.9983975161610187, 0.9947551350860142, 0.779393307134095, 0.08461984477455889, 0.12767204650196604, 0.005938234721021676, 0.9988937464244858, 0.9920081059325155, 0.4504670728107522, 0.5479562154339748, 0.9966569946770468, 0.9941972018679839, 0.9980281517931597, 0.9991493964368287, 0.9965566137621299, 0.9944861979709113, 0.9958492494853887, 0.1813447092135501, 0.8167651470090602, 0.008232452971685681, 0.044880146845641296, 0.15721329545928786, 0.20129675330766925, 0.2411312031706645, 0.0685152537643518, 0.12853249155793128, 0.002390066991779714, 0.05072253282554726, 0.044880146845641296, 0.037178819872128885, 0.010888082962552031, 0.0037178819872128884, 0.9992992157966063, 0.9968559703783275, 0.05114878691090634, 0.9452295821135491, 0.5134852015177238, 0.31649906573080755, 0.003603404922931395, 0.0030028374357761625, 0.06245901866414418, 0.10089533784207906, 0.29533361624696675, 0.6036619116088, 0.09923209505898083, 0.9971021807792662, 0.9980388503639314, 0.9975564305902136, 0.9964187312805127, 0.9943351958535657, 0.12503562646036137, 0.01969425618240124, 0.08610512005328914, 0.4547999160261496, 0.10167732261611805, 0.10259333453157857, 0.06686886982861817, 0.013282172774177581, 0.013740178731907844, 0.016030208520559152, 0.9991044410893306, 0.9973043341631376, 0.6564236817761027, 0.3427273522786777, 0.9966183426259799, 0.8671682373691112, 0.11711754929985121, 0.012459313755303321, 0.9909492089666114, 0.9961132988317059, 0.9910111371871325, 0.2761851750830506, 0.34785348000966504, 0.027385449850007133, 0.34785348000966504, 0.9979061296974748, 0.9911560922459004, 0.05662222762364689, 0.8191957770711493, 0.10228531441691051, 0.021005019924901263, 0.012008656411682049, 0.4967791547148469, 0.054354971126560854, 0.06762769663420944, 0.35330731232264556, 0.015168829151598378, 0.9990340342017814, 0.9968734337077937, 0.9982481985701732, 0.4928389169861799, 0.09382498210406354, 0.037117575337871286, 0.12131948235433856, 0.006529943809440319, 0.15843705769220984, 0.08523295077585258, 0.0030931312781559404, 0.0010310437593853135, 0.8550029981939979, 0.14455086660114355, 0.9924997590051639, 0.9979327857996488, 0.13608335013118494, 0.8633679678777451, 0.00023790795477479884, 0.9986129138759221, 0.1491288361574478, 0.1331180715393169, 0.07136226515509772, 0.033393880489244444, 0.006861756264913242, 0.009606458770878538, 0.531099934904285, 0.043000339260122984, 0.02287252088304414, 0.9984157550333885, 0.9973918977411977, 0.9966059731506111, 0.9974064100578229, 0.9977961955694578, 0.019486895838383964, 0.08133660871673307, 0.23214823737900894, 0.6506928697338645, 0.01525061413438745, 0.006632725035349944, 0.7942688229831558, 0.19732356980166085, 0.9981193851293089, 0.33107133134161637, 0.4463479756280346, 0.13242853253664655, 0.047865734651799954, 0.03988811220983329, 0.001994405610491665, 0.9942047425795285, 0.9952062341552789, 0.997207051646369, 0.9878784545799448, 0.1495700097902609, 0.14813183661920068, 0.06232083741260871, 0.04841849675902676, 0.36913111390545156, 0.05848570895644817, 0.0009587821140401339, 0.043624586188826094, 0.11936837319799667, 0.011056522103408286, 0.9219910931786577, 0.06572488139248259, 0.4161108839249327, 0.5832105302254962, 0.9971740243151666, 0.9875019802358042, 0.009624775635826551, 0.9965017999599768, 0.5514237391907174, 0.26074629838558977, 0.18706964012211189, 0.9939566525730567, 0.998634286169339, 0.8593034062775897, 0.1358857895380679, 0.0043553137672457665, 0.9979529044394486, 0.42162264770609087, 0.01916466580482231, 0.3087640601888039, 0.014905851181528465, 0.2310406933136912, 0.004258814623293847, 0.9985256134349867, 0.9973262682547992, 0.9952826346338319, 0.9032817123870692, 0.09639498870996335, 0.11220616012306106, 0.8873105020029598, 0.9979295921109596, 0.9975361166943255, 0.9992540003076679, 0.0028743826514883012, 0.15585541488069898, 0.5822221748514637, 0.0022356309511575674, 0.0009581275504961003, 0.0003193758501653668, 0.0057487653029766024, 0.21813370566294552, 0.031618209166371314, 0.9562571702010759, 0.040865691034234014, 0.02507766026531366, 0.9711893884566928, 0.8490564362353227, 0.15016473448524498, 0.9978520020557726, 0.9907424176227335, 0.9941570117960218, 0.9968987125112877, 0.9954227053092424, 0.9983498090158307, 0.3390987914584499, 0.04339390866948501, 0.032209911589720835, 0.15747067888307964, 0.22949562007676094, 0.014315516262098147, 0.0026841592991434025, 0.009841917430192478, 0.1713388352619872, 0.08181271845234482, 0.7257091136791328, 0.11211372528654662, 0.08029766811063474, 0.9958282041208509, 0.9967856310421629, 0.16314962647945472, 0.8362768933450195, 0.04937815014078333, 0.6661718852326733, 0.11088426698281169, 0.14986701709395642, 0.02338965006668684, 0.9943933820974286, 0.9953182116508249, 0.9885944826328156, 0.061988175537277555, 0.15377835854440008, 0.4062013618139871, 0.010132682539747292, 0.022351505602383734, 0.09685652427699619, 0.005960401493968996, 0.011026742763842643, 0.086127801587852, 0.1454337964528435, 0.9962931427193881, 0.9975804748936343, 0.9970612614136227, 0.9946338977712028, 0.3802888283440512, 0.39146283897120254, 0.011174010627151357, 0.03761916911140957, 0.1441447370902525, 0.034639432944169206, 0.2695178559201075, 0.17771701416566044, 0.08670079499031116, 0.4656735006945672, 0.9907129429303051, 0.9979279922647432, 0.9971177734934246, 0.567790339474065, 0.04049771791324794, 0.11470927205884442, 0.001439005205039267, 0.22571824501901644, 0.04954289348778047, 0.3642949240279412, 0.3936023876391856, 0.04926595137517429, 0.05609385508388714, 0.019013085711954255, 0.1177550778071863, 0.30199905625168055, 0.5844512480210518, 0.11239447077327917, 0.9942712721307194, 0.3157459458017824, 0.6820786919990439, 0.0016862266798493052, 0.9969579803582095, 0.7991202467725714, 0.20049955771364636, 0.9988129783646454, 0.04098350253061798, 0.017006759553521746, 0.3169948461041676, 0.05603866672553887, 0.11430772814662157, 0.011430772814662158, 0.06579664351854315, 0.22220307154355462, 0.05938425876885462, 0.0022303946955438358, 0.04600189059559161, 0.047395887280306505, 0.9923770198086157, 0.040706872899441617, 0.958606948082929, 0.02444516214242227, 0.03311925193489469, 0.27047389080163997, 0.48890324284844544, 0.06702705748728688, 0.009462643409969912, 0.06544995025229189, 0.03942768087487463, 0.9958822624272758, 0.7768578040893462, 0.22257214387099675, 0.046086657026393266, 0.9520828902769536, 0.30544693832722686, 0.05926400755592011, 0.11767617106072843, 0.001460304087620208, 0.30629878237833863, 0.0486768029206736, 0.05695185941718811, 0.032491765949549625, 0.00121692007301684, 0.019835797190174493, 0.014237964854297028, 0.006936444416195988, 0.02957115777430921, 0.9966623065615139, 0.22635382851066965, 0.0816466888762826, 0.11682778245711982, 0.14802611072691887, 0.04181903576590085, 0.3856644409521967, 0.998983271757171, 0.9945096735587027, 0.9986330770985009, 0.11094662412279743, 0.5860739748859638, 0.07333759899642542, 0.1291243196005439, 0.0018804512563186005, 0.09778346532856723, 0.3909106678809878, 0.6083473007752759, 0.99609504232651, 0.9991335784278941, 0.9935443735289023, 0.99247783036578, 0.714648827719472, 0.27886429123974105, 0.005671816093011683, 0.716967504051163, 0.16616414256979745, 0.09231341253877635, 0.02410405771845827, 0.9979952403817417, 0.17336106281037014, 0.8217314377211545, 0.9959720270720781, 0.9977230736423425, 0.9991105917977269, 0.14302913551503796, 0.7650709418587408, 0.09040520829724098, 0.582639700046638, 0.06836893933788835, 0.11408189584533276, 0.12210171277646335, 0.04070057092548779, 0.0028069359258957095, 0.046314442777279204, 0.02265598283044394, 0.00020049542327826495, 0.11649277285178194, 0.05610672325106232, 0.11696825355729942, 0.0565822039565798, 0.0461216284351953, 0.5301609866519872, 0.07702787429383132, 0.9976729556537592, 0.997035823966003, 0.8265163993405344, 0.08110674946799637, 0.07338229713771101, 0.018345574284427752, 0.9916386995917419, 0.9938693687564292, 0.989351561236274, 0.9969795207975192, 0.9945660491002082, 0.8094431567682862, 0.18835348861471166, 0.001238004654030012, 0.9495495696410192, 0.048282181507170466, 0.9931515238848554, 0.004455466834189152, 0.010024800376925592, 0.9846581703558026, 0.9952764580093413, 0.003807398432003259, 0.06758132216805786, 0.7367315965926307, 0.19132177120816377, 0.9918738704489469, 0.07375158187648984, 0.11533622174051394, 0.01577770159546797, 0.24094629568272796, 0.14016469789462246, 0.05491618617337302, 0.07534158281246722, 0.04280771750708365, 0.06323311414617784, 0.03265617306968953, 0.04195156315694198, 0.0001223077643059533, 0.0539377240589254, 0.04696618149348606, 0.0019569242288952527, 0.5254409950904565, 0.2329335930616423, 0.24067818822737466, 0.2779541792379089, 0.11056274538511962, 0.2014323809052052, 0.0028133014092905756, 0.0014066507046452878, 0.028133014092905757, 0.2908953657206455, 0.03207163606591256, 0.05457804734023717, 0.9966637168582306, 0.9960132376294749, 0.23557083024330525, 0.6371541747131918, 0.07605042551161824, 0.05100943174559759, 0.029766783963497887, 0.6701778789496096, 0.08249651555597987, 0.21772276270444169, 0.23038374290788574, 0.30058943971117635, 0.33875952729354797, 0.043622957236996114, 0.0858826970603361, 0.9939796972260762, 0.03754296075603027, 0.023464350472518918, 0.2022200386177085, 0.18686155467205975, 0.030290343337251696, 0.5192020822737368, 0.9952098870239756, 0.9972659989523818, 0.9953314849525857, 0.9959910934832978, 0.9967569207147785, 0.9983499751316569, 0.9977493843757189, 0.9980946930381464, 0.9963826702385717, 0.9952193623346164, 0.9978681650630532, 0.08800811372700695, 0.18976749522385875, 0.12009440518997824, 0.6004720259498911, 0.003857471733460592, 0.1074581411464022, 0.2545931344083991, 0.05841314339240325, 0.11186668027035716, 0.26230807787532023, 0.10525387158442473, 0.09588572594602043, 0.9959155660640475, 0.1475656475194721, 0.06166067807087903, 0.023862491513498077, 0.07674177270740981, 0.35679197310982325, 0.026153290698793893, 0.0026725990495117848, 0.000954499660539923, 0.050588482008615925, 0.10098606408512387, 0.1303846536297535, 0.0053451980990235695, 0.012217595654911016, 0.004008898574267677, 0.8123044247885729, 0.1872000000022612, 0.9937339027355278, 0.9915095707824012, 0.13858175434925946, 0.8594733803391572, 0.9917125755176119, 0.7986041288873584, 0.11154879736238013, 0.058261155310287714, 0.030551581443199655, 0.0007105018940278989, 0.9882296842879755, 0.8628180122702661, 0.0014876172625349416, 0.0033471388407036186, 0.10264559111491098, 0.029380440935065096, 0.9971654232841803, 0.17280041644963723, 0.8252431103342488, 0.9964417000629522, 0.9996805922517935, 0.9971756595450615, 0.9937157855038118, 0.019043788748059433, 0.9367730369878758, 0.03173964791343239, 0.011789012082132028, 0.9957812955248317, 0.7163092949243848, 0.08661024180453414, 0.19664784409717997, 0.07363080930535017, 0.12938593080246502, 0.7205604633176753, 0.07618447899224093, 0.00030789304670863024, 0.02401565764327316, 0.0030789304670863025, 0.9655525944782645, 0.007081540074298495, 0.9982946538438597, 0.9929410254956771, 0.23330972334771796, 0.12128632020185337, 0.18496887496177639, 0.05557750233593281, 0.03676220206595556, 0.06701141557691899, 0.07960319344990377, 0.05311703999293579, 0.021709961849973754, 0.09639223061388347, 0.03314387509095993, 0.015486439452981279, 0.0015920638689980754, 0.9879925211123876, 0.9974130456632503, 0.8157270044565377, 0.18243095946312343, 0.9938202817013629, 0.994128559020838, 0.998459918253717, 0.3625408069280714, 0.08860467786429443, 0.019936052519466247, 0.4349012938505785, 0.09377328407304494, 0.937163371391254, 0.060138825971631275, 0.993256359524838, 0.9954009132048798, 0.9941507925446056, 0.02984758858022127, 0.9663156802846637, 0.9967386978183551, 0.99874502936548, 0.01044713975667266, 0.03857405448617597, 0.4050275721048477, 0.05625382945900662, 0.21697905648473984, 0.27162563367348913, 0.9956479986415838, 0.9976178474869086, 0.4282140254331481, 0.08546288322720394, 0.48488941115224127, 0.9960456444420982, 0.07404793441953261, 0.12790097763373814, 0.028682599103218166, 0.03658494783573746, 0.10448661101886618, 0.47677504019533057, 0.010243785394006489, 0.09512086437291739, 0.04595069448168625, 0.9987564116274332, 0.9943595791530861, 0.9923379269291512, 0.9938289629332157, 0.9958957706882986, 0.999244991499036, 0.9948226604442298, 0.9938250250935138, 0.9960229297223578, 0.9993395830300174, 0.9978640005564501, 0.8689229734881158, 0.13059964531384505, 0.9926532077054286, 0.9985072346312366, 0.061654569470547683, 0.23199915316237013, 0.3286124991368366, 0.10932562833952784, 0.18941300723941454, 0.07881615066338055, 0.9918650533787743, 0.5114579930644503, 0.48488874667149184, 0.9951102566076196, 0.9820254713938364, 0.01398896682897203, 0.25208501094772584, 0.7261987430763333, 0.009695577344143301, 0.01066513507855763, 0.9928909517098523, 0.25628058952309785, 0.7424210892370154, 0.99226596172974, 0.1921066048427901, 0.26569129851064244, 0.047745793601278244, 0.07133783279249808, 0.1005470241721036, 0.0005617152188385676, 0.05167780013314822, 0.2696233050425124, 0.9965282533623018, 0.9989679480463554, 0.025322714472396222, 0.6591353620020782, 0.005958285758210877, 0.0901190720929395, 0.2189670016142497, 0.9921715539745808, 0.99548550043568, 0.9951089748098247, 0.8636047631928091, 0.13350411798149706, 0.997222513229812, 0.9969371337485097, 0.9964735715907634, 0.9976641579634198, 0.9985440412572533, 0.9967688039152727, 0.9979145993839205, 0.9931111001102656, 0.9981919799640547, 0.9983299358744596, 0.9976780160434949, 0.05871016916026523, 0.12295903352432908, 0.7610167210019286, 0.05538695203798607, 0.024898398296176346, 0.7244248266173212, 0.24898398296176344, 0.0027664229156317854, 0.10581567652291579, 0.19779923846767264, 0.5774907836381352, 0.015906931764882764, 0.09889961923383632, 0.9950756620503933, 0.06659543145110464, 0.2409793447354405, 0.1270119053448903, 0.40163224122573415, 0.1627125490094, 0.9949378338984217, 0.1412924548455157, 0.058929292142885815, 0.18040634173567674, 0.5811944514560055, 0.004135388922307776, 0.023261562687981244, 0.007753854229327081, 0.0027569259482051844, 0.9971261298345139, 0.9992476416374794, 0.611193102554384, 0.3879654197952762, 0.9943117352364642, 0.9982451633407803, 0.07121240591209216, 0.04669665961448666, 0.2609175855959442, 0.5265048371533371, 0.0939770274741544, 0.9966945659016394, 0.0011907882501651903, 0.1857629670257697, 0.8121175866126599, 0.9980371657380206, 0.993175995014878, 0.21165033498089206, 0.09227003367706305, 0.34815291057531006, 0.1098679266979462, 0.009036755875588649, 0.07800147176823886, 0.08941632129529821, 0.04993996668088464, 0.011890468257353485, 0.9956461762204893, 0.9915693759647358, 0.9978903436682444, 0.9953005935922972, 0.9985778920660286, 0.9961249879891237, 0.9951084994417507, 0.9972489254747302, 0.9954513246730925, 0.992308670215055, 0.9956538035006802, 0.002458404453088099, 0.9917759037893026, 0.9983423673499382, 0.3033584367942957, 0.09048215080779184, 0.19192593852348105, 0.04689505020360825, 0.16520289470067803, 0.03645230735052259, 0.009599540014016627, 0.024193435305595958, 0.027695970175574996, 0.022571891384309366, 0.03346866653535527, 0.014464171777876404, 0.029966131665376226, 0.0005837558116631732, 0.0031133643288702574, 0.974411368741242, 0.021000245015975045, 0.3894769296671454, 0.08441864485396255, 0.5237793192075404, 0.2836595916689828, 0.05001808184458987, 0.3541548748056531, 0.006042452840286024, 0.12185613227910148, 0.05505345921149489, 0.02349842771222343, 0.04330424535538317, 0.03759748433955749, 0.024841195010064765, 0.1380293212320281, 0.012548120112002556, 0.847894401853887], \"Term\": [\"afp\", \"apple\", \"com\", \"daily\", \"facebook\", \"google\", \"iphone\", \"media\", \"microsoft\", \"news\", \"open\", \"playstation\", \"post\", \"the\", \"twitter\", \"windows\", \"xbox\", \"\\u0430\\u0432\\u0430\\u0440\\u0438\\u044f\", \"\\u0430\\u0432\\u0433\\u0443\\u0441\\u0442\", \"\\u0430\\u0432\\u0433\\u0443\\u0441\\u0442\", \"\\u0430\\u0432\\u0433\\u0443\\u0441\\u0442\", \"\\u0430\\u0432\\u0433\\u0443\\u0441\\u0442\", \"\\u0430\\u0432\\u0433\\u0443\\u0441\\u0442\", \"\\u0430\\u0432\\u0441\\u0442\\u0440\\u0430\\u043b\\u0438\\u0439\\u0441\\u043a\\u0438\\u0439\", \"\\u0430\\u0432\\u0441\\u0442\\u0440\\u0430\\u043b\\u0438\\u0439\\u0441\\u043a\\u0438\\u0439\", \"\\u0430\\u0432\\u0442\\u043e\\u043c\\u043e\\u0431\\u0438\\u043b\\u044c\", \"\\u0430\\u0432\\u0442\\u043e\\u043c\\u043e\\u0431\\u0438\\u043b\\u044c\\u043d\\u044b\\u0439\", \"\\u0430\\u0432\\u0442\\u043e\\u0440\", \"\\u0430\\u0432\\u0442\\u043e\\u0440\", \"\\u0430\\u0433\\u0435\\u043d\\u0442\\u0441\\u0442\\u0432\\u043e\", \"\\u0430\\u0433\\u0435\\u043d\\u0442\\u0441\\u0442\\u0432\\u043e\", \"\\u0430\\u0433\\u0435\\u043d\\u0442\\u0441\\u0442\\u0432\\u043e\", \"\\u0430\\u0433\\u0435\\u043d\\u0442\\u0441\\u0442\\u0432\\u043e\", \"\\u0430\\u0433\\u0435\\u043d\\u0442\\u0441\\u0442\\u0432\\u043e\", \"\\u0430\\u0433\\u0435\\u043d\\u0442\\u0441\\u0442\\u0432\\u043e\", \"\\u0430\\u0433\\u0435\\u043d\\u0442\\u0441\\u0442\\u0432\\u043e\", \"\\u0430\\u0433\\u0435\\u043d\\u0442\\u0441\\u0442\\u0432\\u043e\", \"\\u0430\\u0434\\u0432\\u043e\\u043a\\u0430\\u0442\", \"\\u0430\\u043a\\u043a\\u0430\\u0443\\u043d\\u0442\", \"\\u0430\\u043a\\u0442\\u0438\\u0432\\u043d\\u043e\", \"\\u0430\\u043a\\u0442\\u0438\\u0432\\u043d\\u044b\\u0439\", \"\\u0430\\u043a\\u0446\\u0438\\u044f\", \"\\u0430\\u043a\\u0446\\u0438\\u044f\", \"\\u0430\\u043a\\u0446\\u0438\\u044f\", \"\\u0430\\u043b\\u0435\\u043a\\u0441\\u0430\\u043d\\u0434\\u0440\", \"\\u0430\\u043b\\u0435\\u043a\\u0441\\u0430\\u043d\\u0434\\u0440\", \"\\u0430\\u043b\\u0435\\u043a\\u0441\\u0430\\u043d\\u0434\\u0440\", \"\\u0430\\u043b\\u0435\\u043a\\u0441\\u0430\\u043d\\u0434\\u0440\", \"\\u0430\\u043b\\u044c\", \"\\u0430\\u043c\\u0435\\u0440\\u0438\\u043a\\u0430\\u043d\\u0435\\u0446\", \"\\u0430\\u043c\\u0435\\u0440\\u0438\\u043a\\u0430\\u043d\\u0441\\u043a\\u0438\\u0439\", \"\\u0430\\u043c\\u0435\\u0440\\u0438\\u043a\\u0430\\u043d\\u0441\\u043a\\u0438\\u0439\", \"\\u0430\\u043c\\u0435\\u0440\\u0438\\u043a\\u0430\\u043d\\u0441\\u043a\\u0438\\u0439\", \"\\u0430\\u043d\\u0430\\u043b\\u0438\\u0442\\u0438\\u043a\", \"\\u0430\\u043d\\u0430\\u0442\\u043e\\u043b\\u0438\\u0439\", \"\\u0430\\u043d\\u0433\\u043b\\u0438\\u044f\", \"\\u0430\\u043f\\u043f\\u0430\\u0440\\u0430\\u0442\", \"\\u0430\\u043f\\u043f\\u0430\\u0440\\u0430\\u0442\", \"\\u0430\\u043f\\u043f\\u0430\\u0440\\u0430\\u0442\", \"\\u0430\\u0440\\u0435\\u0441\\u0442\", \"\\u0430\\u0440\\u0435\\u0441\\u0442\\u043e\\u0432\\u0430\\u0442\\u044c\", \"\\u0430\\u0441\\u0441\\u043e\\u0446\\u0438\\u0430\\u0446\\u0438\\u044f\", \"\\u0430\\u044d\\u0440\\u043e\\u043f\\u043e\\u0440\\u0442\", \"\\u0431\\u0430\\u0437\\u0430\", \"\\u0431\\u0430\\u0437\\u0430\", \"\\u0431\\u0430\\u0440\", \"\\u0431\\u0435\\u0437\\u043e\\u043f\\u0430\\u0441\\u043d\\u043e\\u0441\\u0442\\u044c\", \"\\u0431\\u0435\\u0437\\u043e\\u043f\\u0430\\u0441\\u043d\\u043e\\u0441\\u0442\\u044c\", \"\\u0431\\u0435\\u0437\\u043e\\u043f\\u0430\\u0441\\u043d\\u043e\\u0441\\u0442\\u044c\", \"\\u0431\\u0435\\u0437\\u043e\\u043f\\u0430\\u0441\\u043d\\u043e\\u0441\\u0442\\u044c\", \"\\u0431\\u0435\\u0437\\u043e\\u043f\\u0430\\u0441\\u043d\\u043e\\u0441\\u0442\\u044c\", \"\\u0431\\u0435\\u0437\\u043e\\u043f\\u0430\\u0441\\u043d\\u043e\\u0441\\u0442\\u044c\", \"\\u0431\\u0435\\u0437\\u043e\\u043f\\u0430\\u0441\\u043d\\u043e\\u0441\\u0442\\u044c\", \"\\u0431\\u0435\\u0440\\u0435\\u0433\", \"\\u0431\\u0438\\u043b\\u0435\\u0442\", \"\\u0431\\u0438\\u0442\\u044c\", \"\\u0431\\u043b\\u043e\\u0433\", \"\\u0431\\u043e\\u0435\\u0432\\u0438\\u043a\", \"\\u0431\\u043e\\u0435\\u0432\\u0438\\u043a\", \"\\u0431\\u043e\\u0435\\u0432\\u043e\\u0439\", \"\\u0431\\u043e\\u0435\\u0432\\u043e\\u0439\", \"\\u0431\\u043e\\u0439\", \"\\u0431\\u043e\\u043a\\u0441\\u0451\\u0440\", \"\\u0431\\u043e\\u043b\\u044c\\u043d\\u0438\\u0446\\u0430\", \"\\u0431\\u043e\\u043b\\u044c\\u0448\\u043e\\u0439\", \"\\u0431\\u043e\\u043b\\u044c\\u0448\\u043e\\u0439\", \"\\u0431\\u043e\\u043b\\u044c\\u0448\\u043e\\u0439\", \"\\u0431\\u043e\\u043b\\u044c\\u0448\\u043e\\u0439\", \"\\u0431\\u043e\\u043b\\u044c\\u0448\\u043e\\u0439\", \"\\u0431\\u043e\\u043b\\u044c\\u0448\\u043e\\u0439\", \"\\u0431\\u043e\\u043b\\u044c\\u0448\\u043e\\u0439\", \"\\u0431\\u043e\\u0440\\u0438\\u0441\", \"\\u0431\\u0440\\u0430\\u0442\", \"\\u0431\\u0440\\u0438\\u0442\\u0430\\u043d\\u0441\\u043a\\u0438\\u0439\", \"\\u0432\\u0430\\u0448\\u0438\\u043d\\u0433\\u0442\\u043e\\u043d\", \"\\u0432\\u0432\\u0441\", \"\\u0432\\u0435\\u0434\\u043e\\u043c\\u043e\\u0441\\u0442\\u044c\", \"\\u0432\\u0435\\u043b\\u0438\\u043a\\u043e\\u0431\\u0440\\u0438\\u0442\\u0430\\u043d\\u0438\\u044f\", \"\\u0432\\u0435\\u0440\\u043d\\u0443\\u0442\\u044c\\u0441\\u044f\", \"\\u0432\\u0435\\u0440\\u043d\\u0443\\u0442\\u044c\\u0441\\u044f\", \"\\u0432\\u0435\\u0440\\u0441\\u0438\\u044f\", \"\\u0432\\u0435\\u0440\\u0441\\u0438\\u044f\", \"\\u0432\\u0435\\u0440\\u0441\\u0438\\u044f\", \"\\u0432\\u0435\\u0440\\u0441\\u0438\\u044f\", \"\\u0432\\u0435\\u0440\\u0441\\u0438\\u044f\", \"\\u0432\\u0435\\u0440\\u0441\\u0438\\u044f\", \"\\u0432\\u0435\\u0440\\u0442\\u043e\\u043b\\u0451\\u0442\", \"\\u0432\\u0435\\u0441\", \"\\u0432\\u0435\\u0441\\u044c\", \"\\u0432\\u0435\\u0441\\u044c\", \"\\u0432\\u0435\\u0441\\u044c\", \"\\u0432\\u0435\\u0441\\u044c\", \"\\u0432\\u0435\\u0441\\u044c\", \"\\u0432\\u0435\\u0441\\u044c\", \"\\u0432\\u0435\\u0441\\u044c\", \"\\u0432\\u0435\\u0441\\u044c\", \"\\u0432\\u0435\\u0441\\u044c\", \"\\u0432\\u0435\\u0441\\u044c\", \"\\u0432\\u0435\\u0441\\u044c\", \"\\u0432\\u0435\\u0441\\u044c\", \"\\u0432\\u0435\\u0447\\u0435\\u0440\\u043e\\u043c\", \"\\u0432\\u0437\\u0440\\u044b\\u0432\", \"\\u0432\\u0437\\u0440\\u044b\\u0432\\u043d\\u043e\\u0439\", \"\\u0432\\u0437\\u044f\\u0442\\u043a\\u0430\", \"\\u0432\\u0438\\u0434\", \"\\u0432\\u0438\\u0434\", \"\\u0432\\u0438\\u0434\", \"\\u0432\\u0438\\u043d\\u043e\\u0432\\u043d\\u044b\\u0439\", \"\\u0432\\u0438\\u0446\\u0430\", \"\\u0432\\u0438\\u0446\\u0430\", \"\\u0432\\u043a\\u043e\\u043d\\u0442\\u0430\\u043a\\u0442\\u0435\", \"\\u0432\\u043b\\u0430\\u0434\\u0438\\u043c\\u0438\\u0440\", \"\\u0432\\u043b\\u0430\\u0434\\u0438\\u043c\\u0438\\u0440\", \"\\u0432\\u043b\\u0430\\u0434\\u0438\\u043c\\u0438\\u0440\", \"\\u0432\\u043b\\u0430\\u0434\\u0438\\u043c\\u0438\\u0440\", \"\\u0432\\u043b\\u0430\\u0441\\u0442\\u044c\", \"\\u0432\\u043b\\u0430\\u0441\\u0442\\u044c\", \"\\u0432\\u043b\\u0430\\u0441\\u0442\\u044c\", \"\\u0432\\u043b\\u0430\\u0441\\u0442\\u044c\", \"\\u0432\\u043e\\u0434\\u0430\", \"\\u0432\\u043e\\u0434\\u0438\\u0442\\u0435\\u043b\\u044c\", \"\\u0432\\u043e\\u0435\\u043d\\u043d\\u044b\\u0439\", \"\\u0432\\u043e\\u0435\\u043d\\u043d\\u044b\\u0439\", \"\\u0432\\u043e\\u0435\\u043d\\u043d\\u044b\\u0439\", \"\\u0432\\u043e\\u0437\\u0431\\u0443\\u0434\\u0438\\u0442\\u044c\", \"\\u0432\\u043e\\u0437\\u0431\\u0443\\u0436\\u0434\\u0435\\u043d\\u0438\\u0435\", \"\\u0432\\u043e\\u0437\\u0431\\u0443\\u0436\\u0434\\u0435\\u043d\\u0438\\u0435\", \"\\u0432\\u043e\\u0437\\u0433\\u043b\\u0430\\u0432\\u043b\\u044f\\u0442\\u044c\", \"\\u0432\\u043e\\u0437\\u0433\\u043e\\u0440\\u0430\\u043d\\u0438\\u0435\", \"\\u0432\\u043e\\u0437\\u0434\\u0443\\u0448\\u043d\\u044b\\u0439\", \"\\u0432\\u043e\\u0437\\u043c\\u043e\\u0436\\u043d\\u043e\\u0441\\u0442\\u044c\", \"\\u0432\\u043e\\u0437\\u043c\\u043e\\u0436\\u043d\\u043e\\u0441\\u0442\\u044c\", \"\\u0432\\u043e\\u0437\\u043c\\u043e\\u0436\\u043d\\u043e\\u0441\\u0442\\u044c\", \"\\u0432\\u043e\\u0437\\u0440\\u0430\\u0441\\u0442\", \"\\u0432\\u043e\\u0439\\u043d\\u0430\", \"\\u0432\\u043e\\u0439\\u043d\\u0430\", \"\\u0432\\u043e\\u043e\\u0440\\u0443\\u0436\\u0435\\u043d\\u0438\\u0435\", \"\\u0432\\u043e\\u043f\\u0440\\u043e\\u0441\", \"\\u0432\\u043e\\u043f\\u0440\\u043e\\u0441\", \"\\u0432\\u043e\\u043f\\u0440\\u043e\\u0441\", \"\\u0432\\u043e\\u0440\\u043e\\u0442\\u0430\", \"\\u0432\\u0440\\u0435\\u043c\\u044f\", \"\\u0432\\u0440\\u0435\\u043c\\u044f\", \"\\u0432\\u0440\\u0435\\u043c\\u044f\", \"\\u0432\\u0440\\u0435\\u043c\\u044f\", \"\\u0432\\u0440\\u0435\\u043c\\u044f\", \"\\u0432\\u0440\\u0435\\u043c\\u044f\", \"\\u0432\\u0440\\u0435\\u043c\\u044f\", \"\\u0432\\u0440\\u0435\\u043c\\u044f\", \"\\u0432\\u0440\\u0435\\u043c\\u044f\", \"\\u0432\\u0440\\u0435\\u043c\\u044f\", \"\\u0432\\u0440\\u0435\\u043c\\u044f\", \"\\u0432\\u0440\\u0435\\u043c\\u044f\", \"\\u0432\\u0440\\u0435\\u043c\\u044f\", \"\\u0432\\u0440\\u0435\\u043c\\u044f\", \"\\u0432\\u0441\\u0442\\u0440\\u0435\\u0447\\u0430\", \"\\u0432\\u0441\\u0442\\u0440\\u0435\\u0447\\u0430\", \"\\u0432\\u0441\\u0442\\u0440\\u0435\\u0447\\u0430\", \"\\u0432\\u0441\\u0451\", \"\\u0432\\u0441\\u0451\", \"\\u0432\\u0441\\u0451\", \"\\u0432\\u0441\\u0451\", \"\\u0432\\u0441\\u0451\", \"\\u0432\\u0441\\u0451\", \"\\u0432\\u0441\\u0451\", \"\\u0432\\u0441\\u0451\", \"\\u0432\\u0441\\u0451\", \"\\u0432\\u0441\\u0451\", \"\\u0432\\u0441\\u0451\", \"\\u0432\\u0441\\u0451\", \"\\u0432\\u0442\\u043e\\u0440\\u043e\\u0439\", \"\\u0432\\u0442\\u043e\\u0440\\u043e\\u0439\", \"\\u0432\\u0442\\u043e\\u0440\\u043e\\u0439\", \"\\u0432\\u0442\\u043e\\u0440\\u043e\\u0439\", \"\\u0432\\u0442\\u043e\\u0440\\u043e\\u0439\", \"\\u0432\\u0442\\u043e\\u0440\\u043e\\u0439\", \"\\u0432\\u0442\\u043e\\u0440\\u043e\\u0439\", \"\\u0432\\u044b\\u0431\\u043e\\u0440\\u044b\", \"\\u0432\\u044b\\u0432\\u043e\\u0434\", \"\\u0432\\u044b\\u0437\\u043e\\u0432\", \"\\u0432\\u044b\\u0438\\u0433\\u0440\\u0430\\u0442\\u044c\", \"\\u0432\\u044b\\u0438\\u0433\\u0440\\u0430\\u0442\\u044c\", \"\\u0432\\u044b\\u0439\\u0442\\u0438\", \"\\u0432\\u044b\\u0439\\u0442\\u0438\", \"\\u0432\\u044b\\u0439\\u0442\\u0438\", \"\\u0432\\u044b\\u0439\\u0442\\u0438\", \"\\u0432\\u044b\\u0439\\u0442\\u0438\", \"\\u0432\\u044b\\u0439\\u0442\\u0438\", \"\\u0432\\u044b\\u043f\\u0443\\u0441\\u043a\", \"\\u0432\\u044b\\u043f\\u0443\\u0441\\u0442\\u0438\\u0442\\u044c\", \"\\u0432\\u044b\\u043f\\u0443\\u0441\\u0442\\u0438\\u0442\\u044c\", \"\\u0432\\u044b\\u0441\\u043e\\u043a\\u0438\\u0439\", \"\\u0432\\u044b\\u0441\\u043e\\u043a\\u0438\\u0439\", \"\\u0432\\u044b\\u0441\\u043e\\u043a\\u0438\\u0439\", \"\\u0432\\u044b\\u0441\\u043e\\u043a\\u0438\\u0439\", \"\\u0432\\u044b\\u0441\\u043e\\u0442\\u0430\", \"\\u0432\\u044b\\u0441\\u0442\\u0443\\u043f\\u0430\\u0442\\u044c\", \"\\u0432\\u044b\\u0441\\u0442\\u0443\\u043f\\u0430\\u0442\\u044c\", \"\\u0432\\u044b\\u0441\\u0442\\u0443\\u043f\\u0430\\u0442\\u044c\", \"\\u0432\\u044b\\u0441\\u0442\\u0443\\u043f\\u0430\\u0442\\u044c\", \"\\u0432\\u044b\\u044f\\u0432\\u0438\\u0442\\u044c\", \"\\u0432\\u044b\\u044f\\u0441\\u043d\\u0438\\u0442\\u044c\", \"\\u0432\\u044b\\u044f\\u0441\\u043d\\u0438\\u0442\\u044c\", \"\\u0432\\u044f\\u0447\\u0435\\u0441\\u043b\\u0430\\u0432\", \"\\u0433\\u0430\\u0437\\u0435\\u0442\\u0430\", \"\\u0433\\u0430\\u0437\\u0435\\u0442\\u0430\", \"\\u0433\\u0435\\u0440\\u043e\\u0439\", \"\\u0433\\u043b\\u0430\\u0432\\u0430\", \"\\u0433\\u043b\\u0430\\u0432\\u0430\", \"\\u0433\\u043b\\u0430\\u0432\\u0430\", \"\\u0433\\u043b\\u0430\\u0432\\u043d\\u044b\\u0439\", \"\\u0433\\u043b\\u0430\\u0432\\u043d\\u044b\\u0439\", \"\\u0433\\u043b\\u0430\\u0432\\u043d\\u044b\\u0439\", \"\\u0433\\u043b\\u0430\\u0432\\u043d\\u044b\\u0439\", \"\\u0433\\u043b\\u0430\\u0432\\u043d\\u044b\\u0439\", \"\\u0433\\u043b\\u0430\\u0432\\u043d\\u044b\\u0439\", \"\\u0433\\u043b\\u0430\\u0432\\u043d\\u044b\\u0439\", \"\\u0433\\u043e\\u0432\\u043e\\u0440\\u0438\\u0442\\u044c\", \"\\u0433\\u043e\\u0434\", \"\\u0433\\u043e\\u0434\", \"\\u0433\\u043e\\u0434\", \"\\u0433\\u043e\\u0434\", \"\\u0433\\u043e\\u0434\", \"\\u0433\\u043e\\u0434\", \"\\u0433\\u043e\\u0434\", \"\\u0433\\u043e\\u0434\", \"\\u0433\\u043e\\u0434\", \"\\u0433\\u043e\\u0434\", \"\\u0433\\u043e\\u0434\", \"\\u0433\\u043e\\u043b\", \"\\u0433\\u043e\\u043b\\u043e\\u0441\", \"\\u0433\\u043e\\u043b\\u043e\\u0441\\u043e\\u0432\\u0430\\u043d\\u0438\\u0435\", \"\\u0433\\u043e\\u0440\\u043e\\u0434\", \"\\u0433\\u043e\\u0440\\u043e\\u0434\", \"\\u0433\\u043e\\u0440\\u043e\\u0434\", \"\\u0433\\u043e\\u0440\\u043e\\u0434\", \"\\u0433\\u043e\\u0440\\u043e\\u0434\", \"\\u0433\\u043e\\u0440\\u043e\\u0434\", \"\\u0433\\u043e\\u0441\\u0434\\u0443\\u043c\\u0430\", \"\\u0433\\u043e\\u0441\\u043f\\u0438\\u0442\\u0430\\u043b\\u0438\\u0437\\u0438\\u0440\\u043e\\u0432\\u0430\\u0442\\u044c\", \"\\u0433\\u043e\\u0441\\u0441\\u0435\\u043a\\u0440\\u0435\\u0442\\u0430\\u0440\\u044c\", \"\\u0433\\u043e\\u0441\\u0443\\u0434\\u0430\\u0440\\u0441\\u0442\\u0432\\u0435\\u043d\\u043d\\u044b\\u0439\", \"\\u0433\\u043e\\u0441\\u0443\\u0434\\u0430\\u0440\\u0441\\u0442\\u0432\\u0435\\u043d\\u043d\\u044b\\u0439\", \"\\u0433\\u043e\\u0441\\u0443\\u0434\\u0430\\u0440\\u0441\\u0442\\u0432\\u0435\\u043d\\u043d\\u044b\\u0439\", \"\\u0433\\u043e\\u0441\\u0443\\u0434\\u0430\\u0440\\u0441\\u0442\\u0432\\u0435\\u043d\\u043d\\u044b\\u0439\", \"\\u0433\\u043e\\u0441\\u0443\\u0434\\u0430\\u0440\\u0441\\u0442\\u0432\\u0435\\u043d\\u043d\\u044b\\u0439\", \"\\u0433\\u043e\\u0441\\u0443\\u0434\\u0430\\u0440\\u0441\\u0442\\u0432\\u043e\", \"\\u0433\\u043e\\u0441\\u0443\\u0434\\u0430\\u0440\\u0441\\u0442\\u0432\\u043e\", \"\\u0433\\u0440\\u0443\\u043f\\u043f\\u0430\", \"\\u0433\\u0440\\u0443\\u043f\\u043f\\u0430\", \"\\u0433\\u0440\\u0443\\u043f\\u043f\\u0430\", \"\\u0433\\u0440\\u0443\\u043f\\u043f\\u0430\", \"\\u0433\\u0440\\u0443\\u043f\\u043f\\u0430\", \"\\u0433\\u0440\\u0443\\u043f\\u043f\\u0430\", \"\\u0433\\u0440\\u0443\\u043f\\u043f\\u0430\", \"\\u0433\\u0440\\u0443\\u043f\\u043f\\u0430\", \"\\u0433\\u0440\\u0443\\u043f\\u043f\\u043e\\u0432\\u043e\\u0439\", \"\\u0433\\u0443\\u0431\\u0435\\u0440\\u043d\\u0430\\u0442\\u043e\\u0440\", \"\\u0434\\u0430\\u043d\\u043d\\u044b\\u0435\", \"\\u0434\\u0430\\u043d\\u043d\\u044b\\u0435\", \"\\u0434\\u0430\\u043d\\u043d\\u044b\\u0435\", \"\\u0434\\u0430\\u043d\\u043d\\u044b\\u0435\", \"\\u0434\\u0430\\u043d\\u043d\\u044b\\u0435\", \"\\u0434\\u0430\\u043d\\u043d\\u044b\\u0435\", \"\\u0434\\u0430\\u043d\\u043d\\u044b\\u0435\", \"\\u0434\\u0430\\u043d\\u043d\\u044b\\u0435\", \"\\u0434\\u0430\\u043d\\u043d\\u044b\\u0435\", \"\\u0434\\u0430\\u0442\\u044c\", \"\\u0434\\u0430\\u0442\\u044c\", \"\\u0434\\u0430\\u0442\\u044c\", \"\\u0434\\u0430\\u0442\\u044c\", \"\\u0434\\u0430\\u0442\\u044c\", \"\\u0434\\u0430\\u0442\\u044c\", \"\\u0434\\u0430\\u0442\\u044c\", \"\\u0434\\u0432\\u0438\\u0433\\u0430\\u0442\\u0435\\u043b\\u044c\", \"\\u0434\\u0432\\u0438\\u0436\\u0435\\u043d\\u0438\\u0435\", \"\\u0434\\u0432\\u043e\\u0435\", \"\\u0434\\u0432\\u043e\\u0435\", \"\\u0434\\u0435\\u0432\\u0443\\u0448\\u043a\\u0430\", \"\\u0434\\u0435\\u043b\\u043e\", \"\\u0434\\u0435\\u043b\\u043e\", \"\\u0434\\u0435\\u043b\\u043e\", \"\\u0434\\u0435\\u043b\\u043e\", \"\\u0434\\u0435\\u043c\\u0435\\u043d\\u0442\\u044c\\u0435\\u0432\", \"\\u0434\\u0435\\u043d\\u0438\\u0441\", \"\\u0434\\u0435\\u043d\\u044c\", \"\\u0434\\u0435\\u043d\\u044c\", \"\\u0434\\u0435\\u043d\\u044c\", \"\\u0434\\u0435\\u043d\\u044c\", \"\\u0434\\u0435\\u043d\\u044c\", \"\\u0434\\u0435\\u043d\\u044c\", \"\\u0434\\u0435\\u043d\\u044c\", \"\\u0434\\u0435\\u043d\\u044c\", \"\\u0434\\u0435\\u043d\\u044c\", \"\\u0434\\u0435\\u043d\\u044c\", \"\\u0434\\u0435\\u043d\\u044c\\u0433\\u0430\", \"\\u0434\\u0435\\u043d\\u044c\\u0433\\u0430\", \"\\u0434\\u0435\\u043d\\u044c\\u0433\\u0430\", \"\\u0434\\u0435\\u043d\\u044c\\u0433\\u0430\", \"\\u0434\\u0435\\u043f\\u0443\\u0442\\u0430\\u0442\", \"\\u0434\\u0438\\u043d\\u0430\\u043c\\u043e\", \"\\u0434\\u043c\\u0438\\u0442\\u0440\\u0438\\u0439\", \"\\u0434\\u043c\\u0438\\u0442\\u0440\\u0438\\u0439\", \"\\u0434\\u043c\\u0438\\u0442\\u0440\\u0438\\u0439\", \"\\u0434\\u043e\\u043b\\u0436\\u043d\\u043e\\u0441\\u0442\\u044c\", \"\\u0434\\u043e\\u043b\\u043b\\u0430\\u0440\", \"\\u0434\\u043e\\u043b\\u043b\\u0430\\u0440\", \"\\u0434\\u043e\\u043b\\u043b\\u0430\\u0440\", \"\\u0434\\u043e\\u043c\", \"\\u0434\\u043e\\u043c\", \"\\u0434\\u043e\\u0440\\u043e\\u0433\\u0430\", \"\\u0434\\u043e\\u0440\\u043e\\u0433\\u0430\", \"\\u0434\\u043e\\u0440\\u043e\\u0433\\u0430\", \"\\u0434\\u043e\\u0441\\u0442\\u0430\\u0432\\u0438\\u0442\\u044c\", \"\\u0434\\u043e\\u0441\\u0442\\u0430\\u0442\\u043e\\u0447\\u043d\\u043e\", \"\\u0434\\u043e\\u0441\\u0442\\u0443\\u043f\", \"\\u0434\\u043e\\u0441\\u0442\\u0443\\u043f\", \"\\u0434\\u043e\\u0441\\u0442\\u0443\\u043f\", \"\\u0434\\u0440\\u0443\\u0433\", \"\\u0435\\u0432\\u0440\\u043e\", \"\\u0435\\u0433\\u0438\\u043f\\u0435\\u0442\", \"\\u0435\\u0434\\u0438\\u043d\\u044b\\u0439\", \"\\u0435\\u043b\\u0435\\u043d\\u0430\", \"\\u0435\\u043b\\u0435\\u043d\\u0430\", \"\\u0435\\u0449\\u0451\", \"\\u0435\\u0449\\u0451\", \"\\u0435\\u0449\\u0451\", \"\\u0435\\u0449\\u0451\", \"\\u0435\\u0449\\u0451\", \"\\u0435\\u0449\\u0451\", \"\\u0435\\u0449\\u0451\", \"\\u0435\\u0449\\u0451\", \"\\u0435\\u0449\\u0451\", \"\\u0435\\u0449\\u0451\", \"\\u0435\\u0449\\u0451\", \"\\u0435\\u0449\\u0451\", \"\\u0435\\u0449\\u0451\", \"\\u0436\\u0430\\u043b\\u043e\\u0431\\u0430\", \"\\u0436\\u0435\\u043d\\u0441\\u043a\\u0438\\u0439\", \"\\u0436\\u0435\\u043d\\u0449\\u0438\\u043d\\u0430\", \"\\u0436\\u0438\\u0432\\u043e\\u0442\\u043d\\u043e\\u0435\", \"\\u0436\\u0438\\u0442\\u0435\\u043b\\u044c\", \"\\u0436\\u0438\\u0442\\u0435\\u043b\\u044c\", \"\\u0436\\u0438\\u0442\\u0435\\u043b\\u044c\", \"\\u0436\\u0438\\u0442\\u0435\\u043b\\u044c\", \"\\u0436\\u0443\\u0440\\u043d\\u0430\\u043b\", \"\\u0436\\u0443\\u0440\\u043d\\u0430\\u043b\", \"\\u0436\\u0443\\u0440\\u043d\\u0430\\u043b\", \"\\u0436\\u0443\\u0440\\u043d\\u0430\\u043b\\u0438\\u0441\\u0442\", \"\\u0436\\u0443\\u0440\\u043d\\u0430\\u043b\\u0438\\u0441\\u0442\", \"\\u0436\\u0443\\u0440\\u043d\\u0430\\u043b\\u0438\\u0441\\u0442\", \"\\u0437\\u0430\\u0431\\u0438\\u0442\\u044c\", \"\\u0437\\u0430\\u0432\\u0435\\u0434\\u0435\\u043d\\u0438\\u0435\", \"\\u0437\\u0430\\u0432\\u0435\\u0440\\u0448\\u0438\\u0442\\u044c\", \"\\u0437\\u0430\\u0432\\u0435\\u0440\\u0448\\u0438\\u0442\\u044c\", \"\\u0437\\u0430\\u0432\\u0435\\u0440\\u0448\\u0438\\u0442\\u044c\\u0441\\u044f\", \"\\u0437\\u0430\\u0432\\u0435\\u0440\\u0448\\u0438\\u0442\\u044c\\u0441\\u044f\", \"\\u0437\\u0430\\u0432\\u0435\\u0440\\u0448\\u0438\\u0442\\u044c\\u0441\\u044f\", \"\\u0437\\u0430\\u0432\\u043e\\u0434\", \"\\u0437\\u0430\\u0432\\u043e\\u0435\\u0432\\u0430\\u0442\\u044c\", \"\\u0437\\u0430\\u0434\\u0435\\u0440\\u0436\\u0430\\u043d\\u0438\\u0435\", \"\\u0437\\u0430\\u0434\\u0435\\u0440\\u0436\\u0430\\u0442\\u044c\", \"\\u0437\\u0430\\u0434\\u0435\\u0440\\u0436\\u0430\\u0442\\u044c\", \"\\u0437\\u0430\\u043a\\u043b\\u044e\\u0447\\u0435\\u043d\\u0438\\u0435\", \"\\u0437\\u0430\\u043a\\u043e\\u043d\", \"\\u0437\\u0430\\u043a\\u043e\\u043d\", \"\\u0437\\u0430\\u043a\\u043e\\u043d\\u043e\\u043f\\u0440\\u043e\\u0435\\u043a\\u0442\", \"\\u0437\\u0430\\u043a\\u0440\\u044b\\u0442\\u0438\\u0435\", \"\\u0437\\u0430\\u043a\\u0443\\u043f\\u043a\\u0430\", \"\\u0437\\u0430\\u043f\\u0440\\u043e\\u0441\", \"\\u0437\\u0430\\u0441\\u0435\\u0434\\u0430\\u043d\\u0438\\u0435\", \"\\u0437\\u0430\\u0444\\u0438\\u043a\\u0441\\u0438\\u0440\\u043e\\u0432\\u0430\\u0442\\u044c\", \"\\u0437\\u0430\\u0449\\u0438\\u0442\\u043d\\u0438\\u043a\", \"\\u0437\\u0430\\u044f\\u0432\\u0438\\u0442\\u044c\", \"\\u0437\\u0430\\u044f\\u0432\\u0438\\u0442\\u044c\", \"\\u0437\\u0430\\u044f\\u0432\\u0438\\u0442\\u044c\", \"\\u0437\\u0430\\u044f\\u0432\\u0438\\u0442\\u044c\", \"\\u0437\\u0430\\u044f\\u0432\\u0438\\u0442\\u044c\", \"\\u0437\\u0430\\u044f\\u0432\\u0438\\u0442\\u044c\", \"\\u0437\\u0430\\u044f\\u0432\\u043a\\u0430\", \"\\u0437\\u0430\\u044f\\u0432\\u043a\\u0430\", \"\\u0437\\u0430\\u044f\\u0432\\u043a\\u0430\", \"\\u0437\\u0430\\u044f\\u0432\\u043b\\u0435\\u043d\\u0438\\u0435\", \"\\u0437\\u0430\\u044f\\u0432\\u043b\\u0435\\u043d\\u0438\\u0435\", \"\\u0437\\u0430\\u044f\\u0432\\u043b\\u0435\\u043d\\u0438\\u0435\", \"\\u0437\\u0432\\u0435\\u0437\\u0434\\u0430\", \"\\u0437\\u0434\\u0430\\u043d\\u0438\\u0435\", \"\\u0437\\u0435\\u043c\\u043b\\u044f\", \"\\u0437\\u0435\\u043c\\u043b\\u044f\", \"\\u0437\\u0435\\u043d\\u0438\\u0442\", \"\\u0437\\u043d\\u0430\\u0447\\u0438\\u0442\\u0435\\u043b\\u044c\\u043d\\u044b\\u0439\", \"\\u0437\\u043e\\u043b\\u043e\\u0442\\u043e\\u0439\", \"\\u0437\\u043e\\u043d\\u0430\", \"\\u0437\\u043e\\u043d\\u0430\", \"\\u0438\\u0433\\u0440\\u0430\", \"\\u0438\\u0433\\u0440\\u0430\", \"\\u0438\\u0433\\u0440\\u0430\", \"\\u0438\\u0433\\u0440\\u043e\\u0432\\u043e\\u0439\", \"\\u0438\\u0433\\u0440\\u043e\\u043a\", \"\\u0438\\u0433\\u0440\\u043e\\u043a\", \"\\u0438\\u0437\\u0431\\u0438\\u0440\\u0430\\u0442\\u0435\\u043b\\u044c\\u043d\\u044b\\u0439\", \"\\u0438\\u0437\\u0432\\u0438\\u043d\\u0435\\u043d\\u0438\\u0435\", \"\\u0438\\u0437\\u0434\\u0430\\u043d\\u0438\\u0435\", \"\\u0438\\u0437\\u0434\\u0430\\u043d\\u0438\\u0435\", \"\\u0438\\u0437\\u0434\\u0430\\u043d\\u0438\\u0435\", \"\\u0438\\u0437\\u0434\\u0430\\u043d\\u0438\\u0435\", \"\\u0438\\u0437\\u0434\\u0430\\u043d\\u0438\\u0435\", \"\\u0438\\u0437\\u0434\\u0430\\u043d\\u0438\\u0435\", \"\\u0438\\u0437\\u0434\\u0430\\u043d\\u0438\\u0435\", \"\\u0438\\u0437\\u043e\\u0431\\u0440\\u0430\\u0436\\u0435\\u043d\\u0438\\u0435\", \"\\u0438\\u0437\\u0443\\u0447\\u0435\\u043d\\u0438\\u0435\", \"\\u0438\\u043c\\u044f\", \"\\u0438\\u043c\\u044f\", \"\\u0438\\u043c\\u044f\", \"\\u0438\\u043c\\u044f\", \"\\u0438\\u043c\\u044f\", \"\\u0438\\u043c\\u044f\", \"\\u0438\\u043d\\u043e\\u0441\\u0442\\u0440\\u0430\\u043d\\u043d\\u044b\\u0439\", \"\\u0438\\u043d\\u0442\\u0435\\u0440\\u0432\\u044c\\u044e\", \"\\u0438\\u043d\\u0442\\u0435\\u0440\\u0432\\u044c\\u044e\", \"\\u0438\\u043d\\u0442\\u0435\\u0440\\u0432\\u044c\\u044e\", \"\\u0438\\u043d\\u0442\\u0435\\u0440\\u043d\\u0435\\u0442\", \"\\u0438\\u043d\\u0442\\u0435\\u0440\\u043d\\u0435\\u0442\", \"\\u0438\\u043d\\u0442\\u0435\\u0440\\u043d\\u0435\\u0442\", \"\\u0438\\u043d\\u0442\\u0435\\u0440\\u043d\\u0435\\u0442\", \"\\u0438\\u043d\\u0442\\u0435\\u0440\\u043d\\u0435\\u0442\", \"\\u0438\\u043d\\u0442\\u0435\\u0440\\u043d\\u0435\\u0442\", \"\\u0438\\u043d\\u0442\\u0435\\u0440\\u0444\\u0430\\u043a\\u0441\", \"\\u0438\\u043d\\u0442\\u0435\\u0440\\u0444\\u0430\\u043a\\u0441\", \"\\u0438\\u043d\\u0442\\u0435\\u0440\\u0444\\u0430\\u043a\\u0441\", \"\\u0438\\u043d\\u0442\\u0435\\u0440\\u0444\\u0430\\u043a\\u0441\", \"\\u0438\\u043d\\u0442\\u0435\\u0440\\u0444\\u0430\\u043a\\u0441\", \"\\u0438\\u043d\\u0442\\u0435\\u0440\\u0444\\u0430\\u043a\\u0441\", \"\\u0438\\u043d\\u0444\\u043e\\u0440\\u043c\\u0430\\u0446\\u0438\\u044f\", \"\\u0438\\u043d\\u0444\\u043e\\u0440\\u043c\\u0430\\u0446\\u0438\\u044f\", \"\\u0438\\u043d\\u0444\\u043e\\u0440\\u043c\\u0430\\u0446\\u0438\\u044f\", \"\\u0438\\u043d\\u0444\\u043e\\u0440\\u043c\\u0430\\u0446\\u0438\\u044f\", \"\\u0438\\u043d\\u0444\\u043e\\u0440\\u043c\\u0430\\u0446\\u0438\\u044f\", \"\\u0438\\u043d\\u0444\\u043e\\u0440\\u043c\\u0430\\u0446\\u0438\\u044f\", \"\\u0438\\u043d\\u0444\\u043e\\u0440\\u043c\\u0430\\u0446\\u0438\\u044f\", \"\\u0438\\u043d\\u0444\\u043e\\u0440\\u043c\\u0430\\u0446\\u0438\\u044f\", \"\\u0438\\u043d\\u0444\\u043e\\u0440\\u043c\\u0430\\u0446\\u0438\\u044f\", \"\\u0438\\u043d\\u0446\\u0438\\u0434\\u0435\\u043d\\u0442\", \"\\u0438\\u0440\\u0430\\u043a\", \"\\u0438\\u0441\\u043a\", \"\\u0438\\u0441\\u043a\\u0430\\u0442\\u044c\", \"\\u0438\\u0441\\u043a\\u043b\\u044e\\u0447\\u0430\\u0442\\u044c\", \"\\u0438\\u0441\\u043f\\u0430\\u043d\\u0435\\u0446\", \"\\u0438\\u0441\\u043f\\u0430\\u043d\\u0438\\u044f\", \"\\u0438\\u0441\\u043f\\u043e\\u043b\\u043d\\u0438\\u0442\\u0435\\u043b\\u044c\\u043d\\u044b\\u0439\", \"\\u0438\\u0441\\u043f\\u043e\\u043b\\u043d\\u0438\\u0442\\u0435\\u043b\\u044c\\u043d\\u044b\\u0439\", \"\\u0438\\u0441\\u043f\\u043e\\u043b\\u044c\\u0437\\u043e\\u0432\\u0430\\u0442\\u044c\", \"\\u0438\\u0441\\u043f\\u043e\\u043b\\u044c\\u0437\\u043e\\u0432\\u0430\\u0442\\u044c\", \"\\u0438\\u0441\\u043f\\u043e\\u043b\\u044c\\u0437\\u043e\\u0432\\u0430\\u0442\\u044c\", \"\\u0438\\u0441\\u043f\\u044b\\u0442\\u0430\\u043d\\u0438\\u0435\", \"\\u0438\\u0441\\u0441\\u043b\\u0435\\u0434\\u043e\\u0432\\u0430\\u043d\\u0438\\u0435\", \"\\u0438\\u0441\\u0441\\u043b\\u0435\\u0434\\u043e\\u0432\\u0430\\u043d\\u0438\\u0435\", \"\\u0438\\u0441\\u0441\\u043b\\u0435\\u0434\\u043e\\u0432\\u0430\\u0442\\u0435\\u043b\\u044c\", \"\\u0438\\u0441\\u0442\\u0440\\u0435\\u0431\\u0438\\u0442\\u0435\\u043b\\u044c\", \"\\u0438\\u0442\\u0430\\u043b\\u044c\\u044f\\u043d\\u0441\\u043a\\u0438\\u0439\", \"\\u0438\\u044e\\u043d\\u044c\", \"\\u0438\\u044e\\u043d\\u044c\", \"\\u0438\\u044e\\u043d\\u044c\", \"\\u0438\\u044e\\u043d\\u044c\", \"\\u0438\\u044e\\u043d\\u044c\", \"\\u0438\\u044e\\u043d\\u044c\", \"\\u0438\\u044e\\u043d\\u044c\", \"\\u0438\\u044e\\u043d\\u044c\", \"\\u043a\\u0430\\u043c\\u0435\\u0440\\u0430\", \"\\u043a\\u0430\\u043c\\u0435\\u0440\\u0430\", \"\\u043a\\u0430\\u043d\\u0430\\u043b\", \"\\u043a\\u0430\\u043d\\u0434\\u0438\\u0434\\u0430\\u0442\", \"\\u043a\\u0430\\u043d\\u0434\\u0438\\u0434\\u0430\\u0442\\u0443\\u0440\\u0430\", \"\\u043a\\u0430\\u0440\\u044c\\u0435\\u0440\\u0430\", \"\\u043a\\u0430\\u0442\\u0435\\u0433\\u043e\\u0440\\u0438\\u044f\", \"\\u043a\\u0432\\u0430\\u0434\\u0440\\u0430\\u0442\\u043d\\u044b\\u0439\", \"\\u043a\\u0438\\u043b\\u043e\\u0433\\u0440\\u0430\\u043c\\u043c\", \"\\u043a\\u0438\\u043b\\u043e\\u043c\\u0435\\u0442\\u0440\", \"\\u043a\\u0438\\u0442\\u0430\\u0439\", \"\\u043a\\u043b\\u0443\\u0431\", \"\\u043a\\u043d\\u0438\\u0433\\u0430\", \"\\u043a\\u043e\\u043b\\u0438\\u0447\\u0435\\u0441\\u0442\\u0432\\u043e\", \"\\u043a\\u043e\\u043b\\u0438\\u0447\\u0435\\u0441\\u0442\\u0432\\u043e\", \"\\u043a\\u043e\\u043b\\u0438\\u0447\\u0435\\u0441\\u0442\\u0432\\u043e\", \"\\u043a\\u043e\\u043b\\u0438\\u0447\\u0435\\u0441\\u0442\\u0432\\u043e\", \"\\u043a\\u043e\\u043b\\u0438\\u0447\\u0435\\u0441\\u0442\\u0432\\u043e\", \"\\u043a\\u043e\\u043b\\u043e\\u043d\\u0438\\u044f\", \"\\u043a\\u043e\\u043c\\u0430\\u043d\\u0434\\u0430\", \"\\u043a\\u043e\\u043c\\u0438\\u0442\\u0435\\u0442\", \"\\u043a\\u043e\\u043c\\u0438\\u0442\\u0435\\u0442\", \"\\u043a\\u043e\\u043c\\u0438\\u0442\\u0435\\u0442\", \"\\u043a\\u043e\\u043c\\u043c\\u0435\\u0440\\u0441\\u0430\\u043d\\u0442\", \"\\u043a\\u043e\\u043c\\u043f\\u0430\\u043d\\u0438\\u044f\", \"\\u043a\\u043e\\u043c\\u043f\\u0430\\u043d\\u0438\\u044f\", \"\\u043a\\u043e\\u043c\\u043f\\u0430\\u043d\\u0438\\u044f\", \"\\u043a\\u043e\\u043c\\u043f\\u043b\\u0435\\u043a\\u0441\", \"\\u043a\\u043e\\u043c\\u043f\\u043b\\u0435\\u043a\\u0441\", \"\\u043a\\u043e\\u043c\\u043f\\u044c\\u044e\\u0442\\u0435\\u0440\", \"\\u043a\\u043e\\u043d\\u0433\\u0440\\u0435\\u0441\\u0441\", \"\\u043a\\u043e\\u043d\\u0435\\u0446\", \"\\u043a\\u043e\\u043d\\u0435\\u0446\", \"\\u043a\\u043e\\u043d\\u0435\\u0446\", \"\\u043a\\u043e\\u043d\\u0435\\u0446\", \"\\u043a\\u043e\\u043d\\u0435\\u0446\", \"\\u043a\\u043e\\u043d\\u0435\\u0446\", \"\\u043a\\u043e\\u043d\\u043a\\u0443\\u0440\\u0441\", \"\\u043a\\u043e\\u043d\\u0441\\u043e\\u043b\\u044c\", \"\\u043a\\u043e\\u043d\\u0442\\u0440\\u0430\\u043a\\u0442\", \"\\u043a\\u043e\\u043d\\u0442\\u0440\\u0430\\u043a\\u0442\", \"\\u043a\\u043e\\u043d\\u0442\\u0440\\u043e\\u043b\\u0438\\u0440\\u043e\\u0432\\u0430\\u0442\\u044c\", \"\\u043a\\u043e\\u0440\\u0430\\u0431\\u043b\\u044c\", \"\\u043a\\u043e\\u0441\\u043c\\u0438\\u0447\\u0435\\u0441\\u043a\\u0438\\u0439\", \"\\u043a\\u043e\\u0441\\u043c\\u043e\\u0441\", \"\\u043a\\u043e\\u0442\\u043e\\u0440\\u044b\\u0439\", \"\\u043a\\u043e\\u0442\\u043e\\u0440\\u044b\\u0439\", \"\\u043a\\u043e\\u0442\\u043e\\u0440\\u044b\\u0439\", \"\\u043a\\u043e\\u0442\\u043e\\u0440\\u044b\\u0439\", \"\\u043a\\u043e\\u0442\\u043e\\u0440\\u044b\\u0439\", \"\\u043a\\u043e\\u0442\\u043e\\u0440\\u044b\\u0439\", \"\\u043a\\u043e\\u0442\\u043e\\u0440\\u044b\\u0439\", \"\\u043a\\u043e\\u0442\\u043e\\u0440\\u044b\\u0439\", \"\\u043a\\u043e\\u0442\\u043e\\u0440\\u044b\\u0439\", \"\\u043a\\u043e\\u0442\\u043e\\u0440\\u044b\\u0439\", \"\\u043a\\u043e\\u0442\\u043e\\u0440\\u044b\\u0439\", \"\\u043a\\u043e\\u0442\\u043e\\u0440\\u044b\\u0439\", \"\\u043a\\u043e\\u0442\\u043e\\u0440\\u044b\\u0439\", \"\\u043a\\u043e\\u0442\\u043e\\u0440\\u044b\\u0439\", \"\\u043a\\u043e\\u0442\\u043e\\u0440\\u044b\\u0439\", \"\\u043a\\u0440\\u043e\\u043c\\u0435\", \"\\u043a\\u0440\\u043e\\u043c\\u0435\", \"\\u043a\\u0440\\u043e\\u043c\\u0435\", \"\\u043a\\u0440\\u043e\\u043c\\u0435\", \"\\u043a\\u0440\\u043e\\u043c\\u0435\", \"\\u043a\\u0440\\u043e\\u043c\\u0435\", \"\\u043a\\u0440\\u043e\\u043c\\u0435\", \"\\u043a\\u0440\\u043e\\u043c\\u0435\", \"\\u043a\\u0440\\u043e\\u043c\\u0435\", \"\\u043a\\u0440\\u043e\\u043c\\u0435\", \"\\u043a\\u0440\\u043e\\u043c\\u0435\", \"\\u043a\\u0440\\u043e\\u043c\\u0435\", \"\\u043a\\u0440\\u043e\\u043c\\u0435\", \"\\u043a\\u0440\\u043e\\u043c\\u0435\", \"\\u043a\\u0440\\u0443\\u0433\", \"\\u043a\\u0440\\u0443\\u043f\\u043d\\u044b\\u0439\", \"\\u043a\\u0440\\u0443\\u043f\\u043d\\u044b\\u0439\", \"\\u043a\\u0440\\u0443\\u043f\\u043d\\u044b\\u0439\", \"\\u043a\\u0440\\u0443\\u043f\\u043d\\u044b\\u0439\", \"\\u043a\\u0440\\u0443\\u043f\\u043d\\u044b\\u0439\", \"\\u043a\\u0440\\u0443\\u043f\\u043d\\u044b\\u0439\", \"\\u043a\\u0440\\u0443\\u043f\\u043d\\u044b\\u0439\", \"\\u043a\\u0440\\u0443\\u043f\\u043d\\u044b\\u0439\", \"\\u043a\\u0440\\u0443\\u043f\\u043d\\u044b\\u0439\", \"\\u043a\\u0440\\u044b\\u043c\", \"\\u043a\\u0443\\u0431\\u043e\\u043a\", \"\\u043a\\u0443\\u0437\\u043d\\u0435\\u0446\\u043e\\u0432\", \"\\u043b\\u0430\\u0431\\u043e\\u0440\\u0430\\u0442\\u043e\\u0440\\u0438\\u044f\", \"\\u043b\\u0435\\u0442\\u043d\\u0438\\u0439\", \"\\u043b\\u0435\\u0442\\u043d\\u0438\\u0439\", \"\\u043b\\u0438\\u0433\\u0430\", \"\\u043b\\u0438\\u0433\\u0430\", \"\\u043b\\u0438\\u043a\\u0432\\u0438\\u0434\\u0430\\u0446\\u0438\\u044f\", \"\\u043b\\u0438\\u0446\\u043e\", \"\\u043b\\u0438\\u0446\\u043e\", \"\\u043b\\u0438\\u0448\\u0435\\u043d\\u0438\\u0435\", \"\\u043c\\u0430\\u0439\", \"\\u043c\\u0430\\u0439\", \"\\u043c\\u0430\\u0441\\u0441\\u0430\", \"\\u043c\\u0430\\u0442\\u0447\", \"\\u043c\\u0430\\u0448\\u0438\\u043d\\u0430\", \"\\u043c\\u0430\\u0448\\u0438\\u043d\\u0430\", \"\\u043c\\u0432\\u0434\", \"\\u043c\\u0432\\u0434\", \"\\u043c\\u0435\\u0434\\u0430\\u043b\\u044c\", \"\\u043c\\u0435\\u0434\\u0432\\u0435\\u0434\\u0435\\u0432\", \"\\u043c\\u0435\\u0441\\u0442\\u043d\\u044b\\u0439\", \"\\u043c\\u0435\\u0441\\u0442\\u043d\\u044b\\u0439\", \"\\u043c\\u0435\\u0441\\u0442\\u043d\\u044b\\u0439\", \"\\u043c\\u0435\\u0441\\u0442\\u043e\", \"\\u043c\\u0435\\u0441\\u0442\\u043e\", \"\\u043c\\u0435\\u0441\\u0442\\u043e\", \"\\u043c\\u0435\\u0441\\u0442\\u043e\", \"\\u043c\\u0435\\u0441\\u0442\\u043e\", \"\\u043c\\u0435\\u0441\\u0442\\u043e\", \"\\u043c\\u0435\\u0441\\u0442\\u043e\", \"\\u043c\\u0435\\u0441\\u0442\\u043e\", \"\\u043c\\u0435\\u0441\\u0442\\u043e\", \"\\u043c\\u0435\\u0441\\u0442\\u043e\", \"\\u043c\\u0435\\u0441\\u044f\\u0446\", \"\\u043c\\u0435\\u0441\\u044f\\u0446\", \"\\u043c\\u0435\\u0441\\u044f\\u0446\", \"\\u043c\\u0435\\u0441\\u044f\\u0446\", \"\\u043c\\u0435\\u0441\\u044f\\u0446\", \"\\u043c\\u0435\\u0442\\u0440\", \"\\u043c\\u0435\\u0442\\u0440\", \"\\u043c\\u0435\\u0442\\u0440\\u043e\", \"\\u043c\\u0438\\u0434\", \"\\u043c\\u0438\\u043b\\u0438\\u0446\\u0438\\u043e\\u043d\\u0435\\u0440\", \"\\u043c\\u0438\\u043b\\u0438\\u0446\\u0438\\u044f\", \"\\u043c\\u0438\\u043b\\u043b\\u0438\\u0430\\u0440\\u0434\", \"\\u043c\\u0438\\u043b\\u043b\\u0438\\u043e\\u043d\", \"\\u043c\\u0438\\u043b\\u043b\\u0438\\u043e\\u043d\", \"\\u043c\\u0438\\u043d\\u0438\\u0441\\u0442\\u0435\\u0440\\u0441\\u0442\\u0432\\u043e\", \"\\u043c\\u0438\\u043d\\u0438\\u0441\\u0442\\u0435\\u0440\\u0441\\u0442\\u0432\\u043e\", \"\\u043c\\u0438\\u043d\\u0438\\u0441\\u0442\\u0435\\u0440\\u0441\\u0442\\u0432\\u043e\", \"\\u043c\\u0438\\u043d\\u0438\\u0441\\u0442\\u0440\", \"\\u043c\\u0438\\u043d\\u0438\\u0441\\u0442\\u0440\", \"\\u043c\\u0438\\u043d\\u0443\\u0442\\u0430\", \"\\u043c\\u0438\\u043d\\u0443\\u0442\\u0430\", \"\\u043c\\u0438\\u043d\\u0443\\u0442\\u0430\", \"\\u043c\\u0438\\u0440\", \"\\u043c\\u0438\\u0440\", \"\\u043c\\u0438\\u0440\", \"\\u043c\\u0438\\u0440\", \"\\u043c\\u0438\\u0440\", \"\\u043c\\u0438\\u0440\", \"\\u043c\\u0438\\u0440\", \"\\u043c\\u0438\\u0440\", \"\\u043c\\u0438\\u0440\\u043e\\u0432\\u043e\\u0439\", \"\\u043c\\u0438\\u0440\\u043e\\u0432\\u043e\\u0439\", \"\\u043c\\u0438\\u0440\\u043e\\u0432\\u043e\\u0439\", \"\\u043c\\u0438\\u0442\\u0438\\u043d\\u0433\", \"\\u043c\\u043e\\u0431\\u0438\\u043b\\u044c\\u043d\\u044b\\u0439\", \"\\u043c\\u043e\\u0434\\u0435\\u043b\\u044c\", \"\\u043c\\u043e\\u0434\\u0435\\u0440\\u043d\\u0438\\u0437\\u0430\\u0446\\u0438\\u044f\", \"\\u043c\\u043e\\u0440\\u0441\\u043a\\u043e\\u0439\", \"\\u043c\\u043e\\u0441\\u043a\\u0432\\u0430\", \"\\u043c\\u043e\\u0441\\u043a\\u0432\\u0430\", \"\\u043c\\u043e\\u0441\\u043a\\u0432\\u0430\", \"\\u043c\\u043e\\u0441\\u043a\\u0432\\u0430\", \"\\u043c\\u043e\\u0441\\u043a\\u0432\\u0430\", \"\\u043c\\u043e\\u0441\\u043a\\u0432\\u0430\", \"\\u043c\\u043e\\u0441\\u043a\\u043e\\u0432\\u0441\\u043a\\u0438\\u0439\", \"\\u043c\\u043e\\u0441\\u043a\\u043e\\u0432\\u0441\\u043a\\u0438\\u0439\", \"\\u043c\\u043e\\u0441\\u043a\\u043e\\u0432\\u0441\\u043a\\u0438\\u0439\", \"\\u043c\\u043e\\u0441\\u043a\\u043e\\u0432\\u0441\\u043a\\u0438\\u0439\", \"\\u043c\\u043e\\u0441\\u043a\\u043e\\u0432\\u0441\\u043a\\u0438\\u0439\", \"\\u043c\\u043e\\u0441\\u043a\\u043e\\u0432\\u0441\\u043a\\u0438\\u0439\", \"\\u043c\\u043e\\u0447\\u044c\", \"\\u043c\\u043e\\u0447\\u044c\", \"\\u043c\\u043e\\u0447\\u044c\", \"\\u043c\\u043e\\u0447\\u044c\", \"\\u043c\\u043e\\u0447\\u044c\", \"\\u043c\\u043e\\u0447\\u044c\", \"\\u043c\\u043e\\u0447\\u044c\", \"\\u043c\\u043e\\u0447\\u044c\", \"\\u043c\\u0443\\u0436\\u0447\\u0438\\u043d\\u0430\", \"\\u043c\\u0447\\u0441\", \"\\u043c\\u044d\\u0440\", \"\\u043c\\u044f\\u0447\", \"\\u043d\\u0430\\u0431\\u0440\\u0430\\u0442\\u044c\", \"\\u043d\\u0430\\u0434\\u0435\\u0436\\u0434\\u0430\", \"\\u043d\\u0430\\u0434\\u0435\\u044f\\u0442\\u044c\\u0441\\u044f\", \"\\u043d\\u0430\\u0437\\u0430\\u0434\", \"\\u043d\\u0430\\u0437\\u0430\\u0434\", \"\\u043d\\u0430\\u0437\\u0430\\u0434\", \"\\u043d\\u0430\\u0437\\u0430\\u0434\", \"\\u043d\\u0430\\u0437\\u043d\\u0430\\u0447\\u0438\\u0442\\u044c\", \"\\u043d\\u0430\\u0438\\u0431\\u043e\\u043b\\u0435\\u0435\", \"\\u043d\\u0430\\u0439\\u0442\\u0438\", \"\\u043d\\u0430\\u043a\\u0430\\u0437\\u0430\\u043d\\u0438\\u0435\", \"\\u043d\\u0430\\u043f\\u0430\\u0434\\u0430\\u0442\\u044c\", \"\\u043d\\u0430\\u043f\\u0430\\u0434\\u0430\\u0442\\u044c\", \"\\u043d\\u0430\\u043f\\u0430\\u0434\\u0435\\u043d\\u0438\\u0435\", \"\\u043d\\u0430\\u043f\\u0430\\u0434\\u0435\\u043d\\u0438\\u0435\", \"\\u043d\\u0430\\u0440\\u0443\\u0448\\u0435\\u043d\\u0438\\u0435\", \"\\u043d\\u0430\\u0440\\u0443\\u0448\\u0435\\u043d\\u0438\\u0435\", \"\\u043d\\u0430\\u0440\\u0443\\u0448\\u0435\\u043d\\u0438\\u0435\", \"\\u043d\\u0430\\u0440\\u0443\\u0448\\u0435\\u043d\\u0438\\u0435\", \"\\u043d\\u0430\\u0441\\u0435\\u043b\\u0438\\u0442\\u044c\", \"\\u043d\\u0430\\u0445\\u043e\\u0434\\u0438\\u0442\\u044c\\u0441\\u044f\", \"\\u043d\\u0430\\u0445\\u043e\\u0434\\u0438\\u0442\\u044c\\u0441\\u044f\", \"\\u043d\\u0430\\u0445\\u043e\\u0434\\u0438\\u0442\\u044c\\u0441\\u044f\", \"\\u043d\\u0430\\u0445\\u043e\\u0434\\u0438\\u0442\\u044c\\u0441\\u044f\", \"\\u043d\\u0430\\u0445\\u043e\\u0434\\u0438\\u0442\\u044c\\u0441\\u044f\", \"\\u043d\\u0430\\u0445\\u043e\\u0434\\u0438\\u0442\\u044c\\u0441\\u044f\", \"\\u043d\\u0430\\u0445\\u043e\\u0434\\u0438\\u0442\\u044c\\u0441\\u044f\", \"\\u043d\\u0430\\u0445\\u043e\\u0434\\u0438\\u0442\\u044c\\u0441\\u044f\", \"\\u043d\\u0430\\u0445\\u043e\\u0434\\u0438\\u0442\\u044c\\u0441\\u044f\", \"\\u043d\\u0430\\u0445\\u043e\\u0434\\u0438\\u0442\\u044c\\u0441\\u044f\", \"\\u043d\\u0430\\u0447\\u0430\\u043b\\u043e\", \"\\u043d\\u0430\\u0447\\u0430\\u043b\\u043e\", \"\\u043d\\u0430\\u0447\\u0430\\u043b\\u043e\", \"\\u043d\\u0430\\u0447\\u0430\\u043b\\u043e\", \"\\u043d\\u0430\\u0447\\u0430\\u043b\\u043e\", \"\\u043d\\u0430\\u0447\\u0430\\u043b\\u043e\", \"\\u043d\\u0430\\u0447\\u0430\\u043b\\u043e\", \"\\u043d\\u0430\\u0447\\u0430\\u043b\\u043e\", \"\\u043d\\u0430\\u0447\\u0430\\u043b\\u043e\", \"\\u043d\\u0430\\u0447\\u0430\\u043b\\u043e\", \"\\u043d\\u0435\\u0431\\u043e\\u043b\\u044c\\u0448\\u043e\\u0439\", \"\\u043d\\u0435\\u0434\\u0430\\u043b\\u0435\\u043a\\u043e\", \"\\u043d\\u0435\\u0434\\u0435\\u043b\\u044f\", \"\\u043d\\u0435\\u0434\\u0435\\u043b\\u044f\", \"\\u043d\\u0435\\u0434\\u0435\\u043b\\u044f\", \"\\u043d\\u0435\\u0438\\u0437\\u0432\\u0435\\u0441\\u0442\\u043d\\u044b\\u0439\", \"\\u043d\\u0435\\u0438\\u0437\\u0432\\u0435\\u0441\\u0442\\u043d\\u044b\\u0439\", \"\\u043d\\u0435\\u0441\\u043a\\u043e\\u043b\\u044c\\u043a\\u043e\", \"\\u043d\\u0435\\u0441\\u043a\\u043e\\u043b\\u044c\\u043a\\u043e\", \"\\u043d\\u0435\\u0441\\u043a\\u043e\\u043b\\u044c\\u043a\\u043e\", \"\\u043d\\u0435\\u0441\\u043a\\u043e\\u043b\\u044c\\u043a\\u043e\", \"\\u043d\\u0435\\u0441\\u043a\\u043e\\u043b\\u044c\\u043a\\u043e\", \"\\u043d\\u0435\\u0441\\u043a\\u043e\\u043b\\u044c\\u043a\\u043e\", \"\\u043d\\u0435\\u0441\\u043a\\u043e\\u043b\\u044c\\u043a\\u043e\", \"\\u043d\\u0435\\u0441\\u043a\\u043e\\u043b\\u044c\\u043a\\u043e\", \"\\u043d\\u0435\\u0441\\u043a\\u043e\\u043b\\u044c\\u043a\\u043e\", \"\\u043d\\u0435\\u0441\\u043a\\u043e\\u043b\\u044c\\u043a\\u043e\", \"\\u043d\\u0435\\u0441\\u043a\\u043e\\u043b\\u044c\\u043a\\u043e\", \"\\u043d\\u043e\\u0432\\u043e\\u0441\\u0442\\u044c\", \"\\u043d\\u043e\\u0432\\u043e\\u0441\\u0442\\u044c\", \"\\u043d\\u043e\\u0432\\u043e\\u0441\\u0442\\u044c\", \"\\u043d\\u043e\\u0432\\u043e\\u0441\\u0442\\u044c\", \"\\u043d\\u043e\\u0432\\u043e\\u0441\\u0442\\u044c\", \"\\u043d\\u043e\\u0432\\u043e\\u0441\\u0442\\u044c\", \"\\u043d\\u043e\\u0432\\u044b\\u0439\", \"\\u043d\\u043e\\u0432\\u044b\\u0439\", \"\\u043d\\u043e\\u0432\\u044b\\u0439\", \"\\u043d\\u043e\\u0432\\u044b\\u0439\", \"\\u043d\\u043e\\u0432\\u044b\\u0439\", \"\\u043d\\u043e\\u0432\\u044b\\u0439\", \"\\u043d\\u043e\\u0433\\u0430\", \"\\u043d\\u043e\\u0441\\u0438\\u0442\\u0435\\u043b\\u044c\", \"\\u043d\\u0445\\u043b\", \"\\u043d\\u044b\\u043d\\u0435\\u0448\\u043d\\u0438\\u0439\", \"\\u043e\\u0431\\u0430\\u043c\\u0430\", \"\\u043e\\u0431\\u0432\\u0438\\u043d\\u0435\\u043d\\u0438\\u0435\", \"\\u043e\\u0431\\u0432\\u0438\\u043d\\u044f\\u0442\\u044c\", \"\\u043e\\u0431\\u043b\\u0430\\u0434\\u0430\\u0442\\u044c\", \"\\u043e\\u0431\\u043b\\u0430\\u0441\\u0442\\u044c\", \"\\u043e\\u0431\\u043b\\u0430\\u0441\\u0442\\u044c\", \"\\u043e\\u0431\\u043b\\u0430\\u0441\\u0442\\u044c\", \"\\u043e\\u0431\\u043b\\u0430\\u0441\\u0442\\u044c\", \"\\u043e\\u0431\\u043b\\u0430\\u0441\\u0442\\u044c\", \"\\u043e\\u0431\\u043c\\u0435\\u043d\", \"\\u043e\\u0431\\u043d\\u0430\\u0440\\u0443\\u0436\\u0438\\u0442\\u044c\", \"\\u043e\\u0431\\u043d\\u0430\\u0440\\u0443\\u0436\\u0438\\u0442\\u044c\", \"\\u043e\\u0431\\u043d\\u0430\\u0440\\u0443\\u0436\\u0438\\u0442\\u044c\", \"\\u043e\\u0431\\u043d\\u0430\\u0440\\u0443\\u0436\\u0438\\u0442\\u044c\", \"\\u043e\\u0431\\u043d\\u0430\\u0440\\u0443\\u0436\\u0438\\u0442\\u044c\", \"\\u043e\\u0431\\u043e\\u0440\\u0443\\u0434\\u043e\\u0432\\u0430\\u043d\\u0438\\u0435\", \"\\u043e\\u0431\\u0440\\u0430\\u0442\\u0438\\u0442\\u044c\", \"\\u043e\\u0431\\u0441\\u043b\\u0443\\u0436\\u0438\\u0432\\u0430\\u043d\\u0438\\u0435\", \"\\u043e\\u0431\\u0449\\u0438\\u0439\", \"\\u043e\\u0431\\u0449\\u0438\\u0439\", \"\\u043e\\u0431\\u0449\\u0438\\u0439\", \"\\u043e\\u0431\\u0449\\u0438\\u0439\", \"\\u043e\\u0431\\u0449\\u0438\\u0439\", \"\\u043e\\u0431\\u0449\\u0438\\u0439\", \"\\u043e\\u0431\\u0449\\u0438\\u0439\", \"\\u043e\\u0431\\u044a\\u0435\\u043a\\u0442\", \"\\u043e\\u0431\\u044a\\u0435\\u043a\\u0442\", \"\\u043e\\u0431\\u044a\\u0435\\u043a\\u0442\", \"\\u043e\\u0431\\u044b\\u0433\\u0440\\u0430\\u0442\\u044c\", \"\\u043e\\u0431\\u044b\\u0447\\u043d\\u044b\\u0439\", \"\\u043e\\u0431\\u044b\\u0447\\u043d\\u044b\\u0439\", \"\\u043e\\u0431\\u044f\\u0437\\u0430\\u043d\\u043d\\u043e\\u0441\\u0442\\u044c\", \"\\u043e\\u0433\\u043e\\u043d\\u044c\", \"\\u043e\\u0434\\u0435\\u0440\\u0436\\u0430\\u0442\\u044c\", \"\\u043e\\u0434\\u043d\\u0430\\u043a\\u043e\", \"\\u043e\\u0434\\u043d\\u0430\\u043a\\u043e\", \"\\u043e\\u0434\\u043d\\u0430\\u043a\\u043e\", \"\\u043e\\u0434\\u043d\\u0430\\u043a\\u043e\", \"\\u043e\\u0434\\u043d\\u0430\\u043a\\u043e\", \"\\u043e\\u0434\\u043d\\u0430\\u043a\\u043e\", \"\\u043e\\u0434\\u043d\\u0430\\u043a\\u043e\", \"\\u043e\\u0434\\u043d\\u0430\\u043a\\u043e\", \"\\u043e\\u0434\\u043d\\u0430\\u043a\\u043e\", \"\\u043e\\u0434\\u043d\\u0430\\u043a\\u043e\", \"\\u043e\\u0434\\u043d\\u0430\\u043a\\u043e\", \"\\u043e\\u0434\\u043d\\u0430\\u043a\\u043e\", \"\\u043e\\u0436\\u0438\\u0434\\u0430\\u0442\\u044c\", \"\\u043e\\u043a\\u043e\\u043b\\u043e\", \"\\u043e\\u043a\\u043e\\u043b\\u043e\", \"\\u043e\\u043a\\u043e\\u043b\\u043e\", \"\\u043e\\u043a\\u043e\\u043b\\u043e\", \"\\u043e\\u043a\\u043e\\u043b\\u043e\", \"\\u043e\\u043a\\u043e\\u043b\\u043e\", \"\\u043e\\u043a\\u043e\\u043b\\u043e\", \"\\u043e\\u043a\\u0440\\u0443\\u0433\", \"\\u043e\\u043b\\u0438\\u043c\\u043f\\u0438\\u0430\\u0434\\u0430\", \"\\u043e\\u043b\\u0438\\u043c\\u043f\\u0438\\u0439\\u0441\\u043a\\u0438\\u0439\", \"\\u043e\\u043d\\u043b\\u0430\\u0439\\u043d\", \"\\u043e\\u043f\\u0435\\u0440\\u0430\\u0446\\u0438\\u044f\", \"\\u043e\\u043f\\u0435\\u0440\\u0430\\u0446\\u0438\\u044f\", \"\\u043e\\u043f\\u0435\\u0440\\u0430\\u0446\\u0438\\u044f\", \"\\u043e\\u043f\\u0440\\u0435\\u0434\\u0435\\u043b\\u0438\\u0442\\u044c\", \"\\u043e\\u043f\\u0440\\u043e\\u0432\\u0435\\u0440\\u0433\\u043d\\u0443\\u0442\\u044c\", \"\\u043e\\u043f\\u0443\\u0431\\u043b\\u0438\\u043a\\u043e\\u0432\\u0430\\u0442\\u044c\", \"\\u043e\\u043f\\u0443\\u0431\\u043b\\u0438\\u043a\\u043e\\u0432\\u0430\\u0442\\u044c\", \"\\u043e\\u043f\\u0443\\u0431\\u043b\\u0438\\u043a\\u043e\\u0432\\u0430\\u0442\\u044c\", \"\\u043e\\u043f\\u0443\\u0431\\u043b\\u0438\\u043a\\u043e\\u0432\\u0430\\u0442\\u044c\", \"\\u043e\\u043f\\u0443\\u0431\\u043b\\u0438\\u043a\\u043e\\u0432\\u0430\\u0442\\u044c\", \"\\u043e\\u043f\\u0443\\u0431\\u043b\\u0438\\u043a\\u043e\\u0432\\u0430\\u0442\\u044c\", \"\\u043e\\u043f\\u0443\\u0431\\u043b\\u0438\\u043a\\u043e\\u0432\\u0430\\u0442\\u044c\", \"\\u043e\\u043f\\u044b\\u0442\", \"\\u043e\\u0440\\u0431\\u0438\\u0442\\u0430\", \"\\u043e\\u0440\\u0433\\u0430\\u043d\", \"\\u043e\\u0440\\u0433\\u0430\\u043d\", \"\\u043e\\u0440\\u0433\\u0430\\u043d\", \"\\u043e\\u0440\\u0433\\u0430\\u043d\", \"\\u043e\\u0440\\u0433\\u0430\\u043d\\u0438\\u0437\\u0430\\u0446\\u0438\\u044f\", \"\\u043e\\u0440\\u0433\\u0430\\u043d\\u0438\\u0437\\u0430\\u0446\\u0438\\u044f\", \"\\u043e\\u0440\\u0433\\u0430\\u043d\\u0438\\u0437\\u0430\\u0446\\u0438\\u044f\", \"\\u043e\\u0440\\u0433\\u0430\\u043d\\u0438\\u0437\\u0430\\u0446\\u0438\\u044f\", \"\\u043e\\u0440\\u0433\\u0430\\u043d\\u0438\\u0437\\u0430\\u0446\\u0438\\u044f\", \"\\u043e\\u0441\\u043e\\u0431\\u0435\\u043d\\u043d\\u043e\\u0441\\u0442\\u044c\", \"\\u043e\\u0441\\u0442\\u0430\\u0432\\u0438\\u0442\\u044c\", \"\\u043e\\u0441\\u0442\\u0430\\u0432\\u0438\\u0442\\u044c\", \"\\u043e\\u0441\\u0442\\u0430\\u0432\\u0438\\u0442\\u044c\", \"\\u043e\\u0441\\u0442\\u0430\\u0442\\u044c\\u0441\\u044f\", \"\\u043e\\u0441\\u0442\\u0440\\u043e\\u0432\", \"\\u043e\\u0442\\u0434\\u0435\\u043b\", \"\\u043e\\u0442\\u0435\\u043b\\u044c\", \"\\u043e\\u0442\\u043a\\u0430\\u0437\\u0430\\u0442\\u044c\\u0441\\u044f\", \"\\u043e\\u0442\\u043a\\u0430\\u0437\\u0430\\u0442\\u044c\\u0441\\u044f\", \"\\u043e\\u0442\\u043a\\u0430\\u0437\\u0430\\u0442\\u044c\\u0441\\u044f\", \"\\u043e\\u0442\\u043a\\u0430\\u0437\\u0430\\u0442\\u044c\\u0441\\u044f\", \"\\u043e\\u0442\\u043a\\u0430\\u0437\\u0430\\u0442\\u044c\\u0441\\u044f\", \"\\u043e\\u0442\\u043a\\u0443\\u0434\\u0430\", \"\\u043e\\u0442\\u043b\\u0438\\u0447\\u0430\\u0442\\u044c\\u0441\\u044f\", \"\\u043e\\u0442\\u043c\\u0435\\u0442\\u0438\\u0442\\u044c\", \"\\u043e\\u0442\\u043c\\u0435\\u0442\\u0438\\u0442\\u044c\", \"\\u043e\\u0442\\u043c\\u0435\\u0442\\u0438\\u0442\\u044c\", \"\\u043e\\u0442\\u043c\\u0435\\u0442\\u0438\\u0442\\u044c\", \"\\u043e\\u0442\\u043c\\u0435\\u0442\\u0438\\u0442\\u044c\", \"\\u043e\\u0442\\u043c\\u0435\\u0442\\u0438\\u0442\\u044c\", \"\\u043e\\u0442\\u043c\\u0435\\u0442\\u0438\\u0442\\u044c\", \"\\u043e\\u0442\\u043c\\u0435\\u0442\\u0438\\u0442\\u044c\", \"\\u043e\\u0442\\u043d\\u043e\\u0448\\u0435\\u043d\\u0438\\u0435\", \"\\u043e\\u0442\\u043d\\u043e\\u0448\\u0435\\u043d\\u0438\\u0435\", \"\\u043e\\u0442\\u043e\\u0431\\u0440\\u0430\\u0442\\u044c\", \"\\u043e\\u0442\\u0441\\u0442\\u0430\\u0432\\u043a\\u0430\", \"\\u043e\\u0447\\u0435\\u043d\\u044c\", \"\\u043e\\u0447\\u043a\\u043e\", \"\\u043f\\u0430\\u043b\\u0430\\u0442\\u0430\", \"\\u043f\\u0430\\u043c\\u044f\\u0442\\u043d\\u0438\\u043a\", \"\\u043f\\u0430\\u043c\\u044f\\u0442\\u044c\", \"\\u043f\\u0430\\u0440\\u0430\", \"\\u043f\\u0430\\u0440\\u043a\", \"\\u043f\\u0430\\u0440\\u043a\", \"\\u043f\\u0430\\u0440\\u043b\\u0430\\u043c\\u0435\\u043d\\u0442\", \"\\u043f\\u0430\\u0440\\u0442\\u0438\\u044f\", \"\\u043f\\u0430\\u0441\\u0441\\u0430\\u0436\\u0438\\u0440\", \"\\u043f\\u0435\\u0440\\u0432\\u044b\\u0439\", \"\\u043f\\u0435\\u0440\\u0432\\u044b\\u0439\", \"\\u043f\\u0435\\u0440\\u0432\\u044b\\u0439\", \"\\u043f\\u0435\\u0440\\u0432\\u044b\\u0439\", \"\\u043f\\u0435\\u0440\\u0432\\u044b\\u0439\", \"\\u043f\\u0435\\u0440\\u0432\\u044b\\u0439\", \"\\u043f\\u0435\\u0440\\u0432\\u044b\\u0439\", \"\\u043f\\u0435\\u0440\\u0432\\u044b\\u0439\", \"\\u043f\\u0435\\u0440\\u0432\\u044b\\u0439\", \"\\u043f\\u0435\\u0440\\u0432\\u044b\\u0439\", \"\\u043f\\u0435\\u0440\\u0432\\u044b\\u0439\", \"\\u043f\\u0435\\u0440\\u0432\\u044b\\u0439\", \"\\u043f\\u0435\\u0440\\u0435\\u0435\\u0445\\u0430\\u0442\\u044c\", \"\\u043f\\u0435\\u0440\\u0435\\u0441\\u0442\\u0430\\u0442\\u044c\", \"\\u043f\\u0435\\u0441\\u043e\\u043a\", \"\\u043f\\u0435\\u0442\\u0435\\u0440\\u0431\\u0443\\u0440\\u0433\", \"\\u043f\\u0438\\u043b\\u043e\\u0442\", \"\\u043f\\u0438\\u0441\\u0430\\u0442\\u044c\", \"\\u043f\\u0438\\u0441\\u0430\\u0442\\u044c\", \"\\u043f\\u0438\\u0441\\u0430\\u0442\\u044c\", \"\\u043f\\u0438\\u0441\\u0430\\u0442\\u044c\", \"\\u043f\\u0438\\u0441\\u0430\\u0442\\u044c\", \"\\u043f\\u043b\\u0430\\u043d\\u0435\\u0442\\u0430\", \"\\u043f\\u043b\\u0430\\u0442\\u0444\\u043e\\u0440\\u043c\\u0430\", \"\\u043f\\u043b\\u043e\\u0449\\u0430\\u0434\\u044c\", \"\\u043f\\u043b\\u043e\\u0449\\u0430\\u0434\\u044c\", \"\\u043f\\u043e\\u0431\\u0435\\u0434\\u0430\", \"\\u043f\\u043e\\u0431\\u0435\\u0434\\u0430\", \"\\u043f\\u043e\\u0432\\u0435\\u0440\\u0445\\u043d\\u043e\\u0441\\u0442\\u044c\", \"\\u043f\\u043e\\u0432\\u043e\\u0434\", \"\\u043f\\u043e\\u0433\\u0438\\u0431\\u043d\\u0443\\u0442\\u044c\", \"\\u043f\\u043e\\u0433\\u0438\\u0431\\u043d\\u0443\\u0442\\u044c\", \"\\u043f\\u043e\\u0433\\u0438\\u0431\\u0448\\u0438\\u0439\", \"\\u043f\\u043e\\u0434\\u0430\\u0447\\u0430\", \"\\u043f\\u043e\\u0434\\u0432\\u043e\\u0434\\u043d\\u044b\\u0439\", \"\\u043f\\u043e\\u0434\\u043c\\u043e\\u0441\\u043a\\u043e\\u0432\\u044c\\u0435\", \"\\u043f\\u043e\\u0434\\u043d\\u044f\\u0442\\u044c\\u0441\\u044f\", \"\\u043f\\u043e\\u0434\\u043e\\u0431\\u043d\\u044b\\u0439\", \"\\u043f\\u043e\\u0434\\u043e\\u0431\\u043d\\u044b\\u0439\", \"\\u043f\\u043e\\u0434\\u043e\\u0431\\u043d\\u044b\\u0439\", \"\\u043f\\u043e\\u0434\\u043e\\u0431\\u043d\\u044b\\u0439\", \"\\u043f\\u043e\\u0434\\u043e\\u0431\\u043d\\u044b\\u0439\", \"\\u043f\\u043e\\u0434\\u043e\\u0437\\u0440\\u0435\\u0432\\u0430\\u0442\\u044c\", \"\\u043f\\u043e\\u0434\\u043e\\u0437\\u0440\\u0435\\u0432\\u0430\\u0442\\u044c\", \"\\u043f\\u043e\\u0434\\u043e\\u0437\\u0440\\u0435\\u043d\\u0438\\u0435\", \"\\u043f\\u043e\\u0434\\u043e\\u0439\\u0442\\u0438\", \"\\u043f\\u043e\\u0434\\u0447\\u0435\\u0440\\u043a\\u043d\\u0443\\u0442\\u044c\", \"\\u043f\\u043e\\u0434\\u0447\\u0435\\u0440\\u043a\\u043d\\u0443\\u0442\\u044c\", \"\\u043f\\u043e\\u0434\\u0447\\u0435\\u0440\\u043a\\u043d\\u0443\\u0442\\u044c\", \"\\u043f\\u043e\\u0435\\u0434\\u0438\\u043d\\u043e\\u043a\", \"\\u043f\\u043e\\u0435\\u0437\\u0434\\u043a\\u0430\", \"\\u043f\\u043e\\u0436\\u0430\\u0440\", \"\\u043f\\u043e\\u0436\\u0430\\u0440\\u043d\\u044b\\u0439\", \"\\u043f\\u043e\\u0437\\u0432\\u043e\\u043b\\u0438\\u0442\\u044c\", \"\\u043f\\u043e\\u0437\\u0432\\u043e\\u043b\\u0438\\u0442\\u044c\", \"\\u043f\\u043e\\u0437\\u0432\\u043e\\u043b\\u0438\\u0442\\u044c\", \"\\u043f\\u043e\\u0437\\u0432\\u043e\\u043b\\u0438\\u0442\\u044c\", \"\\u043f\\u043e\\u0437\\u0432\\u043e\\u043b\\u044f\\u0442\\u044c\", \"\\u043f\\u043e\\u0437\\u0432\\u043e\\u043d\\u0438\\u0442\\u044c\", \"\\u043f\\u043e\\u043a\\u0430\\u0437\\u0430\\u0442\\u044c\", \"\\u043f\\u043e\\u043a\\u0430\\u0437\\u0430\\u0442\\u044c\", \"\\u043f\\u043e\\u043a\\u0443\\u043f\\u043a\\u0430\", \"\\u043f\\u043e\\u043b\", \"\\u043f\\u043e\\u043b\\u0438\\u0446\\u0435\\u0439\\u0441\\u043a\\u0438\\u0439\", \"\\u043f\\u043e\\u043b\\u0438\\u0446\\u0438\\u044f\", \"\\u043f\\u043e\\u043b\\u0443\\u0437\\u0430\\u0449\\u0438\\u0442\\u043d\\u0438\\u043a\", \"\\u043f\\u043e\\u043b\\u0443\\u043e\\u0441\\u0442\\u0440\\u043e\\u0432\", \"\\u043f\\u043e\\u043b\\u0443\\u0444\\u0438\\u043d\\u0430\\u043b\", \"\\u043f\\u043e\\u043b\\u0443\\u0447\\u0430\\u0442\\u044c\", \"\\u043f\\u043e\\u043b\\u0443\\u0447\\u0430\\u0442\\u044c\", \"\\u043f\\u043e\\u043b\\u0443\\u0447\\u0438\\u0442\\u044c\", \"\\u043f\\u043e\\u043b\\u0443\\u0447\\u0438\\u0442\\u044c\", \"\\u043f\\u043e\\u043b\\u0443\\u0447\\u0438\\u0442\\u044c\", \"\\u043f\\u043e\\u043b\\u0443\\u0447\\u0438\\u0442\\u044c\", \"\\u043f\\u043e\\u043b\\u0443\\u0447\\u0438\\u0442\\u044c\", \"\\u043f\\u043e\\u043b\\u0443\\u0447\\u0438\\u0442\\u044c\", \"\\u043f\\u043e\\u043b\\u0443\\u0447\\u0438\\u0442\\u044c\", \"\\u043f\\u043e\\u043b\\u0443\\u0447\\u0438\\u0442\\u044c\", \"\\u043f\\u043e\\u043b\\u0443\\u0447\\u0438\\u0442\\u044c\", \"\\u043f\\u043e\\u043b\\u0443\\u0447\\u0438\\u0442\\u044c\", \"\\u043f\\u043e\\u043b\\u0443\\u0447\\u0438\\u0442\\u044c\", \"\\u043f\\u043e\\u043b\\u0443\\u0447\\u0438\\u0442\\u044c\", \"\\u043f\\u043e\\u043b\\u0443\\u0447\\u0438\\u0442\\u044c\", \"\\u043f\\u043e\\u043b\\u044c\\u0437\\u043e\\u0432\\u0430\\u0442\\u0435\\u043b\\u044c\", \"\\u043f\\u043e\\u043b\\u044c\\u0448\\u0430\", \"\\u043f\\u043e\\u043b\\u0451\\u0442\", \"\\u043f\\u043e\\u043b\\u0451\\u0442\", \"\\u043f\\u043e\\u043c\\u043e\\u0449\\u044c\", \"\\u043f\\u043e\\u043c\\u043e\\u0449\\u044c\", \"\\u043f\\u043e\\u043c\\u043e\\u0449\\u044c\", \"\\u043f\\u043e\\u043c\\u043e\\u0449\\u044c\", \"\\u043f\\u043e\\u043c\\u043e\\u0449\\u044c\", \"\\u043f\\u043e\\u043c\\u043e\\u0449\\u044c\", \"\\u043f\\u043e\\u043d\\u0435\\u0434\\u0435\\u043b\\u044c\\u043d\\u0438\\u043a\", \"\\u043f\\u043e\\u043d\\u0435\\u0434\\u0435\\u043b\\u044c\\u043d\\u0438\\u043a\", \"\\u043f\\u043e\\u043d\\u0435\\u0434\\u0435\\u043b\\u044c\\u043d\\u0438\\u043a\", \"\\u043f\\u043e\\u043f\\u0440\\u043e\\u0441\\u0438\\u0442\\u044c\", \"\\u043f\\u043e\\u043f\\u0443\\u043b\\u044f\\u0440\\u043d\\u044b\\u0439\", \"\\u043f\\u043e\\u0440\\u0430\\u0436\\u0435\\u043d\\u0438\\u0435\", \"\\u043f\\u043e\\u0440\\u044f\\u0434\\u043e\\u043a\", \"\\u043f\\u043e\\u0441\\u0435\\u0442\\u0438\\u0442\\u0435\\u043b\\u044c\", \"\\u043f\\u043e\\u0441\\u043b\\u0435\\u0434\\u043d\\u0438\\u0439\", \"\\u043f\\u043e\\u0441\\u043b\\u0435\\u0434\\u043d\\u0438\\u0439\", \"\\u043f\\u043e\\u0441\\u043b\\u0435\\u0434\\u043d\\u0438\\u0439\", \"\\u043f\\u043e\\u0441\\u043b\\u0435\\u0434\\u043d\\u0438\\u0439\", \"\\u043f\\u043e\\u0441\\u043b\\u0435\\u0434\\u043d\\u0438\\u0439\", \"\\u043f\\u043e\\u0441\\u043b\\u0435\\u0434\\u043d\\u0438\\u0439\", \"\\u043f\\u043e\\u0441\\u043b\\u0435\\u0434\\u043d\\u0438\\u0439\", \"\\u043f\\u043e\\u0441\\u043b\\u0435\\u0434\\u043d\\u0438\\u0439\", \"\\u043f\\u043e\\u0441\\u043b\\u0435\\u0434\\u043d\\u0438\\u0439\", \"\\u043f\\u043e\\u0441\\u043b\\u0435\\u0434\\u043d\\u0438\\u0439\", \"\\u043f\\u043e\\u0441\\u0442\", \"\\u043f\\u043e\\u0441\\u0442\\u0430\\u0432\\u043a\\u0430\", \"\\u043f\\u043e\\u0441\\u0442\\u0440\\u0430\\u0434\\u0430\\u0442\\u044c\", \"\\u043f\\u043e\\u0441\\u0442\\u0440\\u0430\\u0434\\u0430\\u0442\\u044c\", \"\\u043f\\u043e\\u0442\\u0435\\u0440\\u043f\\u0435\\u0432\\u0448\\u0438\\u0439\", \"\\u043f\\u043e\\u0442\\u0435\\u0440\\u044f\\u0442\\u044c\", \"\\u043f\\u043e\\u0442\\u0435\\u0440\\u044f\\u0442\\u044c\", \"\\u043f\\u043e\\u0442\\u0435\\u0440\\u044f\\u0442\\u044c\", \"\\u043f\\u043e\\u0442\\u0440\\u0435\\u0431\\u043e\\u0432\\u0430\\u0442\\u044c\\u0441\\u044f\", \"\\u043f\\u043e\\u0445\\u0438\\u0442\\u0438\\u0442\\u044c\", \"\\u043f\\u043e\\u0447\\u0442\\u0430\", \"\\u043f\\u043e\\u044f\\u0432\\u0438\\u0442\\u044c\\u0441\\u044f\", \"\\u043f\\u043e\\u044f\\u0432\\u0438\\u0442\\u044c\\u0441\\u044f\", \"\\u043f\\u043e\\u044f\\u0432\\u0438\\u0442\\u044c\\u0441\\u044f\", \"\\u043f\\u043e\\u044f\\u0432\\u0438\\u0442\\u044c\\u0441\\u044f\", \"\\u043f\\u043e\\u044f\\u0432\\u043b\\u0435\\u043d\\u0438\\u0435\", \"\\u043f\\u0440\\u0430\\u0432\\u0438\\u0442\\u0435\\u043b\\u044c\\u0441\\u0442\\u0432\\u0435\\u043d\\u043d\\u044b\\u0439\", \"\\u043f\\u0440\\u0430\\u0432\\u0438\\u0442\\u0435\\u043b\\u044c\\u0441\\u0442\\u0432\\u043e\", \"\\u043f\\u0440\\u0430\\u0432\\u0438\\u0442\\u0435\\u043b\\u044c\\u0441\\u0442\\u0432\\u043e\", \"\\u043f\\u0440\\u0430\\u0432\\u0438\\u0442\\u0435\\u043b\\u044c\\u0441\\u0442\\u0432\\u043e\", \"\\u043f\\u0440\\u0430\\u0432\\u0438\\u0442\\u0435\\u043b\\u044c\\u0441\\u0442\\u0432\\u043e\", \"\\u043f\\u0440\\u0430\\u0432\\u043e\", \"\\u043f\\u0440\\u0430\\u0432\\u043e\", \"\\u043f\\u0440\\u0430\\u0432\\u043e\", \"\\u043f\\u0440\\u0430\\u0432\\u043e\", \"\\u043f\\u0440\\u0430\\u0432\\u043e\", \"\\u043f\\u0440\\u0430\\u0432\\u043e\", \"\\u043f\\u0440\\u0430\\u0432\\u043e\\u043e\\u0445\\u0440\\u0430\\u043d\\u0438\\u0442\\u0435\\u043b\\u044c\\u043d\\u044b\\u0439\", \"\\u043f\\u0440\\u0435\\u0434\\u043b\\u0430\\u0433\\u0430\\u0442\\u044c\", \"\\u043f\\u0440\\u0435\\u0434\\u0441\\u0435\\u0434\\u0430\\u0442\\u0435\\u043b\\u044c\", \"\\u043f\\u0440\\u0435\\u0434\\u0441\\u0442\\u0430\\u0432\\u0438\\u0442\\u0435\\u043b\\u044c\", \"\\u043f\\u0440\\u0435\\u0434\\u0441\\u0442\\u0430\\u0432\\u0438\\u0442\\u0435\\u043b\\u044c\", \"\\u043f\\u0440\\u0435\\u0434\\u0441\\u0442\\u0430\\u0432\\u0438\\u0442\\u0435\\u043b\\u044c\", \"\\u043f\\u0440\\u0435\\u0434\\u0441\\u0442\\u0430\\u0432\\u0438\\u0442\\u0435\\u043b\\u044c\", \"\\u043f\\u0440\\u0435\\u0434\\u0441\\u0442\\u0430\\u0432\\u0438\\u0442\\u0435\\u043b\\u044c\", \"\\u043f\\u0440\\u0435\\u0434\\u0441\\u0442\\u0430\\u0432\\u0438\\u0442\\u0435\\u043b\\u044c\", \"\\u043f\\u0440\\u0435\\u0434\\u0441\\u0442\\u0430\\u0432\\u0438\\u0442\\u0435\\u043b\\u044c\", \"\\u043f\\u0440\\u0435\\u0434\\u0441\\u0442\\u0430\\u0432\\u0438\\u0442\\u0435\\u043b\\u044c\", \"\\u043f\\u0440\\u0435\\u0434\\u0441\\u0442\\u0430\\u0432\\u0438\\u0442\\u0435\\u043b\\u044c\", \"\\u043f\\u0440\\u0435\\u0434\\u0441\\u0442\\u0430\\u0432\\u0438\\u0442\\u044c\", \"\\u043f\\u0440\\u0435\\u0434\\u0441\\u0442\\u0430\\u0432\\u0438\\u0442\\u044c\", \"\\u043f\\u0440\\u0435\\u0434\\u0441\\u0442\\u043e\\u044f\\u0449\\u0438\\u0439\", \"\\u043f\\u0440\\u0435\\u0434\\u044a\\u044f\\u0432\\u0438\\u0442\\u044c\", \"\\u043f\\u0440\\u0435\\u0437\\u0438\\u0434\\u0435\\u043d\\u0442\", \"\\u043f\\u0440\\u0435\\u0437\\u0438\\u0434\\u0435\\u043d\\u0442\", \"\\u043f\\u0440\\u0435\\u0437\\u0438\\u0434\\u0435\\u043d\\u0442\", \"\\u043f\\u0440\\u0435\\u043c\\u044c\\u0435\\u0440\", \"\\u043f\\u0440\\u0435\\u0441\\u0441\", \"\\u043f\\u0440\\u0435\\u0441\\u0441\", \"\\u043f\\u0440\\u0435\\u0441\\u0441\", \"\\u043f\\u0440\\u0435\\u0441\\u0441\", \"\\u043f\\u0440\\u0435\\u0441\\u0441\", \"\\u043f\\u0440\\u0435\\u0441\\u0441\", \"\\u043f\\u0440\\u0435\\u0441\\u0441\", \"\\u043f\\u0440\\u0435\\u0441\\u0441\", \"\\u043f\\u0440\\u0435\\u0441\\u0441\", \"\\u043f\\u0440\\u0435\\u0441\\u0442\\u0443\\u043f\\u043b\\u0435\\u043d\\u0438\\u0435\", \"\\u043f\\u0440\\u0435\\u0441\\u0442\\u0443\\u043f\\u043d\\u0438\\u043a\", \"\\u043f\\u0440\\u0438\\u0431\\u044b\\u043b\\u044c\", \"\\u043f\\u0440\\u0438\\u0433\\u043e\\u0432\\u043e\\u0440\", \"\\u043f\\u0440\\u0438\\u0433\\u043e\\u0432\\u043e\\u0440\\u0438\\u0442\\u044c\", \"\\u043f\\u0440\\u0438\\u0437\\u043d\\u0430\\u0442\\u044c\", \"\\u043f\\u0440\\u0438\\u0437\\u043d\\u0430\\u0442\\u044c\", \"\\u043f\\u0440\\u0438\\u0437\\u043d\\u0430\\u0442\\u044c\", \"\\u043f\\u0440\\u0438\\u0437\\u043d\\u0430\\u0442\\u044c\", \"\\u043f\\u0440\\u0438\\u0437\\u043d\\u0430\\u0442\\u044c\", \"\\u043f\\u0440\\u0438\\u0439\\u0442\\u0438\\u0441\\u044c\", \"\\u043f\\u0440\\u0438\\u0439\\u0442\\u0438\\u0441\\u044c\", \"\\u043f\\u0440\\u0438\\u0439\\u0442\\u0438\\u0441\\u044c\", \"\\u043f\\u0440\\u0438\\u043b\\u043e\\u0436\\u0435\\u043d\\u0438\\u0435\", \"\\u043f\\u0440\\u0438\\u043d\\u044f\\u0442\\u044c\", \"\\u043f\\u0440\\u0438\\u043d\\u044f\\u0442\\u044c\", \"\\u043f\\u0440\\u0438\\u043d\\u044f\\u0442\\u044c\", \"\\u043f\\u0440\\u0438\\u043d\\u044f\\u0442\\u044c\", \"\\u043f\\u0440\\u0438\\u043d\\u044f\\u0442\\u044c\", \"\\u043f\\u0440\\u0438\\u043d\\u044f\\u0442\\u044c\", \"\\u043f\\u0440\\u0438\\u0441\\u0442\\u0443\\u043f\\u0438\\u0442\\u044c\", \"\\u043f\\u0440\\u0438\\u0445\\u043e\\u0434\\u0438\\u0442\\u044c\\u0441\\u044f\", \"\\u043f\\u0440\\u0438\\u0447\\u0430\\u0441\\u0442\\u043d\\u043e\\u0441\\u0442\\u044c\", \"\\u043f\\u0440\\u043e\\u0432\\u0430\\u0439\\u0434\\u0435\\u0440\", \"\\u043f\\u0440\\u043e\\u0432\\u0435\\u0441\\u0442\\u0438\", \"\\u043f\\u0440\\u043e\\u0432\\u0435\\u0441\\u0442\\u0438\", \"\\u043f\\u0440\\u043e\\u0432\\u0435\\u0441\\u0442\\u0438\", \"\\u043f\\u0440\\u043e\\u0432\\u0435\\u0441\\u0442\\u0438\", \"\\u043f\\u0440\\u043e\\u0432\\u0435\\u0441\\u0442\\u0438\", \"\\u043f\\u0440\\u043e\\u0432\\u0435\\u0441\\u0442\\u0438\", \"\\u043f\\u0440\\u043e\\u0432\\u0435\\u0441\\u0442\\u0438\", \"\\u043f\\u0440\\u043e\\u0432\\u0435\\u0441\\u0442\\u0438\", \"\\u043f\\u0440\\u043e\\u0432\\u0435\\u0441\\u0442\\u0438\", \"\\u043f\\u0440\\u043e\\u0433\\u0440\\u0430\\u043c\\u043c\\u0430\", \"\\u043f\\u0440\\u043e\\u0433\\u0440\\u0430\\u043c\\u043c\\u0430\", \"\\u043f\\u0440\\u043e\\u0433\\u0440\\u0430\\u043c\\u043c\\u0430\", \"\\u043f\\u0440\\u043e\\u0434\\u0430\\u0436\\u0430\", \"\\u043f\\u0440\\u043e\\u0434\\u0430\\u0436\\u0430\", \"\\u043f\\u0440\\u043e\\u0434\\u043e\\u043b\\u0436\\u0438\\u0442\\u044c\", \"\\u043f\\u0440\\u043e\\u0434\\u0443\\u043a\\u0442\", \"\\u043f\\u0440\\u043e\\u0434\\u0443\\u043a\\u0442\", \"\\u043f\\u0440\\u043e\\u0434\\u0443\\u043a\\u0446\\u0438\\u044f\", \"\\u043f\\u0440\\u043e\\u0435\\u043a\\u0442\", \"\\u043f\\u0440\\u043e\\u0435\\u043a\\u0442\", \"\\u043f\\u0440\\u043e\\u0435\\u043a\\u0442\", \"\\u043f\\u0440\\u043e\\u0438\\u0433\\u0440\\u0430\\u0442\\u044c\", \"\\u043f\\u0440\\u043e\\u0438\\u0437\\u0432\\u043e\\u0434\\u0441\\u0442\\u0432\\u043e\", \"\\u043f\\u0440\\u043e\\u0438\\u0437\\u043e\\u0439\\u0442\\u0438\", \"\\u043f\\u0440\\u043e\\u0438\\u0437\\u043e\\u0439\\u0442\\u0438\", \"\\u043f\\u0440\\u043e\\u0438\\u0437\\u043e\\u0439\\u0442\\u0438\", \"\\u043f\\u0440\\u043e\\u0438\\u0441\\u0448\\u0435\\u0441\\u0442\\u0432\\u0438\\u0435\", \"\\u043f\\u0440\\u043e\\u0439\\u0442\\u0438\", \"\\u043f\\u0440\\u043e\\u0439\\u0442\\u0438\", \"\\u043f\\u0440\\u043e\\u0439\\u0442\\u0438\", \"\\u043f\\u0440\\u043e\\u0439\\u0442\\u0438\", \"\\u043f\\u0440\\u043e\\u0439\\u0442\\u0438\", \"\\u043f\\u0440\\u043e\\u0439\\u0442\\u0438\", \"\\u043f\\u0440\\u043e\\u043a\\u0443\\u0440\\u0430\\u0442\\u0443\\u0440\\u0430\", \"\\u043f\\u0440\\u043e\\u043a\\u0443\\u0440\\u043e\\u0440\", \"\\u043f\\u0440\\u043e\\u0441\\u0442\\u0440\\u0430\\u043d\\u0441\\u0442\\u0432\\u043e\", \"\\u043f\\u0440\\u043e\\u0442\\u0438\\u0432\", \"\\u043f\\u0440\\u043e\\u0442\\u0438\\u0432\", \"\\u043f\\u0440\\u043e\\u0446\\u0435\\u043d\\u0442\", \"\\u043f\\u0440\\u043e\\u0446\\u0435\\u043d\\u0442\", \"\\u043f\\u0440\\u043e\\u0446\\u0435\\u0441\\u0441\", \"\\u043f\\u0443\\u0431\\u043b\\u0438\\u043a\\u0430\\u0446\\u0438\\u044f\", \"\\u043f\\u0443\\u0442\\u0438\\u043d\", \"\\u0440\\u0430\\u0431\\u043e\\u0442\\u0430\", \"\\u0440\\u0430\\u0431\\u043e\\u0442\\u0430\", \"\\u0440\\u0430\\u0431\\u043e\\u0442\\u0430\", \"\\u0440\\u0430\\u0431\\u043e\\u0442\\u0430\", \"\\u0440\\u0430\\u0431\\u043e\\u0442\\u0430\", \"\\u0440\\u0430\\u0431\\u043e\\u0442\\u0430\", \"\\u0440\\u0430\\u0431\\u043e\\u0442\\u0430\", \"\\u0440\\u0430\\u0431\\u043e\\u0442\\u0430\", \"\\u0440\\u0430\\u0431\\u043e\\u0442\\u0430\", \"\\u0440\\u0430\\u0437\\u0440\\u0430\\u0431\\u043e\\u0442\\u0430\\u0442\\u044c\", \"\\u0440\\u0430\\u0437\\u0440\\u0430\\u0431\\u043e\\u0442\\u0430\\u0442\\u044c\", \"\\u0440\\u0430\\u0437\\u0440\\u0430\\u0431\\u043e\\u0442\\u0447\\u0438\\u043a\", \"\\u0440\\u0430\\u0437\\u0440\\u0430\\u0431\\u043e\\u0442\\u0447\\u0438\\u043a\", \"\\u0440\\u0430\\u0439\\u043e\\u043d\", \"\\u0440\\u0430\\u0439\\u043e\\u043d\", \"\\u0440\\u0430\\u043a\\u0435\\u0442\\u0430\", \"\\u0440\\u0430\\u043a\\u0435\\u0442\\u043a\\u0430\", \"\\u0440\\u0430\\u043a\\u0435\\u0442\\u043d\\u044b\\u0439\", \"\\u0440\\u0430\\u043d\\u0435\\u043d\\u0438\\u0435\", \"\\u0440\\u0430\\u043d\\u0438\\u0442\\u044c\", \"\\u0440\\u0430\\u0441\\u043f\\u043e\\u043b\\u043e\\u0436\\u0438\\u0442\\u044c\", \"\\u0440\\u0430\\u0441\\u0441\\u043a\\u0430\\u0437\\u0430\\u0442\\u044c\", \"\\u0440\\u0430\\u0441\\u0441\\u043a\\u0430\\u0437\\u0430\\u0442\\u044c\", \"\\u0440\\u0430\\u0441\\u0441\\u043a\\u0430\\u0437\\u0430\\u0442\\u044c\", \"\\u0440\\u0430\\u0441\\u0441\\u043a\\u0430\\u0437\\u0430\\u0442\\u044c\", \"\\u0440\\u0430\\u0441\\u0441\\u043a\\u0430\\u0437\\u0430\\u0442\\u044c\", \"\\u0440\\u0430\\u0441\\u0441\\u043a\\u0430\\u0437\\u0430\\u0442\\u044c\", \"\\u0440\\u0430\\u0441\\u0441\\u043a\\u0430\\u0437\\u0430\\u0442\\u044c\", \"\\u0440\\u0430\\u0441\\u0441\\u043a\\u0430\\u0437\\u0430\\u0442\\u044c\", \"\\u0440\\u0430\\u0441\\u0441\\u043a\\u0430\\u0437\\u0430\\u0442\\u044c\", \"\\u0440\\u0430\\u0441\\u0441\\u043b\\u0435\\u0434\\u043e\\u0432\\u0430\\u043d\\u0438\\u0435\", \"\\u0440\\u0430\\u0441\\u0441\\u043b\\u0435\\u0434\\u043e\\u0432\\u0430\\u043d\\u0438\\u0435\", \"\\u0440\\u0430\\u0441\\u0441\\u043b\\u0435\\u0434\\u043e\\u0432\\u0430\\u043d\\u0438\\u0435\", \"\\u0440\\u0430\\u0441\\u0441\\u043b\\u0435\\u0434\\u043e\\u0432\\u0430\\u043d\\u0438\\u0435\", \"\\u0440\\u0430\\u0441\\u0445\\u043e\\u0434\", \"\\u0440\\u0435\\u0430\\u043a\\u0446\\u0438\\u044f\", \"\\u0440\\u0435\\u0431\\u0451\\u043d\\u043e\\u043a\", \"\\u0440\\u0435\\u0431\\u0451\\u043d\\u043e\\u043a\", \"\\u0440\\u0435\\u0433\\u0438\\u043e\\u043d\", \"\\u0440\\u0435\\u0433\\u0438\\u043e\\u043d\", \"\\u0440\\u0435\\u0433\\u0438\\u043e\\u043d\", \"\\u0440\\u0435\\u0433\\u0438\\u043e\\u043d\", \"\\u0440\\u0435\\u0433\\u0438\\u043e\\u043d\", \"\\u0440\\u0435\\u0433\\u0443\\u043b\\u044f\\u0440\\u043d\\u044b\\u0439\", \"\\u0440\\u0435\\u0434\\u0430\\u043a\\u0442\\u043e\\u0440\", \"\\u0440\\u0435\\u0437\\u043a\\u0438\\u0439\", \"\\u0440\\u0435\\u0437\\u0443\\u043b\\u044c\\u0442\\u0430\\u0442\", \"\\u0440\\u0435\\u0437\\u0443\\u043b\\u044c\\u0442\\u0430\\u0442\", \"\\u0440\\u0435\\u0437\\u0443\\u043b\\u044c\\u0442\\u0430\\u0442\", \"\\u0440\\u0435\\u0437\\u0443\\u043b\\u044c\\u0442\\u0430\\u0442\", \"\\u0440\\u0435\\u0437\\u0443\\u043b\\u044c\\u0442\\u0430\\u0442\", \"\\u0440\\u0435\\u0437\\u0443\\u043b\\u044c\\u0442\\u0430\\u0442\", \"\\u0440\\u0435\\u0437\\u0443\\u043b\\u044c\\u0442\\u0430\\u0442\", \"\\u0440\\u0435\\u0437\\u0443\\u043b\\u044c\\u0442\\u0430\\u0442\", \"\\u0440\\u0435\\u0437\\u0443\\u043b\\u044c\\u0442\\u0430\\u0442\", \"\\u0440\\u0435\\u0437\\u0443\\u043b\\u044c\\u0442\\u0430\\u0442\", \"\\u0440\\u0435\\u0439\\u0442\\u0438\\u043d\\u0433\", \"\\u0440\\u0435\\u043a\\u043b\\u0430\\u043c\\u0430\", \"\\u0440\\u0435\\u043c\\u043e\\u043d\\u0442\", \"\\u0440\\u0435\\u0441\\u0442\\u043e\\u0440\\u0430\\u043d\", \"\\u0440\\u0435\\u0448\\u0435\\u043d\\u0438\\u0435\", \"\\u0440\\u0435\\u0448\\u0435\\u043d\\u0438\\u0435\", \"\\u0440\\u0435\\u0448\\u0435\\u043d\\u0438\\u0435\", \"\\u0440\\u0435\\u0448\\u0435\\u043d\\u0438\\u0435\", \"\\u0440\\u0435\\u0448\\u0435\\u043d\\u0438\\u0435\", \"\\u0440\\u0435\\u0448\\u0435\\u043d\\u0438\\u0435\", \"\\u0440\\u0438\\u0430\", \"\\u0440\\u0438\\u0430\", \"\\u0440\\u0438\\u0430\", \"\\u0440\\u0438\\u0430\", \"\\u0440\\u043e\\u0431\\u043e\\u0442\", \"\\u0440\\u043e\\u0436\\u0434\\u0435\\u043d\\u0438\\u0435\", \"\\u0440\\u043e\\u043b\\u0438\\u043a\", \"\\u0440\\u043e\\u0441\\u0441\\u0438\\u0439\\u0441\\u043a\\u0438\\u0439\", \"\\u0440\\u043e\\u0441\\u0441\\u0438\\u0439\\u0441\\u043a\\u0438\\u0439\", \"\\u0440\\u043e\\u0441\\u0441\\u0438\\u0439\\u0441\\u043a\\u0438\\u0439\", \"\\u0440\\u043e\\u0441\\u0441\\u0438\\u0439\\u0441\\u043a\\u0438\\u0439\", \"\\u0440\\u043e\\u0441\\u0441\\u0438\\u0439\\u0441\\u043a\\u0438\\u0439\", \"\\u0440\\u043e\\u0441\\u0441\\u0438\\u0439\\u0441\\u043a\\u0438\\u0439\", \"\\u0440\\u043e\\u0441\\u0441\\u0438\\u044f\", \"\\u0440\\u043e\\u0441\\u0441\\u0438\\u044f\", \"\\u0440\\u043e\\u0441\\u0441\\u0438\\u044f\", \"\\u0440\\u043e\\u0441\\u0441\\u0438\\u044f\", \"\\u0440\\u043e\\u0441\\u0441\\u0438\\u044f\", \"\\u0440\\u043e\\u0441\\u0441\\u0438\\u044f\", \"\\u0440\\u043e\\u0441\\u0441\\u0438\\u044f\\u043d\\u0438\\u043d\", \"\\u0440\\u043e\\u0441\\u0441\\u0438\\u044f\\u043d\\u0438\\u043d\", \"\\u0440\\u043e\\u0441\\u0441\\u0438\\u044f\\u043d\\u0438\\u043d\", \"\\u0440\\u043e\\u0441\\u0441\\u0438\\u044f\\u043d\\u043a\\u0430\", \"\\u0440\\u0443\\u0431\\u043b\\u044c\", \"\\u0440\\u0443\\u0431\\u043b\\u044c\", \"\\u0440\\u0443\\u0431\\u043b\\u044c\", \"\\u0440\\u0443\\u043a\\u0430\", \"\\u0440\\u0443\\u0441\\u0441\\u043a\\u0438\\u0439\", \"\\u0440\\u0443\\u0441\\u0441\\u043a\\u0438\\u0439\", \"\\u0440\\u044b\\u043d\\u043e\\u043a\", \"\\u0441\\u0430\\u0439\\u0442\", \"\\u0441\\u0430\\u0439\\u0442\", \"\\u0441\\u0430\\u0439\\u0442\", \"\\u0441\\u0430\\u0439\\u0442\", \"\\u0441\\u0430\\u0439\\u0442\", \"\\u0441\\u0430\\u0439\\u0442\", \"\\u0441\\u0430\\u0439\\u0442\", \"\\u0441\\u0430\\u0439\\u0442\", \"\\u0441\\u0430\\u0439\\u0442\", \"\\u0441\\u0430\\u0439\\u0442\", \"\\u0441\\u0430\\u0439\\u0442\", \"\\u0441\\u0430\\u0439\\u0442\", \"\\u0441\\u0430\\u043c\\u043c\\u0438\\u0442\", \"\\u0441\\u0430\\u043c\\u043e\\u043b\\u0451\\u0442\", \"\\u0441\\u0430\\u043c\\u043e\\u043b\\u0451\\u0442\", \"\\u0441\\u0430\\u043c\\u044b\\u0439\", \"\\u0441\\u0430\\u043c\\u044b\\u0439\", \"\\u0441\\u0430\\u043c\\u044b\\u0439\", \"\\u0441\\u0430\\u043c\\u044b\\u0439\", \"\\u0441\\u0430\\u043c\\u044b\\u0439\", \"\\u0441\\u0430\\u043c\\u044b\\u0439\", \"\\u0441\\u0430\\u043c\\u044b\\u0439\", \"\\u0441\\u0430\\u043c\\u044b\\u0439\", \"\\u0441\\u0430\\u043d\\u043a\\u0446\\u0438\\u044f\", \"\\u0441\\u0431\\u043e\\u0440\\u043d\\u0430\\u044f\", \"\\u0441\\u0431\\u043e\\u0440\\u043d\\u0430\\u044f\", \"\\u0441\\u0432\\u043e\\u0431\\u043e\\u0434\\u0430\", \"\\u0441\\u0432\\u043e\\u0431\\u043e\\u0434\\u0430\", \"\\u0441\\u0432\\u043e\\u0439\", \"\\u0441\\u0432\\u043e\\u0439\", \"\\u0441\\u0432\\u043e\\u0439\", \"\\u0441\\u0432\\u043e\\u0439\", \"\\u0441\\u0432\\u043e\\u0439\", \"\\u0441\\u0432\\u043e\\u0439\", \"\\u0441\\u0432\\u043e\\u0439\", \"\\u0441\\u0432\\u043e\\u0439\", \"\\u0441\\u0432\\u043e\\u0439\", \"\\u0441\\u0432\\u043e\\u0439\", \"\\u0441\\u0432\\u043e\\u0439\", \"\\u0441\\u0432\\u043e\\u0439\", \"\\u0441\\u0432\\u043e\\u0439\", \"\\u0441\\u0432\\u044b\\u0448\\u0435\", \"\\u0441\\u0432\\u044f\\u0437\\u044c\", \"\\u0441\\u0432\\u044f\\u0437\\u044c\", \"\\u0441\\u0432\\u044f\\u0437\\u044c\", \"\\u0441\\u0432\\u044f\\u0437\\u044c\", \"\\u0441\\u0432\\u044f\\u0437\\u044c\", \"\\u0441\\u0432\\u044f\\u0437\\u044c\", \"\\u0441\\u0435\\u0437\\u043e\\u043d\", \"\\u0441\\u0435\\u043a\\u0443\\u043d\\u0434\\u0430\", \"\\u0441\\u0435\\u0440\\u0432\\u0438\\u0441\", \"\\u0441\\u0435\\u0440\\u0433\\u0435\\u0439\", \"\\u0441\\u0435\\u0440\\u0433\\u0435\\u0439\", \"\\u0441\\u0435\\u0440\\u0433\\u0435\\u0439\", \"\\u0441\\u0435\\u0440\\u0433\\u0435\\u0439\", \"\\u0441\\u0435\\u0440\\u0433\\u0435\\u0439\", \"\\u0441\\u0435\\u0440\\u0433\\u0435\\u0439\", \"\\u0441\\u0435\\u0440\\u0438\\u044f\", \"\\u0441\\u0435\\u0440\\u0438\\u044f\", \"\\u0441\\u0435\\u0442\", \"\\u0441\\u0435\\u0442\\u044c\", \"\\u0441\\u0438\\u0433\\u043d\\u0430\\u043b\", \"\\u0441\\u0438\\u0440\\u0438\\u044f\", \"\\u0441\\u0438\\u0441\\u0442\\u0435\\u043c\\u0430\", \"\\u0441\\u0438\\u0441\\u0442\\u0435\\u043c\\u0430\", \"\\u0441\\u0438\\u0441\\u0442\\u0435\\u043c\\u0430\", \"\\u0441\\u043a\\u0430\\u0437\\u0430\\u0442\\u044c\", \"\\u0441\\u043a\\u0430\\u0437\\u0430\\u0442\\u044c\", \"\\u0441\\u043a\\u0430\\u0437\\u0430\\u0442\\u044c\", \"\\u0441\\u043a\\u0430\\u0437\\u0430\\u0442\\u044c\", \"\\u0441\\u043a\\u043e\\u0440\\u043e\\u0441\\u0442\\u044c\", \"\\u0441\\u043a\\u0440\\u044b\\u0442\\u044c\\u0441\\u044f\", \"\\u0441\\u043a\\u0440\\u044b\\u0442\\u044c\\u0441\\u044f\", \"\\u0441\\u043b\\u0435\\u0434\\u043e\\u0432\\u0430\\u0442\\u0435\\u043b\\u044c\", \"\\u0441\\u043b\\u0435\\u0434\\u0441\\u0442\\u0432\\u0435\\u043d\\u043d\\u044b\\u0439\", \"\\u0441\\u043b\\u0435\\u0434\\u0441\\u0442\\u0432\\u0438\\u0435\", \"\\u0441\\u043b\\u0435\\u0434\\u0443\\u044e\\u0449\\u0438\\u0439\", \"\\u0441\\u043b\\u0435\\u0434\\u0443\\u044e\\u0449\\u0438\\u0439\", \"\\u0441\\u043b\\u0435\\u0434\\u0443\\u044e\\u0449\\u0438\\u0439\", \"\\u0441\\u043b\\u043e\\u0432\\u043e\", \"\\u0441\\u043b\\u043e\\u0432\\u043e\", \"\\u0441\\u043b\\u043e\\u0432\\u043e\", \"\\u0441\\u043b\\u043e\\u0432\\u043e\", \"\\u0441\\u043b\\u043e\\u0432\\u043e\", \"\\u0441\\u043b\\u043e\\u0432\\u043e\", \"\\u0441\\u043b\\u043e\\u0432\\u043e\", \"\\u0441\\u043b\\u043e\\u0432\\u043e\", \"\\u0441\\u043b\\u043e\\u0432\\u043e\", \"\\u0441\\u043b\\u0443\\u0436\\u0431\\u0430\", \"\\u0441\\u043b\\u0443\\u0436\\u0431\\u0430\", \"\\u0441\\u043b\\u0443\\u0436\\u0431\\u0430\", \"\\u0441\\u043b\\u0443\\u0436\\u0431\\u0430\", \"\\u0441\\u043b\\u0443\\u0436\\u0431\\u0430\", \"\\u0441\\u043b\\u0443\\u0436\\u0431\\u0430\", \"\\u0441\\u043b\\u0443\\u0436\\u0431\\u0430\", \"\\u0441\\u043c\\u0430\\u0440\\u0442\\u0444\\u043e\\u043d\", \"\\u0441\\u043c\\u0435\\u0440\\u0442\\u044c\", \"\\u0441\\u043c\\u0438\", \"\\u0441\\u043c\\u0438\", \"\\u0441\\u043c\\u0438\", \"\\u0441\\u043c\\u0438\", \"\\u0441\\u043d\\u0430\\u0447\\u0430\\u043b\\u0430\", \"\\u0441\\u043d\\u0438\\u043c\\u043e\\u043a\", \"\\u0441\\u043d\\u044f\\u0442\\u043e\\u0439\", \"\\u0441\\u043e\\u0431\\u0430\\u043a\\u0430\", \"\\u0441\\u043e\\u0431\\u0440\\u0430\\u0442\\u044c\", \"\\u0441\\u043e\\u0432\\u0435\\u0440\\u0448\\u0438\\u0442\\u044c\", \"\\u0441\\u043e\\u0432\\u0435\\u0440\\u0448\\u0438\\u0442\\u044c\", \"\\u0441\\u043e\\u0432\\u0435\\u0442\", \"\\u0441\\u043e\\u0432\\u0435\\u0442\", \"\\u0441\\u043e\\u0432\\u0435\\u0442\", \"\\u0441\\u043e\\u0432\\u0440\\u0435\\u043c\\u0435\\u043d\\u043d\\u044b\\u0439\", \"\\u0441\\u043e\\u0437\\u0434\\u0430\\u043d\\u0438\\u0435\", \"\\u0441\\u043e\\u0437\\u0434\\u0430\\u043d\\u0438\\u0435\", \"\\u0441\\u043e\\u0437\\u0434\\u0430\\u043d\\u0438\\u0435\", \"\\u0441\\u043e\\u0437\\u0434\\u0430\\u0442\\u0435\\u043b\\u044c\", \"\\u0441\\u043e\\u0437\\u0434\\u0430\\u0442\\u044c\", \"\\u0441\\u043e\\u0437\\u0434\\u0430\\u0442\\u044c\", \"\\u0441\\u043e\\u0437\\u0434\\u0430\\u0442\\u044c\", \"\\u0441\\u043e\\u0437\\u0434\\u0430\\u0442\\u044c\", \"\\u0441\\u043e\\u043c\\u043d\\u0435\\u043d\\u0438\\u0435\", \"\\u0441\\u043e\\u043e\\u0431\\u0449\\u0430\\u0442\\u044c\", \"\\u0441\\u043e\\u043e\\u0431\\u0449\\u0430\\u0442\\u044c\", \"\\u0441\\u043e\\u043e\\u0431\\u0449\\u0430\\u0442\\u044c\", \"\\u0441\\u043e\\u043e\\u0431\\u0449\\u0430\\u0442\\u044c\", \"\\u0441\\u043e\\u043e\\u0431\\u0449\\u0430\\u0442\\u044c\", \"\\u0441\\u043e\\u043e\\u0431\\u0449\\u0430\\u0442\\u044c\", \"\\u0441\\u043e\\u043e\\u0431\\u0449\\u0430\\u0442\\u044c\", \"\\u0441\\u043e\\u043e\\u0431\\u0449\\u0430\\u0442\\u044c\", \"\\u0441\\u043e\\u043e\\u0431\\u0449\\u0430\\u0442\\u044c\", \"\\u0441\\u043e\\u043e\\u0431\\u0449\\u0430\\u0442\\u044c\", \"\\u0441\\u043e\\u043e\\u0431\\u0449\\u0430\\u0442\\u044c\", \"\\u0441\\u043e\\u043e\\u0431\\u0449\\u0430\\u0442\\u044c\", \"\\u0441\\u043e\\u043e\\u0431\\u0449\\u0430\\u0442\\u044c\", \"\\u0441\\u043e\\u043e\\u0431\\u0449\\u0430\\u0442\\u044c\", \"\\u0441\\u043e\\u043e\\u0431\\u0449\\u0430\\u0442\\u044c\", \"\\u0441\\u043e\\u043e\\u0431\\u0449\\u0435\\u043d\\u0438\\u0435\", \"\\u0441\\u043e\\u043e\\u0431\\u0449\\u0435\\u043d\\u0438\\u0435\", \"\\u0441\\u043e\\u043e\\u0431\\u0449\\u0435\\u043d\\u0438\\u0435\", \"\\u0441\\u043e\\u043e\\u0431\\u0449\\u0438\\u0442\\u044c\", \"\\u0441\\u043e\\u043e\\u0431\\u0449\\u0438\\u0442\\u044c\", \"\\u0441\\u043e\\u043e\\u0431\\u0449\\u0438\\u0442\\u044c\", \"\\u0441\\u043e\\u043e\\u0431\\u0449\\u0438\\u0442\\u044c\", \"\\u0441\\u043e\\u043e\\u0431\\u0449\\u0438\\u0442\\u044c\", \"\\u0441\\u043e\\u043e\\u0431\\u0449\\u0438\\u0442\\u044c\", \"\\u0441\\u043e\\u043e\\u0431\\u0449\\u0438\\u0442\\u044c\", \"\\u0441\\u043e\\u043e\\u0431\\u0449\\u0438\\u0442\\u044c\", \"\\u0441\\u043e\\u043e\\u0431\\u0449\\u0438\\u0442\\u044c\", \"\\u0441\\u043e\\u043f\\u0435\\u0440\\u043d\\u0438\\u043a\", \"\\u0441\\u043e\\u0440\\u0435\\u0432\\u043d\\u043e\\u0432\\u0430\\u043d\\u0438\\u0435\", \"\\u0441\\u043e\\u0441\\u0442\\u0430\\u0432\\u0438\\u0442\\u044c\", \"\\u0441\\u043e\\u0441\\u0442\\u0430\\u0432\\u0438\\u0442\\u044c\", \"\\u0441\\u043e\\u0441\\u0442\\u0430\\u0432\\u0438\\u0442\\u044c\", \"\\u0441\\u043e\\u0441\\u0442\\u0430\\u0432\\u0438\\u0442\\u044c\", \"\\u0441\\u043e\\u0441\\u0442\\u0430\\u0432\\u043b\\u044f\\u0442\\u044c\", \"\\u0441\\u043e\\u0441\\u0442\\u0430\\u0432\\u043b\\u044f\\u0442\\u044c\", \"\\u0441\\u043e\\u0441\\u0442\\u0430\\u0432\\u043b\\u044f\\u0442\\u044c\", \"\\u0441\\u043e\\u0441\\u0442\\u0430\\u0432\\u043b\\u044f\\u0442\\u044c\", \"\\u0441\\u043e\\u0441\\u0442\\u043e\\u044f\\u0442\\u044c\\u0441\\u044f\", \"\\u0441\\u043e\\u0441\\u0442\\u043e\\u044f\\u0442\\u044c\\u0441\\u044f\", \"\\u0441\\u043e\\u0441\\u0442\\u043e\\u044f\\u0442\\u044c\\u0441\\u044f\", \"\\u0441\\u043e\\u0441\\u0442\\u043e\\u044f\\u0442\\u044c\\u0441\\u044f\", \"\\u0441\\u043e\\u0441\\u0442\\u043e\\u044f\\u0442\\u044c\\u0441\\u044f\", \"\\u0441\\u043e\\u0442\\u043d\\u044f\", \"\\u0441\\u043e\\u0442\\u0440\\u0443\\u0434\\u043d\\u0438\\u043a\", \"\\u0441\\u043e\\u0442\\u0440\\u0443\\u0434\\u043d\\u0438\\u043a\", \"\\u0441\\u043e\\u0442\\u0440\\u0443\\u0434\\u043d\\u0438\\u043a\", \"\\u0441\\u043e\\u0442\\u0440\\u0443\\u0434\\u043d\\u0438\\u043a\", \"\\u0441\\u043e\\u0442\\u0440\\u0443\\u0434\\u043d\\u0438\\u043a\", \"\\u0441\\u043e\\u0442\\u0440\\u0443\\u0434\\u043d\\u0438\\u043a\", \"\\u0441\\u043e\\u0442\\u0440\\u0443\\u0434\\u043d\\u0438\\u0447\\u0435\\u0441\\u0442\\u0432\\u043e\", \"\\u0441\\u043e\\u0446\\u0438\\u0430\\u043b\\u044c\\u043d\\u044b\\u0439\", \"\\u0441\\u043e\\u0446\\u0441\\u0435\\u0442\\u044c\", \"\\u0441\\u043e\\u0447\\u0438\", \"\\u0441\\u043f\\u0430\\u0440\\u0442\\u0430\\u043a\", \"\\u0441\\u043f\\u043e\\u0440\\u0442\", \"\\u0441\\u043f\\u043e\\u0440\\u0442\\u0438\\u0432\\u043d\\u044b\\u0439\", \"\\u0441\\u043f\\u043e\\u0440\\u0442\\u0441\\u043c\\u0435\\u043d\", \"\\u0441\\u043f\\u043e\\u0440\\u0442\\u0441\\u043c\\u0435\\u043d\\u043a\\u0430\", \"\\u0441\\u043f\\u043e\\u0441\\u043e\\u0431\", \"\\u0441\\u043f\\u0443\\u0442\\u043d\\u0438\\u043a\", \"\\u0441\\u0440\\u0435\\u0434\\u0441\\u0442\\u0432\\u043e\", \"\\u0441\\u0440\\u0435\\u0434\\u0441\\u0442\\u0432\\u043e\", \"\\u0441\\u0440\\u0435\\u0434\\u0441\\u0442\\u0432\\u043e\", \"\\u0441\\u0440\\u0435\\u0434\\u0441\\u0442\\u0432\\u043e\", \"\\u0441\\u0441\\u044b\\u043b\\u043a\\u0430\", \"\\u0441\\u0441\\u044b\\u043b\\u043a\\u0430\", \"\\u0441\\u0441\\u044b\\u043b\\u043a\\u0430\", \"\\u0441\\u0441\\u044b\\u043b\\u043a\\u0430\", \"\\u0441\\u0441\\u044b\\u043b\\u043a\\u0430\", \"\\u0441\\u0441\\u044b\\u043b\\u043a\\u0430\", \"\\u0441\\u0441\\u044b\\u043b\\u043a\\u0430\", \"\\u0441\\u0441\\u044b\\u043b\\u043a\\u0430\", \"\\u0441\\u0442\\u0430\\u0434\\u0438\\u043e\\u043d\", \"\\u0441\\u0442\\u0430\\u0442\\u044c\", \"\\u0441\\u0442\\u0430\\u0442\\u044c\", \"\\u0441\\u0442\\u0430\\u0442\\u044c\", \"\\u0441\\u0442\\u0430\\u0442\\u044c\", \"\\u0441\\u0442\\u0430\\u0442\\u044c\", \"\\u0441\\u0442\\u0430\\u0442\\u044c\", \"\\u0441\\u0442\\u0430\\u0442\\u044c\", \"\\u0441\\u0442\\u0430\\u0442\\u044c\", \"\\u0441\\u0442\\u0430\\u0442\\u044c\", \"\\u0441\\u0442\\u0430\\u0442\\u044c\", \"\\u0441\\u0442\\u0430\\u0442\\u044c\", \"\\u0441\\u0442\\u0430\\u0442\\u044c\", \"\\u0441\\u0442\\u0430\\u0442\\u044c\", \"\\u0441\\u0442\\u0430\\u0442\\u044c\", \"\\u0441\\u0442\\u0430\\u0442\\u044c\\u044f\", \"\\u0441\\u0442\\u0430\\u0442\\u044c\\u044f\", \"\\u0441\\u0442\\u0435\\u043f\\u0435\\u043d\\u044c\", \"\\u0441\\u0442\\u043e\", \"\\u0441\\u0442\\u043e\\u0438\\u043c\\u043e\\u0441\\u0442\\u044c\", \"\\u0441\\u0442\\u043e\\u0438\\u043c\\u043e\\u0441\\u0442\\u044c\", \"\\u0441\\u0442\\u043e\\u043b\\u043a\\u043d\\u0443\\u0442\\u044c\\u0441\\u044f\", \"\\u0441\\u0442\\u043e\\u0440\\u043e\\u043d\\u0430\", \"\\u0441\\u0442\\u043e\\u0440\\u043e\\u043d\\u0430\", \"\\u0441\\u0442\\u043e\\u0440\\u043e\\u043d\\u0430\", \"\\u0441\\u0442\\u043e\\u0440\\u043e\\u043d\\u0430\", \"\\u0441\\u0442\\u043e\\u0440\\u043e\\u043d\\u0430\", \"\\u0441\\u0442\\u0440\\u0430\\u0434\\u0430\\u0442\\u044c\", \"\\u0441\\u0442\\u0440\\u0430\\u043d\\u0430\", \"\\u0441\\u0442\\u0440\\u0430\\u043d\\u0430\", \"\\u0441\\u0442\\u0440\\u0430\\u043d\\u0430\", \"\\u0441\\u0442\\u0440\\u0430\\u043d\\u0430\", \"\\u0441\\u0442\\u0440\\u0430\\u043d\\u0430\", \"\\u0441\\u0442\\u0440\\u0430\\u043d\\u0438\\u0446\\u0430\", \"\\u0441\\u0442\\u0440\\u043e\\u0438\\u0442\\u0435\\u043b\\u044c\\u0441\\u0442\\u0432\\u043e\", \"\\u0441\\u0442\\u0440\\u043e\\u0438\\u0442\\u0435\\u043b\\u044c\\u0441\\u0442\\u0432\\u043e\", \"\\u0441\\u0442\\u0443\\u0434\\u0438\\u044f\", \"\\u0441\\u0443\\u0434\", \"\\u0441\\u0443\\u0434\\u0435\\u0431\\u043d\\u044b\\u0439\", \"\\u0441\\u0443\\u0434\\u043d\\u043e\", \"\\u0441\\u0443\\u043c\\u043c\\u0430\", \"\\u0441\\u0443\\u043c\\u043c\\u0430\", \"\\u0441\\u0443\\u043c\\u043c\\u0430\", \"\\u0441\\u0443\\u043c\\u043c\\u0430\", \"\\u0441\\u0443\\u0449\\u0435\\u0441\\u0442\\u0432\\u043e\\u0432\\u0430\\u0442\\u044c\", \"\\u0441\\u0447\\u0438\\u0442\\u0430\\u0442\\u044c\", \"\\u0441\\u0447\\u0438\\u0442\\u0430\\u0442\\u044c\", \"\\u0441\\u0447\\u0438\\u0442\\u0430\\u0442\\u044c\", \"\\u0441\\u0447\\u0451\\u0442\", \"\\u0441\\u0447\\u0451\\u0442\", \"\\u0441\\u0447\\u0451\\u0442\", \"\\u0441\\u0447\\u0451\\u0442\", \"\\u0441\\u0448\\u0430\", \"\\u0441\\u0448\\u0430\", \"\\u0441\\u0448\\u0430\", \"\\u0441\\u0448\\u0430\", \"\\u0441\\u0448\\u0430\", \"\\u0441\\u044b\\u0433\\u0440\\u0430\\u0442\\u044c\", \"\\u0441\\u044e\\u0436\\u0435\\u0442\", \"\\u0442\\u0430\\u043a\\u0436\\u0435\", \"\\u0442\\u0430\\u043a\\u0436\\u0435\", \"\\u0442\\u0430\\u043a\\u0436\\u0435\", \"\\u0442\\u0430\\u043a\\u0436\\u0435\", \"\\u0442\\u0430\\u043a\\u0436\\u0435\", \"\\u0442\\u0430\\u043a\\u0436\\u0435\", \"\\u0442\\u0430\\u043a\\u0436\\u0435\", \"\\u0442\\u0430\\u043a\\u0436\\u0435\", \"\\u0442\\u0430\\u043a\\u0436\\u0435\", \"\\u0442\\u0430\\u043a\\u0436\\u0435\", \"\\u0442\\u0430\\u043a\\u0436\\u0435\", \"\\u0442\\u0430\\u043a\\u0436\\u0435\", \"\\u0442\\u0430\\u043a\\u0436\\u0435\", \"\\u0442\\u0430\\u043c\\u043e\\u0436\\u0435\\u043d\\u043d\\u044b\\u0439\", \"\\u0442\\u0435\\u043a\\u0441\\u0442\", \"\\u0442\\u0435\\u043b\\u043e\", \"\\u0442\\u0435\\u043b\\u043e\", \"\\u0442\\u0435\\u043d\\u043d\\u0438\\u0441\\u0438\\u0441\\u0442\", \"\\u0442\\u0435\\u043d\\u043d\\u0438\\u0441\\u0438\\u0441\\u0442\\u043a\\u0430\", \"\\u0442\\u0435\\u0440\\u0430\\u043a\\u0442\", \"\\u0442\\u0435\\u0440\\u0440\\u0438\\u0442\\u043e\\u0440\\u0438\\u044f\", \"\\u0442\\u0435\\u0440\\u0440\\u0438\\u0442\\u043e\\u0440\\u0438\\u044f\", \"\\u0442\\u0435\\u0440\\u0440\\u0438\\u0442\\u043e\\u0440\\u0438\\u044f\", \"\\u0442\\u0435\\u0440\\u0440\\u0438\\u0442\\u043e\\u0440\\u0438\\u044f\", \"\\u0442\\u0435\\u0440\\u0440\\u0438\\u0442\\u043e\\u0440\\u0438\\u044f\", \"\\u0442\\u0435\\u0445\\u043d\\u043e\\u043b\\u043e\\u0433\\u0438\\u044f\", \"\\u0442\\u0435\\u0445\\u043d\\u043e\\u043b\\u043e\\u0433\\u0438\\u044f\", \"\\u0442\\u0438\\u0442\\u0443\\u043b\", \"\\u0442\\u043e\\u0432\\u0430\\u0440\", \"\\u0442\\u043e\\u043d\\u043d\\u0430\", \"\\u0442\\u043e\\u0440\\u0433\\u043e\\u0432\\u044b\\u0439\", \"\\u0442\\u043e\\u0440\\u0433\\u043e\\u0432\\u044b\\u0439\", \"\\u0442\\u0440\\u0430\\u043d\\u0441\\u043f\\u043e\\u0440\\u0442\\u043d\\u044b\\u0439\", \"\\u0442\\u0440\\u0435\\u043d\\u0435\\u0440\", \"\\u0442\\u0440\\u0435\\u0442\\u0438\\u0439\", \"\\u0442\\u0440\\u0435\\u0442\\u0438\\u0439\", \"\\u0442\\u0440\\u0435\\u0442\\u0438\\u0439\", \"\\u0442\\u0440\\u0435\\u0442\\u0438\\u0439\", \"\\u0442\\u0440\\u0435\\u0442\\u0438\\u0439\", \"\\u0442\\u0440\\u0435\\u0442\\u0438\\u0439\", \"\\u0442\\u0440\\u043e\\u0435\", \"\\u0442\\u0443\\u0440\", \"\\u0442\\u0443\\u0440\\u043d\\u0438\\u0440\", \"\\u0442\\u0443\\u0440\\u043d\\u0438\\u0440\", \"\\u0442\\u0443\\u0440\\u043d\\u0438\\u0440\", \"\\u0442\\u0443\\u0440\\u0446\\u0438\\u044f\", \"\\u0442\\u044b\\u0441\\u044f\\u0447\\u0430\", \"\\u0442\\u044b\\u0441\\u044f\\u0447\\u0430\", \"\\u0442\\u044b\\u0441\\u044f\\u0447\\u0430\", \"\\u0442\\u044b\\u0441\\u044f\\u0447\\u0430\", \"\\u0442\\u044b\\u0441\\u044f\\u0447\\u0430\", \"\\u0442\\u044b\\u0441\\u044f\\u0447\\u0430\", \"\\u0442\\u044b\\u0441\\u044f\\u0447\\u0430\", \"\\u0442\\u044b\\u0441\\u044f\\u0447\\u0430\", \"\\u0442\\u044b\\u0441\\u044f\\u0447\\u0430\", \"\\u0443\\u0431\\u0438\\u0439\\u0441\\u0442\\u0432\\u043e\", \"\\u0443\\u0431\\u0438\\u0442\\u044b\\u0439\", \"\\u0443\\u0431\\u0440\\u0430\\u0442\\u044c\", \"\\u0443\\u0432\\u0435\\u043b\\u0438\\u0447\\u0438\\u0442\\u044c\", \"\\u0443\\u0432\\u0438\\u0434\\u0435\\u0442\\u044c\", \"\\u0443\\u0433\\u043e\\u043b\\u043e\\u0432\\u043d\\u044b\\u0439\", \"\\u0443\\u0438\\u043b\\u044c\\u044f\\u043c\\u0441\", \"\\u0443\\u043a\\u0430\\u0437\\u0430\\u043d\\u043d\\u044b\\u0439\", \"\\u0443\\u043a\\u0430\\u0437\\u044b\\u0432\\u0430\\u0442\\u044c\", \"\\u0443\\u043a\\u0440\\u0430\\u0438\\u043d\\u0430\", \"\\u0443\\u043a\\u0440\\u0430\\u0438\\u043d\\u0441\\u043a\\u0438\\u0439\", \"\\u0443\\u043b\\u0438\\u0446\\u0430\", \"\\u0443\\u043b\\u0438\\u0446\\u0430\", \"\\u0443\\u043c\\u0435\\u0440\\u0435\\u0442\\u044c\", \"\\u0443\\u043d\\u0438\\u0432\\u0435\\u0440\\u0441\\u0438\\u0442\\u0435\\u0442\", \"\\u0443\\u043f\\u0440\\u0430\\u0432\\u043b\\u0435\\u043d\\u0438\\u0435\", \"\\u0443\\u043f\\u0440\\u0430\\u0432\\u043b\\u0435\\u043d\\u0438\\u0435\", \"\\u0443\\u043f\\u0440\\u0430\\u0432\\u043b\\u0435\\u043d\\u0438\\u0435\", \"\\u0443\\u043f\\u0440\\u0430\\u0432\\u043b\\u0435\\u043d\\u0438\\u0435\", \"\\u0443\\u043f\\u0440\\u0430\\u0432\\u043b\\u0435\\u043d\\u0438\\u0435\", \"\\u0443\\u043f\\u0440\\u0430\\u0432\\u043b\\u0435\\u043d\\u0438\\u0435\", \"\\u0443\\u043f\\u0440\\u0430\\u0432\\u043b\\u044f\\u0442\\u044c\", \"\\u0443\\u0441\\u043b\\u0443\\u0433\\u0430\", \"\\u0443\\u0441\\u043b\\u0443\\u0433\\u0430\", \"\\u0443\\u0441\\u0442\\u0430\\u043d\\u043e\\u0432\\u043a\\u0430\", \"\\u0443\\u0441\\u0442\\u0440\\u043e\\u0438\\u0442\\u044c\", \"\\u0443\\u0441\\u0442\\u0440\\u043e\\u0438\\u0442\\u044c\", \"\\u0443\\u0441\\u0442\\u0440\\u043e\\u0439\\u0441\\u0442\\u0432\\u043e\", \"\\u0443\\u0441\\u0442\\u0440\\u043e\\u0439\\u0441\\u0442\\u0432\\u043e\", \"\\u0443\\u0441\\u0442\\u0440\\u043e\\u0439\\u0441\\u0442\\u0432\\u043e\", \"\\u0443\\u0441\\u0442\\u0440\\u043e\\u0439\\u0441\\u0442\\u0432\\u043e\", \"\\u0443\\u0441\\u0442\\u0443\\u043f\\u0438\\u0442\\u044c\", \"\\u0443\\u0442\\u043e\\u0447\\u043d\\u044f\\u0442\\u044c\\u0441\\u044f\", \"\\u0443\\u0442\\u043e\\u0447\\u043d\\u044f\\u0442\\u044c\\u0441\\u044f\", \"\\u0443\\u0442\\u0440\\u043e\", \"\\u0443\\u0447\\u0430\\u0441\\u0442\\u0438\\u0435\", \"\\u0443\\u0447\\u0430\\u0441\\u0442\\u0438\\u0435\", \"\\u0443\\u0447\\u0430\\u0441\\u0442\\u0438\\u0435\", \"\\u0443\\u0447\\u0430\\u0441\\u0442\\u0438\\u0435\", \"\\u0443\\u0447\\u0430\\u0441\\u0442\\u0438\\u0435\", \"\\u0443\\u0447\\u0430\\u0441\\u0442\\u0438\\u0435\", \"\\u0443\\u0447\\u0430\\u0441\\u0442\\u0438\\u0435\", \"\\u0443\\u0447\\u0430\\u0441\\u0442\\u0438\\u0435\", \"\\u0443\\u0447\\u0440\\u0435\\u0436\\u0434\\u0435\\u043d\\u0438\\u0435\", \"\\u0443\\u0447\\u0451\\u043d\\u044b\\u0439\", \"\\u0444\\u0435\\u0434\\u0435\\u0440\\u0430\\u043b\\u044c\\u043d\\u044b\\u0439\", \"\\u0444\\u0435\\u0434\\u0435\\u0440\\u0430\\u043b\\u044c\\u043d\\u044b\\u0439\", \"\\u0444\\u0435\\u0434\\u0435\\u0440\\u0430\\u043b\\u044c\\u043d\\u044b\\u0439\", \"\\u0444\\u0435\\u0434\\u0435\\u0440\\u0430\\u043b\\u044c\\u043d\\u044b\\u0439\", \"\\u0444\\u0435\\u0434\\u0435\\u0440\\u0430\\u043b\\u044c\\u043d\\u044b\\u0439\", \"\\u0444\\u0435\\u0434\\u0435\\u0440\\u0435\\u0440\", \"\\u0444\\u0438\\u0437\\u0438\\u0447\\u0435\\u0441\\u043a\\u0438\\u0439\", \"\\u0444\\u0438\\u043b\\u0438\\u043f\\u043f\", \"\\u0444\\u0438\\u043b\\u044c\\u043c\", \"\\u0444\\u0438\\u043b\\u044c\\u043c\", \"\\u0444\\u0438\\u043d\\u0430\\u043b\", \"\\u0444\\u0438\\u0440\\u043c\\u0430\", \"\\u0444\\u043b\\u0430\\u0433\", \"\\u0444\\u043e\\u0440\\u0432\\u0430\\u0440\\u0434\", \"\\u0444\\u043e\\u0442\\u043e\\u0433\\u0440\\u0430\\u0444\\u0438\\u044f\", \"\\u0444\\u0440\\u0430\\u043d\\u0446\\u0438\\u044f\", \"\\u0444\\u0440\\u0430\\u043d\\u0446\\u0443\\u0437\\u0441\\u043a\\u0438\\u0439\", \"\\u0444\\u0443\\u043d\\u043a\\u0446\\u0438\\u044f\", \"\\u0444\\u0443\\u0442\\u0431\\u043e\\u043b\", \"\\u0444\\u0443\\u0442\\u0431\\u043e\\u043b\\u0438\\u0441\\u0442\", \"\\u0444\\u0443\\u0442\\u0431\\u043e\\u043b\\u044c\\u043d\\u044b\\u0439\", \"\\u0445\\u043e\\u0440\\u043e\\u0448\\u0438\\u0439\", \"\\u0445\\u043e\\u0440\\u043e\\u0448\\u0438\\u0439\", \"\\u0445\\u043e\\u0440\\u043e\\u0448\\u0438\\u0439\", \"\\u0445\\u043e\\u0440\\u043e\\u0448\\u0438\\u0439\", \"\\u0446\\u0435\\u043d\\u0430\", \"\\u0446\\u0435\\u043d\\u0430\", \"\\u0446\\u0435\\u043d\\u0430\", \"\\u0446\\u0435\\u043d\\u0442\\u0440\", \"\\u0446\\u0435\\u043d\\u0442\\u0440\", \"\\u0446\\u0435\\u043d\\u0442\\u0440\", \"\\u0446\\u0435\\u043d\\u0442\\u0440\", \"\\u0446\\u0435\\u043d\\u0442\\u0440\", \"\\u0446\\u0435\\u043d\\u0442\\u0440\", \"\\u0446\\u0441\\u043a\\u0430\", \"\\u0447\\u0430\\u0441\", \"\\u0447\\u0430\\u0441\", \"\\u0447\\u0430\\u0441\", \"\\u0447\\u0430\\u0441\", \"\\u0447\\u0430\\u0441\", \"\\u0447\\u0430\\u0441\\u0442\\u044b\\u0439\", \"\\u0447\\u0435\\u043b\\u043e\\u0432\\u0435\\u043a\", \"\\u0447\\u0435\\u043b\\u043e\\u0432\\u0435\\u043a\", \"\\u0447\\u0435\\u043b\\u043e\\u0432\\u0435\\u043a\", \"\\u0447\\u0435\\u043b\\u043e\\u0432\\u0435\\u043a\", \"\\u0447\\u0435\\u043b\\u043e\\u0432\\u0435\\u043a\", \"\\u0447\\u0435\\u043b\\u043e\\u0432\\u0435\\u043a\", \"\\u0447\\u0435\\u043b\\u043e\\u0432\\u0435\\u043a\", \"\\u0447\\u0435\\u043b\\u043e\\u0432\\u0435\\u043a\", \"\\u0447\\u0435\\u043b\\u0441\\u0438\", \"\\u0447\\u0435\\u043c\\u043f\\u0438\\u043e\\u043d\", \"\\u0447\\u0435\\u043c\\u043f\\u0438\\u043e\\u043d\\u0430\\u0442\", \"\\u0447\\u0435\\u043c\\u043f\\u0438\\u043e\\u043d\\u0430\\u0442\", \"\\u0447\\u0435\\u0442\\u0432\\u0435\\u0440\\u043e\", \"\\u0447\\u0435\\u0442\\u0432\\u0451\\u0440\\u0442\\u044b\\u0439\", \"\\u0447\\u0435\\u0442\\u044b\\u0440\\u0435\", \"\\u0447\\u0435\\u0442\\u044b\\u0440\\u0435\", \"\\u0447\\u0435\\u0442\\u044b\\u0440\\u0435\", \"\\u0447\\u0435\\u0442\\u044b\\u0440\\u0435\", \"\\u0447\\u0435\\u0442\\u044b\\u0440\\u0435\", \"\\u0447\\u0435\\u0447\\u0435\\u043d\\u0441\\u043a\\u0438\\u0439\", \"\\u0447\\u0435\\u0447\\u043d\\u044f\", \"\\u0447\\u0435\\u0447\\u043d\\u044f\", \"\\u0447\\u0435\\u0447\\u043d\\u044f\", \"\\u0447\\u0438\\u043d\\u043e\\u0432\\u043d\\u0438\\u043a\", \"\\u0447\\u0438\\u0441\\u043b\\u0435\\u043d\\u043d\\u043e\\u0441\\u0442\\u044c\", \"\\u0447\\u0438\\u0441\\u043b\\u043e\", \"\\u0447\\u0438\\u0441\\u043b\\u043e\", \"\\u0447\\u0438\\u0441\\u043b\\u043e\", \"\\u0447\\u0438\\u0441\\u043b\\u043e\", \"\\u0447\\u0438\\u0441\\u043b\\u043e\", \"\\u0447\\u0438\\u0441\\u043b\\u043e\", \"\\u0447\\u0438\\u0441\\u043b\\u043e\", \"\\u0447\\u0438\\u0441\\u043b\\u043e\", \"\\u0447\\u0438\\u0441\\u043b\\u043e\", \"\\u0448\\u0430\\u0439\\u0431\\u0430\", \"\\u0448\\u0430\\u0440\\u0430\\u043f\\u043e\\u0432\", \"\\u0448\\u043a\\u043e\\u043b\\u0430\", \"\\u0448\\u043e\\u0443\", \"\\u0448\\u0442\\u0430\\u0442\", \"\\u044d\\u043a\\u0438\\u043f\\u0430\\u0436\", \"\\u044d\\u043a\\u0440\\u0430\\u043d\", \"\\u044d\\u043a\\u0441\\u043f\\u0435\\u0440\\u0438\\u043c\\u0435\\u043d\\u0442\", \"\\u044d\\u043a\\u0441\\u043f\\u0435\\u0440\\u0442\\u0438\\u0437\\u0430\", \"\\u044d\\u043a\\u0441\\u043f\\u043b\\u0443\\u0430\\u0442\\u0430\\u0446\\u0438\\u044f\", \"\\u044d\\u043b\\u0435\\u043a\\u0442\\u0440\\u043e\\u043d\\u043d\\u044b\\u0439\", \"\\u044d\\u043b\\u0435\\u043a\\u0442\\u0440\\u043e\\u043d\\u043d\\u044b\\u0439\", \"\\u044d\\u0442\\u0430\\u0436\", \"\\u044d\\u0442\\u0430\\u043f\", \"\\u044d\\u0442\\u043e\", \"\\u044d\\u0442\\u043e\", \"\\u044d\\u0442\\u043e\", \"\\u044d\\u0442\\u043e\", \"\\u044d\\u0442\\u043e\", \"\\u044d\\u0442\\u043e\", \"\\u044d\\u0442\\u043e\", \"\\u044d\\u0442\\u043e\", \"\\u044d\\u0442\\u043e\", \"\\u044d\\u0442\\u043e\", \"\\u044d\\u0442\\u043e\", \"\\u044d\\u0442\\u043e\", \"\\u044d\\u0442\\u043e\", \"\\u044d\\u0442\\u043e\", \"\\u044d\\u0442\\u043e\", \"\\u044d\\u0444\\u0438\\u0440\", \"\\u044d\\u0444\\u0438\\u0440\", \"\\u044e\\u0436\\u043d\\u044b\\u0439\", \"\\u044e\\u0436\\u043d\\u044b\\u0439\", \"\\u044e\\u0436\\u043d\\u044b\\u0439\", \"\\u044f\\u0432\\u043b\\u044f\\u0442\\u044c\\u0441\\u044f\", \"\\u044f\\u0432\\u043b\\u044f\\u0442\\u044c\\u0441\\u044f\", \"\\u044f\\u0432\\u043b\\u044f\\u0442\\u044c\\u0441\\u044f\", \"\\u044f\\u0432\\u043b\\u044f\\u0442\\u044c\\u0441\\u044f\", \"\\u044f\\u0432\\u043b\\u044f\\u0442\\u044c\\u0441\\u044f\", \"\\u044f\\u0432\\u043b\\u044f\\u0442\\u044c\\u0441\\u044f\", \"\\u044f\\u0432\\u043b\\u044f\\u0442\\u044c\\u0441\\u044f\", \"\\u044f\\u0432\\u043b\\u044f\\u0442\\u044c\\u0441\\u044f\", \"\\u044f\\u0432\\u043b\\u044f\\u0442\\u044c\\u0441\\u044f\", \"\\u044f\\u0432\\u043b\\u044f\\u0442\\u044c\\u0441\\u044f\", \"\\u044f\\u0437\\u044b\\u043a\", \"\\u044f\\u0437\\u044b\\u043a\", \"\\u044f\\u0437\\u044b\\u043a\"]}, \"R\": 30, \"lambda.step\": 0.01, \"plot.opts\": {\"xlab\": \"PC1\", \"ylab\": \"PC2\"}, \"topic.order\": [1, 10, 7, 8, 9, 5, 12, 13, 6, 3, 15, 2, 11, 14, 4]};\n",
              "\n",
              "function LDAvis_load_lib(url, callback){\n",
              "  var s = document.createElement('script');\n",
              "  s.src = url;\n",
              "  s.async = true;\n",
              "  s.onreadystatechange = s.onload = callback;\n",
              "  s.onerror = function(){console.warn(\"failed to load library \" + url);};\n",
              "  document.getElementsByTagName(\"head\")[0].appendChild(s);\n",
              "}\n",
              "\n",
              "if(typeof(LDAvis) !== \"undefined\"){\n",
              "   // already loaded: just create the visualization\n",
              "   !function(LDAvis){\n",
              "       new LDAvis(\"#\" + \"ldavis_el5731396614520628003643559496\", ldavis_el5731396614520628003643559496_data);\n",
              "   }(LDAvis);\n",
              "}else if(typeof define === \"function\" && define.amd){\n",
              "   // require.js is available: use it to load d3/LDAvis\n",
              "   require.config({paths: {d3: \"https://d3js.org/d3.v5\"}});\n",
              "   require([\"d3\"], function(d3){\n",
              "      window.d3 = d3;\n",
              "      LDAvis_load_lib(\"https://cdn.jsdelivr.net/gh/bmabey/pyLDAvis@3.3.1/pyLDAvis/js/ldavis.v3.0.0.js\", function(){\n",
              "        new LDAvis(\"#\" + \"ldavis_el5731396614520628003643559496\", ldavis_el5731396614520628003643559496_data);\n",
              "      });\n",
              "    });\n",
              "}else{\n",
              "    // require.js not available: dynamically load d3 & LDAvis\n",
              "    LDAvis_load_lib(\"https://d3js.org/d3.v5.js\", function(){\n",
              "         LDAvis_load_lib(\"https://cdn.jsdelivr.net/gh/bmabey/pyLDAvis@3.3.1/pyLDAvis/js/ldavis.v3.0.0.js\", function(){\n",
              "                 new LDAvis(\"#\" + \"ldavis_el5731396614520628003643559496\", ldavis_el5731396614520628003643559496_data);\n",
              "            })\n",
              "         });\n",
              "}\n",
              "</script>"
            ],
            "text/plain": [
              "<IPython.core.display.HTML object>"
            ]
          },
          "metadata": {
            "tags": []
          },
          "execution_count": 35
        }
      ]
    },
    {
      "cell_type": "markdown",
      "metadata": {
        "id": "9UOlijQ5f6Ms"
      },
      "source": [
        "## Библиотека BigARTM\n",
        "\n",
        "Теперь попробуем построить модели с помощью библиотеки BigARTM. [Тут](https://github.com/bigartm/bigartm-book/blob/master/ARTM_example_RU.ipynb) и [тут](https://github.com/bigartm/bigartm-book/blob/master/ARTM_tutorial_RU.ipynb) можно посмотреть на примеры использования библиотеки. "
      ]
    },
    {
      "cell_type": "markdown",
      "metadata": {
        "id": "oy0GNiJ4jbWZ"
      },
      "source": [
        "### Установка библиотеки в Google Colab"
      ]
    },
    {
      "cell_type": "code",
      "metadata": {
        "id": "RgHU-7r9SeQa"
      },
      "source": [
        "!apt-get --yes update\n",
        "!apt-get --yes install git make cmake build-essential libboost-all-dev\n",
        "!apt-get --yes install python-numpy python-pandas python-scipy\n",
        "!wget https://bootstrap.pypa.io/get-pip.py\n",
        "!python get-pip.py\n",
        "!pip install protobuf tqdm wheel\n",
        "!git clone --branch=stable https://github.com/bigartm/bigartm.git"
      ],
      "execution_count": null,
      "outputs": []
    },
    {
      "cell_type": "code",
      "metadata": {
        "colab": {
          "base_uri": "https://localhost:8080/"
        },
        "id": "ybXdTWRyUywA",
        "outputId": "5861a1d8-13bc-4ad6-d26c-997fd514bde1"
      },
      "source": [
        "%cd bigartm"
      ],
      "execution_count": 37,
      "outputs": [
        {
          "output_type": "stream",
          "text": [
            "/content/bigartm\n"
          ],
          "name": "stdout"
        }
      ]
    },
    {
      "cell_type": "code",
      "metadata": {
        "id": "bFnF1nI1U34z"
      },
      "source": [
        "!mkdir build"
      ],
      "execution_count": 38,
      "outputs": []
    },
    {
      "cell_type": "code",
      "metadata": {
        "colab": {
          "base_uri": "https://localhost:8080/"
        },
        "id": "nubxVcCXVuGb",
        "outputId": "764247b4-d8f1-4518-ef75-56697c2c6578"
      },
      "source": [
        "%cd build"
      ],
      "execution_count": 39,
      "outputs": [
        {
          "output_type": "stream",
          "text": [
            "/content/bigartm/build\n"
          ],
          "name": "stdout"
        }
      ]
    },
    {
      "cell_type": "code",
      "metadata": {
        "id": "nJdbsuaqU6J3"
      },
      "source": [
        "!cmake .."
      ],
      "execution_count": null,
      "outputs": []
    },
    {
      "cell_type": "code",
      "metadata": {
        "id": "GZYhTafmGern"
      },
      "source": [
        "!make"
      ],
      "execution_count": null,
      "outputs": []
    },
    {
      "cell_type": "code",
      "metadata": {
        "id": "jO53qbjQGmRf"
      },
      "source": [
        "!make install"
      ],
      "execution_count": null,
      "outputs": []
    },
    {
      "cell_type": "code",
      "metadata": {
        "colab": {
          "base_uri": "https://localhost:8080/"
        },
        "id": "2dRbHpw4LRZZ",
        "outputId": "3cb4d69d-289d-4720-de1f-064897afac32"
      },
      "source": [
        "!pip install python/bigartm*.whl\n"
      ],
      "execution_count": 43,
      "outputs": [
        {
          "output_type": "stream",
          "text": [
            "Processing ./python/bigartm-0.10.0-cp37-cp37m-linux_x86_64.whl\n",
            "Requirement already satisfied: numpy in /usr/local/lib/python3.7/dist-packages (from bigartm==0.10.0) (1.21.0)\n",
            "Requirement already satisfied: pandas in /usr/local/lib/python3.7/dist-packages (from bigartm==0.10.0) (1.3.0)\n",
            "Requirement already satisfied: pytz>=2017.3 in /usr/local/lib/python3.7/dist-packages (from pandas->bigartm==0.10.0) (2018.9)\n",
            "Requirement already satisfied: python-dateutil>=2.7.3 in /usr/local/lib/python3.7/dist-packages (from pandas->bigartm==0.10.0) (2.8.1)\n",
            "Requirement already satisfied: six>=1.5 in /usr/local/lib/python3.7/dist-packages (from python-dateutil>=2.7.3->pandas->bigartm==0.10.0) (1.15.0)\n",
            "Installing collected packages: bigartm\n",
            "Successfully installed bigartm-0.10.0\n",
            "\u001b[33mWARNING: Running pip as the 'root' user can result in broken permissions and conflicting behaviour with the system package manager. It is recommended to use a virtual environment instead: https://pip.pypa.io/warnings/venv\u001b[0m\n"
          ],
          "name": "stdout"
        }
      ]
    },
    {
      "cell_type": "markdown",
      "metadata": {
        "id": "kcBGKDi_jmZt"
      },
      "source": [
        "### Тематические модели в BigARTM"
      ]
    },
    {
      "cell_type": "code",
      "metadata": {
        "id": "Agl7TVTSf6Ms"
      },
      "source": [
        "import artm"
      ],
      "execution_count": 44,
      "outputs": []
    },
    {
      "cell_type": "code",
      "metadata": {
        "colab": {
          "base_uri": "https://localhost:8080/",
          "height": 35
        },
        "id": "DFS8zf1zLWxg",
        "outputId": "bab6d1e3-2c47-42e2-d341-4c23f884dc7d"
      },
      "source": [
        "artm.version()"
      ],
      "execution_count": 45,
      "outputs": [
        {
          "output_type": "execute_result",
          "data": {
            "application/vnd.google.colaboratory.intrinsic+json": {
              "type": "string"
            },
            "text/plain": [
              "'0.10.0'"
            ]
          },
          "metadata": {
            "tags": []
          },
          "execution_count": 45
        }
      ]
    },
    {
      "cell_type": "code",
      "metadata": {
        "colab": {
          "base_uri": "https://localhost:8080/"
        },
        "id": "fZcj6ZxZLdhJ",
        "outputId": "310bfd93-2976-4520-d6a7-319e43cc22a3"
      },
      "source": [
        "artm.ARTM(num_topics=10).info"
      ],
      "execution_count": 46,
      "outputs": [
        {
          "output_type": "execute_result",
          "data": {
            "text/plain": [
              "config {\n",
              "  topic_name: \"topic_0\"\n",
              "  topic_name: \"topic_1\"\n",
              "  topic_name: \"topic_2\"\n",
              "  topic_name: \"topic_3\"\n",
              "  topic_name: \"topic_4\"\n",
              "  topic_name: \"topic_5\"\n",
              "  topic_name: \"topic_6\"\n",
              "  topic_name: \"topic_7\"\n",
              "  topic_name: \"topic_8\"\n",
              "  topic_name: \"topic_9\"\n",
              "  score_config {\n",
              "    name: \"^^^ItemsProcessedScore^^^\"\n",
              "    type: ScoreType_ItemsProcessed\n",
              "    config: \"\"\n",
              "  }\n",
              "  pwt_name: \"pwt\"\n",
              "  nwt_name: \"nwt\"\n",
              "  num_document_passes: 10\n",
              "  reuse_theta: false\n",
              "  cache_theta: false\n",
              "}\n",
              "score {\n",
              "  name: \"^^^ItemsProcessedScore^^^\"\n",
              "  type: \"N4artm5score14ItemsProcessedE\"\n",
              "}\n",
              "processor_queue_size: 0\n",
              "num_processors: 2"
            ]
          },
          "metadata": {
            "tags": []
          },
          "execution_count": 46
        }
      ]
    },
    {
      "cell_type": "markdown",
      "metadata": {
        "id": "pXA093Vnf6Ms"
      },
      "source": [
        "Чтобы работать с данными в библиотеке ARTM нужно сперва сделать препроцессинг (мы уже сделали его ранее) и записать данные в [одном из форматов](https://bigartm.readthedocs.io/en/v0.10.1/tutorials/datasets.html), с которыми умеет работать библиотека. Мы конвертируем данные в формат vowpal wabbit:"
      ]
    },
    {
      "cell_type": "markdown",
      "metadata": {
        "id": "ikEDbE7Wf6Ms"
      },
      "source": [
        "doc1 this text will be processed not as bag of words | Some_Author"
      ]
    },
    {
      "cell_type": "code",
      "metadata": {
        "id": "e2z0iUI9eT_4"
      },
      "source": [
        "data['text'] = data['text'].apply(lambda x: ' '.join(x))"
      ],
      "execution_count": 47,
      "outputs": []
    },
    {
      "cell_type": "code",
      "metadata": {
        "colab": {
          "base_uri": "https://localhost:8080/"
        },
        "id": "tyekj82IeN_h",
        "outputId": "6cba9e6e-16eb-446f-e133-199b6b513d75"
      },
      "source": [
        "i = 0\n",
        "d = data.iloc[i]\n",
        "d"
      ],
      "execution_count": 48,
      "outputs": [
        {
          "output_type": "execute_result",
          "data": {
            "text/plain": [
              "title    Плющенко объявил о возобновлении карьеры                                                                                                                                                                                                                                                                                                                                                                                                                                                                                                                                                                                                                                                      \n",
              "topic    Спорт                                                                                                                                                                                                                                                                                                                                                                                                                                                                                                                                                                                                                                                                                         \n",
              "text     двукратный олимпийский чемпион евгений плющенко официально объявить возобновление спортивный карьера это фигурист сообщить беседа тасс потихонечку начинать тренироваться близкий время выйти соревнование заявить плющенко слово спортсмен планировать принять участие чемпионат мир европа год плющенко приостановить выступление официальный турнир олимпиада год сочи прошлый сезон летний фигурист участвовать пригласительный соревнование шоу также показательный выступление россиянин являться олимпийский чемпион фигурный катание год также выступать олимпиада плющенко неоднократно заявлять мочь принять участие пятый игра подряд который состояться год южнокорейский пхенчхан\n",
              "tags                                                                                                                                                                                                                                                                                                                                                                                                                                                                                                                                                                                                                                                                                                   \n",
              "Name: 195505, dtype: object"
            ]
          },
          "metadata": {
            "tags": []
          },
          "execution_count": 48
        }
      ]
    },
    {
      "cell_type": "code",
      "metadata": {
        "colab": {
          "base_uri": "https://localhost:8080/",
          "height": 86
        },
        "id": "xKp4s9ow9nzr",
        "outputId": "9f9d96b7-50b7-450b-b4e6-6051c5f0a123"
      },
      "source": [
        "f'doc{i} {d.text} |topic {d.topic}'"
      ],
      "execution_count": 49,
      "outputs": [
        {
          "output_type": "execute_result",
          "data": {
            "application/vnd.google.colaboratory.intrinsic+json": {
              "type": "string"
            },
            "text/plain": [
              "'doc0 двукратный олимпийский чемпион евгений плющенко официально объявить возобновление спортивный карьера это фигурист сообщить беседа тасс потихонечку начинать тренироваться близкий время выйти соревнование заявить плющенко слово спортсмен планировать принять участие чемпионат мир европа год плющенко приостановить выступление официальный турнир олимпиада год сочи прошлый сезон летний фигурист участвовать пригласительный соревнование шоу также показательный выступление россиянин являться олимпийский чемпион фигурный катание год также выступать олимпиада плющенко неоднократно заявлять мочь принять участие пятый игра подряд который состояться год южнокорейский пхенчхан |topic Спорт'"
            ]
          },
          "metadata": {
            "tags": []
          },
          "execution_count": 49
        }
      ]
    },
    {
      "cell_type": "code",
      "metadata": {
        "id": "vhDjcHEvf6Ms"
      },
      "source": [
        "def convert_to_vw_format(index, row):\n",
        "    return f'doc{index} {row.text} |topic {row.topic}'"
      ],
      "execution_count": 50,
      "outputs": []
    },
    {
      "cell_type": "code",
      "metadata": {
        "id": "TVq5_jO1f6Mt"
      },
      "source": [
        "with open('lenta_wv.wv', 'w') as f:\n",
        "    for index, row in data.iterrows():\n",
        "        vw_string = convert_to_vw_format(index, row)\n",
        "        f.write(vw_string)\n",
        "        f.write('\\n')"
      ],
      "execution_count": 51,
      "outputs": []
    },
    {
      "cell_type": "markdown",
      "metadata": {
        "id": "pcUjDQ6Cf6Mt"
      },
      "source": [
        "Далее нужно создать объект BatchVectorizer для данных, которые мы записали в формате vowpal wabbit:"
      ]
    },
    {
      "cell_type": "code",
      "metadata": {
        "id": "IM9Dh78Uf6Mt"
      },
      "source": [
        "batch_vectorizer = artm.BatchVectorizer(data_path='lenta_wv.wv', \n",
        "                                        data_format='vowpal_wabbit',\n",
        "                                        target_folder='lenta_batches')"
      ],
      "execution_count": 52,
      "outputs": []
    },
    {
      "cell_type": "markdown",
      "metadata": {
        "id": "ORTefKhxf6Mt"
      },
      "source": [
        "Попробуем обучить модель LDA для 10 тем:"
      ]
    },
    {
      "cell_type": "code",
      "metadata": {
        "colab": {
          "base_uri": "https://localhost:8080/"
        },
        "id": "WBbsIWhif6Mt",
        "outputId": "dcc3c404-44d2-4a57-c592-4851a61057f2"
      },
      "source": [
        "%%time \n",
        "lda = artm.LDA(num_topics=10, alpha=0.1, beta=0.001, \n",
        "               cache_theta=True,\n",
        "               num_document_passes=5, \n",
        "               dictionary=batch_vectorizer.dictionary)\n",
        "\n",
        "lda.fit_offline(batch_vectorizer=batch_vectorizer, \n",
        "                num_collection_passes=10)"
      ],
      "execution_count": 53,
      "outputs": [
        {
          "output_type": "stream",
          "text": [
            "CPU times: user 35.6 s, sys: 398 ms, total: 36 s\n",
            "Wall time: 20.4 s\n"
          ],
          "name": "stdout"
        }
      ]
    },
    {
      "cell_type": "markdown",
      "metadata": {
        "id": "j4kYzUFDf6Mt"
      },
      "source": [
        "- __fit_offline__ (офлайн алгоритм): много проходов по коллекции, один проход по документу, одно обновление матрицы $\\Phi$ в конце прохода по коллекции. __Лучше использовать при работе с небольшой коллекцией__.\n",
        "\n",
        "\n",
        "- __fit_online__ (онлайн алгоритм) : один проход по коллекции, несколько проходов по документу, несколько обновлений матрицы $\\Phi$ в конце прохода по коллекции. __Лучше использовать при работе с большой коллекцией, или коллекцией с часто меняющимеся темами.__\n",
        "\n",
        "\n",
        "\n",
        "Можем посмотреть на все значения перплексии (для каждой итерации по коллекции из num_collection_passes=10):"
      ]
    },
    {
      "cell_type": "code",
      "metadata": {
        "colab": {
          "base_uri": "https://localhost:8080/"
        },
        "id": "kkkePEE1f6Mt",
        "outputId": "9c2e7836-3622-43bb-9a71-f97d1beda3be"
      },
      "source": [
        "lda.perplexity_value"
      ],
      "execution_count": 54,
      "outputs": [
        {
          "output_type": "execute_result",
          "data": {
            "text/plain": [
              "[51007.0859375,\n",
              " 4777.2099609375,\n",
              " 4436.21435546875,\n",
              " 3948.54150390625,\n",
              " 3541.04541015625,\n",
              " 3267.22607421875,\n",
              " 3087.892333984375,\n",
              " 2961.604736328125,\n",
              " 2866.994140625,\n",
              " 2794.8203125]"
            ]
          },
          "metadata": {
            "tags": []
          },
          "execution_count": 54
        }
      ]
    },
    {
      "cell_type": "code",
      "metadata": {
        "colab": {
          "base_uri": "https://localhost:8080/"
        },
        "id": "laV9v0Azf6Mt",
        "outputId": "d741ea74-ef07-44a9-c485-1422a2cbe158"
      },
      "source": [
        "np.log(lda.perplexity_last_value)"
      ],
      "execution_count": 55,
      "outputs": [
        {
          "output_type": "execute_result",
          "data": {
            "text/plain": [
              "7.9355230946138136"
            ]
          },
          "metadata": {
            "tags": []
          },
          "execution_count": 55
        }
      ]
    },
    {
      "cell_type": "markdown",
      "metadata": {
        "id": "YiKmyFusf6Mt"
      },
      "source": [
        "Посмотрим на топ-10 токенов для каждой из тем:"
      ]
    },
    {
      "cell_type": "code",
      "metadata": {
        "colab": {
          "base_uri": "https://localhost:8080/"
        },
        "id": "nZym72AXf6Mt",
        "outputId": "7fb13b0d-82b0-4c51-c8f2-ae648c250180"
      },
      "source": [
        "top_tokens = lda.get_top_tokens(num_tokens=10)\n",
        "for i, token_list in enumerate(top_tokens):\n",
        "     print ('Topic #{0}: {1}'.format(i, token_list))"
      ],
      "execution_count": 56,
      "outputs": [
        {
          "output_type": "stream",
          "text": [
            "Topic #0: ['год', 'это', 'процент', 'который', 'учёный', 'мочь', 'работа', 'система', 'исследование', 'свой']\n",
            "Topic #1: ['год', 'матч', 'клуб', 'команда', 'это', 'сборная', 'который', 'чемпионат', 'свой', 'тренер']\n",
            "Topic #2: ['который', 'человек', 'свой', 'москва', 'слово', 'акция', 'это', 'также', 'сообщать', 'заявить']\n",
            "Topic #3: ['матч', 'мир', 'российский', 'который', 'это', 'первый', 'россия', 'чемпионат', 'год', 'сборная']\n",
            "Topic #4: ['россия', 'год', 'это', 'российский', 'президент', 'заявить', 'глава', 'который', 'страна', 'решение']\n",
            "Topic #5: ['это', 'россия', 'задержать', 'который', 'сообщать', 'дело', 'военный', 'область', 'самолёт', 'также']\n",
            "Topic #6: ['суд', 'год', 'дело', 'который', 'это', 'свой', 'бывший', 'адвокат', 'решение', 'рубль']\n",
            "Topic #7: ['это', 'человек', 'произойти', 'город', 'сообщать', 'который', 'дом', 'год', 'место', 'результат']\n",
            "Topic #8: ['год', 'который', 'это', 'россия', 'тысяча', 'сообщать', 'время', 'стать', 'всё', 'человек']\n",
            "Topic #9: ['год', 'компания', 'который', 'новый', 'проект', 'также', 'доллар', 'игра', 'первый', 'это']\n"
          ],
          "name": "stdout"
        }
      ]
    },
    {
      "cell_type": "markdown",
      "metadata": {
        "id": "kHrLmqZFf6Mt"
      },
      "source": [
        "[Более подробный ноутбук про модель LDA](https://github.com/bigartm/bigartm-book/blob/master/LDA_tutorial_RU.ipynb)\n",
        "\n",
        "Теперь построим базовую модель pLSA:"
      ]
    },
    {
      "cell_type": "code",
      "metadata": {
        "id": "cgXcR8rgf6Mt"
      },
      "source": [
        "plsa = artm.ARTM(num_topics=10, \n",
        "                 dictionary=batch_vectorizer.dictionary)"
      ],
      "execution_count": 57,
      "outputs": []
    },
    {
      "cell_type": "markdown",
      "metadata": {
        "id": "mbQ9l4y5f6Mt"
      },
      "source": [
        "Добавим расчет перплексии:"
      ]
    },
    {
      "cell_type": "code",
      "metadata": {
        "id": "0IT6E3ENf6Mt"
      },
      "source": [
        "plsa.scores.add(artm.PerplexityScore(name='lenta_perplexity_score',\n",
        "                 dictionary=batch_vectorizer.dictionary))"
      ],
      "execution_count": 58,
      "outputs": []
    },
    {
      "cell_type": "markdown",
      "metadata": {
        "id": "pf8YEEonf6Mt"
      },
      "source": [
        "И TopTokensScore, чтобы взглянуть на самые вероятные слова в каждой теме:"
      ]
    },
    {
      "cell_type": "code",
      "metadata": {
        "id": "bhf_Qvo5f6Mt"
      },
      "source": [
        "plsa.scores.add(artm.TopTokensScore(name='TopTokensScore', num_tokens=6))"
      ],
      "execution_count": 59,
      "outputs": []
    },
    {
      "cell_type": "code",
      "metadata": {
        "id": "XBxu1x6lf6Mt"
      },
      "source": [
        "plsa.fit_offline(batch_vectorizer=batch_vectorizer,\n",
        "                 num_collection_passes=20)"
      ],
      "execution_count": 60,
      "outputs": []
    },
    {
      "cell_type": "code",
      "metadata": {
        "colab": {
          "base_uri": "https://localhost:8080/"
        },
        "id": "_Dk3ryOFf6Mu",
        "outputId": "599c6a9c-7160-4413-f80f-59c0e9438ed9"
      },
      "source": [
        "plsa.score_tracker['lenta_perplexity_score'].value"
      ],
      "execution_count": 61,
      "outputs": [
        {
          "output_type": "execute_result",
          "data": {
            "text/plain": [
              "[50449.390625,\n",
              " 4637.52734375,\n",
              " 4134.5947265625,\n",
              " 3604.412353515625,\n",
              " 3258.26513671875,\n",
              " 3048.574951171875,\n",
              " 2908.73046875,\n",
              " 2810.141357421875,\n",
              " 2739.087158203125,\n",
              " 2687.734375,\n",
              " 2649.958251953125,\n",
              " 2620.78955078125,\n",
              " 2598.06396484375,\n",
              " 2579.970703125,\n",
              " 2565.2509765625,\n",
              " 2552.995849609375,\n",
              " 2542.600830078125,\n",
              " 2533.384033203125,\n",
              " 2525.39892578125,\n",
              " 2518.577392578125]"
            ]
          },
          "metadata": {
            "tags": []
          },
          "execution_count": 61
        }
      ]
    },
    {
      "cell_type": "code",
      "metadata": {
        "colab": {
          "base_uri": "https://localhost:8080/"
        },
        "id": "EBCgiEyYf6Mu",
        "outputId": "7442d3db-7948-492c-be5e-7f2ad05b9ce2"
      },
      "source": [
        "for topic_name in plsa.topic_names:\n",
        "    print (topic_name + ': ', plsa.score_tracker['TopTokensScore'].last_tokens[topic_name])"
      ],
      "execution_count": 62,
      "outputs": [
        {
          "output_type": "stream",
          "text": [
            "topic_0:  ['который', 'учёный', 'год', 'это', 'мочь', 'исследование']\n",
            "topic_1:  ['матч', 'команда', 'клуб', 'сборная', 'год', 'чемпионат']\n",
            "topic_2:  ['который', 'это', 'свой', 'человек', 'акция', 'слово']\n",
            "topic_3:  ['мир', 'год', 'российский', 'это', 'который', 'победа']\n",
            "topic_4:  ['россия', 'президент', 'это', 'год', 'российский', 'глава']\n",
            "topic_5:  ['военный', 'самолёт', 'россия', 'который', 'год', 'сообщать']\n",
            "topic_6:  ['год', 'дело', 'суд', 'который', 'это', 'рубль']\n",
            "topic_7:  ['человек', 'произойти', 'сообщать', 'это', 'который', 'дом']\n",
            "topic_8:  ['год', 'который', 'это', 'свой', 'the', 'тысяча']\n",
            "topic_9:  ['год', 'компания', 'который', 'новый', 'это', 'игра']\n"
          ],
          "name": "stdout"
        }
      ]
    },
    {
      "cell_type": "markdown",
      "metadata": {
        "id": "w8z5zA1Cf6Mu"
      },
      "source": [
        "Обратите внимание на слова с заглавной буквы: это поле topic из оригинальных данных.\n",
        "\n",
        "Попробуем удалить из словаря слишком редкие и слишком частые токены:"
      ]
    },
    {
      "cell_type": "code",
      "metadata": {
        "colab": {
          "base_uri": "https://localhost:8080/"
        },
        "id": "VBd4w7JSf6Mu",
        "outputId": "afc1f51e-a3e5-4a85-aa3a-9257a0664429"
      },
      "source": [
        "batch_vectorizer.dictionary.filter(min_tf=10, max_tf=5000)"
      ],
      "execution_count": 63,
      "outputs": [
        {
          "output_type": "execute_result",
          "data": {
            "text/plain": [
              "artm.Dictionary(name=0ab70044-fc05-4262-a7a3-4c98ebe27132, num_entries=11334)"
            ]
          },
          "metadata": {
            "tags": []
          },
          "execution_count": 63
        }
      ]
    },
    {
      "cell_type": "code",
      "metadata": {
        "id": "FBo7BaTVf6Mu"
      },
      "source": [
        "plsa = artm.ARTM(num_topics=10, \n",
        "                 dictionary=batch_vectorizer.dictionary)\n",
        "plsa.scores.add(artm.PerplexityScore(name='lenta_perplexity_score',\n",
        "                dictionary=batch_vectorizer.dictionary))\n",
        "\n",
        "plsa.scores.add(artm.TopTokensScore(name='TopTokensScore', \n",
        "                                    num_tokens=6))\n",
        "plsa.fit_offline(batch_vectorizer=batch_vectorizer, \n",
        "                 num_collection_passes=20)"
      ],
      "execution_count": 64,
      "outputs": []
    },
    {
      "cell_type": "code",
      "metadata": {
        "colab": {
          "base_uri": "https://localhost:8080/"
        },
        "id": "16bIWNagf6Mu",
        "outputId": "3c4d0f63-5b23-41d2-f868-fe169e0cc2d6"
      },
      "source": [
        "plsa.score_tracker['lenta_perplexity_score'].value"
      ],
      "execution_count": 65,
      "outputs": [
        {
          "output_type": "execute_result",
          "data": {
            "text/plain": [
              "[2883.905517578125,\n",
              " 1080.8826904296875,\n",
              " 991.96826171875,\n",
              " 880.0733032226562,\n",
              " 800.5048217773438,\n",
              " 750.4404907226562,\n",
              " 716.0914916992188,\n",
              " 691.3729858398438,\n",
              " 673.613525390625,\n",
              " 661.4424438476562,\n",
              " 653.5435791015625,\n",
              " 648.3710327148438,\n",
              " 644.92138671875,\n",
              " 642.5337524414062,\n",
              " 640.8209838867188,\n",
              " 639.505859375,\n",
              " 638.4454956054688,\n",
              " 637.5762939453125,\n",
              " 636.8831787109375,\n",
              " 636.3275756835938]"
            ]
          },
          "metadata": {
            "tags": []
          },
          "execution_count": 65
        }
      ]
    },
    {
      "cell_type": "markdown",
      "metadata": {
        "id": "fzwXz8LKf6Mu"
      },
      "source": [
        "Стало заметно лучше :)"
      ]
    },
    {
      "cell_type": "code",
      "metadata": {
        "colab": {
          "base_uri": "https://localhost:8080/"
        },
        "id": "7JBLpHarf6Mu",
        "outputId": "b78c5a1b-2e4e-4de4-b088-6a72d9d3c3e3"
      },
      "source": [
        "for topic_name in plsa.topic_names:\n",
        "    print (topic_name + ': ', plsa.score_tracker['TopTokensScore'].last_tokens[topic_name])"
      ],
      "execution_count": 66,
      "outputs": [
        {
          "output_type": "stream",
          "text": [
            "topic_0:  ['учёный', 'мочь', 'исследование', 'работа', 'время', 'новый']\n",
            "topic_1:  ['матч', 'команда', 'клуб', 'сборная', 'чемпионат', 'счёт']\n",
            "topic_2:  ['москва', 'человек', 'акция', 'слово', 'заявить', 'сайт']\n",
            "topic_3:  ['мир', 'российский', 'первый', 'турнир', 'место', 'победа']\n",
            "topic_4:  ['президент', 'глава', 'заявить', 'российский', 'путин', 'владимир']\n",
            "topic_5:  ['военный', 'самолёт', 'российский', 'время', 'новый', 'сша']\n",
            "topic_6:  ['дело', 'суд', 'рубль', 'уголовный', 'следствие', 'обвинение']\n",
            "topic_7:  ['человек', 'произойти', 'район', 'сотрудник', 'погибнуть', 'данные']\n",
            "topic_8:  ['летний', 'женщина', 'ребёнок', 'время', 'the', 'стать']\n",
            "topic_9:  ['компания', 'игра', 'пользователь', 'новый', 'миллион', 'процент']\n"
          ],
          "name": "stdout"
        }
      ]
    },
    {
      "cell_type": "markdown",
      "metadata": {
        "id": "0oSBjFc7f6Mu"
      },
      "source": [
        "__Мультимодальные модели__\n",
        "\n",
        "В библиотеке ARTM можно обучать мультимодальные модели, например, давайте попробуем обучить модель, которая будет учитывать поле topic из наших данных (мы специально записали его отдельно через | )"
      ]
    },
    {
      "cell_type": "code",
      "metadata": {
        "id": "4QmJ14iCf6Mu"
      },
      "source": [
        "# описываем модель и задаем веса классов\n",
        "martm = artm.ARTM(num_topics=20,\n",
        "                  class_ids={'@default_class': 1.0, '@topic': 5.0}, \n",
        "                  dictionary=batch_vectorizer.dictionary)"
      ],
      "execution_count": 67,
      "outputs": []
    },
    {
      "cell_type": "markdown",
      "metadata": {
        "id": "Tt7Uz87Nf6Mu"
      },
      "source": [
        "Добавим расчет метрик и регуляризаторы:"
      ]
    },
    {
      "cell_type": "code",
      "metadata": {
        "id": "vuLYKnnbf6Mu"
      },
      "source": [
        "martm.scores.add(artm.SparsityPhiScore(name='sparsity_phi_score',\n",
        "                                       class_id='@topic'))\n",
        "\n",
        "martm.scores.add(artm.TopTokensScore(name='TopTokensScore',\n",
        "                                     num_tokens=6))\n",
        "\n",
        "\n",
        "martm.scores.add(artm.PerplexityScore(name='lenta_perplexity_score',\n",
        "                dictionary=batch_vectorizer.dictionary))\n",
        "\n",
        "martm.regularizers.add(artm.DecorrelatorPhiRegularizer(name='decorrelator_phi_def',\n",
        "                    class_ids=['@default_class']))\n",
        "\n",
        "martm.regularizers.add(artm.DecorrelatorPhiRegularizer(name='decorrelator_phi_lab',\n",
        "                        class_ids=['@topic']))"
      ],
      "execution_count": 68,
      "outputs": []
    },
    {
      "cell_type": "code",
      "metadata": {
        "id": "O86jl9k-f6Mu"
      },
      "source": [
        "martm.fit_offline(batch_vectorizer=batch_vectorizer, \n",
        "                  num_collection_passes=10)"
      ],
      "execution_count": 69,
      "outputs": []
    },
    {
      "cell_type": "code",
      "metadata": {
        "colab": {
          "base_uri": "https://localhost:8080/"
        },
        "id": "UUgIM5Rwf6Mu",
        "outputId": "37cd79a3-a442-4335-d162-bf21077df552"
      },
      "source": [
        "martm.score_tracker['lenta_perplexity_score'].value"
      ],
      "execution_count": 70,
      "outputs": [
        {
          "output_type": "execute_result",
          "data": {
            "text/plain": [
              "[3085.337890625,\n",
              " 1133.642578125,\n",
              " 1001.45068359375,\n",
              " 841.2515258789062,\n",
              " 741.8577270507812,\n",
              " 686.814208984375,\n",
              " 655.4490356445312,\n",
              " 635.9358520507812,\n",
              " 622.9281616210938,\n",
              " 613.8133544921875]"
            ]
          },
          "metadata": {
            "tags": []
          },
          "execution_count": 70
        }
      ]
    },
    {
      "cell_type": "code",
      "metadata": {
        "colab": {
          "base_uri": "https://localhost:8080/"
        },
        "id": "DytAIn1Bf6Mv",
        "outputId": "098229ed-5eb3-4169-a290-3789c70cf8c6"
      },
      "source": [
        "for topic_name in martm.topic_names:\n",
        "    print (topic_name + ': ', martm.score_tracker['TopTokensScore'].last_tokens[topic_name])"
      ],
      "execution_count": 71,
      "outputs": [
        {
          "output_type": "stream",
          "text": [
            "topic_0:  ['учёный', 'мочь', 'исследование', 'новый', 'работа', 'время']\n",
            "topic_1:  ['клуб', 'матч', 'команда', 'сборная', 'чемпионат', 'тренер']\n",
            "topic_2:  ['человек', 'ребёнок', 'процент', 'слово', 'весь', 'женщина']\n",
            "topic_3:  ['российский', 'страна', 'международный', 'сша', 'президент', 'заявить']\n",
            "topic_4:  ['закон', 'российский', 'организация', 'документ', 'заявить', 'страна']\n",
            "topic_5:  ['самолёт', 'военный', 'ракета', 'вертолёт', 'новый', 'оборона']\n",
            "topic_6:  ['игра', 'проект', 'новый', 'выйти', 'фильм', 'первый']\n",
            "topic_7:  ['произойти', 'человек', 'пострадать', 'москва', 'находиться', 'город']\n",
            "topic_8:  ['тысяча', 'деньга', 'летний', 'издание', 'газета', 'полиция']\n",
            "topic_9:  ['президент', 'путин', 'владимир', 'глава', 'заявить', 'слово']\n",
            "topic_10:  ['суд', 'дело', 'рубль', 'миллион', 'решение', 'бывший']\n",
            "topic_11:  ['пользователь', 'интернет', 'сайт', 'сеть', 'опубликовать', 'сервис']\n",
            "topic_12:  ['дело', 'задержать', 'убийство', 'уголовный', 'статья', 'полиция']\n",
            "topic_13:  ['животное', 'штат', 'человек', 'город', 'время', 'стать']\n",
            "topic_14:  ['боевик', 'взрыв', 'теракт', 'сотрудник', 'орган', 'правоохранительный']\n",
            "topic_15:  ['счёт', 'матч', 'первый', 'минута', 'турнир', 'команда']\n",
            "topic_16:  ['акция', 'москва', 'митинг', 'мероприятие', 'движение', 'пройти']\n",
            "topic_17:  ['доллар', 'компания', 'миллион', 'процент', 'продажа', 'устройство']\n",
            "topic_18:  ['компания', 'рубль', 'работа', 'тысяча', 'информация', 'рынок']\n",
            "topic_19:  ['партия', 'депутат', 'выборы', 'госдума', 'единый', 'глава']\n"
          ],
          "name": "stdout"
        }
      ]
    },
    {
      "cell_type": "markdown",
      "metadata": {
        "id": "3aUbxjyBf6Mv"
      },
      "source": [
        "Сравним обычную модель pLSA и модель mARTM:"
      ]
    },
    {
      "cell_type": "code",
      "metadata": {
        "id": "SeMm9bvLf6Mv"
      },
      "source": [
        "model_plsa = artm.ARTM(topic_names=['topic_{}'.format(i) for i in range(20)],\n",
        "                       scores=[artm.PerplexityScore(name='PerplexityScore',\n",
        "                       dictionary=batch_vectorizer.dictionary)],\n",
        "                       cache_theta=True)\n",
        "\n",
        "model_martm = artm.ARTM(topic_names=['topic_{}'.format(i) for i in range(20)],\n",
        "                       scores=[artm.PerplexityScore(name='PerplexityScore',\n",
        "                       dictionary=batch_vectorizer.dictionary)],\n",
        "                       regularizers=[artm.SmoothSparseThetaRegularizer(name='SparseTheta', tau=-0.15)],\n",
        "                       cache_theta=True,\n",
        "                        class_ids={'@default_class': 1.0, '@topic': 5.0}, \n",
        "                  dictionary=batch_vectorizer.dictionary)"
      ],
      "execution_count": 72,
      "outputs": []
    },
    {
      "cell_type": "code",
      "metadata": {
        "id": "tmPLORQ9f6Mv"
      },
      "source": [
        "model_martm.scores.add(artm.SparsityPhiScore(name='SparsityPhiScore'))\n",
        "model_martm.scores.add(artm.SparsityThetaScore(name='SparsityThetaScore'))\n",
        "\n",
        "model_plsa.scores.add(artm.SparsityPhiScore(name='SparsityPhiScore'))\n",
        "model_plsa.scores.add(artm.SparsityThetaScore(name='SparsityThetaScore'))"
      ],
      "execution_count": 73,
      "outputs": []
    },
    {
      "cell_type": "code",
      "metadata": {
        "id": "4RE9fBCSf6Mv"
      },
      "source": [
        "model_plsa.initialize(dictionary=batch_vectorizer.dictionary)\n",
        "model_martm.initialize(dictionary=batch_vectorizer.dictionary)"
      ],
      "execution_count": 74,
      "outputs": []
    },
    {
      "cell_type": "code",
      "metadata": {
        "id": "BZ5Bz0CMf6Mv"
      },
      "source": [
        "model_martm.num_document_passes = 1\n",
        "model_plsa.num_document_passes = 1\n",
        "\n",
        "model_martm.fit_offline(batch_vectorizer=batch_vectorizer, \n",
        "                        num_collection_passes=20)\n",
        "model_plsa.fit_offline(batch_vectorizer=batch_vectorizer,\n",
        "                       num_collection_passes=20)"
      ],
      "execution_count": 75,
      "outputs": []
    },
    {
      "cell_type": "code",
      "metadata": {
        "colab": {
          "base_uri": "https://localhost:8080/",
          "height": 296
        },
        "id": "AzT23VFyjKMd",
        "outputId": "b5bc6d81-0dce-4d8b-b111-bb8b7bd0c547"
      },
      "source": [
        "import matplotlib.pyplot as plt\n",
        "\n",
        "def print_measures(model_plsa, model_martm):\n",
        "\n",
        "    print ('Perplexity: {0:.3f} (pLSA) vs. {1:.3f} (mARTM)'.format(\n",
        "        model_plsa.score_tracker['PerplexityScore'].last_value,\n",
        "        model_martm.score_tracker['PerplexityScore'].last_value))\n",
        "\n",
        "    plt.plot(range(model_plsa.num_phi_updates), model_plsa.score_tracker['PerplexityScore'].value, 'b--',\n",
        "             range(model_martm.num_phi_updates), model_martm.score_tracker['PerplexityScore'].value, 'r--', linewidth=2)\n",
        "    \n",
        "    plt.xlabel('Iterations count')\n",
        "    plt.ylabel('pLSA perp. (blue), mARTM perp. (red)')\n",
        "    plt.grid(True)\n",
        "    plt.show()\n",
        "    \n",
        "print_measures(model_plsa, model_martm)"
      ],
      "execution_count": 76,
      "outputs": [
        {
          "output_type": "stream",
          "text": [
            "Perplexity: 781.147 (pLSA) vs. 822.612 (mARTM)\n"
          ],
          "name": "stdout"
        },
        {
          "output_type": "display_data",
          "data": {
            "image/png": "[encoded data removed]",
            "text/plain": [
              "<Figure size 432x288 with 1 Axes>"
            ]
          },
          "metadata": {
            "tags": [],
            "needs_background": "light"
          }
        }
      ]
    }
  ]
}